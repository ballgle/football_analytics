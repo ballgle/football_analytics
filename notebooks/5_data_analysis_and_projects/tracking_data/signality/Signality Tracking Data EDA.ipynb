{
 "cells": [
  {
   "cell_type": "markdown",
   "metadata": {},
   "source": [
    "<a id='top'></a>"
   ]
  },
  {
   "cell_type": "markdown",
   "metadata": {},
   "source": [
    "# Signality Tracking Data Exploratory Data Analysis\n",
    "##### Notebook to explores three matches of Tracking data from the Allsvenskan provided by [Signality](https://www.signality.com/).\n",
    "\n",
    "### By [Edd Webster](https://www.twitter.com/eddwebster)\n",
    "Notebook first written: 17/01/2020<br>\n",
    "Notebook last updated: 31/01/2021\n",
    "\n",
    "![title](../../../../img/signality_screenshot.png)"
   ]
  },
  {
   "cell_type": "markdown",
   "metadata": {},
   "source": [
    "---\n",
    "\n",
    "## <a id='import_libraries'>Introduction</a>\n",
    "This notebook is a short Exploratory Data Analysis (EDA) of [Signality](https://www.signality.com/) Tracking data with [Python](https://www.python.org/) using [pandas](http://pandas.pydata.org/) DataFrames and [matplotlib](https://matplotlib.org/contents.html?v=20200411155018) visualisations.\n",
    "\n",
    "For more information about this notebook and the author, I'm available through all the following channels:\n",
    "*    [eddwebster.com](https://www.eddwebster.com/);\n",
    "*    edd.j.webster@gmail.com;\n",
    "*    [@eddwebster](https://www.twitter.com/eddwebster);\n",
    "*    [linkedin.com/in/eddwebster](https://www.linkedin.com/in/eddwebster/);\n",
    "*    [github/eddwebster](https://github.com/eddwebster/);\n",
    "*    [public.tableau.com/profile/edd.webster](https://public.tableau.com/profile/edd.webster);\n",
    "*    [kaggle.com/eddwebster](https://www.kaggle.com/eddwebster); and\n",
    "*    [hackerrank.com/eddwebster](https://www.hackerrank.com/eddwebster).\n",
    "\n",
    "![title](../../../../img/fifa21eddwebsterbanner.png)\n",
    "\n",
    "The accompanying GitHub repository for this notebook can be found [here](https://github.com/eddwebster/football_analytics) and a static version of this notebook can be found [here](https://nbviewer.jupyter.org/github/eddwebster/football_analytics/blob/master/notebooks/A%29%20Web%20Scraping/TransferMarkt%20Web%20Scraping%20and%20Parsing.ipynb)."
   ]
  },
  {
   "cell_type": "markdown",
   "metadata": {},
   "source": [
    "___\n",
    "\n",
    "<a id='sectioncontents'></a>"
   ]
  },
  {
   "cell_type": "markdown",
   "metadata": {},
   "source": [
    "## <a id='notebook_contents'>Notebook Contents</a>\n",
    "1.    [Notebook Dependencies](#section1)<br>\n",
    "2.    [Project Brief](#section2)<br>\n",
    "3.    [Data Sources](#section3)<br>\n",
    "      1.    [Introduction](#section3.1)<br>\n",
    "      2.    [Data Dictionary](#section3.2)<br>\n",
    "      3.    [Creating the DataFrame](#section3.3)<br>\n",
    "      4.    [Initial Data Handling](#section3.4)<br>\n",
    "      5.    [Export the Raw DataFrame](#section3.5)<br>         \n",
    "4.    [Data Engineering](#section4)<br>\n",
    "      1.    [Introduction](#section4.1)<br>\n",
    "      2.    [Columns of Interest](#section4.2)<br>\n",
    "      3.    [String Cleaning](#section4.3)<br>\n",
    "      4.    [Converting Data Types](#section4.4)<br>\n",
    "      5.    [Export the Engineered DataFrame](#section4.5)<br>\n",
    "5.    [Exploratory Data Analysis (EDA)](#section5)<br>\n",
    "      1.    [...](#section5.1)<br>\n",
    "      2.    [...](#section5.2)<br>\n",
    "      3.    [...](#section5.3)<br>\n",
    "6.    [Summary](#section6)<br>\n",
    "7.    [Next Steps](#section7)<br>\n",
    "8.    [Bibliography](#section8)<br>"
   ]
  },
  {
   "cell_type": "markdown",
   "metadata": {},
   "source": [
    "---\n",
    "\n",
    "## <a id='#section1'>1. Notebook Dependencies</a>"
   ]
  },
  {
   "cell_type": "markdown",
   "metadata": {},
   "source": [
    "This notebook was written using [Python 3](https://docs.python.org/3.7/) and requires the following libraries:\n",
    "*    [`Jupyter notebooks`](https://jupyter.org/) for this notebook environment with which this project is presented;\n",
    "*    [`NumPy`](http://www.numpy.org/) for multidimensional array computing;\n",
    "*    [`pandas`](http://pandas.pydata.org/) for data analysis and manipulation;\n",
    "*    [`Beautifulsoup`](https://pypi.org/project/beautifulsoup4/) for web scraping; and\n",
    "*    [`matplotlib`](https://matplotlib.org/contents.html?v=20200411155018) for data visualisations;\n",
    "\n",
    "All packages used for this notebook except for BeautifulSoup can be obtained by downloading and installing the [Conda](https://anaconda.org/anaconda/conda) distribution, available on all platforms (Windows, Linux and Mac OSX). Step-by-step guides on how to install Anaconda can be found for Windows [here](https://medium.com/@GalarnykMichael/install-python-on-windows-anaconda-c63c7c3d1444) and Mac [here](https://medium.com/@GalarnykMichael/install-python-on-mac-anaconda-ccd9f2014072), as well as in the Anaconda documentation itself [here](https://docs.anaconda.com/anaconda/install/)."
   ]
  },
  {
   "cell_type": "markdown",
   "metadata": {},
   "source": [
    "### Import Libraries and Modules"
   ]
  },
  {
   "cell_type": "code",
   "execution_count": 4,
   "metadata": {},
   "outputs": [
    {
     "name": "stdout",
     "output_type": "stream",
     "text": [
      "Setup Complete\n"
     ]
    }
   ],
   "source": [
    "# Python ≥3.5 (ideally)\n",
    "import platform\n",
    "import sys, getopt\n",
    "assert sys.version_info >= (3, 5)\n",
    "import csv\n",
    "import pprint as pp\n",
    "\n",
    "# Import Dependencies\n",
    "%matplotlib inline\n",
    "\n",
    "# Math Operations\n",
    "import numpy as np\n",
    "import math\n",
    "from math import pi\n",
    "\n",
    "# Datetime\n",
    "import datetime\n",
    "from datetime import date\n",
    "import time\n",
    "\n",
    "# Data Preprocessing\n",
    "import pandas as pd\n",
    "import re\n",
    "import os\n",
    "from collections import Counter, defaultdict\n",
    "import random\n",
    "from io import BytesIO\n",
    "from pathlib import Path\n",
    "\n",
    "# Reading directories\n",
    "import glob\n",
    "import os\n",
    "from os.path import basename\n",
    "\n",
    "# Working with JSON\n",
    "import json\n",
    "from pandas.io.json import json_normalize\n",
    "\n",
    "# Data Visualisation\n",
    "import matplotlib as mpl\n",
    "import matplotlib.pyplot as plt\n",
    "import matplotlib.animation as animation\n",
    "from matplotlib.colors import LinearSegmentedColormap\n",
    "from matplotlib import patches\n",
    "import seaborn as sns\n",
    "plt.style.use('seaborn-whitegrid')\n",
    "import missingno as msno\n",
    "import moviepy.editor as mpy\n",
    "from moviepy.video.io.bindings import mplfig_to_npimage\n",
    "\n",
    "# Progress Bar\n",
    "from tqdm import tqdm\n",
    "\n",
    "# Fran Peralta's custom libraries for working with Signality data\n",
    "from Libraries import Functions_PreprocessTrackingData as funcs\n",
    "from Libraries import Dictionaries as dicts\n",
    "\n",
    "# ML libraries\n",
    "import scipy.signal as signal\n",
    "from scipy.spatial import Voronoi, voronoi_plot_2d, Delaunay\n",
    "\n",
    "# Display in Jupyter\n",
    "from IPython.display import Image, Video, YouTubeVideo\n",
    "from IPython.core.display import HTML\n",
    "\n",
    "# Ignore Warnings\n",
    "import warnings\n",
    "warnings.filterwarnings(\"ignore\", category=UserWarning)\n",
    "\n",
    "print('Setup Complete')"
   ]
  },
  {
   "cell_type": "code",
   "execution_count": 5,
   "metadata": {},
   "outputs": [
    {
     "name": "stdout",
     "output_type": "stream",
     "text": [
      "Python: 3.7.6\n",
      "NumPy: 1.18.0\n",
      "pandas: 1.2.0\n",
      "matplotlib: 3.3.2\n",
      "Seaborn: 0.11.1\n"
     ]
    }
   ],
   "source": [
    "# Python / module versions used here for reference\n",
    "print('Python: {}'.format(platform.python_version()))\n",
    "print('NumPy: {}'.format(np.__version__))\n",
    "print('pandas: {}'.format(pd.__version__))\n",
    "print('matplotlib: {}'.format(mpl.__version__))\n",
    "print('Seaborn: {}'.format(sns.__version__))"
   ]
  },
  {
   "cell_type": "markdown",
   "metadata": {},
   "source": [
    "### Defined Filepaths"
   ]
  },
  {
   "cell_type": "code",
   "execution_count": 6,
   "metadata": {},
   "outputs": [],
   "source": [
    "# Set up initial paths to subfolders\n",
    "base_dir = os.path.join('..', '..', '..', '..')\n",
    "data_dir = os.path.join(base_dir, 'data')\n",
    "data_dir_metrica = os.path.join(base_dir, 'data', 'metrica')\n",
    "data_dir_signality = os.path.join(base_dir, 'data', 'signality')\n",
    "data_dir_signality_tracking = os.path.join(base_dir, 'data', 'signality', 'raw', '2019', 'tracking_data')\n",
    "scripts_dir = os.path.join(base_dir, 'scripts')\n",
    "scripts_dir_signality = os.path.join(base_dir, 'scripts', 'signality')\n",
    "scripts_dir_metrica = os.path.join(base_dir, 'scripts', 'metrica')\n",
    "img_dir = os.path.join(base_dir, 'img')\n",
    "fig_dir = os.path.join(base_dir, 'img', 'fig')\n",
    "fig_dir_signality = os.path.join(base_dir, 'img', 'fig', 'signality')\n",
    "video_dir = os.path.join(base_dir, 'video')\n",
    "video_dir_signality = os.path.join(base_dir, 'video', 'signality')"
   ]
  },
  {
   "cell_type": "markdown",
   "metadata": {},
   "source": [
    "### Defined Variables"
   ]
  },
  {
   "cell_type": "code",
   "execution_count": 7,
   "metadata": {},
   "outputs": [],
   "source": [
    "# Define today's date\n",
    "today = datetime.datetime.now().strftime('%d/%m/%Y').replace('/', '')\n",
    "\n",
    "# Define pitch dimensions\n",
    "pitch_length = 106.0\n",
    "pitch_width = 68"
   ]
  },
  {
   "cell_type": "code",
   "execution_count": 8,
   "metadata": {},
   "outputs": [],
   "source": [
    "# Team colours\n",
    "color_hammarby = 'g'\n",
    "color_elfsborg = 'y'\n",
    "color_malmo = 'b'\n",
    "color_orebro = 'k'"
   ]
  },
  {
   "cell_type": "markdown",
   "metadata": {},
   "source": [
    "### Custom Libraries for Tracking Data"
   ]
  },
  {
   "cell_type": "code",
   "execution_count": null,
   "metadata": {},
   "outputs": [],
   "source": [
    "# Custom libraries for working with Signality data based on Laurie Shaw's Metric Sports libraries for Metrica Sports data\n",
    "\n",
    "## Define path of scripts\n",
    "sys.path.insert(0, os.path.abspath(scripts_dir))\n",
    "\n",
    "## Signality scripts - custom scripts derived from Laurie Shaw's Metrica scripts\n",
    "import Signality_IO as sio\n",
    "import Signality_Viz as sviz\n",
    "import Signality_Velocities as svel\n",
    "import Signality_PitchControl as spc\n",
    "import Signality_EPV as sepv\n",
    "\n",
    "## Laurie Shaw's custom libraries for working with Metrica Sports data\n",
    "import Metrica_IO as mio\n",
    "import Metrica_Viz as mviz\n",
    "import Metrica_Velocities as mvel\n",
    "import Metrica_PitchControl as mpc\n",
    "import Metrica_EPV as mepv"
   ]
  },
  {
   "cell_type": "markdown",
   "metadata": {},
   "source": [
    "### Notebook Settings"
   ]
  },
  {
   "cell_type": "code",
   "execution_count": 9,
   "metadata": {},
   "outputs": [],
   "source": [
    "pd.set_option('display.max_columns', None)"
   ]
  },
  {
   "cell_type": "markdown",
   "metadata": {},
   "source": [
    "---\n",
    "\n",
    "## <a id='#section2'>2. Project Brief</a>\n",
    "This Jupyter notebook engineered scraped football data from [Signality](https://www.signality.com/) using [pandas](http://pandas.pydata.org/) for data manipulation through DataFrames, [matplotlib]() for plotting, [scipy]() for Machine Learning.\n",
    "\n",
    "The data of player values produced in this notebook is exported to CSV. This data can be further analysed in Python, joined to other datasets, or explored using dashboarding tools such as Tableau or PowerBI, or explores in a spreadsheet such as Microsoft Excel or Google Sheets."
   ]
  },
  {
   "cell_type": "markdown",
   "metadata": {},
   "source": [
    "---\n",
    "\n",
    "## <a id='#section3'>3. Data Sources</a>\n",
    "[Signality](https://www.signality.com/) is a...\n",
    "\n",
    "![title](../../../../img/signality_logo.png)\n",
    "\n",
    "The tracking data represents the location of every player on the pitch with a temporal frequency of 25 Hz and the corresponding match time for each tracking frame is specified.\n",
    "\n",
    "Before conducting our EDA, the data needs to be imported as a DataFrame in the Data Sources section [Section 3](#section3) and cleaned in the Data Engineering section [Section 4](#section4).\n",
    "\n",
    "\n",
    "We'll be using the [pandas](http://pandas.pydata.org/) library to import our data to this workbook as a DataFrame."
   ]
  },
  {
   "cell_type": "markdown",
   "metadata": {},
   "source": [
    "### <a id='#section3.2.1'>3.2.1. Data Dictionaries</a>\n",
    "The [Signality](https://www.signality.com/) Events dataset has fourteen features (columns) with the following definitions and data types:\n",
    "\n",
    "| Feature     | Data type    |\n",
    "|------|-----|\n",
    "| `Team`    | object     |\n",
    "| `Type`    | object     |\n",
    "| `Subtype`    | object     |\n",
    "| `Period`    | int64     |\n",
    "| `Start Frame `    | int64     |\n",
    "| `Start Time [s]`    | float64     |\n",
    "| `End Frame`    | int64     |\n",
    "| `End Time [s]`    | float64     |\n",
    "| `From`    | object     |\n",
    "| `To`    | object     |\n",
    "| `Start X`    | float64     |\n",
    "| `Start Y`    | float64     |\n",
    "| `End X`    | float64     |\n",
    "| `End Y`    | float64     |\n",
    "\n",
    "For a full list of definitions, see the Metrica Sports documentation [[link](https://github.com/metrica-sports/sample-data/blob/master/documentation/events-definitions.pdf)."
   ]
  },
  {
   "cell_type": "markdown",
   "metadata": {},
   "source": [
    "### <a id='#section3.2'>3.2. Import Data</a>"
   ]
  },
  {
   "cell_type": "markdown",
   "metadata": {},
   "source": [
    "##### <a id='#section3.2.1.1'> 3.2.1.1. IF Elfsborg"
   ]
  },
  {
   "cell_type": "code",
   "execution_count": null,
   "metadata": {},
   "outputs": [],
   "source": [
    "df_tracking_elfsborg_home = pd.read_csv(data_dir_signality + '/engineered/2019/tracking_data/' + 'hammarby_elfsborg_home_22072019.csv')\n",
    "df_tracking_elfsborg_away = pd.read_csv(data_dir_signality + '/engineered/2019/tracking_data/' + 'hammarby_elfsborg_away_22072019.csv')\n",
    "df_lineup_elfsborg_home = pd.read_csv(data_dir_signality + '/engineered/2019/lineup_data/' + 'hammarby_elfsborg_home_22072019.csv')\n",
    "df_lineup_elfsborg_away = pd.read_csv(data_dir_signality + '/engineered/2019/lineup_data/' + 'hammarby_elfsborg_away_22072019.csv')"
   ]
  },
  {
   "cell_type": "markdown",
   "metadata": {},
   "source": [
    "##### <a id='#section3.2.1.2'> 3.2.1.2. Örebrö"
   ]
  },
  {
   "cell_type": "code",
   "execution_count": null,
   "metadata": {},
   "outputs": [],
   "source": [
    "df_tracking_orebro_home = pd.read_csv(data_dir_signality + '/engineered/2019/tracking_data/' + 'hammarby_orebro_home_30902019.csv')\n",
    "df_tracking_orebro_away = pd.read_csv(data_dir_signality + '/engineered/2019/tracking_data/' + 'hammarby_orebro_away_30902019.csv')\n",
    "df_lineup_orebro_home = pd.read_csv(data_dir_signality + '/engineered/2019/lineup_data/' + 'hammarby_orebro_home_30092019.csv')\n",
    "df_lineup_orebro_away = pd.read_csv(data_dir_signality + '/engineered/2019/lineup_data/' + 'hammarby_orebro_away_30092019.csv')"
   ]
  },
  {
   "cell_type": "markdown",
   "metadata": {},
   "source": [
    "##### <a id='#section3.2.1.3'> 3.2.1.3. Malmö FF"
   ]
  },
  {
   "cell_type": "code",
   "execution_count": null,
   "metadata": {},
   "outputs": [],
   "source": [
    "df_tracking_malmo_home = pd.read_csv(data_dir_signality + '/engineered/2019/tracking_data/' + 'hammarby_malmo_home_20102019.csv')\n",
    "df_tracking_malmo_away = pd.read_csv(data_dir_signality + '/engineered/2019/tracking_data/' + 'hammarby_malmo_away_20102019.csv')\n",
    "df_lineup_malmo_home = pd.read_csv(data_dir_signality + '/engineered/2019/lineup_data/' + 'hammarby_malmo_home_20102019.csv')\n",
    "df_lineup_malmo_away = pd.read_csv(data_dir_signality + '/engineered/2019/lineup_data/' + 'hammarby_malmo_away_20102019.csv')"
   ]
  },
  {
   "cell_type": "markdown",
   "metadata": {},
   "source": [
    "Data for Hammarby vs. Örebrö and Malmö FF appear to be duplicates of the IF Elfsborg match. Thee pipeline to process these files has been created, but the data is not correct."
   ]
  },
  {
   "cell_type": "markdown",
   "metadata": {},
   "source": [
    "#### <a id='#section3.2.2.'>3.2.2.  Preliminary Data Handling</a>\n",
    "Due to the number of DataFrames - Home and Away, for three different matches, the following data handling is just for one DataFrame, for the Elfberg Home (`df_tracking_elfsborg_home`)."
   ]
  },
  {
   "cell_type": "markdown",
   "metadata": {},
   "source": [
    "##### <a id='#section3.2.2.1.'>3.2.2.1. Tracking DataFrame</a>"
   ]
  },
  {
   "cell_type": "markdown",
   "metadata": {},
   "source": [
    "Let's quality of the dataset by looking first and last rows in pandas using the [head()](https://pandas.pydata.org/pandas-docs/stable/reference/api/pandas.DataFrame.head.html) and [tail()](https://pandas.pydata.org/pandas-docs/stable/reference/api/pandas.DataFrame.tail.html) methods."
   ]
  },
  {
   "cell_type": "code",
   "execution_count": null,
   "metadata": {
    "scrolled": true
   },
   "outputs": [],
   "source": [
    "# Display the first 5 rows of the raw DataFrame, df_tracking_elfsborg_home\n",
    "df_tracking_elfsborg_home.head()"
   ]
  },
  {
   "cell_type": "code",
   "execution_count": null,
   "metadata": {},
   "outputs": [],
   "source": [
    "# Display the last 5 rows of the raw DataFrame, df_tracking_elfsborg_home\n",
    "df_tracking_elfsborg_home.tail()"
   ]
  },
  {
   "cell_type": "code",
   "execution_count": null,
   "metadata": {},
   "outputs": [],
   "source": [
    "# Print the shape of the raw DataFrame, df_tracking_elfsborg_home\n",
    "print(df_tracking_elfsborg_home.shape)"
   ]
  },
  {
   "cell_type": "code",
   "execution_count": null,
   "metadata": {},
   "outputs": [],
   "source": [
    "# Print the column names of the raw DataFrame, df_tracking_elfsborg_home\n",
    "print(df_tracking_elfsborg_home.columns)"
   ]
  },
  {
   "cell_type": "markdown",
   "metadata": {},
   "source": [
    "The dataset has fourteen features (columns). Full details of these attributes can be found in the [Data Dictionary](section3.3.1)."
   ]
  },
  {
   "cell_type": "code",
   "execution_count": null,
   "metadata": {},
   "outputs": [],
   "source": [
    "# Data types of the features of the raw DataFrame, df_tracking_elfsborg_home\n",
    "df_tracking_elfsborg_home.dtypes"
   ]
  },
  {
   "cell_type": "markdown",
   "metadata": {},
   "source": [
    "All fourteen of the columns have the object data type. Full details of these attributes and their data types can be found in the [Data Dictionary](section3.3.1)."
   ]
  },
  {
   "cell_type": "code",
   "execution_count": null,
   "metadata": {},
   "outputs": [],
   "source": [
    "# Info for the raw DataFrame, df_tracking_elfsborg_home\n",
    "df_tracking_elfsborg_home.info()"
   ]
  },
  {
   "cell_type": "code",
   "execution_count": null,
   "metadata": {},
   "outputs": [],
   "source": [
    "# Description of the raw DataFrame, df_tracking_elfsborg_home showing some summary statistics for each numberical column in the DataFrame\n",
    "df_tracking_elfsborg_home.describe()"
   ]
  },
  {
   "cell_type": "code",
   "execution_count": null,
   "metadata": {
    "scrolled": true
   },
   "outputs": [],
   "source": [
    "# Plot visualisation of the missing values for each feature of the raw DataFrame, df_tracking_elfsborg_home\n",
    "msno.matrix(df_tracking_elfsborg_home, figsize = (30, 7))"
   ]
  },
  {
   "cell_type": "code",
   "execution_count": null,
   "metadata": {},
   "outputs": [],
   "source": [
    "# Counts of missing values\n",
    "null_value_stats = df_tracking_elfsborg_home.isnull().sum(axis=0)\n",
    "null_value_stats[null_value_stats != 0]"
   ]
  },
  {
   "cell_type": "markdown",
   "metadata": {},
   "source": [
    "The visualisation shows us very quickly that there a few missing values in certain columns, such as `Home_77_x` and `Home_77_y`. These are for substitutes that did not play the whole game."
   ]
  },
  {
   "cell_type": "markdown",
   "metadata": {},
   "source": [
    "##### <a id='#section3.2.2.2.'>3.2.2.2. Lineup DataFrame</a>"
   ]
  },
  {
   "cell_type": "code",
   "execution_count": null,
   "metadata": {},
   "outputs": [],
   "source": [
    "# Display the first 5 rows of the raw DataFrame, df_lineup_elfsborg_home\n",
    "df_lineup_elfsborg_home.head(18)"
   ]
  },
  {
   "cell_type": "markdown",
   "metadata": {},
   "source": [
    "---\n",
    "\n",
    "## <a id='#section5'>5. Exploratory Data Analysis</a>\n",
    "\n",
    "This Exploratory Data Analysis works through each of the three matches of Tracking data\n",
    "*    [Hammarby vs. IF Elfsborg - 22/07/2019 (5.1)](#section5.1)<br>\n",
    "*    [Hammarby 5 vs. 1 Örebrö - 30/09/2019 (5.3)](#section5.3)<br>\n",
    "*    [Hammarby vs. Malmö FF - 20/10/2019 (5.2)](#section5.2)<br>\n",
    "\n",
    "For each of these matches, this Exploratory Data Analysis does the following\n",
    "*    Determine the match facts including:\n",
    "     - Match report;\n",
    "     - Starting XI;\n",
    "     - Highlights\n",
    "*    Visualisation of the positions of the players for selected moments of play including their direction and velocity;\n",
    "*    Measuring the physical performance of players including distances ran (and what types of movement), top speeds, accelerations, runs made; and\n",
    "*    Pitch Control models."
   ]
  },
  {
   "cell_type": "markdown",
   "metadata": {},
   "source": [
    "### <a id='#section5.1'> 5.1. IF Elfsborg"
   ]
  },
  {
   "cell_type": "markdown",
   "metadata": {},
   "source": [
    "#### <a id='#section5.1.1'>5.1.1. Match Facts</a>\n",
    "Hammarby 5 vs. 2 IF Elfsborg on 22nd July 2019 [[link](https://us.soccerway.com/matches/2019/07/22/sweden/allsvenskan/hammarby/idrottsforening-elfsborg/2947255/)]"
   ]
  },
  {
   "cell_type": "markdown",
   "metadata": {},
   "source": [
    "##### <a id='#section5.1.1'>5.1.1.1. Starting XI</a>\n",
    "\n",
    "![title](../../../../img/hammarby_if_elfsborg_22072019_lineup.png)"
   ]
  },
  {
   "cell_type": "code",
   "execution_count": null,
   "metadata": {},
   "outputs": [],
   "source": [
    "# Display the DataFrame\n",
    "df_lineup_elfsborg_home.head(18)"
   ]
  },
  {
   "cell_type": "code",
   "execution_count": null,
   "metadata": {},
   "outputs": [],
   "source": [
    "# Display the DataFrame\n",
    "df_lineup_elfsborg_away.head(18)"
   ]
  },
  {
   "cell_type": "markdown",
   "metadata": {},
   "source": [
    "##### <a id='#section5.1.1.2'>5.1.1.2. Goals and Asists</a>\n",
    "*    Hammarby (5) vs. (2) IF Elfsborg\n",
    "     - Imad Khalili 18' (1-0) (assist by N. Đurđić)\n",
    "     - S. Gregersen (OG) 28' (2-0)\n",
    "     - Imad Khalili 31' (3-0) (assist by M. Tankovic)\n",
    "     - M. Tankovic 39'(4-0) (assist by N. Đurđić)\n",
    "     - P. Frick 45'+1 (4-1) (assist by J. Karlsson)\n",
    "     - J. Karlsson 47' (4-2) (assist by S. Strand)\n",
    "     - A. Kačaniklić 63' (5-2) (assist by M. Tankovic)"
   ]
  },
  {
   "cell_type": "markdown",
   "metadata": {},
   "source": [
    "##### <a id='#section5.1.1.3'>5.1.1.3. Match Highlights</a>"
   ]
  },
  {
   "cell_type": "code",
   "execution_count": 10,
   "metadata": {
    "scrolled": false
   },
   "outputs": [
    {
     "data": {
      "image/jpeg": "[encoded data removed]",
      "text/html": [
       "\n",
       "        <iframe\n",
       "            width=\"800\"\n",
       "            height=\"470\"\n",
       "            src=\"https://www.youtube.com/embed/qDSElNVs_5E\"\n",
       "            frameborder=\"0\"\n",
       "            allowfullscreen\n",
       "        ></iframe>\n",
       "        "
      ],
      "text/plain": [
       "<IPython.lib.display.YouTubeVideo at 0x121f14910>"
      ]
     },
     "execution_count": 10,
     "metadata": {},
     "output_type": "execute_result"
    }
   ],
   "source": [
    "# Embed highlights for Hammarby (5) vs. (2) IFElfsborg (22/07/2019)\n",
    "\n",
    "## YouTube link (COMMENTED OUT)\n",
    "YouTubeVideo('qDSElNVs_5E', width=800, height=470)\n",
    "\n",
    "## Local file\n",
    "#Video(video_dir_signality + '/20190722_Hammarby_IFElfsborg.mp4', width=770, height=530)"
   ]
  },
  {
   "cell_type": "markdown",
   "metadata": {},
   "source": [
    "#### <a id='#section5.1.2'>5.1.2. Visualisation of the positions of the players for selected moments of play including their direction and velocity</a>\n",
    "\n",
    "The player velocities calculation does a several things things:\n",
    "*    Where a player's speed exceeds 12 m/s (faster than the speed of Usain Bolt [[link](http://www.planet-science.com/categories/over-11s/human-body/2012/06/how-fast-is-usain-bolt.aspx#:~:text=Luckily%2C%20when%20Usain%20Bolt%20set,is%2027.44%20miles%20per%20hour!)]), this is a data collection error, and these values are set to NULL.\n",
    "*    This velocity calculation also applies the SciPy [Savitzky-Golay filter](https://docs.scipy.org/doc/scipy/reference/generated/scipy.signal.savgol_filter.html) to the data that is a moving average of the raw velocities estimates, smoothing the data."
   ]
  },
  {
   "cell_type": "markdown",
   "metadata": {},
   "source": [
    "##### <a id='#section5.1.2.1'>5.1.2.1. Kick Off"
   ]
  },
  {
   "cell_type": "code",
   "execution_count": null,
   "metadata": {
    "scrolled": false
   },
   "outputs": [],
   "source": [
    "# Visualisation of the positions of the players at with location and speed just after kick-off</a>\n",
    "\n",
    "## Define variables used in 'plot_frame' function\n",
    "frame_idx = 20\n",
    "tracking_home = df_tracking_elfsborg_home\n",
    "tracking_away = df_tracking_elfsborg_away\n",
    "color_home = color_hammarby\n",
    "color_away = color_elfsborg\n",
    "\n",
    "## Visualise player positions using plot_events function from sviz library\n",
    "fig, ax = sviz.plot_frame(tracking_home.loc[frame_idx], tracking_away.loc[frame_idx], team_colors=(color_home, color_away), include_player_velocities=True, annotate=True)\n",
    "\n",
    "## Save figure\n",
    "if not os.path.exists(fig_dir_signality + '/hammarby_if_elfsborg_22072019_kickoff.png'):\n",
    "    plt.savefig(fig_dir_signality + '/hammarby_if_elfsborg_22072019_kickoff.png', dpi=300, format='png', transparent=False, bbox_inches='tight')\n",
    "else:\n",
    "    pass"
   ]
  },
  {
   "cell_type": "markdown",
   "metadata": {},
   "source": [
    "##### <a id='#section5.1.2.2'>5.1.2.2. Visualisation of the first 60 seconds of the match</a>"
   ]
  },
  {
   "cell_type": "code",
   "execution_count": null,
   "metadata": {},
   "outputs": [],
   "source": [
    "# Plotting tracking data -  of the first 60 seconds (i.e. 60 x 90 = 1500 frames)\n",
    "\n",
    "## Define end frame for which to stop tracking player's movement\n",
    "end_frame_idx = 1_500\n",
    "\n",
    "## Define variables using in 'plot_pitch' function\n",
    "tracking_home = df_tracking_elfsborg_home\n",
    "tracking_away = df_tracking_elfsborg_away\n",
    "\n",
    "## Visualise player positions using plot_events function from sviz library\n",
    "fig, ax = sviz.plot_pitch()\n",
    "ax.plot(tracking_home['Home_25_x'].iloc[:end_frame_idx], tracking_home['Home_25_y'].iloc[:end_frame_idx], 'b.', MarkerSize=1)\n",
    "ax.plot(tracking_home['Home_2_x'].iloc[:end_frame_idx], tracking_home['Home_2_y'].iloc[:end_frame_idx], 'g.', MarkerSize=1)\n",
    "ax.plot(tracking_home['Home_4_x'].iloc[:end_frame_idx], tracking_home['Home_4_y'].iloc[:end_frame_idx], 'k.', MarkerSize=1)\n",
    "ax.plot(tracking_home['Home_5_x'].iloc[:end_frame_idx], tracking_home['Home_5_y'].iloc[:end_frame_idx], 'r.', MarkerSize=1)\n",
    "ax.plot(tracking_home['Home_3_x'].iloc[:end_frame_idx], tracking_home['Home_3_y'].iloc[:end_frame_idx], 'c.', MarkerSize=1)\n",
    "\n",
    "## Save figure\n",
    "if not os.path.exists(fig_dir_signality + '/hammarby_if_elfsborg_22072019_hammarby_backfive_first_60_seconds.png'):\n",
    "    plt.savefig(fig_dir_signality + '/hammarby_if_elfsborg_22072019_hammarby_backfive_first_60_seconds.png', dpi=300, format='png', transparent=False, bbox_inches='tight')\n",
    "else:\n",
    "    pass"
   ]
  },
  {
   "cell_type": "markdown",
   "metadata": {},
   "source": [
    "The blue line represents the goalkeeper and the four players in front are the back four."
   ]
  },
  {
   "cell_type": "markdown",
   "metadata": {},
   "source": [
    "##### <a id='#section5.1.2.3'>5.1.2.3. Hammarby's Goals"
   ]
  },
  {
   "cell_type": "markdown",
   "metadata": {},
   "source": [
    "###### Hammarby's first goal\n",
    "Imad Khalili 18' (1-0) (assist by N. Đurđić)"
   ]
  },
  {
   "cell_type": "code",
   "execution_count": null,
   "metadata": {},
   "outputs": [],
   "source": [
    "# Visualise the player's positions just before the first goal\n",
    "\n",
    "## Define end frame for which to stop tracking player's movement\n",
    "frame_idx = 26_828\n",
    "\n",
    "## Define variables used in 'plot_frame' function\n",
    "tracking_home = df_tracking_elfsborg_home\n",
    "tracking_away = df_tracking_elfsborg_away\n",
    "color_home = color_hammarby\n",
    "color_away = color_elfsborg\n",
    "\n",
    "## Visualise player positions using plot_events function from sviz library\n",
    "fig, ax = sviz.plot_frame(tracking_home.loc[frame_idx], tracking_away.loc[frame_idx], team_colors=(color_home, color_away), include_player_velocities=True, annotate=True)\n",
    "\n",
    "## Save figure\n",
    "if not os.path.exists(fig_dir_signality + '/hammarby_if_elfsborg_22072019_goal_1.png'):\n",
    "    plt.savefig(fig_dir_signality + '/hammarby_if_elfsborg_22072019_goal_1.png', dpi=300, format='png', transparent=False, bbox_inches='tight')\n",
    "else:\n",
    "    pass"
   ]
  },
  {
   "cell_type": "markdown",
   "metadata": {},
   "source": [
    "Player 3 just passed into the box to 22, 40 is making a fast run deep into the box where he will receive the ball and then give the assist"
   ]
  },
  {
   "cell_type": "code",
   "execution_count": null,
   "metadata": {},
   "outputs": [],
   "source": [
    "# Making a movie clip, very useful to find exact frames of interest\n",
    "\n",
    "## Define frames for the start and end of the goal\n",
    "frame_start = 26_600\n",
    "frame_range = 300\n",
    "\n",
    "## Define variables using in the 'save_match_clip' function\n",
    "tracking_home = df_tracking_elfsborg_home\n",
    "tracking_away = df_tracking_elfsborg_away\n",
    "color_home = color_hammarby\n",
    "color_away = color_elfsborg\n",
    "\n",
    "## Save video using save_match_clip function from sviz library\n",
    "if not os.path.exists(fig_dir_signality + '/hammarby_if_elfsborg_22072019_visualisation_goal_1.mp4'):\n",
    "    sviz.save_match_clip(tracking_home.iloc[frame_start:frame_start+frame_range], tracking_away.iloc[frame_start:frame_start+frame_range], video_dir_signality, fname='hammarby_if_elfsborg_22072019_visualisation_goal_1', team_colors=(color_home, color_away), include_player_velocities=True)\n",
    "else:\n",
    "    pass"
   ]
  },
  {
   "cell_type": "code",
   "execution_count": 11,
   "metadata": {},
   "outputs": [
    {
     "ename": "ValueError",
     "evalue": "To embed videos, you must pass embed=True (this may make your notebook files huge)\nConsider passing Video(url='...')",
     "output_type": "error",
     "traceback": [
      "\u001b[0;31m---------------------------------------------------------------------------\u001b[0m",
      "\u001b[0;31mValueError\u001b[0m                                Traceback (most recent call last)",
      "\u001b[0;32m<ipython-input-11-26e19728f55b>\u001b[0m in \u001b[0;36m<module>\u001b[0;34m\u001b[0m\n\u001b[1;32m      1\u001b[0m \u001b[0;31m# Embed Hammarby's third goal against IF Elfsborg video into the notebook\u001b[0m\u001b[0;34m\u001b[0m\u001b[0;34m\u001b[0m\u001b[0;34m\u001b[0m\u001b[0m\n\u001b[0;32m----> 2\u001b[0;31m \u001b[0mVideo\u001b[0m\u001b[0;34m(\u001b[0m\u001b[0mvideo_dir_signality\u001b[0m \u001b[0;34m+\u001b[0m \u001b[0;34m'/hammarby_if_elfsborg_22072019_visualisation_goal_1.mp4'\u001b[0m\u001b[0;34m,\u001b[0m \u001b[0mwidth\u001b[0m\u001b[0;34m=\u001b[0m\u001b[0;36m770\u001b[0m\u001b[0;34m,\u001b[0m \u001b[0mheight\u001b[0m\u001b[0;34m=\u001b[0m\u001b[0;36m530\u001b[0m\u001b[0;34m)\u001b[0m\u001b[0;34m\u001b[0m\u001b[0;34m\u001b[0m\u001b[0m\n\u001b[0m",
      "\u001b[0;32m/opt/anaconda3/lib/python3.7/site-packages/IPython/core/display.py\u001b[0m in \u001b[0;36m__init__\u001b[0;34m(self, data, url, filename, embed, mimetype, width, height, html_attributes)\u001b[0m\n\u001b[1;32m   1401\u001b[0m                 \u001b[0;34m\"Consider passing Video(url='...')\"\u001b[0m\u001b[0;34m,\u001b[0m\u001b[0;34m\u001b[0m\u001b[0;34m\u001b[0m\u001b[0m\n\u001b[1;32m   1402\u001b[0m             ])\n\u001b[0;32m-> 1403\u001b[0;31m             \u001b[0;32mraise\u001b[0m \u001b[0mValueError\u001b[0m\u001b[0;34m(\u001b[0m\u001b[0mmsg\u001b[0m\u001b[0;34m)\u001b[0m\u001b[0;34m\u001b[0m\u001b[0;34m\u001b[0m\u001b[0m\n\u001b[0m\u001b[1;32m   1404\u001b[0m \u001b[0;34m\u001b[0m\u001b[0m\n\u001b[1;32m   1405\u001b[0m         \u001b[0mself\u001b[0m\u001b[0;34m.\u001b[0m\u001b[0mmimetype\u001b[0m \u001b[0;34m=\u001b[0m \u001b[0mmimetype\u001b[0m\u001b[0;34m\u001b[0m\u001b[0;34m\u001b[0m\u001b[0m\n",
      "\u001b[0;31mValueError\u001b[0m: To embed videos, you must pass embed=True (this may make your notebook files huge)\nConsider passing Video(url='...')"
     ]
    }
   ],
   "source": [
    "# Embed Hammarby's third goal against IF Elfsborg video into the notebook\n",
    "Video(video_dir_signality + '/hammarby_if_elfsborg_22072019_visualisation_goal_1.mp4', width=770, height=530)"
   ]
  },
  {
   "cell_type": "markdown",
   "metadata": {},
   "source": [
    "#####  Hammarby's second goal\n",
    "S. Gregersen (OG) 28' (2-0)"
   ]
  },
  {
   "cell_type": "code",
   "execution_count": null,
   "metadata": {},
   "outputs": [],
   "source": [
    "# Visualise the player's positions just before the second goal\n",
    "\n",
    "## Define end frame for which to stop tracking player's movement\n",
    "frame_idx = 41_080\n",
    "\n",
    "## Define variables used in 'plot_frame' function\n",
    "tracking_home = df_tracking_elfsborg_home\n",
    "tracking_away = df_tracking_elfsborg_away\n",
    "color_home = color_hammarby\n",
    "color_away = color_elfsborg\n",
    "\n",
    "## Visualise player positions using plot_events function from sviz library\n",
    "fig, ax = sviz.plot_frame(tracking_home.loc[frame_idx], tracking_away.loc[frame_idx], team_colors=(color_home, color_away), include_player_velocities=True, annotate=True)\n",
    "\n",
    "## Save figure\n",
    "if not os.path.exists(fig_dir_signality + '/hammarby_if_elfsborg_22072019_goal_2.png'):\n",
    "    plt.savefig(fig_dir_signality + '/hammarby_if_elfsborg_22072019_goal_2.png', dpi=300, format='png', transparent=False, bbox_inches='tight')\n",
    "else:\n",
    "    pass"
   ]
  },
  {
   "cell_type": "code",
   "execution_count": null,
   "metadata": {},
   "outputs": [],
   "source": [
    "# Making a movie clip, very useful to find exact frames of interest\n",
    "\n",
    "## Define frames for the start and end of the goal\n",
    "frame_start = 40_900\n",
    "frame_range = 300\n",
    "\n",
    "## Define variables using in the 'save_match_clip' function\n",
    "tracking_home = df_tracking_elfsborg_home\n",
    "tracking_away = df_tracking_elfsborg_away\n",
    "color_home = color_hammarby\n",
    "color_away = color_elfsborg\n",
    "\n",
    "## Save video using save_match_clip function from sviz library\n",
    "if not os.path.exists(fig_dir_signality + '/hammarby_if_elfsborg_22072019_visualisation_goal_2.mp4'):\n",
    "    sviz.save_match_clip(tracking_home.iloc[frame_start:frame_start+frame_range], tracking_away.iloc[frame_start:frame_start+frame_range], video_dir_signality, fname='hammarby_if_elfsborg_22072019_visualisation_goal_2', team_colors=(color_home, color_away), include_player_velocities=True)\n",
    "else:\n",
    "    pass"
   ]
  },
  {
   "cell_type": "code",
   "execution_count": null,
   "metadata": {},
   "outputs": [],
   "source": [
    "# Embed Hammarby's second goal against IF Elfsborg video into the notebook\n",
    "Video(video_dir_signality + '/hammarby_if_elfsborg_22072019_visualisation_goal_2.mp4', width=770, height=530)"
   ]
  },
  {
   "cell_type": "markdown",
   "metadata": {},
   "source": [
    "Freekick by Hammarby leads to an own goal by Gregersen.\n",
    "\n",
    "Two issues with the data:\n",
    "1.    Ball disappearing (linear interpolation) - but don't get a feel for curve of the ball\n",
    "2.    Player from the pack darts out - you may think they'd dramatically left their defensive shape causing the exposure"
   ]
  },
  {
   "cell_type": "markdown",
   "metadata": {},
   "source": [
    "##### Hammarby's third goal\n",
    "Imad Khalili 31' (3-0) (assist by M. Tankovic)"
   ]
  },
  {
   "cell_type": "code",
   "execution_count": null,
   "metadata": {},
   "outputs": [],
   "source": [
    "# Visualise the player's positions just before the third goal\n",
    "\n",
    "## Define end frame for which to stop tracking player's movement\n",
    "frame_idx = 44_950\n",
    "\n",
    "## Define variables used in 'plot_frame' function\n",
    "tracking_home = df_tracking_elfsborg_home\n",
    "tracking_away = df_tracking_elfsborg_away\n",
    "color_home = color_hammarby\n",
    "color_away = color_elfsborg\n",
    "\n",
    "## Visualise player positions using plot_events function from sviz library\n",
    "fig, ax = sviz.plot_frame(tracking_home.loc[frame_idx], tracking_away.loc[frame_idx], team_colors=(color_home, color_away), include_player_velocities=True, annotate=True)\n",
    "\n",
    "## Save figure\n",
    "if not os.path.exists(fig_dir_signality + '/hammarby_if_elfsborg_22072019_goal_3.png'):\n",
    "    plt.savefig(fig_dir_signality + '/hammarby_if_elfsborg_22072019_goal_3.png', dpi=300, format='png', transparent=False, bbox_inches='tight')\n",
    "else:\n",
    "    pass"
   ]
  },
  {
   "cell_type": "code",
   "execution_count": null,
   "metadata": {},
   "outputs": [],
   "source": [
    "# Making a movie clip, very useful to find exact frames of interest\n",
    "\n",
    "## Define frames for the start and end of the goal\n",
    "frame_start = 44_975\n",
    "frame_range = 300\n",
    "\n",
    "## Define variables using in the 'save_match_clip' function\n",
    "tracking_home = df_tracking_elfsborg_home\n",
    "tracking_away = df_tracking_elfsborg_away\n",
    "color_home = color_hammarby\n",
    "color_away = color_elfsborg\n",
    "\n",
    "## Save video using save_match_clip function from sviz library\n",
    "if not os.path.exists(fig_dir_signality + '/hammarby_if_elfsborg_22072019_visualisation_goal_3.mp4'):\n",
    "    sviz.save_match_clip(tracking_home.iloc[frame_start:frame_start+frame_range], tracking_away.iloc[frame_start:frame_start+frame_range], video_dir_signality, fname='hammarby_if_elfsborg_22072019_visualisation_goal_3', team_colors=(color_home, color_away), include_player_velocities=True)\n",
    "else:\n",
    "    pass"
   ]
  },
  {
   "cell_type": "code",
   "execution_count": null,
   "metadata": {},
   "outputs": [],
   "source": [
    "# Embed Hammarby's third goal against IF Elfsborg video into the notebook\n",
    "Video(video_dir_signality + '/hammarby_if_elfsborg_22072019_visualisation_goal_3.mp4', width=770, height=530)"
   ]
  },
  {
   "cell_type": "markdown",
   "metadata": {},
   "source": [
    "##### Hammarby's forth goal\n",
    "M. Tankovic 39'(4-0) (assist by N. Đurđić)"
   ]
  },
  {
   "cell_type": "code",
   "execution_count": null,
   "metadata": {},
   "outputs": [],
   "source": [
    "# Making a movie clip, very useful to find exact frames of interest\n",
    "\n",
    "## Define frames for the start and end of the goal\n",
    "frame_start = 57_200\n",
    "frame_range = 400\n",
    "\n",
    "## Define variables using in the 'save_match_clip' function\n",
    "tracking_home = df_tracking_elfsborg_home\n",
    "tracking_away = df_tracking_elfsborg_away\n",
    "color_home = color_hammarby\n",
    "color_away = color_elfsborg\n",
    "\n",
    "## Save video using save_match_clip function from sviz library\n",
    "if not os.path.exists(fig_dir_signality + '/hammarby_if_elfsborg_22072019_visualisation_goal_4.mp4'):\n",
    "    sviz.save_match_clip(tracking_home.iloc[frame_start:frame_start+frame_range], tracking_away.iloc[frame_start:frame_start+frame_range], video_dir_signality, fname='hammarby_if_elfsborg_22072019_visualisation_goal_4', team_colors=(color_home, color_away), include_player_velocities=True)\n",
    "else:\n",
    "    pass"
   ]
  },
  {
   "cell_type": "code",
   "execution_count": null,
   "metadata": {},
   "outputs": [],
   "source": [
    "# Embed Hammarby's forth goal against IF Elfsborg video into the notebook\n",
    "Video(video_dir_signality + '/hammarby_if_elfsborg_22072019_visualisation_goal_4.mp4', width=770, height=530)"
   ]
  },
  {
   "cell_type": "markdown",
   "metadata": {},
   "source": [
    "Goal is scored from a Hammarby goal kick that leads to a shot from outside the box by Tankovic."
   ]
  },
  {
   "cell_type": "markdown",
   "metadata": {},
   "source": [
    "##### IF Elfsborg's first goal\n",
    "P. Frick 45'+1 (4-1) (assist by J. Karlsson)"
   ]
  },
  {
   "cell_type": "code",
   "execution_count": null,
   "metadata": {},
   "outputs": [],
   "source": [
    "# Making a movie clip, very useful to find exact frames of interest\n",
    "\n",
    "## Define frames for the start and end of the goal\n",
    "frame_start = 67_575\n",
    "frame_range = 400\n",
    "\n",
    "## Define variables using in the 'save_match_clip' function\n",
    "tracking_home = df_tracking_elfsborg_home\n",
    "tracking_away = df_tracking_elfsborg_away\n",
    "color_home = color_hammarby\n",
    "color_away = color_elfsborg\n",
    "\n",
    "\n",
    "## Save video using save_match_clip function from sviz library\n",
    "if not os.path.exists(fig_dir_signality + '/hammarby_if_elfsborg_22072019_visualisation_goal_5.mp4'):\n",
    "    sviz.save_match_clip(tracking_home.iloc[frame_start:frame_start+frame_range], tracking_away.iloc[frame_start:frame_start+frame_range], video_dir_signality, fname='hammarby_if_elfsborg_22072019_visualisation_goal_5', team_colors=(color_home, color_away), include_player_velocities=True)\n",
    "else:\n",
    "    pass"
   ]
  },
  {
   "cell_type": "code",
   "execution_count": null,
   "metadata": {},
   "outputs": [],
   "source": [
    "# Embed Elfsborg's first goal against Hammarby video into the notebook\n",
    "Video(video_dir_signality + '/hammarby_if_elfsborg_22072019_visualisation_goal_5.mp4', width=770, height=530)"
   ]
  },
  {
   "cell_type": "markdown",
   "metadata": {},
   "source": [
    "Goal for IF Elfsborg comes from a set piece"
   ]
  },
  {
   "cell_type": "markdown",
   "metadata": {},
   "source": [
    "##### IF Elfsborg's second goal\n",
    "J. Karlsson 47' (4-2) (assist by S. Strand)"
   ]
  },
  {
   "cell_type": "code",
   "execution_count": null,
   "metadata": {},
   "outputs": [],
   "source": [
    "# Making a movie clip, very useful to find exact frames of interest\n",
    "\n",
    "## Define frames for the start and end of the goal\n",
    "frame_start = 73_500\n",
    "frame_range = 5_000\n",
    "\n",
    "## Define variables using in the 'save_match_clip' function\n",
    "tracking_home = df_tracking_elfsborg_home\n",
    "tracking_away = df_tracking_elfsborg_away\n",
    "color_home = color_hammarby\n",
    "color_away = color_elfsborg\n",
    "\n",
    "## Visualise tracking data using save_match_clip function from mviz library\n",
    "sviz.save_match_clip(tracking_home.iloc[frame_start:frame_start+frame_range],tracking_away.iloc[frame_start:frame_start+frame_range], video_dir_signality, fname='hammarby_if_elfsborg_22072019_visualisation_goal_6', team_colors=(color_home, color_away), include_player_velocities=True)"
   ]
  },
  {
   "cell_type": "code",
   "execution_count": null,
   "metadata": {},
   "outputs": [],
   "source": [
    "## Save video using save_match_clip function from sviz library\n",
    "if not os.path.exists(fig_dir_signality + '/hammarby_if_elfsborg_22072019_visualisation_goal_6.mp4'):\n",
    "    sviz.save_match_clip(tracking_home.iloc[frame_start:frame_start+frame_range], tracking_away.iloc[frame_start:frame_start+frame_range], video_dir_signality, fname='hammarby_if_elfsborg_22072019_visualisation_goal_6', team_colors=(color_home, color_away), include_player_velocities=True)\n",
    "else:\n",
    "    pass"
   ]
  },
  {
   "cell_type": "code",
   "execution_count": null,
   "metadata": {},
   "outputs": [],
   "source": [
    "# Embed Hammarby's forth goal against IF Elfsborg video into the notebook\n",
    "Video(video_dir_signality + '/hammarby_if_elfsborg_22072019_visualisation_goal_6.mp4', width=770, height=530)"
   ]
  },
  {
   "cell_type": "markdown",
   "metadata": {},
   "source": [
    "##### Hammarby's fifth goal\n",
    "A. Kačaniklić 63' (5-2) (assist by M. Tankovic)"
   ]
  },
  {
   "cell_type": "code",
   "execution_count": null,
   "metadata": {},
   "outputs": [],
   "source": []
  },
  {
   "cell_type": "markdown",
   "metadata": {},
   "source": [
    "#### <a id='#section5.1.3'>5.1.3. Measuring the physical performance of players</a>"
   ]
  },
  {
   "cell_type": "markdown",
   "metadata": {},
   "source": [
    "##### <a id='#section5.1.3.1'>5.1.3.1. Generating physical performance reports</a>\n",
    "Generate a bespoke physical summary of all the players for the Home team."
   ]
  },
  {
   "cell_type": "code",
   "execution_count": null,
   "metadata": {},
   "outputs": [],
   "source": [
    "# Physical summary for home players\n",
    "\n",
    "## Define DataFrames\n",
    "tracking_home = df_tracking_elfsborg_home\n",
    "tracking_away = df_tracking_elfsborg_away\n",
    "\n",
    "## Drop player that did not play\n",
    "temp = tracking_home.dropna(axis=1, how='all')\n",
    "\n",
    "## Create DataFrame to identify the jersey number of the Home players\n",
    "df_home_players = np.unique([ c.split('_')[1] for c in tracking_home.columns if c[:4] == 'Home'])\n",
    "\n",
    "## Create DataFrame where each row is a player\n",
    "df_home_summary = pd.DataFrame(index=df_home_players)\n",
    "\n",
    "## Display DataFrame of players and minutes played\n",
    "df_home_summary"
   ]
  },
  {
   "cell_type": "markdown",
   "metadata": {},
   "source": [
    "##### Minutes played\n",
    "Added error handling to equal minutes to 0. DataFrame showing only 14 players, not 15 (Hammerby used all 3 subs)."
   ]
  },
  {
   "cell_type": "code",
   "execution_count": null,
   "metadata": {},
   "outputs": [],
   "source": [
    "# Calculate minutes played for each player\n",
    "\n",
    "## Create emplty list for minutes\n",
    "lst_minutes = []\n",
    "\n",
    "## Cycle through each player's jersey number in the home team and look for the first and last time for each player\n",
    "for player in df_home_players:\n",
    "    # search for first and last frames that we have a position observation for each player (when a player is not on the pitch positions are NaN)\n",
    "    column = 'Home_' + player + '_x' # use player x-position coordinate\n",
    "    try:\n",
    "        player_minutes = (tracking_home[column].last_valid_index() - tracking_home[column].first_valid_index() + 1 ) / 25 / 60     # convert to minutes\n",
    "    except:\n",
    "        player_minutes = 0\n",
    "    lst_minutes.append(player_minutes)\n",
    "df_home_summary['Minutes Played'] = lst_minutes\n",
    "\n",
    "## \n",
    "df_home_summary = df_home_summary.sort_values(['Minutes Played'], ascending=False)\n",
    "\n",
    "\n",
    "# Display DataFrame of players and minutes played\n",
    "df_home_summary"
   ]
  },
  {
   "cell_type": "markdown",
   "metadata": {},
   "source": [
    "##### Distance covered"
   ]
  },
  {
   "cell_type": "code",
   "execution_count": null,
   "metadata": {},
   "outputs": [],
   "source": [
    "# Calculate total distance covered for each player\n",
    "\n",
    "## Create emplty list for distance\n",
    "lst_distance = []\n",
    "\n",
    "## Cycle through each player's jersey number in the home team and multiple their speed at any given instance by 40ms to get total distance and divide by 1,000 to get this in km\n",
    "for player in df_home_summary.index:\n",
    "    column = 'Home_' + player + '_speed'\n",
    "    df_player_distance = tracking_home[column].sum()/25./1000    # speed time time. Convert to km\n",
    "    lst_distance.append(df_player_distance)\n",
    "\n",
    "## \n",
    "df_home_summary['Distance [km]'] = lst_distance\n",
    "\n",
    "\n",
    "# Display DataFrame of players their minutes played and distance covered\n",
    "df_home_summary"
   ]
  },
  {
   "cell_type": "code",
   "execution_count": null,
   "metadata": {},
   "outputs": [],
   "source": [
    "# Make a simple bar chart of distance covered for each player\n",
    "plt.subplots()\n",
    "ax = df_home_summary['Distance [km]'].plot.bar(rot=0)\n",
    "ax.set_xlabel('Player')\n",
    "ax.set_ylabel('Distance covered [km]')\n",
    "\n",
    "## Save figure\n",
    "if not os.path.exists(fig_dir_signality + '/hammarby_if_elfsborg_22072019_distance_covered_hammarby.png'):\n",
    "    plt.savefig(fig_dir_signality + '/hammarby_if_elfsborg_22072019_distance_covered_hammarby.png', dpi=300, format='png', transparent=False, bbox_inches='tight')\n",
    "else:\n",
    "    pass"
   ]
  },
  {
   "cell_type": "markdown",
   "metadata": {},
   "source": [
    "Here we can visually see the total distances that the players ran. For example , we can see that player 11 ran about 5km and is most likely the goalkeeper. We can check this by plotting the position of the players at KO to find out exactly what position each player is playing."
   ]
  },
  {
   "cell_type": "markdown",
   "metadata": {},
   "source": [
    "##### Distance covered: walking, jogging, running, sprinting"
   ]
  },
  {
   "cell_type": "code",
   "execution_count": null,
   "metadata": {},
   "outputs": [],
   "source": [
    "# Calculate total distance covered for each player for different types of movement\n",
    "\n",
    "## Create empty list for distance\n",
    "lst_distance = []\n",
    "\n",
    "## Cycle through each player's jersey number in the home team and multiple their speed at any given instance by 40ms to get total distance and divide by 1,000 to get this in km\n",
    "for player in df_home_summary.index:\n",
    "    column = 'Home_' + player + '_speed'\n",
    "    df_player_distance = df_tracking_elfsborg_home[column].sum()/25./1000    # speed time time. Convert to km\n",
    "    lst_distance.append(df_player_distance)\n",
    "df_home_summary['Distance [km]'] = lst_distance\n",
    "\n",
    "\n",
    "# Display DataFrame of players their minutes played and distance covered\n",
    "df_home_summary"
   ]
  },
  {
   "cell_type": "code",
   "execution_count": null,
   "metadata": {},
   "outputs": [],
   "source": [
    "# Calculate total distance covered for each player for different types of movement\n",
    "\n",
    "## Create empty lists for distances of different movements\n",
    "lst_walking = []\n",
    "lst_jogging = []\n",
    "lst_running = []\n",
    "lst_sprinting = []\n",
    "\n",
    "## Cycle through each player's jersey number in the home team and \n",
    "for player in df_home_summary.index:\n",
    "    column = 'Home_' + player + '_speed'\n",
    "    ### Walking (less than 2m/s)\n",
    "    player_distance = df_tracking_elfsborg_home.loc[tracking_home[column] <2, column].sum()/25./1000\n",
    "    lst_walking.append(player_distance)\n",
    "    ### Jogging (between 2 and 4 m/s)\n",
    "    player_distance = df_tracking_elfsborg_home.loc[(tracking_home[column] >= 2) & (df_tracking_elfsborg_home[column] < 4), column].sum()/25./1000\n",
    "    lst_jogging.append(player_distance)\n",
    "    ### Running (between 4 and 7 m/s)\n",
    "    player_distance = df_tracking_elfsborg_home.loc[(tracking_home[column] >= 4) & (df_tracking_elfsborg_home[column] < 7), column].sum()/25./1000\n",
    "    lst_running.append(player_distance)\n",
    "    ### Sprinting (greater than 7 m/s)\n",
    "    player_distance = df_tracking_elfsborg_home.loc[tracking_home[column] >= 7, column].sum()/25./1000\n",
    "    lst_sprinting.append(player_distance)\n",
    "\n",
    "## Assign each movement list to a column in the Home Summary DataFrame\n",
    "df_home_summary['Walking [km]'] = lst_walking\n",
    "df_home_summary['Jogging [km]'] = lst_jogging\n",
    "df_home_summary['Running [km]'] = lst_running\n",
    "df_home_summary['Sprinting [km]'] = lst_sprinting\n",
    "\n",
    "\n",
    "# Display DataFrame of players their minutes the distances covered for each movement type\n",
    "df_home_summary"
   ]
  },
  {
   "cell_type": "code",
   "execution_count": null,
   "metadata": {},
   "outputs": [],
   "source": [
    "# Make a clustered bar chart of distance covered for each player at each speed\n",
    "ax = df_home_summary[['Walking [km]', 'Jogging [km]', 'Running [km]', 'Sprinting [km]']].plot.bar(colormap='coolwarm')\n",
    "ax.set_xlabel('Player')\n",
    "ax.set_ylabel('Distance covered [m]')\n",
    "\n",
    "## Save figure\n",
    "if not os.path.exists(fig_dir_signality + '/hammarby_if_elfsborg_22072019_distance_covered_split_hammarby.png'):\n",
    "    plt.savefig(fig_dir_signality + '/hammarby_if_elfsborg_22072019_distance_covered_split_hammarby.png', dpi=300, format='png', transparent=False, bbox_inches='tight')\n",
    "else:\n",
    "    pass"
   ]
  },
  {
   "cell_type": "markdown",
   "metadata": {},
   "source": [
    "As we expected, it's the midfielders and forwards that do more sprinting."
   ]
  },
  {
   "cell_type": "markdown",
   "metadata": {},
   "source": [
    "##### Sustained sprints: how many sustained sprints per match"
   ]
  },
  {
   "cell_type": "code",
   "execution_count": null,
   "metadata": {},
   "outputs": [],
   "source": [
    "# sustained sprints: how many sustained sprints per match did each player complete? Defined as maintaining a speed > 7 m/s for at least 1 second\n",
    "\n",
    "##\n",
    "nsprints = []\n",
    "\n",
    "##\n",
    "sprint_threshold = 7 # minimum speed to be defined as a sprint {m/s}\n",
    "sprint_window = 1 * 25\n",
    "\n",
    "##\n",
    "for player in df_home_summary.index:\n",
    "    column = 'Home_' + player + '_speed'\n",
    "    # trick here is to convolve speed with a window of size 'sprint_window', and find number of occassions that sprint was sustained for at least one window length\n",
    "    # diff helps us to identify when the window starts\n",
    "    player_sprints = np.diff(1 * (np.convolve(1 * (tracking_home[column] >= sprint_threshold), np.ones(sprint_window), mode='same') >= sprint_window))\n",
    "    nsprints.append(np.sum(player_sprints == 1 ))\n",
    "\n",
    "##    \n",
    "df_home_summary['# sprints'] = nsprints"
   ]
  },
  {
   "cell_type": "code",
   "execution_count": null,
   "metadata": {},
   "outputs": [],
   "source": [
    "df_home_summary"
   ]
  },
  {
   "cell_type": "markdown",
   "metadata": {},
   "source": [
    "##### <a id='#section5.1.3.2'>5.1.3.2. Plot the trajectories for a selected player's sprints"
   ]
  },
  {
   "cell_type": "code",
   "execution_count": null,
   "metadata": {},
   "outputs": [],
   "source": [
    "# Plot the trajectories for each of A. Kačaniklić (player 2)'s sprints\n",
    "player = '2'\n",
    "column = 'Home_' + player + '_speed' # speed\n",
    "column_x = 'Home_' + player + '_x' # x position\n",
    "column_y = 'Home_' + player + '_y' # y position\n",
    "\n",
    "# same trick as before to find start and end indices of windows of size 'sprint_window' in which player speed was above the sprint_threshold\n",
    "player_sprints = np.diff(1 * (np.convolve(1 * (tracking_home[column] >= sprint_threshold), np.ones(sprint_window), mode='same') >= sprint_window))\n",
    "player_sprints_start = np.where(player_sprints == 1)[0] - int(sprint_window/2) + 1 # adding sprint_window/2 because of the way that the convolution is centred\n",
    "player_sprints_end = np.where(player_sprints == -1)[0] + int(sprint_window/2) + 1"
   ]
  },
  {
   "cell_type": "code",
   "execution_count": null,
   "metadata": {},
   "outputs": [],
   "source": [
    "# Print frames in which player 10 started sprints\n",
    "print(player_sprints_start)"
   ]
  },
  {
   "cell_type": "code",
   "execution_count": null,
   "metadata": {},
   "outputs": [],
   "source": [
    "# Print frames in which player 10 started sprints\n",
    "print(player_sprints_end)"
   ]
  },
  {
   "cell_type": "code",
   "execution_count": null,
   "metadata": {},
   "outputs": [],
   "source": [
    "# now plot all the sprints\n",
    "fig, ax = sviz.plot_pitch()\n",
    "for s,e in zip(player_sprints_start,player_sprints_end):\n",
    "    ax.plot(df_tracking_elfsborg_home[column_x].iloc[s], df_tracking_elfsborg_home[column_y].iloc[s], 'go')\n",
    "    ax.plot(df_tracking_elfsborg_home[column_x].iloc[s:e+1], df_tracking_elfsborg_home[column_y].iloc[s:e+1], 'g')\n",
    "    \n",
    "## Save figure\n",
    "if not os.path.exists(fig_dir_signality + '/hammarby_if_elfsborg_22072019_sprints_player_2.png'):\n",
    "    plt.savefig(fig_dir_signality + '/hammarby_if_elfsborg_22072019_sprints_player_2.png', dpi=300, format='png', transparent=False, bbox_inches='tight')\n",
    "else:\n",
    "    pass"
   ]
  },
  {
   "cell_type": "markdown",
   "metadata": {},
   "source": [
    "Notes from observing the tracking data of sprints for A. Kačaniklić (player 11):\n",
    "*    The sprint to the by-line is an incident where the player is trying to keep the ball in play (ses Laurie's video in the last minute of video 2)."
   ]
  },
  {
   "cell_type": "markdown",
   "metadata": {},
   "source": [
    "##### <a id='#section5.1.3.3'>5.1.3.3. Estimate the top speed of each player</a>"
   ]
  },
  {
   "cell_type": "code",
   "execution_count": null,
   "metadata": {},
   "outputs": [],
   "source": [
    "# Define function to get the top speeds for a Tracking data DataFrame\n",
    "def get_max_speeds(df):\n",
    "    top_speeds = {}\n",
    "\n",
    "    v_columns = [i for i in df.columns if '_speed' in i]\n",
    "\n",
    "    for i in v_columns:\n",
    "        p = i.split('_')[1]\n",
    "\n",
    "        #max_ind = tracking_home[i].idxmax()    \n",
    "        top_speeds['Player_' + p] = df[i].max()\n",
    "    return top_speeds"
   ]
  },
  {
   "cell_type": "code",
   "execution_count": null,
   "metadata": {},
   "outputs": [],
   "source": [
    "dict_home_top_speeds = get_max_speeds(tracking_home)\n",
    "dict_away_top_speeds = get_max_speeds(tracking_home)"
   ]
  },
  {
   "cell_type": "code",
   "execution_count": null,
   "metadata": {},
   "outputs": [],
   "source": [
    "dict_home_top_speeds"
   ]
  },
  {
   "cell_type": "code",
   "execution_count": null,
   "metadata": {},
   "outputs": [],
   "source": [
    "dict_away_top_speeds"
   ]
  },
  {
   "cell_type": "code",
   "execution_count": null,
   "metadata": {},
   "outputs": [],
   "source": [
    "plt.bar(dict_home_top_speeds.keys(), dict_home_top_speeds.values())\n",
    "plt.title('Top Speed for players in the Home Team')\n",
    "plt.ylabel('Speed (m/s)')\n",
    "plt.xlabel('Players')\n",
    "plt.show()"
   ]
  },
  {
   "cell_type": "markdown",
   "metadata": {},
   "source": [
    "##### <a id='#section5.1.3.4'>5.1.3.4. Measure player accelaration from the tracking data and estimate the maximum rate of acceleration for each player</a>"
   ]
  },
  {
   "cell_type": "code",
   "execution_count": null,
   "metadata": {},
   "outputs": [],
   "source": [
    "def get_max_acc(df):\n",
    "    top_acc = {}\n",
    "\n",
    "    v_columns = [i for i in df.columns if '_acceleration' in i]\n",
    "\n",
    "    for i in v_columns:\n",
    "        p = i.split('_')[1]\n",
    "\n",
    "        #max_ind = tracking_home[i].idxmax()    \n",
    "        top_acc['Player_' + p] = df[i].max()\n",
    "    return top_acc"
   ]
  },
  {
   "cell_type": "code",
   "execution_count": null,
   "metadata": {},
   "outputs": [],
   "source": [
    "dict_home_top_acc = get_max_acc(tracking_home)"
   ]
  },
  {
   "cell_type": "code",
   "execution_count": null,
   "metadata": {},
   "outputs": [],
   "source": [
    "dict_away_top_acc = get_max_acc(tracking_home)"
   ]
  },
  {
   "cell_type": "code",
   "execution_count": null,
   "metadata": {},
   "outputs": [],
   "source": [
    "dict_home_top_acc"
   ]
  },
  {
   "cell_type": "code",
   "execution_count": null,
   "metadata": {},
   "outputs": [],
   "source": [
    "dict_away_top_acc "
   ]
  },
  {
   "cell_type": "code",
   "execution_count": null,
   "metadata": {
    "scrolled": true
   },
   "outputs": [],
   "source": [
    "plt.bar(dict_home_top_acc.keys(), dict_home_top_acc.values())\n",
    "plt.title('HomePlayers Top Acceleration')\n",
    "plt.ylabel('Acceleration (m/s2)')\n",
    "plt.xlabel('Players')\n",
    "plt.show()"
   ]
  },
  {
   "cell_type": "markdown",
   "metadata": {},
   "source": [
    "##### <a id='#section5.1.3.5'>5.1.3.5. Calculate how far each player ran</a>"
   ]
  },
  {
   "cell_type": "code",
   "execution_count": null,
   "metadata": {},
   "outputs": [],
   "source": [
    "#### Plot time series of speed acceleration & distance to goal of all players\n",
    "# Hammarby - Elfsborg\n",
    "frame_start = 44950 # <- Ham-Elfs 3-0 #26550 <- Ham-Elfs 1-0 #58130 <- Ham-Öre 1-1\n",
    "frame_range = 375       \n",
    "tracking_timeplot = tracking_home.loc[frame_start:frame_start+frame_range-1,:]    # select time frame\n",
    "columns = [c for c in tracking_timeplot.columns if c.split('_')[-1] in ['x','y','vx','vy']] \n",
    "tracking_timeplot = tracking_timeplot.drop(columns=columns) # drop except speed, acceleration & distance to goal\n",
    "columns = [c for c in tracking_timeplot.columns if c.split('_')[-1] in ['acceleration','dist2goal']] \n",
    "tracking_speed = tracking_timeplot.drop(columns=columns)\n",
    "columns = [c for c in tracking_timeplot.columns if c.split('_')[-1] in ['speed','dist2goal']]\n",
    "tracking_acceleration = tracking_timeplot.drop(columns=columns)\n",
    "columns = [c for c in tracking_timeplot.columns if c.split('_')[-1] in ['acceleration','speed']] \n",
    "tracking_dist2goal = tracking_timeplot.drop(columns=columns)\n",
    "xtime = np.arange(frame_range)/25        # time in seconds\n",
    "\n",
    "fig, axs = plt.subplots(3,1,sharex=True)\n",
    "#fig.suptitle(f'Player {requested_player}', size=8)\n",
    "axs[0].plot(xtime,tracking_speed)#,'g')\n",
    "axs[0].set_ylabel('Speed [$m/s$]', size=8)\n",
    "#axs[0].set_ylim(0,10)\n",
    "axs[1].plot(xtime,tracking_acceleration)#,'g')\n",
    "axs[1].set_ylabel('Acceleration [$m/s^2$]', size=8)\n",
    "#axs[1].set_ylim(-10,10)\n",
    "axs[2].plot(xtime,tracking_dist2goal)#,'g')\n",
    "axs[2].set_ylabel('Distance to goal [$m$]', size=8)\n",
    "axs[2].set_xlabel('Time [s]', size=8)\n",
    "fig.align_ylabels()\n",
    "plt.tight_layout()"
   ]
  },
  {
   "cell_type": "code",
   "execution_count": null,
   "metadata": {},
   "outputs": [],
   "source": [
    "frame_plot = 1_000"
   ]
  },
  {
   "cell_type": "code",
   "execution_count": null,
   "metadata": {
    "scrolled": true
   },
   "outputs": [],
   "source": [
    "tracking_frame_home = sviz.calc_frame_coordinates(tracking_home, frame_plot)\n",
    "tracking_frame_away = sviz.calc_frame_coordinates(tracking_away,frame_plot)\n",
    "\n",
    "# Creating a Voronoi diagramof 1 tracking frame, not further investigated or used in report\n",
    "vor = Voronoi(tracking_frame_away)\n",
    "fig = voronoi_plot_2d(vor)\n",
    "plt.show()"
   ]
  },
  {
   "cell_type": "code",
   "execution_count": null,
   "metadata": {},
   "outputs": [],
   "source": [
    "frame_start = 26600\n",
    "frame_range = 235\n",
    "\n",
    "# for all players\n",
    "nearest_tm_time = np.empty((1,11))\n",
    "#nearest_opp = nearest_opp.reshape(1, -1)\n",
    "for i in range(frame_start,frame_start+frame_range):\n",
    "    nearest_tm = svel.calc_distance_nearest_teammate(tracking_home,i)                      \n",
    "    nearest_tm_time = np.vstack((nearest_tm_time, nearest_tm))\n",
    "nearest_tm_time = np.delete(nearest_tm_time, (0), axis=0)"
   ]
  },
  {
   "cell_type": "code",
   "execution_count": null,
   "metadata": {},
   "outputs": [],
   "source": [
    "# for all players\n",
    "nearest_opp_time = np.empty((1,11))\n",
    "#nearest_opp = nearest_opp.reshape(1, -1)\n",
    "for i in range(frame_start,frame_start+frame_range):\n",
    "    nearest_opp = svel.calc_distance_nearest_opponent(tracking_home, tracking_away, i)                      \n",
    "    nearest_opp_time = np.vstack((nearest_opp_time, nearest_opp))\n",
    "nearest_opp_time = np.delete(nearest_opp_time, (0), axis=0)"
   ]
  },
  {
   "cell_type": "code",
   "execution_count": null,
   "metadata": {},
   "outputs": [],
   "source": [
    "# Plot distance to nearest teammate for all 11 players\n",
    "xtime = np.arange(frame_range)/25        # time in seconds\n",
    "plt.plot(xtime,nearest_tm_time)\n",
    "#plt.ylim(0,20)\n",
    "plt.xlabel('Time [sec]')\n",
    "plt.ylabel('Distance to nearest teammate [m]')\n",
    "plt.show()\n",
    "# Plot distance to nearest opponent for all 11 players\n",
    "plt.plot(xtime,nearest_opp_time)\n",
    "#plt.ylim(0,5)\n",
    "plt.xlabel('Time [sec]')\n",
    "plt.ylabel('Distance to nearest opponent [m]')\n",
    "plt.show()"
   ]
  },
  {
   "cell_type": "code",
   "execution_count": null,
   "metadata": {},
   "outputs": [],
   "source": [
    "requested_player = '13'\n",
    "\n",
    "# Plot of 1 player\n",
    "tracking_speed = tracking_speed[f'Home_{requested_player}_speed']\n",
    "tracking_acceleration = tracking_acceleration[f'Home_{requested_player}_acceleration']\n",
    "tracking_dist2goal = tracking_dist2goal[f'Home_{requested_player}_dist2goal']"
   ]
  },
  {
   "cell_type": "code",
   "execution_count": null,
   "metadata": {},
   "outputs": [],
   "source": [
    "fig, axs = plt.subplots(4,1,sharex=True)\n",
    "#fig.suptitle(f'Player {requested_player}', size=8)\n",
    "axs[0].plot(xtime,tracking_speed.head(frame_range),'g')\n",
    "axs[0].set_ylabel('Speed', size=8)\n",
    "#axs[0].set_ylim(0,10)\n",
    "axs[1].plot(xtime,tracking_acceleration.head(frame_range),'g')\n",
    "axs[1].spines['bottom'].set_position('zero')\n",
    "axs[1].set_ylabel('Acc', size=8)\n",
    "#axs[1].set_ylim(-10,10)\n",
    "axs[2].plot(xtime,tracking_dist2goal.head(frame_range),'g')\n",
    "axs[2].set_ylabel('Dist to goal', size=8)\n",
    "axs[3].plot(xtime,nearest_opp_time,'g')\n",
    "axs[3].set_xlabel('Time [s]', size=8)\n",
    "axs[3].set_ylabel('Nearest opp', size=8)\n",
    "fig.align_ylabels()"
   ]
  },
  {
   "cell_type": "markdown",
   "metadata": {},
   "source": [
    "#### <a id='#section5.1.4'>5.1.4. Pitch Control Models</a>\n",
    "Using the Tracking data, we can use this to build your Pitch Control models in Python and demonstrate how it can be used to evaluate a player's passing options using tracking and event data. But what is a Pitch Control model?\n",
    "\n",
    "Definition:\n",
    "**Pitch control at a given location is the probability that a player (or team) will gain control of the ball if it moves directly to that location.**\n",
    "\n",
    "Pitch control measures the probability that a team will retain possession of the ball if they pass it to another location on the field. It can be used to evaluate passing options for a player, and quantify the probability of success.\n",
    "\n",
    "The method described here is based on work by [William Spearman](https://twitter.com/the_spearman), as described in his Friend of Tracking video tutorial: [[link](https://www.youtube.com/watch?v=X9PrwPyolyU)] and see below.\n",
    "\n",
    "Also see Spearman's paper \"Beyond Expected Goals\" published at the 2018 MIT Sloan Sports Analytics Conference [[link](http://www.sloansportsconference.com/wp-content/uploads/2018/02/2002.pdf)].\n",
    "\n",
    "In the video below, Spearman explains the following for Pitch Control:\n",
    "*    The principles behind pitch control models.\n",
    "*    How they can be used to investigate player positioning.\n",
    "*    How to extend them to account for ball motion.\n",
    "*    How to combine pitch control models with measures of danger.\n",
    "*    Defining 'off-ball scoring opportunity'\n",
    "*    Extensions to pitch control."
   ]
  },
  {
   "cell_type": "code",
   "execution_count": null,
   "metadata": {},
   "outputs": [],
   "source": [
    "# Liverpool FC data scientist William Spearman's masterclass in Pitch Control\n",
    "YouTubeVideo('X9PrwPyolyU', width=800, height=470)"
   ]
  },
  {
   "cell_type": "markdown",
   "metadata": {},
   "source": [
    "Pitch Control visualisation are a great way to summarise not only the probabilities of success for any given passing option but it is also a nice way of visualising what options were available to a player on the ball at any given instant.\n",
    "\n",
    "Visualisations use the `plot_pitchcontrol_for_event` function from the `sviz` library."
   ]
  },
  {
   "cell_type": "code",
   "execution_count": null,
   "metadata": {},
   "outputs": [],
   "source": [
    "# first get pitch control model parameters\n",
    "params = spc.default_model_params()"
   ]
  },
  {
   "cell_type": "code",
   "execution_count": null,
   "metadata": {},
   "outputs": [],
   "source": [
    "GK_numbers = [25,1] # Hammarby GK number = 27    # I think I can delete this"
   ]
  },
  {
   "cell_type": "markdown",
   "metadata": {},
   "source": [
    "##### <a id='#section5.1.4.1'>5.1.4.1. Hammarby's first goal\n",
    "Imad Khalili 18' (1-0) (assist by N. Đurđić)"
   ]
  },
  {
   "cell_type": "markdown",
   "metadata": {},
   "source": [
    "###### Video"
   ]
  },
  {
   "cell_type": "code",
   "execution_count": null,
   "metadata": {},
   "outputs": [],
   "source": [
    "# Embed video footage of Hammarby's first goal against IF Elfsborg video into the notebook\n",
    "Video(video_dir_signality + '/hammarby_if_elfsborg_22072019_video_goal_1.mp4', width=770, height=530)"
   ]
  },
  {
   "cell_type": "markdown",
   "metadata": {},
   "source": [
    "###### Visualisation"
   ]
  },
  {
   "cell_type": "code",
   "execution_count": null,
   "metadata": {},
   "outputs": [],
   "source": [
    "# Making a movie clip, very useful to find exact frames of interest\n",
    "\n",
    "## Define frames for the start and end of the goal\n",
    "frame_start = 26_600\n",
    "frame_range = 300\n",
    "\n",
    "## Define variables using in the 'save_match_clip' function\n",
    "tracking_home = df_tracking_elfsborg_home\n",
    "tracking_away = df_tracking_elfsborg_away\n",
    "color_home = color_hammarby\n",
    "color_away = color_elfsborg\n",
    "\n",
    "## Save video using save_match_clip function from sviz library\n",
    "if not os.path.exists(fig_dir_signality + '/hammarby_if_elfsborg_22072019_visualisation_goal_1.mp4'):\n",
    "    sviz.save_match_clip(tracking_home.iloc[frame_start:frame_start+frame_range], tracking_away.iloc[frame_start:frame_start+frame_range], video_dir_signality, fname='hammarby_if_elfsborg_22072019_visualisation_goal_1', team_colors=(color_home, color_away), include_player_velocities=True)\n",
    "else:\n",
    "    pass"
   ]
  },
  {
   "cell_type": "code",
   "execution_count": null,
   "metadata": {},
   "outputs": [],
   "source": [
    "# Making a movie clip, very useful to find exact frames of interest\n",
    "\n",
    "## Define frames for the start and end of the goal\n",
    "frame_start = 26_828\n",
    "frame_range = 300\n",
    "\n",
    "## Define variables using in the 'save_match_clip' function\n",
    "tracking_home = df_tracking_elfsborg_home\n",
    "tracking_away = df_tracking_elfsborg_away\n",
    "color_home = color_hammarby\n",
    "color_away = color_elfsborg\n",
    "\n",
    "## Save video using save_match_clip function from sviz library\n",
    "if not os.path.exists(fig_dir_signality + '/hammarby_if_elfsborg_22072019_visualisation_goal_1.mp4'):\n",
    "    sviz.save_match_clip(tracking_home.iloc[frame_start:frame_start+frame_range], tracking_away.iloc[frame_start:frame_start+frame_range], video_dir_signality, fname='hammarby_if_elfsborg_22072019_visualisation_goal_1', team_colors=(color_home, color_away), include_player_velocities=True)\n",
    "else:\n",
    "    pass"
   ]
  },
  {
   "cell_type": "code",
   "execution_count": null,
   "metadata": {},
   "outputs": [],
   "source": [
    "# Embed Hammarby's first against IF Elfsborg video into the notebook\n",
    "Video(video_dir_signality + '/hammarby_if_elfsborg_22072019_visualisation_goal_1.mp4', width=770, height=530)"
   ]
  },
  {
   "cell_type": "markdown",
   "metadata": {},
   "source": [
    "###### Pitch Control"
   ]
  },
  {
   "cell_type": "code",
   "execution_count": null,
   "metadata": {},
   "outputs": [],
   "source": [
    "# Visualisation of the Pitch Control of the players for the first goal\n",
    "\n",
    "## Define variables used in 'generate_pitch_control' function\n",
    "frame_idx = 26_828     # before 1-0 Ham-Elf\n",
    "tracking_home = df_tracking_elfsborg_home\n",
    "tracking_away = df_tracking_elfsborg_away\n",
    "color_home = color_hammarby\n",
    "color_away = color_elfsborg\n",
    "cmap = LinearSegmentedColormap.from_list('mycmap', [color_away, 'white', color_home])\n",
    "\n",
    "## Visualise player positions using plot_events function from sviz library\n",
    "PPCF, xgrid, ygrid = spc.generate_pitch_control_for_event(frame_idx, tracking_home, tracking_home, tracking_away, params, GK_numbers, n_grid_cells_x = 50)\n",
    "sviz.plot_pitchcontrol_for_event(frame_idx, tracking_home, tracking_home, tracking_away, PPCF, cmap, annotate=True )\n",
    "\n",
    "## Save figure\n",
    "if not os.path.exists(fig_dir_signality + '/hammarby_if_elfsborg_22072019_pc_goal_1.png'):\n",
    "    plt.savefig(fig_dir_signality + '/hammarby_if_elfsborg_22072019_pc_goal_1.png', dpi=300, format='png', transparent=False, bbox_inches='tight')\n",
    "else:\n",
    "    pass"
   ]
  },
  {
   "cell_type": "code",
   "execution_count": null,
   "metadata": {},
   "outputs": [],
   "source": [
    "# Visualisation of the Pitch Control of the players for the first goal\n",
    "\n",
    "## Define variables used in 'generate_pitch_control' function\n",
    "frame_idx = 26_600\n",
    "starting_frame = frame_idx \n",
    "end_frame = starting_frame + 300\n",
    "f = 25\n",
    "tracking_home = df_tracking_elfsborg_home\n",
    "tracking_away = df_tracking_elfsborg_away\n",
    "color_home = color_hammarby\n",
    "color_away = color_elfsborg\n",
    "cmap = LinearSegmentedColormap.from_list('mycmap', [color_away, 'white', color_home])\n",
    "\n",
    "## Visualise player positions using generate_pitch_control_for_event function from spc library\n",
    "def make_frame(t):\n",
    "    t2 = int(math.ceil(t*f+0.0001)-1)\n",
    "    PPCF,xgrid,ygrid = spc.generate_pitch_control_for_event(t2+starting_frame, tracking_home, tracking_home, tracking_away, params, GK_numbers, field_dimen = (pitch_length, pitch_width), n_grid_cells_x=50)\n",
    "    fig, ax = sviz.plot_pitchcontrol_for_event(t2+starting_frame, tracking_home, tracking_home, tracking_away, PPCF, cmap, annotate=True)\n",
    "    image = mplfig_to_npimage(fig)\n",
    "    return image    # returns a 8-bit RGB array\n",
    "\n",
    "## Create Pitch Control video if the file doesn't already exist\n",
    "if not os.path.exists(video_dir_signality + '/hammarby_if_elfsborg_22072019_pc_goal_1.mp4'):\n",
    "    clip = mpy.VideoClip(make_frame, duration=((end_frame-starting_frame)/f)).set_fps(f)              # 2 seconds\n",
    "    clip.write_videofile(video_dir_signality + '/hammarby_if_elfsborg_22072019_pc_goal_1.mp4')    #video file is saved\n",
    "else:\n",
    "    pass"
   ]
  },
  {
   "cell_type": "code",
   "execution_count": null,
   "metadata": {},
   "outputs": [],
   "source": [
    "# Embed Pitch Control model of Hammarby's first goal against IF Elfsborg video into the notebook\n",
    "Video(video_dir_signality + '/hammarby_if_elfsborg_22072019_pc_goal_1.mp4', width=770, height=530)"
   ]
  },
  {
   "cell_type": "markdown",
   "metadata": {},
   "source": [
    "###### Delauney"
   ]
  },
  {
   "cell_type": "code",
   "execution_count": null,
   "metadata": {},
   "outputs": [],
   "source": [
    "# Visualisation of the Delauney of the players for the first goal\n",
    "\n",
    "## Define variables used in 'plot_delaunay_for_frame' function\n",
    "frame_idx = 26_600\n",
    "starting_frame = frame_idx \n",
    "end_frame = starting_frame + 300\n",
    "f = 25\n",
    "tracking_home = df_tracking_elfsborg_home\n",
    "tracking_away = df_tracking_elfsborg_away\n",
    "color_home = color_hammarby\n",
    "color_away = color_elfsborg\n",
    "\n",
    "## Visualise player positions using generate_pitch_control_for_event function from spc library\n",
    "def make_frame_delauney(t):\n",
    "    t2 = int(math.ceil(t*f+0.0001)-1)\n",
    "    fig, ax = sviz.plot_delaunay_for_frame(t2+starting_frame, tracking_home, tracking_away, team='Home', include_player_velocities=True)\n",
    "    image = mplfig_to_npimage(fig)\n",
    "    return image # returns a 8-bit RGB array\n",
    "\n",
    "## Create Delauney video if the file doesn't already exist\n",
    "if not os.path.exists(video_dir_signality + '/hammarby_if_elfsborg_22072019_delauney_goal_1.mp4'):\n",
    "    clip = mpy.VideoClip(make_frame_delauney, duration=((end_frame-starting_frame)/f)).set_fps(f)    # 2 seconds\n",
    "    clip.write_videofile(video_dir_signality + '/hammarby_if_elfsborg_22072019_delauney_goal_1.mp4')\n",
    "else:\n",
    "    pass "
   ]
  },
  {
   "cell_type": "code",
   "execution_count": null,
   "metadata": {},
   "outputs": [],
   "source": [
    "# Embed Delauney visualisation of Hammarby's first goal against IF Elfsborg video into the notebook\n",
    "Video(video_dir_signality + '/hammarby_if_elfsborg_22072019_delauney_goal_1.mp4', width=770, height=530)"
   ]
  },
  {
   "cell_type": "markdown",
   "metadata": {},
   "source": [
    "##### <a id='#section5.1.4.2'>5.1.4.2. Hammarby's third goal\n",
    "Imad Khalili 31' (3-0) (assist by M. Tankovic)"
   ]
  },
  {
   "cell_type": "markdown",
   "metadata": {},
   "source": [
    "###### Video"
   ]
  },
  {
   "cell_type": "code",
   "execution_count": null,
   "metadata": {},
   "outputs": [],
   "source": [
    "# Embed video footage of Hammarby's third goal against IF Elfsborg video into the notebook\n",
    "Video(video_dir_signality + '/hammarby_if_elfsborg_22072019_video_goal_3.mp4', width=770, height=530)"
   ]
  },
  {
   "cell_type": "markdown",
   "metadata": {},
   "source": [
    "###### Visualisation"
   ]
  },
  {
   "cell_type": "code",
   "execution_count": null,
   "metadata": {},
   "outputs": [],
   "source": [
    "# Making a movie clip, very useful to find exact frames of interest\n",
    "\n",
    "## Define frames for the start and end of the goal\n",
    "frame_start = 44_950\n",
    "frame_range = 300\n",
    "\n",
    "## Define variables using in the 'save_match_clip' function\n",
    "tracking_home = df_tracking_elfsborg_home\n",
    "tracking_away = df_tracking_elfsborg_away\n",
    "color_home = color_hammarby\n",
    "color_away = color_elfsborg\n",
    "\n",
    "## Save video using save_match_clip function from sviz library\n",
    "if not os.path.exists(fig_dir_signality + '/hammarby_if_elfsborg_22072019_visualisation_goal_3.mp4'):\n",
    "    sviz.save_match_clip(tracking_home.iloc[frame_start:frame_start+frame_range], tracking_away.iloc[frame_start:frame_start+frame_range], video_dir_signality, fname='hammarby_if_elfsborg_22072019_visualisation_goal_3', team_colors=(color_home, color_away), include_player_velocities=True)\n",
    "else:\n",
    "    pass"
   ]
  },
  {
   "cell_type": "code",
   "execution_count": null,
   "metadata": {},
   "outputs": [],
   "source": [
    "# Embed Hammarby's third goal against IF Elfsborg video into the notebook\n",
    "Video(video_dir_signality + '/hammarby_if_elfsborg_22072019_visualisation_goal_3.mp4', width=770, height=530)"
   ]
  },
  {
   "cell_type": "markdown",
   "metadata": {},
   "source": [
    "###### Pitch Control"
   ]
  },
  {
   "cell_type": "code",
   "execution_count": null,
   "metadata": {},
   "outputs": [],
   "source": [
    "# Visualisation of the Pitch Control of the players for the first goal\n",
    "\n",
    "## Define variables used in 'generate_pitch_control' function\n",
    "frame_idx = 45_100 \n",
    "tracking_home = df_tracking_elfsborg_home\n",
    "tracking_away = df_tracking_elfsborg_away\n",
    "color_home = color_hammarby\n",
    "color_away = color_elfsborg\n",
    "cmap = LinearSegmentedColormap.from_list('mycmap', [color_away, 'white', color_home])\n",
    "\n",
    "## Visualise player positions using plot_events function from sviz library\n",
    "PPCF, xgrid, ygrid = spc.generate_pitch_control_for_event(frame_idx, tracking_home, tracking_home, tracking_away, params, GK_numbers, n_grid_cells_x = 50)\n",
    "sviz.plot_pitchcontrol_for_event(frame_idx, tracking_home, tracking_home, tracking_away, PPCF, cmap, annotate=True )\n",
    "\n",
    "## Save figure\n",
    "if not os.path.exists(fig_dir_signality + '/hammarby_if_elfsborg_22072019_pc_goal_3.png'):\n",
    "    plt.savefig(fig_dir_signality + '/hammarby_if_elfsborg_22072019_pc_goal_3.png', dpi=300, format='png', transparent=False, bbox_inches='tight')\n",
    "else:\n",
    "    pass"
   ]
  },
  {
   "cell_type": "code",
   "execution_count": null,
   "metadata": {},
   "outputs": [],
   "source": [
    "# Visualisation of the Pitch Control of the players for the first goal\n",
    "\n",
    "## Define variables used in 'generate_pitch_control' function\n",
    "frame_idx = 44_975\n",
    "starting_frame = frame_idx \n",
    "end_frame = starting_frame + 300\n",
    "f = 25\n",
    "tracking_home = df_tracking_elfsborg_home\n",
    "tracking_away = df_tracking_elfsborg_away\n",
    "color_home = color_hammarby\n",
    "color_away = color_elfsborg\n",
    "cmap = LinearSegmentedColormap.from_list('mycmap', [color_away, 'white', color_home])\n",
    "\n",
    "## Visualise player positions using generate_pitch_control_for_event function from spc library\n",
    "def make_frame(t):\n",
    "    t2 = int(math.ceil(t*f+0.0001)-1)\n",
    "    PPCF,xgrid,ygrid = spc.generate_pitch_control_for_event(t2+starting_frame, tracking_home, tracking_home, tracking_away, params, GK_numbers, field_dimen = (pitch_length, pitch_width), n_grid_cells_x=50)\n",
    "    fig, ax = sviz.plot_pitchcontrol_for_event(t2+starting_frame, tracking_home, tracking_home, tracking_away, PPCF, cmap, annotate=True)\n",
    "    image = mplfig_to_npimage(fig)\n",
    "    return image    # returns a 8-bit RGB array\n",
    "\n",
    "## Create Pitch Control video if the file doesn't already exist\n",
    "if not os.path.exists(video_dir_signality + '/hammarby_if_elfsborg_22072019_pc_goal_3.mp4'):\n",
    "    clip = mpy.VideoClip(make_frame, duration=((end_frame-starting_frame)/f)).set_fps(f)              # 2 seconds\n",
    "    clip.write_videofile(video_dir_signality + '/hammarby_if_elfsborg_22072019_pc_goal_3.mp4')    #video file is saved\n",
    "else:\n",
    "    pass"
   ]
  },
  {
   "cell_type": "code",
   "execution_count": null,
   "metadata": {},
   "outputs": [],
   "source": [
    "# Embed Pitch Control model of Hammarby's third goal against IF Elfsborg video into the notebook\n",
    "Video(video_dir_signality + '/hammarby_if_elfsborg_22072019_pc_goal_3.mp4', width=770, height=530)"
   ]
  },
  {
   "cell_type": "markdown",
   "metadata": {},
   "source": [
    "###### Delauney"
   ]
  },
  {
   "cell_type": "code",
   "execution_count": null,
   "metadata": {},
   "outputs": [],
   "source": [
    "# Visualisation of the Delauney of the players for the first goal\n",
    "\n",
    "## Define variables used in 'plot_delaunay_for_frame' function\n",
    "frame_idx = 44_975\n",
    "starting_frame = frame_idx \n",
    "end_frame = starting_frame + 300\n",
    "f = 25\n",
    "tracking_home = df_tracking_elfsborg_home\n",
    "tracking_away = df_tracking_elfsborg_away\n",
    "color_home = color_hammarby\n",
    "color_away = color_elfsborg\n",
    "\n",
    "## Visualise player positions using generate_pitch_control_for_event function from spc library\n",
    "def make_frame_delauney(t):\n",
    "    t2 = int(math.ceil(t*f+0.0001)-1)\n",
    "    fig, ax = sviz.plot_delaunay_for_frame(t2+starting_frame, tracking_home, tracking_away, team='Home', include_player_velocities=True)\n",
    "    image = mplfig_to_npimage(fig)\n",
    "    return image # returns a 8-bit RGB array\n",
    "\n",
    "## Create Delauney video if the file doesn't already exist\n",
    "if not os.path.exists(video_dir_signality + '/hammarby_if_elfsborg_22072019_delauney_goal_3.mp4'):\n",
    "    clip = mpy.VideoClip(make_frame_delauney, duration=((end_frame-starting_frame)/f)).set_fps(f)    # 2 seconds\n",
    "    clip.write_videofile(video_dir_signality + '/hammarby_if_elfsborg_22072019_delauney_goal_3.mp4')\n",
    "else:\n",
    "    pass "
   ]
  },
  {
   "cell_type": "code",
   "execution_count": null,
   "metadata": {},
   "outputs": [],
   "source": [
    "# Embed Delauney visualisation of Hammarby's third goal against IF Elfsborg video into the notebook\n",
    "Video(video_dir_signality + '/hammarby_if_elfsborg_22072019_delauney_goal_3.mp4', width=770, height=530)"
   ]
  },
  {
   "cell_type": "markdown",
   "metadata": {},
   "source": [
    "### <a id='#section5.2'> 5.2. Örebrö"
   ]
  },
  {
   "cell_type": "markdown",
   "metadata": {},
   "source": [
    "#### <a id='#section5.2.1'>5.2.1. Match Facts</a>\n",
    "Hammarby 5 vs. 1 Örebrö on 30th September 2019 [[link](https://int.soccerway.com/matches/2019/09/30/sweden/allsvenskan/hammarby/orebro-sportklubb-fotboll/2947335/)]"
   ]
  },
  {
   "cell_type": "markdown",
   "metadata": {},
   "source": [
    "##### <a id='#section5.2.1'>5.2.1.1. Starting XI</a>\n",
    "\n",
    "![title](../../../../img/hammarby_orebro_30092019_lineup.png)"
   ]
  },
  {
   "cell_type": "code",
   "execution_count": null,
   "metadata": {},
   "outputs": [],
   "source": [
    "# Display the DataFrame\n",
    "df_lineup_orebro_home.head(18)"
   ]
  },
  {
   "cell_type": "code",
   "execution_count": null,
   "metadata": {},
   "outputs": [],
   "source": [
    "# Display the DataFrame\n",
    "df_lineup_orebro_away.head(18)"
   ]
  },
  {
   "cell_type": "markdown",
   "metadata": {},
   "source": [
    "##### <a id='#section5.2.1.2'>5.2.1.2. Goals and Assists</a>\n",
    "*    Hammarby 5 vs. 1 Örebrö on 30th September 2019 [[link](https://int.soccerway.com/matches/2019/09/30/sweden/allsvenskan/hammarby/orebro-sportklubb-fotboll/2947335/)]\n",
    "     - V. Prodell 11' (0-1), (assist by Yaser Kasim)\n",
    "     - V. Rodić 39' (1-1), (assist by S. Sandberg)\n",
    "     - N. Đurđić 57' (2-1), (assist by D. Bojanic)\n",
    "     - V. Rodić 62' (3-1)\n",
    "     - V. Rodić 80' (4-1), (assist by D. Widgren)\n",
    "     - M. Solheim 90'+3 (5-1), (assist by N. Đurđić)"
   ]
  },
  {
   "cell_type": "markdown",
   "metadata": {},
   "source": [
    "##### <a id='#section5.2.1.3'>5.2.1.3. Match Highlights</a>"
   ]
  },
  {
   "cell_type": "code",
   "execution_count": null,
   "metadata": {},
   "outputs": [],
   "source": [
    "# Embed highlights for Hammarby (5) vs. (1) Örebrö (30/09/2019)\n",
    "\n",
    "## YouTube link (COMMENTED OUT)\n",
    "YouTubeVideo('5aPEiX-UCZc', width=800, height=470)\n",
    "\n",
    "## Local file\n",
    "#Video(video_dir_signality + '/20190930_Hammarby_Örebrö'.mp4', width=770, height=530)"
   ]
  },
  {
   "cell_type": "markdown",
   "metadata": {},
   "source": [
    "#### <a id='#section5.2.2'>5.2.2. Visualisation of the positions of the players for selected moments of play including their direction and velocity</a>"
   ]
  },
  {
   "cell_type": "markdown",
   "metadata": {},
   "source": [
    "##### <a id='#section5.2.2.1'>5.2.2.1. Kick Off"
   ]
  },
  {
   "cell_type": "code",
   "execution_count": null,
   "metadata": {},
   "outputs": [],
   "source": [
    "# Visualisation of the positions of the players at with location and speed just after kick-off</a>\n",
    "\n",
    "## Define variables used in 'plot_frame' function\n",
    "frame_idx = 20\n",
    "tracking_home = df_tracking_elfsborg_home\n",
    "tracking_away = df_tracking_elfsborg_away\n",
    "color_home = color_hammarby\n",
    "color_away = color_elfsborg\n",
    "\n",
    "## Visualise player positions using plot_events function from sviz library\n",
    "fig, ax = sviz.plot_frame(tracking_home.loc[frame_idx], tracking_away.loc[frame_idx], team_colors=(color_home, color_away), include_player_velocities=True, annotate=True)\n",
    "\n",
    "## Save figure\n",
    "if not os.path.exists(fig_dir_signality + '/hammarby_if_elfsborg_22072019_kickoff.png'):\n",
    "    plt.savefig(fig_dir_signality + '/hammarby_if_elfsborg_22072019_kickoff.png', dpi=300, format='png', transparent=False, bbox_inches='tight')\n",
    "else:\n",
    "    pass"
   ]
  },
  {
   "cell_type": "markdown",
   "metadata": {},
   "source": [
    "##### <a id='#section5.2.2.2'>5.2.2.2. Visualisation of the first 60 seconds of the match</a>"
   ]
  },
  {
   "cell_type": "code",
   "execution_count": null,
   "metadata": {},
   "outputs": [],
   "source": [
    "# Plotting tracking data -  of the first 60 seconds (i.e. 60 x 90 = 1500 frames)\n",
    "\n",
    "## Define end frame for which to stop tracking player's movement\n",
    "end_frame_idx = 1_500\n",
    "\n",
    "## Define variables using in 'plot_pitch' function\n",
    "tracking_home = df_tracking_elfsborg_home\n",
    "tracking_away = df_tracking_elfsborg_away\n",
    "\n",
    "## Visualise player positions using plot_events function from sviz library\n",
    "fig, ax = sviz.plot_pitch()\n",
    "ax.plot(tracking_home['Home_25_x'].iloc[:end_frame_idx], tracking_home['Home_25_y'].iloc[:end_frame_idx], 'b.', MarkerSize=1)\n",
    "ax.plot(tracking_home['Home_2_x'].iloc[:end_frame_idx], tracking_home['Home_2_y'].iloc[:end_frame_idx], 'g.', MarkerSize=1)\n",
    "ax.plot(tracking_home['Home_4_x'].iloc[:end_frame_idx], tracking_home['Home_4_y'].iloc[:end_frame_idx], 'k.', MarkerSize=1)\n",
    "ax.plot(tracking_home['Home_5_x'].iloc[:end_frame_idx], tracking_home['Home_5_y'].iloc[:end_frame_idx], 'r.', MarkerSize=1)\n",
    "ax.plot(tracking_home['Home_3_x'].iloc[:end_frame_idx], tracking_home['Home_3_y'].iloc[:end_frame_idx], 'c.', MarkerSize=1)\n",
    "\n",
    "## Save figure\n",
    "if not os.path.exists(fig_dir_signality + '/hammarby_if_elfsborg_22072019_hammarby_backfive_first_60_seconds.png'):\n",
    "    plt.savefig(fig_dir_signality + '/hammarby_if_elfsborg_22072019_hammarby_backfive_first_60_seconds.png', dpi=300, format='png', transparent=False, bbox_inches='tight')\n",
    "else:\n",
    "    pass"
   ]
  },
  {
   "cell_type": "markdown",
   "metadata": {},
   "source": [
    "The blue line represents the goalkeeper and the four players in front are the back four."
   ]
  },
  {
   "cell_type": "markdown",
   "metadata": {},
   "source": [
    "##### <a id='#section5.2.2.3'>5.2.2.3. Goals"
   ]
  },
  {
   "cell_type": "markdown",
   "metadata": {},
   "source": [
    "###### Hammarby's first goal\n",
    "Imad Khalili 18' (1-0) (assist by N. Đurđić)"
   ]
  },
  {
   "cell_type": "code",
   "execution_count": null,
   "metadata": {},
   "outputs": [],
   "source": [
    "# Visualise the player's positions just before the first goal\n",
    "\n",
    "## Define end frame for which to stop tracking player's movement\n",
    "frame_idx = 26_828\n",
    "\n",
    "## Define variables used in 'plot_frame' function\n",
    "tracking_home = df_tracking_elfsborg_home\n",
    "tracking_away = df_tracking_elfsborg_away\n",
    "color_home = color_hammarby\n",
    "color_away = color_elfsborg\n",
    "\n",
    "## Visualise player positions using plot_events function from sviz library\n",
    "fig, ax = sviz.plot_frame(tracking_home.loc[frame_idx], tracking_away.loc[frame_idx], team_colors=(color_home, color_away), include_player_velocities=True, annotate=True)\n",
    "\n",
    "## Save figure\n",
    "if not os.path.exists(fig_dir_signality + '/hammarby_if_elfsborg_22072019_first_goal.png'):\n",
    "    plt.savefig(fig_dir_signality + '/hammarby_if_elfsborg_22072019_first_goal.png', dpi=300, format='png', transparent=False, bbox_inches='tight')\n",
    "else:\n",
    "    pass"
   ]
  },
  {
   "cell_type": "code",
   "execution_count": null,
   "metadata": {},
   "outputs": [],
   "source": [
    "# Making a movie clip, very useful to find exact frames of interest\n",
    "\n",
    "## Define frames for the start and end of the goal\n",
    "frame_start = 26_600\n",
    "frame_range = 300\n",
    "\n",
    "## Define variables using in the 'save_match_clip' function\n",
    "tracking_home = df_tracking_elfsborg_home\n",
    "tracking_away = df_tracking_elfsborg_away\n",
    "color_home = color_hammarby\n",
    "color_away = color_elfsborg\n",
    "\n",
    "## Save video using save_match_clip function from sviz library\n",
    "if not os.path.exists(fig_dir_signality + '/hammarby_if_elfsborg_22072019_visualisation_goal_1.mp4'):\n",
    "    sviz.save_match_clip(tracking_home.iloc[frame_start:frame_start+frame_range], tracking_away.iloc[frame_start:frame_start+frame_range], video_dir_signality, fname='hammarby_if_elfsborg_22072019_visualisation_goal_1', team_colors=(color_home, color_away), include_player_velocities=True)\n",
    "else:\n",
    "    pass"
   ]
  },
  {
   "cell_type": "code",
   "execution_count": null,
   "metadata": {},
   "outputs": [],
   "source": [
    "# Embed Hammarby's third goal against IF Elfsborg video into the notebook\n",
    "Video(video_dir_signality + '/hammarby_if_elfsborg_22072019_visualisation_goal_1.mp4', width=770, height=530)"
   ]
  },
  {
   "cell_type": "markdown",
   "metadata": {},
   "source": [
    "#####  Hammarby's second goal\n",
    "S. Gregersen (OG) 28' (2-0)"
   ]
  },
  {
   "cell_type": "code",
   "execution_count": null,
   "metadata": {},
   "outputs": [],
   "source": [
    "# Making a movie clip, very useful to find exact frames of interest\n",
    "\n",
    "## Define frames for the start and end of the goal\n",
    "frame_start = 40_900\n",
    "frame_range = 300\n",
    "\n",
    "## Define variables using in the 'save_match_clip' function\n",
    "tracking_home = df_tracking_elfsborg_home\n",
    "tracking_away = df_tracking_elfsborg_away\n",
    "color_home = color_hammarby\n",
    "color_away = color_elfsborg\n",
    "\n",
    "## Save video using save_match_clip function from sviz library\n",
    "if not os.path.exists(fig_dir_signality + '/hammarby_if_elfsborg_22072019_visualisation_goal_2.mp4'):\n",
    "    sviz.save_match_clip(tracking_home.iloc[frame_start:frame_start+frame_range], tracking_away.iloc[frame_start:frame_start+frame_range], video_dir_signality, fname='hammarby_if_elfsborg_22072019_visualisation_goal_2', team_colors=(color_home, color_away), include_player_velocities=True)\n",
    "else:\n",
    "    pass"
   ]
  },
  {
   "cell_type": "code",
   "execution_count": null,
   "metadata": {},
   "outputs": [],
   "source": [
    "# Embed Hammarby's third goal against IF Elfsborg video into the notebook\n",
    "Video(video_dir_signality + '/hammarby_if_elfsborg_22072019_visualisation_goal_2.mp4', width=770, height=530)"
   ]
  },
  {
   "cell_type": "markdown",
   "metadata": {},
   "source": [
    "#### <a id='#section5.2.3'>5.2.3. Measuring the physical performance of players</a>"
   ]
  },
  {
   "cell_type": "markdown",
   "metadata": {},
   "source": [
    "##### <a id='#section5.2.3.1'>5.2.3.1. Generating physical performance reports</a>\n",
    "Generate a bespoke physical summary of all the players for the Home team to show the minutes played, distance covered at different speeds."
   ]
  },
  {
   "cell_type": "code",
   "execution_count": null,
   "metadata": {},
   "outputs": [],
   "source": [
    "# Physical summary for home players\n",
    "\n",
    "## Define DataFrames\n",
    "tracking_home = df_tracking_elfsborg_home\n",
    "tracking_away = df_tracking_elfsborg_away\n",
    "\n",
    "\n",
    "## Drop player that did not play\n",
    "temp = tracking_home.dropna(axis=1, how='all')\n",
    "\n",
    "\n",
    "## Create DataFrame to identify the jersey number of the Home players\n",
    "df_home_players = np.unique([ c.split('_')[1] for c in tracking_home.columns if c[:4] == 'Home'])\n",
    "\n",
    "\n",
    "## Create DataFrame where each row is a player\n",
    "df_home_summary = pd.DataFrame(index=df_home_players)\n",
    "\n",
    "\n",
    "# Calculate minutes played for each player\n",
    "\n",
    "### Create emplty list for minutes\n",
    "lst_minutes = []\n",
    "\n",
    "### Cycle through each player's jersey number in the home team and look for the first and last time for each player\n",
    "for player in df_home_players:\n",
    "    # search for first and last frames that we have a position observation for each player (when a player is not on the pitch positions are NaN)\n",
    "    column = 'Home_' + player + '_x' # use player x-position coordinate\n",
    "    try:\n",
    "        player_minutes = (tracking_home[column].last_valid_index() - tracking_home[column].first_valid_index() + 1 ) / 25 / 60     # convert to minutes\n",
    "    except:\n",
    "        player_minutes = 0\n",
    "    lst_minutes.append(player_minutes)\n",
    "df_home_summary['Minutes Played'] = lst_minutes\n",
    "\n",
    "### \n",
    "df_home_summary = df_home_summary.sort_values(['Minutes Played'], ascending=False)\n",
    "\n",
    "\n",
    "## Calculate total distance covered for each player\n",
    "\n",
    "### Create emplty list for distance\n",
    "lst_distance = []\n",
    "\n",
    "### Cycle through each player's jersey number in the home team and multiple their speed at any given instance by 40ms to get total distance and divide by 1,000 to get this in km\n",
    "for player in df_home_summary.index:\n",
    "    column = 'Home_' + player + '_speed'\n",
    "    df_player_distance = tracking_home[column].sum()/25./1000    # speed time time. Convert to km\n",
    "    lst_distance.append(df_player_distance)\n",
    "\n",
    "### \n",
    "df_home_summary['Distance [km]'] = lst_distance\n",
    "\n",
    "\n",
    "## Calculate total distance covered for each player for different types of movement\n",
    "\n",
    "### Create empty lists for distances of different movements\n",
    "lst_walking = []\n",
    "lst_jogging = []\n",
    "lst_running = []\n",
    "lst_sprinting = []\n",
    "\n",
    "### Cycle through each player's jersey number in the home team and \n",
    "for player in df_home_summary.index:\n",
    "    column = 'Home_' + player + '_speed'\n",
    "    ### Walking (less than 2m/s)\n",
    "    player_distance = df_tracking_elfsborg_home.loc[tracking_home[column] <2, column].sum()/25./1000\n",
    "    lst_walking.append(player_distance)\n",
    "    ### Jogging (between 2 and 4 m/s)\n",
    "    player_distance = df_tracking_elfsborg_home.loc[(tracking_home[column] >= 2) & (df_tracking_elfsborg_home[column] < 4), column].sum()/25./1000\n",
    "    lst_jogging.append(player_distance)\n",
    "    ### Running (between 4 and 7 m/s)\n",
    "    player_distance = df_tracking_elfsborg_home.loc[(tracking_home[column] >= 4) & (df_tracking_elfsborg_home[column] < 7), column].sum()/25./1000\n",
    "    lst_running.append(player_distance)\n",
    "    ### Sprinting (greater than 7 m/s)\n",
    "    player_distance = df_tracking_elfsborg_home.loc[tracking_home[column] >= 7, column].sum()/25./1000\n",
    "    lst_sprinting.append(player_distance)\n",
    "\n",
    "### Assign each movement list to a column in the Home Summary DataFrame\n",
    "df_home_summary['Walking [km]'] = lst_walking\n",
    "df_home_summary['Jogging [km]'] = lst_jogging\n",
    "df_home_summary['Running [km]'] = lst_running\n",
    "df_home_summary['Sprinting [km]'] = lst_sprinting\n",
    "\n",
    "\n",
    "## Sustained sprints: how many sustained sprints per match did each player complete? Defined as maintaining a speed > 7 m/s for at least 1 second\n",
    "\n",
    "###\n",
    "nsprints = []\n",
    "\n",
    "###\n",
    "sprint_threshold = 7 # minimum speed to be defined as a sprint {m/s}\n",
    "sprint_window = 1 * 25\n",
    "\n",
    "###\n",
    "for player in df_home_summary.index:\n",
    "    column = 'Home_' + player + '_speed'\n",
    "    # trick here is to convolve speed with a window of size 'sprint_window', and find number of occassions that sprint was sustained for at least one window length\n",
    "    # diff helps us to identify when the window starts\n",
    "    player_sprints = np.diff(1 * (np.convolve(1 * (tracking_home[column] >= sprint_threshold), np.ones(sprint_window), mode='same') >= sprint_window))\n",
    "    nsprints.append(np.sum(player_sprints == 1 ))\n",
    "\n",
    "###    \n",
    "df_home_summary['# sprints'] = nsprints\n",
    "\n",
    "\n",
    "# Display DataFrame of players their minutes, the distances covered for each movement type\n",
    "df_home_summary"
   ]
  },
  {
   "cell_type": "code",
   "execution_count": null,
   "metadata": {},
   "outputs": [],
   "source": [
    "# Make a simple bar chart of distance covered for each player\n",
    "plt.subplots()\n",
    "ax = df_home_summary['Distance [km]'].plot.bar(rot=0)\n",
    "ax.set_xlabel('Player')\n",
    "ax.set_ylabel('Distance covered [km]')\n",
    "\n",
    "## Save figure\n",
    "if not os.path.exists(fig_dir_signality + '/hammarby_if_elfsborg_22072019_distance_covered_hammarby.png'):\n",
    "    plt.savefig(fig_dir_signality + '/hammarby_if_elfsborg_22072019_distance_covered_hammarby.png', dpi=300, format='png', transparent=False, bbox_inches='tight')\n",
    "else:\n",
    "    pass"
   ]
  },
  {
   "cell_type": "code",
   "execution_count": null,
   "metadata": {},
   "outputs": [],
   "source": [
    "# Make a clustered bar chart of distance covered for each player at each speed\n",
    "ax = df_home_summary[['Walking [km]', 'Jogging [km]', 'Running [km]', 'Sprinting [km]']].plot.bar(colormap='coolwarm')\n",
    "ax.set_xlabel('Player')\n",
    "ax.set_ylabel('Distance covered [m]')\n",
    "\n",
    "## Save figure\n",
    "if not os.path.exists(fig_dir_signality + '/hammarby_if_elfsborg_22072019_distance_covered_split_hammarby.png'):\n",
    "    plt.savefig(fig_dir_signality + '/hammarby_if_elfsborg_22072019_distance_covered_split_hammarby.png', dpi=300, format='png', transparent=False, bbox_inches='tight')\n",
    "else:\n",
    "    pass"
   ]
  },
  {
   "cell_type": "code",
   "execution_count": null,
   "metadata": {},
   "outputs": [],
   "source": []
  },
  {
   "cell_type": "code",
   "execution_count": null,
   "metadata": {},
   "outputs": [],
   "source": []
  },
  {
   "cell_type": "code",
   "execution_count": null,
   "metadata": {},
   "outputs": [],
   "source": []
  },
  {
   "cell_type": "code",
   "execution_count": null,
   "metadata": {},
   "outputs": [],
   "source": []
  },
  {
   "cell_type": "markdown",
   "metadata": {},
   "source": [
    "### <a id='#section5.3'> 5.3. Malmö FF"
   ]
  },
  {
   "cell_type": "markdown",
   "metadata": {},
   "source": [
    "#### <a id='#section5.1.1'>5.3.1. Match Facts</a>\n",
    "Hammarby 2 vs. 0 Malmö FF on 20th October 2019 [[link](https://int.soccerway.com/matches/2019/10/20/sweden/allsvenskan/hammarby/malmo-fotbollsforening/2947351/)]"
   ]
  },
  {
   "cell_type": "markdown",
   "metadata": {},
   "source": [
    "##### <a id='#section5.3.1'>5.3.1.1. Starting XI</a>\n",
    "\n",
    "![title](../../../../img/hammarby_malmo_20102019_lineup.png)"
   ]
  },
  {
   "cell_type": "code",
   "execution_count": null,
   "metadata": {},
   "outputs": [],
   "source": [
    "# Display the DataFrame\n",
    "df_lineup_malmo_home.head(18)"
   ]
  },
  {
   "cell_type": "code",
   "execution_count": null,
   "metadata": {},
   "outputs": [],
   "source": [
    "# Display the DataFrame\n",
    "df_lineup_malmo_away.head(18)"
   ]
  },
  {
   "cell_type": "markdown",
   "metadata": {},
   "source": [
    "##### <a id='#section5.3.1.2'>5.3.1.2. Goals and Assists</a>\n",
    "*    Hammarby 2 vs. 0 Malmö FF on 20th October 2019 [[link](https://int.soccerway.com/matches/2019/10/20/sweden/allsvenskan/hammarby/malmo-fotbollsforening/2947351/)]\n",
    "     - A. Kačaniklić 15' (1-0) (assist by N. Đurđić)\n",
    "     - R. Magyar 88' (2-0) (assist by D. Bojanic)"
   ]
  },
  {
   "cell_type": "markdown",
   "metadata": {},
   "source": [
    "##### <a id='#section5.3.1.3'>5.3.1.3. Match Highlights</a>"
   ]
  },
  {
   "cell_type": "code",
   "execution_count": null,
   "metadata": {},
   "outputs": [],
   "source": [
    "# Embed highlights for Hammarby (2) vs. (0) Malmö FF (20/10/2019)\n",
    "\n",
    "## YouTube link (COMMENTED OUT)\n",
    "YouTubeVideo('Q7OEEZGN-Bk', width=800, height=470)\n",
    "\n",
    "## Local file\n",
    "#Video(video_dir_signality + '/20191020_Hammarby_MalmöFF.mp4', width=770, height=530)"
   ]
  },
  {
   "cell_type": "markdown",
   "metadata": {},
   "source": [
    "#### <a id='#section5.3.2'>5.3.2. Visualisation of the positions of the players for selected moments of play including their direction and velocity</a>"
   ]
  },
  {
   "cell_type": "markdown",
   "metadata": {},
   "source": [
    "##### <a id='#section5.3.2.1'>5.3.2.1. Kick Off"
   ]
  },
  {
   "cell_type": "code",
   "execution_count": null,
   "metadata": {},
   "outputs": [],
   "source": [
    "# Visualisation of the positions of the players at with location and speed just after kick-off</a>\n",
    "\n",
    "## Define variables used in 'plot_frame' function\n",
    "frame_idx = 20\n",
    "tracking_home = df_tracking_malmo_home\n",
    "tracking_away = df_tracking_malmo_away\n",
    "color_home = color_hammarby\n",
    "color_away = color_malmo\n",
    "\n",
    "## Visualise player positions using plot_events function from sviz library\n",
    "fig, ax = sviz.plot_frame(tracking_home.loc[frame_idx], tracking_away.loc[frame_idx], team_colors=(color_home, color_away), include_player_velocities=True, annotate=True)\n",
    "\n",
    "## Save figure\n",
    "if not os.path.exists(fig_dir_signality + '/hammarby_malmo_20102019_kickoff.png'):\n",
    "    plt.savefig(fig_dir_signality + '/hammarby_malmo_20102019_kickoff.png', dpi=300, format='png', transparent=False, bbox_inches='tight')\n",
    "else:\n",
    "    pass"
   ]
  },
  {
   "cell_type": "markdown",
   "metadata": {},
   "source": [
    "##### <a id='#section5.3.2.2'>5.3.2.2. Visualisation of the first 60 seconds of the match</a>"
   ]
  },
  {
   "cell_type": "code",
   "execution_count": null,
   "metadata": {},
   "outputs": [],
   "source": [
    "# Plotting tracking data -  of the first 60 seconds (i.e. 60 x 90 = 1500 frames)\n",
    "\n",
    "## Define end frame for which to stop tracking player's movement\n",
    "end_frame_idx = 1_500\n",
    "\n",
    "## Define variables using in 'plot_pitch' function\n",
    "tracking_home = df_tracking_malmo_home\n",
    "tracking_away = df_tracking_malmo_away\n",
    "\n",
    "## Visualise player positions using plot_events function from sviz library\n",
    "fig, ax = sviz.plot_pitch()\n",
    "ax.plot(tracking_home['Home_25_x'].iloc[:end_frame_idx], tracking_home['Home_25_y'].iloc[:end_frame_idx], 'b.', MarkerSize=1)\n",
    "ax.plot(tracking_home['Home_2_x'].iloc[:end_frame_idx], tracking_home['Home_2_y'].iloc[:end_frame_idx], 'g.', MarkerSize=1)\n",
    "ax.plot(tracking_home['Home_4_x'].iloc[:end_frame_idx], tracking_home['Home_4_y'].iloc[:end_frame_idx], 'k.', MarkerSize=1)\n",
    "ax.plot(tracking_home['Home_5_x'].iloc[:end_frame_idx], tracking_home['Home_5_y'].iloc[:end_frame_idx], 'r.', MarkerSize=1)\n",
    "ax.plot(tracking_home['Home_3_x'].iloc[:end_frame_idx], tracking_home['Home_3_y'].iloc[:end_frame_idx], 'c.', MarkerSize=1)\n",
    "\n",
    "## Save figure\n",
    "if not os.path.exists(fig_dir_signality + '/hammarby_malmo_20102019_hammarby_backfive_first_60_seconds.png'):\n",
    "    plt.savefig(fig_dir_signality + '/hammarby_malmo_20102019_hammarby_backfive_first_60_seconds.png', dpi=300, format='png', transparent=False, bbox_inches='tight')\n",
    "else:\n",
    "    pass"
   ]
  },
  {
   "cell_type": "markdown",
   "metadata": {},
   "source": [
    "##### <a id='#section5.3.2.3'>5.3.2.3. Goals"
   ]
  },
  {
   "cell_type": "markdown",
   "metadata": {},
   "source": [
    "###### Hammarby's first goal\n",
    "A. Kačaniklić 15' (1-0) (assist by N. Đurđić)"
   ]
  },
  {
   "cell_type": "code",
   "execution_count": null,
   "metadata": {},
   "outputs": [],
   "source": [
    "# Visualise the player's positions just before the first goal\n",
    "\n",
    "## Define end frame for which to stop tracking player's movement\n",
    "frame_idx = 21_032\n",
    "\n",
    "## Define variables used in 'plot_frame' function\n",
    "tracking_home = df_tracking_malmo_home\n",
    "tracking_away = df_tracking_malmo_away\n",
    "color_home = color_hammarby\n",
    "color_away = color_malmo\n",
    "\n",
    "## Visualise player positions using plot_events function from sviz library\n",
    "fig, ax = sviz.plot_frame(tracking_home.loc[frame_idx], tracking_away.loc[frame_idx], team_colors=(color_home, color_away), include_player_velocities=True, annotate=True)\n",
    "\n",
    "## Save figure\n",
    "if not os.path.exists(fig_dir_signality + '/hammarby_malmo_20102019_visualisation_goal_1.png'):\n",
    "    plt.savefig(fig_dir_signality + '/hammarby_malmo_20102019_isualisation_goal_1.png', dpi=300, format='png', transparent=False, bbox_inches='tight')\n",
    "else:\n",
    "    pass"
   ]
  },
  {
   "cell_type": "code",
   "execution_count": null,
   "metadata": {},
   "outputs": [],
   "source": [
    "# Making a movie clip, very useful to find exact frames of interest\n",
    "\n",
    "## Define frames for the start and end of the goal\n",
    "frame_start = 18_400\n",
    "frame_range = 2_000\n",
    "\n",
    "## Define variables using in the 'save_match_clip' function\n",
    "tracking_home = df_tracking_malmo_home\n",
    "tracking_away = df_tracking_malmo_away\n",
    "color_home = color_hammarby\n",
    "color_away = color_malmo\n",
    "\n",
    "## Save video using save_match_clip function from sviz library\n",
    "if not os.path.exists(fig_dir_signality + '/hammarby_malmo_20102019_visualisation_goal_1.mp4'):\n",
    "    sviz.save_match_clip(tracking_home.iloc[frame_start:frame_start+frame_range], tracking_away.iloc[frame_start:frame_start+frame_range], video_dir_signality, fname='hammarby_malmo_20102019_visualisation_goal_1', team_colors=(color_home, color_away), include_player_velocities=True)\n",
    "else:\n",
    "    pass"
   ]
  },
  {
   "cell_type": "code",
   "execution_count": null,
   "metadata": {},
   "outputs": [],
   "source": [
    "# Embed Hammarby's third goal against IF Elfsborg video into the notebook\n",
    "Video(video_dir_signality + '/hammarby_malmo_20102019_visualisation_goal_1.mp4', width=770, height=530)"
   ]
  },
  {
   "cell_type": "markdown",
   "metadata": {},
   "source": [
    "###### Hammarby's second goal\n",
    "R. Magyar 88' (2-0) (assist by D. Bojanic)"
   ]
  },
  {
   "cell_type": "code",
   "execution_count": null,
   "metadata": {},
   "outputs": [],
   "source": []
  },
  {
   "cell_type": "code",
   "execution_count": null,
   "metadata": {},
   "outputs": [],
   "source": []
  },
  {
   "cell_type": "markdown",
   "metadata": {},
   "source": [
    "---\n",
    "\n",
    "## <a id='#section6'>6. Summary</a>\n",
    "This notebook is a short Exploratory Data Analysis (EDA) of [Signality](https://www.signality.com/) Tracking football data with [Python](https://www.python.org/) using [pandas](http://pandas.pydata.org/) DataFrames and [matplotlib](https://matplotlib.org/contents.html?v=20200411155018) visualisations."
   ]
  },
  {
   "cell_type": "markdown",
   "metadata": {},
   "source": [
    "---\n",
    "\n",
    "## <a id='#section6'>7. Next Steps</a>\n",
    "The step is to ..."
   ]
  },
  {
   "cell_type": "markdown",
   "metadata": {},
   "source": [
    "---\n",
    "\n",
    "## <a id='#section6'>8. References</a>"
   ]
  },
  {
   "cell_type": "markdown",
   "metadata": {},
   "source": [
    "---\n",
    "\n",
    "***Visit my website [EddWebster.com](https://www.eddwebster.com) or my [GitHub Repository](https://github.com/eddwebster) for more projects. If you'd like to get in contact, my Twitter handle is [@eddwebster](http://www.twitter.com/eddwebster) and my email is: edd.j.webster@gmail.com.***"
   ]
  },
  {
   "cell_type": "markdown",
   "metadata": {},
   "source": [
    "[Back to the top](#top)"
   ]
  }
 ],
 "metadata": {
  "kernelspec": {
   "display_name": "Python 3",
   "language": "python",
   "name": "python3"
  },
  "language_info": {
   "codemirror_mode": {
    "name": "ipython",
    "version": 3
   },
   "file_extension": ".py",
   "mimetype": "text/x-python",
   "name": "python",
   "nbconvert_exporter": "python",
   "pygments_lexer": "ipython3",
   "version": "3.7.6"
  },
  "varInspector": {
   "cols": {
    "lenName": 16,
    "lenType": 16,
    "lenVar": 40
   },
   "kernels_config": {
    "python": {
     "delete_cmd_postfix": "",
     "delete_cmd_prefix": "del ",
     "library": "var_list.py",
     "varRefreshCmd": "print(var_dic_list())"
    },
    "r": {
     "delete_cmd_postfix": ") ",
     "delete_cmd_prefix": "rm(",
     "library": "var_list.r",
     "varRefreshCmd": "cat(var_dic_list()) "
    }
   },
   "oldHeight": 642,
   "position": {
    "height": "664px",
    "left": "728px",
    "right": "20px",
    "top": "14px",
    "width": "489px"
   },
   "types_to_exclude": [
    "module",
    "function",
    "builtin_function_or_method",
    "instance",
    "_Feature"
   ],
   "varInspector_section_display": "block",
   "window_display": false
  }
 },
 "nbformat": 4,
 "nbformat_minor": 4
}
