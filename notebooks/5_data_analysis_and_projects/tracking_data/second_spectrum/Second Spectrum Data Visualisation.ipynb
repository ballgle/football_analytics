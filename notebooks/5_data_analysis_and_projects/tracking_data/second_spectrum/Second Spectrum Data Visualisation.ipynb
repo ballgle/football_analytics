{
 "cells": [
  {
   "cell_type": "markdown",
   "metadata": {},
   "source": [
    "<a id='top'></a>"
   ]
  },
  {
   "cell_type": "markdown",
   "metadata": {},
   "source": [
    "# Second Spectrum Data Visualisation\n",
    "##### Notebook to visualise and analyse engineered [Second Spectrum](https://www.secondspectrum.com/index.html) Tracking data using [pandas](http://pandas.pydata.org/) and [matplotlib](https://matplotlib.org/).\n",
    "\n",
    "### By [Edd Webster](https://www.twitter.com/eddwebster)\n",
    "Notebook first written: 20/01/2022<br>\n",
    "Notebook last updated: 01/02/2022\n",
    "\n",
    "![Pitch Control Screenshot](../../img/pitch_control_screenshot.png)\n",
    "\n",
    "![Watford F.C.](../../img/logos/second_spectrum_logo.jpeg)\n",
    "\n",
    "![Second Spectrum](../../img/club_badges/premier_league/watford_fc_logo_small.png)\n",
    "\n",
    "Click [here](#section4) to jump straight into the Data Analysis section and skip the [Notebook Brief](#section2) and [Data Sources](#section3) sections."
   ]
  },
  {
   "cell_type": "markdown",
   "metadata": {},
   "source": [
    "___\n",
    "\n",
    "\n",
    "## <a id='introduction'>Introduction</a>\n",
    "This notebook analyses and visualises [Second Spectrum](https://www.secondspectrum.com/index.html) Tracking data for two matches, that have been provided by [Watford F.C](https://www.watfordfc.com/), using [pandas](http://pandas.pydata.org/) for data manipulation through DataFrames and [matplotlib](https://matplotlib.org/) for data visualisation.\n",
    "\n",
    "For more information about this notebook and the author, I am available through all the following channels:\n",
    "*    [eddwebster.com](https://www.eddwebster.com/);\n",
    "*    edd.j.webster@gmail.com;\n",
    "*    [@eddwebster](https://www.twitter.com/eddwebster);\n",
    "*    [linkedin.com/in/eddwebster](https://www.linkedin.com/in/eddwebster/);\n",
    "*    [github/eddwebster](https://github.com/eddwebster/); and\n",
    "*    [public.tableau.com/profile/edd.webster](https://public.tableau.com/profile/edd.webster).\n",
    "\n",
    "A static version of this notebook can be found [here](https://nbviewer.org/github/eddwebster/statsbomb/blob/main/notebooks/StatsBomb%20Data%20Engineering.ipynb). This notebook has an accompanying [`watford`](https://github.com/eddwebster/watford) GitHub repository and for my full repository of football analysis, see my [`football_analysis`](https://github.com/eddwebster/football_analytics) GitHub repository."
   ]
  },
  {
   "cell_type": "markdown",
   "metadata": {},
   "source": [
    "___\n",
    "\n",
    "## <a id='notebook_contents'>Notebook Contents</a>\n",
    "1.    [Notebook Dependencies](#section1)<br>\n",
    "2.    [Notebook Brief](#section2)<br>\n",
    "3.    [Data Sources](#section3)<br>\n",
    "      1.    [Introduction](#section3.1)<br>\n",
    "      2.    [Data Dicitonary](#section3.2)<br>\n",
    "      3.    [Import the Data](#section3.3)<br>\n",
    "      4.    [Initial Data Handling](#section3.4)<br>\n",
    "4.    [Exploratory Data Analysis (EDA)](#section4)<br>\n",
    "5.    [Data Analysis](#section5)<br>\n",
    "      1.    [Crystal Palace (1) vs. (1) Brighton & Hove Albion (27/09/2021)](#section5.1)<br>\n",
    "      2.    [Crystal Palace (2) vs. (2) Leicester City (03/10/2021)](#section5.2)<br>\n",
    "6.    [Summary](#section6)<br>\n",
    "7.    [Next Steps](#section7)<br>\n",
    "8.    [References](#section8)<br>"
   ]
  },
  {
   "cell_type": "markdown",
   "metadata": {},
   "source": [
    "___\n",
    "\n",
    "<a id='section1'></a>\n",
    "\n",
    "## <a id='#section1'>1. Notebook Dependencies</a>\n",
    "\n",
    "This notebook was written using [Python 3](https://docs.python.org/3.7/) and requires the following libraries:\n",
    "*    [`Jupyter notebooks`](https://jupyter.org/) for this notebook environment with which this project is presented;\n",
    "*    [`NumPy`](http://www.numpy.org/) for multidimensional array computing;\n",
    "*    [`pandas`](http://pandas.pydata.org/) for data analysis and manipulation; and \n",
    "*    [`matplotlib`](https://matplotlib.org/) for data visualisation.\n",
    "\n",
    "All packages used for this notebook can be obtained by downloading and installing the [Conda](https://anaconda.org/anaconda/conda) distribution, available on all platforms (Windows, Linux and Mac OSX). Step-by-step guides on how to install Anaconda can be found for Windows [here](https://medium.com/@GalarnykMichael/install-python-on-windows-anaconda-c63c7c3d1444) and Mac [here](https://medium.com/@GalarnykMichael/install-python-on-mac-anaconda-ccd9f2014072), as well as in the Anaconda documentation itself [here](https://docs.anaconda.com/anaconda/install/)."
   ]
  },
  {
   "cell_type": "markdown",
   "metadata": {},
   "source": [
    "### Import Libraries and Modules"
   ]
  },
  {
   "cell_type": "code",
   "execution_count": null,
   "metadata": {},
   "outputs": [],
   "source": [
    "# Python ≥3.5 (ideally)\n",
    "import platform\n",
    "import sys, getopt\n",
    "assert sys.version_info >= (3, 5)\n",
    "import csv\n",
    "\n",
    "# Import Dependencies\n",
    "%matplotlib inline\n",
    "\n",
    "# Math Operations\n",
    "import numpy as np\n",
    "import math\n",
    "from math import pi\n",
    "\n",
    "# Datetime\n",
    "import datetime\n",
    "from datetime import date\n",
    "import time\n",
    "\n",
    "# Data Preprocessing\n",
    "import pandas as pd\n",
    "import pandas_profiling as pp\n",
    "import os\n",
    "import re\n",
    "import chardet\n",
    "import random\n",
    "from io import BytesIO\n",
    "from pathlib import Path\n",
    "\n",
    "# Kloppy\n",
    "from kloppy import secondspectrum\n",
    "\n",
    "# Reading Directories\n",
    "import glob\n",
    "import os\n",
    "\n",
    "# Working with JSON\n",
    "import json\n",
    "from pandas import json_normalize\n",
    "\n",
    "# Data Visualisation\n",
    "import matplotlib as mpl\n",
    "import matplotlib.pyplot as plt\n",
    "import matplotlib.animation as animation\n",
    "from matplotlib.colors import LinearSegmentedColormap\n",
    "from matplotlib import patches\n",
    "import seaborn as sns\n",
    "import missingno as msno\n",
    "import moviepy.editor as mpy\n",
    "from moviepy.video.io.bindings import mplfig_to_npimage\n",
    "\n",
    "# Requests and downloads\n",
    "import tqdm\n",
    "import requests\n",
    "\n",
    "# Machine Learning\n",
    "import scipy.signal as signal\n",
    "from scipy.spatial import Voronoi, voronoi_plot_2d, Delaunay\n",
    "\n",
    "# Display in Jupyter\n",
    "from IPython.display import Image, Video, YouTubeVideo\n",
    "from IPython.core.display import HTML\n",
    "\n",
    "# Ignore Warnings\n",
    "import warnings\n",
    "warnings.filterwarnings(action=\"ignore\", message=\"^internal gelsd\")\n",
    "\n",
    "# Print message\n",
    "print('Setup Complete')"
   ]
  },
  {
   "cell_type": "code",
   "execution_count": null,
   "metadata": {
    "scrolled": false
   },
   "outputs": [],
   "source": [
    "# Python / module versions used here for reference\n",
    "print('Python: {}'.format(platform.python_version()))\n",
    "print('NumPy: {}'.format(np.__version__))\n",
    "print('pandas: {}'.format(pd.__version__))\n",
    "print('matplotlib: {}'.format(mpl.__version__))"
   ]
  },
  {
   "cell_type": "markdown",
   "metadata": {},
   "source": [
    "### Defined Filepaths"
   ]
  },
  {
   "cell_type": "code",
   "execution_count": null,
   "metadata": {},
   "outputs": [],
   "source": [
    "# Set up initial paths to subfolders\n",
    "base_dir = os.path.join('..', '..')\n",
    "data_dir = os.path.join(base_dir, 'data')\n",
    "data_dir_second_spectrum = os.path.join(base_dir, 'data', 'second_spectrum')\n",
    "data_dir_opta = os.path.join(base_dir, 'data', 'opta')\n",
    "scripts_dir = os.path.join(base_dir, 'scripts')\n",
    "scripts_dir_second_spectrum = os.path.join(base_dir, 'scripts', 'second_spectrum')\n",
    "scripts_dir_metrica_sports = os.path.join(base_dir, 'scripts', 'metrica_sports')\n",
    "img_dir = os.path.join(base_dir, 'img')\n",
    "fig_dir = os.path.join(base_dir, 'img', 'fig')\n",
    "fig_dir_second_spectrum = os.path.join(base_dir, 'img', 'fig', 'second_spectrum')\n",
    "video_dir = os.path.join(base_dir, 'video')\n",
    "video_dir_second_spectrum = os.path.join(base_dir, 'video', 'fig', 'second_spectrum')"
   ]
  },
  {
   "cell_type": "markdown",
   "metadata": {},
   "source": [
    "### Defined Variables"
   ]
  },
  {
   "cell_type": "code",
   "execution_count": null,
   "metadata": {},
   "outputs": [],
   "source": [
    "# Define variables\n",
    "\n",
    "## Define pitch dimensions\n",
    "pitch_length = 106.0\n",
    "pitch_width = 68\n",
    "\n",
    "## Team colours\n",
    "colour_crystal_palace = 'r'\n",
    "colour_leicester_city = 'b'\n",
    "colour_brighton_and_hove_albion = 'c'\n",
    "\n",
    "#colour_crystal_palace = '#C4122E'\n",
    "#colour_leicester_city = '#003090'\n",
    "#colour_brighton_and_hove_albion = '#0057B8'"
   ]
  },
  {
   "cell_type": "markdown",
   "metadata": {},
   "source": [
    "### Custom Libraries for Tracking Data\n",
    "Custom libraries for working with the [Second Spectrum](https://www.secondspectrum.com/index.html) data, that were initially written by [Laurie Shaw](https://twitter.com/EightyFivePoint), to work with the [Metrica Sports](https://metrica-sports.com/) data. See the following for his original code [[link](https://github.com/Friends-of-Tracking-Data-FoTD/LaurieOnTracking)].\n",
    "\n",
    "The modifications to this data include the ability to create Pitch Control models without Tracking data."
   ]
  },
  {
   "cell_type": "code",
   "execution_count": null,
   "metadata": {},
   "outputs": [],
   "source": [
    "# Custom libraries for working with Tracking data\n",
    "\n",
    "## Define path of scripts\n",
    "sys.path.insert(0, os.path.abspath(scripts_dir_second_spectrum))\n",
    "\n",
    "## Second Spectrum scripts - custom scripts derived from Laurie Shaw's Metrica scripts\n",
    "import Second_Spectrum_IO as sio\n",
    "import Second_Spectrum_Viz as sviz\n",
    "import Second_Spectrum_Velocities as svel\n",
    "import Second_Spectrum_PitchControl as spc\n",
    "import Second_Spectrum_EPV as sepv"
   ]
  },
  {
   "cell_type": "code",
   "execution_count": null,
   "metadata": {},
   "outputs": [],
   "source": [
    "\"\"\"\n",
    "## Laurie Shaw's custom libraries for working with Metrica Sports data\n",
    "import Metrica_IO as mio\n",
    "import Metrica_Viz as mviz\n",
    "import Metrica_Velocities as mvel\n",
    "import Metrica_PitchControl as mpc\n",
    "import Metrica_EPV as mepv\n",
    "\"\"\""
   ]
  },
  {
   "cell_type": "markdown",
   "metadata": {},
   "source": [
    "### Custom Functions\n",
    "Functions built on top of the Second Spectrum scripts, designed for use in this notebook."
   ]
  },
  {
   "cell_type": "code",
   "execution_count": null,
   "metadata": {},
   "outputs": [],
   "source": [
    "# Define function to estimate the frame number for a timestamp in the data\n",
    "def estimate_frame_no(minutes, seconds, frame_rate=25):\n",
    "    \n",
    "    '''\n",
    "    Function to estimate the frame number for a timestamp in the data.\n",
    "    '''\n",
    "    \n",
    "    frame_no = (minutes * 60 * frame_rate) + (seconds * frame_rate)\n",
    "    \n",
    "    return frame_no"
   ]
  },
  {
   "cell_type": "code",
   "execution_count": null,
   "metadata": {},
   "outputs": [],
   "source": [
    "# Define function to \n",
    "def create_tracking_data_video(df_tracking_home,\n",
    "                               df_tracking_away,\n",
    "                               frame_start,\n",
    "                               video_length_frames,\n",
    "                               filename\n",
    "                              ):\n",
    "    \n",
    "    \"\"\"\n",
    "    Function to create Tracking data videos.\n",
    "    \"\"\"\n",
    "    \n",
    "    ## Create MP4 video of tracking data\n",
    "    if not os.path.exists(video_dir_second_spectrum + f'/{filename}_{frame_start}_{frame_start+video_length_frames}.mp4'):\n",
    "        sviz.save_match_clip(hometeam=df_tracking_home.iloc[frame_start:frame_start+video_length_frames],\n",
    "                             awayteam=df_tracking_away.iloc[frame_start:frame_start+video_length_frames],\n",
    "                             fpath=video_dir_second_spectrum,\n",
    "                             fname=f'/{filename}_{frame_start}_{frame_start+video_length_frames}',\n",
    "                             frames_per_second=25,\n",
    "                             team_colors=('r','b'),\n",
    "                             field_dimen = (106.0,68.0),\n",
    "                             include_player_velocities=False,\n",
    "                             PlayerMarkerSize=10,\n",
    "                             PlayerAlpha=0.7\n",
    "                            )\n",
    "    else:\n",
    "        pass"
   ]
  },
  {
   "cell_type": "code",
   "execution_count": null,
   "metadata": {},
   "outputs": [],
   "source": [
    "# Define function to create Pitch Control visualisation for individual frames\n",
    "def create_pitch_control_frame(frame_idx,\n",
    "                               tracking_home,\n",
    "                               tracking_away,\n",
    "                               colour_home,\n",
    "                               colour_away,\n",
    "                               filename\n",
    "                              ):\n",
    "    \n",
    "    \"\"\"\n",
    "    Function to create Pitch Control visualisation for individual frames\n",
    "    \"\"\"\n",
    "    \n",
    "    ## Define cmap\n",
    "    cmap=LinearSegmentedColormap.from_list('mycmap', [colour_away, 'white', colour_home])\n",
    "    \n",
    "    ## Create MP4 video of tracking data\n",
    "    if not os.path.exists(fig_dir_second_spectrum + f'/pitch_control_frame_{filename}_{frame_idx}.mp4'):\n",
    "        PPCF, xgrid, ygrid = spc.generate_pitch_control_for_event(frame_idx, tracking_home, tracking_home, tracking_away, params, GK_numbers, n_grid_cells_x=50)\n",
    "        sviz.plot_pitchcontrol_for_event(frame_idx,\n",
    "                                         tracking_home,\n",
    "                                         tracking_home=tracking_home,\n",
    "                                         tracking_away=tracking_away,\n",
    "                                         PPCF=PPCF,\n",
    "                                         cmap=cmap,\n",
    "                                         include_player_velocities=False,\n",
    "                                         annotate=True\n",
    "                                        )\n",
    "        \n",
    "        plt.savefig(fig_dir_second_spectrum + f'/pitch_control_frame_{filename}_{frame_idx}.png', dpi=300, format='png', transparent=False, bbox_inches='tight')\n",
    "            \n",
    "    else:\n",
    "        pass"
   ]
  },
  {
   "cell_type": "code",
   "execution_count": null,
   "metadata": {},
   "outputs": [],
   "source": [
    "\"\"\"\n",
    "# NOT WORKING PERFECTLY AT THE MOMENT, CODE USED BUT NOT IN A FUNCTION CURRENTLY\n",
    "\n",
    "# Visualise player positions using generate_pitch_control_for_event function from spc library\n",
    "def make_frame(t):\n",
    "    t2 = int(math.ceil(t*f+0.0001)-1)\n",
    "    #PPCF,xgrid,ygrid = spc.generate_pitch_control_for_event(t2+starting_frame, tracking_home, tracking_home, tracking_away, params, GK_numbers, field_dimen = (pitch_length, pitch_width), n_grid_cells_x=50)\n",
    "    #fig, ax = sviz.plot_pitchcontrol_for_event(t2+starting_frame, tracking_home, tracking_home, tracking_away, PPCF, cmap, annotate=False)\n",
    "    PPCF, xgrid, ygrid = spc.generate_pitch_control_for_event(t2+starting_frame, tracking_home, tracking_home, tracking_away, params, GK_numbers, field_dimen = (pitch_length, pitch_width), n_grid_cells_x=50)\n",
    "    fig, ax = sviz.plot_pitchcontrol_for_event(t2+starting_frame, tracking_home, tracking_home, tracking_away, PPCF, cmap, include_player_velocities=False, annotate=True)\n",
    "    image = mplfig_to_npimage(fig)\n",
    "    return image    # returns a 8-bit RGB array\n",
    "\n",
    "\n",
    "# Define function to create Pitch Control visualisation for individual frames\n",
    "def create_pitch_control_video(starting_frame,\n",
    "                               end_frame,\n",
    "                               f,\n",
    "                               tracking_home,\n",
    "                               tracking_away,\n",
    "                               colour_home,\n",
    "                               colour_away,\n",
    "                               pitch_length,\n",
    "                               pitch_width,\n",
    "                               filename\n",
    "                              ):\n",
    "    \n",
    "\"\"\"\n",
    "\"\"\"\n",
    "    # Function to create Pitch Control visualisation for a video of frames\n",
    "\"\"\"\n",
    "\"\"\"\n",
    "    \n",
    "    ## Create colour map\n",
    "    cmap = LinearSegmentedColormap.from_list('mycmap', [colour_away, 'white', colour_home]),\n",
    "    \n",
    "    ## Create MP4 video of tracking data\n",
    "    if not os.path.exists(video_dir_second_spectrum + f'/pitch_control_clip_{filename}_{starting_frame}_{end_frame}.mp4'):\n",
    "        clip = mpy.VideoClip(make_frame, duration=((end_frame-starting_frame)/f)).set_fps(f)\n",
    "        clip.write_videofile(video_dir_second_spectrum + f'/pitch_control_clip_{filename}_{starting_frame}_{end_frame}.mp4')\n",
    "            \n",
    "    else:\n",
    "        pass\n",
    "\"\"\""
   ]
  },
  {
   "cell_type": "code",
   "execution_count": null,
   "metadata": {},
   "outputs": [],
   "source": [
    "# Define function to get the top speeds for a Tracking data DataFrame\n",
    "def get_max_speeds(df):\n",
    "    top_speeds = {}\n",
    "\n",
    "    v_columns = [i for i in df.columns if '_speed' in i]\n",
    "\n",
    "    for i in v_columns:\n",
    "        p = i.split('_')[1]\n",
    "\n",
    "        #max_ind = tracking_home[i].idxmax()    \n",
    "        top_speeds['Player_' + p] = df[i].max()\n",
    "    return top_speeds"
   ]
  },
  {
   "cell_type": "code",
   "execution_count": null,
   "metadata": {},
   "outputs": [],
   "source": [
    "# Define a function to generate a bespoke physical summary of all the players for the the team of interest\n",
    "def create_physical_report(df_tracking,\n",
    "                           team,\n",
    "                           match,\n",
    "                           filename\n",
    "                          ):\n",
    "    \n",
    "    ## Data Engineering\n",
    "    \n",
    "    ### Drop player that did not play\n",
    "    temp = df_tracking.dropna(axis=1, how='all')\n",
    "\n",
    "    ### Create DataFrame to identify the jersey number of the players\n",
    "    df_players = np.unique([ c.split('_')[1] for c in df_tracking.columns if c[:4] == team])\n",
    "\n",
    "    ### Create DataFrame where each row is a player\n",
    "    df_summary = pd.DataFrame(index=df_players)\n",
    "    \n",
    "    \n",
    "    \n",
    "    ## Calculate minutes played for each player\n",
    "\n",
    "    ### Create emplty list for minutes\n",
    "    lst_minutes = []\n",
    "\n",
    "    ### Cycle through each player's jersey number in the team and look for the first and last time for each player\n",
    "    for player in df_players:\n",
    "        \n",
    "        #### Search for first and last frames that we have a position observation for each player (when a player is not on the pitch positions are NaN)\n",
    "        column = f'{team}_' + player + '_x' # use player x-position coordinate\n",
    "        try:\n",
    "            player_minutes = (df_tracking[column].last_valid_index() - df_tracking[column].first_valid_index() + 1 ) / 25 / 60     # convert to minutes\n",
    "        except:\n",
    "            player_minutes = 0\n",
    "        lst_minutes.append(player_minutes)\n",
    "        \n",
    "    ### Create column for the minute played\n",
    "    df_summary['Minutes Played'] = lst_minutes\n",
    "\n",
    "    ### Sort values by minutes played descending\n",
    "    df_summary = df_summary.sort_values(['Minutes Played'], ascending=False)\n",
    "\n",
    "\n",
    "    \n",
    "    ## Calculate total distance covered for each player\n",
    "\n",
    "    ### Create empty list for distance\n",
    "    lst_distance = []\n",
    "\n",
    "    ### Cycle through each player's jersey number in the team and multiple their speed at any given instance by 40ms to get total distance and divide by 1,000 to get this in km\n",
    "    for player in df_summary.index:\n",
    "        column = f'{team}_' + player + '_speed'\n",
    "        df_player_distance = df_tracking[column].sum()/25./1000    # speed time time. Convert to km\n",
    "        lst_distance.append(df_player_distance)\n",
    "\n",
    "    ### Create column for the distance in km\n",
    "    df_summary['Distance [km]'] = lst_distance\n",
    "\n",
    "\n",
    "    \"\"\"    \n",
    "    ## Make a simple bar chart of distance covered for each player\n",
    "    plt.subplots()\n",
    "    ax = df_summary['Distance [km]'].plot.bar(rot=0)\n",
    "    ax.set_xlabel('Player')\n",
    "    ax.set_ylabel('Distance covered [km]')\n",
    "    \"\"\"\n",
    "    \n",
    "    \n",
    "    ## Calculate total distance covered for each player for different types of movement\n",
    "\n",
    "    ### Create empty list for distance\n",
    "    lst_distance = []\n",
    "\n",
    "    ### Cycle through each player's jersey number in the team and multiple their speed at any given instance by 40ms to get total distance and divide by 1,000 to get this in km\n",
    "    for player in df_summary.index:\n",
    "        column = f'{team}_' + player + '_speed'\n",
    "        df_player_distance = df_tracking[column].sum()/25./1000    # speed time time. Convert to km\n",
    "        lst_distance.append(df_player_distance)\n",
    "    \n",
    "    ### Create column for the distance in km\n",
    "    df_summary['Distance [km]'] = lst_distance\n",
    "    \n",
    "    \n",
    "    \n",
    "    ## Calculate total distance covered for each player for different types of movement\n",
    "\n",
    "    ### Create empty lists for distances of different movements\n",
    "    lst_walking = []\n",
    "    lst_jogging = []\n",
    "    lst_running = []\n",
    "    lst_sprinting = []\n",
    "\n",
    "    ### Cycle through each player's jersey number in the team and \n",
    "    for player in df_summary.index:\n",
    "        column = f'{team}_' + player + '_speed'\n",
    "        ### Walking (less than 2m/s)\n",
    "        player_distance = df_tracking.loc[df_tracking[column] <2, column].sum()/25./1000\n",
    "        lst_walking.append(player_distance)\n",
    "        ### Jogging (between 2 and 4 m/s)\n",
    "        player_distance = df_tracking.loc[(df_tracking[column] >= 2) & (df_tracking[column] < 4), column].sum()/25./1000\n",
    "        lst_jogging.append(player_distance)\n",
    "        ### Running (between 4 and 7 m/s)\n",
    "        player_distance = df_tracking.loc[(df_tracking[column] >= 4) & (df_tracking[column] < 7), column].sum()/25./1000\n",
    "        lst_running.append(player_distance)\n",
    "        ### Sprinting (greater than 7 m/s)\n",
    "        player_distance = df_tracking.loc[df_tracking[column] >= 7, column].sum()/25./1000\n",
    "        lst_sprinting.append(player_distance)\n",
    "\n",
    "    ### Assign each movement list to a column in the Summary DataFrame\n",
    "    df_summary['Walking [km]'] = lst_walking\n",
    "    df_summary['Jogging [km]'] = lst_jogging\n",
    "    df_summary['Running [km]'] = lst_running\n",
    "    df_summary['Sprinting [km]'] = lst_sprinting\n",
    "    \n",
    "    \n",
    "    \"\"\"    \n",
    "    ## Make a clustered bar chart of distance covered for each player at each speed\n",
    "    ax = df_summary[['Walking [km]', 'Jogging [km]', 'Running [km]', 'Sprinting [km]']].plot.bar(colormap='coolwarm')\n",
    "    ax.set_xlabel('Player')\n",
    "    ax.set_ylabel('Distance covered [m]')\n",
    "    \"\"\"    \n",
    "    \n",
    "    ## Reset index\n",
    "    df_summary = df_summary.reset_index(drop=False)\n",
    "   \n",
    "    ## Rename columns\n",
    "    df_summary = df_summary.rename(columns={'index': 'JerseyNo'})   \n",
    "    \n",
    "    \n",
    "    ## Add columns for team and match\n",
    "    df_summary['Team'] = team\n",
    "    df_summary['Match'] = match\n",
    "    \n",
    "    \n",
    "    \n",
    "    ## Determine the number of sustained sprints per match\n",
    "\n",
    "    ### Create an empty list for the number of sprints\n",
    "    nsprints = []\n",
    "\n",
    "    ###\n",
    "    sprint_threshold = 7 # minimum speed to be defined as a sprint {m/s}\n",
    "    sprint_window = 1 * 25\n",
    "\n",
    "    ### Create a list of the individual playue\n",
    "    lst_players = df_summary['JerseyNo'].unique().tolist()\n",
    "\n",
    "    ###\n",
    "    for player in lst_players:\n",
    "        column = f'{team}_' + player + '_speed'\n",
    "        # trick here is to convolve speed with a window of size 'sprint_window', and find number of occassions that sprint was sustained for at least one window length\n",
    "        # diff helps us to identify when the window starts\n",
    "        player_sprints = np.diff(1 * (np.convolve(1 * (df_tracking[column] >= sprint_threshold), np.ones(sprint_window), mode='same') >= sprint_window))\n",
    "        nsprints.append(np.sum(player_sprints == 1 ))\n",
    "\n",
    "    ### Add column for the number of sprints\n",
    "    df_summary['# sprints'] = nsprints\n",
    "    \n",
    "    \n",
    "    \n",
    "    ## Estimate the top speed of each player\n",
    "    \n",
    "    ### Create dictionaries of the top speeds\n",
    "    dict_top_speeds = get_max_speeds(df_tracking)\n",
    "    \n",
    "    ### \n",
    "    df_top_speeds = pd.DataFrame.from_dict(dict_top_speeds , orient='index', columns=['Top Speed'])\n",
    "    df_top_speeds = df_top_speeds.reset_index(drop=False)\n",
    "    df_top_speeds = df_top_speeds.rename(columns={'index': 'Player'})\n",
    "    df_top_speeds['Player'] = df_top_speeds['Player'].str.replace('Player_', '')\n",
    "    \n",
    "    ### \n",
    "    df_summary = pd.merge(df_summary, df_top_speeds, left_on=['JerseyNo'], right_on=['Player'], how='left')\n",
    "    \n",
    "    \n",
    "    \n",
    "    \"\"\"    \n",
    "    ## Save figure\n",
    "    if not os.path.exists(fig_dir_second_spectrum + f'/physical_summary_{filename}.png'):\n",
    "        plt.savefig(fig_dir_second_spectrum + f'/physical_summary_{filename}.png', dpi=300, format='png', transparent=False, bbox_inches='tight')\n",
    "    else:\n",
    "        pass\n",
    "    \"\"\"    \n",
    "    \n",
    "    \n",
    "    \n",
    "    \n",
    "    ## Export DataFrame\n",
    "    if not os.path.exists(os.path.join(data_dir_second_spectrum, 'engineered', 'reports', f'physical_report_data_{filename}_{team}.csv')):\n",
    "        df_summary.to_csv(os.path.join(data_dir_second_spectrum, 'engineered', 'reports', f'physical_report_data_{filename}_{team}.csv'), index=None, header=True)\n",
    "    else:\n",
    "        pass\n",
    "\n",
    "    \n",
    "    ## Return DataFrame\n",
    "    return df_summary"
   ]
  },
  {
   "cell_type": "code",
   "execution_count": null,
   "metadata": {},
   "outputs": [],
   "source": [
    "# Define a function to plot the trajectories of sprints for a selected player\n",
    "def visualise_sprints(df_tracking,\n",
    "                      team,\n",
    "                      player,\n",
    "                      sprint_threshold,\n",
    "                      sprint_window,\n",
    "                      dot_colour,\n",
    "                      line_colour\n",
    "                     ):\n",
    "    \n",
    "    player = str(player)\n",
    "    \n",
    "    ## Plot the trajectories for the sprints of the player of interest\n",
    "    column = f'{team}_' + player + '_speed' # speed\n",
    "    column_x = f'{team}_' + player + '_x' # x position\n",
    "    column_y = f'{team}_' + player + '_y' # y position\n",
    "\n",
    "    ## same trick as before to find start and end indices of windows of size 'sprint_window' in which player speed was above the sprint_threshold\n",
    "    player_sprints = np.diff(1 * (np.convolve(1 * (df_tracking[column] >= sprint_threshold), np.ones(sprint_window), mode='same') >= sprint_window))\n",
    "    player_sprints_start = np.where(player_sprints == 1)[0] - int(sprint_window/2) + 1 # adding sprint_window/2 because of the way that the convolution is centred\n",
    "    player_sprints_end = np.where(player_sprints == -1)[0] + int(sprint_window/2) + 1\n",
    "\n",
    "    ## Print frames in which player 10 started sprints\n",
    "    #print(player_sprints_start)\n",
    "\n",
    "    ## Print frames in which player 10 started sprints\n",
    "    #print(player_sprints_end)\n",
    "\n",
    "\n",
    "    ## Now plot all the sprints\n",
    "    fig, ax = sviz.plot_pitch()\n",
    "    for s,e in zip(player_sprints_start, player_sprints_end):\n",
    "        ax.plot(df_tracking[column_x].iloc[s], df_tracking[column_y].iloc[s], 'ro')\n",
    "        ax.plot(df_tracking[column_x].iloc[s:e+1], df_tracking[column_y].iloc[s:e+1], 'r')\n",
    "\n",
    "    ## Save figure\n",
    "    #if not os.path.exists(fig_dir_signality + '/hammarby_if_elfsborg_22072019_sprints_player_2.png'):\n",
    "    #    plt.savefig(fig_dir_signality + '/hammarby_if_elfsborg_22072019_sprints_player_2.png', dpi=300, format='png', transparent=False, bbox_inches='tight')\n",
    "    #else:\n",
    "    #    pass"
   ]
  },
  {
   "cell_type": "code",
   "execution_count": null,
   "metadata": {},
   "outputs": [],
   "source": [
    "# Define a function to engineer Opta event data for just shots\n",
    "def events_shots_only(df_events):\n",
    "    \n",
    "    ## Filter only for shots\n",
    "    df_shots = df_events[df_events['isShot'] == 1]\n",
    "\n",
    "    \n",
    "    ## Select columns of interest\n",
    "    \n",
    "    ### Define list of columns \n",
    "    lst_cols_shots = ['event_id', 'period_id', 'min', 'sec', 'x', 'y', 'event_name', 'Home Team', 'Away Team', 'FirstName', 'LastName', 'FullName', 'Position', 'JerseyNo', 'outcome', 'isShot', 'isGoal', 'xG', 'xT']\n",
    "    \n",
    "    ### Filter shots DataFrame for only columns of interest\n",
    "    df_shots = df_shots[lst_cols_shots]\n",
    "\n",
    "    \n",
    "    ## Return DataFrame\n",
    "    return df_shots"
   ]
  },
  {
   "cell_type": "markdown",
   "metadata": {},
   "source": [
    "### Notebook Settings"
   ]
  },
  {
   "cell_type": "code",
   "execution_count": null,
   "metadata": {},
   "outputs": [],
   "source": [
    "# Display all columns of displayed pandas DataFrames\n",
    "pd.set_option('display.max_columns', None)\n",
    "#pd.set_option('display.max_rows', None)\n",
    "pd.options.mode.chained_assignment = None"
   ]
  },
  {
   "cell_type": "markdown",
   "metadata": {},
   "source": [
    "---\n",
    "\n",
    "<a id='section2'></a>\n",
    "\n",
    "## <a id='#section2'>2. Notebook Brief</a>\n",
    "This notebook analyses and visualises [Second Spectrum](https://www.secondspectrum.com/index.html) using [pandas](http://pandas.pydata.org/) and [matplotlib](https://matplotlib.org/), for two Premier League matches featuring Crystal Palace during the 21/22 season.\n",
    "\n",
    "The two datasets of Tracking data are visualised and analysed in congunction with the corresponding [Opta Event data](https://www.statsperform.com/opta/) by [Stats Perform](https://www.statsperform.com/), as part of an opposition analysis piece of Crystal Palace. These matches are: \n",
    "*   [27/09/2021: Crystal Palace (1) vs. (1) Brighton & Hove Albion](https://www.bbc.co.uk/sport/football/58620544) (g2210324)\n",
    "*   [03/10/2021: Crystal Palace (2) vs. (2) Leicester City](https://www.bbc.co.uk/sport/football/58667896) (g2210334)\n",
    "\n",
    "Output of this notebook include [matplotlib](https://matplotlib.org/) data visualisations and DataFrames exported as CSV files, that can be further analysed and explored using dashboarding tools such as Tableau.\n",
    "\n",
    "\n",
    "**Notebook Conventions**:<br>\n",
    "*    Variables that refer a `DataFrame` object are prefixed with `df_`.\n",
    "*    Variables that refer to a collection of `DataFrame` objects (e.g., a list, a set or a dict) are prefixed with `dfs_`."
   ]
  },
  {
   "cell_type": "markdown",
   "metadata": {},
   "source": [
    "---\n",
    "\n",
    "<a id='section3'></a>\n",
    "\n",
    "## <a id='#section3'>3. Data Sources</a>"
   ]
  },
  {
   "cell_type": "markdown",
   "metadata": {},
   "source": [
    "<a id='section3.1'></a>\n",
    "\n",
    "### <a id='#section3.1'>3.1. Introduction</a>\n",
    "[Second Spectrum](https://www.secondspectrum.com/index.html) are a  football analytics, data provider ... \n",
    "\n",
    "![Second Spectrum](../../img/logos/second_spectrum_logo.jpeg)\n",
    "\n",
    "The tracking data represents the location of every player on the pitch with a temporal frequency of 25 Hz and the corresponding match time for each tracking frame is specified.\n",
    "\n",
    "UPDATE THIS"
   ]
  },
  {
   "cell_type": "markdown",
   "metadata": {},
   "source": [
    "<a id='section3.2'></a>\n",
    "\n",
    "### <a id='#section3.2'>3.2. Data Dictionary</a>\n",
    "The [Second Spectrum](https://www.secondspectrum.com/index.html) Tracking dataset has fourteen features (columns) with the following definitions and data types:\n",
    "\n",
    "| Feature         | Data type     | Definition     |\n",
    "|-----------------|---------------|----------------|\n",
    "| `Frame`         | object        |                |\n",
    "| `Period`        | object        |                |\n",
    "| `Time [s]`      | object        |                |\n",
    "| `Home_11_x`     | object        |                |\t\n",
    "| `Home_11_y`     | object        |                |\n",
    "| `Away_8_x`      | object        |\t               |\n",
    "| `Away_8_y`      | object        |                |\n",
    "\n",
    "UPDATE THIS"
   ]
  },
  {
   "cell_type": "markdown",
   "metadata": {},
   "source": [
    "<a id='section3.2'></a>\n",
    "\n",
    "### <a id='#section3.2'>3.2. Import Data</a>\n",
    "The following cells read in the previously engineered `CSV` files as [pandas](https://pandas.pydata.org/) DataFrames. The Tracking data for Home and Away teams have been saved as separate `CSV` files, to be compatible with the Second Spectrum custom scripts.\n",
    "\n",
    "A static version of the Data Engineering notebook that munges the original data into a form ready for analysis can be found [here](https://nbviewer.org/github/eddwebster/watford/blob/main/notebooks/2_data_engineering/Second%20Spectrum%20Data%20Engineering.ipynb) in the [Data Engineering]() subfolder of the accompanying [`watford`](https://github.com/eddwebster/watford) GitHub repository "
   ]
  },
  {
   "cell_type": "code",
   "execution_count": null,
   "metadata": {},
   "outputs": [],
   "source": [
    "# Show files in directory\n",
    "print(glob.glob(os.path.join(data_dir_second_spectrum, 'engineered', 'data/*.csv')))"
   ]
  },
  {
   "cell_type": "code",
   "execution_count": null,
   "metadata": {},
   "outputs": [],
   "source": [
    "# Read in engineered Tracking data CSV files as  pandas DataFrames\n",
    "\n",
    "## 27/09/2021: Crystal Palace (1) vs. (1) Brighton & Hove Albion (g2210324)\n",
    "df_tracking_home_cry_bri = pd.read_csv(os.path.join(data_dir_second_spectrum, 'engineered', 'data', 'g2210324_SecondSpectrum_Trackingdata_Home.csv'))\n",
    "df_tracking_away_cry_bri = pd.read_csv(os.path.join(data_dir_second_spectrum, 'engineered', 'data', 'g2210324_SecondSpectrum_Trackingdata_Away.csv'))\n",
    "\n",
    "## 03/10/2021: Crystal Palace (2) vs. (2) Leicester City (g2210334)\n",
    "df_tracking_home_cry_lei = pd.read_csv(os.path.join(data_dir_second_spectrum, 'engineered', 'data', 'g2210334_SecondSpectrum_Trackingdata_Home.csv'))\n",
    "df_tracking_away_cry_lei = pd.read_csv(os.path.join(data_dir_second_spectrum, 'engineered', 'data', 'g2210334_SecondSpectrum_Trackingdata_Away.csv'))"
   ]
  },
  {
   "cell_type": "code",
   "execution_count": null,
   "metadata": {},
   "outputs": [],
   "source": [
    "# Read in engineered Event data CSV files as  pandas DataFrames\n",
    "df_cry_bri_events = pd.read_csv(os.path.join(data_dir_opta, 'engineered', 'F24', 'f24-8-2021-2210334-eventdetails.csv'), index_col=None).drop(['Unnamed: 0'], axis=1)\n",
    "df_cry_lei_events = pd.read_csv(os.path.join(data_dir_opta, 'engineered', 'F24', 'f24-8-2021-2210324-eventdetails.csv'), index_col=None).drop(['Unnamed: 0'], axis=1)"
   ]
  },
  {
   "cell_type": "markdown",
   "metadata": {},
   "source": [
    "<a id='section3.3'></a>\n",
    "\n",
    "### <a id='#section3.3'>3.3. Initial Data Handling</a>\n",
    "First check the quality of the dataset by looking first and last rows in pandas using the [`head()`](https://pandas.pydata.org/pandas-docs/stable/reference/api/pandas.DataFrame.head.html) and [`tail()`](https://pandas.pydata.org/pandas-docs/stable/reference/api/pandas.DataFrame.tail.html) methods."
   ]
  },
  {
   "cell_type": "code",
   "execution_count": null,
   "metadata": {},
   "outputs": [],
   "source": [
    "# Display the first five rows of the DataFrame, df_tracking_home_cry_lei\n",
    "df_tracking_home_cry_lei.head()"
   ]
  },
  {
   "cell_type": "code",
   "execution_count": null,
   "metadata": {},
   "outputs": [],
   "source": [
    "# Display the last five rows of the DataFrame, \n",
    "df_tracking_home_cry_lei.tail()"
   ]
  },
  {
   "cell_type": "code",
   "execution_count": null,
   "metadata": {},
   "outputs": [],
   "source": [
    "# Print the shape of the DataFrame, df_tracking_home_cry_lei\n",
    "print(df_tracking_home_cry_lei.shape)"
   ]
  },
  {
   "cell_type": "code",
   "execution_count": null,
   "metadata": {},
   "outputs": [],
   "source": [
    "# Print the column names of the DataFrame, df_tracking_home_cry_lei\n",
    "print(df_tracking_home_cry_lei.columns)"
   ]
  },
  {
   "cell_type": "code",
   "execution_count": null,
   "metadata": {},
   "outputs": [],
   "source": [
    "# Data types of the features of the raw DataFrame, df_tracking_home_cry_lei\n",
    "df_tracking_home_cry_lei.dtypes"
   ]
  },
  {
   "cell_type": "markdown",
   "metadata": {},
   "source": [
    "Full details of these attributes and their data types is discussed further in the [Data Dictionary](section3.2.2)."
   ]
  },
  {
   "cell_type": "code",
   "execution_count": null,
   "metadata": {},
   "outputs": [],
   "source": [
    "# Displays all columns\n",
    "with pd.option_context('display.max_rows', None, 'display.max_columns', None):\n",
    "    print(df_tracking_home_cry_lei.dtypes)"
   ]
  },
  {
   "cell_type": "code",
   "execution_count": null,
   "metadata": {},
   "outputs": [],
   "source": [
    "# Info for the raw DataFrame, df_tracking_home_cry_lei\n",
    "df_tracking_home_cry_lei.info()"
   ]
  },
  {
   "cell_type": "code",
   "execution_count": null,
   "metadata": {},
   "outputs": [],
   "source": [
    "# Plot visualisation of the missing values for each feature of the raw DataFrame, df_tracking_home_cry_lei\n",
    "msno.matrix(df_tracking_home_cry_lei, figsize = (30, 7))"
   ]
  },
  {
   "cell_type": "code",
   "execution_count": null,
   "metadata": {},
   "outputs": [],
   "source": [
    "# Counts of missing values\n",
    "null_value_stats = df_tracking_home_cry_lei.isnull().sum(axis=0)\n",
    "null_value_stats[null_value_stats != 0]"
   ]
  },
  {
   "cell_type": "markdown",
   "metadata": {},
   "source": [
    "---\n",
    "\n",
    "<a id='section4'></a>\n",
    "\n",
    "## <a id='#section4'>4. Exploratory Data Analysis (EDA)</a>\n",
    "The following EDA section explores the Tracking data for [Crystal Palace vs. Leicester City](https://www.bbc.co.uk/sport/football/58620544) (g2210334). The "
   ]
  },
  {
   "cell_type": "markdown",
   "metadata": {},
   "source": [
    "<a id='section4.1'></a>\n",
    "\n",
    "### <a id='#section4.1'>4.1. Visualisation of Player Positions</a>"
   ]
  },
  {
   "cell_type": "markdown",
   "metadata": {},
   "source": [
    "##### Kick Off\n",
    "Frame = 20."
   ]
  },
  {
   "cell_type": "code",
   "execution_count": null,
   "metadata": {},
   "outputs": [],
   "source": [
    "\"\"\"\n",
    "# Visualise player positions using plot_events function from sviz library\n",
    "fig, ax = sviz.plot_frame(frame_idx=20,\n",
    "                          hometeam=df_tracking_home_cry_lei,\n",
    "                          awayteam=df_tracking_away_cry_lei,\n",
    "                          team_colors=(colour_crystal_palace, colour_leicester_city),\n",
    "                          field_dimen=(pitch_length, pitch_width),\n",
    "                          PlayerMarkerSize=12,\n",
    "                          PlayerAlpha=0.7, \n",
    "                          include_player_velocities=False,\n",
    "                          annotate=True,\n",
    "                          filepath=fig_dir_second_spectrum + f'/player_positions_'\n",
    "                         )\n",
    "\"\"\""
   ]
  },
  {
   "cell_type": "markdown",
   "metadata": {},
   "source": [
    "##### First Goal (Iheanacho 31' minutes)\n",
    "*    Timestamp = 31min\n",
    "*    Frame = 46,255"
   ]
  },
  {
   "cell_type": "code",
   "execution_count": null,
   "metadata": {},
   "outputs": [],
   "source": [
    "# Estimate frame number from timestamp\n",
    "estimate_frame_no(31, 0)"
   ]
  },
  {
   "cell_type": "code",
   "execution_count": null,
   "metadata": {},
   "outputs": [],
   "source": [
    "\"\"\"\n",
    "# Visualise player positions using plot_events function from sviz library\n",
    "fig, ax = sviz.plot_frame(frame_idx=46_255,\n",
    "                          hometeam=df_tracking_home_cry_lei,\n",
    "                          awayteam=df_tracking_away_cry_lei,\n",
    "                          team_colors=(colour_crystal_palace, colour_leicester_city),\n",
    "                          field_dimen=(pitch_length, pitch_width),\n",
    "                          PlayerMarkerSize=12,\n",
    "                          PlayerAlpha=0.7, \n",
    "                          include_player_velocities=False,    # not working currently\n",
    "                          annotate=True,\n",
    "                          filepath=fig_dir_second_spectrum + f'/player_positions_'\n",
    "                         )\n",
    "\"\"\""
   ]
  },
  {
   "cell_type": "markdown",
   "metadata": {},
   "source": [
    "Iheanacho was 1-on-1 with the goalkeeper to score the first of the match."
   ]
  },
  {
   "cell_type": "markdown",
   "metadata": {},
   "source": [
    "<a id='section4.2'></a>\n",
    "\n",
    "### <a id='#section4.2'>4.2. Visualisation of the First 60 Seconds of the Match</a>"
   ]
  },
  {
   "cell_type": "code",
   "execution_count": null,
   "metadata": {},
   "outputs": [],
   "source": [
    "# Plotting tracking data - the first 60 seconds (i.e. 60 x 90 = 1500 frames)\n",
    "\n",
    "## Define end frame for which to stop tracking player's movement\n",
    "start_frame_idx = 0\n",
    "end_frame_idx = 1_500\n",
    "\n",
    "## Define player numbers shirt numbers\n",
    "gk = '13'\n",
    "lb = '3'\n",
    "lcb = '6'\n",
    "rcb = '16'\n",
    "rb = '2'\n",
    "\n",
    "## Define variables using in 'plot_pitch' function\n",
    "tracking_home = df_tracking_home_cry_lei\n",
    "tracking_away = df_tracking_away_cry_lei\n",
    "\n",
    "## Visualise player positions using plot_events function from sviz library\n",
    "fig, ax = sviz.plot_pitch()\n",
    "ax.plot(tracking_home[f'Home_{gk}_x'].iloc[start_frame_idx:end_frame_idx], tracking_home[f'Home_{gk}_y'].iloc[start_frame_idx:end_frame_idx], 'b', MarkerSize=1)\n",
    "ax.plot(tracking_home[f'Home_{lb}_x'].iloc[start_frame_idx:end_frame_idx], tracking_home[f'Home_{lb}_y'].iloc[start_frame_idx:end_frame_idx], 'g', MarkerSize=1)\n",
    "ax.plot(tracking_home[f'Home_{lcb}_x'].iloc[start_frame_idx:end_frame_idx], tracking_home[f'Home_{lcb}_y'].iloc[start_frame_idx:end_frame_idx], 'k', MarkerSize=1)\n",
    "ax.plot(tracking_home[f'Home_{rcb}_x'].iloc[start_frame_idx:end_frame_idx], tracking_home[f'Home_{rcb}_y'].iloc[start_frame_idx:end_frame_idx], 'r', MarkerSize=1)\n",
    "ax.plot(tracking_home[f'Home_{rb}_x'].iloc[start_frame_idx:end_frame_idx], tracking_home[f'Home_{rb}_y'].iloc[start_frame_idx:end_frame_idx], 'c', MarkerSize=1)\n",
    "\n",
    "## Save figure\n",
    "if not os.path.exists(fig_dir_second_spectrum + f'/player_positions_backfive_first_60_seconds.png'):\n",
    "    plt.savefig(fig_dir_second_spectrum + f'/player_positions_backfive_first_60_seconds.png', dpi=300, format='png', transparent=False, bbox_inches='tight')\n",
    "else:\n",
    "    pass"
   ]
  },
  {
   "cell_type": "markdown",
   "metadata": {},
   "source": [
    "<a id='section4.3'></a>\n",
    "\n",
    "### <a id='#section4.3'>4.3. Visualisations of the Goals</a>\n",
    "\n",
    "The first goal of the match is was ccored by Iheanacho (31')\n",
    "*    Timestamp = 31min\n",
    "*    Frame = 46,255"
   ]
  },
  {
   "cell_type": "code",
   "execution_count": null,
   "metadata": {},
   "outputs": [],
   "source": [
    "# Estimate frame number from timestamp\n",
    "estimate_frame_no(31, 0)"
   ]
  },
  {
   "cell_type": "code",
   "execution_count": null,
   "metadata": {},
   "outputs": [],
   "source": [
    "create_tracking_data_video(df_tracking_home=df_tracking_home_cry_lei,\n",
    "                           df_tracking_away=df_tracking_away_cry_lei,\n",
    "                           frame_start=46_055,\n",
    "                           video_length_frames=250,\n",
    "                           filename='tracking_clip_first_goal_cry_lei'\n",
    "                          )"
   ]
  },
  {
   "cell_type": "code",
   "execution_count": null,
   "metadata": {},
   "outputs": [],
   "source": [
    "# Embed shot in the notebook\n",
    "#Video('../../video/fig/second_spectrum/tracking_video_first_goal_cry_lei_46055_46555.mp4', width=770, height=530)"
   ]
  },
  {
   "cell_type": "markdown",
   "metadata": {},
   "source": [
    "Crystal Palace lose the ball and Iheanacho scores a 1-on-1."
   ]
  },
  {
   "cell_type": "markdown",
   "metadata": {},
   "source": [
    "<a id='section4.4'></a>\n",
    "\n",
    "### <a id='#section4.4'>4.4. Pitch Control</a>\n",
    "Using the Tracking data, we can use this to build your Pitch Control models in Python and demonstrate how it can be used to evaluate a player's passing options using tracking and event data. But what is a Pitch Control model?\n",
    "\n",
    "Definition:\n",
    "**Pitch control at a given location is the probability that a player (or team) will gain control of the ball if it moves directly to that location.**\n",
    "\n",
    "Pitch control measures the probability that a team will retain possession of the ball if they pass it to another location on the field. It can be used to evaluate passing options for a player, and quantify the probability of success.\n",
    "\n",
    "The method described here is based on work by [William Spearman](https://twitter.com/the_spearman), as described in his Friend of Tracking video tutorial: [[link](https://www.youtube.com/watch?v=X9PrwPyolyU)] and see below.\n",
    "\n",
    "Also see Spearman's paper \"Beyond Expected Goals\" published at the 2018 MIT Sloan Sports Analytics Conference [[link](http://www.sloansportsconference.com/wp-content/uploads/2018/02/2002.pdf)].\n",
    "\n",
    "In the video below, Spearman explains the following for Pitch Control:\n",
    "*    The principles behind pitch control models.\n",
    "*    How they can be used to investigate player positioning.\n",
    "*    How to extend them to account for ball motion.\n",
    "*    How to combine pitch control models with measures of danger.\n",
    "*    Defining 'off-ball scoring opportunity'\n",
    "*    Extensions to pitch control."
   ]
  },
  {
   "cell_type": "code",
   "execution_count": null,
   "metadata": {},
   "outputs": [],
   "source": [
    "# Liverpool FC data scientist William Spearman's masterclass in pitch control\n",
    "YouTubeVideo('X9PrwPyolyU', width=800, height=470)"
   ]
  },
  {
   "cell_type": "code",
   "execution_count": null,
   "metadata": {},
   "outputs": [],
   "source": [
    "# Determine the Pitch Control model parameters\n",
    "params = spc.default_model_params()"
   ]
  },
  {
   "cell_type": "code",
   "execution_count": null,
   "metadata": {},
   "outputs": [],
   "source": [
    "# Print model parameters\n",
    "params"
   ]
  },
  {
   "cell_type": "code",
   "execution_count": null,
   "metadata": {},
   "outputs": [],
   "source": [
    "# Define the numbers of the goalkeepers\n",
    "GK_numbers = [13, 1]"
   ]
  },
  {
   "cell_type": "code",
   "execution_count": null,
   "metadata": {},
   "outputs": [],
   "source": [
    "# Find goalkeeper numbers using 'find_goalkeeper' function from mio library - required for 'generate_pitch_control_for_event' function from mpc library\n",
    "#GK_numbers = [sio.find_goalkeeper(df_tracking_home), mio.find_goalkeeper(df_tracking_away)]"
   ]
  },
  {
   "cell_type": "markdown",
   "metadata": {},
   "source": [
    "##### Of a single frame"
   ]
  },
  {
   "cell_type": "code",
   "execution_count": null,
   "metadata": {},
   "outputs": [],
   "source": [
    "create_pitch_control_frame(frame_idx=46_255,\n",
    "                           tracking_home=df_tracking_home_cry_lei,\n",
    "                           tracking_away=df_tracking_away_cry_lei,\n",
    "                           colour_home=colour_crystal_palace,\n",
    "                           colour_away=colour_leicester_city,\n",
    "                           filename='first_goal_cry_lei'\n",
    "                          )"
   ]
  },
  {
   "cell_type": "markdown",
   "metadata": {},
   "source": [
    "##### For a video"
   ]
  },
  {
   "cell_type": "code",
   "execution_count": null,
   "metadata": {
    "scrolled": true
   },
   "outputs": [],
   "source": [
    "\"\"\"\n",
    "create_pitch_control_video(starting_frame=46_055-200,\n",
    "                           end_frame=46_055+200,\n",
    "                           f=25,\n",
    "                           tracking_home = df_tracking_home_cry_lei,\n",
    "                           tracking_away = df_tracking_away_cry_lei,\n",
    "                           colour_home=colour_crystal_palace,\n",
    "                           colour_away=colour_leicester_city,\n",
    "                           pitch_length=100.88880157470703,\n",
    "                           pitch_width=67.97039794921875,\n",
    "                           filename='first_goal_cry_lei'\n",
    "                          )\n",
    "\"\"\""
   ]
  },
  {
   "cell_type": "code",
   "execution_count": null,
   "metadata": {},
   "outputs": [],
   "source": [
    "# Embed shot in the notebook\n",
    "#Video('../../video/fig/second_spectrum/pitch_control_clip_first_goal_cry_lei_46255_46257.mp4', width=770, height=530, embed=True)"
   ]
  },
  {
   "cell_type": "markdown",
   "metadata": {},
   "source": [
    "<a id='section4.5'></a>\n",
    "\n",
    "### <a id='#section4.5'>4.5. Measuring the Physical Performance of Players</a>\n",
    "Generating a bespoke physical summary of all the players for the the team of interest."
   ]
  },
  {
   "cell_type": "code",
   "execution_count": null,
   "metadata": {},
   "outputs": [],
   "source": [
    "df_physical_summary_home_cry_bri = create_physical_report(df_tracking=df_tracking_home_cry_bri,\n",
    "                                                          team='Home',    # 'Home' or 'Away'\n",
    "                                                          match='Crystal Palace (1) vs. (1) Brighton & Hove Albion (27/09/2021)',\n",
    "                                                          filename='crystal_palace_brighton_and_hove_albion'\n",
    "                                                         )"
   ]
  },
  {
   "cell_type": "code",
   "execution_count": null,
   "metadata": {},
   "outputs": [],
   "source": [
    "df_physical_summary_home_cry_bri.head()"
   ]
  },
  {
   "cell_type": "markdown",
   "metadata": {},
   "source": [
    "As can probably be expected, it's the midfielders and forwards that do more sprinting."
   ]
  },
  {
   "cell_type": "markdown",
   "metadata": {},
   "source": [
    "<a id='section4.6'></a>\n",
    "\n",
    "### <a id='#section4.6'>4.6. Plot the trajectories for a selected player's sprint</a> "
   ]
  },
  {
   "cell_type": "code",
   "execution_count": null,
   "metadata": {},
   "outputs": [],
   "source": [
    "visualise_sprints(df_tracking=df_tracking_home_cry_bri,\n",
    "                  team='Home',\n",
    "                  player=11,\n",
    "                  sprint_threshold=7,\n",
    "                  sprint_window=1*25\n",
    "                 )"
   ]
  },
  {
   "cell_type": "markdown",
   "metadata": {},
   "source": [
    "<a id='section4.7'></a>\n",
    "\n",
    "### <a id='#section4.7'>4.7. Valuing Player Actions through an Expected Possession Value (EPV) model</a>"
   ]
  },
  {
   "cell_type": "markdown",
   "metadata": {},
   "source": [
    "##### Get the EPV surface"
   ]
  },
  {
   "cell_type": "code",
   "execution_count": null,
   "metadata": {},
   "outputs": [],
   "source": [
    "#home_attack_direction = sio.find_playing_direction (df_tracking_home_cry_lei, 'Home')\n",
    "\n",
    "# shooting right-to-left = -1, shooting left-to-right = 1\n",
    "home_attack_direction = 1"
   ]
  },
  {
   "cell_type": "markdown",
   "metadata": {},
   "source": [
    "##### Get the EPV surface\n",
    "The `plot_EPV` function from the `mviz` library uses the `find_playing_direction` function, initialised in the Data Engineering section"
   ]
  },
  {
   "cell_type": "code",
   "execution_count": null,
   "metadata": {},
   "outputs": [],
   "source": [
    "EPV = sepv.load_EPV_grid(os.path.join(data_dir, 'reference', 'epv', f'EPV_grid.csv'))"
   ]
  },
  {
   "cell_type": "code",
   "execution_count": null,
   "metadata": {},
   "outputs": [],
   "source": [
    "EPV"
   ]
  },
  {
   "cell_type": "code",
   "execution_count": null,
   "metadata": {},
   "outputs": [],
   "source": [
    "sviz.plot_EPV(EPV, field_dimen=[106.0, 68], attack_direction=home_attack_direction)"
   ]
  },
  {
   "cell_type": "code",
   "execution_count": null,
   "metadata": {},
   "outputs": [],
   "source": [
    "\"\"\"\n",
    "# Calculate value-added for assist and plot expected value surface\n",
    "\n",
    "### Define DataFrames\n",
    "df_events = df_tracking_home_cry_lei\n",
    "df_tracking_home = df_tracking_home_cry_lei\n",
    "df_tracking_away = df_tracking_away_cry_lei\n",
    "\n",
    "## Define Event Number\n",
    "event_number = 822 # away team first goal\n",
    "\n",
    "\n",
    "## Calculate EEPV added and the EPV difference from the Pitch Control using the 'calculate_epv_added' function\n",
    "EEPV_added, EPV_diff = sepv.calculate_epv_added(event_number, df_events, df_tracking_home, df_tracking_away, GK_numbers, EPV, params)\n",
    "\n",
    "\n",
    "## Calculate the full Pitch Control surface at the moment the pass is made and multiple this by the EPV surface at that instance\n",
    "PPCF, xgrid, ygrid = spc.generate_pitch_control_for_event(event_number, df_events, df_tracking_home, df_tracking_away, params, GK_numbers, field_dimen = (106.,68.,), n_grid_cells_x = 50, offsides=True)\n",
    "\n",
    "\n",
    "## Create figures for Event\n",
    "\n",
    "### Visualise EPV added\n",
    "fig,ax = sviz.plot_EPV_for_event(event_number, df_events, df_tracking_home, df_tracking_away, PPCF, EPV, annotate=True, autoscale=True)\n",
    "fig.suptitle('Pass EPV added: %1.3f' % EEPV_added, y=0.95 )\n",
    "\n",
    "### Visualise Pitch Control\n",
    "sviz.plot_pitchcontrol_for_event(event_number, df_events, df_tracking_home, df_tracking_away, PPCF, annotate=True)\n",
    "\"\"\""
   ]
  },
  {
   "cell_type": "code",
   "execution_count": null,
   "metadata": {},
   "outputs": [],
   "source": [
    "# FINISH THIS"
   ]
  },
  {
   "cell_type": "markdown",
   "metadata": {},
   "source": [
    "---\n",
    "\n",
    "<a id='section5'></a>\n",
    "\n",
    "## <a id='#section5'>5. Data Analysis</a>"
   ]
  },
  {
   "cell_type": "markdown",
   "metadata": {},
   "source": [
    "<a id='section5.1'></a>\n",
    "\n",
    "### <a id='#section5.1'>5.1. Crystal Palace (1) vs. (1) Brighton & Hove Albion (27/09/2021)</a>"
   ]
  },
  {
   "cell_type": "markdown",
   "metadata": {},
   "source": [
    "##### Match Highlights"
   ]
  },
  {
   "cell_type": "code",
   "execution_count": null,
   "metadata": {},
   "outputs": [],
   "source": [
    "# Crystal Palace 1-1 Brighton & Hove Albion\n",
    "\n",
    "## Locally saved video (can be displayed in the notebook)\n",
    "Video('../../video/match_highlights/27092021 - Crystal Palace (1) vs. (1) Brighton & Hove Albion.mp4', width=770, height=530, embed=True)\n",
    "\n",
    "# YouTube video (blocked from display in Jupyter notebook)\n",
    "#YouTubeVideo('SFcyhpx0tww', width=800, height=470)"
   ]
  },
  {
   "cell_type": "markdown",
   "metadata": {},
   "source": [
    "##### Visualisation of Attacking Chances"
   ]
  },
  {
   "cell_type": "code",
   "execution_count": null,
   "metadata": {},
   "outputs": [],
   "source": []
  },
  {
   "cell_type": "code",
   "execution_count": null,
   "metadata": {},
   "outputs": [],
   "source": [
    "# Filter Events DataFrame using the custom 'events_shots_only' function\n",
    "df_cry_bri_shots = events_shots_only(df_cry_bri_events)"
   ]
  },
  {
   "cell_type": "code",
   "execution_count": null,
   "metadata": {},
   "outputs": [],
   "source": [
    "df_cry_bri_shots.head(50)"
   ]
  },
  {
   "cell_type": "markdown",
   "metadata": {},
   "source": [
    "##### First Goal (Zaha 46' minutes)\n",
    "*    Timestamp = 46m\n",
    "*    Frame = "
   ]
  },
  {
   "cell_type": "code",
   "execution_count": null,
   "metadata": {},
   "outputs": [],
   "source": []
  },
  {
   "cell_type": "code",
   "execution_count": null,
   "metadata": {},
   "outputs": [],
   "source": []
  },
  {
   "cell_type": "code",
   "execution_count": null,
   "metadata": {},
   "outputs": [],
   "source": []
  },
  {
   "cell_type": "markdown",
   "metadata": {},
   "source": [
    "##### Second Goal (Maupay 95' minutes)\n",
    "*    Timestamp = 95m\n",
    "*    Frame = "
   ]
  },
  {
   "cell_type": "code",
   "execution_count": null,
   "metadata": {},
   "outputs": [],
   "source": []
  },
  {
   "cell_type": "code",
   "execution_count": null,
   "metadata": {},
   "outputs": [],
   "source": []
  },
  {
   "cell_type": "code",
   "execution_count": null,
   "metadata": {},
   "outputs": [],
   "source": []
  },
  {
   "cell_type": "markdown",
   "metadata": {},
   "source": [
    "##### Visualise Sprints of Players for Interest"
   ]
  },
  {
   "cell_type": "code",
   "execution_count": null,
   "metadata": {},
   "outputs": [],
   "source": [
    "# Wilfred Zaha\n",
    "visualise_sprints(df_tracking=df_tracking_home_cry_bri,\n",
    "                  team='Home',\n",
    "                  player=11,    # Wilfred Zaha\n",
    "                  sprint_threshold=7,\n",
    "                  sprint_window=1*25,\n",
    "                  dot_colour='ro',\n",
    "                  line_colour='r'\n",
    "                 )"
   ]
  },
  {
   "cell_type": "code",
   "execution_count": null,
   "metadata": {},
   "outputs": [],
   "source": [
    "# Conor Gallagher\n",
    "visualise_sprints(df_tracking=df_tracking_home_cry_bri,\n",
    "                  team='Home',\n",
    "                  player=23,    # Conor Gallagher\n",
    "                  sprint_threshold=7,\n",
    "                  sprint_window=1*25,\n",
    "                  dot_colour='ro',\n",
    "                  line_colour='r'\n",
    "                 )"
   ]
  },
  {
   "cell_type": "markdown",
   "metadata": {},
   "source": [
    "##### Physical Performance"
   ]
  },
  {
   "cell_type": "code",
   "execution_count": null,
   "metadata": {},
   "outputs": [],
   "source": [
    "df_physical_summary_home_cry_bri = create_physical_report(df_tracking=df_tracking_home_cry_bri,\n",
    "                                                          team='Home',    # 'Home' or 'Away'\n",
    "                                                          match='Crystal Palace (1) vs. (1) Brighton & Hove Albion (27/09/2021)',\n",
    "                                                          filename='crystal_palace_brighton_and_hove_albion'\n",
    "                                                         )"
   ]
  },
  {
   "cell_type": "code",
   "execution_count": null,
   "metadata": {},
   "outputs": [],
   "source": [
    "df_physical_summary_home_cry_bri.head()"
   ]
  },
  {
   "cell_type": "markdown",
   "metadata": {},
   "source": [
    "<a id='section5.2'></a>\n",
    "\n",
    "### <a id='#section5.2'>5.2. Crystal Palace (2) vs. (2) Leicester City (03/10/2021)</a>"
   ]
  },
  {
   "cell_type": "markdown",
   "metadata": {},
   "source": [
    "##### Match Highlights"
   ]
  },
  {
   "cell_type": "code",
   "execution_count": null,
   "metadata": {},
   "outputs": [],
   "source": [
    "# Crystal Palace 1-1 Brighton\n",
    "\n",
    "## Locally saved video (can be displayed in the notebook)\n",
    "Video('../../video/match_highlights/27092021 - Crystal Palace (1) vs. (1) Brighton & Hove Albion.mp4', width=770, height=530, embed=True)\n",
    "\n",
    "# YouTube video (blocked from display in Jupyter notebook)\n",
    "#YouTubeVideo('Blkcd_N66PA', width=800, height=470)"
   ]
  },
  {
   "cell_type": "markdown",
   "metadata": {},
   "source": [
    "Olise & Schlupp both came off the bench to help Palace get a point from 2-0 down, to finish 2-2.\n",
    "\n",
    "Goals:\n",
    "*   Iheanacho - 31' mins (Leicester)\n",
    "*   Vardy - 36' mins (Leicester)\n",
    "*   Olise - 60' mins (Crystal Palace)\n",
    "*   Schlupp - 71' mins (Crystal Palace)"
   ]
  },
  {
   "cell_type": "markdown",
   "metadata": {},
   "source": [
    "##### Visualisation of Attacking Chances"
   ]
  },
  {
   "cell_type": "markdown",
   "metadata": {},
   "source": [
    "Determine when the shots take place in the game using Event data:"
   ]
  },
  {
   "cell_type": "code",
   "execution_count": null,
   "metadata": {},
   "outputs": [],
   "source": [
    "# Filter Events DataFrame using the custom 'events_shots_only' function\n",
    "df_cry_lei_shots = events_shots_only(df_cry_lei_events)"
   ]
  },
  {
   "cell_type": "code",
   "execution_count": null,
   "metadata": {},
   "outputs": [],
   "source": [
    "df_cry_lei_shots.head(50)"
   ]
  },
  {
   "cell_type": "markdown",
   "metadata": {},
   "source": [
    "##### First Goal (Iheanacho 31' minutes)\n",
    "*    Timestamp = 30m51s\n",
    "*    Frame = 46,255"
   ]
  },
  {
   "cell_type": "code",
   "execution_count": null,
   "metadata": {},
   "outputs": [],
   "source": [
    "# Estimate frame number from timestamp\n",
    "estimate_frame_no(30, 51)"
   ]
  },
  {
   "cell_type": "code",
   "execution_count": null,
   "metadata": {},
   "outputs": [],
   "source": [
    "create_tracking_data_video(df_tracking_home=df_tracking_home_cry_lei,\n",
    "                           df_tracking_away=df_tracking_away_cry_lei,\n",
    "                           frame_start=46_055,\n",
    "                           video_length_frames=250,\n",
    "                           filename='tracking_clip_first_goal_cry_lei'\n",
    "                          )"
   ]
  },
  {
   "cell_type": "code",
   "execution_count": null,
   "metadata": {},
   "outputs": [],
   "source": [
    "# Embed shot in the notebook\n",
    "Video('../../video/fig/second_spectrum/tracking_clip_first_goal_cry_lei_46055_46305.mp4', width=770, height=530, embed=True)"
   ]
  },
  {
   "cell_type": "code",
   "execution_count": null,
   "metadata": {},
   "outputs": [],
   "source": [
    "# Define the numbers of the goalkeepers\n",
    "GK_numbers = [13, 1]"
   ]
  },
  {
   "cell_type": "code",
   "execution_count": null,
   "metadata": {},
   "outputs": [],
   "source": [
    "## Define variables used in 'generate_pitch_control' function\n",
    "frame_idx = 46_055\n",
    "starting_frame = 46_055\n",
    "end_frame=46_055+250\n",
    "f=25\n",
    "tracking_home = df_tracking_home_cry_lei\n",
    "tracking_away = df_tracking_away_cry_lei\n",
    "colour_home=colour_crystal_palace\n",
    "colour_away=colour_leicester_city\n",
    "cmap = LinearSegmentedColormap.from_list('mycmap', [colour_away, 'white', colour_home])\n",
    "pitch_length=100.88880157470703\n",
    "pitch_width=67.97039794921875\n",
    "filename='first_goal_cry_lei'\n",
    "\n",
    "## Visualise player positions using generate_pitch_control_for_event function from spc library\n",
    "def make_frame(t):\n",
    "    t2 = int(math.ceil(t*f+0.0001)-1)\n",
    "    PPCF, xgrid, ygrid = spc.generate_pitch_control_for_event(t2+starting_frame, tracking_home, tracking_home, tracking_away, params, GK_numbers, field_dimen = (pitch_length, pitch_width), n_grid_cells_x=50)\n",
    "    fig, ax = sviz.plot_pitchcontrol_for_event(t2+starting_frame, tracking_home, tracking_home, tracking_away, PPCF, cmap, include_player_velocities=False, annotate=True)\n",
    "    image = mplfig_to_npimage(fig)\n",
    "    return image    # returns a 8-bit RGB array\n",
    "\n",
    "## Create MP4 video of tracking data\n",
    "if not os.path.exists(video_dir_second_spectrum + f'/pitch_control_clip_{filename}_{starting_frame}_{end_frame}.mp4'):\n",
    "    clip = mpy.VideoClip(make_frame, duration=((end_frame-starting_frame)/f)).set_fps(f)\n",
    "    clip.write_videofile(video_dir_second_spectrum + f'/pitch_control_clip_{filename}_{starting_frame}_{end_frame}.mp4')\n",
    "\n",
    "else:\n",
    "    pass"
   ]
  },
  {
   "cell_type": "code",
   "execution_count": null,
   "metadata": {},
   "outputs": [],
   "source": [
    "# Embed shot in the notebook\n",
    "Video('../../video/fig/second_spectrum/pitch_control_clip_first_goal_cry_lei_46055_46305.mp4', width=770, height=530, embed=True)"
   ]
  },
  {
   "cell_type": "markdown",
   "metadata": {},
   "source": [
    "##### Second Goal (Jamie Vardy 37' minutes)\n",
    "*    Timestamp = 36m54s\n",
    "*    Frame = 55,375"
   ]
  },
  {
   "cell_type": "code",
   "execution_count": null,
   "metadata": {},
   "outputs": [],
   "source": [
    "# Estimate frame number from timestamp\n",
    "estimate_frame_no(36, 55)"
   ]
  },
  {
   "cell_type": "code",
   "execution_count": null,
   "metadata": {},
   "outputs": [],
   "source": [
    "55375-250"
   ]
  },
  {
   "cell_type": "code",
   "execution_count": null,
   "metadata": {},
   "outputs": [],
   "source": [
    "create_tracking_data_video(df_tracking_home=df_tracking_home_cry_lei,\n",
    "                           df_tracking_away=df_tracking_away_cry_lei,\n",
    "                           frame_start=55125,\n",
    "                           video_length_frames=250,\n",
    "                           filename='tracking_clip_second_goal_cry_lei'\n",
    "                          )"
   ]
  },
  {
   "cell_type": "code",
   "execution_count": null,
   "metadata": {},
   "outputs": [],
   "source": [
    "# Embed shot in the notebook\n",
    "Video('../../video/fig/second_spectrum/tracking_clip_second_goal_cry_lei_55125_55375.mp4', width=770, height=530, embed=True)"
   ]
  },
  {
   "cell_type": "code",
   "execution_count": null,
   "metadata": {},
   "outputs": [],
   "source": [
    "## Define variables used in 'generate_pitch_control' function\n",
    "frame_idx=55_125\n",
    "starting_frame=55_125\n",
    "end_frame=55_125+250\n",
    "f=25\n",
    "tracking_home = df_tracking_home_cry_lei\n",
    "tracking_away = df_tracking_away_cry_lei\n",
    "colour_home=colour_crystal_palace\n",
    "colour_away=colour_leicester_city\n",
    "cmap = LinearSegmentedColormap.from_list('mycmap', [colour_away, 'white', colour_home])\n",
    "pitch_length=100.88880157470703\n",
    "pitch_width=67.97039794921875\n",
    "filename='second_goal_cry_lei'\n",
    "\n",
    "## Visualise player positions using generate_pitch_control_for_event function from spc library\n",
    "def make_frame(t):\n",
    "    t2 = int(math.ceil(t*f+0.0001)-1)\n",
    "    PPCF, xgrid, ygrid = spc.generate_pitch_control_for_event(t2+starting_frame, tracking_home, tracking_home, tracking_away, params, GK_numbers, field_dimen = (pitch_length, pitch_width), n_grid_cells_x=50)\n",
    "    fig, ax = sviz.plot_pitchcontrol_for_event(t2+starting_frame, tracking_home, tracking_home, tracking_away, PPCF, cmap, include_player_velocities=False, annotate=True)\n",
    "    image = mplfig_to_npimage(fig)\n",
    "    return image    # returns a 8-bit RGB array\n",
    "\n",
    "## Create MP4 video of tracking data\n",
    "if not os.path.exists(video_dir_second_spectrum + f'/pitch_control_clip_{filename}_{starting_frame}_{end_frame}.mp4'):\n",
    "    clip = mpy.VideoClip(make_frame, duration=((end_frame-starting_frame)/f)).set_fps(f)\n",
    "    clip.write_videofile(video_dir_second_spectrum + f'/pitch_control_clip_{filename}_{starting_frame}_{end_frame}.mp4')\n",
    "\n",
    "else:\n",
    "    pass"
   ]
  },
  {
   "cell_type": "code",
   "execution_count": null,
   "metadata": {},
   "outputs": [],
   "source": [
    "# Embed shot in the notebook\n",
    "Video('../../video/fig/second_spectrum/pitch_control_clip_second_goal_cry_lei_55125_55375.mp4', width=770, height=530, embed=True)"
   ]
  },
  {
   "cell_type": "markdown",
   "metadata": {},
   "source": [
    "##### Third Goal (Olise 61' minutes)\n",
    "*    Timestamp = 60m48s\n",
    "*    Frame = 91,200"
   ]
  },
  {
   "cell_type": "code",
   "execution_count": null,
   "metadata": {},
   "outputs": [],
   "source": [
    "# Estimate frame number from timestamp\n",
    "estimate_frame_no(60, 48)"
   ]
  },
  {
   "cell_type": "code",
   "execution_count": null,
   "metadata": {},
   "outputs": [],
   "source": [
    "91200+2825"
   ]
  },
  {
   "cell_type": "code",
   "execution_count": null,
   "metadata": {},
   "outputs": [],
   "source": [
    "92000 + (81*25)"
   ]
  },
  {
   "cell_type": "code",
   "execution_count": null,
   "metadata": {},
   "outputs": [],
   "source": [
    "create_tracking_data_video(df_tracking_home=df_tracking_home_cry_lei,\n",
    "                           df_tracking_away=df_tracking_away_cry_lei,\n",
    "                           frame_start=93980,\n",
    "                           video_length_frames=300,\n",
    "                           filename='tracking_clip_third_goal_cry_lei'\n",
    "                          )"
   ]
  },
  {
   "cell_type": "code",
   "execution_count": null,
   "metadata": {},
   "outputs": [],
   "source": [
    "# Embed shot in the notebook\n",
    "Video('../../video/fig/second_spectrum/tracking_clip_third_goal_cry_lei_93980_94280.mp4', width=770, height=530, embed=True)"
   ]
  },
  {
   "cell_type": "code",
   "execution_count": null,
   "metadata": {},
   "outputs": [],
   "source": [
    "## Define variables used in 'generate_pitch_control' function\n",
    "frame_idx=93_980\n",
    "starting_frame=93_980\n",
    "end_frame=93_980+300\n",
    "f=25\n",
    "tracking_home = df_tracking_home_cry_lei\n",
    "tracking_away = df_tracking_away_cry_lei\n",
    "colour_home=colour_crystal_palace\n",
    "colour_away=colour_leicester_city\n",
    "cmap = LinearSegmentedColormap.from_list('mycmap', [colour_away, 'white', colour_home])\n",
    "pitch_length=100.88880157470703\n",
    "pitch_width=67.97039794921875\n",
    "filename='third_goal_cry_lei'\n",
    "\n",
    "## Visualise player positions using generate_pitch_control_for_event function from spc library\n",
    "def make_frame(t):\n",
    "    t2 = int(math.ceil(t*f+0.0001)-1)\n",
    "    PPCF, xgrid, ygrid = spc.generate_pitch_control_for_event(t2+starting_frame, tracking_home, tracking_home, tracking_away, params, GK_numbers, field_dimen = (pitch_length, pitch_width), n_grid_cells_x=50)\n",
    "    fig, ax = sviz.plot_pitchcontrol_for_event(t2+starting_frame, tracking_home, tracking_home, tracking_away, PPCF, cmap, include_player_velocities=False, annotate=True)\n",
    "    image = mplfig_to_npimage(fig)\n",
    "    return image    # returns a 8-bit RGB array\n",
    "\n",
    "## Create MP4 video of tracking data\n",
    "if not os.path.exists(video_dir_second_spectrum + f'/pitch_control_clip_{filename}_{starting_frame}_{end_frame}.mp4'):\n",
    "    clip = mpy.VideoClip(make_frame, duration=((end_frame-starting_frame)/f)).set_fps(f)\n",
    "    clip.write_videofile(video_dir_second_spectrum + f'/pitch_control_clip_{filename}_{starting_frame}_{end_frame}.mp4')\n",
    "\n",
    "else:\n",
    "    pass"
   ]
  },
  {
   "cell_type": "code",
   "execution_count": null,
   "metadata": {},
   "outputs": [],
   "source": [
    "# Embed shot in the notebook\n",
    "Video('../../video/fig/second_spectrum/pitch_control_clip_third_goal_cry_lei_93980_94280.mp4', width=770, height=530, embed=True)"
   ]
  },
  {
   "cell_type": "markdown",
   "metadata": {},
   "source": [
    "##### Forth Goal (Schlupp 72' minutes)\n",
    "*    Timestamp = 71m20s\n",
    "*    Frame = 109,630"
   ]
  },
  {
   "cell_type": "code",
   "execution_count": null,
   "metadata": {},
   "outputs": [],
   "source": [
    "93980+(626*25)"
   ]
  },
  {
   "cell_type": "code",
   "execution_count": null,
   "metadata": {},
   "outputs": [],
   "source": [
    "create_tracking_data_video(df_tracking_home=df_tracking_home_cry_lei,\n",
    "                           df_tracking_away=df_tracking_away_cry_lei,\n",
    "                           frame_start=109630,\n",
    "                           video_length_frames=450,\n",
    "                           filename='tracking_clip_forth_goal_cry_lei'\n",
    "                          )"
   ]
  },
  {
   "cell_type": "code",
   "execution_count": null,
   "metadata": {},
   "outputs": [],
   "source": [
    "# Embed shot in the notebook\n",
    "Video('../../video/fig/second_spectrum/tracking_clip_forth_goal_cry_lei_109630_110080.mp4', width=770, height=530, embed=True)"
   ]
  },
  {
   "cell_type": "code",
   "execution_count": null,
   "metadata": {},
   "outputs": [],
   "source": [
    "## Define variables used in 'generate_pitch_control' function\n",
    "frame_idx=109_630\n",
    "starting_frame=109_630\n",
    "end_frame=109_630+400\n",
    "f=25\n",
    "tracking_home = df_tracking_home_cry_lei\n",
    "tracking_away = df_tracking_away_cry_lei\n",
    "colour_home=colour_crystal_palace\n",
    "colour_away=colour_leicester_city\n",
    "cmap = LinearSegmentedColormap.from_list('mycmap', [colour_away, 'white', colour_home])\n",
    "pitch_length=100.88880157470703\n",
    "pitch_width=67.97039794921875\n",
    "filename='forth_goal_cry_lei'\n",
    "\n",
    "## Visualise player positions using generate_pitch_control_for_event function from spc library\n",
    "def make_frame(t):\n",
    "    t2 = int(math.ceil(t*f+0.0001)-1)\n",
    "    PPCF, xgrid, ygrid = spc.generate_pitch_control_for_event(t2+starting_frame, tracking_home, tracking_home, tracking_away, params, GK_numbers, field_dimen = (pitch_length, pitch_width), n_grid_cells_x=50)\n",
    "    fig, ax = sviz.plot_pitchcontrol_for_event(t2+starting_frame, tracking_home, tracking_home, tracking_away, PPCF, cmap, include_player_velocities=False, annotate=True)\n",
    "    image = mplfig_to_npimage(fig)\n",
    "    return image    # returns a 8-bit RGB array\n",
    "\n",
    "## Create MP4 video of tracking data\n",
    "if not os.path.exists(video_dir_second_spectrum + f'/pitch_control_clip_{filename}_{starting_frame}_{end_frame}.mp4'):\n",
    "    clip = mpy.VideoClip(make_frame, duration=((end_frame-starting_frame)/f)).set_fps(f)\n",
    "    clip.write_videofile(video_dir_second_spectrum + f'/pitch_control_clip_{filename}_{starting_frame}_{end_frame}.mp4')\n",
    "\n",
    "else:\n",
    "    pass"
   ]
  },
  {
   "cell_type": "code",
   "execution_count": null,
   "metadata": {},
   "outputs": [],
   "source": [
    "# Embed shot in the notebook\n",
    "Video('../../video/fig/second_spectrum/pitch_control_clip_forth_goal_cry_lei_109630_110030.mp4', width=770, height=530, embed=True)"
   ]
  },
  {
   "cell_type": "markdown",
   "metadata": {},
   "source": [
    "##### Visualise Sprints of Players for Interest"
   ]
  },
  {
   "cell_type": "code",
   "execution_count": null,
   "metadata": {},
   "outputs": [],
   "source": [
    "# Wilfred Zaha\n",
    "visualise_sprints(df_tracking=df_tracking_home_cry_lei,\n",
    "                  team='Home',\n",
    "                  player=11,    # Wilfred Zaha\n",
    "                  sprint_threshold=7,\n",
    "                  sprint_window=1*25,\n",
    "                  dot_colour='ro',\n",
    "                  line_colour='r'\n",
    "                 )"
   ]
  },
  {
   "cell_type": "code",
   "execution_count": null,
   "metadata": {},
   "outputs": [],
   "source": [
    "# Conor Gallagher\n",
    "visualise_sprints(df_tracking=df_tracking_home_cry_lei,\n",
    "                  team='Home',\n",
    "                  player=23,    # Conor Gallagher\n",
    "                  sprint_threshold=7,\n",
    "                  sprint_window=1*25,\n",
    "                  dot_colour='ro',\n",
    "                  line_colour='r'\n",
    "                 )"
   ]
  },
  {
   "cell_type": "markdown",
   "metadata": {},
   "source": [
    "##### Physical Performance"
   ]
  },
  {
   "cell_type": "code",
   "execution_count": null,
   "metadata": {},
   "outputs": [],
   "source": [
    "df_physical_summary_home_cry_lei = create_physical_report(df_tracking=df_tracking_home_cry_lei,\n",
    "                                                          team='Home',    # 'Home' or 'Away'\n",
    "                                                          match='Crystal Palace (2) vs. (2) Leicester City (03/10/2021)',\n",
    "                                                          filename='crystal_palace_leicester_city'\n",
    "                                                         )"
   ]
  },
  {
   "cell_type": "code",
   "execution_count": null,
   "metadata": {},
   "outputs": [],
   "source": [
    "df_physical_summary_home_cry_lei.head()"
   ]
  },
  {
   "cell_type": "markdown",
   "metadata": {},
   "source": [
    "---\n",
    "\n",
    "<a id='section6'></a>\n",
    "\n",
    "## <a id='#section6'>6. Summary</a>\n",
    "This notebook analyses and visualises [Second Spectrum](https://www.secondspectrum.com/index.html) Tracking data using [pandas](http://pandas.pydata.org/) for data engineering and [matplotlib](https://matplotlib.org/) for data visualisation."
   ]
  },
  {
   "cell_type": "markdown",
   "metadata": {},
   "source": [
    "---\n",
    "\n",
    "<a id='section7'></a>\n",
    "\n",
    "## <a id='#section7'>7. Next Steps</a>\n",
    "The next stage is to.."
   ]
  },
  {
   "cell_type": "markdown",
   "metadata": {},
   "source": [
    "---\n",
    "\n",
    "<a id='section8'></a>\n",
    "\n",
    "## <a id='#section8'>8. References</a>\n",
    "*    [Second Spectrum](https://www.secondspectrum.com/index.html) data\n",
    "*    [Laurie Shaw](https://twitter.com/EightyFivePoint)'s Metrica Sports Tracking data series for #FoT - [Introduction](https://www.youtube.com/watch?v=8TrleFklEsE), [Measuring Physical Performance](https://www.youtube.com/watch?v=VX3T-4lB2o0), [Pitch Control modelling](https://www.youtube.com/watch?v=5X1cSehLg6s), and [Valuing Actions](https://www.youtube.com/watch?v=KXSLKwADXKI). See the following for code [[link](https://github.com/Friends-of-Tracking-Data-FoTD/LaurieOnTracking)]\n",
    "*    Laurie Shaw's Metrica Sports Tracking data series for [Friends of Tracking](https://www.youtube.com/channel/UCUBFJYcag8j2rm_9HkrrA7w) (see the following for code [[link](https://github.com/Friends-of-Tracking-Data-FoTD/LaurieOnTracking)]):\n",
    "     +    [Introduction](https://www.youtube.com/watch?v=8TrleFklEsE);\n",
    "     +    [Measuring Physical Performance](https://www.youtube.com/watch?v=VX3T-4lB2o0);\n",
    "     +    [Pitch Control modelling](https://www.youtube.com/watch?v=5X1cSehLg6s); and\n",
    "     +    [Valuing Actions](https://www.youtube.com/watch?v=KXSLKwADXKI).\n",
    "*    [Demystifying Tracking data Sportlogiq webinar](https://www.youtube.com/watch?v=miEWHSTYvX4) by Sam Gregory and Devin Pleuler\n",
    "*    [Will Spearman's masterclass in Pitch Control](https://www.youtube.com/watch?v=X9PrwPyolyU&list=PL38nJNjpNpH-l59NupDBW7oG7CmWBgp7Y) for Friends of Tracking\n",
    "*    [How Tracking Data is Used in Football and What are the Future Challenges](https://www.youtube.com/watch?v=kHTq9cwdkGA) with Javier Fernández, Sudarshan 'Suds' Gopaladesikan, Laurie Shaw, Will Spearman and David Sumpter for Friends of Tracking.\n",
    "*    [Introduction to tracking data in football](https://www.youtube.com/watch?v=fYqEnoOV9Po) by David Sumpter for Friends of Tracking"
   ]
  },
  {
   "cell_type": "markdown",
   "metadata": {},
   "source": [
    "---\n",
    "\n",
    "***Visit my website [eddwebster.com](https://www.eddwebster.com) or my [GitHub Repository](https://github.com/eddwebster) for more projects. If you'd like to get in contact, my Twitter handle is [@eddwebster](http://www.twitter.com/eddwebster) and my email is: edd.j.webster@gmail.com.***"
   ]
  },
  {
   "cell_type": "markdown",
   "metadata": {},
   "source": [
    "[Back to the top](#top)"
   ]
  }
 ],
 "metadata": {
  "kernelspec": {
   "display_name": "Python 3 (ipykernel)",
   "language": "python",
   "name": "python3"
  },
  "language_info": {
   "codemirror_mode": {
    "name": "ipython",
    "version": 3
   },
   "file_extension": ".py",
   "mimetype": "text/x-python",
   "name": "python",
   "nbconvert_exporter": "python",
   "pygments_lexer": "ipython3",
   "version": "3.7.6"
  },
  "varInspector": {
   "cols": {
    "lenName": 16,
    "lenType": 16,
    "lenVar": 40
   },
   "kernels_config": {
    "python": {
     "delete_cmd_postfix": "",
     "delete_cmd_prefix": "del ",
     "library": "var_list.py",
     "varRefreshCmd": "print(var_dic_list())"
    },
    "r": {
     "delete_cmd_postfix": ") ",
     "delete_cmd_prefix": "rm(",
     "library": "var_list.r",
     "varRefreshCmd": "cat(var_dic_list()) "
    }
   },
   "oldHeight": 642,
   "position": {
    "height": "40px",
    "left": "1118px",
    "right": "20px",
    "top": "-7px",
    "width": "489px"
   },
   "types_to_exclude": [
    "module",
    "function",
    "builtin_function_or_method",
    "instance",
    "_Feature"
   ],
   "varInspector_section_display": "none",
   "window_display": true
  }
 },
 "nbformat": 4,
 "nbformat_minor": 2
}
