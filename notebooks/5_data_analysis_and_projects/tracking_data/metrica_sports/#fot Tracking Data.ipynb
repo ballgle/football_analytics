{
 "cells": [
  {
   "cell_type": "markdown",
   "metadata": {},
   "source": [
    "<a id='top'></a>"
   ]
  },
  {
   "cell_type": "markdown",
   "metadata": {},
   "source": [
    "# [#fot](https://twitter.com/search?q=%23fot&src=typed_query) Tracking Data\n",
    "### By [Edd Webster](https://www.twitter.com/eddwebster)\n",
    "Last updated: 02/05/2020<br><br>\n",
    "Video Sources by [Laurie Shaw](https://twitter.com/EightyFivePoint):\n",
    "*    [Introduction to football analysis with tracking data in python](https://www.youtube.com/watch?v=8TrleFklEsE)\n",
    "*    [Delving deeper into the tracking data with python: measuring the physical performance of players](https://www.youtube.com/watch?v=VX3T-4lB2o0E)\n",
    "*    [Advanced football analytics: building and applying a pitch control model in python](https://www.youtube.com/watch?v=5X1cSehLg6s) "
   ]
  },
  {
   "cell_type": "markdown",
   "metadata": {},
   "source": [
    "![title](img/fot_banner.jpg)"
   ]
  },
  {
   "cell_type": "markdown",
   "metadata": {},
   "source": [
    "Drawing by Virginia Armas ([@Sk3tchyourlife](https://twitter.com/sk3tchyourlife))\n",
    "\n",
    "Click [here](#section5) to jump straight to the Exploratory Data Analysis section and skip the [Task Brief](#section2), [Data Sources](#section3), and [Data Engineering](#section4) sections. Or click [here](#section6) to jump straight to the Conclusion."
   ]
  },
  {
   "cell_type": "markdown",
   "metadata": {},
   "source": [
    "<a id='sectionintroduction'></a>"
   ]
  },
  {
   "cell_type": "markdown",
   "metadata": {},
   "source": [
    "## Introduction\n",
    "This notebook is a short Exploratory Data Analysis (EDA) of Tracking football data [Python]() using [pandas](http://pandas.pydata.org/) DataFrames and [matplotlib](https://matplotlib.org/contents.html?v=20200411155018) visualisations.\n",
    "\n",
    "For more information about this notebook and the author, I'm available through all the following channels:\n",
    "*    [EddWebster.com](https://www.eddwebster.com/),\n",
    "*    edd.j.webster@gmail.com,\n",
    "*    [@eddwebster](https://www.twitter.com/eddwebster),\n",
    "*    [LinkedIn.com/in/eddwebster](https://www.linkedin.com/in/eddwebster/),\n",
    "*    [GitHub/eddwebster](https://github.com/eddwebster/),\n",
    "*    [Kaggle.com/eddwebster](https://www.kaggle.com/eddwebster), and\n",
    "*    [HackerRank.com/eddwebster](https://www.hackerrank.com/eddwebster)."
   ]
  },
  {
   "cell_type": "markdown",
   "metadata": {},
   "source": [
    "![title](img/fifa20eddwebsterbanner.png)"
   ]
  },
  {
   "cell_type": "markdown",
   "metadata": {},
   "source": [
    "The accompanying GitHub repository for this notebook can be found [here](https://github.com/eddwebster/fifa-league) and a static version of this notebook can be found [here](https://nbviewer.jupyter.org/github/eddwebster/fifa-league/blob/master/FIFA%2020%20Fantasy%20Football%20League%20using%20TransferMarkt%20Player%20Valuations.ipynb). The accompanying GitHub repository of start code can be found in the [LaurieOnTracking](https://github.com/Friends-of-Tracking-Data-FoTD/LaurieOnTracking) GitHub subrepository, part of the [Friends of Tracking](https://github.com/Friends-of-Tracking-Data-FoTD) GitHub repository."
   ]
  },
  {
   "cell_type": "markdown",
   "metadata": {},
   "source": [
    "<a id='sectioncontents'></a>"
   ]
  },
  {
   "cell_type": "markdown",
   "metadata": {},
   "source": [
    "## Notebook Contents\n",
    "1.    [Notebook Dependencies](#section1)<br>\n",
    "2.    [Notebook Brief](#section2)<br>\n",
    "3.    [Introduction to football analysis with tracking data in python](#section3)<br>\n",
    "      3.1.   [Introduction](#section3.1)<br>\n",
    "      3.2.   [Video 1 Code](#section3.2)<br>\n",
    "      3.3.   [Homework](#section3.3)<br>\n",
    "4.    [Delving deeper into the tracking data with python: measuring the physical performance of players](#section4)<br>\n",
    "      4.1.   [Introduction](#section4.1)<br>\n",
    "      4.2.   [Video 2 Code](#section4.2)<br>\n",
    "5.    [Advanced football analytics: building and applying a pitch control model in python](#section5)<br>\n",
    "      5.1.   [Introduction](#section5.1)<br>\n",
    "      5.2.   [Video 3 Code](#section5.2)<br>   \n",
    "6.    [Summary](#section6)<br>\n",
    "7.    [Bibliography](#section7)<br>"
   ]
  },
  {
   "cell_type": "markdown",
   "metadata": {},
   "source": [
    "<a id='section1'></a>"
   ]
  },
  {
   "cell_type": "markdown",
   "metadata": {},
   "source": [
    "## 1. Notebook Dependencies"
   ]
  },
  {
   "cell_type": "markdown",
   "metadata": {},
   "source": [
    "This notebook was written using [Python 3](https://docs.python.org/3.7/) and requires the following libraries:\n",
    "*    [Jupyter notebooks](https://jupyter.org/) for this interactive computational environment that the project is presented,\n",
    "*    [NumPy](http://www.numpy.org/) for multidimensional array computing,\n",
    "*    [pandas](http://pandas.pydata.org/) for data manipulation and ingestion, and\n",
    "*    [matplotlib](https://matplotlib.org/contents.html?v=20200411155018) for visualisations.\n",
    "\n",
    "All packages used for this notebook except for BeautifulSoup can be obtained by downloading and installing the [Conda](https://anaconda.org/anaconda/conda) distribution, available on all platforms (Windows, Linux and Mac OSX). Step-by-step guides on how to install Anaconda can be found for Windows [here](https://medium.com/@GalarnykMichael/install-python-on-windows-anaconda-c63c7c3d1444) and Mac [here](https://medium.com/@GalarnykMichael/install-python-on-mac-anaconda-ccd9f2014072), as well as in the Anaconda documentation itself [here](https://docs.anaconda.com/anaconda/install/)."
   ]
  },
  {
   "cell_type": "code",
   "execution_count": 1,
   "metadata": {},
   "outputs": [
    {
     "name": "stdout",
     "output_type": "stream",
     "text": [
      "Setup Complete\n"
     ]
    }
   ],
   "source": [
    "# Import modules\n",
    "\n",
    "# Python ≥3.5 (ideally)\n",
    "import platform\n",
    "import sys\n",
    "assert sys.version_info >= (3, 5)\n",
    "\n",
    "# Import Dependencies\n",
    "%matplotlib inline\n",
    "\n",
    "# Math Operations\n",
    "import numpy as np\n",
    "\n",
    "# Data Preprocessing\n",
    "import pandas as pd\n",
    "import os    #  used to read the csv filenames\n",
    "import re\n",
    "import random\n",
    "\n",
    "# Working with JSON\n",
    "import json\n",
    "from pandas.io.json import json_normalize\n",
    "\n",
    "# Football libraries\n",
    "from FCPython import createPitch\n",
    "import Metrica_IO as mio\n",
    "import Metrica_Viz as mviz\n",
    "import Metrica_Velocities as mvel\n",
    "import Metrica_PitchControl as mpc\n",
    "\n",
    "# Data Visualisation\n",
    "import matplotlib as mpl\n",
    "import matplotlib.pyplot as plt\n",
    "import seaborn as sns\n",
    "plt.style.use('seaborn-whitegrid')\n",
    "from matplotlib.patches import Arc\n",
    "\n",
    "# Machine Learning\n",
    "import scipy as sp\n",
    "\n",
    "# Display in Jupyter\n",
    "from IPython.display import Image, Video, YouTubeVideo\n",
    "from IPython.core.display import HTML\n",
    "\n",
    "# Ignore warnings\n",
    "import warnings\n",
    "warnings.filterwarnings(action=\"ignore\", message=\"^internal gelsd\")\n",
    "\n",
    "print(\"Setup Complete\")"
   ]
  },
  {
   "cell_type": "code",
   "execution_count": 2,
   "metadata": {},
   "outputs": [
    {
     "name": "stdout",
     "output_type": "stream",
     "text": [
      "Python: 3.7.6\n",
      "NumPy: 1.18.1\n",
      "pandas: 1.0.1\n",
      "matplotlib: 3.1.3\n",
      "Seaborn: 0.10.0\n",
      "SciPy: 1.4.1\n"
     ]
    }
   ],
   "source": [
    "# Python / module versions used here for reference\n",
    "print('Python: {}'.format(platform.python_version()))\n",
    "print('NumPy: {}'.format(np.__version__))\n",
    "print('pandas: {}'.format(pd.__version__))\n",
    "print('matplotlib: {}'.format(mpl.__version__))\n",
    "print('Seaborn: {}'.format(sns.__version__))\n",
    "print('SciPy: {}'.format(sp.__version__))"
   ]
  },
  {
   "cell_type": "markdown",
   "metadata": {},
   "source": [
    "<a id='section2'></a>"
   ]
  },
  {
   "cell_type": "markdown",
   "metadata": {},
   "source": [
    "## 2. Notebook Brief\n",
    "This workbook looks at how to load in and manipulate football data (json files) from the Metrica Sports repository into a Jupyter notebook.\n",
    "\n",
    "Sources:\n",
    "*    [Introduction to football analysis with tracking data in python](https://www.youtube.com/watch?v=8TrleFklEsE)\n",
    "*    [Delving deeper into the tracking data with python: measuring the physical performance of players](https://www.youtube.com/watch?v=VX3T-4lB2o0E)\n",
    "*    [Advanced football analytics: building and applying a pitch control model in python](https://www.youtube.com/watch?v=5X1cSehLg6s) "
   ]
  },
  {
   "cell_type": "markdown",
   "metadata": {},
   "source": [
    "<a id='section3'></a>"
   ]
  },
  {
   "cell_type": "markdown",
   "metadata": {},
   "source": [
    "## 3. Introduction to Football Analysis with Tracking Data in Python"
   ]
  },
  {
   "cell_type": "markdown",
   "metadata": {},
   "source": [
    "<a id='section3.1'></a>"
   ]
  },
  {
   "cell_type": "markdown",
   "metadata": {},
   "source": [
    "### 3.1. Introduction\n",
    "The content from this section is based on the code from [Laurie Shaw](https://twitter.com/EightyFivePoint)'s [Introduction to football analysis with tracking data in Python](https://www.youtube.com/watch?v=8TrleFklEsE) video from [David Sumpter](https://twitter.com/Soccermatics)'s [Friends of Tracking](https://www.youtube.com/channel/UCUBFJYcag8j2rm_9HkrrA7w/) YouTube channel.\n",
    "\n",
    "In this section, we'll be working with player tracking data, and show how we can use this to create shot maps with both tracking and event data.\n",
    "\n",
    "The data provided by [Metrica Sports](https://github.com/metrica-sports/sample-data) is 6 individual CSV files -  3 files for two sample matches. For each match there is an events data csv file and tracking data csv files for the home and away teams.\n",
    "\n",
    "In this section, we'll be working with player tracking data, and shows how to create shot maps with both tracking and event data.\n",
    "\n",
    "<u><b>Note:</b></u> all the visualisation in the notebook are the inverse of the y-axis of those in the video. This is because the coordinate system was changed by the code author, [Laurie Shaw](https://twitter.com/EightyFivePoint) after the first video. The origin (0,0) is no longer in the top left of the pitch but is now the bottom left.\n",
    "\n",
    "We'll be using the [pandas](http://pandas.pydata.org/) library to import our data to this workbook as a DataFrame.\n",
    "\n",
    "This section is an introduction to analysing tracking data in Python, in which we'll be doing the following:\n",
    "*    Reading and manipulating Metrica's tracking & event data\n",
    "*    Using tracking data to add context to shot and pass map"
   ]
  },
  {
   "cell_type": "code",
   "execution_count": 3,
   "metadata": {},
   "outputs": [
    {
     "data": {
      "image/jpeg": "[encoded data removed]",
      "text/html": [
       "\n",
       "        <iframe\n",
       "            width=\"800\"\n",
       "            height=\"470\"\n",
       "            src=\"https://www.youtube.com/embed/8TrleFklEsE\"\n",
       "            frameborder=\"0\"\n",
       "            allowfullscreen\n",
       "        ></iframe>\n",
       "        "
      ],
      "text/plain": [
       "<IPython.lib.display.YouTubeVideo at 0x1048c8590>"
      ]
     },
     "execution_count": 3,
     "metadata": {},
     "output_type": "execute_result"
    }
   ],
   "source": [
    "# Introduction to football analysis with tracking data in Python\n",
    "YouTubeVideo('8TrleFklEsE', width=800, height=470)"
   ]
  },
  {
   "cell_type": "markdown",
   "metadata": {},
   "source": [
    "<a id='section3.2'></a>"
   ]
  },
  {
   "cell_type": "markdown",
   "metadata": {},
   "source": [
    "### 3.2. Video 1 Code"
   ]
  },
  {
   "cell_type": "code",
   "execution_count": 4,
   "metadata": {},
   "outputs": [],
   "source": [
    "# Set up initial path to data\n",
    "DATADIR = './data/metrica'\n",
    "game_id = 2     # sample match 2"
   ]
  },
  {
   "cell_type": "markdown",
   "metadata": {},
   "source": [
    "<a id='section3.2.1'></a>"
   ]
  },
  {
   "cell_type": "markdown",
   "metadata": {},
   "source": [
    "#### 3.2.1 Events Data"
   ]
  },
  {
   "cell_type": "code",
   "execution_count": 5,
   "metadata": {},
   "outputs": [],
   "source": [
    "# Read in the event data - uses Metrica_IO library\n",
    "events = mio.read_event_data(DATADIR,game_id)    # reads in data into the DataFrame and returns events"
   ]
  },
  {
   "cell_type": "code",
   "execution_count": 6,
   "metadata": {},
   "outputs": [
    {
     "data": {
      "text/plain": [
       "PASS              964\n",
       "CHALLENGE         311\n",
       "RECOVERY          248\n",
       "BALL LOST         233\n",
       "SET PIECE          80\n",
       "BALL OUT           49\n",
       "SHOT               24\n",
       "FAULT RECEIVED     20\n",
       "CARD                6\n",
       "Name: Type, dtype: int64"
      ]
     },
     "execution_count": 6,
     "metadata": {},
     "output_type": "execute_result"
    }
   ],
   "source": [
    "# See all the types and quantities of each event\n",
    "events['Type'].value_counts()"
   ]
  },
  {
   "cell_type": "code",
   "execution_count": 7,
   "metadata": {},
   "outputs": [],
   "source": [
    "# Unit conversion from metric data units to meters\n",
    "events = mio.to_metric_coordinates(events)"
   ]
  },
  {
   "cell_type": "markdown",
   "metadata": {},
   "source": [
    "![title](img/metricacoordinates.png)"
   ]
  },
  {
   "cell_type": "markdown",
   "metadata": {},
   "source": [
    "Coordinates in the diagram as discussed in the video are wrong, the origin (0,0) is in fact the top left, not the bottom left. So the diagram needs to be flipped. See the Metrica_IO.py script, in the `to_metric_coordinates()` function, where a full explanation of this change can be found."
   ]
  },
  {
   "cell_type": "code",
   "execution_count": 8,
   "metadata": {},
   "outputs": [],
   "source": [
    "# Create seperate Events DataFrames for each team\n",
    "home_events = events[events['Team'] == 'Home']\n",
    "away_events = events[events['Team'] == 'Away']"
   ]
  },
  {
   "cell_type": "code",
   "execution_count": 9,
   "metadata": {},
   "outputs": [
    {
     "data": {
      "text/plain": [
       "PASS              543\n",
       "CHALLENGE         160\n",
       "RECOVERY          135\n",
       "BALL LOST         120\n",
       "SET PIECE          34\n",
       "BALL OUT           27\n",
       "SHOT               13\n",
       "FAULT RECEIVED      9\n",
       "CARD                3\n",
       "Name: Type, dtype: int64"
      ]
     },
     "execution_count": 9,
     "metadata": {},
     "output_type": "execute_result"
    }
   ],
   "source": [
    "# Freqeuency of Events of the Home team\n",
    "home_events['Type'].value_counts()"
   ]
  },
  {
   "cell_type": "code",
   "execution_count": 10,
   "metadata": {},
   "outputs": [
    {
     "data": {
      "text/plain": [
       "PASS              421\n",
       "CHALLENGE         151\n",
       "BALL LOST         113\n",
       "RECOVERY          113\n",
       "SET PIECE          46\n",
       "BALL OUT           22\n",
       "FAULT RECEIVED     11\n",
       "SHOT               11\n",
       "CARD                3\n",
       "Name: Type, dtype: int64"
      ]
     },
     "execution_count": 10,
     "metadata": {},
     "output_type": "execute_result"
    }
   ],
   "source": [
    "# Freqeuency of Events of the Away team\n",
    "away_events['Type'].value_counts()"
   ]
  },
  {
   "cell_type": "code",
   "execution_count": 11,
   "metadata": {},
   "outputs": [],
   "source": [
    "# Create Shots DataFrames\n",
    "\n",
    "## Create a (all) Shots DataFrame\n",
    "shots = events[events['Type'] == \"SHOT\"]\n",
    "\n",
    "## Create a Home Shots DataFrame\n",
    "home_shots = home_events[home_events.Type == \"SHOT\"]\n",
    "\n",
    "## Create a Home Shots DataFrame\n",
    "away_shots = away_events[away_events.Type == \"SHOT\"]"
   ]
  },
  {
   "cell_type": "code",
   "execution_count": 12,
   "metadata": {},
   "outputs": [
    {
     "data": {
      "text/plain": [
       "HEAD-OFF TARGET-OUT    4\n",
       "ON TARGET-SAVED        4\n",
       "OFF TARGET-OUT         2\n",
       "ON TARGET-GOAL         2\n",
       "HEAD-ON TARGET-GOAL    1\n",
       "Name: Subtype, dtype: int64"
      ]
     },
     "execution_count": 12,
     "metadata": {},
     "output_type": "execute_result"
    }
   ],
   "source": [
    "# Frequency of Events for Home Shots DataFrame\n",
    "home_shots['Subtype'].value_counts()"
   ]
  },
  {
   "cell_type": "code",
   "execution_count": 13,
   "metadata": {},
   "outputs": [
    {
     "data": {
      "text/plain": [
       "OFF TARGET-OUT         3\n",
       "ON TARGET-GOAL         2\n",
       "BLOCKED                2\n",
       "ON TARGET-SAVED        2\n",
       "OFF TARGET-HEAD-OUT    1\n",
       "HEAD-OFF TARGET-OUT    1\n",
       "Name: Subtype, dtype: int64"
      ]
     },
     "execution_count": 13,
     "metadata": {},
     "output_type": "execute_result"
    }
   ],
   "source": [
    "# Frequency of Events for Away Shots DataFrame\n",
    "away_shots['Subtype'].value_counts()"
   ]
  },
  {
   "cell_type": "code",
   "execution_count": 14,
   "metadata": {},
   "outputs": [
    {
     "data": {
      "text/plain": [
       "Player9     4\n",
       "Player10    3\n",
       "Player5     2\n",
       "Player7     1\n",
       "Player4     1\n",
       "Player12    1\n",
       "Player3     1\n",
       "Name: From, dtype: int64"
      ]
     },
     "execution_count": 14,
     "metadata": {},
     "output_type": "execute_result"
    }
   ],
   "source": [
    "# Which player took Home Shots?\n",
    "home_shots['From'].value_counts()"
   ]
  },
  {
   "cell_type": "code",
   "execution_count": 15,
   "metadata": {},
   "outputs": [
    {
     "data": {
      "text/plain": [
       "Player24     2\n",
       "Player20     2\n",
       "Player19     2\n",
       "Player21     1\n",
       "Player22     1\n",
       "Player18     1\n",
       "Player23     1\n",
       "Player 26    1\n",
       "Name: From, dtype: int64"
      ]
     },
     "execution_count": 15,
     "metadata": {},
     "output_type": "execute_result"
    }
   ],
   "source": [
    "# Which player took Away Shots?\n",
    "away_shots['From'].value_counts()"
   ]
  },
  {
   "cell_type": "code",
   "execution_count": 16,
   "metadata": {},
   "outputs": [],
   "source": [
    "# Get goals\n",
    "home_goals = home_shots[home_shots['Subtype'].str.contains('-GOAL')].copy()\n",
    "away_goals = away_shots[away_shots['Subtype'].str.contains('-GOAL')].copy()"
   ]
  },
  {
   "cell_type": "code",
   "execution_count": 17,
   "metadata": {},
   "outputs": [
    {
     "data": {
      "text/html": [
       "<div>\n",
       "<style scoped>\n",
       "    .dataframe tbody tr th:only-of-type {\n",
       "        vertical-align: middle;\n",
       "    }\n",
       "\n",
       "    .dataframe tbody tr th {\n",
       "        vertical-align: top;\n",
       "    }\n",
       "\n",
       "    .dataframe thead th {\n",
       "        text-align: right;\n",
       "    }\n",
       "</style>\n",
       "<table border=\"1\" class=\"dataframe\">\n",
       "  <thead>\n",
       "    <tr style=\"text-align: right;\">\n",
       "      <th></th>\n",
       "      <th>Team</th>\n",
       "      <th>Type</th>\n",
       "      <th>Subtype</th>\n",
       "      <th>Period</th>\n",
       "      <th>Start Frame</th>\n",
       "      <th>Start Time [s]</th>\n",
       "      <th>End Frame</th>\n",
       "      <th>End Time [s]</th>\n",
       "      <th>From</th>\n",
       "      <th>To</th>\n",
       "      <th>Start X</th>\n",
       "      <th>Start Y</th>\n",
       "      <th>End X</th>\n",
       "      <th>End Y</th>\n",
       "    </tr>\n",
       "  </thead>\n",
       "  <tbody>\n",
       "    <tr>\n",
       "      <th>198</th>\n",
       "      <td>Home</td>\n",
       "      <td>SHOT</td>\n",
       "      <td>ON TARGET-GOAL</td>\n",
       "      <td>1</td>\n",
       "      <td>12202</td>\n",
       "      <td>488.08</td>\n",
       "      <td>12212</td>\n",
       "      <td>488.48</td>\n",
       "      <td>Player10</td>\n",
       "      <td>NaN</td>\n",
       "      <td>-47.70</td>\n",
       "      <td>-3.40</td>\n",
       "      <td>-54.06</td>\n",
       "      <td>-2.04</td>\n",
       "    </tr>\n",
       "    <tr>\n",
       "      <th>1118</th>\n",
       "      <td>Home</td>\n",
       "      <td>SHOT</td>\n",
       "      <td>HEAD-ON TARGET-GOAL</td>\n",
       "      <td>2</td>\n",
       "      <td>73983</td>\n",
       "      <td>2959.32</td>\n",
       "      <td>73995</td>\n",
       "      <td>2959.80</td>\n",
       "      <td>Player9</td>\n",
       "      <td>NaN</td>\n",
       "      <td>47.70</td>\n",
       "      <td>-1.36</td>\n",
       "      <td>54.06</td>\n",
       "      <td>-2.04</td>\n",
       "    </tr>\n",
       "    <tr>\n",
       "      <th>1723</th>\n",
       "      <td>Home</td>\n",
       "      <td>SHOT</td>\n",
       "      <td>ON TARGET-GOAL</td>\n",
       "      <td>2</td>\n",
       "      <td>121027</td>\n",
       "      <td>4841.08</td>\n",
       "      <td>121055</td>\n",
       "      <td>4842.20</td>\n",
       "      <td>Player12</td>\n",
       "      <td>NaN</td>\n",
       "      <td>30.74</td>\n",
       "      <td>-5.44</td>\n",
       "      <td>54.06</td>\n",
       "      <td>-2.72</td>\n",
       "    </tr>\n",
       "  </tbody>\n",
       "</table>\n",
       "</div>"
      ],
      "text/plain": [
       "      Team  Type              Subtype  Period  Start Frame  Start Time [s]  \\\n",
       "198   Home  SHOT       ON TARGET-GOAL       1        12202          488.08   \n",
       "1118  Home  SHOT  HEAD-ON TARGET-GOAL       2        73983         2959.32   \n",
       "1723  Home  SHOT       ON TARGET-GOAL       2       121027         4841.08   \n",
       "\n",
       "      End Frame  End Time [s]      From   To  Start X  Start Y  End X  End Y  \n",
       "198       12212        488.48  Player10  NaN   -47.70    -3.40 -54.06  -2.04  \n",
       "1118      73995       2959.80   Player9  NaN    47.70    -1.36  54.06  -2.04  \n",
       "1723     121055       4842.20  Player12  NaN    30.74    -5.44  54.06  -2.72  "
      ]
     },
     "execution_count": 17,
     "metadata": {},
     "output_type": "execute_result"
    }
   ],
   "source": [
    "# View Home Goals\n",
    "home_goals.head()"
   ]
  },
  {
   "cell_type": "code",
   "execution_count": 18,
   "metadata": {},
   "outputs": [],
   "source": [
    "# Look at first goal - what happened?"
   ]
  },
  {
   "cell_type": "code",
   "execution_count": 19,
   "metadata": {},
   "outputs": [
    {
     "data": {
      "text/plain": [
       "Text(-47.7, -3.400000000000003, '')"
      ]
     },
     "execution_count": 19,
     "metadata": {},
     "output_type": "execute_result"
    },
    {
     "data": {
      "image/png": "[encoded data removed]",
      "text/plain": [
       "<Figure size 864x576 with 1 Axes>"
      ]
     },
     "metadata": {},
     "output_type": "display_data"
    }
   ],
   "source": [
    "# Plot shots - PLOTTEDR\n",
    "fig, ax = mviz.plot_pitch()\n",
    "ax.plot(events.loc[198]['Start X'], events.loc[198]['Start Y'], 'ro')\n",
    "ax.annotate(\"\", xy = events.loc[198][['End X','End Y']], xytext = events.loc[198][['Start X','Start Y']], alpha=0.6, arrowprops = dict(arrowstyle = \"->\", color='r'))"
   ]
  },
  {
   "cell_type": "code",
   "execution_count": 20,
   "metadata": {},
   "outputs": [
    {
     "data": {
      "text/plain": [
       "(<Figure size 864x576 with 1 Axes>,\n",
       " <matplotlib.axes._subplots.AxesSubplot at 0x1a19a551d0>)"
      ]
     },
     "execution_count": 20,
     "metadata": {},
     "output_type": "execute_result"
    },
    {
     "data": {
      "image/png": "[encoded data removed]",
      "text/plain": [
       "<Figure size 864x576 with 1 Axes>"
      ]
     },
     "metadata": {},
     "output_type": "display_data"
    }
   ],
   "source": [
    "# Plot pass move in run up to goal\n",
    "mviz.plot_events(events.loc[190:198], indicators = ['Marker', 'Arrow'])"
   ]
  },
  {
   "cell_type": "code",
   "execution_count": 21,
   "metadata": {},
   "outputs": [
    {
     "data": {
      "text/plain": [
       "(<Figure size 864x576 with 1 Axes>,\n",
       " <matplotlib.axes._subplots.AxesSubplot at 0x1a1922e1d0>)"
      ]
     },
     "execution_count": 21,
     "metadata": {},
     "output_type": "execute_result"
    },
    {
     "data": {
      "image/png": "[encoded data removed]",
      "text/plain": [
       "<Figure size 864x576 with 1 Axes>"
      ]
     },
     "metadata": {},
     "output_type": "display_data"
    }
   ],
   "source": [
    "# Plot pass move in run up to goal\n",
    "mviz.plot_events(events.loc[190:198], indicators = ['Marker', 'Arrow'], annotate=True)    # show player names"
   ]
  },
  {
   "cell_type": "markdown",
   "metadata": {},
   "source": [
    "<a id='section3.2.2'></a>"
   ]
  },
  {
   "cell_type": "markdown",
   "metadata": {},
   "source": [
    "#### 3.2.2 Tracking Data"
   ]
  },
  {
   "cell_type": "code",
   "execution_count": 22,
   "metadata": {},
   "outputs": [
    {
     "name": "stdout",
     "output_type": "stream",
     "text": [
      "Reading team: home\n",
      "Reading team: away\n"
     ]
    }
   ],
   "source": [
    "# Reading in tracking data\n",
    "tracking_home = mio.tracking_data(DATADIR, game_id, 'Home')\n",
    "tracking_away = mio.tracking_data(DATADIR, game_id, 'Away')"
   ]
  },
  {
   "cell_type": "code",
   "execution_count": 23,
   "metadata": {},
   "outputs": [
    {
     "data": {
      "text/plain": [
       "Index(['Period', 'Time [s]', 'Home_11_x', 'Home_11_y', 'Home_1_x', 'Home_1_y',\n",
       "       'Home_2_x', 'Home_2_y', 'Home_3_x', 'Home_3_y', 'Home_4_x', 'Home_4_y',\n",
       "       'Home_5_x', 'Home_5_y', 'Home_6_x', 'Home_6_y', 'Home_7_x', 'Home_7_y',\n",
       "       'Home_8_x', 'Home_8_y', 'Home_9_x', 'Home_9_y', 'Home_10_x',\n",
       "       'Home_10_y', 'Home_12_x', 'Home_12_y', 'Home_13_x', 'Home_13_y',\n",
       "       'Home_14_x', 'Home_14_y', 'ball_x', 'ball_y'],\n",
       "      dtype='object')"
      ]
     },
     "execution_count": 23,
     "metadata": {},
     "output_type": "execute_result"
    }
   ],
   "source": [
    "tracking_home.columns"
   ]
  },
  {
   "cell_type": "code",
   "execution_count": 24,
   "metadata": {},
   "outputs": [
    {
     "data": {
      "text/html": [
       "<div>\n",
       "<style scoped>\n",
       "    .dataframe tbody tr th:only-of-type {\n",
       "        vertical-align: middle;\n",
       "    }\n",
       "\n",
       "    .dataframe tbody tr th {\n",
       "        vertical-align: top;\n",
       "    }\n",
       "\n",
       "    .dataframe thead th {\n",
       "        text-align: right;\n",
       "    }\n",
       "</style>\n",
       "<table border=\"1\" class=\"dataframe\">\n",
       "  <thead>\n",
       "    <tr style=\"text-align: right;\">\n",
       "      <th></th>\n",
       "      <th>Period</th>\n",
       "      <th>Time [s]</th>\n",
       "      <th>Home_11_x</th>\n",
       "      <th>Home_11_y</th>\n",
       "      <th>Home_1_x</th>\n",
       "      <th>Home_1_y</th>\n",
       "      <th>Home_2_x</th>\n",
       "      <th>Home_2_y</th>\n",
       "      <th>Home_3_x</th>\n",
       "      <th>Home_3_y</th>\n",
       "      <th>...</th>\n",
       "      <th>Home_10_x</th>\n",
       "      <th>Home_10_y</th>\n",
       "      <th>Home_12_x</th>\n",
       "      <th>Home_12_y</th>\n",
       "      <th>Home_13_x</th>\n",
       "      <th>Home_13_y</th>\n",
       "      <th>Home_14_x</th>\n",
       "      <th>Home_14_y</th>\n",
       "      <th>ball_x</th>\n",
       "      <th>ball_y</th>\n",
       "    </tr>\n",
       "    <tr>\n",
       "      <th>Frame</th>\n",
       "      <th></th>\n",
       "      <th></th>\n",
       "      <th></th>\n",
       "      <th></th>\n",
       "      <th></th>\n",
       "      <th></th>\n",
       "      <th></th>\n",
       "      <th></th>\n",
       "      <th></th>\n",
       "      <th></th>\n",
       "      <th></th>\n",
       "      <th></th>\n",
       "      <th></th>\n",
       "      <th></th>\n",
       "      <th></th>\n",
       "      <th></th>\n",
       "      <th></th>\n",
       "      <th></th>\n",
       "      <th></th>\n",
       "      <th></th>\n",
       "      <th></th>\n",
       "    </tr>\n",
       "  </thead>\n",
       "  <tbody>\n",
       "    <tr>\n",
       "      <th>1</th>\n",
       "      <td>1</td>\n",
       "      <td>0.04</td>\n",
       "      <td>0.94275</td>\n",
       "      <td>0.50413</td>\n",
       "      <td>0.64812</td>\n",
       "      <td>0.28605</td>\n",
       "      <td>0.67752</td>\n",
       "      <td>0.42803</td>\n",
       "      <td>0.69882</td>\n",
       "      <td>0.55606</td>\n",
       "      <td>...</td>\n",
       "      <td>0.50194</td>\n",
       "      <td>0.61123</td>\n",
       "      <td>NaN</td>\n",
       "      <td>NaN</td>\n",
       "      <td>NaN</td>\n",
       "      <td>NaN</td>\n",
       "      <td>NaN</td>\n",
       "      <td>NaN</td>\n",
       "      <td>NaN</td>\n",
       "      <td>NaN</td>\n",
       "    </tr>\n",
       "    <tr>\n",
       "      <th>2</th>\n",
       "      <td>1</td>\n",
       "      <td>0.08</td>\n",
       "      <td>0.94275</td>\n",
       "      <td>0.50413</td>\n",
       "      <td>0.64812</td>\n",
       "      <td>0.28605</td>\n",
       "      <td>0.67752</td>\n",
       "      <td>0.42803</td>\n",
       "      <td>0.69882</td>\n",
       "      <td>0.55606</td>\n",
       "      <td>...</td>\n",
       "      <td>0.50194</td>\n",
       "      <td>0.61123</td>\n",
       "      <td>NaN</td>\n",
       "      <td>NaN</td>\n",
       "      <td>NaN</td>\n",
       "      <td>NaN</td>\n",
       "      <td>NaN</td>\n",
       "      <td>NaN</td>\n",
       "      <td>NaN</td>\n",
       "      <td>NaN</td>\n",
       "    </tr>\n",
       "    <tr>\n",
       "      <th>3</th>\n",
       "      <td>1</td>\n",
       "      <td>0.12</td>\n",
       "      <td>0.94275</td>\n",
       "      <td>0.50413</td>\n",
       "      <td>0.64812</td>\n",
       "      <td>0.28605</td>\n",
       "      <td>0.67752</td>\n",
       "      <td>0.42803</td>\n",
       "      <td>0.69882</td>\n",
       "      <td>0.55606</td>\n",
       "      <td>...</td>\n",
       "      <td>0.50194</td>\n",
       "      <td>0.61123</td>\n",
       "      <td>NaN</td>\n",
       "      <td>NaN</td>\n",
       "      <td>NaN</td>\n",
       "      <td>NaN</td>\n",
       "      <td>NaN</td>\n",
       "      <td>NaN</td>\n",
       "      <td>NaN</td>\n",
       "      <td>NaN</td>\n",
       "    </tr>\n",
       "    <tr>\n",
       "      <th>4</th>\n",
       "      <td>1</td>\n",
       "      <td>0.16</td>\n",
       "      <td>0.94275</td>\n",
       "      <td>0.50413</td>\n",
       "      <td>0.64812</td>\n",
       "      <td>0.28605</td>\n",
       "      <td>0.67752</td>\n",
       "      <td>0.42803</td>\n",
       "      <td>0.69882</td>\n",
       "      <td>0.55606</td>\n",
       "      <td>...</td>\n",
       "      <td>0.50194</td>\n",
       "      <td>0.61123</td>\n",
       "      <td>NaN</td>\n",
       "      <td>NaN</td>\n",
       "      <td>NaN</td>\n",
       "      <td>NaN</td>\n",
       "      <td>NaN</td>\n",
       "      <td>NaN</td>\n",
       "      <td>NaN</td>\n",
       "      <td>NaN</td>\n",
       "    </tr>\n",
       "    <tr>\n",
       "      <th>5</th>\n",
       "      <td>1</td>\n",
       "      <td>0.20</td>\n",
       "      <td>0.94275</td>\n",
       "      <td>0.50413</td>\n",
       "      <td>0.64812</td>\n",
       "      <td>0.28605</td>\n",
       "      <td>0.67752</td>\n",
       "      <td>0.42803</td>\n",
       "      <td>0.69882</td>\n",
       "      <td>0.55606</td>\n",
       "      <td>...</td>\n",
       "      <td>0.50194</td>\n",
       "      <td>0.61123</td>\n",
       "      <td>NaN</td>\n",
       "      <td>NaN</td>\n",
       "      <td>NaN</td>\n",
       "      <td>NaN</td>\n",
       "      <td>NaN</td>\n",
       "      <td>NaN</td>\n",
       "      <td>NaN</td>\n",
       "      <td>NaN</td>\n",
       "    </tr>\n",
       "  </tbody>\n",
       "</table>\n",
       "<p>5 rows × 32 columns</p>\n",
       "</div>"
      ],
      "text/plain": [
       "       Period  Time [s]  Home_11_x  Home_11_y  Home_1_x  Home_1_y  Home_2_x  \\\n",
       "Frame                                                                         \n",
       "1           1      0.04    0.94275    0.50413   0.64812   0.28605   0.67752   \n",
       "2           1      0.08    0.94275    0.50413   0.64812   0.28605   0.67752   \n",
       "3           1      0.12    0.94275    0.50413   0.64812   0.28605   0.67752   \n",
       "4           1      0.16    0.94275    0.50413   0.64812   0.28605   0.67752   \n",
       "5           1      0.20    0.94275    0.50413   0.64812   0.28605   0.67752   \n",
       "\n",
       "       Home_2_y  Home_3_x  Home_3_y  ...  Home_10_x  Home_10_y  Home_12_x  \\\n",
       "Frame                                ...                                    \n",
       "1       0.42803   0.69882   0.55606  ...    0.50194    0.61123        NaN   \n",
       "2       0.42803   0.69882   0.55606  ...    0.50194    0.61123        NaN   \n",
       "3       0.42803   0.69882   0.55606  ...    0.50194    0.61123        NaN   \n",
       "4       0.42803   0.69882   0.55606  ...    0.50194    0.61123        NaN   \n",
       "5       0.42803   0.69882   0.55606  ...    0.50194    0.61123        NaN   \n",
       "\n",
       "       Home_12_y  Home_13_x  Home_13_y  Home_14_x  Home_14_y  ball_x  ball_y  \n",
       "Frame                                                                         \n",
       "1            NaN        NaN        NaN        NaN        NaN     NaN     NaN  \n",
       "2            NaN        NaN        NaN        NaN        NaN     NaN     NaN  \n",
       "3            NaN        NaN        NaN        NaN        NaN     NaN     NaN  \n",
       "4            NaN        NaN        NaN        NaN        NaN     NaN     NaN  \n",
       "5            NaN        NaN        NaN        NaN        NaN     NaN     NaN  \n",
       "\n",
       "[5 rows x 32 columns]"
      ]
     },
     "execution_count": 24,
     "metadata": {},
     "output_type": "execute_result"
    }
   ],
   "source": [
    "tracking_home.head()"
   ]
  },
  {
   "cell_type": "code",
   "execution_count": 25,
   "metadata": {},
   "outputs": [
    {
     "data": {
      "text/plain": [
       "(141156, 32)"
      ]
     },
     "execution_count": 25,
     "metadata": {},
     "output_type": "execute_result"
    }
   ],
   "source": [
    "tracking_home.shape    # 141,156 rows i.e. frames"
   ]
  },
  {
   "cell_type": "code",
   "execution_count": 26,
   "metadata": {},
   "outputs": [
    {
     "data": {
      "text/plain": [
       "135000"
      ]
     },
     "execution_count": 26,
     "metadata": {},
     "output_type": "execute_result"
    }
   ],
   "source": [
    "# i.e 25 frames per second, in 90 minutes\n",
    "25 * 60 * 90"
   ]
  },
  {
   "cell_type": "code",
   "execution_count": 27,
   "metadata": {},
   "outputs": [],
   "source": [
    "# Convert to pitch coordinates\n",
    "tracking_home = mio.to_metric_coordinates(tracking_home)\n",
    "tracking_away = mio.to_metric_coordinates(tracking_away)"
   ]
  },
  {
   "cell_type": "code",
   "execution_count": 28,
   "metadata": {},
   "outputs": [
    {
     "data": {
      "text/plain": [
       "[<matplotlib.lines.Line2D at 0x1a18c08450>]"
      ]
     },
     "execution_count": 28,
     "metadata": {},
     "output_type": "execute_result"
    },
    {
     "data": {
      "image/png": "[encoded data removed]",
      "text/plain": [
       "<Figure size 864x576 with 1 Axes>"
      ]
     },
     "metadata": {},
     "output_type": "display_data"
    }
   ],
   "source": [
    "# Plotting tracking data -  of the first 60 seconds (i.e. 60 x 90 = 1500 frames)\n",
    "fig,ax = mviz.plot_pitch()\n",
    "ax.plot(tracking_home['Home_11_x'].iloc[:1500], tracking_home['Home_11_y'].iloc[:1500], 'r.', MarkerSize=1)\n",
    "ax.plot(tracking_home['Home_1_x'].iloc[:1500], tracking_home['Home_1_y'].iloc[:1500], 'b.', MarkerSize=1)\n",
    "ax.plot(tracking_home['Home_2_x'].iloc[:1500], tracking_home['Home_2_y'].iloc[:1500], 'g.', MarkerSize=1)\n",
    "ax.plot(tracking_home['Home_3_x'].iloc[:1500], tracking_home['Home_3_y'].iloc[:1500], 'k.', MarkerSize=1)\n",
    "ax.plot(tracking_home['Home_4_x'].iloc[:1500], tracking_home['Home_4_y'].iloc[:1500], 'c.', MarkerSize=1)"
   ]
  },
  {
   "cell_type": "code",
   "execution_count": 29,
   "metadata": {},
   "outputs": [
    {
     "data": {
      "image/png": "[encoded data removed]",
      "text/plain": [
       "<Figure size 864x576 with 1 Axes>"
      ]
     },
     "metadata": {},
     "output_type": "display_data"
    }
   ],
   "source": [
    "# Plot the positions of the players at kick off\n",
    "fix,ax = mviz.plot_frame(tracking_home.loc[51], tracking_away.loc[51])"
   ]
  },
  {
   "cell_type": "code",
   "execution_count": 30,
   "metadata": {},
   "outputs": [
    {
     "data": {
      "image/png": "[encoded data removed]",
      "text/plain": [
       "<Figure size 864x576 with 1 Axes>"
      ]
     },
     "metadata": {},
     "output_type": "display_data"
    },
    {
     "data": {
      "image/png": "[encoded data removed]",
      "text/plain": [
       "<Figure size 864x576 with 1 Axes>"
      ]
     },
     "metadata": {},
     "output_type": "display_data"
    }
   ],
   "source": [
    "# Plot the positions of the players at the goal\n",
    "fix,ax = mviz.plot_events(events.loc[198:198], indicators = ['Marker', 'Arrow'], annotate=True)\n",
    "frame = events.loc[198]['Start Frame']    # frame where first goal took place - 12,202\n",
    "\n",
    "fig,ax = mviz.plot_frame(tracking_home.loc[frame], tracking_away.loc[frame])"
   ]
  },
  {
   "cell_type": "markdown",
   "metadata": {},
   "source": [
    "<a id='section3.3'></a>"
   ]
  },
  {
   "cell_type": "markdown",
   "metadata": {},
   "source": [
    "### 3.3 Homework\n",
    "1.    Plot the passes and shot leading up to the second and third goals in the match.\n",
    "2.    Plot all the shots by Player 9 of the home team. Use a different symbol and transparency (alpha) for shots that resulted in goals\n",
    "3.    Plot the positions of all players at Player 9's goal\n",
    "4.    Calculate how far each player ran\n",
    "\n",
    "Tweet answers to #FoT\n",
    "\n",
    "The first two questions use the event data, the second two questions use the tracking data.\n",
    "\n",
    "Answers to the homework can be found in the following video from the 2m50s mark up until the 18m55s mark."
   ]
  },
  {
   "cell_type": "code",
   "execution_count": 31,
   "metadata": {},
   "outputs": [
    {
     "data": {
      "image/jpeg": "[encoded data removed]",
      "text/html": [
       "\n",
       "        <iframe\n",
       "            width=\"800\"\n",
       "            height=\"470\"\n",
       "            src=\"https://www.youtube.com/embed/wnab8-oukzs\"\n",
       "            frameborder=\"0\"\n",
       "            allowfullscreen\n",
       "        ></iframe>\n",
       "        "
      ],
      "text/plain": [
       "<IPython.lib.display.YouTubeVideo at 0x1a1a8d9710>"
      ]
     },
     "execution_count": 31,
     "metadata": {},
     "output_type": "execute_result"
    }
   ],
   "source": [
    "# Friends of Tracking Live: Homework and more - ans to video 1 homework @ 2m50s\n",
    "YouTubeVideo('wnab8-oukzs', width=800, height=470)"
   ]
  },
  {
   "cell_type": "markdown",
   "metadata": {},
   "source": [
    "<a id='section3.3.1'></a>"
   ]
  },
  {
   "cell_type": "markdown",
   "metadata": {},
   "source": [
    "#### 3.3.1. Plot the passes and shot leading up to the second and third goals in the match."
   ]
  },
  {
   "cell_type": "code",
   "execution_count": 32,
   "metadata": {},
   "outputs": [],
   "source": [
    "# All shots\n",
    "shots = events[events['Type'] == 'SHOT'].copy()\n",
    "goals = shots[shots['Subtype'].str.contains('-GOAL')].copy()"
   ]
  },
  {
   "cell_type": "code",
   "execution_count": 33,
   "metadata": {},
   "outputs": [
    {
     "data": {
      "text/html": [
       "<div>\n",
       "<style scoped>\n",
       "    .dataframe tbody tr th:only-of-type {\n",
       "        vertical-align: middle;\n",
       "    }\n",
       "\n",
       "    .dataframe tbody tr th {\n",
       "        vertical-align: top;\n",
       "    }\n",
       "\n",
       "    .dataframe thead th {\n",
       "        text-align: right;\n",
       "    }\n",
       "</style>\n",
       "<table border=\"1\" class=\"dataframe\">\n",
       "  <thead>\n",
       "    <tr style=\"text-align: right;\">\n",
       "      <th></th>\n",
       "      <th>Team</th>\n",
       "      <th>Type</th>\n",
       "      <th>Subtype</th>\n",
       "      <th>Period</th>\n",
       "      <th>Start Frame</th>\n",
       "      <th>Start Time [s]</th>\n",
       "      <th>End Frame</th>\n",
       "      <th>End Time [s]</th>\n",
       "      <th>From</th>\n",
       "      <th>To</th>\n",
       "      <th>Start X</th>\n",
       "      <th>Start Y</th>\n",
       "      <th>End X</th>\n",
       "      <th>End Y</th>\n",
       "    </tr>\n",
       "  </thead>\n",
       "  <tbody>\n",
       "    <tr>\n",
       "      <th>198</th>\n",
       "      <td>Home</td>\n",
       "      <td>SHOT</td>\n",
       "      <td>ON TARGET-GOAL</td>\n",
       "      <td>1</td>\n",
       "      <td>12202</td>\n",
       "      <td>488.08</td>\n",
       "      <td>12212</td>\n",
       "      <td>488.48</td>\n",
       "      <td>Player10</td>\n",
       "      <td>NaN</td>\n",
       "      <td>-47.70</td>\n",
       "      <td>-3.40</td>\n",
       "      <td>-54.06</td>\n",
       "      <td>-2.04</td>\n",
       "    </tr>\n",
       "    <tr>\n",
       "      <th>823</th>\n",
       "      <td>Away</td>\n",
       "      <td>SHOT</td>\n",
       "      <td>ON TARGET-GOAL</td>\n",
       "      <td>1</td>\n",
       "      <td>53049</td>\n",
       "      <td>2121.96</td>\n",
       "      <td>53075</td>\n",
       "      <td>2123.00</td>\n",
       "      <td>Player24</td>\n",
       "      <td>NaN</td>\n",
       "      <td>44.52</td>\n",
       "      <td>2.72</td>\n",
       "      <td>54.06</td>\n",
       "      <td>1.36</td>\n",
       "    </tr>\n",
       "    <tr>\n",
       "      <th>1118</th>\n",
       "      <td>Home</td>\n",
       "      <td>SHOT</td>\n",
       "      <td>HEAD-ON TARGET-GOAL</td>\n",
       "      <td>2</td>\n",
       "      <td>73983</td>\n",
       "      <td>2959.32</td>\n",
       "      <td>73995</td>\n",
       "      <td>2959.80</td>\n",
       "      <td>Player9</td>\n",
       "      <td>NaN</td>\n",
       "      <td>47.70</td>\n",
       "      <td>-1.36</td>\n",
       "      <td>54.06</td>\n",
       "      <td>-2.04</td>\n",
       "    </tr>\n",
       "    <tr>\n",
       "      <th>1671</th>\n",
       "      <td>Away</td>\n",
       "      <td>SHOT</td>\n",
       "      <td>ON TARGET-GOAL</td>\n",
       "      <td>2</td>\n",
       "      <td>115009</td>\n",
       "      <td>4600.36</td>\n",
       "      <td>115024</td>\n",
       "      <td>4600.96</td>\n",
       "      <td>Player20</td>\n",
       "      <td>NaN</td>\n",
       "      <td>-40.28</td>\n",
       "      <td>-1.36</td>\n",
       "      <td>-55.12</td>\n",
       "      <td>-2.72</td>\n",
       "    </tr>\n",
       "    <tr>\n",
       "      <th>1723</th>\n",
       "      <td>Home</td>\n",
       "      <td>SHOT</td>\n",
       "      <td>ON TARGET-GOAL</td>\n",
       "      <td>2</td>\n",
       "      <td>121027</td>\n",
       "      <td>4841.08</td>\n",
       "      <td>121055</td>\n",
       "      <td>4842.20</td>\n",
       "      <td>Player12</td>\n",
       "      <td>NaN</td>\n",
       "      <td>30.74</td>\n",
       "      <td>-5.44</td>\n",
       "      <td>54.06</td>\n",
       "      <td>-2.72</td>\n",
       "    </tr>\n",
       "  </tbody>\n",
       "</table>\n",
       "</div>"
      ],
      "text/plain": [
       "      Team  Type              Subtype  Period  Start Frame  Start Time [s]  \\\n",
       "198   Home  SHOT       ON TARGET-GOAL       1        12202          488.08   \n",
       "823   Away  SHOT       ON TARGET-GOAL       1        53049         2121.96   \n",
       "1118  Home  SHOT  HEAD-ON TARGET-GOAL       2        73983         2959.32   \n",
       "1671  Away  SHOT       ON TARGET-GOAL       2       115009         4600.36   \n",
       "1723  Home  SHOT       ON TARGET-GOAL       2       121027         4841.08   \n",
       "\n",
       "      End Frame  End Time [s]      From   To  Start X  Start Y  End X  End Y  \n",
       "198       12212        488.48  Player10  NaN   -47.70    -3.40 -54.06  -2.04  \n",
       "823       53075       2123.00  Player24  NaN    44.52     2.72  54.06   1.36  \n",
       "1118      73995       2959.80   Player9  NaN    47.70    -1.36  54.06  -2.04  \n",
       "1671     115024       4600.96  Player20  NaN   -40.28    -1.36 -55.12  -2.72  \n",
       "1723     121055       4842.20  Player12  NaN    30.74    -5.44  54.06  -2.72  "
      ]
     },
     "execution_count": 33,
     "metadata": {},
     "output_type": "execute_result"
    }
   ],
   "source": [
    "goals"
   ]
  },
  {
   "cell_type": "markdown",
   "metadata": {},
   "source": [
    "From the goals DataFrame, we can see that there were five goals in the game, with the home team winning 3-2.\n",
    "\n",
    "From the DataFrames, We can see the goals were scored in the following frames:\n",
    "*    Goal 1: 198\n",
    "*    Goal 2: 823\n",
    "*    Goal 3: 1,118\n",
    "*    Goal 4: 1,671\n",
    "*    Goal 5: 1,723\n",
    "\n",
    "This can be explored in the `events` DataFrame using the variable explorer to see at what frame the moves began."
   ]
  },
  {
   "cell_type": "code",
   "execution_count": 34,
   "metadata": {},
   "outputs": [
    {
     "data": {
      "text/plain": [
       "(<Figure size 864x576 with 1 Axes>,\n",
       " <matplotlib.axes._subplots.AxesSubplot at 0x1a1a8f0b90>)"
      ]
     },
     "execution_count": 34,
     "metadata": {},
     "output_type": "execute_result"
    },
    {
     "data": {
      "image/png": "[encoded data removed]",
      "text/plain": [
       "<Figure size 864x576 with 1 Axes>"
      ]
     },
     "metadata": {},
     "output_type": "display_data"
    }
   ],
   "source": [
    "# Plot pass move in run up to the second goal for the away team (blue) - frames 818 to 823\n",
    "mviz.plot_events(events.loc[818:823], indicators = ['Marker', 'Arrow'], annotate=True, color='b')"
   ]
  },
  {
   "cell_type": "markdown",
   "metadata": {},
   "source": [
    "From the DataFrame for events, we can see that for the second goal for the away team (blue) there were five passes leading up the shot, started from frame 818, which resulted in a goal in frame 823."
   ]
  },
  {
   "cell_type": "code",
   "execution_count": 35,
   "metadata": {},
   "outputs": [
    {
     "data": {
      "text/plain": [
       "(<Figure size 864x576 with 1 Axes>,\n",
       " <matplotlib.axes._subplots.AxesSubplot at 0x1a1ada58d0>)"
      ]
     },
     "execution_count": 35,
     "metadata": {},
     "output_type": "execute_result"
    },
    {
     "data": {
      "image/png": "[encoded data removed]",
      "text/plain": [
       "<Figure size 864x576 with 1 Axes>"
      ]
     },
     "metadata": {},
     "output_type": "display_data"
    }
   ],
   "source": [
    "# Plot pass move in run up to the third goal for the home team (red)- frames 1,109 to 1,118\n",
    "mviz.plot_events(events.loc[1109:1118], indicators = ['Marker', 'Arrow'], annotate=True, color='r')"
   ]
  },
  {
   "cell_type": "markdown",
   "metadata": {},
   "source": [
    "From the DataFrame for events, we can see that for the third goal for the home team (red) there were five passes leading up the shot, started from frame 1,109, which resulted in a goal in frame 1,118.\n",
    "\n",
    "In parts the goal seems a little obscure, that's because there were a couple of challenges leading up to the goal, as well as the passes and shots.\n",
    "\n",
    "We can maken this a little clearer by filtering the event data only for passes and shots, as the following:"
   ]
  },
  {
   "cell_type": "code",
   "execution_count": 36,
   "metadata": {},
   "outputs": [],
   "source": [
    "passes_and_shots = events[events['Type'].isin(['SHOT', 'PASS'])]"
   ]
  },
  {
   "cell_type": "code",
   "execution_count": 37,
   "metadata": {},
   "outputs": [
    {
     "data": {
      "text/plain": [
       "(<Figure size 864x576 with 1 Axes>,\n",
       " <matplotlib.axes._subplots.AxesSubplot at 0x1a1afdb990>)"
      ]
     },
     "execution_count": 37,
     "metadata": {},
     "output_type": "execute_result"
    },
    {
     "data": {
      "image/png": "[encoded data removed]",
      "text/plain": [
       "<Figure size 864x576 with 1 Axes>"
      ]
     },
     "metadata": {},
     "output_type": "display_data"
    }
   ],
   "source": [
    "# Plot pass move in run up to the third goal for the home team (red), this time using the passes and shots DataFrame - frames 1,109 to 1,118\n",
    "mviz.plot_events(passes_and_shots.loc[1109:1118], indicators = ['Marker', 'Arrow'], annotate=True, color='r')"
   ]
  },
  {
   "cell_type": "markdown",
   "metadata": {},
   "source": [
    "The plot for the second goal is now a lot tidier, showing only the five passes leading up to the goal, as well as the shot."
   ]
  },
  {
   "cell_type": "markdown",
   "metadata": {},
   "source": [
    "<a id='section3.3.2'></a>"
   ]
  },
  {
   "cell_type": "markdown",
   "metadata": {},
   "source": [
    "#### 3.3.2. Plot all the shots by Player 9 of the home team. Use a different symbol and transparency (alpha) for shots that resulted in goals"
   ]
  },
  {
   "cell_type": "code",
   "execution_count": 38,
   "metadata": {},
   "outputs": [],
   "source": [
    "# Frist, create DataFrame for all player 9 of the Home team's shots\n",
    "home_player9_shots = events[(events['Team'] == \"Home\") & (events['Type'] == \"SHOT\") & (events['From'] == \"Player9\")]"
   ]
  },
  {
   "cell_type": "code",
   "execution_count": 39,
   "metadata": {},
   "outputs": [
    {
     "data": {
      "text/html": [
       "<div>\n",
       "<style scoped>\n",
       "    .dataframe tbody tr th:only-of-type {\n",
       "        vertical-align: middle;\n",
       "    }\n",
       "\n",
       "    .dataframe tbody tr th {\n",
       "        vertical-align: top;\n",
       "    }\n",
       "\n",
       "    .dataframe thead th {\n",
       "        text-align: right;\n",
       "    }\n",
       "</style>\n",
       "<table border=\"1\" class=\"dataframe\">\n",
       "  <thead>\n",
       "    <tr style=\"text-align: right;\">\n",
       "      <th></th>\n",
       "      <th>Team</th>\n",
       "      <th>Type</th>\n",
       "      <th>Subtype</th>\n",
       "      <th>Period</th>\n",
       "      <th>Start Frame</th>\n",
       "      <th>Start Time [s]</th>\n",
       "      <th>End Frame</th>\n",
       "      <th>End Time [s]</th>\n",
       "      <th>From</th>\n",
       "      <th>To</th>\n",
       "      <th>Start X</th>\n",
       "      <th>Start Y</th>\n",
       "      <th>End X</th>\n",
       "      <th>End Y</th>\n",
       "    </tr>\n",
       "  </thead>\n",
       "  <tbody>\n",
       "    <tr>\n",
       "      <th>1118</th>\n",
       "      <td>Home</td>\n",
       "      <td>SHOT</td>\n",
       "      <td>HEAD-ON TARGET-GOAL</td>\n",
       "      <td>2</td>\n",
       "      <td>73983</td>\n",
       "      <td>2959.32</td>\n",
       "      <td>73995</td>\n",
       "      <td>2959.8</td>\n",
       "      <td>Player9</td>\n",
       "      <td>NaN</td>\n",
       "      <td>47.70</td>\n",
       "      <td>-1.36</td>\n",
       "      <td>54.06</td>\n",
       "      <td>-2.04</td>\n",
       "    </tr>\n",
       "    <tr>\n",
       "      <th>1681</th>\n",
       "      <td>Home</td>\n",
       "      <td>SHOT</td>\n",
       "      <td>HEAD-OFF TARGET-OUT</td>\n",
       "      <td>2</td>\n",
       "      <td>117218</td>\n",
       "      <td>4688.72</td>\n",
       "      <td>117245</td>\n",
       "      <td>4689.8</td>\n",
       "      <td>Player9</td>\n",
       "      <td>NaN</td>\n",
       "      <td>41.34</td>\n",
       "      <td>-7.48</td>\n",
       "      <td>54.06</td>\n",
       "      <td>5.44</td>\n",
       "    </tr>\n",
       "    <tr>\n",
       "      <th>1756</th>\n",
       "      <td>Home</td>\n",
       "      <td>SHOT</td>\n",
       "      <td>HEAD-OFF TARGET-OUT</td>\n",
       "      <td>2</td>\n",
       "      <td>124336</td>\n",
       "      <td>4973.44</td>\n",
       "      <td>124365</td>\n",
       "      <td>4974.6</td>\n",
       "      <td>Player9</td>\n",
       "      <td>NaN</td>\n",
       "      <td>45.58</td>\n",
       "      <td>-0.00</td>\n",
       "      <td>55.12</td>\n",
       "      <td>-7.48</td>\n",
       "    </tr>\n",
       "    <tr>\n",
       "      <th>1927</th>\n",
       "      <td>Home</td>\n",
       "      <td>SHOT</td>\n",
       "      <td>ON TARGET-SAVED</td>\n",
       "      <td>2</td>\n",
       "      <td>139891</td>\n",
       "      <td>5595.64</td>\n",
       "      <td>139925</td>\n",
       "      <td>5597.0</td>\n",
       "      <td>Player9</td>\n",
       "      <td>NaN</td>\n",
       "      <td>21.20</td>\n",
       "      <td>-1.36</td>\n",
       "      <td>50.88</td>\n",
       "      <td>-1.36</td>\n",
       "    </tr>\n",
       "  </tbody>\n",
       "</table>\n",
       "</div>"
      ],
      "text/plain": [
       "      Team  Type              Subtype  Period  Start Frame  Start Time [s]  \\\n",
       "1118  Home  SHOT  HEAD-ON TARGET-GOAL       2        73983         2959.32   \n",
       "1681  Home  SHOT  HEAD-OFF TARGET-OUT       2       117218         4688.72   \n",
       "1756  Home  SHOT  HEAD-OFF TARGET-OUT       2       124336         4973.44   \n",
       "1927  Home  SHOT      ON TARGET-SAVED       2       139891         5595.64   \n",
       "\n",
       "      End Frame  End Time [s]     From   To  Start X  Start Y  End X  End Y  \n",
       "1118      73995        2959.8  Player9  NaN    47.70    -1.36  54.06  -2.04  \n",
       "1681     117245        4689.8  Player9  NaN    41.34    -7.48  54.06   5.44  \n",
       "1756     124365        4974.6  Player9  NaN    45.58    -0.00  55.12  -7.48  \n",
       "1927     139925        5597.0  Player9  NaN    21.20    -1.36  50.88  -1.36  "
      ]
     },
     "execution_count": 39,
     "metadata": {},
     "output_type": "execute_result"
    }
   ],
   "source": [
    "home_player9_shots"
   ]
  },
  {
   "cell_type": "markdown",
   "metadata": {},
   "source": [
    "We can see from the DataFrame that player 9 of the Home team had 4 shots - 1 goal, 2 off-target and 1 saved by the goalkeeper."
   ]
  },
  {
   "cell_type": "code",
   "execution_count": 40,
   "metadata": {},
   "outputs": [],
   "source": [
    "# Using the home_player9_shots DataFrame, next create two DataFrames that seperates those shots that are goals and those that are not goals\n",
    "home_player9_shots_goal = home_player9_shots[home_player9_shots['Subtype'].str.contains('-GOAL')]\n",
    "home_player9_shots_nogoal = home_player9_shots[~home_player9_shots['Subtype'].str.contains('-GOAL')]"
   ]
  },
  {
   "cell_type": "code",
   "execution_count": 41,
   "metadata": {},
   "outputs": [
    {
     "data": {
      "text/html": [
       "<div>\n",
       "<style scoped>\n",
       "    .dataframe tbody tr th:only-of-type {\n",
       "        vertical-align: middle;\n",
       "    }\n",
       "\n",
       "    .dataframe tbody tr th {\n",
       "        vertical-align: top;\n",
       "    }\n",
       "\n",
       "    .dataframe thead th {\n",
       "        text-align: right;\n",
       "    }\n",
       "</style>\n",
       "<table border=\"1\" class=\"dataframe\">\n",
       "  <thead>\n",
       "    <tr style=\"text-align: right;\">\n",
       "      <th></th>\n",
       "      <th>Team</th>\n",
       "      <th>Type</th>\n",
       "      <th>Subtype</th>\n",
       "      <th>Period</th>\n",
       "      <th>Start Frame</th>\n",
       "      <th>Start Time [s]</th>\n",
       "      <th>End Frame</th>\n",
       "      <th>End Time [s]</th>\n",
       "      <th>From</th>\n",
       "      <th>To</th>\n",
       "      <th>Start X</th>\n",
       "      <th>Start Y</th>\n",
       "      <th>End X</th>\n",
       "      <th>End Y</th>\n",
       "    </tr>\n",
       "  </thead>\n",
       "  <tbody>\n",
       "    <tr>\n",
       "      <th>1118</th>\n",
       "      <td>Home</td>\n",
       "      <td>SHOT</td>\n",
       "      <td>HEAD-ON TARGET-GOAL</td>\n",
       "      <td>2</td>\n",
       "      <td>73983</td>\n",
       "      <td>2959.32</td>\n",
       "      <td>73995</td>\n",
       "      <td>2959.8</td>\n",
       "      <td>Player9</td>\n",
       "      <td>NaN</td>\n",
       "      <td>47.7</td>\n",
       "      <td>-1.36</td>\n",
       "      <td>54.06</td>\n",
       "      <td>-2.04</td>\n",
       "    </tr>\n",
       "  </tbody>\n",
       "</table>\n",
       "</div>"
      ],
      "text/plain": [
       "      Team  Type              Subtype  Period  Start Frame  Start Time [s]  \\\n",
       "1118  Home  SHOT  HEAD-ON TARGET-GOAL       2        73983         2959.32   \n",
       "\n",
       "      End Frame  End Time [s]     From   To  Start X  Start Y  End X  End Y  \n",
       "1118      73995        2959.8  Player9  NaN     47.7    -1.36  54.06  -2.04  "
      ]
     },
     "execution_count": 41,
     "metadata": {},
     "output_type": "execute_result"
    }
   ],
   "source": [
    "home_player9_shots_goal"
   ]
  },
  {
   "cell_type": "code",
   "execution_count": 42,
   "metadata": {},
   "outputs": [
    {
     "data": {
      "text/html": [
       "<div>\n",
       "<style scoped>\n",
       "    .dataframe tbody tr th:only-of-type {\n",
       "        vertical-align: middle;\n",
       "    }\n",
       "\n",
       "    .dataframe tbody tr th {\n",
       "        vertical-align: top;\n",
       "    }\n",
       "\n",
       "    .dataframe thead th {\n",
       "        text-align: right;\n",
       "    }\n",
       "</style>\n",
       "<table border=\"1\" class=\"dataframe\">\n",
       "  <thead>\n",
       "    <tr style=\"text-align: right;\">\n",
       "      <th></th>\n",
       "      <th>Team</th>\n",
       "      <th>Type</th>\n",
       "      <th>Subtype</th>\n",
       "      <th>Period</th>\n",
       "      <th>Start Frame</th>\n",
       "      <th>Start Time [s]</th>\n",
       "      <th>End Frame</th>\n",
       "      <th>End Time [s]</th>\n",
       "      <th>From</th>\n",
       "      <th>To</th>\n",
       "      <th>Start X</th>\n",
       "      <th>Start Y</th>\n",
       "      <th>End X</th>\n",
       "      <th>End Y</th>\n",
       "    </tr>\n",
       "  </thead>\n",
       "  <tbody>\n",
       "    <tr>\n",
       "      <th>1681</th>\n",
       "      <td>Home</td>\n",
       "      <td>SHOT</td>\n",
       "      <td>HEAD-OFF TARGET-OUT</td>\n",
       "      <td>2</td>\n",
       "      <td>117218</td>\n",
       "      <td>4688.72</td>\n",
       "      <td>117245</td>\n",
       "      <td>4689.8</td>\n",
       "      <td>Player9</td>\n",
       "      <td>NaN</td>\n",
       "      <td>41.34</td>\n",
       "      <td>-7.48</td>\n",
       "      <td>54.06</td>\n",
       "      <td>5.44</td>\n",
       "    </tr>\n",
       "    <tr>\n",
       "      <th>1756</th>\n",
       "      <td>Home</td>\n",
       "      <td>SHOT</td>\n",
       "      <td>HEAD-OFF TARGET-OUT</td>\n",
       "      <td>2</td>\n",
       "      <td>124336</td>\n",
       "      <td>4973.44</td>\n",
       "      <td>124365</td>\n",
       "      <td>4974.6</td>\n",
       "      <td>Player9</td>\n",
       "      <td>NaN</td>\n",
       "      <td>45.58</td>\n",
       "      <td>-0.00</td>\n",
       "      <td>55.12</td>\n",
       "      <td>-7.48</td>\n",
       "    </tr>\n",
       "    <tr>\n",
       "      <th>1927</th>\n",
       "      <td>Home</td>\n",
       "      <td>SHOT</td>\n",
       "      <td>ON TARGET-SAVED</td>\n",
       "      <td>2</td>\n",
       "      <td>139891</td>\n",
       "      <td>5595.64</td>\n",
       "      <td>139925</td>\n",
       "      <td>5597.0</td>\n",
       "      <td>Player9</td>\n",
       "      <td>NaN</td>\n",
       "      <td>21.20</td>\n",
       "      <td>-1.36</td>\n",
       "      <td>50.88</td>\n",
       "      <td>-1.36</td>\n",
       "    </tr>\n",
       "  </tbody>\n",
       "</table>\n",
       "</div>"
      ],
      "text/plain": [
       "      Team  Type              Subtype  Period  Start Frame  Start Time [s]  \\\n",
       "1681  Home  SHOT  HEAD-OFF TARGET-OUT       2       117218         4688.72   \n",
       "1756  Home  SHOT  HEAD-OFF TARGET-OUT       2       124336         4973.44   \n",
       "1927  Home  SHOT      ON TARGET-SAVED       2       139891         5595.64   \n",
       "\n",
       "      End Frame  End Time [s]     From   To  Start X  Start Y  End X  End Y  \n",
       "1681     117245        4689.8  Player9  NaN    41.34    -7.48  54.06   5.44  \n",
       "1756     124365        4974.6  Player9  NaN    45.58    -0.00  55.12  -7.48  \n",
       "1927     139925        5597.0  Player9  NaN    21.20    -1.36  50.88  -1.36  "
      ]
     },
     "execution_count": 42,
     "metadata": {},
     "output_type": "execute_result"
    }
   ],
   "source": [
    "home_player9_shots_nogoal"
   ]
  },
  {
   "cell_type": "code",
   "execution_count": 43,
   "metadata": {},
   "outputs": [
    {
     "data": {
      "text/plain": [
       "Text(0.5, 0.92, 'Home team Player9 shots')"
      ]
     },
     "execution_count": 43,
     "metadata": {},
     "output_type": "execute_result"
    },
    {
     "data": {
      "image/png": "[encoded data removed]",
      "text/plain": [
       "<Figure size 864x576 with 1 Axes>"
      ]
     },
     "metadata": {},
     "output_type": "display_data"
    }
   ],
   "source": [
    "fig,ax = mviz.plot_events(home_player9_shots_goal, indicators = ['Marker', 'Arrow'], annotate = False, color = 'g', alpha= 1, marker_style = \"s\")\n",
    "mviz.plot_events(home_player9_shots_nogoal, figax = (fig,ax), indicators = ['Marker', 'Arrow'], annotate = False, color = 'r', alpha = 0.2, marker_style = \"o\")\n",
    "fig.suptitle('Home team Player9 shots', y = 0.92)"
   ]
  },
  {
   "cell_type": "markdown",
   "metadata": {},
   "source": [
    "<a id='section3.3.3'></a>"
   ]
  },
  {
   "cell_type": "markdown",
   "metadata": {},
   "source": [
    "#### 3.3.3. Plot the positions of all players at Player 9's goal"
   ]
  },
  {
   "cell_type": "code",
   "execution_count": 44,
   "metadata": {},
   "outputs": [
    {
     "name": "stdout",
     "output_type": "stream",
     "text": [
      "Reading team: home\n",
      "Reading team: away\n"
     ]
    }
   ],
   "source": [
    "# Reading in tracking data\n",
    "tracking_home = mio.tracking_data(DATADIR, game_id, 'Home')\n",
    "tracking_away = mio.tracking_data(DATADIR, game_id, 'Away')"
   ]
  },
  {
   "cell_type": "code",
   "execution_count": 45,
   "metadata": {},
   "outputs": [],
   "source": [
    "# Convert positions from metric units to meters\n",
    "tracking_home = mio.to_metric_coordinates(tracking_home)\n",
    "tracking_away = mio.to_metric_coordinates(tracking_away)"
   ]
  },
  {
   "cell_type": "code",
   "execution_count": 46,
   "metadata": {},
   "outputs": [
    {
     "data": {
      "image/png": "[encoded data removed]",
      "text/plain": [
       "<Figure size 864x576 with 1 Axes>"
      ]
     },
     "metadata": {},
     "output_type": "display_data"
    }
   ],
   "source": [
    "goal_frame = home_player9_shots_goal['Start Frame']\n",
    "fig,ax = mviz.plot_frame(tracking_home.loc[goal_frame], tracking_away.loc[goal_frame], PlayerAlpha = 0.3)\n",
    "fig, ax = mviz.plot_events(home_player9_shots_goal, figax = (fig,ax), indicators = ['Marker', 'Arrow'], annotate = True)"
   ]
  },
  {
   "cell_type": "markdown",
   "metadata": {},
   "source": [
    "<a id='section3.3.4'></a>"
   ]
  },
  {
   "cell_type": "markdown",
   "metadata": {},
   "source": [
    "#### 3.3.4. Calculate the distance covered by each player"
   ]
  },
  {
   "cell_type": "markdown",
   "metadata": {},
   "source": [
    "Need to fix this code. Struggling to get the `calc_player_velocities()` function from the `Metrica_velocities` library working (all code in this file pasted below."
   ]
  },
  {
   "cell_type": "code",
   "execution_count": 47,
   "metadata": {},
   "outputs": [],
   "source": [
    "# Calculate player velocities\n",
    "tracking_home = mvel.calc_player_velocities(tracking_home,smoothing=True,filter_='moving_average')\n",
    "tracking_away = mvel.calc_player_velocities(tracking_away,smoothing=True,filter_='moving_average')"
   ]
  },
  {
   "cell_type": "code",
   "execution_count": 48,
   "metadata": {},
   "outputs": [
    {
     "ename": "SyntaxError",
     "evalue": "invalid syntax (<ipython-input-48-21fedf19ef2a>, line 5)",
     "output_type": "error",
     "traceback": [
      "\u001b[0;36m  File \u001b[0;32m\"<ipython-input-48-21fedf19ef2a>\"\u001b[0;36m, line \u001b[0;32m5\u001b[0m\n\u001b[0;31m    team_players = np.unique([c.split('_')[1] for c in the data.columns if c[:4] == name])\u001b[0m\n\u001b[0m                                                              ^\u001b[0m\n\u001b[0;31mSyntaxError\u001b[0m\u001b[0;31m:\u001b[0m invalid syntax\n"
     ]
    }
   ],
   "source": [
    "# Look through home and away teams seperately\n",
    "teams ['Home', 'Away']\n",
    "data = [tracking_home, tracking_away]\n",
    "for name,data in zip(teams, data):\n",
    "    team_players = np.unique([c.split('_')[1] for c in the data.columns if c[:4] == name])\n",
    "    team_summary = pd.DataFrame(index = team_players)\n",
    "    \n",
    "    # Calculate total distance covered for each player\n",
    "    distance = []\n",
    "    for player in team_summary.index:\n",
    "        column = name + '_' + player + '_speed'\n",
    "        player_distance = data[column].sum()/25./1000 # this is the sum of the distance travelled from one observation to another\n",
    "        distance.append(player_distance)\n",
    "        \n",
    "    team_summary['Distance [km]'] = distance\n",
    "    team_summary = team_summary.sort_values(['Distance [km]'], ascending = False)\n",
    "    \n",
    "    print(\"****** \" + name + \" team summary ******\")\n",
    "    print(team_summary)\n",
    "    # make a simple bar chart of distance covered for each player\n",
    "    fig,ax = plt.subplots()\n",
    "    ax = team_summary['Distance [km]'].plot.bar(rot=0)\n",
    "    ax.set_xlabel['Player']\n",
    "    ax.set_ylabel['Distance covered [km]']\n",
    "    fig.suptitle(name + ' Team', y = 0.95)"
   ]
  },
  {
   "cell_type": "markdown",
   "metadata": {},
   "source": [
    "<a id='section4'></a>"
   ]
  },
  {
   "cell_type": "markdown",
   "metadata": {},
   "source": [
    "## 4. Delving deeper into the tracking data with python: measuring the physical performance of players"
   ]
  },
  {
   "cell_type": "markdown",
   "metadata": {},
   "source": [
    "<a id='section4.1'></a>"
   ]
  },
  {
   "cell_type": "markdown",
   "metadata": {},
   "source": [
    "### 4.1. Introduction\n",
    "The content from this section is based on the code from [Laurie Shaw](https://twitter.com/EightyFivePoint)'s [Delving deeper into the tracking data with python: measuring the physical performance of players](https://www.youtube.com/watch?v=VX3T-4lB2o0E) video from [David Sumpter](https://twitter.com/Soccermatics)'s [Friends of Tracking](https://www.youtube.com/channel/UCUBFJYcag8j2rm_9HkrrA7w/) YouTube channel.\n",
    "\n",
    "In this section, we'll be working with the Metric event and tracking data, and how to use this tracking data to add further context to football analytics. This video covers: making movies from the data, measuring player velocities, and creating physical summary reports for players.\n",
    "\n",
    "Delving deeper into tracking data:\n",
    "1.    Making movies \n",
    "2.    Measuring player speed\n",
    "3.    Generating physical performance reports\n",
    "\n",
    "In this section, we'll be measuring the physical performance of players by analysing the following:\n",
    "*    Player velocities\n",
    "*    Creating bespoke phyiscal summary report"
   ]
  },
  {
   "cell_type": "code",
   "execution_count": null,
   "metadata": {},
   "outputs": [],
   "source": [
    "# Delving deeper into the tracking data with python: measuring the physical performance of players\n",
    "YouTubeVideo('VX3T-4lB2o0', width=800, height=470)"
   ]
  },
  {
   "cell_type": "markdown",
   "metadata": {},
   "source": [
    "<a id='section4.2'></a>"
   ]
  },
  {
   "cell_type": "markdown",
   "metadata": {},
   "source": [
    "### 4.2. Video 2 Code"
   ]
  },
  {
   "cell_type": "markdown",
   "metadata": {},
   "source": [
    "<a id='section4.2.1'></a>"
   ]
  },
  {
   "cell_type": "markdown",
   "metadata": {},
   "source": [
    "#### 4.2.1. Making Movies"
   ]
  },
  {
   "cell_type": "code",
   "execution_count": null,
   "metadata": {},
   "outputs": [],
   "source": [
    "# Set up initial path to data\n",
    "DATADIR = './data/metrica'\n",
    "game_id = 2     # sample match 2"
   ]
  },
  {
   "cell_type": "code",
   "execution_count": null,
   "metadata": {},
   "outputs": [],
   "source": [
    "# Read in the event data - uses Metrica_IO library\n",
    "events = mio.read_event_data(DATADIR, game_id)    # reads in data into the DataFrame and returns events"
   ]
  },
  {
   "cell_type": "code",
   "execution_count": null,
   "metadata": {},
   "outputs": [],
   "source": [
    "# Reading in tracking data\n",
    "tracking_home = mio.tracking_data(DATADIR, game_id, 'Home')\n",
    "tracking_away = mio.tracking_data(DATADIR, game_id, 'Away')"
   ]
  },
  {
   "cell_type": "code",
   "execution_count": null,
   "metadata": {},
   "outputs": [],
   "source": [
    "# Convert positions from metric units to meters\n",
    "tracking_home = mio.to_metric_coordinates(tracking_home)\n",
    "tracking_away = mio.to_metric_coordinates(tracking_away)\n",
    "events = mio.to_metric_coordinates(events)"
   ]
  },
  {
   "cell_type": "code",
   "execution_count": null,
   "metadata": {},
   "outputs": [],
   "source": [
    "# Reverse direction of a player so that home team is alway attacking right->left\n",
    "tracking_home, tracking_away, events = mio.to_single_playing_direction(tracking_home, tracking_away, events)"
   ]
  },
  {
   "cell_type": "code",
   "execution_count": null,
   "metadata": {},
   "outputs": [],
   "source": [
    "# Making a movie\n",
    "PLOTDIR = './video/'\n",
    "mviz.save_match_clip(tracking_home.iloc[73600:73600+500], tracking_away.iloc[73600:73600+500], PLOTDIR, fname = 'home_goal_2', include_player_velocities = False)"
   ]
  },
  {
   "cell_type": "code",
   "execution_count": null,
   "metadata": {},
   "outputs": [],
   "source": [
    "# Embed home goal 2 video into the notebook\n",
    "Video(PLOTDIR + \"home_goal_2.mp4\", width=770, height=530)"
   ]
  },
  {
   "cell_type": "markdown",
   "metadata": {},
   "source": [
    "<a id='section4.2.2'></a>"
   ]
  },
  {
   "cell_type": "markdown",
   "metadata": {},
   "source": [
    "#### 4.2.2. Measuring player speed"
   ]
  },
  {
   "cell_type": "code",
   "execution_count": null,
   "metadata": {},
   "outputs": [],
   "source": [
    "# Calculate player velocities\n",
    "tracking_home = mvel.calc_player_velocities(tracking_home,smoothing=True,filter_='moving_average')\n",
    "tracking_away = mvel.calc_player_velocities(tracking_away,smoothing=True,filter_='moving_average')"
   ]
  },
  {
   "cell_type": "markdown",
   "metadata": {},
   "source": [
    "This can be explored in the `tracking_home` and `tracking_away` DataFrames using the variable explorer where we can see the additional columns for velocity have been added to the DataFrame. These columns are of the following, but for all the players:\n",
    "*    `Away_15_vx`\n",
    "*    `Away_15_vy`\n",
    "*    `Away_15_speed` i.e. total speed\n",
    "\n",
    "These new metricas are all measured in meters per second."
   ]
  },
  {
   "cell_type": "code",
   "execution_count": null,
   "metadata": {},
   "outputs": [],
   "source": [
    "mviz.plot_frame(tracking_home.loc[10000], tracking_away.loc[10000], include_player_velocities = True, annotate = True)"
   ]
  },
  {
   "cell_type": "markdown",
   "metadata": {},
   "source": [
    "<a id='section4.2.3'></a>"
   ]
  },
  {
   "cell_type": "markdown",
   "metadata": {},
   "source": [
    "#### 4.2.3. Generating physical performance reports"
   ]
  },
  {
   "cell_type": "markdown",
   "metadata": {},
   "source": [
    "##### Minutes Played"
   ]
  },
  {
   "cell_type": "code",
   "execution_count": null,
   "metadata": {},
   "outputs": [],
   "source": [
    "# Physical summary for home players\n",
    "home_players = np.unique([ c.split('_')[1] for c in tracking_home.columns if c[:4] == 'Home'])\n",
    "home_summary = pd.DataFrame(index=home_players)"
   ]
  },
  {
   "cell_type": "code",
   "execution_count": null,
   "metadata": {},
   "outputs": [],
   "source": [
    "# Calculate minutes played for each player\n",
    "minutes = []\n",
    "for player in home_players:\n",
    "    # search for first and last frames that we have a position observation for each player (when a player is not on the pitch positions are NaN)\n",
    "    column = 'Home_' + player + '_x' # use player x-position coordinate\n",
    "    player_minutes = (tracking_home[column].last_valid_index() - tracking_home[column].first_valid_index() + 1 ) / 25 / 60 # convert to minutes\n",
    "    minutes.append(player_minutes)\n",
    "home_summary['Minutes Played'] = minutes\n",
    "home_summary = home_summary.sort_values(['Minutes Played'], ascending=False)"
   ]
  },
  {
   "cell_type": "markdown",
   "metadata": {},
   "source": [
    "##### Distance Covered"
   ]
  },
  {
   "cell_type": "code",
   "execution_count": null,
   "metadata": {},
   "outputs": [],
   "source": [
    "# Calculate total distance covered for each player\n",
    "distance = []\n",
    "for player in home_summary.index:\n",
    "    column = 'Home_' + player + '_speed'\n",
    "    player_distance = tracking_home[column].sum()/25./1000    # speed time time. Convert to km\n",
    "    distance.append(player_distance)\n",
    "home_summary['Distance [km]'] = distance"
   ]
  },
  {
   "cell_type": "code",
   "execution_count": null,
   "metadata": {},
   "outputs": [],
   "source": [
    "# Make a simple bar chart of distance covered for each player\n",
    "plt.subplots()\n",
    "ax = home_summary['Distance [km]'].plot.bar(rot=0)\n",
    "ax.set_xlabel('Player')\n",
    "ax.set_ylabel('Distance covered [km]')"
   ]
  },
  {
   "cell_type": "markdown",
   "metadata": {},
   "source": [
    "Here we can visually see the total distances that the players ran. For example , we can see that player 11 ran about 5km and is most likely the goalkeeper. We can check this by plotting the position of the players at KO to find out exactly what position each player is playing."
   ]
  },
  {
   "cell_type": "code",
   "execution_count": null,
   "metadata": {},
   "outputs": [],
   "source": [
    "# Plot position at KO (to find out what position each player is playing)\n",
    "mviz.plot_frame(tracking_home.loc[51], tracking_away.loc[51], include_player_velocities = False, annotate = True)"
   ]
  },
  {
   "cell_type": "markdown",
   "metadata": {},
   "source": [
    "##### Distance covered: walking, jogging, running, sprinting"
   ]
  },
  {
   "cell_type": "code",
   "execution_count": null,
   "metadata": {},
   "outputs": [],
   "source": [
    "walking = []\n",
    "jogging = []\n",
    "running = []\n",
    "sprinting = []\n",
    "for player in home_summary.index:\n",
    "    column = 'Home_' + player + '_speed'\n",
    "    # walking (less than 2m/s)\n",
    "    player_distance = tracking_home.loc[tracking_home[column] <2, column].sum()/25./1000\n",
    "    walking.append(player_distance)\n",
    "    # jogging (between 2 and 4 m/s)\n",
    "    player_distance = tracking_home.loc[(tracking_home[column] >= 2) & (tracking_home[column] < 4), column].sum()/25./1000\n",
    "    jogging.append(player_distance)\n",
    "    # running (between 4 and 7 m/s)\n",
    "    player_distance = tracking_home.loc[(tracking_home[column] >= 4) & (tracking_home[column] < 7), column].sum()/25./1000\n",
    "    running.append(player_distance)\n",
    "    # sprinting (greater than 7 m/s)\n",
    "    player_distance = tracking_home.loc[tracking_home[column] >= 7, column].sum()/25./1000\n",
    "    sprinting.append(player_distance)\n",
    "    \n",
    "home_summary['Walking [km]'] = walking\n",
    "home_summary['Jogging [km]'] = jogging\n",
    "home_summary['Running [km]'] = running\n",
    "home_summary['Sprinting [km]'] = sprinting"
   ]
  },
  {
   "cell_type": "code",
   "execution_count": null,
   "metadata": {},
   "outputs": [],
   "source": [
    "# Make a clustered bar chart of distance covered for each player at each speed\n",
    "ax = home_summary[['Walking [km]', 'Jogging [km]', 'Running [km]', 'Sprinting [km]']].plot.bar(colormap='coolwarm')\n",
    "ax.set_xlabel('Player')\n",
    "ax.set_ylabel('Distance covered [m]')"
   ]
  },
  {
   "cell_type": "markdown",
   "metadata": {},
   "source": [
    "##### Sustained sprints: how many sustained sprints per match"
   ]
  },
  {
   "cell_type": "code",
   "execution_count": null,
   "metadata": {},
   "outputs": [],
   "source": [
    "# sustained sprints: how many sustained sprints per match did each player complete? Defined as maintaining a speed > 7 m/s for at least 1 second\n",
    "nsprints = []\n",
    "sprint_threshold = 7 # minimum speed to be defined as a sprint {m/s}\n",
    "sprint_window = 1 * 25\n",
    "for player in home_summary.index:\n",
    "    column = 'Home_' + player + '_speed'\n",
    "    # trick here is to convolve speed with a window of size 'sprint_window', and find number of occassions that sprint was sustained for at least one window length\n",
    "    # diff helps us to identify when the window starts\n",
    "    player_sprints = np.diff(1 * (np.convolve(1 * (tracking_home[column] >= sprint_threshold), np.ones(sprint_window), mode='same') >= sprint_window))\n",
    "    nsprints.append(np.sum(player_sprints == 1 ))\n",
    "home_summary['# sprints'] = nsprints"
   ]
  },
  {
   "cell_type": "code",
   "execution_count": null,
   "metadata": {},
   "outputs": [],
   "source": [
    "# Plot the trajectories for each of player 10's sprints\n",
    "player = '10'\n",
    "column = 'Home_' + player + '_speed' # spped\n",
    "column_x = 'Home_' + player + '_x' # x position\n",
    "column_y = 'Home_' + player + '_y' # y position\n",
    "# same trick as before to find start and end indices of windows of size 'sprint_window' in which player speed was above the sprint_threshold\n",
    "player_sprints = np.diff(1 * (np.convolve(1 * (tracking_home[column] >= sprint_threshold), np.ones(sprint_window), mode='same') >= sprint_window))\n",
    "player_sprints_start = np.where(player_sprints == 1)[0] - int(sprint_window/2) + 1 # adding sprint_window/2 because of the way that the convolution is centred\n",
    "player_sprints_end = np.where(player_sprints == -1)[0] + int(sprint_window/2) + 1\n",
    "# now plot all the sprints\n",
    "fig,ax = mviz.plot_pitch()\n",
    "for s,e in zip(player_sprints_start,player_sprints_end):\n",
    "    ax.plot(tracking_home[column_x].iloc[s], tracking_home[column_y].iloc[s], 'ro')\n",
    "    ax.plot(tracking_home[column_x].iloc[s:e+1], tracking_home[column_y].iloc[s:e+1], 'r')"
   ]
  },
  {
   "cell_type": "markdown",
   "metadata": {},
   "source": [
    "Notes from observing the tracking data of sprints for player 10:\n",
    "*    The sprint to the by-line is an incident where the player is trying to keep the ball in play (ses Laurie's video in the last minute of video 2)."
   ]
  },
  {
   "cell_type": "markdown",
   "metadata": {},
   "source": [
    "<a id='section4.3'></a>"
   ]
  },
  {
   "cell_type": "markdown",
   "metadata": {},
   "source": [
    "### 4.3 Homework\n",
    "1.    Estimate the *top speed* of each player\n",
    "2.    Measure player acceleration from the tracking data and estimate the maximum rate of acceleration for each player."
   ]
  },
  {
   "cell_type": "markdown",
   "metadata": {},
   "source": [
    "<a id='section4.3.1'></a>"
   ]
  },
  {
   "cell_type": "markdown",
   "metadata": {},
   "source": [
    "#### 4.3.1. Estimate the *top speed* of each player"
   ]
  },
  {
   "cell_type": "code",
   "execution_count": null,
   "metadata": {},
   "outputs": [],
   "source": []
  },
  {
   "cell_type": "code",
   "execution_count": null,
   "metadata": {},
   "outputs": [],
   "source": []
  },
  {
   "cell_type": "code",
   "execution_count": null,
   "metadata": {},
   "outputs": [],
   "source": []
  },
  {
   "cell_type": "markdown",
   "metadata": {},
   "source": [
    "<a id='section4.3.2'></a>"
   ]
  },
  {
   "cell_type": "markdown",
   "metadata": {},
   "source": [
    "#### 4.3.2. Measure player acceleration from the tracking data and estimate the maximum rate of acceleration for each player"
   ]
  },
  {
   "cell_type": "code",
   "execution_count": null,
   "metadata": {},
   "outputs": [],
   "source": []
  },
  {
   "cell_type": "code",
   "execution_count": null,
   "metadata": {},
   "outputs": [],
   "source": []
  },
  {
   "cell_type": "code",
   "execution_count": null,
   "metadata": {},
   "outputs": [],
   "source": []
  },
  {
   "cell_type": "markdown",
   "metadata": {},
   "source": [
    "<a id='section5'></a>"
   ]
  },
  {
   "cell_type": "markdown",
   "metadata": {},
   "source": [
    "## 5. Advanced football analytics: building and applying a pitch control model in python"
   ]
  },
  {
   "cell_type": "markdown",
   "metadata": {},
   "source": [
    "<a id='section5.1'></a>"
   ]
  },
  {
   "cell_type": "markdown",
   "metadata": {},
   "source": [
    "### 5.1. Introduction\n",
    "The content from this section is based on the code from [Laurie Shaw](https://twitter.com/EightyFivePoint)'s [Delving deeper into the tracking data with python: measuring the physical performance of players](https://www.youtube.com/watch?v=VX3T-4lB2o0E) video from [David Sumpter](https://twitter.com/Soccermatics)'s [Friends of Tracking](https://www.youtube.com/channel/UCUBFJYcag8j2rm_9HkrrA7w/) YouTube channel.\n",
    "\n",
    "In this section, we'll be working with the Metric event and tracking data, and how to use this tracking data to build your own pitch control module in python and demonstrates how it can be used to evaluate a player's passing options using tracking and event data.\n",
    "\n",
    "Definition:\n",
    "*Pitch control at a given location is the probability that a player (or team) will gain control of the ball if it moves directly to that location.*\n",
    "\n",
    "Pitch control measures the probability that a team will retain possession of the ball if they pass it to another location on the field. It can be used to evaluate passing options for a player, and quantify the probability of success.\n",
    "\n",
    "The method described here is based on work by [William Spearman](https://twitter.com/the_spearman), as described in his Friend of Tracking video tutorial: https://www.youtube.com/watch?v=X9PrwPyolyU\n",
    "\n",
    "Also see his paper \"Beyond Expected Goals\" published at the 2018 MIT Sloan Sports Analytics Conference: http://www.sloansportsconference.com/wp-content/uploads/2018/02/2002.pdf\n",
    "\n",
    "Delving deeper into tracking data:\n",
    "1.    \n",
    "2.    \n",
    "3.    "
   ]
  },
  {
   "cell_type": "code",
   "execution_count": null,
   "metadata": {},
   "outputs": [],
   "source": [
    "# Advanced football analytics: building and applying a pitch control model in python\n",
    "YouTubeVideo('5X1cSehLg6s', width=800, height=470)"
   ]
  },
  {
   "cell_type": "code",
   "execution_count": null,
   "metadata": {},
   "outputs": [],
   "source": [
    "# Liverpool FC data scientist William Spearman's masterclass in pitch control\n",
    "YouTubeVideo('X9PrwPyolyU', width=800, height=470)"
   ]
  },
  {
   "cell_type": "markdown",
   "metadata": {},
   "source": [
    "Pitch control is the probability that a player could control the ball assuming it is at that location.\n",
    "\n",
    "William Spearman explains:\n",
    "- The principles behind pitch control models. \n",
    "- How they can be used to investigate player positioning.\n",
    "- How to extend them to account for ball motion.\n",
    "- How to combine pitch control models with measures of danger.\n",
    "- Defining 'off-ball scoring opportunity'\n",
    "- Extensions to pitch control.\n",
    "\n",
    "Further reading...\n",
    "*    Link to pitch control demo: https://www.hudl.com/blog/open-space-and-passing-in-football\n",
    "*    Quantifying Pitch Control: https://www.researchgate.net/publication/334849056_Quantifying_Pitch_Control\n",
    "*    Physics-Based Modeling of Pass Probabilities in Soccer: https://www.researchgate.net/publication/315166647_Physics-Based_Modeling_of_Pass_Probabilities_in_Soccer\n",
    "*    Wide Open Spaces: A statistical technique for measuring space creation in professional soccer: https://www.researchgate.net/publication/324942294_Wide_Open_Spaces_A_statistical_technique_for_measuring_space_creation_in_professional_soccer\n",
    "*    Beyond Expected Goals: https://www.researchgate.net/publication/327139841_Beyond_Expected_Goals\n",
    "*    Probabilistic movement models and zones of control: https://www.researchgate.net/publication/326076300_Probabilistic_movement_models_and_zones_of_control\n",
    "*    Decomposing the Immeasurable Sport: A deep learning expected possession value framework for soccer: http://www.sloansportsconference.com/wp-content/uploads/2019/02/Decomposing-the-Immeasurable-Sport.pdf\n",
    "*    Seeing in to the future: using self-propelled particle models to aid player decision-making in soccer: http://www.sloansportsconference.com/wp-content/uploads/2020/02/SLOAN-Peralta-Final-submission.pdf\n",
    "*    The right place at the right time: Advanced off-ball metrics for exploiting an opponent’s spatial weaknesses in soccer: http://www.sloansportsconference.com/wp-content/uploads/2020/02/Llana_The-right-place-at-the-right-time.pdf"
   ]
  },
  {
   "cell_type": "markdown",
   "metadata": {},
   "source": [
    "<a id='section5.2'></a>"
   ]
  },
  {
   "cell_type": "markdown",
   "metadata": {},
   "source": [
    "### 5.2. Video 3 Background Information"
   ]
  },
  {
   "cell_type": "markdown",
   "metadata": {},
   "source": [
    "![title](img/vid3_img1.png)"
   ]
  },
  {
   "cell_type": "markdown",
   "metadata": {},
   "source": [
    "![title](img/vid3_img2.png)"
   ]
  },
  {
   "cell_type": "markdown",
   "metadata": {},
   "source": [
    "#### Building a pitch control model\n",
    "\n",
    "For a given location on a pitch:\n",
    "1.    How long would it take for the ball to arrive?\n",
    "2.    How long would it take for each player to arrive?\n",
    "3.    What is the total *probability* that each team will control the ball after it has arrived?\n",
    "\n",
    "Repeat calculations for all locations on the pitch."
   ]
  },
  {
   "cell_type": "markdown",
   "metadata": {},
   "source": [
    "![title](img/vid3_img3.png)"
   ]
  },
  {
   "cell_type": "markdown",
   "metadata": {},
   "source": [
    "#### Player time to arrival\n",
    "Given their *initial position* and *velocity* how fast can a player get to any other position on the pitch?\n",
    "\n",
    "Key assumptions:\n",
    "*    Players have a maximum speed: 5 m/s\n",
    "*    Players have a maximum acceleration: 7 m/s/s\n",
    "*    Players take the fastest possible path\n",
    "\n",
    "Not an easy problem to solve efficiently!"
   ]
  },
  {
   "cell_type": "markdown",
   "metadata": {},
   "source": [
    "![title](img/vid3_img4.png)"
   ]
  },
  {
   "cell_type": "markdown",
   "metadata": {},
   "source": [
    "#### Simple approximation for arrival time\n",
    "\n",
    "Two step process:\n",
    "*    There is an initial 'reaction time' of 0.7 seconds. During this time each player continues along their current trajectory.\n",
    "*    After 0.7 seconds, the player runs directly towards the target location at their maximum speed of 5 m/s."
   ]
  },
  {
   "cell_type": "markdown",
   "metadata": {},
   "source": [
    "![title](img/vid3_img5.png)"
   ]
  },
  {
   "cell_type": "markdown",
   "metadata": {},
   "source": [
    "#### The \"Control Force\"\n",
    "i.e. the time it takes for the ball to be controlled\n",
    "\n",
    "Let us consider that a controlled touch is a stochastic process with a fixed rate.\n",
    "\n",
    "For each time-interval, *Δt* that a player is in the vicinity of the ball, she/he has a probability of *λ ⋅ Δt* to make a controlled touch on the ball."
   ]
  },
  {
   "cell_type": "markdown",
   "metadata": {},
   "source": [
    "![title](img/vid3_img6.png)"
   ]
  },
  {
   "cell_type": "markdown",
   "metadata": {},
   "source": [
    "#### Ball control: exact arrival times"
   ]
  },
  {
   "cell_type": "markdown",
   "metadata": {},
   "source": [
    "![title](img/vid3_img7.png)"
   ]
  },
  {
   "cell_type": "markdown",
   "metadata": {},
   "source": [
    "![title](img/vid3_img2.png)"
   ]
  },
  {
   "cell_type": "markdown",
   "metadata": {},
   "source": [
    "![title](img/vid3_img8.png)"
   ]
  },
  {
   "cell_type": "markdown",
   "metadata": {},
   "source": [
    "<a id='section5.3'></a>"
   ]
  },
  {
   "cell_type": "markdown",
   "metadata": {},
   "source": [
    "### 5.3. Video 3 Code"
   ]
  },
  {
   "cell_type": "code",
   "execution_count": null,
   "metadata": {},
   "outputs": [],
   "source": [
    "# Set up initial path to data\n",
    "DATADIR = './data/metrica'\n",
    "game_id = 2     # sample match 2"
   ]
  },
  {
   "cell_type": "code",
   "execution_count": null,
   "metadata": {},
   "outputs": [],
   "source": [
    "# Read in the event data - uses Metrica_IO library\n",
    "events = mio.read_event_data(DATADIR, game_id)    # reads in data into the DataFrame and returns events"
   ]
  },
  {
   "cell_type": "code",
   "execution_count": null,
   "metadata": {},
   "outputs": [],
   "source": [
    "# Reading in tracking data\n",
    "tracking_home = mio.tracking_data(DATADIR, game_id, 'Home')\n",
    "tracking_away = mio.tracking_data(DATADIR, game_id, 'Away')"
   ]
  },
  {
   "cell_type": "code",
   "execution_count": null,
   "metadata": {},
   "outputs": [],
   "source": [
    "# Convert positions from metric units to meters\n",
    "tracking_home = mio.to_metric_coordinates(tracking_home)\n",
    "tracking_away = mio.to_metric_coordinates(tracking_away)\n",
    "events = mio.to_metric_coordinates(events)"
   ]
  },
  {
   "cell_type": "code",
   "execution_count": null,
   "metadata": {},
   "outputs": [],
   "source": [
    "# Reverse direction of a player so that home team is alway attacking right->left\n",
    "tracking_home, tracking_away, events = mio.to_single_playing_direction(tracking_home, tracking_away, events)"
   ]
  },
  {
   "cell_type": "code",
   "execution_count": null,
   "metadata": {},
   "outputs": [],
   "source": [
    "# Calculate player velocities\n",
    "tracking_home = mvel.calc_player_velocities(tracking_home,smoothing=True,filter_='moving_average')\n",
    "tracking_away = mvel.calc_player_velocities(tracking_away,smoothing=True,filter_='moving_average')"
   ]
  },
  {
   "cell_type": "code",
   "execution_count": null,
   "metadata": {},
   "outputs": [],
   "source": [
    "# Let's take a look at the passes leading up to the second goal\n",
    "shots = events[events['Type'] == 'SHOT']\n",
    "goals = shots[shots['Subtype'].str.contains('-GOAL')].copy()"
   ]
  },
  {
   "cell_type": "code",
   "execution_count": null,
   "metadata": {},
   "outputs": [],
   "source": [
    "# Plot the 3 events leading up to the second goal\n",
    "mviz.plot_events(events.loc[820:823], color='k', indicators = ['Marker','Arrow'], annotate=True)"
   ]
  },
  {
   "cell_type": "markdown",
   "metadata": {},
   "source": [
    "#### Pitch control for passes leading up to goal 2"
   ]
  },
  {
   "cell_type": "code",
   "execution_count": null,
   "metadata": {},
   "outputs": [],
   "source": [
    "events"
   ]
  },
  {
   "cell_type": "code",
   "execution_count": null,
   "metadata": {},
   "outputs": [],
   "source": [
    "# First get model parameters\n",
    "params = mpc.default_model_params(3)"
   ]
  },
  {
   "cell_type": "code",
   "execution_count": null,
   "metadata": {},
   "outputs": [],
   "source": [
    "# Evaluated pitch control surface for first pass\n",
    "PPCF, xgrid, ygrid = mpc.generate_pitch_control_for_event(820, events, tracking_home, tracking_away, params, field_dimen = (106., 68.,), n_grid_cells_x = 50)\n",
    "mviz.plot_pitchcontrol_for_event(820, events, tracking_home, tracking_away, PPCF, xgrid, ygrid, annotate = True)"
   ]
  },
  {
   "cell_type": "code",
   "execution_count": null,
   "metadata": {},
   "outputs": [],
   "source": [
    "# Evaluated pitch control surface for second\n",
    "PPCF, xgrid, ygrid = mpc.generate_pitch_control_for_event(821,events, tracking_home, tracking_away, params, field_dimen = (106., 68.,), n_grid_cells_x = 50)\n",
    "mviz.plot_pitchcontrol_for_event(821, events, tracking_home, tracking_away, PPCF, xgrid, ygrid, annotate = True)"
   ]
  },
  {
   "cell_type": "code",
   "execution_count": null,
   "metadata": {},
   "outputs": [],
   "source": [
    "# Evaluated pitch control surface for third pass\n",
    "PPCF, xgrid, ygrid = mpc.generate_pitch_control_for_event(822, events, tracking_home, tracking_away, params, field_dimen = (106., 68.,), n_grid_cells_x = 50)\n",
    "mviz.plot_pitchcontrol_for_event(822, events, tracking_home, tracking_away, PPCF, xgrid, ygrid, annotate = True)"
   ]
  },
  {
   "cell_type": "code",
   "execution_count": null,
   "metadata": {},
   "outputs": [],
   "source": [
    "# Calculate pass probability for every home team successful pass\n",
    "home_passes = events[(events['Type'].isin(['PASS'])) & (events['Team'] == 'Home')]"
   ]
  },
  {
   "cell_type": "code",
   "execution_count": null,
   "metadata": {},
   "outputs": [],
   "source": [
    "home_passes.shape"
   ]
  },
  {
   "cell_type": "markdown",
   "metadata": {},
   "source": [
    "There are 543 successful home passes in total."
   ]
  },
  {
   "cell_type": "code",
   "execution_count": null,
   "metadata": {},
   "outputs": [],
   "source": [
    "# List for storing pass probabilities\n",
    "pass_success_probability = []\n",
    "\n",
    "# Loop through all these successful passes and calculate probability of success for each one\n",
    "for i, row in home_passes.iterrows():\n",
    "    pass_start_pos = np.array([row['Start X'], row['Start Y']])\n",
    "    pass_target_pos = np.array([row['End X'], row['End Y']])\n",
    "    pass_frame = row['Start Frame']\n",
    "    \n",
    "    attacking_players = mpc.initialise_players(tracking_home.loc[pass_frame], 'Home', params)\n",
    "    defending_players = mpc.initialise_players(tracking_away.loc[pass_frame], 'Away', params)\n",
    "    Patt, Pdef = mpc.calculate_pitch_control_at_target(pass_target_pos, attacking_players, defending_players, pass_start_pos, params)    # this line is different in the video\n",
    "    \n",
    "    pass_success_probability.append((i, Patt))"
   ]
  },
  {
   "cell_type": "code",
   "execution_count": null,
   "metadata": {},
   "outputs": [],
   "source": [
    "# Histogram of success probability of all the passes\n",
    "fig,ax = plt.subplots()\n",
    "ax.hist( [p[1] for p in pass_success_probability], np.arange(0,1.1,0.1))    \n",
    "ax.set_xlabel('Pass success probability')\n",
    "ax.set_ylabel('Frequency')  "
   ]
  },
  {
   "cell_type": "markdown",
   "metadata": {},
   "source": [
    "We can see that the vast majority of the passes attempted by the home team were more than 90% likely to be successful. Presumably, a lot of these passes were made between defenders when there was little/no pressure on the ball.\n",
    "\n",
    "We can also see that there were about 20-30 passes that had less than a 50% success probability.\n",
    "\n",
    "Let's take a look a closer look at these risky passes."
   ]
  },
  {
   "cell_type": "code",
   "execution_count": null,
   "metadata": {},
   "outputs": [],
   "source": [
    "# Sort the passes by pitch control probability\n",
    "pass_success_probability = sorted(pass_success_probability, key = lambda x: x[1])"
   ]
  },
  {
   "cell_type": "code",
   "execution_count": null,
   "metadata": {},
   "outputs": [],
   "source": [
    "# Identify the events corresponding to the most risky passes (pitch control < 0.5)\n",
    "risky_passes = events.loc[[p[0] for p in pass_success_probability if p[1] < 0.5]]"
   ]
  },
  {
   "cell_type": "code",
   "execution_count": null,
   "metadata": {},
   "outputs": [],
   "source": [
    "# Plot the events of the risky passes \n",
    "mviz.plot_events(risky_passes, color = 'k', indicators = ['Marker', 'Arrow'], annotate = True)"
   ]
  },
  {
   "cell_type": "markdown",
   "metadata": {},
   "source": [
    "We can see from the visualisation that ..."
   ]
  },
  {
   "cell_type": "code",
   "execution_count": null,
   "metadata": {},
   "outputs": [],
   "source": [
    "# Print events that followed those risky passes\n",
    "print(\"Event following a risky (completed) pass\")\n",
    "for p in pass_success_probability[:20]:\n",
    "    outcome = events.loc[p[0] + 1].Type\n",
    "    print( p[1], outcome)"
   ]
  },
  {
   "cell_type": "code",
   "execution_count": null,
   "metadata": {},
   "outputs": [],
   "source": [
    "# This code isn't working and seems to be removed from Laurie's code\n",
    "\n",
    "# Add risky pass\n",
    "# mviz.plot_pitchcontrol_for_event(1405, events, tracking_home, tracking_away, annotate = True)"
   ]
  },
  {
   "cell_type": "markdown",
   "metadata": {},
   "source": [
    "<a id='section5.4'></a>"
   ]
  },
  {
   "cell_type": "markdown",
   "metadata": {},
   "source": [
    "### 5.4 Homework\n",
    "1.    How might you use the pitch control model to calculate how much space was created (or territory captured) by an off the ball run?\n",
    "\n",
    "Hint: cosinder what the pitch control surface might have looked like if the player had *not* made a run."
   ]
  },
  {
   "cell_type": "markdown",
   "metadata": {},
   "source": [
    "#### 5.4.1 How might you use the pitch control model to calculate how much space was created (or territory captured) by an off the ball run?"
   ]
  },
  {
   "cell_type": "code",
   "execution_count": null,
   "metadata": {},
   "outputs": [],
   "source": []
  },
  {
   "cell_type": "code",
   "execution_count": null,
   "metadata": {},
   "outputs": [],
   "source": []
  },
  {
   "cell_type": "code",
   "execution_count": null,
   "metadata": {},
   "outputs": [],
   "source": []
  },
  {
   "cell_type": "markdown",
   "metadata": {},
   "source": [
    "## Old code"
   ]
  },
  {
   "cell_type": "code",
   "execution_count": null,
   "metadata": {},
   "outputs": [],
   "source": [
    "# Get events by team\n",
    "home_events = events[events['Team']=='Home']\n",
    "away_events = events[events['Team']=='Away']"
   ]
  },
  {
   "cell_type": "code",
   "execution_count": null,
   "metadata": {},
   "outputs": [],
   "source": [
    "# Frequency of each event type by team\n",
    "home_events['Type'].value_counts()"
   ]
  },
  {
   "cell_type": "code",
   "execution_count": null,
   "metadata": {},
   "outputs": [],
   "source": [
    "away_events['Type'].value_counts()"
   ]
  },
  {
   "cell_type": "code",
   "execution_count": null,
   "metadata": {},
   "outputs": [],
   "source": [
    "# Get all shots\n",
    "shots = events[events['Type']=='SHOT']\n",
    "home_shots = home_events[home_events.Type=='SHOT']\n",
    "away_shots = away_events[away_events.Type=='SHOT']"
   ]
  },
  {
   "cell_type": "code",
   "execution_count": null,
   "metadata": {},
   "outputs": [],
   "source": [
    "# Look at frequency of each shot Subtype\n",
    "home_shots['Subtype'].value_counts()"
   ]
  },
  {
   "cell_type": "code",
   "execution_count": null,
   "metadata": {},
   "outputs": [],
   "source": [
    "away_shots['Subtype'].value_counts()"
   ]
  },
  {
   "cell_type": "code",
   "execution_count": null,
   "metadata": {},
   "outputs": [],
   "source": [
    "# Look at the number of shots taken by each home player\n",
    "print( home_shots['From'].value_counts() )"
   ]
  },
  {
   "cell_type": "code",
   "execution_count": null,
   "metadata": {},
   "outputs": [],
   "source": [
    "# Get the shots that led to a goal\n",
    "home_goals = home_shots[home_shots['Subtype'].str.contains('-GOAL')].copy()\n",
    "away_goals = away_shots[away_shots['Subtype'].str.contains('-GOAL')].copy()"
   ]
  },
  {
   "cell_type": "code",
   "execution_count": null,
   "metadata": {
    "scrolled": true
   },
   "outputs": [],
   "source": [
    "print(home_goals)"
   ]
  },
  {
   "cell_type": "code",
   "execution_count": null,
   "metadata": {},
   "outputs": [],
   "source": [
    "print(away_goals)"
   ]
  },
  {
   "cell_type": "code",
   "execution_count": null,
   "metadata": {},
   "outputs": [],
   "source": [
    "# Add a column event 'Minute' to the data frame\n",
    "home_goals['Minute'] = home_goals['Start Time [s]']/60"
   ]
  },
  {
   "cell_type": "code",
   "execution_count": null,
   "metadata": {},
   "outputs": [],
   "source": [
    "# Plot the first goal\n",
    "fig,ax = mviz.plot_pitch()\n",
    "ax.plot( events.loc[198]['Start X'], events.loc[198]['Start Y'], 'ro' )\n",
    "ax.annotate(\"\", xy=events.loc[198][['End X','End Y']], xytext=events.loc[198][['Start X','Start Y']], alpha=0.6, arrowprops=dict(arrowstyle=\"->\",color='r'))"
   ]
  },
  {
   "cell_type": "code",
   "execution_count": null,
   "metadata": {},
   "outputs": [],
   "source": [
    "# plot passing move in run up to goal\n",
    "mviz.plot_events( events.loc[190:198], indicators = ['Marker','Arrow'], annotate=True )"
   ]
  },
  {
   "cell_type": "code",
   "execution_count": null,
   "metadata": {},
   "outputs": [],
   "source": [
    "#### TRACKING DATA ####\n",
    "\n",
    "# READING IN TRACKING DATA\n",
    "tracking_home = mio.tracking_data(DATADIR,game_id,'Home')\n",
    "tracking_away = mio.tracking_data(DATADIR,game_id,'Away')"
   ]
  },
  {
   "cell_type": "code",
   "execution_count": null,
   "metadata": {},
   "outputs": [],
   "source": [
    "# Look at the column namems\n",
    "print( tracking_home.columns )"
   ]
  },
  {
   "cell_type": "code",
   "execution_count": null,
   "metadata": {},
   "outputs": [],
   "source": [
    "# Convert positions from metrica units to meters \n",
    "tracking_home = mio.to_metric_coordinates(tracking_home)\n",
    "tracking_away = mio.to_metric_coordinates(tracking_away)"
   ]
  },
  {
   "cell_type": "code",
   "execution_count": null,
   "metadata": {},
   "outputs": [],
   "source": [
    "# Plot some player trajectories (players 11,1,2,3,4)\n",
    "fig,ax = mviz.plot_pitch()\n",
    "ax.plot( tracking_home['Home_11_x'].iloc[:1500], tracking_home['Home_11_y'].iloc[:1500], 'r.', MarkerSize=1)"
   ]
  },
  {
   "cell_type": "code",
   "execution_count": null,
   "metadata": {},
   "outputs": [],
   "source": [
    "fig,ax = mviz.plot_pitch()\n",
    "ax.plot( tracking_home['Home_1_x'].iloc[:1500], tracking_home['Home_1_y'].iloc[:1500], 'b.', MarkerSize=1)"
   ]
  },
  {
   "cell_type": "code",
   "execution_count": null,
   "metadata": {},
   "outputs": [],
   "source": [
    "fig,ax = mviz.plot_pitch()\n",
    "ax.plot( tracking_home['Home_11_x'].iloc[:1500], tracking_home['Home_11_y'].iloc[:1500], 'r.', MarkerSize=1)\n",
    "ax.plot( tracking_home['Home_1_x'].iloc[:1500], tracking_home['Home_1_y'].iloc[:1500], 'b.', MarkerSize=1)\n",
    "ax.plot( tracking_home['Home_2_x'].iloc[:1500], tracking_home['Home_2_y'].iloc[:1500], 'g.', MarkerSize=1)\n",
    "ax.plot( tracking_home['Home_3_x'].iloc[:1500], tracking_home['Home_3_y'].iloc[:1500], 'k.', MarkerSize=1)\n",
    "ax.plot( tracking_home['Home_4_x'].iloc[:1500], tracking_home['Home_4_y'].iloc[:1500], 'c.', MarkerSize=1)"
   ]
  },
  {
   "cell_type": "code",
   "execution_count": null,
   "metadata": {},
   "outputs": [],
   "source": [
    "# plot player positions at ,atckick-off\n",
    "KO_Frame = events.loc[0]['Start Frame']\n",
    "fig,ax = mviz.plot_frame( tracking_home.loc[KO_Frame], tracking_away.loc[KO_Frame] )"
   ]
  },
  {
   "cell_type": "code",
   "execution_count": null,
   "metadata": {},
   "outputs": [],
   "source": [
    "# Plot positions at goal\n",
    "fig,ax = mviz.plot_events( events.loc[198:198], indicators = ['Marker','Arrow'], annotate=True )\n",
    "goal_frame = events.loc[198]['Start Frame']\n",
    "fig,ax = mviz.plot_frame( tracking_home.loc[goal_frame], tracking_away.loc[goal_frame], figax = (fig,ax) )"
   ]
  },
  {
   "cell_type": "markdown",
   "metadata": {},
   "source": [
    "#### 5.1.2. Homework from Video"
   ]
  },
  {
   "cell_type": "markdown",
   "metadata": {},
   "source": [
    "1.    Plot the passes and shot leading up to the second and third goals in the match.\n",
    "2.    Plot all the shots by Player 9 of the home team. Use a different symbol and transparency (alpha) for shots that resulted in goals\n",
    "3.    Plot the positions of all players at Player 9's goal\n",
    "4.    Calculate how far each player ran\n",
    "\n",
    "Tweet answers to #FoT"
   ]
  },
  {
   "cell_type": "markdown",
   "metadata": {},
   "source": [
    "##### 1. Plot the passes and shot leading up to the second and third goals in the match."
   ]
  },
  {
   "cell_type": "code",
   "execution_count": null,
   "metadata": {},
   "outputs": [],
   "source": [
    "# Finding the start of Pass Sequence that lead up to goal.\n",
    "second_goal_shot = 823\n",
    "while(events.loc[second_goal_shot]['Type']=='PASS'):\n",
    "    second_goal_shot = second_goal_shoti - 1\n",
    "print(second_goal_shot)"
   ]
  },
  {
   "cell_type": "code",
   "execution_count": null,
   "metadata": {},
   "outputs": [],
   "source": [
    "\n",
    "# plot passing move in run up to goal\n",
    "mviz.plot_events( events.loc[second_goal_first_pass:second_goal_shot], indicators = ['Marker','Arrow'], annotate=True )"
   ]
  },
  {
   "cell_type": "code",
   "execution_count": null,
   "metadata": {},
   "outputs": [],
   "source": [
    "# Finding the start of Pass Sequence that lead up to goal.\n",
    "third_goal_shot = 1670\n",
    "while(events.loc[third_goal_shot]['Type'] == 'PASS'):\n",
    "    third_goal_shot = third_goal_shoti - 1\n",
    "print(second_goal_shot)"
   ]
  },
  {
   "cell_type": "code",
   "execution_count": null,
   "metadata": {},
   "outputs": [],
   "source": [
    "\n",
    "# plot passing move in run up to goal\n",
    "mviz.plot_events( events.loc[second_goal_first_pass:second_goal_shot], indicators = ['Marker','Arrow'], annotate=True )"
   ]
  },
  {
   "cell_type": "markdown",
   "metadata": {},
   "source": [
    "##### 2. Plot all the shots by Player 9 of the home team. Use a different symbol and transparency (alpha) for shots that resulted in goals"
   ]
  },
  {
   "cell_type": "code",
   "execution_count": null,
   "metadata": {},
   "outputs": [],
   "source": [
    "# View all the home team shows, home_shots\n",
    "home_shots"
   ]
  },
  {
   "cell_type": "code",
   "execution_count": null,
   "metadata": {},
   "outputs": [],
   "source": [
    "# View all shots by Player 9 of the home team\n",
    "home_player9_shots = home_shots[home_shots['From'] == 'Player9']\n",
    "home_player9_shots\n",
    "\n",
    "# Alternatively, if the home_shots df wasn't created, you could used the following code\n",
    "# events[(events['Type']=='SHOT') & (events['Team']=='Home') & (events['From']"
   ]
  },
  {
   "cell_type": "code",
   "execution_count": null,
   "metadata": {
    "scrolled": true
   },
   "outputs": [],
   "source": [
    "# Plot all Player 9's shots\n",
    "fig,ax = mviz.plot_pitch()\n",
    "for i in home_player9_shots.index:\n",
    "    if '-GOAL' in home_player9_shots.loc[i]['Subtype']:\n",
    "        ax.plot(events.loc[i]['Start X'], events.loc[i]['Start Y'], 'bs' )\n",
    "        ax.annotate(\"\", xy = events.loc[i][['End X','End Y']], xytext=events.loc[i][['Start X','Start Y']], alpha=1, arrowprops=dict(arrowstyle=\"->\",color='b'),zorder=2)\n",
    "    else:\n",
    "        ax.plot(events.loc[i]['Start X'], events.loc[i]['Start Y'], 'ro',alpha=0.5)\n",
    "        ax.annotate(\"\", xy = events.loc[i][['End X','End Y']], xytext=events.loc[i][['Start X','Start Y']], alpha=0.2, arrowprops=dict(arrowstyle=\"->\",color='r',alpha=0.5))"
   ]
  },
  {
   "cell_type": "markdown",
   "metadata": {},
   "source": [
    "The goal has a blue color with transparency 1. Moreover, it's denoted by a box."
   ]
  },
  {
   "cell_type": "markdown",
   "metadata": {},
   "source": [
    "##### 3. Plot the positions of all players at Player 9's goal"
   ]
  },
  {
   "cell_type": "code",
   "execution_count": null,
   "metadata": {},
   "outputs": [],
   "source": [
    "home_player9_shots"
   ]
  },
  {
   "cell_type": "code",
   "execution_count": null,
   "metadata": {},
   "outputs": [],
   "source": [
    "goal_index = 1118\n",
    "goal_frame = 73983"
   ]
  },
  {
   "cell_type": "markdown",
   "metadata": {},
   "source": [
    "Reading in the tracking data."
   ]
  },
  {
   "cell_type": "code",
   "execution_count": null,
   "metadata": {},
   "outputs": [],
   "source": [
    "tracking_home = mio.tracking_data(DATADIR, game_id, 'Home')\n",
    "tracking_away = mio.tracking_data(DATADIR, game_id, 'Away')"
   ]
  },
  {
   "cell_type": "code",
   "execution_count": null,
   "metadata": {},
   "outputs": [],
   "source": [
    "fig, ax = mviz.plot_frame(tracking_home.loc[goal_frame], tracking_away.loc[goal_frame])"
   ]
  },
  {
   "cell_type": "markdown",
   "metadata": {},
   "source": [
    "##### 4. Calculate how far each player ran"
   ]
  },
  {
   "cell_type": "code",
   "execution_count": null,
   "metadata": {},
   "outputs": [],
   "source": [
    "tracking_home.head()"
   ]
  },
  {
   "cell_type": "code",
   "execution_count": null,
   "metadata": {},
   "outputs": [],
   "source": [
    "len(tracking_home)"
   ]
  },
  {
   "cell_type": "code",
   "execution_count": null,
   "metadata": {},
   "outputs": [],
   "source": [
    "home_1st = tracking_home[tracking_home['Period']==1]\n",
    "home_2nd = tracking_home[tracking_home['Period']==2]"
   ]
  },
  {
   "cell_type": "code",
   "execution_count": null,
   "metadata": {},
   "outputs": [],
   "source": [
    "away_1st = tracking_away[tracking_away['Period']==1]\n",
    "away_2nd = tracking_away[tracking_away['Period']==2]"
   ]
  },
  {
   "cell_type": "code",
   "execution_count": null,
   "metadata": {},
   "outputs": [],
   "source": [
    "home_1st.columns"
   ]
  },
  {
   "cell_type": "code",
   "execution_count": null,
   "metadata": {},
   "outputs": [],
   "source": [
    "home_players = set()\n",
    "away_players = set()\n",
    "for i in tracking_home.columns:\n",
    "    if \"_\" in i and \"ball\" not in i:\n",
    "        home_players.add(i[:-2])\n",
    "for i in tracking_away.columns:\n",
    "    if '_' in i and \"ball\" not in i:\n",
    "        away_players.add(i[:-2])"
   ]
  },
  {
   "cell_type": "code",
   "execution_count": null,
   "metadata": {},
   "outputs": [],
   "source": [
    "home_1st_diff = home_1st.diff()**2\n",
    "home_1st_dist = {}\n",
    "for i in home_players:\n",
    "    dist = np.sqrt(home_1st_diff[i+\"_x\"] + home_1st_diff[i+\"_y\"]).sum()\n",
    "    home_1st_dist[i] = dist\n",
    "    print(i,dist)"
   ]
  },
  {
   "cell_type": "code",
   "execution_count": null,
   "metadata": {},
   "outputs": [],
   "source": [
    "home_2nd_diff = home_2nd.diff()**2\n",
    "home_2nd_dist = {}\n",
    "for i in home_players:\n",
    "    dist = np.sqrt(home_2nd_diff[i+\"_x\"] + home_2nd_diff[i+\"_y\"]).sum()\n",
    "    home_2nd_dist[i] = dist\n",
    "    print(i,dist)"
   ]
  },
  {
   "cell_type": "code",
   "execution_count": null,
   "metadata": {},
   "outputs": [],
   "source": [
    "away_1st_diff = away_1st.diff()**2\n",
    "away_1st_dist = {}\n",
    "for i in away_players:\n",
    "    dist = np.sqrt(away_1st_diff[i+\"_x\"] + away_1st_diff[i+\"_y\"]).sum()\n",
    "    away_1st_dist[i] = dist\n",
    "    print(i,dist)"
   ]
  },
  {
   "cell_type": "code",
   "execution_count": null,
   "metadata": {},
   "outputs": [],
   "source": [
    "away_2nd_diff = away_1st.diff()**2\n",
    "away_2nd_dist = {}\n",
    "for i in away_players:\n",
    "    dist = np.sqrt(away_2nd_diff[i+\"_x\"] + away_2nd_diff[i+\"_y\"]).sum()\n",
    "    away_2nd_dist[i] = dist\n",
    "    print(i,dist)"
   ]
  },
  {
   "cell_type": "code",
   "execution_count": null,
   "metadata": {},
   "outputs": [],
   "source": [
    "#Total Distances:\n",
    "print(\"HOME PLAYERS DISTANCE COVERED\")\n",
    "for i in home_players:\n",
    "    print(i,home_1st_dist[i]+home_2nd_dist[i])\n",
    "print() #Newline\n",
    "print('AWAY PLAYERS DISTANCE COVERED')\n",
    "for i in away_players:\n",
    "    print(i,away_1st_dist[i]+away_2nd_dist[i])"
   ]
  },
  {
   "cell_type": "code",
   "execution_count": null,
   "metadata": {},
   "outputs": [],
   "source": []
  },
  {
   "cell_type": "code",
   "execution_count": null,
   "metadata": {},
   "outputs": [],
   "source": []
  },
  {
   "cell_type": "code",
   "execution_count": null,
   "metadata": {},
   "outputs": [],
   "source": []
  },
  {
   "cell_type": "code",
   "execution_count": null,
   "metadata": {},
   "outputs": [],
   "source": []
  },
  {
   "cell_type": "markdown",
   "metadata": {},
   "source": [
    "<a id='section6'></a>"
   ]
  },
  {
   "cell_type": "markdown",
   "metadata": {},
   "source": [
    "## 6. Summary"
   ]
  },
  {
   "cell_type": "markdown",
   "metadata": {},
   "source": [
    "This notebooks demonstrated how to conduct a short Exploratory Data Analysis (EDA) of Tracking football data [Python]() using [pandas](http://pandas.pydata.org/) DataFrames and [matplotlib](https://matplotlib.org/contents.html?v=20200411155018) visualisations.\n",
    "\n",
    "In this workbook, we have taken a dataset of Events and Tracking data and conducted a thorough Exploratory Data Analysis, determining the following:\n",
    "*    \n",
    "*    \n",
    "*    \n",
    "*    \n",
    "\n",
    "To conduct our analysis, we have used the following libraries and modules for the following tasks:\n",
    "*    [NumPy](http://www.numpy.org/) for multidimensional array computing,\n",
    "*    [pandas](http://pandas.pydata.org/) for data manipulation and ingestion,\n",
    "*    [matplotlib](https://matplotlib.org/contents.html?v=20200411155018) for data visualisation,\n",
    "\n",
    "We have also demonstrated an array of techniques in Python using the following methods and functions:\n",
    "*    pandas EDA methods:\n",
    "     +    [head()](https://pandas.pydata.org/pandas-docs/stable/reference/api/pandas.DataFrame.head.html),\n",
    "     +    [tail()](https://pandas.pydata.org/pandas-docs/stable/reference/api/pandas.DataFrame.tail.html),\n",
    "     +    [shape](https://pandas.pydata.org/pandas-docs/stable/reference/api/pandas.DataFrame.dtypes.html),\n",
    "     +    [columns](https://pandas.pydata.org/pandas-docs/stable/reference/api/pandas.DataFrame.columns.html),\n",
    "     +    [dtypes](https://pandas.pydata.org/pandas-docs/stable/reference/api/pandas.DataFrame.dtypes.html),\n",
    "     +    [info](https://pandas.pydata.org/pandas-docs/stable/reference/api/pandas.DataFrame.info.html), and\n",
    "     +    [describe](https://pandas.pydata.org/pandas-docs/stable/reference/api/pandas.DataFrame.describe.html).\n",
    "*    The pandas [.to_csv()](https://pandas.pydata.org/pandas-docs/stable/reference/api/pandas.DataFrame.to_csv.html) method to export the DataFrames as csv files,\n",
    "*    The pandas [.groupby()](https://pandas.pydata.org/pandas-docs/version/0.23/generated/pandas.core.groupby.DataFrameGroupBy.agg.html) and [.agg()](https://pandas.pydata.org/pandas-docs/stable/reference/api/pandas.DataFrame.aggregate.html) methods to group the data,\n",
    "*    [Lambda Expressions](https://docs.python.org/3/tutorial/controlflow.html#lambda-expressions), and\n",
    "*    The pandas [pivot()](https://pandas.pydata.org/pandas-docs/stable/reference/api/pandas.DataFrame.pivot.html) method to reshape the DataFrame from a long DataFrame to a wide DataFrame."
   ]
  },
  {
   "cell_type": "markdown",
   "metadata": {},
   "source": [
    "<a id='section7'></a>"
   ]
  },
  {
   "cell_type": "markdown",
   "metadata": {},
   "source": [
    "## 7. Bibliography\n",
    "\n",
    "*    Code can be found in the [LaurieOnTracking](https://github.com/Friends-of-Tracking-Data-FoTD/LaurieOnTracking) GitHub subrepository, part of the [Friends of Tracking](https://github.com/Friends-of-Tracking-Data-FoTD) GitHub repository.\n",
    "*    The [Metrica Sports](https://metrica-sports.com/) sample data can be found in the [Metrica Sports](https://github.com/metrica-sports/sample-data) GitHub repository.\n",
    "*    [Friends of Tracking](https://www.youtube.com/channel/UCUBFJYcag8j2rm_9HkrrA7w/) YouTube channel\n",
    "*    [Introduction to football analysis with tracking data in python](https://www.youtube.com/watch?v=8TrleFklEsE)\n",
    "*    [Delving deeper into the tracking data with python: measuring the physical performance of players](https://www.youtube.com/watch?v=VX3T-4lB2o0E)\n",
    "*    [Advanced football analytics: building and applying a pitch control model in python](https://www.youtube.com/watch?v=5X1cSehLg6s) \n",
    "*    ... \n",
    "*    ... \n",
    "*    ... \n",
    "*    Link to pitch control demo: https://www.hudl.com/blog/open-space-and-passing-in-football\n",
    "*    Quantifying Pitch Control: https://www.researchgate.net/publication/334849056_Quantifying_Pitch_Control\n",
    "*    Physics-Based Modeling of Pass Probabilities in Soccer: https://www.researchgate.net/publication/315166647_Physics-Based_Modeling_of_Pass_Probabilities_in_Soccer\n",
    "*    Wide Open Spaces: A statistical technique for measuring space creation in professional soccer: https://www.researchgate.net/publication/324942294_Wide_Open_Spaces_A_statistical_technique_for_measuring_space_creation_in_professional_soccer\n",
    "*    Beyond Expected Goals: https://www.researchgate.net/publication/327139841_Beyond_Expected_Goals\n",
    "*    Probabilistic movement models and zones of control: https://www.researchgate.net/publication/326076300_Probabilistic_movement_models_and_zones_of_control\n",
    "*    Decomposing the Immeasurable Sport: A deep learning expected possession value framework for soccer: http://www.sloansportsconference.com/wp-content/uploads/2019/02/Decomposing-the-Immeasurable-Sport.pdf\n",
    "*    Seeing in to the future: using self-propelled particle models to aid player decision-making in soccer: http://www.sloansportsconference.com/wp-content/uploads/2020/02/SLOAN-Peralta-Final-submission.pdf\n",
    "*    The right place at the right time: Advanced off-ball metrics for exploiting an opponent’s spatial weaknesses in soccer: http://www.sloansportsconference.com/wp-content/uploads/2020/02/Llana_The-right-place-at-the-right-time.pdf \n",
    "\n",
    "Include some links to other GitHub repositories from amateur data analysts here"
   ]
  },
  {
   "cell_type": "markdown",
   "metadata": {},
   "source": [
    "***Visit my website [EddWebster.com](https://www.eddwebster.com) or my [GitHub Repository](https://github.com/eddwebster) for more projects. If you'd like to get in contact, my email is: edd.j.webster@gmail.com.***"
   ]
  },
  {
   "cell_type": "markdown",
   "metadata": {},
   "source": [
    "[Back to the top](#top)"
   ]
  }
 ],
 "metadata": {
  "kernelspec": {
   "display_name": "Python 3",
   "language": "python",
   "name": "python3"
  },
  "language_info": {
   "codemirror_mode": {
    "name": "ipython",
    "version": 3
   },
   "file_extension": ".py",
   "mimetype": "text/x-python",
   "name": "python",
   "nbconvert_exporter": "python",
   "pygments_lexer": "ipython3",
   "version": "3.7.6"
  },
  "varInspector": {
   "cols": {
    "lenName": 16,
    "lenType": 16,
    "lenVar": 40
   },
   "kernels_config": {
    "python": {
     "delete_cmd_postfix": "",
     "delete_cmd_prefix": "del ",
     "library": "var_list.py",
     "varRefreshCmd": "print(var_dic_list())"
    },
    "r": {
     "delete_cmd_postfix": ") ",
     "delete_cmd_prefix": "rm(",
     "library": "var_list.r",
     "varRefreshCmd": "cat(var_dic_list()) "
    }
   },
   "position": {
    "height": "339px",
    "left": "1133px",
    "right": "20px",
    "top": "122px",
    "width": "314px"
   },
   "types_to_exclude": [
    "module",
    "function",
    "builtin_function_or_method",
    "instance",
    "_Feature"
   ],
   "window_display": false
  }
 },
 "nbformat": 4,
 "nbformat_minor": 4
}
