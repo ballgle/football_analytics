{
 "cells": [
  {
   "cell_type": "markdown",
   "metadata": {},
   "source": [
    "<a id='top'></a>"
   ]
  },
  {
   "cell_type": "markdown",
   "metadata": {},
   "source": [
    "# Webscraping of Understat Data\n",
    "##### Notebook to scrape raw data using [Beautifulsoup](https://pypi.org/project/beautifulsoup4/) from [TransferMarkt](https://www.transfermarkt.co.uk/).\n",
    "\n",
    "### By [Edd Webster](https://www.twitter.com/eddwebster)\n",
    "Last updated: 31/08/2020"
   ]
  },
  {
   "cell_type": "markdown",
   "metadata": {},
   "source": [
    "![title](../../img/understat-logo-banner.png)"
   ]
  },
  {
   "cell_type": "markdown",
   "metadata": {},
   "source": [
    "Click [here](#section5) to jump straight to the Exploratory Data Analysis section and skip the [Task Brief](#section2), [Data Sources](#section3), and [Data Engineering](#section4) sections. Or click [here](#section6) to jump straight to the Conclusion."
   ]
  },
  {
   "cell_type": "markdown",
   "metadata": {},
   "source": [
    "___\n",
    "\n",
    "<a id='sectionintro'></a>"
   ]
  },
  {
   "cell_type": "markdown",
   "metadata": {},
   "source": [
    "## <a id='import_libraries'>Introduction</a>\n",
    "This notebook scrapes data for player valuations using [Beautifulsoup](https://pypi.org/project/beautifulsoup4/) from [TransferMarkt](https://www.transfermarkt.co.uk/) using [pandas](http://pandas.pydata.org/) for data maniuplation through DataFrames, [Beautifulsoup](https://pypi.org/project/beautifulsoup4/) for webscraping.\n",
    "\n",
    "For more information about this notebook and the author, I'm available through all the following channels:\n",
    "*    [eddwebster.com](https://www.eddwebster.com/),\n",
    "*    edd.j.webster@gmail.com,\n",
    "*    [@eddwebster](https://www.twitter.com/eddwebster),\n",
    "*    [LinkedIn.com/in/eddwebster](https://www.linkedin.com/in/eddwebster/),\n",
    "*    [GitHub/eddwebster](https://github.com/eddwebster/),\n",
    "*    [Kaggle.com/eddwebster](https://www.kaggle.com/eddwebster), and\n",
    "*    [HackerRank.com/eddwebster](https://www.hackerrank.com/eddwebster)."
   ]
  },
  {
   "cell_type": "markdown",
   "metadata": {},
   "source": [
    "The accompanying GitHub repository for this notebook can be found [here](https://github.com/eddwebster/fifa-league) and a static version of this notebook can be found [here](https://nbviewer.jupyter.org/github/eddwebster/fifa-league/blob/master/FIFA%2020%20Fantasy%20Football%20League%20using%20TransferMarkt%20Player%20Valuations.ipynb)."
   ]
  },
  {
   "cell_type": "markdown",
   "metadata": {},
   "source": [
    "___\n",
    "\n",
    "<a id='sectioncontents'></a>"
   ]
  },
  {
   "cell_type": "markdown",
   "metadata": {},
   "source": [
    "## <a id='notebook_contents'>Notebook Contents</a>\n",
    "1.    [Notebook Dependencies](#section1)<br>\n",
    "2.    [Project Brief](#section2)<br>\n",
    "3.    [Data Sources](#section3)<br>\n",
    "      1.    [Introduction](#section3.1)<br>\n",
    "      2.    [Data Dictionary](#section3.2)<br>\n",
    "      3.    [Creating the DataFrame](#section3.3)<br>\n",
    "      4.    [Initial Data Handling](#section3.4)<br>\n",
    "      5.    [Export the Raw DataFrame](#section3.5)<br>         \n",
    "4.    [Data Engineering](#section4)<br>\n",
    "      1.    [Introduction](#section4.1)<br>\n",
    "      2.    [Columns of Interest](#section4.2)<br>\n",
    "      3.    [String Cleaning](#section4.3)<br>\n",
    "      4.    [Converting Data Types](#section4.4)<br>\n",
    "      5.    [Export the Engineered DataFrame](#section4.5)<br>\n",
    "5.    [Exploratory Data Analysis (EDA)](#section5)<br>\n",
    "      1.    [...](#section5.1)<br>\n",
    "      2.    [...](#section5.2)<br>\n",
    "      3.    [...](#section5.3)<br>\n",
    "6.    [Summary](#section6)<br>\n",
    "7.    [Next Steps](#section7)<br>\n",
    "8.    [Bibliography](#section8)<br>"
   ]
  },
  {
   "cell_type": "markdown",
   "metadata": {},
   "source": [
    "___\n",
    "\n",
    "<a id='section1'></a>"
   ]
  },
  {
   "cell_type": "markdown",
   "metadata": {},
   "source": [
    "## <a id='#section1'>1. Notebook Dependencies</a>"
   ]
  },
  {
   "cell_type": "markdown",
   "metadata": {},
   "source": [
    "This notebook was written using [Python 3](https://docs.python.org/3.7/) and requires the following libraries:\n",
    "*    [`Jupyter notebooks`](https://jupyter.org/) for this notebook environment with which this project is presented;\n",
    "*    [`NumPy`](http://www.numpy.org/) for multidimensional array computing;\n",
    "*    [`pandas`](http://pandas.pydata.org/) for data analysis and manipulation;\n",
    "*    `tqdm` for a clean progress bar;\n",
    "*    `requests` for executing HTTP requests;\n",
    "*    [`Beautifulsoup`](https://pypi.org/project/beautifulsoup4/) for web scraping; and\n",
    "*    [`matplotlib`](https://matplotlib.org/contents.html?v=20200411155018) for data visualisations;\n",
    "\n",
    "All packages used for this notebook except for BeautifulSoup can be obtained by downloading and installing the [Conda](https://anaconda.org/anaconda/conda) distribution, available on all platforms (Windows, Linux and Mac OSX). Step-by-step guides on how to install Anaconda can be found for Windows [here](https://medium.com/@GalarnykMichael/install-python-on-windows-anaconda-c63c7c3d1444) and Mac [here](https://medium.com/@GalarnykMichael/install-python-on-mac-anaconda-ccd9f2014072), as well as in the Anaconda documentation itself [here](https://docs.anaconda.com/anaconda/install/)."
   ]
  },
  {
   "cell_type": "markdown",
   "metadata": {},
   "source": [
    "### Import Libraries and Modules"
   ]
  },
  {
   "cell_type": "code",
   "execution_count": 51,
   "metadata": {},
   "outputs": [
    {
     "name": "stdout",
     "output_type": "stream",
     "text": [
      "Setup Complete\n"
     ]
    }
   ],
   "source": [
    "# Python ≥3.5 (ideally)\n",
    "import platform\n",
    "import sys, getopt\n",
    "assert sys.version_info >= (3, 5)\n",
    "import csv\n",
    "\n",
    "# Import Dependencies\n",
    "%matplotlib inline\n",
    "\n",
    "# Math Operations\n",
    "import numpy as np\n",
    "from math import pi\n",
    "\n",
    "# Datetime\n",
    "import datetime\n",
    "from datetime import date\n",
    "import time\n",
    "\n",
    "# Data Preprocessing\n",
    "import pandas as pd    # version 1.0.3\n",
    "import os    #  used to read the csv filenames\n",
    "import re\n",
    "import random\n",
    "from io import BytesIO\n",
    "from pathlib import Path\n",
    "\n",
    "# Reading directories\n",
    "import glob\n",
    "import os\n",
    "\n",
    "# Working with JSON\n",
    "import json\n",
    "from pandas.io.json import json_normalize\n",
    "\n",
    "# Web Scraping\n",
    "import requests\n",
    "from bs4 import BeautifulSoup\n",
    "import re\n",
    "\n",
    "# Fuzzy Matching - Record Linkage\n",
    "import recordlinkage\n",
    "import jellyfish\n",
    "import numexpr as ne\n",
    "\n",
    "# Data Visualisation\n",
    "import matplotlib as mpl\n",
    "import matplotlib.pyplot as plt\n",
    "import seaborn as sns\n",
    "plt.style.use('seaborn-whitegrid')\n",
    "import missingno as msno    # visually display missing data\n",
    "\n",
    "# Progress Bar\n",
    "from tqdm import tqdm    # a clean progress bar library\n",
    "\n",
    "# Display in Jupyter\n",
    "from IPython.display import Image, YouTubeVideo\n",
    "from IPython.core.display import HTML\n",
    "\n",
    "# Ignore Warnings\n",
    "import warnings\n",
    "warnings.filterwarnings(action=\"ignore\", message=\"^internal gelsd\")\n",
    "\n",
    "print('Setup Complete')"
   ]
  },
  {
   "cell_type": "code",
   "execution_count": 52,
   "metadata": {
    "scrolled": false
   },
   "outputs": [
    {
     "name": "stdout",
     "output_type": "stream",
     "text": [
      "Python: 3.7.6\n",
      "NumPy: 1.18.1\n",
      "pandas: 1.0.1\n",
      "matplotlib: 3.1.3\n",
      "Seaborn: 0.10.0\n"
     ]
    }
   ],
   "source": [
    "# Python / module versions used here for reference\n",
    "print('Python: {}'.format(platform.python_version()))\n",
    "print('NumPy: {}'.format(np.__version__))\n",
    "print('pandas: {}'.format(pd.__version__))\n",
    "print('matplotlib: {}'.format(mpl.__version__))\n",
    "print('Seaborn: {}'.format(sns.__version__))"
   ]
  },
  {
   "cell_type": "markdown",
   "metadata": {},
   "source": [
    "### Defined Variables"
   ]
  },
  {
   "cell_type": "code",
   "execution_count": 53,
   "metadata": {},
   "outputs": [],
   "source": [
    "# Define today's date\n",
    "today = datetime.datetime.now().strftime('%d/%m/%Y').replace('/', '')"
   ]
  },
  {
   "cell_type": "markdown",
   "metadata": {},
   "source": [
    "### Defined Filepaths"
   ]
  },
  {
   "cell_type": "code",
   "execution_count": 3,
   "metadata": {},
   "outputs": [],
   "source": [
    "# Set up initial paths to subfolders\n",
    "base_dir = os.path.join('..', '..', )\n",
    "data_dir = os.path.join(base_dir, 'data')\n",
    "data_dir_fbref = os.path.join(base_dir, 'data', 'fbref')\n",
    "data_dir_tm = os.path.join(base_dir, 'data', 'tm')\n",
    "img_dir = os.path.join(base_dir, 'img')\n",
    "fig_dir = os.path.join(base_dir, 'img', 'fig')\n",
    "video_dir = os.path.join(base_dir, 'video')"
   ]
  },
  {
   "cell_type": "markdown",
   "metadata": {},
   "source": [
    "---\n",
    "\n",
    "<a id='section2'></a>"
   ]
  },
  {
   "cell_type": "markdown",
   "metadata": {},
   "source": [
    "## <a id='#section2'>2. Project Brief</a>\n",
    "This Jupyter notebook explores how to scrape football data from [TransferMarkt](https://www.transfermarkt.co.uk/), using [pandas](http://pandas.pydata.org/) for data maniuplation through DataFrames and [Beautifulsoup](https://pypi.org/project/beautifulsoup4/) for webscraping.\n",
    "\n",
    "The data of player values produced in this notebook is exported to CSV. This data can be further analysed in Python, joined to other datasets, or explored using Tableau, PowerBI, Microsoft Excel."
   ]
  },
  {
   "cell_type": "markdown",
   "metadata": {},
   "source": [
    "---\n",
    "\n",
    "<a id='section3'></a>"
   ]
  },
  {
   "cell_type": "markdown",
   "metadata": {},
   "source": [
    "## <a id='#section3'>3. Data Sources</a>"
   ]
  },
  {
   "cell_type": "markdown",
   "metadata": {},
   "source": [
    "### <a id='#section3.1'>3.1. Introduction</a>\n",
    "[TransferMarkt](https://www.transfermarkt.co.uk/) is a German-based website owned by [Axel Springer](https://www.axelspringer.com/en/) and is the leading website for the football transfer market. The website posts football related data, including: scores and results, football news, transfer rumours, and most usefully for us - calculated estimates ofthe market values for teams and individual players.\n",
    "\n",
    "To read more about how these estimations are made, [Beyond crowd judgments: Data-driven estimation of market value in association football](https://www.sciencedirect.com/science/article/pii/S0377221717304332) by Oliver Müllera, Alexander Simons, and Markus Weinmann does an excellent job of explaining how the estimations are made and their level of accuracy.\n",
    "\n",
    "Before conducting our EDA, the data needs to be imported as a DataFrame in the Data Sources section [Section 3](#section3) and Cleaned in the Data Engineering section [Section 4](#section4).\n",
    "\n",
    "We'll be using the [pandas](http://pandas.pydata.org/) library to import our data to this workbook as a DataFrame."
   ]
  },
  {
   "cell_type": "markdown",
   "metadata": {},
   "source": [
    "### <a id='#section3.2'>3.2. Data Dictionaries</a>\n",
    "The [TransferMarkt](https://www.transfermarkt.co.uk/) dataset has six features (columns) with the following definitions and data types:\n",
    "\n",
    "| Feature     | Data type    |\n",
    "|------|-----|\n",
    "| `position_number`    | object     |\n",
    "| `position_description`    | object     |\n",
    "| `name`    | object     |\n",
    "| `dob`    | object     |\n",
    "| `nationality`    | object     |\n",
    "| `value`    | object     |"
   ]
  },
  {
   "cell_type": "markdown",
   "metadata": {},
   "source": [
    "### <a id='#section3.3'>3.3. Creating the DataFrame - scraping the data</a>\n",
    "Before scraping data from [TransferMarkt](https://www.transfermarkt.co.uk/), we need to look at the top five leagues that we wish to scrape.\n",
    "\n",
    "The web scraper for [TransferMarkt](https://www.transfermarkt.co.uk/) is made up of two parts:\n",
    "1.    In the first part, the scraper takes the webpages for each of the individual leagues  e.g. The Premier League, and extract the hyperlinks to the pages of all the individual teams in the league table.\n",
    "2.    In the second part the script, the webscraper uses the list of invidual teams hyperlinks collected in part 1 to then collect the hyperlinks for each of the players for those teams. From this, the scraper can then extract the information we need for each of these players.\n",
    "\n",
    "This information collected for all the players is converted to a [pandas](http://pandas.pydata.org/) DataFrame from which we can view and manipulate the data.\n",
    "\n",
    "An example webpage for a football league is the following: https://www.transfermarkt.co.uk/jumplist/startseite/wettbewerb/GB1/plus/?saison_id=2019. As we can see, between the subdirectory path of `'/wettbewerb/'` and the `'/plus/'`, there is a 3 or 4 digit code. For The Premier League, the code is GB1. \n",
    "\n",
    "In order to scrape the webpages from [TransferMarkt](https://www.transfermarkt.co.uk/), the codes of the top five leagues need to be recorded from [TransferMarkt](https://www.transfermarkt.co.uk/), which are the following:\n",
    "\n",
    "| League Name on FIFA    | Country    | Corresponding [TransferMarkt](https://www.transfermarkt.co.uk/) League Code    |\n",
    "|------|-----|-----|\n",
    "| LaLiga Santander    | Spain    | ES1    |\n",
    "| Ligue 1 Conforama    | France    | FR1    |\n",
    "| Premier League    | England    | GB1    |\n",
    "| Serie A TIM    | Italy    | IT1    |\n",
    "| Bundesliga    | Germany    | L1    |"
   ]
  },
  {
   "cell_type": "code",
   "execution_count": 5,
   "metadata": {},
   "outputs": [],
   "source": [
    "headers = {\n",
    "    'User-Agent': 'Mozilla/5.0 (Windows NT 10.0; Win64; x64; rv:75.0) Gecko/20100101 Firefox/75.0'\n",
    "}"
   ]
  },
  {
   "cell_type": "code",
   "execution_count": 6,
   "metadata": {},
   "outputs": [],
   "source": [
    "# List of leagues by code for which we want to scrape player data - Big 5 European leagues\n",
    "lst_leagues = ['ES1', 'FR1', 'GB1', 'IT1', 'L1']"
   ]
  },
  {
   "cell_type": "code",
   "execution_count": 7,
   "metadata": {},
   "outputs": [],
   "source": [
    "# Assign season by year to season variable e.g. 2014/15 season = 2014\n",
    "season = '2020'    # 2020/21 season"
   ]
  },
  {
   "cell_type": "code",
   "execution_count": 11,
   "metadata": {},
   "outputs": [
    {
     "name": "stdout",
     "output_type": "stream",
     "text": [
      "Fetching Links from ES1\n",
      "Fetching Links from FR1\n",
      "Fetching Links from GB1\n",
      "Fetching Links from IT1\n",
      "Fetching Links from L1\n",
      "Collected 98 Links\n",
      "Extracting Page# 1\n",
      "Extracting Page# 2\n",
      "Extracting Page# 3\n",
      "Extracting Page# 4\n",
      "Extracting Page# 5\n",
      "Extracting Page# 6\n",
      "Extracting Page# 7\n",
      "Extracting Page# 8\n",
      "Extracting Page# 9\n",
      "Extracting Page# 10\n",
      "Extracting Page# 11\n",
      "Extracting Page# 12\n",
      "Extracting Page# 13\n",
      "Extracting Page# 14\n",
      "Extracting Page# 15\n",
      "Extracting Page# 16\n",
      "Extracting Page# 17\n",
      "Extracting Page# 18\n",
      "Extracting Page# 19\n",
      "Extracting Page# 20\n",
      "Extracting Page# 21\n",
      "Extracting Page# 22\n",
      "Extracting Page# 23\n",
      "Extracting Page# 24\n",
      "Extracting Page# 25\n",
      "Extracting Page# 26\n",
      "Extracting Page# 27\n",
      "Extracting Page# 28\n",
      "Extracting Page# 29\n",
      "Extracting Page# 30\n",
      "Extracting Page# 31\n",
      "Extracting Page# 32\n",
      "Extracting Page# 33\n",
      "Extracting Page# 34\n",
      "Extracting Page# 35\n",
      "Extracting Page# 36\n",
      "Extracting Page# 37\n",
      "Extracting Page# 38\n",
      "Extracting Page# 39\n",
      "Extracting Page# 40\n",
      "Extracting Page# 41\n",
      "Extracting Page# 42\n",
      "Extracting Page# 43\n",
      "Extracting Page# 44\n",
      "Extracting Page# 45\n",
      "Extracting Page# 46\n",
      "Extracting Page# 47\n",
      "Extracting Page# 48\n",
      "Extracting Page# 49\n",
      "Extracting Page# 50\n",
      "Extracting Page# 51\n",
      "Extracting Page# 52\n",
      "Extracting Page# 53\n",
      "Extracting Page# 54\n",
      "Extracting Page# 55\n",
      "Extracting Page# 56\n",
      "Extracting Page# 57\n",
      "Extracting Page# 58\n",
      "Extracting Page# 59\n",
      "Extracting Page# 60\n",
      "Extracting Page# 61\n",
      "Extracting Page# 62\n",
      "Extracting Page# 63\n",
      "Extracting Page# 64\n",
      "Extracting Page# 65\n",
      "Extracting Page# 66\n",
      "Extracting Page# 67\n",
      "Extracting Page# 68\n",
      "Extracting Page# 69\n",
      "Extracting Page# 70\n",
      "Extracting Page# 71\n",
      "Extracting Page# 72\n",
      "Extracting Page# 73\n",
      "Extracting Page# 74\n",
      "Extracting Page# 75\n",
      "Extracting Page# 76\n",
      "Extracting Page# 77\n",
      "Extracting Page# 78\n",
      "Extracting Page# 79\n",
      "Extracting Page# 80\n",
      "Extracting Page# 81\n",
      "Extracting Page# 82\n",
      "Extracting Page# 83\n",
      "Extracting Page# 84\n",
      "Extracting Page# 85\n",
      "Extracting Page# 86\n",
      "Extracting Page# 87\n",
      "Extracting Page# 88\n",
      "Extracting Page# 89\n",
      "Extracting Page# 90\n",
      "Extracting Page# 91\n",
      "Extracting Page# 92\n",
      "Extracting Page# 93\n",
      "Extracting Page# 94\n",
      "Extracting Page# 95\n",
      "Extracting Page# 96\n",
      "Extracting Page# 97\n",
      "Extracting Page# 98\n",
      "Time taken to scrape data for the Big 5 leagues is: 161.51 seconds.\n"
     ]
    }
   ],
   "source": [
    "# Run this script to scrape latest version of this data from TransferMarkt\n",
    "\n",
    "## Start timer\n",
    "tic = datetime.datetime.now()\n",
    "\n",
    "\n",
    "## Scrape TransferMarkt data\n",
    "def main(url):\n",
    "    with requests.Session() as req:\n",
    "        links = []\n",
    "        for league in lst_leagues:\n",
    "            print(f'Fetching Links from {league}')\n",
    "            r = req.get(url.format(league), headers=headers)\n",
    "            soup = BeautifulSoup(r.content, 'html.parser')\n",
    "            link = [f\"{url[:31]}{item.next_element.get('href')}\" for item in soup.findAll(\n",
    "                \"td\", class_=\"hauptlink no-border-links hide-for-small hide-for-pad\")]\n",
    "            links.extend(link)\n",
    "\n",
    "        print(f'Collected {len(links)} Links')\n",
    "        goals = []\n",
    "        for num, link in enumerate(links):\n",
    "            print(f\"Extracting Page# {num +1}\")\n",
    "            r = req.get(link, headers=headers)\n",
    "            soup = BeautifulSoup(r.content, 'html.parser')\n",
    "            target = soup.find(\"table\", class_=\"items\")\n",
    "            pn = [pn.text for pn in target.select(\"div.rn_nummer\")]\n",
    "            pos = [pos.text for pos in target.findAll(\"td\", class_=False)]\n",
    "            name = [name.text for name in target.select(\"td.hide\")]\n",
    "            dob = [date.find_next(\n",
    "                \"td\").text for date in target.select(\"td.hide\")]\n",
    "            nat = [\" / \".join([a.get(\"alt\") for a in nat.find_all_next(\"td\")[1] if a.get(\"alt\")]) for nat in target.findAll(\n",
    "                \"td\", itemprop=\"athlete\")]\n",
    "            val = [val.get_text(strip=True)\n",
    "                   for val in target.select('td.rechts.hauptlink')]\n",
    "            goal = zip(pn, pos, name, dob, nat, val)\n",
    "            df = pd.DataFrame(goal, columns=[\n",
    "                              'position_number', 'position_description', 'name', 'dob', 'nationality', 'value'])\n",
    "            goals.append(df)\n",
    "\n",
    "        new = pd.concat(goals)\n",
    "        new.to_csv(data_dir_tm + '/raw/' + f'players_big5_2021_raw_{today}.csv', index=None, header=True)\n",
    "\n",
    "main(\"https://www.transfermarkt.co.uk/jumplist/startseite/wettbewerb/{}/plus/?saison_id=2020\")\n",
    "#main(f'https://www.transfermarkt.co.uk/jumplist/startseite/wettbewerb/{}/plus/?saison_id={season}')\n",
    "\n",
    "\n",
    "## End timer\n",
    "toc = datetime.datetime.now()\n",
    "\n",
    "\n",
    "## Calculate time take\n",
    "total_time = (toc-tic).total_seconds()\n",
    "print(f'Time taken to scrape {len(links)} pages for the Big 5 leagues is: {total_time/60:0.2f} minutes.')"
   ]
  },
  {
   "cell_type": "code",
   "execution_count": 12,
   "metadata": {},
   "outputs": [],
   "source": [
    "# Import data as a pandas DataFrame, df_tm_players_big5_2021_raw\n",
    "\n",
    "## Look for most recent CSV file\n",
    "list_of_files = glob.glob(data_dir_tm + '/raw/*')    # * means all if need specific format then *.csv\n",
    "filepath_latest_tm = max(list_of_files, key=os.path.getctime)\n",
    "\n",
    "## Load in most recently parsed CSV file\n",
    "df_tm_player_top5_2021_raw = pd.read_csv(filepath_latest_tm)"
   ]
  },
  {
   "cell_type": "markdown",
   "metadata": {},
   "source": [
    "### <a id='#section3.3'>3.4. Preliminary Data Handling</a>\n",
    "Let's quality of the dataset by looking first and last rows in pandas using the [head()](https://pandas.pydata.org/pandas-docs/stable/reference/api/pandas.DataFrame.head.html) and [tail()](https://pandas.pydata.org/pandas-docs/stable/reference/api/pandas.DataFrame.tail.html) methods."
   ]
  },
  {
   "cell_type": "code",
   "execution_count": 15,
   "metadata": {},
   "outputs": [
    {
     "data": {
      "text/html": [
       "<div>\n",
       "<style scoped>\n",
       "    .dataframe tbody tr th:only-of-type {\n",
       "        vertical-align: middle;\n",
       "    }\n",
       "\n",
       "    .dataframe tbody tr th {\n",
       "        vertical-align: top;\n",
       "    }\n",
       "\n",
       "    .dataframe thead th {\n",
       "        text-align: right;\n",
       "    }\n",
       "</style>\n",
       "<table border=\"1\" class=\"dataframe\">\n",
       "  <thead>\n",
       "    <tr style=\"text-align: right;\">\n",
       "      <th></th>\n",
       "      <th>position_number</th>\n",
       "      <th>position_description</th>\n",
       "      <th>name</th>\n",
       "      <th>dob</th>\n",
       "      <th>nationality</th>\n",
       "      <th>value</th>\n",
       "    </tr>\n",
       "  </thead>\n",
       "  <tbody>\n",
       "    <tr>\n",
       "      <th>0</th>\n",
       "      <td>1</td>\n",
       "      <td>Goalkeeper</td>\n",
       "      <td>Thibaut Courtois</td>\n",
       "      <td>May 11, 1992 (28)</td>\n",
       "      <td>Belgium</td>\n",
       "      <td>£54.00m</td>\n",
       "    </tr>\n",
       "    <tr>\n",
       "      <th>1</th>\n",
       "      <td>13</td>\n",
       "      <td>Goalkeeper</td>\n",
       "      <td>Andriy Lunin</td>\n",
       "      <td>Feb 11, 1999 (21)</td>\n",
       "      <td>Ukraine</td>\n",
       "      <td>£2.43m</td>\n",
       "    </tr>\n",
       "    <tr>\n",
       "      <th>2</th>\n",
       "      <td>26</td>\n",
       "      <td>Goalkeeper</td>\n",
       "      <td>Diego Altube</td>\n",
       "      <td>Feb 22, 2000 (20)</td>\n",
       "      <td>Spain</td>\n",
       "      <td>£90Th.</td>\n",
       "    </tr>\n",
       "    <tr>\n",
       "      <th>3</th>\n",
       "      <td>5</td>\n",
       "      <td>Centre-Back</td>\n",
       "      <td>Raphaël Varane</td>\n",
       "      <td>Apr 25, 1993 (27)</td>\n",
       "      <td>France / Martinique</td>\n",
       "      <td>£57.60m</td>\n",
       "    </tr>\n",
       "    <tr>\n",
       "      <th>4</th>\n",
       "      <td>3</td>\n",
       "      <td>Centre-Back</td>\n",
       "      <td>Éder Militão</td>\n",
       "      <td>Jan 18, 1998 (22)</td>\n",
       "      <td>Brazil</td>\n",
       "      <td>£32.40m</td>\n",
       "    </tr>\n",
       "  </tbody>\n",
       "</table>\n",
       "</div>"
      ],
      "text/plain": [
       "  position_number position_description              name                dob  \\\n",
       "0               1           Goalkeeper  Thibaut Courtois  May 11, 1992 (28)   \n",
       "1              13           Goalkeeper      Andriy Lunin  Feb 11, 1999 (21)   \n",
       "2              26           Goalkeeper      Diego Altube  Feb 22, 2000 (20)   \n",
       "3               5          Centre-Back    Raphaël Varane  Apr 25, 1993 (27)   \n",
       "4               3          Centre-Back      Éder Militão  Jan 18, 1998 (22)   \n",
       "\n",
       "           nationality    value  \n",
       "0              Belgium  £54.00m  \n",
       "1              Ukraine   £2.43m  \n",
       "2                Spain   £90Th.  \n",
       "3  France / Martinique  £57.60m  \n",
       "4               Brazil  £32.40m  "
      ]
     },
     "execution_count": 15,
     "metadata": {},
     "output_type": "execute_result"
    }
   ],
   "source": [
    "# Display the first 5 rows of the raw DataFrame, df_tm_player_top5_2021_raw\n",
    "df_tm_player_top5_2021_raw.head()"
   ]
  },
  {
   "cell_type": "code",
   "execution_count": 16,
   "metadata": {},
   "outputs": [
    {
     "data": {
      "text/html": [
       "<div>\n",
       "<style scoped>\n",
       "    .dataframe tbody tr th:only-of-type {\n",
       "        vertical-align: middle;\n",
       "    }\n",
       "\n",
       "    .dataframe tbody tr th {\n",
       "        vertical-align: top;\n",
       "    }\n",
       "\n",
       "    .dataframe thead th {\n",
       "        text-align: right;\n",
       "    }\n",
       "</style>\n",
       "<table border=\"1\" class=\"dataframe\">\n",
       "  <thead>\n",
       "    <tr style=\"text-align: right;\">\n",
       "      <th></th>\n",
       "      <th>position_number</th>\n",
       "      <th>position_description</th>\n",
       "      <th>name</th>\n",
       "      <th>dob</th>\n",
       "      <th>nationality</th>\n",
       "      <th>value</th>\n",
       "    </tr>\n",
       "  </thead>\n",
       "  <tbody>\n",
       "    <tr>\n",
       "      <th>2809</th>\n",
       "      <td>18</td>\n",
       "      <td>Centre-Forward</td>\n",
       "      <td>Sergio Córdova</td>\n",
       "      <td>Aug 9, 1997 (23)</td>\n",
       "      <td>Venezuela</td>\n",
       "      <td>£1.44m</td>\n",
       "    </tr>\n",
       "    <tr>\n",
       "      <th>2810</th>\n",
       "      <td>9</td>\n",
       "      <td>Centre-Forward</td>\n",
       "      <td>Fabian Klos</td>\n",
       "      <td>Dec 2, 1987 (32)</td>\n",
       "      <td>Germany</td>\n",
       "      <td>£900Th.</td>\n",
       "    </tr>\n",
       "    <tr>\n",
       "      <th>2811</th>\n",
       "      <td>13</td>\n",
       "      <td>Centre-Forward</td>\n",
       "      <td>Sebastian Müller</td>\n",
       "      <td>Jan 23, 2001 (19)</td>\n",
       "      <td>Germany</td>\n",
       "      <td>£270Th.</td>\n",
       "    </tr>\n",
       "    <tr>\n",
       "      <th>2812</th>\n",
       "      <td>36</td>\n",
       "      <td>Centre-Forward</td>\n",
       "      <td>Sven Schipplock</td>\n",
       "      <td>Nov 8, 1988 (31)</td>\n",
       "      <td>Germany</td>\n",
       "      <td>£270Th.</td>\n",
       "    </tr>\n",
       "    <tr>\n",
       "      <th>2813</th>\n",
       "      <td>39</td>\n",
       "      <td>Centre-Forward</td>\n",
       "      <td>Prince Osei Owusu</td>\n",
       "      <td>Jan 7, 1997 (23)</td>\n",
       "      <td>Germany / Ghana</td>\n",
       "      <td>£225Th.</td>\n",
       "    </tr>\n",
       "  </tbody>\n",
       "</table>\n",
       "</div>"
      ],
      "text/plain": [
       "     position_number position_description               name  \\\n",
       "2809              18       Centre-Forward     Sergio Córdova   \n",
       "2810               9       Centre-Forward        Fabian Klos   \n",
       "2811              13       Centre-Forward   Sebastian Müller   \n",
       "2812              36       Centre-Forward    Sven Schipplock   \n",
       "2813              39       Centre-Forward  Prince Osei Owusu   \n",
       "\n",
       "                    dob      nationality    value  \n",
       "2809   Aug 9, 1997 (23)        Venezuela   £1.44m  \n",
       "2810   Dec 2, 1987 (32)          Germany  £900Th.  \n",
       "2811  Jan 23, 2001 (19)          Germany  £270Th.  \n",
       "2812   Nov 8, 1988 (31)          Germany  £270Th.  \n",
       "2813   Jan 7, 1997 (23)  Germany / Ghana  £225Th.  "
      ]
     },
     "execution_count": 16,
     "metadata": {},
     "output_type": "execute_result"
    }
   ],
   "source": [
    "# Display the last 5 rows of the raw DataFrame, df_tm_player_top5_2021_raw\n",
    "df_tm_player_top5_2021_raw.tail()"
   ]
  },
  {
   "cell_type": "code",
   "execution_count": 19,
   "metadata": {},
   "outputs": [
    {
     "name": "stdout",
     "output_type": "stream",
     "text": [
      "(2814, 6)\n"
     ]
    }
   ],
   "source": [
    "# Print the shape of the raw DataFrame, df_tm_player_top5_2021_raw\n",
    "print(df_tm_player_top5_2021_raw.shape)"
   ]
  },
  {
   "cell_type": "code",
   "execution_count": 20,
   "metadata": {},
   "outputs": [
    {
     "name": "stdout",
     "output_type": "stream",
     "text": [
      "Index(['position_number', 'position_description', 'name', 'dob', 'nationality',\n",
      "       'value'],\n",
      "      dtype='object')\n"
     ]
    }
   ],
   "source": [
    "# Print the column names of the raw DataFrame, df_tm_player_top5_2021_raw\n",
    "print(df_tm_player_top5_2021_raw.columns)"
   ]
  },
  {
   "cell_type": "markdown",
   "metadata": {},
   "source": [
    "The dataset has six features (columns). Full details of these attributes can be found in the [Data Dictionary](section3.3.1)."
   ]
  },
  {
   "cell_type": "code",
   "execution_count": 21,
   "metadata": {},
   "outputs": [
    {
     "data": {
      "text/plain": [
       "position_number         object\n",
       "position_description    object\n",
       "name                    object\n",
       "dob                     object\n",
       "nationality             object\n",
       "value                   object\n",
       "dtype: object"
      ]
     },
     "execution_count": 21,
     "metadata": {},
     "output_type": "execute_result"
    }
   ],
   "source": [
    "# Data types of the features of the raw DataFrame, df_tm_player_top5_2021_raw\n",
    "df_tm_player_top5_2021_raw.dtypes"
   ]
  },
  {
   "cell_type": "markdown",
   "metadata": {},
   "source": [
    "All six of the columns have the object data type. Full details of these attributes and their data types can be found in the [Data Dictionary](section3.3.1)."
   ]
  },
  {
   "cell_type": "code",
   "execution_count": null,
   "metadata": {},
   "outputs": [],
   "source": [
    "# Info for the raw DataFrame, df_tm_player_top5_2021_raw\n",
    "df_tm_player_top5_12021_raw.info()"
   ]
  },
  {
   "cell_type": "code",
   "execution_count": 22,
   "metadata": {},
   "outputs": [
    {
     "data": {
      "text/html": [
       "<div>\n",
       "<style scoped>\n",
       "    .dataframe tbody tr th:only-of-type {\n",
       "        vertical-align: middle;\n",
       "    }\n",
       "\n",
       "    .dataframe tbody tr th {\n",
       "        vertical-align: top;\n",
       "    }\n",
       "\n",
       "    .dataframe thead th {\n",
       "        text-align: right;\n",
       "    }\n",
       "</style>\n",
       "<table border=\"1\" class=\"dataframe\">\n",
       "  <thead>\n",
       "    <tr style=\"text-align: right;\">\n",
       "      <th></th>\n",
       "      <th>position_number</th>\n",
       "      <th>position_description</th>\n",
       "      <th>name</th>\n",
       "      <th>dob</th>\n",
       "      <th>nationality</th>\n",
       "      <th>value</th>\n",
       "    </tr>\n",
       "  </thead>\n",
       "  <tbody>\n",
       "    <tr>\n",
       "      <th>count</th>\n",
       "      <td>2814</td>\n",
       "      <td>2814</td>\n",
       "      <td>2814</td>\n",
       "      <td>2814</td>\n",
       "      <td>2814</td>\n",
       "      <td>2781</td>\n",
       "    </tr>\n",
       "    <tr>\n",
       "      <th>unique</th>\n",
       "      <td>85</td>\n",
       "      <td>14</td>\n",
       "      <td>2806</td>\n",
       "      <td>2209</td>\n",
       "      <td>416</td>\n",
       "      <td>146</td>\n",
       "    </tr>\n",
       "    <tr>\n",
       "      <th>top</th>\n",
       "      <td>-</td>\n",
       "      <td>Centre-Back</td>\n",
       "      <td>Danilo</td>\n",
       "      <td>Sep 1, 1993 (26)</td>\n",
       "      <td>Spain</td>\n",
       "      <td>£1.08m</td>\n",
       "    </tr>\n",
       "    <tr>\n",
       "      <th>freq</th>\n",
       "      <td>320</td>\n",
       "      <td>500</td>\n",
       "      <td>3</td>\n",
       "      <td>5</td>\n",
       "      <td>407</td>\n",
       "      <td>88</td>\n",
       "    </tr>\n",
       "  </tbody>\n",
       "</table>\n",
       "</div>"
      ],
      "text/plain": [
       "       position_number position_description    name               dob  \\\n",
       "count             2814                 2814    2814              2814   \n",
       "unique              85                   14    2806              2209   \n",
       "top                  -          Centre-Back  Danilo  Sep 1, 1993 (26)   \n",
       "freq               320                  500       3                 5   \n",
       "\n",
       "       nationality   value  \n",
       "count         2814    2781  \n",
       "unique         416     146  \n",
       "top          Spain  £1.08m  \n",
       "freq           407      88  "
      ]
     },
     "execution_count": 22,
     "metadata": {},
     "output_type": "execute_result"
    }
   ],
   "source": [
    "# Description of the raw DataFrame, df_tm_player_top5_2021_raw, showing some summary statistics for each numberical column in the DataFrame\n",
    "df_tm_player_top5_2021_raw.describe()"
   ]
  },
  {
   "cell_type": "code",
   "execution_count": 23,
   "metadata": {
    "scrolled": true
   },
   "outputs": [
    {
     "data": {
      "text/plain": [
       "<matplotlib.axes._subplots.AxesSubplot at 0x1a204ece10>"
      ]
     },
     "execution_count": 23,
     "metadata": {},
     "output_type": "execute_result"
    },
    {
     "data": {
      "image/png": "[encoded data removed]",
      "text/plain": [
       "<Figure size 2160x504 with 2 Axes>"
      ]
     },
     "metadata": {},
     "output_type": "display_data"
    }
   ],
   "source": [
    "# Plot visualisation of the missing values for each feature of the raw DataFrame, df_tm_player_top5_2021_raw\n",
    "msno.matrix(df_tm_player_top5_2021_raw, figsize = (30, 7))"
   ]
  },
  {
   "cell_type": "code",
   "execution_count": 24,
   "metadata": {},
   "outputs": [
    {
     "data": {
      "text/plain": [
       "value    33\n",
       "dtype: int64"
      ]
     },
     "execution_count": 24,
     "metadata": {},
     "output_type": "execute_result"
    }
   ],
   "source": [
    "# Counts of missing values\n",
    "tm_null_value_stats = df_tm_player_top5_2021_raw.isnull().sum(axis=0)\n",
    "tm_null_value_stats[tm_null_value_stats != 0]"
   ]
  },
  {
   "cell_type": "markdown",
   "metadata": {},
   "source": [
    "The visualisation shows us very quickly that there a few missing values in the `value` column, but otherwise the dataset is complete."
   ]
  },
  {
   "cell_type": "markdown",
   "metadata": {},
   "source": [
    "## <a id='#section4'>4. Data Engineering</a>"
   ]
  },
  {
   "cell_type": "markdown",
   "metadata": {},
   "source": [
    "### <a id='#section4.1'>4.1. Introduction</a>\n",
    "Before we answer the questions in the brief through [Exploratory Data Analysis (EDA)](#section5), we'll first need to clean and wrangle the datasets to a form that meet our needs."
   ]
  },
  {
   "cell_type": "markdown",
   "metadata": {},
   "source": [
    "### <a id='#section4.2'>4.2. Assign Raw DataFrames to New Engineered DataFrames</a>"
   ]
  },
  {
   "cell_type": "code",
   "execution_count": 27,
   "metadata": {},
   "outputs": [],
   "source": [
    "# Assign Raw DataFrame to new Engineered DataFrame\n",
    "df_tm_player_top5_2021 = df_tm_player_top5_2021_raw"
   ]
  },
  {
   "cell_type": "markdown",
   "metadata": {},
   "source": [
    "### <a id='#section4.2'>4.2. String Cleaning</a>"
   ]
  },
  {
   "cell_type": "markdown",
   "metadata": {},
   "source": [
    "##### Name"
   ]
  },
  {
   "cell_type": "code",
   "execution_count": 28,
   "metadata": {},
   "outputs": [],
   "source": [
    "df_tm_player_top5_2021['name_lower'] = df_tm_player_top5_2021['name'].str.normalize('NFKD')\\\n",
    "                                                                     .str.encode('ascii', errors='ignore')\\\n",
    "                                                                     .str.decode('utf-8')\\\n",
    "                                                                     .str.lower()"
   ]
  },
  {
   "cell_type": "code",
   "execution_count": 29,
   "metadata": {},
   "outputs": [],
   "source": [
    "# First Name Lower\n",
    "df_tm_player_top5_2021['firstname_lower'] = df_tm_player_top5_2021['name_lower'].str.rsplit(' ', 0).str[0]\n",
    "\n",
    "# Last Name Lower\n",
    "df_tm_player_top5_2021['lastname_lower'] = df_tm_player_top5_2021['name_lower'].str.rsplit(' ', 1).str[-1]\n",
    "\n",
    "# First Initial Lower\n",
    "df_tm_player_top5_2021['firstinitial_lower'] = df_tm_player_top5_2021['name_lower'].astype(str).str[0]"
   ]
  },
  {
   "cell_type": "markdown",
   "metadata": {},
   "source": [
    "##### DoB and Age\n",
    "The `dob` column is messy and contains both the date of birth as a string and also the age in brackets.\n",
    "\n",
    "This string cleaning consists of two parts, firstly, to split this apart into their seperate components. However, once the `age` column is created, we will replaced this by determining the current age using the Python [datetime](https://docs.python.org/3/library/datetime.html) module."
   ]
  },
  {
   "cell_type": "code",
   "execution_count": 30,
   "metadata": {},
   "outputs": [],
   "source": [
    "# DoB string cleaning to create birth_date and age columns\n",
    "df_tm_player_top5_2021[['birth_date', 'age']] = df_tm_player_top5_2021['dob'].str.extract(r'(.+) \\((\\d+)\\)')"
   ]
  },
  {
   "cell_type": "markdown",
   "metadata": {},
   "source": [
    "##### Nationality\n",
    "For the nationality, some of the players have duel nationality.\n",
    "\n",
    "For example, [Claudio Pizarro](https://www.transfermarkt.co.uk/claudio-pizarro/profil/spieler/532) is a Peruvian-born player who has has made 85 appearances for Peru, scoring 20 goals. However, his citizenship according to [TransferMarkt](https://www.transfermarkt.co.uk/) is 'Peru / Italy'. For our needs, we only want to know the country the player is eligible to play for, not their full heritage which from observations is always the first part of the string. We'll therefore be discarding anything after the first space in the string to form a new `playing_country` column."
   ]
  },
  {
   "cell_type": "code",
   "execution_count": 31,
   "metadata": {},
   "outputs": [],
   "source": [
    "# Take the first nationality i.e. text before the first space, ex. 'Peru / Italy'\n",
    "df_tm_player_top5_2021['playing_country'] = df_tm_player_top5_2021['nationality'].str.split(' /').str[0]"
   ]
  },
  {
   "cell_type": "markdown",
   "metadata": {},
   "source": [
    "##### Value\n",
    "The values of the players have prefixes (£), commas, spaces, and suffixes (m, k) that need to cleaned and replaced before converting to a numerical value."
   ]
  },
  {
   "cell_type": "code",
   "execution_count": 32,
   "metadata": {},
   "outputs": [],
   "source": [
    "# Value string cleaning from shortened string value to full numerical value\n",
    "\n",
    "## Convert 'm' to '000000'\n",
    "df_tm_player_top5_2021['value'] = df_tm_player_top5_2021['value'].str.replace('m','0000')\n",
    "\n",
    "## Convert 'k' to '000'\n",
    "df_tm_player_top5_2021['value'] = df_tm_player_top5_2021['value'].str.replace('k','000')\n",
    "\n",
    "## Convert 'Th' to '000'\n",
    "df_tm_player_top5_2021['value'] = df_tm_player_top5_2021['value'].str.replace('Th','000')\n",
    "\n",
    "## Remove '.'\n",
    "df_tm_player_top5_2021['value'] = df_tm_player_top5_2021['value'].str.replace('.','')\n",
    "\n",
    "## Remove '£' sign\n",
    "df_tm_player_top5_2021['value'] = df_tm_player_top5_2021['value'].str.replace('£','')\n",
    "\n",
    "## Remove '-'\n",
    "df_tm_player_top5_2021['value'] = df_tm_player_top5_2021['value'].str.replace('-','')\n",
    "\n",
    "## Remove '¬†¬†'\n",
    "df_tm_player_top5_2021['value'] = df_tm_player_top5_2021['value'].str.replace('¬†¬†','')\n",
    "\n",
    "## Remove gaps\n",
    "df_tm_player_top5_2021['value'] = df_tm_player_top5_2021['value'].str.replace(' ','')"
   ]
  },
  {
   "cell_type": "markdown",
   "metadata": {},
   "source": [
    "### <a id='#section4.3'>4.3. Converting Data Types</a>"
   ]
  },
  {
   "cell_type": "markdown",
   "metadata": {},
   "source": [
    "##### DoB\n",
    "First we need to convert the `dob` column from the `object` data type to `datetime64[ns]`, again using the [.to_datetime()](https://pandas.pydata.org/pandas-docs/stable/reference/api/pandas.to_datetime.html) method."
   ]
  },
  {
   "cell_type": "code",
   "execution_count": 33,
   "metadata": {},
   "outputs": [],
   "source": [
    "# Convert birth_date from string to datetime64[ns]\n",
    "df_tm_player_top5_2021['birth_date'] = pd.to_datetime(df_tm_player_top5_2021['birth_date'])"
   ]
  },
  {
   "cell_type": "markdown",
   "metadata": {},
   "source": [
    "##### Age\n",
    "The calculated `age` column needs to be converted from a float to an integer, with all null values ignored, using to [astype()](https://pandas.pydata.org/pandas-docs/stable/reference/api/pandas.DataFrame.astype.html) method."
   ]
  },
  {
   "cell_type": "code",
   "execution_count": 35,
   "metadata": {},
   "outputs": [],
   "source": [
    "# Date and time manipulation\n",
    "from datetime import datetime"
   ]
  },
  {
   "cell_type": "code",
   "execution_count": 36,
   "metadata": {},
   "outputs": [],
   "source": [
    "# Redetermine the age using the newly created birth_date column (after formatted to datetime data type)\n",
    "\n",
    "## Remove all not numeric values use to_numeric with parameter errors='coerce' - it replaces non numeric to NaNs\n",
    "df_tm_player_top5_2021['age'] = pd.to_numeric(df_tm_player_top5_2021['age'], errors='coerce')\n",
    "\n",
    "## Convert floats to integers and leave null values\n",
    "df_tm_player_top5_2021['age'] = np.nan_to_num(df_tm_player_top5_2021['age']).astype(int)\n",
    "\n",
    "## Calculate current age\n",
    "today = datetime.today()\n",
    "df_tm_player_top5_2021['age'] = df_tm_player_top5_2021['birth_date'].apply(lambda x: today.year - x.year - \n",
    "                                                                               ((today.month, today.day) < (x.month, x.day)) \n",
    "                                                                          )\n",
    "\n",
    "\n",
    "# df_tm_player_top5_2021['age'] = pd.to_numeric(ddf_tm_player_top5_2021['age'], downcast='signed')"
   ]
  },
  {
   "cell_type": "markdown",
   "metadata": {},
   "source": [
    "##### Value\n",
    "The `value` column needs to be converted from a string to an integer using to [to_numeric()](https://pandas.pydata.org/pandas-docs/stable/reference/api/pandas.to_numeric.html) method."
   ]
  },
  {
   "cell_type": "code",
   "execution_count": 37,
   "metadata": {},
   "outputs": [],
   "source": [
    "# Convert string to integer\n",
    "df_tm_player_top5_2021['value'] = pd.to_numeric(df_tm_player_top5_2021['value'])"
   ]
  },
  {
   "cell_type": "markdown",
   "metadata": {},
   "source": [
    "##### Position\n",
    "..."
   ]
  },
  {
   "cell_type": "code",
   "execution_count": 38,
   "metadata": {},
   "outputs": [
    {
     "data": {
      "text/plain": [
       "['Attacking Midfield',\n",
       " 'Central Midfield',\n",
       " 'Centre-Back',\n",
       " 'Centre-Forward',\n",
       " 'Defensive Midfield',\n",
       " 'Goalkeeper',\n",
       " 'Left Midfield',\n",
       " 'Left Winger',\n",
       " 'Left-Back',\n",
       " 'Midfielder',\n",
       " 'Right Midfield',\n",
       " 'Right Winger',\n",
       " 'Right-Back',\n",
       " 'Second Striker']"
      ]
     },
     "execution_count": 38,
     "metadata": {},
     "output_type": "execute_result"
    }
   ],
   "source": [
    "sorted(df_tm_player_top5_2021['position_description'].unique())"
   ]
  },
  {
   "cell_type": "code",
   "execution_count": 39,
   "metadata": {},
   "outputs": [],
   "source": [
    "dict_positions_tm = {\n",
    "    'Attacking Midfield': 'Midfielder',\n",
    "    'Central Midfield': 'Midfielder',\n",
    "    'Centre-Back': 'Defender',\n",
    "    'Centre-Forward': 'Forward',\n",
    "    'Defensive Midfield': 'Midfielder',\n",
    "    'Forward': 'Forward',\n",
    "    'Goalkeeper': 'Goalkeeper',\n",
    "    'Left Midfield': 'Midfielder',\n",
    "    'Left Winger': 'Forward',\n",
    "    'Left-Back': 'Defender',\n",
    "    'Right Midfield': 'Midfielder',\n",
    "    'Right Winger': 'Forward',\n",
    "    'Right-Back': 'Defender',\n",
    "    'Second Striker': 'Forward'\n",
    "}"
   ]
  },
  {
   "cell_type": "code",
   "execution_count": 40,
   "metadata": {},
   "outputs": [],
   "source": [
    "df_tm_player_top5_2021['position_description_cleaned'] = df_tm_player_top5_2021['position_description'].map(dict_positions_tm)"
   ]
  },
  {
   "cell_type": "markdown",
   "metadata": {},
   "source": [
    "### <a id='#section4.4'>4.4. Create New Attributes</a>\n",
    "Create new attributes for birth month and birth year."
   ]
  },
  {
   "cell_type": "code",
   "execution_count": 41,
   "metadata": {},
   "outputs": [],
   "source": [
    "df_tm_player_top5_2021['birth_year'] = pd.DatetimeIndex(df_tm_player_top5_2021['birth_date']).year\n",
    "df_tm_player_top5_2021['birth_month'] = pd.DatetimeIndex(df_tm_player_top5_2021['birth_date']).month"
   ]
  },
  {
   "cell_type": "markdown",
   "metadata": {},
   "source": [
    "### <a id='#section4.5'>4.5. Columns of Interest</a>\n",
    "We are interested in the following thirteen columns in the [TransferMarkt](https://www.transfermarkt.co.uk/) dataset:\n",
    "*    `name`\n",
    "*    `name_lower`\n",
    "*    `firstinitial_lower`\n",
    "*    `firstname_lower`\n",
    "*    `lastname_lower`\n",
    "*    `position_description`\n",
    "*    `position_description_cleaned`\n",
    "*    `value`\n",
    "*    `birth_date`\n",
    "*    `birth_year`\n",
    "*    `birth_month`\n",
    "*    `age`\n",
    "*    `playing_country`"
   ]
  },
  {
   "cell_type": "code",
   "execution_count": 60,
   "metadata": {},
   "outputs": [],
   "source": [
    "# Select columns of interest\n",
    "df_tm_player_top5_2021 = df_tm_player_top5_2021[['name', 'name_lower', 'firstinitial_lower', 'firstname_lower', 'lastname_lower', 'position_description', 'position_description_cleaned', 'value', 'birth_date', 'birth_year', 'birth_month', 'age', 'playing_country']]"
   ]
  },
  {
   "cell_type": "markdown",
   "metadata": {},
   "source": [
    "### <a id='#section4.6'>4.6. Split Dataset into Outfielder Players and Goalkeepers</a>"
   ]
  },
  {
   "cell_type": "code",
   "execution_count": 43,
   "metadata": {},
   "outputs": [],
   "source": [
    "# Assign df_tm as a new DataFrame - df_tm_player_top5_all_2021_all, to represent all the players\n",
    "df_tm_player_top5_all_2021 = df_tm_player_top5_2021\n",
    "\n",
    "# Filter rows for position_description is not equal to 'Goalkeeper'\n",
    "df_tm_player_top5_outfield_2021 = df_tm_player_top5_all_2021[df_tm_player_top5_all_2021['position_description'] != 'Goalkeeper']\n",
    "\n",
    "# Filter rows for position_description are equal to 'Goalkeeper'\n",
    "df_tm_player_top5_goalkeeper_2021 = df_tm_player_top5_all_2021[df_tm_player_top5_all_2021['position_description'] == 'Goalkeeper']"
   ]
  },
  {
   "cell_type": "code",
   "execution_count": 48,
   "metadata": {
    "scrolled": true
   },
   "outputs": [
    {
     "data": {
      "text/html": [
       "<div>\n",
       "<style scoped>\n",
       "    .dataframe tbody tr th:only-of-type {\n",
       "        vertical-align: middle;\n",
       "    }\n",
       "\n",
       "    .dataframe tbody tr th {\n",
       "        vertical-align: top;\n",
       "    }\n",
       "\n",
       "    .dataframe thead th {\n",
       "        text-align: right;\n",
       "    }\n",
       "</style>\n",
       "<table border=\"1\" class=\"dataframe\">\n",
       "  <thead>\n",
       "    <tr style=\"text-align: right;\">\n",
       "      <th></th>\n",
       "      <th>name</th>\n",
       "      <th>name_lower</th>\n",
       "      <th>firstinitial_lower</th>\n",
       "      <th>firstname_lower</th>\n",
       "      <th>lastname_lower</th>\n",
       "      <th>position_description</th>\n",
       "      <th>position_description_cleaned</th>\n",
       "      <th>value</th>\n",
       "      <th>birth_date</th>\n",
       "      <th>birth_year</th>\n",
       "      <th>birth_month</th>\n",
       "      <th>age</th>\n",
       "      <th>playing_country</th>\n",
       "    </tr>\n",
       "  </thead>\n",
       "  <tbody>\n",
       "    <tr>\n",
       "      <th>0</th>\n",
       "      <td>Thibaut Courtois</td>\n",
       "      <td>thibaut courtois</td>\n",
       "      <td>t</td>\n",
       "      <td>thibaut</td>\n",
       "      <td>courtois</td>\n",
       "      <td>Goalkeeper</td>\n",
       "      <td>Goalkeeper</td>\n",
       "      <td>54000000.0</td>\n",
       "      <td>1992-05-11</td>\n",
       "      <td>1992</td>\n",
       "      <td>5</td>\n",
       "      <td>28</td>\n",
       "      <td>Belgium</td>\n",
       "    </tr>\n",
       "    <tr>\n",
       "      <th>1</th>\n",
       "      <td>Andriy Lunin</td>\n",
       "      <td>andriy lunin</td>\n",
       "      <td>a</td>\n",
       "      <td>andriy</td>\n",
       "      <td>lunin</td>\n",
       "      <td>Goalkeeper</td>\n",
       "      <td>Goalkeeper</td>\n",
       "      <td>2430000.0</td>\n",
       "      <td>1999-02-11</td>\n",
       "      <td>1999</td>\n",
       "      <td>2</td>\n",
       "      <td>21</td>\n",
       "      <td>Ukraine</td>\n",
       "    </tr>\n",
       "    <tr>\n",
       "      <th>2</th>\n",
       "      <td>Diego Altube</td>\n",
       "      <td>diego altube</td>\n",
       "      <td>d</td>\n",
       "      <td>diego</td>\n",
       "      <td>altube</td>\n",
       "      <td>Goalkeeper</td>\n",
       "      <td>Goalkeeper</td>\n",
       "      <td>90000.0</td>\n",
       "      <td>2000-02-22</td>\n",
       "      <td>2000</td>\n",
       "      <td>2</td>\n",
       "      <td>20</td>\n",
       "      <td>Spain</td>\n",
       "    </tr>\n",
       "    <tr>\n",
       "      <th>3</th>\n",
       "      <td>Raphaël Varane</td>\n",
       "      <td>raphael varane</td>\n",
       "      <td>r</td>\n",
       "      <td>raphael</td>\n",
       "      <td>varane</td>\n",
       "      <td>Centre-Back</td>\n",
       "      <td>Defender</td>\n",
       "      <td>57600000.0</td>\n",
       "      <td>1993-04-25</td>\n",
       "      <td>1993</td>\n",
       "      <td>4</td>\n",
       "      <td>27</td>\n",
       "      <td>France</td>\n",
       "    </tr>\n",
       "    <tr>\n",
       "      <th>4</th>\n",
       "      <td>Éder Militão</td>\n",
       "      <td>eder militao</td>\n",
       "      <td>e</td>\n",
       "      <td>eder</td>\n",
       "      <td>militao</td>\n",
       "      <td>Centre-Back</td>\n",
       "      <td>Defender</td>\n",
       "      <td>32400000.0</td>\n",
       "      <td>1998-01-18</td>\n",
       "      <td>1998</td>\n",
       "      <td>1</td>\n",
       "      <td>22</td>\n",
       "      <td>Brazil</td>\n",
       "    </tr>\n",
       "  </tbody>\n",
       "</table>\n",
       "</div>"
      ],
      "text/plain": [
       "               name        name_lower firstinitial_lower firstname_lower  \\\n",
       "0  Thibaut Courtois  thibaut courtois                  t         thibaut   \n",
       "1      Andriy Lunin      andriy lunin                  a          andriy   \n",
       "2      Diego Altube      diego altube                  d           diego   \n",
       "3    Raphaël Varane    raphael varane                  r         raphael   \n",
       "4      Éder Militão      eder militao                  e            eder   \n",
       "\n",
       "  lastname_lower position_description position_description_cleaned  \\\n",
       "0       courtois           Goalkeeper                   Goalkeeper   \n",
       "1          lunin           Goalkeeper                   Goalkeeper   \n",
       "2         altube           Goalkeeper                   Goalkeeper   \n",
       "3         varane          Centre-Back                     Defender   \n",
       "4        militao          Centre-Back                     Defender   \n",
       "\n",
       "        value birth_date  birth_year  birth_month  age playing_country  \n",
       "0  54000000.0 1992-05-11        1992            5   28         Belgium  \n",
       "1   2430000.0 1999-02-11        1999            2   21         Ukraine  \n",
       "2     90000.0 2000-02-22        2000            2   20           Spain  \n",
       "3  57600000.0 1993-04-25        1993            4   27          France  \n",
       "4  32400000.0 1998-01-18        1998            1   22          Brazil  "
      ]
     },
     "execution_count": 48,
     "metadata": {},
     "output_type": "execute_result"
    }
   ],
   "source": [
    "df_tm_player_top5_all_2021.head()"
   ]
  },
  {
   "cell_type": "code",
   "execution_count": 45,
   "metadata": {
    "scrolled": true
   },
   "outputs": [
    {
     "data": {
      "text/html": [
       "<div>\n",
       "<style scoped>\n",
       "    .dataframe tbody tr th:only-of-type {\n",
       "        vertical-align: middle;\n",
       "    }\n",
       "\n",
       "    .dataframe tbody tr th {\n",
       "        vertical-align: top;\n",
       "    }\n",
       "\n",
       "    .dataframe thead th {\n",
       "        text-align: right;\n",
       "    }\n",
       "</style>\n",
       "<table border=\"1\" class=\"dataframe\">\n",
       "  <thead>\n",
       "    <tr style=\"text-align: right;\">\n",
       "      <th></th>\n",
       "      <th>name</th>\n",
       "      <th>name_lower</th>\n",
       "      <th>firstinitial_lower</th>\n",
       "      <th>firstname_lower</th>\n",
       "      <th>lastname_lower</th>\n",
       "      <th>position_description</th>\n",
       "      <th>position_description_cleaned</th>\n",
       "      <th>value</th>\n",
       "      <th>birth_date</th>\n",
       "      <th>birth_year</th>\n",
       "      <th>birth_month</th>\n",
       "      <th>age</th>\n",
       "      <th>playing_country</th>\n",
       "    </tr>\n",
       "  </thead>\n",
       "  <tbody>\n",
       "    <tr>\n",
       "      <th>3</th>\n",
       "      <td>Raphaël Varane</td>\n",
       "      <td>raphael varane</td>\n",
       "      <td>r</td>\n",
       "      <td>raphael</td>\n",
       "      <td>varane</td>\n",
       "      <td>Centre-Back</td>\n",
       "      <td>Defender</td>\n",
       "      <td>57600000.0</td>\n",
       "      <td>1993-04-25</td>\n",
       "      <td>1993</td>\n",
       "      <td>4</td>\n",
       "      <td>27</td>\n",
       "      <td>France</td>\n",
       "    </tr>\n",
       "    <tr>\n",
       "      <th>4</th>\n",
       "      <td>Éder Militão</td>\n",
       "      <td>eder militao</td>\n",
       "      <td>e</td>\n",
       "      <td>eder</td>\n",
       "      <td>militao</td>\n",
       "      <td>Centre-Back</td>\n",
       "      <td>Defender</td>\n",
       "      <td>32400000.0</td>\n",
       "      <td>1998-01-18</td>\n",
       "      <td>1998</td>\n",
       "      <td>1</td>\n",
       "      <td>22</td>\n",
       "      <td>Brazil</td>\n",
       "    </tr>\n",
       "    <tr>\n",
       "      <th>5</th>\n",
       "      <td>Sergio Ramos</td>\n",
       "      <td>sergio ramos</td>\n",
       "      <td>s</td>\n",
       "      <td>sergio</td>\n",
       "      <td>ramos</td>\n",
       "      <td>Centre-Back</td>\n",
       "      <td>Defender</td>\n",
       "      <td>13050000.0</td>\n",
       "      <td>1986-03-30</td>\n",
       "      <td>1986</td>\n",
       "      <td>3</td>\n",
       "      <td>34</td>\n",
       "      <td>Spain</td>\n",
       "    </tr>\n",
       "    <tr>\n",
       "      <th>6</th>\n",
       "      <td>Nacho Fernández</td>\n",
       "      <td>nacho fernandez</td>\n",
       "      <td>n</td>\n",
       "      <td>nacho</td>\n",
       "      <td>fernandez</td>\n",
       "      <td>Centre-Back</td>\n",
       "      <td>Defender</td>\n",
       "      <td>10800000.0</td>\n",
       "      <td>1990-01-18</td>\n",
       "      <td>1990</td>\n",
       "      <td>1</td>\n",
       "      <td>30</td>\n",
       "      <td>Spain</td>\n",
       "    </tr>\n",
       "    <tr>\n",
       "      <th>7</th>\n",
       "      <td>Ferland Mendy</td>\n",
       "      <td>ferland mendy</td>\n",
       "      <td>f</td>\n",
       "      <td>ferland</td>\n",
       "      <td>mendy</td>\n",
       "      <td>Left-Back</td>\n",
       "      <td>Defender</td>\n",
       "      <td>36000000.0</td>\n",
       "      <td>1995-06-08</td>\n",
       "      <td>1995</td>\n",
       "      <td>6</td>\n",
       "      <td>25</td>\n",
       "      <td>France</td>\n",
       "    </tr>\n",
       "  </tbody>\n",
       "</table>\n",
       "</div>"
      ],
      "text/plain": [
       "              name       name_lower firstinitial_lower firstname_lower  \\\n",
       "3   Raphaël Varane   raphael varane                  r         raphael   \n",
       "4     Éder Militão     eder militao                  e            eder   \n",
       "5     Sergio Ramos     sergio ramos                  s          sergio   \n",
       "6  Nacho Fernández  nacho fernandez                  n           nacho   \n",
       "7    Ferland Mendy    ferland mendy                  f         ferland   \n",
       "\n",
       "  lastname_lower position_description position_description_cleaned  \\\n",
       "3         varane          Centre-Back                     Defender   \n",
       "4        militao          Centre-Back                     Defender   \n",
       "5          ramos          Centre-Back                     Defender   \n",
       "6      fernandez          Centre-Back                     Defender   \n",
       "7          mendy            Left-Back                     Defender   \n",
       "\n",
       "        value birth_date  birth_year  birth_month  age playing_country  \n",
       "3  57600000.0 1993-04-25        1993            4   27          France  \n",
       "4  32400000.0 1998-01-18        1998            1   22          Brazil  \n",
       "5  13050000.0 1986-03-30        1986            3   34           Spain  \n",
       "6  10800000.0 1990-01-18        1990            1   30           Spain  \n",
       "7  36000000.0 1995-06-08        1995            6   25          France  "
      ]
     },
     "execution_count": 45,
     "metadata": {},
     "output_type": "execute_result"
    }
   ],
   "source": [
    "df_tm_player_top5_outfield_2021.head()"
   ]
  },
  {
   "cell_type": "code",
   "execution_count": 46,
   "metadata": {},
   "outputs": [
    {
     "data": {
      "text/html": [
       "<div>\n",
       "<style scoped>\n",
       "    .dataframe tbody tr th:only-of-type {\n",
       "        vertical-align: middle;\n",
       "    }\n",
       "\n",
       "    .dataframe tbody tr th {\n",
       "        vertical-align: top;\n",
       "    }\n",
       "\n",
       "    .dataframe thead th {\n",
       "        text-align: right;\n",
       "    }\n",
       "</style>\n",
       "<table border=\"1\" class=\"dataframe\">\n",
       "  <thead>\n",
       "    <tr style=\"text-align: right;\">\n",
       "      <th></th>\n",
       "      <th>name</th>\n",
       "      <th>name_lower</th>\n",
       "      <th>firstinitial_lower</th>\n",
       "      <th>firstname_lower</th>\n",
       "      <th>lastname_lower</th>\n",
       "      <th>position_description</th>\n",
       "      <th>position_description_cleaned</th>\n",
       "      <th>value</th>\n",
       "      <th>birth_date</th>\n",
       "      <th>birth_year</th>\n",
       "      <th>birth_month</th>\n",
       "      <th>age</th>\n",
       "      <th>playing_country</th>\n",
       "    </tr>\n",
       "  </thead>\n",
       "  <tbody>\n",
       "    <tr>\n",
       "      <th>0</th>\n",
       "      <td>Thibaut Courtois</td>\n",
       "      <td>thibaut courtois</td>\n",
       "      <td>t</td>\n",
       "      <td>thibaut</td>\n",
       "      <td>courtois</td>\n",
       "      <td>Goalkeeper</td>\n",
       "      <td>Goalkeeper</td>\n",
       "      <td>54000000.0</td>\n",
       "      <td>1992-05-11</td>\n",
       "      <td>1992</td>\n",
       "      <td>5</td>\n",
       "      <td>28</td>\n",
       "      <td>Belgium</td>\n",
       "    </tr>\n",
       "    <tr>\n",
       "      <th>1</th>\n",
       "      <td>Andriy Lunin</td>\n",
       "      <td>andriy lunin</td>\n",
       "      <td>a</td>\n",
       "      <td>andriy</td>\n",
       "      <td>lunin</td>\n",
       "      <td>Goalkeeper</td>\n",
       "      <td>Goalkeeper</td>\n",
       "      <td>2430000.0</td>\n",
       "      <td>1999-02-11</td>\n",
       "      <td>1999</td>\n",
       "      <td>2</td>\n",
       "      <td>21</td>\n",
       "      <td>Ukraine</td>\n",
       "    </tr>\n",
       "    <tr>\n",
       "      <th>2</th>\n",
       "      <td>Diego Altube</td>\n",
       "      <td>diego altube</td>\n",
       "      <td>d</td>\n",
       "      <td>diego</td>\n",
       "      <td>altube</td>\n",
       "      <td>Goalkeeper</td>\n",
       "      <td>Goalkeeper</td>\n",
       "      <td>90000.0</td>\n",
       "      <td>2000-02-22</td>\n",
       "      <td>2000</td>\n",
       "      <td>2</td>\n",
       "      <td>20</td>\n",
       "      <td>Spain</td>\n",
       "    </tr>\n",
       "    <tr>\n",
       "      <th>33</th>\n",
       "      <td>Marc-André ter Stegen</td>\n",
       "      <td>marc-andre ter stegen</td>\n",
       "      <td>m</td>\n",
       "      <td>marc-andre</td>\n",
       "      <td>stegen</td>\n",
       "      <td>Goalkeeper</td>\n",
       "      <td>Goalkeeper</td>\n",
       "      <td>64800000.0</td>\n",
       "      <td>1992-04-30</td>\n",
       "      <td>1992</td>\n",
       "      <td>4</td>\n",
       "      <td>28</td>\n",
       "      <td>Germany</td>\n",
       "    </tr>\n",
       "    <tr>\n",
       "      <th>34</th>\n",
       "      <td>Neto</td>\n",
       "      <td>neto</td>\n",
       "      <td>n</td>\n",
       "      <td>neto</td>\n",
       "      <td>neto</td>\n",
       "      <td>Goalkeeper</td>\n",
       "      <td>Goalkeeper</td>\n",
       "      <td>13050000.0</td>\n",
       "      <td>1989-07-19</td>\n",
       "      <td>1989</td>\n",
       "      <td>7</td>\n",
       "      <td>31</td>\n",
       "      <td>Brazil</td>\n",
       "    </tr>\n",
       "  </tbody>\n",
       "</table>\n",
       "</div>"
      ],
      "text/plain": [
       "                     name             name_lower firstinitial_lower  \\\n",
       "0        Thibaut Courtois       thibaut courtois                  t   \n",
       "1            Andriy Lunin           andriy lunin                  a   \n",
       "2            Diego Altube           diego altube                  d   \n",
       "33  Marc-André ter Stegen  marc-andre ter stegen                  m   \n",
       "34                   Neto                   neto                  n   \n",
       "\n",
       "   firstname_lower lastname_lower position_description  \\\n",
       "0          thibaut       courtois           Goalkeeper   \n",
       "1           andriy          lunin           Goalkeeper   \n",
       "2            diego         altube           Goalkeeper   \n",
       "33      marc-andre         stegen           Goalkeeper   \n",
       "34            neto           neto           Goalkeeper   \n",
       "\n",
       "   position_description_cleaned       value birth_date  birth_year  \\\n",
       "0                    Goalkeeper  54000000.0 1992-05-11        1992   \n",
       "1                    Goalkeeper   2430000.0 1999-02-11        1999   \n",
       "2                    Goalkeeper     90000.0 2000-02-22        2000   \n",
       "33                   Goalkeeper  64800000.0 1992-04-30        1992   \n",
       "34                   Goalkeeper  13050000.0 1989-07-19        1989   \n",
       "\n",
       "    birth_month  age playing_country  \n",
       "0             5   28         Belgium  \n",
       "1             2   21         Ukraine  \n",
       "2             2   20           Spain  \n",
       "33            4   28         Germany  \n",
       "34            7   31          Brazil  "
      ]
     },
     "execution_count": 46,
     "metadata": {},
     "output_type": "execute_result"
    }
   ],
   "source": [
    "df_tm_player_top5_goalkeeper_2021.head()"
   ]
  },
  {
   "cell_type": "markdown",
   "metadata": {},
   "source": [
    "### <a id='#section4.7'>4.7. Exporting the Engineered DataFrames</a>\n",
    "Export the three engineered [TransferMarkt](https://www.transfermarkt.co.uk/) DataFrames as CSV files."
   ]
  },
  {
   "cell_type": "code",
   "execution_count": 54,
   "metadata": {},
   "outputs": [],
   "source": [
    "# Datetime\n",
    "import datetime\n",
    "from datetime import date\n",
    "import time"
   ]
  },
  {
   "cell_type": "code",
   "execution_count": 55,
   "metadata": {},
   "outputs": [],
   "source": [
    "# Define today's date\n",
    "today = datetime.datetime.now().strftime('%d/%m/%Y').replace('/', '')"
   ]
  },
  {
   "cell_type": "code",
   "execution_count": 58,
   "metadata": {},
   "outputs": [],
   "source": [
    "# Export the three DataFrames\n",
    "df_tm_player_top5_all_2021.to_csv(data_dir_tm + '/engineered/all/' + f'all_big5_1920_{today}.csv', index=None, header=True)\n",
    "df_tm_player_top5_outfield_2021.to_csv(data_dir_tm + '/engineered/player/' + f'outfield_big5_1920_{today}.csv', index=None, header=True)\n",
    "df_tm_player_top5_goalkeeper_2021.to_csv(data_dir_tm + '/engineered/goalkeeper/' + f'goalkeeper_big5_1920_{today}.csv', index=None, header=True)"
   ]
  },
  {
   "cell_type": "markdown",
   "metadata": {},
   "source": [
    "Now we have created three pandas DataFrames and wrangled the data to meet our needs, we'll next conduct and [Exploratory Data Analysis ](#section5)."
   ]
  },
  {
   "cell_type": "markdown",
   "metadata": {},
   "source": [
    "## <a id='#section5'>5. Exploratory Data Analysis</a>"
   ]
  },
  {
   "cell_type": "markdown",
   "metadata": {},
   "source": [
    "### <a id='#section5.1'>5.1. Introduction</a>\n",
    "..."
   ]
  },
  {
   "cell_type": "markdown",
   "metadata": {},
   "source": [
    "### <a id='#section5.2'>5.2. ...</a>\n",
    "..."
   ]
  },
  {
   "cell_type": "markdown",
   "metadata": {},
   "source": [
    "## <a id='#section6'>6. Summary</a>\n",
    "This notebook scrapes data for player valuations using [Beautifulsoup](https://pypi.org/project/beautifulsoup4/) from [TransferMarkt](https://www.transfermarkt.co.uk/) using [pandas](http://pandas.pydata.org/) for data maniuplation through DataFrames and [Beautifulsoup](https://pypi.org/project/beautifulsoup4/) for webscraping."
   ]
  },
  {
   "cell_type": "markdown",
   "metadata": {},
   "source": [
    "## <a id='#section7'>7. Next Steps</a>\n",
    "..."
   ]
  },
  {
   "cell_type": "markdown",
   "metadata": {},
   "source": [
    "## <a id='#section8'>8. References</a>"
   ]
  },
  {
   "cell_type": "markdown",
   "metadata": {},
   "source": [
    "### <a id='#section9.1'>8.1. Bibliography</a>\n",
    "\n",
    "#### Data and Web Scraping\n",
    "*    [FBref](https://fbref.com/) for the data to scrape\n",
    "*    FBref statement for using StatsBomb's data: https://fbref.com/en/statsbomb/\n",
    "*    [StatsBomb](https://statsbomb.com/) providing the data to FBref\n",
    "*    [FBref_EPL GitHub repository](https://github.com/chmartin/FBref_EPL) by [chmartin](https://github.com/chmartin) for the original web scraping code\n",
    "*    [Scrape-FBref-data GitHub repository](https://github.com/parth1902/Scrape-FBref-data) by [parth1902](https://github.com/parth1902) for the revised web scraping code for the new FBref metrics\n",
    "*    [Beyond crowd judgments: Data-driven estimation of market value in association football](https://www.sciencedirect.com/science/article/pii/S0377221717304332) by Oliver Müllera, Alexander Simons, and Markus Weinmann.\n",
    "*    [06/04/2020: BBC - Premier League squads 'drop £1.6bn in value'](https://www.bbc.co.uk/sport/football/52221463).\n",
    "*    [tyrone_mings GitHub repository](https://github.com/FCrSTATS/tyrone_mings) by [FCrSTATS](https://github.com/FCrSTATS)\n",
    "*    [Python Package Index (PyPI) tyrone-mings library](https://pypi.org/project/tyrone-mings/).\n",
    "\n",
    "#### Countries\n",
    "*    [Comparison of alphabetic country codes Wiki](https://en.wikipedia.org/wiki/Comparison_of_alphabetic_country_codes)"
   ]
  },
  {
   "cell_type": "markdown",
   "metadata": {},
   "source": [
    "## <a id='#section9.2'>8.2. Python Techniques Observed</a>\n",
    "To conduct our analysis, we have used the following libraries and modules for the following tasks:\n",
    "*    [NumPy](http://www.numpy.org/) for multidimensional array computing,\n",
    "*    [pandas](http://pandas.pydata.org/) for data manipulation and ingestion, and\n",
    "*    [Beautifulsoup](https://www.crummy.com/software/BeautifulSoup/bs4/doc/) for scraping data from webpages.\n",
    "\n",
    "We have also demonstrated an array of techniques in Python using the following methods and functions:\n",
    "*    pandas EDA methods:\n",
    "     +    [head()](https://pandas.pydata.org/pandas-docs/stable/reference/api/pandas.DataFrame.head.html),\n",
    "     +    [tail()](https://pandas.pydata.org/pandas-docs/stable/reference/api/pandas.DataFrame.tail.html),\n",
    "     +    [shape](https://pandas.pydata.org/pandas-docs/stable/reference/api/pandas.DataFrame.dtypes.html),\n",
    "     +    [columns](https://pandas.pydata.org/pandas-docs/stable/reference/api/pandas.DataFrame.columns.html),\n",
    "     +    [dtypes](https://pandas.pydata.org/pandas-docs/stable/reference/api/pandas.DataFrame.dtypes.html),\n",
    "     +    [info](https://pandas.pydata.org/pandas-docs/stable/reference/api/pandas.DataFrame.info.html), and\n",
    "     +    [describe](https://pandas.pydata.org/pandas-docs/stable/reference/api/pandas.DataFrame.describe.html).\n",
    "*    The [missingno](https://pypi.org/project/missingno/) library to visualise how many missing values we have in the dataset, and\n",
    "*    The pandas [.to_csv()](https://pandas.pydata.org/pandas-docs/stable/reference/api/pandas.DataFrame.to_csv.html) method to export the DataFrames as csv files."
   ]
  },
  {
   "cell_type": "markdown",
   "metadata": {},
   "source": [
    "---\n",
    "\n",
    "***Visit my website [EddWebster.com](https://www.eddwebster.com) or my [GitHub Repository](https://github.com/eddwebster) for more projects. If you'd like to get in contact, my Twitter handle is [@eddwebster](http://www.twitter.com/eddwebster) and my email is: edd.j.webster@gmail.com.***"
   ]
  },
  {
   "cell_type": "markdown",
   "metadata": {},
   "source": [
    "[Back to the top](#top)"
   ]
  }
 ],
 "metadata": {
  "kernelspec": {
   "display_name": "Python 3",
   "language": "python",
   "name": "python3"
  },
  "language_info": {
   "codemirror_mode": {
    "name": "ipython",
    "version": 3
   },
   "file_extension": ".py",
   "mimetype": "text/x-python",
   "name": "python",
   "nbconvert_exporter": "python",
   "pygments_lexer": "ipython3",
   "version": "3.7.6"
  },
  "varInspector": {
   "cols": {
    "lenName": 16,
    "lenType": 16,
    "lenVar": 40
   },
   "kernels_config": {
    "python": {
     "delete_cmd_postfix": "",
     "delete_cmd_prefix": "del ",
     "library": "var_list.py",
     "varRefreshCmd": "print(var_dic_list())"
    },
    "r": {
     "delete_cmd_postfix": ") ",
     "delete_cmd_prefix": "rm(",
     "library": "var_list.r",
     "varRefreshCmd": "cat(var_dic_list()) "
    }
   },
   "oldHeight": 642,
   "position": {
    "height": "664px",
    "left": "1119px",
    "right": "20px",
    "top": "-7px",
    "width": "489px"
   },
   "types_to_exclude": [
    "module",
    "function",
    "builtin_function_or_method",
    "instance",
    "_Feature"
   ],
   "varInspector_section_display": "block",
   "window_display": false
  }
 },
 "nbformat": 4,
 "nbformat_minor": 2
}
