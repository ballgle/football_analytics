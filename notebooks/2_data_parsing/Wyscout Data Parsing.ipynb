{
 "cells": [
  {
   "cell_type": "markdown",
   "metadata": {},
   "source": [
    "<a id='top'></a>"
   ]
  },
  {
   "cell_type": "markdown",
   "metadata": {},
   "source": [
    "# Data Parsing of Wyscout Event Data\n",
    "##### Notebook to parse JSON data from [Wyscout](https://wyscout.com/)  to create one unified Events DataFrame.\n",
    "\n",
    "### By [Edd Webster](https://www.twitter.com/eddwebster)\n",
    "Notebook first written: 26/01/2021<br>\n",
    "Notebook last updated: 12/02/2021\n",
    "\n",
    "![title](../../img/logos/wyscout_logo.png)\n",
    "\n",
    "Click [here](#section5) to jump straight to the Exploratory Data Analysis section and skip the [Task Brief](#section2), [Data Sources](#section3), and [Data Engineering](#section4) sections. Or click [here](#section6) to jump straight to the Conclusion."
   ]
  },
  {
   "cell_type": "markdown",
   "metadata": {},
   "source": [
    "---\n",
    "\n",
    "## <a id='import_libraries'>Introduction</a>\n",
    "This notebook parses pubicly available [Wyscout](https://wyscout.com/) Event data for the 'Big 5' European leagues for the 17/18 mens season, the 2016 European Championship, and the 2018 FIFA Mens World Cup, using [pandas](http://pandas.pydata.org/) for data manipulation through DataFrames.\n",
    "\n",
    "For more information about this notebook and the author, I'm available through all the following channels:\n",
    "*    [eddwebster.com](https://www.eddwebster.com/);\n",
    "*    edd.j.webster@gmail.com;\n",
    "*    [@eddwebster](https://www.twitter.com/eddwebster);\n",
    "*    [linkedin.com/in/eddwebster](https://www.linkedin.com/in/eddwebster/);\n",
    "*    [github/eddwebster](https://github.com/eddwebster/);\n",
    "*    [public.tableau.com/profile/edd.webster](https://public.tableau.com/profile/edd.webster);\n",
    "*    [kaggle.com/eddwebster](https://www.kaggle.com/eddwebster); and\n",
    "*    [hackerrank.com/eddwebster](https://www.hackerrank.com/eddwebster).\n",
    "\n",
    "![title](../../img/edd_webster/fifa21eddwebsterbanner.png)\n",
    "\n",
    "The accompanying GitHub repository for this notebook can be found [here](https://github.com/eddwebster/football_analytics) and a static version of this notebook can be found [here](https://nbviewer.jupyter.org/github/eddwebster/football_analytics/blob/master/notebooks/2_data_parsing/Wyscout%20Parsing.ipynb)."
   ]
  },
  {
   "cell_type": "markdown",
   "metadata": {},
   "source": [
    "___\n",
    "\n",
    "## <a id='notebook_contents'>Notebook Contents</a>\n",
    "1.    [Notebook Dependencies](#section1)<br>\n",
    "2.    [Project Brief](#section2)<br>\n",
    "3.    [Data Sources](#section3)<br>\n",
    "      1.    [Introduction](#section3.1)<br>\n",
    "      2.    [Download the Data](#section3.2)<br>\n",
    "      3.    [Read in the Datasets](#section3.3)<br>\n",
    "      4.    [Join the Datasets](#section3.4)<br>\n",
    "      5.    [Initial Data Handling](#section3.5)<br>\n",
    "4.    [Data Engineering](#section4)<br>\n",
    "      1.    [Sort the DataFrame](#section4.1)<br>\n",
    "5.    [Export DataFrame](#section5)<br>\n",
    "6.    [Summary](#section6)<br>\n",
    "7.    [Next Steps](#section7)<br>\n",
    "8.    [Bibliography](#section8)<br>"
   ]
  },
  {
   "cell_type": "markdown",
   "metadata": {},
   "source": [
    "---\n",
    "\n",
    "## <a id='#section1'>1. Notebook Dependencies</a>"
   ]
  },
  {
   "cell_type": "markdown",
   "metadata": {},
   "source": [
    "This notebook was written using [Python 3](https://docs.python.org/3.7/) and requires the following libraries:\n",
    "*    [`Jupyter notebooks`](https://jupyter.org/) for this notebook environment with which this project is presented;\n",
    "*    [`NumPy`](http://www.numpy.org/) for multidimensional array computing;\n",
    "*    [`pandas`](http://pandas.pydata.org/) for data analysis and manipulation; and\n",
    "*    `tqdm` for a clean progress bar;\n",
    "\n",
    "All packages used for this notebook except for BeautifulSoup can be obtained by downloading and installing the [Conda](https://anaconda.org/anaconda/conda) distribution, available on all platforms (Windows, Linux and Mac OSX). Step-by-step guides on how to install Anaconda can be found for Windows [here](https://medium.com/@GalarnykMichael/install-python-on-windows-anaconda-c63c7c3d1444) and Mac [here](https://medium.com/@GalarnykMichael/install-python-on-mac-anaconda-ccd9f2014072), as well as in the Anaconda documentation itself [here](https://docs.anaconda.com/anaconda/install/)."
   ]
  },
  {
   "cell_type": "markdown",
   "metadata": {},
   "source": [
    "### Import Libraries and Modules"
   ]
  },
  {
   "cell_type": "code",
   "execution_count": 2,
   "metadata": {},
   "outputs": [
    {
     "name": "stdout",
     "output_type": "stream",
     "text": [
      "Setup Complete\n"
     ]
    }
   ],
   "source": [
    "%load_ext autoreload\n",
    "%autoreload 2\n",
    "\n",
    "# Python ≥3.5 (ideally)\n",
    "import platform\n",
    "import sys, getopt\n",
    "assert sys.version_info >= (3, 5)\n",
    "import csv\n",
    "\n",
    "# Import Dependencies\n",
    "%matplotlib inline\n",
    "\n",
    "# Math Operations\n",
    "import numpy as np\n",
    "import math\n",
    "from math import pi\n",
    "\n",
    "# Datetime\n",
    "import datetime\n",
    "from datetime import date\n",
    "import time\n",
    "\n",
    "# Data Preprocessing\n",
    "import pandas as pd\n",
    "import os\n",
    "import re\n",
    "import random\n",
    "from io import BytesIO\n",
    "from pathlib import Path\n",
    "\n",
    "# Reading directories\n",
    "import glob\n",
    "import os\n",
    "from os.path import basename\n",
    "\n",
    "# Working with JSON\n",
    "import json\n",
    "from pandas.io.json import json_normalize\n",
    "\n",
    "# Data Visualisation\n",
    "import matplotlib as mpl\n",
    "import matplotlib.pyplot as plt\n",
    "from matplotlib import patches\n",
    "from matplotlib.patches import Arc\n",
    "import seaborn as sns\n",
    "plt.style.use('seaborn-whitegrid')\n",
    "import missingno as msno\n",
    "\n",
    "# Downloading data sources\n",
    "from urllib.parse import urlparse\n",
    "from urllib.request import urlopen, urlretrieve\n",
    "from zipfile import ZipFile, is_zipfile\n",
    "from tqdm import tqdm    # Progress Bar\n",
    "\n",
    "# Display in Jupyter\n",
    "from IPython.display import Image, Video, YouTubeVideo\n",
    "from IPython.core.display import HTML\n",
    "\n",
    "# Ignore Warnings\n",
    "import warnings\n",
    "warnings.filterwarnings(action=\"ignore\", message=\"^internal gelsd\")\n",
    "\n",
    "print('Setup Complete')"
   ]
  },
  {
   "cell_type": "code",
   "execution_count": 3,
   "metadata": {},
   "outputs": [
    {
     "name": "stdout",
     "output_type": "stream",
     "text": [
      "Python: 3.7.6\n",
      "NumPy: 1.18.0\n",
      "pandas: 1.2.0\n",
      "matplotlib: 3.3.2\n",
      "Seaborn: 0.11.1\n"
     ]
    }
   ],
   "source": [
    "# Python / module versions used here for reference\n",
    "print('Python: {}'.format(platform.python_version()))\n",
    "print('NumPy: {}'.format(np.__version__))\n",
    "print('pandas: {}'.format(pd.__version__))\n",
    "print('matplotlib: {}'.format(mpl.__version__))\n",
    "print('Seaborn: {}'.format(sns.__version__))"
   ]
  },
  {
   "cell_type": "markdown",
   "metadata": {},
   "source": [
    "### Defined Variables"
   ]
  },
  {
   "cell_type": "code",
   "execution_count": 4,
   "metadata": {},
   "outputs": [],
   "source": [
    "# Define today's date\n",
    "today = datetime.datetime.now().strftime('%d/%m/%Y').replace('/', '')"
   ]
  },
  {
   "cell_type": "markdown",
   "metadata": {},
   "source": [
    "### Defined Filepaths"
   ]
  },
  {
   "cell_type": "code",
   "execution_count": 5,
   "metadata": {},
   "outputs": [],
   "source": [
    "# Set up initial paths to subfolders\n",
    "base_dir = os.path.join('..', '..',)\n",
    "data_dir = os.path.join(base_dir, 'data')\n",
    "data_dir_wyscout = os.path.join(base_dir, 'data', 'wyscout')\n",
    "scripts_dir = os.path.join(base_dir, 'scripts')\n",
    "scripts_dir_wyscout = os.path.join(base_dir, 'scripts', 'wyscout')\n",
    "img_dir = os.path.join(base_dir, 'img')\n",
    "fig_dir = os.path.join(base_dir, 'img', 'fig')\n",
    "fig_dir_wyscout = os.path.join(base_dir, 'img', 'fig', 'wyscout')\n",
    "video_dir = os.path.join(base_dir, 'video')"
   ]
  },
  {
   "cell_type": "markdown",
   "metadata": {},
   "source": [
    "### Create Directory Structure"
   ]
  },
  {
   "cell_type": "code",
   "execution_count": 6,
   "metadata": {},
   "outputs": [],
   "source": [
    "# make the directory structure\n",
    "for folder in ['competitions', 'combined', 'events', 'matches', 'players', 'teams']:\n",
    "    path = os.path.join(data_dir_wyscout, 'raw', folder)\n",
    "    if not os.path.exists(path):\n",
    "        os.mkdir(path)"
   ]
  },
  {
   "cell_type": "markdown",
   "metadata": {},
   "source": [
    "### Custom Functions"
   ]
  },
  {
   "cell_type": "code",
   "execution_count": 7,
   "metadata": {},
   "outputs": [],
   "source": [
    "# Define custom function to read JSON files that also handles the encoding of special characters e.g. accents in names of players and teams\n",
    "def read_json_file(filename):\n",
    "    with open(filename, 'rb') as json_file:\n",
    "        return BytesIO(json_file.read()).getvalue().decode('unicode_escape')\n",
    "    \n",
    "# Define custom function to flatten pandas DataFrames with nested JSON columns. Source: https://stackoverflow.com/questions/39899005/how-to-flatten-a-pandas-dataframe-with-some-columns-as-json\n",
    "def flatten_nested_json_df(df):\n",
    "\n",
    "    df = df.reset_index()\n",
    "\n",
    "    print(f\"original shape: {df.shape}\")\n",
    "    print(f\"original columns: {df.columns}\")\n",
    "\n",
    "\n",
    "    # search for columns to explode/flatten\n",
    "    s = (df.applymap(type) == list).all()\n",
    "    list_columns = s[s].index.tolist()\n",
    "\n",
    "    s = (df.applymap(type) == dict).all()\n",
    "    dict_columns = s[s].index.tolist()\n",
    "\n",
    "    print(f\"lists: {list_columns}, dicts: {dict_columns}\")\n",
    "    while len(list_columns) > 0 or len(dict_columns) > 0:\n",
    "        new_columns = []\n",
    "\n",
    "        for col in dict_columns:\n",
    "            print(f\"flattening: {col}\")\n",
    "            # explode dictionaries horizontally, adding new columns\n",
    "            horiz_exploded = pd.json_normalize(df[col]).add_prefix(f'{col}.')\n",
    "            horiz_exploded.index = df.index\n",
    "            df = pd.concat([df, horiz_exploded], axis=1).drop(columns=[col])\n",
    "            new_columns.extend(horiz_exploded.columns) # inplace\n",
    "\n",
    "        for col in list_columns:\n",
    "            print(f\"exploding: {col}\")\n",
    "            # explode lists vertically, adding new columns\n",
    "            df = df.drop(columns=[col]).join(df[col].explode().to_frame())\n",
    "            new_columns.append(col)\n",
    "\n",
    "        # check if there are still dict o list fields to flatten\n",
    "        s = (df[new_columns].applymap(type) == list).all()\n",
    "        list_columns = s[s].index.tolist()\n",
    "\n",
    "        s = (df[new_columns].applymap(type) == dict).all()\n",
    "        dict_columns = s[s].index.tolist()\n",
    "\n",
    "        print(f\"lists: {list_columns}, dicts: {dict_columns}\")\n",
    "\n",
    "    print(f\"final shape: {df.shape}\")\n",
    "    print(f\"final columns: {df.columns}\")\n",
    "    return df"
   ]
  },
  {
   "cell_type": "markdown",
   "metadata": {},
   "source": [
    "### Notebook Settings"
   ]
  },
  {
   "cell_type": "code",
   "execution_count": 8,
   "metadata": {},
   "outputs": [],
   "source": [
    "# Display all DataFrame columns\n",
    "pd.set_option('display.max_columns', None)"
   ]
  },
  {
   "cell_type": "markdown",
   "metadata": {},
   "source": [
    "---\n",
    "\n",
    "## <a id='#section2'>2. Project Brief</a>\n",
    "This Jupyter notebook explores how to parse pubicly available [Wyscout](https://wyscout.com/) JSON data of football matches for the Big 5 European leagues for the 17/18 season using [pandas](http://pandas.pydata.org/) for data manipulation through DataFrames.\n",
    "\n",
    "The resulting five engineered DataFrames for each of the Big 5 European league are exported to CSV files. This data can be further analysed in Python, joined to other datasets, or explored using Tableau, PowerBI, Microsoft Excel.\n",
    "\n",
    "**Notebook Conventions**:<br>\n",
    "*    Variables that refer a `DataFrame` object are prefixed with `df_`.\n",
    "*    Variables that refer to a collection of `DataFrame` objects (e.g., a list, a set or a dict) are prefixed with `dfs_`.\n",
    "\n",
    "**References**:<br>\n",
    "This notebook uses Wyscout data, made publicly available in the following paper by Luca Pappalardo, Paolo Cintia, Alessio Rossi, Emanuele Massucco, Paolo Ferragina, Dino Pedreschi, and Fosca Giannotti. **[A Public Data Set of Spatio-Temporal Match Events in Soccer Competitions](https://www.nature.com/articles/s41597-019-0247-7)**. In *Scientific Data 6*, no. 1 (2019): 1-15."
   ]
  },
  {
   "cell_type": "markdown",
   "metadata": {},
   "source": [
    "---\n",
    "\n",
    "## <a id='#section3'>3. Data Sources</a>"
   ]
  },
  {
   "cell_type": "markdown",
   "metadata": {},
   "source": [
    "### <a id='#section3.1'>3.1. Introduction</a>"
   ]
  },
  {
   "cell_type": "markdown",
   "metadata": {},
   "source": [
    "#### <a id='#section3.1.1'>3.1.1. About Wyscout</a>\n",
    "[Wyscout](https://wyscout.com/) is an Italian company that supports football scouting, match analysis and transfer dynamics. The company was founded in Genoa, Italy in 2004 and provides video analysis tools and digital databases regarding performances and matches for coaches, teams and players dealing with football business.\n",
    "\n",
    "![title](../../img/wyscout_logo.png)\n",
    "\n",
    "The purpose is to allow them have a detailed sight of a large number of athletes about individual performances, patterns of play and tactical strategy.\n",
    "\n",
    "This notebook explores a complete dataset of event data for the Big 5 European leagues during the 17/18 season."
   ]
  },
  {
   "cell_type": "markdown",
   "metadata": {},
   "source": [
    "#### <a id='#section3.1.2'>3.1.2. About the Wyscout publicly available data</a>\n",
    "A detailed description of the data can be found in the following paper:\n",
    "- Pappalardo, L., Cintia, P., Rossi, A. et al. **A public data set of spatio-temporal match events in soccer competitions**. Scientific Data 6, 236 (2019) doi:10.1038/s41597-019-0247-7, https://www.nature.com/articles/s41597-019-0247-7\n",
    "\n",
    "It is from this paper import the *matches*, *events*, *players*, *playerank*, *referees*, *coaches*, and *competition* data sets from the <a href=\"https://doi.org/10.6084/m9.figshare.c.4415000.v5\">figshare repository</a>. Data are stored in the `JSON` format. \n",
    "\n",
    "The complete data set contains:\n",
    "- 1,941 matches\n",
    "- 3,251,294 events\n",
    "- 4,299 players.\n",
    "\n",
    "The datasets we will be using are:\n",
    "- competitions;\n",
    "- events;\n",
    "- matches;\n",
    "- players; and\n",
    "- teams\n",
    "\n",
    "The data needs to be imported as a DataFrame in the Data Sources section [Section 3](#section3) and cleaned in the Data Engineering section [Section 4](#section4)."
   ]
  },
  {
   "cell_type": "markdown",
   "metadata": {},
   "source": [
    "### <a id='#section3.2'>3.2. Download the Data</a>\n",
    "This section downloads the Wyscout datasets if not already present in the data folder.\n",
    "\n",
    "The following `data_files` dictionary lists the four data files in the Wyscout dataset:\n",
    "*    `events` (73.74 MB): match events for the matches in the dataset;\n",
    "*    `matches` (629.98 kB): overview of the matches in the dataset;\n",
    "*    `players` (1.66 MB): information on the players in the dataset;\n",
    "*    `teams` (26.76 kB): information on the teams in the dataset."
   ]
  },
  {
   "cell_type": "code",
   "execution_count": 7,
   "metadata": {},
   "outputs": [],
   "source": [
    "# Define dict in Python where the keys are the names of the files and the values are the corresponding URLs\n",
    "data_files = {'events': 'https://ndownloader.figshare.com/files/14464685',     # ZIP file containing one JSON file for each competition\n",
    "              'matches': 'https://ndownloader.figshare.com/files/14464622',    # ZIP file containing one JSON file for each competition\n",
    "              'players': 'https://ndownloader.figshare.com/files/15073721',    # JSON file\n",
    "              'teams': 'https://ndownloader.figshare.com/files/15073697'       # JSON file\n",
    "             }"
   ]
  },
  {
   "cell_type": "markdown",
   "metadata": {},
   "source": [
    "The following cell loops through the `data_files` dictionary, downloads each listed data file if it is not already present in the directory, and stores each downloaded data file to the local file system.\n",
    "\n",
    "If the downloaded data file is a ZIP archive, the included JSON files are extracted from the ZIP archive and stored to the local file system."
   ]
  },
  {
   "cell_type": "code",
   "execution_count": 8,
   "metadata": {},
   "outputs": [],
   "source": [
    "# Download the listed data files for events, matches, players, and teams\n",
    "if not os.path.exists(data_dir_wyscout + '/raw/json/'):\n",
    "    for url in tqdm(data_files.values()):\n",
    "        url_s3 = urlopen(url).geturl()\n",
    "        path = Path(urlparse(url_s3).path)\n",
    "        file_name = path.name\n",
    "        file_local, _ = urlretrieve(url_s3, file_name)\n",
    "        if is_zipfile(file_local):\n",
    "            with ZipFile(file_local) as zip_file:\n",
    "                zip_file.extractall()\n",
    "else:\n",
    "    pass    "
   ]
  },
  {
   "cell_type": "markdown",
   "metadata": {},
   "source": [
    "### <a id='#section3.3'>3.3. Read in Data</a>\n",
    "The following cells read the the `JSON` files into a `DataFrame` object with some basic Data Engineering to flatten the data and select only the columns of interest."
   ]
  },
  {
   "cell_type": "markdown",
   "metadata": {},
   "source": [
    "####  <a id='#section3.3.1.'>3.3.1. Teams</a>"
   ]
  },
  {
   "cell_type": "markdown",
   "metadata": {},
   "source": [
    "##### Data dictionary\n",
    "The [Wyscout](https://wyscout.com/) Events dataset has twelve features (columns) with the following definitions and data types:\n",
    "\n",
    "| Feature     | Data type    |\n",
    "|------|-----|\n",
    "| `eventId`    | int64     |\n",
    "| `subEventName`    | object     |\n",
    "| `tags`    | object     |\n",
    "| `playerId`    | int64     |\n",
    "| `positions`    | object     |\n",
    "| `matchId`    | int64     |\n",
    "| `eventName`    | object     |\n",
    "| `teamId`    | int64     |\n",
    "| `matchPeriod`    | object     |\n",
    "| `eventSec`    | float64     |\n",
    "| `subEventId`    | object     |\n",
    "| `id`    | int64     |\n",
    "\n",
    "Refer to the Wyscout [API docs](https://apidocs.wyscout.com/) and [Events Manual](https://footballdata.wyscout.com/wp-content/uploads/2018/03/Wyscout-Events-Manual.pdf) for further information about event and subevents."
   ]
  },
  {
   "cell_type": "markdown",
   "metadata": {},
   "source": [
    "##### Read in JSON file"
   ]
  },
  {
   "cell_type": "code",
   "execution_count": 9,
   "metadata": {},
   "outputs": [
    {
     "data": {
      "text/html": [
       "<div>\n",
       "<style scoped>\n",
       "    .dataframe tbody tr th:only-of-type {\n",
       "        vertical-align: middle;\n",
       "    }\n",
       "\n",
       "    .dataframe tbody tr th {\n",
       "        vertical-align: top;\n",
       "    }\n",
       "\n",
       "    .dataframe thead th {\n",
       "        text-align: right;\n",
       "    }\n",
       "</style>\n",
       "<table border=\"1\" class=\"dataframe\">\n",
       "  <thead>\n",
       "    <tr style=\"text-align: right;\">\n",
       "      <th></th>\n",
       "      <th>city</th>\n",
       "      <th>name</th>\n",
       "      <th>wyId</th>\n",
       "      <th>officialName</th>\n",
       "      <th>area</th>\n",
       "      <th>type</th>\n",
       "    </tr>\n",
       "  </thead>\n",
       "  <tbody>\n",
       "    <tr>\n",
       "      <th>0</th>\n",
       "      <td>Newcastle upon Tyne</td>\n",
       "      <td>Newcastle United</td>\n",
       "      <td>1613</td>\n",
       "      <td>Newcastle United FC</td>\n",
       "      <td>{'name': 'England', 'id': '0', 'alpha3code': '...</td>\n",
       "      <td>club</td>\n",
       "    </tr>\n",
       "    <tr>\n",
       "      <th>1</th>\n",
       "      <td>Vigo</td>\n",
       "      <td>Celta de Vigo</td>\n",
       "      <td>692</td>\n",
       "      <td>Real Club Celta de Vigo</td>\n",
       "      <td>{'name': 'Spain', 'id': '724', 'alpha3code': '...</td>\n",
       "      <td>club</td>\n",
       "    </tr>\n",
       "    <tr>\n",
       "      <th>2</th>\n",
       "      <td>Barcelona</td>\n",
       "      <td>Espanyol</td>\n",
       "      <td>691</td>\n",
       "      <td>Reial Club Deportiu Espanyol</td>\n",
       "      <td>{'name': 'Spain', 'id': '724', 'alpha3code': '...</td>\n",
       "      <td>club</td>\n",
       "    </tr>\n",
       "    <tr>\n",
       "      <th>3</th>\n",
       "      <td>Vitoria-Gasteiz</td>\n",
       "      <td>Deportivo Alavés</td>\n",
       "      <td>696</td>\n",
       "      <td>Deportivo Alavés</td>\n",
       "      <td>{'name': 'Spain', 'id': '724', 'alpha3code': '...</td>\n",
       "      <td>club</td>\n",
       "    </tr>\n",
       "    <tr>\n",
       "      <th>4</th>\n",
       "      <td>Valencia</td>\n",
       "      <td>Levante</td>\n",
       "      <td>695</td>\n",
       "      <td>Levante UD</td>\n",
       "      <td>{'name': 'Spain', 'id': '724', 'alpha3code': '...</td>\n",
       "      <td>club</td>\n",
       "    </tr>\n",
       "  </tbody>\n",
       "</table>\n",
       "</div>"
      ],
      "text/plain": [
       "                  city              name  wyId                  officialName  \\\n",
       "0  Newcastle upon Tyne  Newcastle United  1613           Newcastle United FC   \n",
       "1                 Vigo     Celta de Vigo   692       Real Club Celta de Vigo   \n",
       "2            Barcelona          Espanyol   691  Reial Club Deportiu Espanyol   \n",
       "3      Vitoria-Gasteiz  Deportivo Alavés   696              Deportivo Alavés   \n",
       "4             Valencia           Levante   695                    Levante UD   \n",
       "\n",
       "                                                area  type  \n",
       "0  {'name': 'England', 'id': '0', 'alpha3code': '...  club  \n",
       "1  {'name': 'Spain', 'id': '724', 'alpha3code': '...  club  \n",
       "2  {'name': 'Spain', 'id': '724', 'alpha3code': '...  club  \n",
       "3  {'name': 'Spain', 'id': '724', 'alpha3code': '...  club  \n",
       "4  {'name': 'Spain', 'id': '724', 'alpha3code': '...  club  "
      ]
     },
     "execution_count": 9,
     "metadata": {},
     "output_type": "execute_result"
    }
   ],
   "source": [
    "# Read JSON file as a JSON string and create a pandas DataFrame form the resulting JSON string\n",
    "json_teams = read_json_file(data_dir_wyscout + '/raw/json/' + 'teams.json')\n",
    "df_teams = pd.read_json(json_teams)\n",
    "\n",
    "# Display DataFrame\n",
    "df_teams.head()"
   ]
  },
  {
   "cell_type": "code",
   "execution_count": 10,
   "metadata": {},
   "outputs": [
    {
     "data": {
      "text/plain": [
       "(142, 6)"
      ]
     },
     "execution_count": 10,
     "metadata": {},
     "output_type": "execute_result"
    }
   ],
   "source": [
    "df_teams.shape"
   ]
  },
  {
   "cell_type": "markdown",
   "metadata": {},
   "source": [
    "##### Normalise nested columns"
   ]
  },
  {
   "cell_type": "code",
   "execution_count": 11,
   "metadata": {
    "scrolled": true
   },
   "outputs": [
    {
     "name": "stdout",
     "output_type": "stream",
     "text": [
      "original shape: (142, 7)\n",
      "original columns: Index(['index', 'city', 'name', 'wyId', 'officialName', 'area', 'type'], dtype='object')\n",
      "lists: [], dicts: ['area']\n",
      "flattening: area\n",
      "lists: [], dicts: []\n",
      "final shape: (142, 10)\n",
      "final columns: Index(['index', 'city', 'name', 'wyId', 'officialName', 'type', 'area.name',\n",
      "       'area.id', 'area.alpha3code', 'area.alpha2code'],\n",
      "      dtype='object')\n"
     ]
    },
    {
     "data": {
      "text/html": [
       "<div>\n",
       "<style scoped>\n",
       "    .dataframe tbody tr th:only-of-type {\n",
       "        vertical-align: middle;\n",
       "    }\n",
       "\n",
       "    .dataframe tbody tr th {\n",
       "        vertical-align: top;\n",
       "    }\n",
       "\n",
       "    .dataframe thead th {\n",
       "        text-align: right;\n",
       "    }\n",
       "</style>\n",
       "<table border=\"1\" class=\"dataframe\">\n",
       "  <thead>\n",
       "    <tr style=\"text-align: right;\">\n",
       "      <th></th>\n",
       "      <th>index</th>\n",
       "      <th>city</th>\n",
       "      <th>name</th>\n",
       "      <th>wyId</th>\n",
       "      <th>officialName</th>\n",
       "      <th>type</th>\n",
       "      <th>area.name</th>\n",
       "      <th>area.id</th>\n",
       "      <th>area.alpha3code</th>\n",
       "      <th>area.alpha2code</th>\n",
       "    </tr>\n",
       "  </thead>\n",
       "  <tbody>\n",
       "    <tr>\n",
       "      <th>0</th>\n",
       "      <td>0</td>\n",
       "      <td>Newcastle upon Tyne</td>\n",
       "      <td>Newcastle United</td>\n",
       "      <td>1613</td>\n",
       "      <td>Newcastle United FC</td>\n",
       "      <td>club</td>\n",
       "      <td>England</td>\n",
       "      <td>0</td>\n",
       "      <td>XEN</td>\n",
       "      <td></td>\n",
       "    </tr>\n",
       "    <tr>\n",
       "      <th>1</th>\n",
       "      <td>1</td>\n",
       "      <td>Vigo</td>\n",
       "      <td>Celta de Vigo</td>\n",
       "      <td>692</td>\n",
       "      <td>Real Club Celta de Vigo</td>\n",
       "      <td>club</td>\n",
       "      <td>Spain</td>\n",
       "      <td>724</td>\n",
       "      <td>ESP</td>\n",
       "      <td>ES</td>\n",
       "    </tr>\n",
       "    <tr>\n",
       "      <th>2</th>\n",
       "      <td>2</td>\n",
       "      <td>Barcelona</td>\n",
       "      <td>Espanyol</td>\n",
       "      <td>691</td>\n",
       "      <td>Reial Club Deportiu Espanyol</td>\n",
       "      <td>club</td>\n",
       "      <td>Spain</td>\n",
       "      <td>724</td>\n",
       "      <td>ESP</td>\n",
       "      <td>ES</td>\n",
       "    </tr>\n",
       "    <tr>\n",
       "      <th>3</th>\n",
       "      <td>3</td>\n",
       "      <td>Vitoria-Gasteiz</td>\n",
       "      <td>Deportivo Alavés</td>\n",
       "      <td>696</td>\n",
       "      <td>Deportivo Alavés</td>\n",
       "      <td>club</td>\n",
       "      <td>Spain</td>\n",
       "      <td>724</td>\n",
       "      <td>ESP</td>\n",
       "      <td>ES</td>\n",
       "    </tr>\n",
       "    <tr>\n",
       "      <th>4</th>\n",
       "      <td>4</td>\n",
       "      <td>Valencia</td>\n",
       "      <td>Levante</td>\n",
       "      <td>695</td>\n",
       "      <td>Levante UD</td>\n",
       "      <td>club</td>\n",
       "      <td>Spain</td>\n",
       "      <td>724</td>\n",
       "      <td>ESP</td>\n",
       "      <td>ES</td>\n",
       "    </tr>\n",
       "  </tbody>\n",
       "</table>\n",
       "</div>"
      ],
      "text/plain": [
       "   index                 city              name  wyId  \\\n",
       "0      0  Newcastle upon Tyne  Newcastle United  1613   \n",
       "1      1                 Vigo     Celta de Vigo   692   \n",
       "2      2            Barcelona          Espanyol   691   \n",
       "3      3      Vitoria-Gasteiz  Deportivo Alavés   696   \n",
       "4      4             Valencia           Levante   695   \n",
       "\n",
       "                   officialName  type area.name area.id area.alpha3code  \\\n",
       "0           Newcastle United FC  club   England       0             XEN   \n",
       "1       Real Club Celta de Vigo  club     Spain     724             ESP   \n",
       "2  Reial Club Deportiu Espanyol  club     Spain     724             ESP   \n",
       "3              Deportivo Alavés  club     Spain     724             ESP   \n",
       "4                    Levante UD  club     Spain     724             ESP   \n",
       "\n",
       "  area.alpha2code  \n",
       "0                  \n",
       "1              ES  \n",
       "2              ES  \n",
       "3              ES  \n",
       "4              ES  "
      ]
     },
     "execution_count": 11,
     "metadata": {},
     "output_type": "execute_result"
    }
   ],
   "source": [
    "# Flatten the nested dictionaries\n",
    "df_teams_flat = flatten_nested_json_df(df_teams)\n",
    "\n",
    "# Display DataFrame\n",
    "df_teams_flat.head()"
   ]
  },
  {
   "cell_type": "code",
   "execution_count": 12,
   "metadata": {},
   "outputs": [
    {
     "data": {
      "text/plain": [
       "(142, 10)"
      ]
     },
     "execution_count": 12,
     "metadata": {},
     "output_type": "execute_result"
    }
   ],
   "source": [
    "df_teams_flat.shape"
   ]
  },
  {
   "cell_type": "markdown",
   "metadata": {},
   "source": [
    "##### Rename columns"
   ]
  },
  {
   "cell_type": "code",
   "execution_count": 13,
   "metadata": {},
   "outputs": [
    {
     "name": "stderr",
     "output_type": "stream",
     "text": [
      "/opt/anaconda3/lib/python3.7/site-packages/ipykernel_launcher.py:2: FutureWarning: The default value of regex will change from True to False in a future version.\n",
      "  \n"
     ]
    }
   ],
   "source": [
    "# Rename column\n",
    "df_teams_flat.columns = df_teams_flat.columns.str.replace('[.]', '_')"
   ]
  },
  {
   "cell_type": "markdown",
   "metadata": {},
   "source": [
    "##### Streamline the DataFrame"
   ]
  },
  {
   "cell_type": "code",
   "execution_count": 14,
   "metadata": {},
   "outputs": [
    {
     "data": {
      "text/plain": [
       "Index(['index', 'city', 'name', 'wyId', 'officialName', 'type', 'area_name',\n",
       "       'area_id', 'area_alpha3code', 'area_alpha2code'],\n",
       "      dtype='object')"
      ]
     },
     "execution_count": 14,
     "metadata": {},
     "output_type": "execute_result"
    }
   ],
   "source": [
    "# Display DataFrame columns\n",
    "df_teams_flat.columns"
   ]
  },
  {
   "cell_type": "code",
   "execution_count": 15,
   "metadata": {},
   "outputs": [],
   "source": [
    "# Select columns of interest\n",
    "cols_teams = ['name', 'wyId']\n",
    "\n",
    "# Create more concise DataFrame using only columns of interest\n",
    "df_teams_flat_select = df_teams_flat[cols_teams]"
   ]
  },
  {
   "cell_type": "code",
   "execution_count": 16,
   "metadata": {},
   "outputs": [
    {
     "data": {
      "text/plain": [
       "(142, 2)"
      ]
     },
     "execution_count": 16,
     "metadata": {},
     "output_type": "execute_result"
    }
   ],
   "source": [
    "df_teams_flat_select.shape"
   ]
  },
  {
   "cell_type": "markdown",
   "metadata": {},
   "source": [
    "##### Export DataFrames"
   ]
  },
  {
   "cell_type": "code",
   "execution_count": 17,
   "metadata": {},
   "outputs": [],
   "source": [
    "# Export DataFrame as a CSV file\n",
    "if not os.path.exists(os.path.join(data_dir_wyscout, 'raw', 'csv', 'teams.csv')):\n",
    "    df_teams_flat.to_csv(os.path.join(data_dir_wyscout, 'raw', 'csv', 'teams.csv'), index=None, header=True)\n",
    "else:\n",
    "    pass"
   ]
  },
  {
   "cell_type": "code",
   "execution_count": 18,
   "metadata": {},
   "outputs": [],
   "source": [
    "# Export DataFrame as a CSV file\n",
    "if not os.path.exists(os.path.join(data_dir_wyscout, 'raw', 'csv', 'teams_select.csv')):\n",
    "    df_teams_flat_select.to_csv(os.path.join(data_dir_wyscout, 'raw', 'csv', 'teams_select.csv'), index=None, header=True)\n",
    "else:\n",
    "    pass"
   ]
  },
  {
   "cell_type": "markdown",
   "metadata": {},
   "source": [
    "####  <a id='#section3.3.2.'>3.3.2. Players</a>"
   ]
  },
  {
   "cell_type": "markdown",
   "metadata": {},
   "source": [
    "##### Data Dictionary\n",
    "The [Wyscout](https://wyscout.com/) Events dataset has twelve features (columns) with the following definitions and data types:\n",
    "\n",
    "| Feature     | Data type    |\n",
    "|------|-----|\n",
    "| `eventId`    | int64     |\n",
    "| `subEventName`    | object     |\n",
    "| `tags`    | object     |\n",
    "| `playerId`    | int64     |\n",
    "| `positions`    | object     |\n",
    "| `matchId`    | int64     |\n",
    "| `eventName`    | object     |\n",
    "| `teamId`    | int64     |\n",
    "| `matchPeriod`    | object     |\n",
    "| `eventSec`    | float64     |\n",
    "| `subEventId`    | object     |\n",
    "| `id`    | int64     |\n",
    "\n",
    "Refer to the Wyscout [API docs](https://apidocs.wyscout.com/) and [Events Manual](https://footballdata.wyscout.com/wp-content/uploads/2018/03/Wyscout-Events-Manual.pdf) for further information about event and subevents."
   ]
  },
  {
   "cell_type": "markdown",
   "metadata": {},
   "source": [
    "##### Read JSON file"
   ]
  },
  {
   "cell_type": "code",
   "execution_count": 19,
   "metadata": {},
   "outputs": [
    {
     "data": {
      "text/html": [
       "<div>\n",
       "<style scoped>\n",
       "    .dataframe tbody tr th:only-of-type {\n",
       "        vertical-align: middle;\n",
       "    }\n",
       "\n",
       "    .dataframe tbody tr th {\n",
       "        vertical-align: top;\n",
       "    }\n",
       "\n",
       "    .dataframe thead th {\n",
       "        text-align: right;\n",
       "    }\n",
       "</style>\n",
       "<table border=\"1\" class=\"dataframe\">\n",
       "  <thead>\n",
       "    <tr style=\"text-align: right;\">\n",
       "      <th></th>\n",
       "      <th>passportArea</th>\n",
       "      <th>weight</th>\n",
       "      <th>firstName</th>\n",
       "      <th>middleName</th>\n",
       "      <th>lastName</th>\n",
       "      <th>currentTeamId</th>\n",
       "      <th>birthDate</th>\n",
       "      <th>height</th>\n",
       "      <th>role</th>\n",
       "      <th>birthArea</th>\n",
       "      <th>wyId</th>\n",
       "      <th>foot</th>\n",
       "      <th>shortName</th>\n",
       "      <th>currentNationalTeamId</th>\n",
       "    </tr>\n",
       "  </thead>\n",
       "  <tbody>\n",
       "    <tr>\n",
       "      <th>0</th>\n",
       "      <td>{'name': 'Turkey', 'id': '792', 'alpha3code': ...</td>\n",
       "      <td>78</td>\n",
       "      <td>Harun</td>\n",
       "      <td></td>\n",
       "      <td>Tekin</td>\n",
       "      <td>4502</td>\n",
       "      <td>1989-06-17</td>\n",
       "      <td>187</td>\n",
       "      <td>{'code2': 'GK', 'code3': 'GKP', 'name': 'Goalk...</td>\n",
       "      <td>{'name': 'Turkey', 'id': '792', 'alpha3code': ...</td>\n",
       "      <td>32777</td>\n",
       "      <td>right</td>\n",
       "      <td>H. Tekin</td>\n",
       "      <td>4687</td>\n",
       "    </tr>\n",
       "    <tr>\n",
       "      <th>1</th>\n",
       "      <td>{'name': 'Senegal', 'id': '686', 'alpha3code':...</td>\n",
       "      <td>73</td>\n",
       "      <td>Malang</td>\n",
       "      <td></td>\n",
       "      <td>Sarr</td>\n",
       "      <td>3775</td>\n",
       "      <td>1999-01-23</td>\n",
       "      <td>182</td>\n",
       "      <td>{'code2': 'DF', 'code3': 'DEF', 'name': 'Defen...</td>\n",
       "      <td>{'name': 'France', 'id': '250', 'alpha3code': ...</td>\n",
       "      <td>393228</td>\n",
       "      <td>left</td>\n",
       "      <td>M. Sarr</td>\n",
       "      <td>4423</td>\n",
       "    </tr>\n",
       "    <tr>\n",
       "      <th>2</th>\n",
       "      <td>{'name': 'France', 'id': '250', 'alpha3code': ...</td>\n",
       "      <td>72</td>\n",
       "      <td>Over</td>\n",
       "      <td></td>\n",
       "      <td>Mandanda</td>\n",
       "      <td>3772</td>\n",
       "      <td>1998-10-26</td>\n",
       "      <td>176</td>\n",
       "      <td>{'code2': 'GK', 'code3': 'GKP', 'name': 'Goalk...</td>\n",
       "      <td>{'name': 'France', 'id': '250', 'alpha3code': ...</td>\n",
       "      <td>393230</td>\n",
       "      <td></td>\n",
       "      <td>O. Mandanda</td>\n",
       "      <td>null</td>\n",
       "    </tr>\n",
       "    <tr>\n",
       "      <th>3</th>\n",
       "      <td>{'name': 'Senegal', 'id': '686', 'alpha3code':...</td>\n",
       "      <td>82</td>\n",
       "      <td>Alfred John Momar</td>\n",
       "      <td></td>\n",
       "      <td>N'Diaye</td>\n",
       "      <td>683</td>\n",
       "      <td>1990-03-06</td>\n",
       "      <td>187</td>\n",
       "      <td>{'code2': 'MD', 'code3': 'MID', 'name': 'Midfi...</td>\n",
       "      <td>{'name': 'France', 'id': '250', 'alpha3code': ...</td>\n",
       "      <td>32793</td>\n",
       "      <td>right</td>\n",
       "      <td>A. N'Diaye</td>\n",
       "      <td>19314</td>\n",
       "    </tr>\n",
       "    <tr>\n",
       "      <th>4</th>\n",
       "      <td>{'name': 'France', 'id': '250', 'alpha3code': ...</td>\n",
       "      <td>84</td>\n",
       "      <td>Ibrahima</td>\n",
       "      <td></td>\n",
       "      <td>Konaté</td>\n",
       "      <td>2975</td>\n",
       "      <td>1999-05-25</td>\n",
       "      <td>192</td>\n",
       "      <td>{'code2': 'DF', 'code3': 'DEF', 'name': 'Defen...</td>\n",
       "      <td>{'name': 'France', 'id': '250', 'alpha3code': ...</td>\n",
       "      <td>393247</td>\n",
       "      <td>right</td>\n",
       "      <td>I. Konaté</td>\n",
       "      <td>null</td>\n",
       "    </tr>\n",
       "  </tbody>\n",
       "</table>\n",
       "</div>"
      ],
      "text/plain": [
       "                                        passportArea  weight  \\\n",
       "0  {'name': 'Turkey', 'id': '792', 'alpha3code': ...      78   \n",
       "1  {'name': 'Senegal', 'id': '686', 'alpha3code':...      73   \n",
       "2  {'name': 'France', 'id': '250', 'alpha3code': ...      72   \n",
       "3  {'name': 'Senegal', 'id': '686', 'alpha3code':...      82   \n",
       "4  {'name': 'France', 'id': '250', 'alpha3code': ...      84   \n",
       "\n",
       "           firstName middleName  lastName currentTeamId   birthDate  height  \\\n",
       "0              Harun                Tekin          4502  1989-06-17     187   \n",
       "1             Malang                 Sarr          3775  1999-01-23     182   \n",
       "2               Over             Mandanda          3772  1998-10-26     176   \n",
       "3  Alfred John Momar              N'Diaye           683  1990-03-06     187   \n",
       "4           Ibrahima               Konaté          2975  1999-05-25     192   \n",
       "\n",
       "                                                role  \\\n",
       "0  {'code2': 'GK', 'code3': 'GKP', 'name': 'Goalk...   \n",
       "1  {'code2': 'DF', 'code3': 'DEF', 'name': 'Defen...   \n",
       "2  {'code2': 'GK', 'code3': 'GKP', 'name': 'Goalk...   \n",
       "3  {'code2': 'MD', 'code3': 'MID', 'name': 'Midfi...   \n",
       "4  {'code2': 'DF', 'code3': 'DEF', 'name': 'Defen...   \n",
       "\n",
       "                                           birthArea    wyId   foot  \\\n",
       "0  {'name': 'Turkey', 'id': '792', 'alpha3code': ...   32777  right   \n",
       "1  {'name': 'France', 'id': '250', 'alpha3code': ...  393228   left   \n",
       "2  {'name': 'France', 'id': '250', 'alpha3code': ...  393230          \n",
       "3  {'name': 'France', 'id': '250', 'alpha3code': ...   32793  right   \n",
       "4  {'name': 'France', 'id': '250', 'alpha3code': ...  393247  right   \n",
       "\n",
       "     shortName currentNationalTeamId  \n",
       "0     H. Tekin                  4687  \n",
       "1      M. Sarr                  4423  \n",
       "2  O. Mandanda                  null  \n",
       "3   A. N'Diaye                 19314  \n",
       "4    I. Konaté                  null  "
      ]
     },
     "execution_count": 19,
     "metadata": {},
     "output_type": "execute_result"
    }
   ],
   "source": [
    "# Read JSON file as a JSON string and create a pandas DataFrame form the resulting JSON string\n",
    "json_players = read_json_file(data_dir_wyscout + '/raw/json/' + 'players.json')\n",
    "df_players = pd.read_json(json_players)\n",
    "\n",
    "# Display DataFrame\n",
    "df_players.head()"
   ]
  },
  {
   "cell_type": "code",
   "execution_count": 20,
   "metadata": {},
   "outputs": [
    {
     "data": {
      "text/plain": [
       "(3603, 14)"
      ]
     },
     "execution_count": 20,
     "metadata": {},
     "output_type": "execute_result"
    }
   ],
   "source": [
    "df_players.shape"
   ]
  },
  {
   "cell_type": "markdown",
   "metadata": {},
   "source": [
    "##### Normalise nested columns"
   ]
  },
  {
   "cell_type": "code",
   "execution_count": 21,
   "metadata": {},
   "outputs": [
    {
     "name": "stdout",
     "output_type": "stream",
     "text": [
      "original shape: (3603, 15)\n",
      "original columns: Index(['index', 'passportArea', 'weight', 'firstName', 'middleName',\n",
      "       'lastName', 'currentTeamId', 'birthDate', 'height', 'role', 'birthArea',\n",
      "       'wyId', 'foot', 'shortName', 'currentNationalTeamId'],\n",
      "      dtype='object')\n",
      "lists: [], dicts: ['passportArea', 'role', 'birthArea']\n",
      "flattening: passportArea\n",
      "flattening: role\n",
      "flattening: birthArea\n",
      "lists: [], dicts: []\n",
      "final shape: (3603, 23)\n",
      "final columns: Index(['index', 'weight', 'firstName', 'middleName', 'lastName',\n",
      "       'currentTeamId', 'birthDate', 'height', 'wyId', 'foot', 'shortName',\n",
      "       'currentNationalTeamId', 'passportArea.name', 'passportArea.id',\n",
      "       'passportArea.alpha3code', 'passportArea.alpha2code', 'role.code2',\n",
      "       'role.code3', 'role.name', 'birthArea.name', 'birthArea.id',\n",
      "       'birthArea.alpha3code', 'birthArea.alpha2code'],\n",
      "      dtype='object')\n"
     ]
    },
    {
     "data": {
      "text/html": [
       "<div>\n",
       "<style scoped>\n",
       "    .dataframe tbody tr th:only-of-type {\n",
       "        vertical-align: middle;\n",
       "    }\n",
       "\n",
       "    .dataframe tbody tr th {\n",
       "        vertical-align: top;\n",
       "    }\n",
       "\n",
       "    .dataframe thead th {\n",
       "        text-align: right;\n",
       "    }\n",
       "</style>\n",
       "<table border=\"1\" class=\"dataframe\">\n",
       "  <thead>\n",
       "    <tr style=\"text-align: right;\">\n",
       "      <th></th>\n",
       "      <th>index</th>\n",
       "      <th>weight</th>\n",
       "      <th>firstName</th>\n",
       "      <th>middleName</th>\n",
       "      <th>lastName</th>\n",
       "      <th>currentTeamId</th>\n",
       "      <th>birthDate</th>\n",
       "      <th>height</th>\n",
       "      <th>wyId</th>\n",
       "      <th>foot</th>\n",
       "      <th>shortName</th>\n",
       "      <th>currentNationalTeamId</th>\n",
       "      <th>passportArea.name</th>\n",
       "      <th>passportArea.id</th>\n",
       "      <th>passportArea.alpha3code</th>\n",
       "      <th>passportArea.alpha2code</th>\n",
       "      <th>role.code2</th>\n",
       "      <th>role.code3</th>\n",
       "      <th>role.name</th>\n",
       "      <th>birthArea.name</th>\n",
       "      <th>birthArea.id</th>\n",
       "      <th>birthArea.alpha3code</th>\n",
       "      <th>birthArea.alpha2code</th>\n",
       "    </tr>\n",
       "  </thead>\n",
       "  <tbody>\n",
       "    <tr>\n",
       "      <th>0</th>\n",
       "      <td>0</td>\n",
       "      <td>78</td>\n",
       "      <td>Harun</td>\n",
       "      <td></td>\n",
       "      <td>Tekin</td>\n",
       "      <td>4502</td>\n",
       "      <td>1989-06-17</td>\n",
       "      <td>187</td>\n",
       "      <td>32777</td>\n",
       "      <td>right</td>\n",
       "      <td>H. Tekin</td>\n",
       "      <td>4687</td>\n",
       "      <td>Turkey</td>\n",
       "      <td>792</td>\n",
       "      <td>TUR</td>\n",
       "      <td>TR</td>\n",
       "      <td>GK</td>\n",
       "      <td>GKP</td>\n",
       "      <td>Goalkeeper</td>\n",
       "      <td>Turkey</td>\n",
       "      <td>792</td>\n",
       "      <td>TUR</td>\n",
       "      <td>TR</td>\n",
       "    </tr>\n",
       "    <tr>\n",
       "      <th>1</th>\n",
       "      <td>1</td>\n",
       "      <td>73</td>\n",
       "      <td>Malang</td>\n",
       "      <td></td>\n",
       "      <td>Sarr</td>\n",
       "      <td>3775</td>\n",
       "      <td>1999-01-23</td>\n",
       "      <td>182</td>\n",
       "      <td>393228</td>\n",
       "      <td>left</td>\n",
       "      <td>M. Sarr</td>\n",
       "      <td>4423</td>\n",
       "      <td>Senegal</td>\n",
       "      <td>686</td>\n",
       "      <td>SEN</td>\n",
       "      <td>SN</td>\n",
       "      <td>DF</td>\n",
       "      <td>DEF</td>\n",
       "      <td>Defender</td>\n",
       "      <td>France</td>\n",
       "      <td>250</td>\n",
       "      <td>FRA</td>\n",
       "      <td>FR</td>\n",
       "    </tr>\n",
       "    <tr>\n",
       "      <th>2</th>\n",
       "      <td>2</td>\n",
       "      <td>72</td>\n",
       "      <td>Over</td>\n",
       "      <td></td>\n",
       "      <td>Mandanda</td>\n",
       "      <td>3772</td>\n",
       "      <td>1998-10-26</td>\n",
       "      <td>176</td>\n",
       "      <td>393230</td>\n",
       "      <td></td>\n",
       "      <td>O. Mandanda</td>\n",
       "      <td>null</td>\n",
       "      <td>France</td>\n",
       "      <td>250</td>\n",
       "      <td>FRA</td>\n",
       "      <td>FR</td>\n",
       "      <td>GK</td>\n",
       "      <td>GKP</td>\n",
       "      <td>Goalkeeper</td>\n",
       "      <td>France</td>\n",
       "      <td>250</td>\n",
       "      <td>FRA</td>\n",
       "      <td>FR</td>\n",
       "    </tr>\n",
       "    <tr>\n",
       "      <th>3</th>\n",
       "      <td>3</td>\n",
       "      <td>82</td>\n",
       "      <td>Alfred John Momar</td>\n",
       "      <td></td>\n",
       "      <td>N'Diaye</td>\n",
       "      <td>683</td>\n",
       "      <td>1990-03-06</td>\n",
       "      <td>187</td>\n",
       "      <td>32793</td>\n",
       "      <td>right</td>\n",
       "      <td>A. N'Diaye</td>\n",
       "      <td>19314</td>\n",
       "      <td>Senegal</td>\n",
       "      <td>686</td>\n",
       "      <td>SEN</td>\n",
       "      <td>SN</td>\n",
       "      <td>MD</td>\n",
       "      <td>MID</td>\n",
       "      <td>Midfielder</td>\n",
       "      <td>France</td>\n",
       "      <td>250</td>\n",
       "      <td>FRA</td>\n",
       "      <td>FR</td>\n",
       "    </tr>\n",
       "    <tr>\n",
       "      <th>4</th>\n",
       "      <td>4</td>\n",
       "      <td>84</td>\n",
       "      <td>Ibrahima</td>\n",
       "      <td></td>\n",
       "      <td>Konaté</td>\n",
       "      <td>2975</td>\n",
       "      <td>1999-05-25</td>\n",
       "      <td>192</td>\n",
       "      <td>393247</td>\n",
       "      <td>right</td>\n",
       "      <td>I. Konaté</td>\n",
       "      <td>null</td>\n",
       "      <td>France</td>\n",
       "      <td>250</td>\n",
       "      <td>FRA</td>\n",
       "      <td>FR</td>\n",
       "      <td>DF</td>\n",
       "      <td>DEF</td>\n",
       "      <td>Defender</td>\n",
       "      <td>France</td>\n",
       "      <td>250</td>\n",
       "      <td>FRA</td>\n",
       "      <td>FR</td>\n",
       "    </tr>\n",
       "  </tbody>\n",
       "</table>\n",
       "</div>"
      ],
      "text/plain": [
       "   index  weight          firstName middleName  lastName currentTeamId  \\\n",
       "0      0      78              Harun                Tekin          4502   \n",
       "1      1      73             Malang                 Sarr          3775   \n",
       "2      2      72               Over             Mandanda          3772   \n",
       "3      3      82  Alfred John Momar              N'Diaye           683   \n",
       "4      4      84           Ibrahima               Konaté          2975   \n",
       "\n",
       "    birthDate  height    wyId   foot    shortName currentNationalTeamId  \\\n",
       "0  1989-06-17     187   32777  right     H. Tekin                  4687   \n",
       "1  1999-01-23     182  393228   left      M. Sarr                  4423   \n",
       "2  1998-10-26     176  393230         O. Mandanda                  null   \n",
       "3  1990-03-06     187   32793  right   A. N'Diaye                 19314   \n",
       "4  1999-05-25     192  393247  right    I. Konaté                  null   \n",
       "\n",
       "  passportArea.name passportArea.id passportArea.alpha3code  \\\n",
       "0            Turkey             792                     TUR   \n",
       "1           Senegal             686                     SEN   \n",
       "2            France             250                     FRA   \n",
       "3           Senegal             686                     SEN   \n",
       "4            France             250                     FRA   \n",
       "\n",
       "  passportArea.alpha2code role.code2 role.code3   role.name birthArea.name  \\\n",
       "0                      TR         GK        GKP  Goalkeeper         Turkey   \n",
       "1                      SN         DF        DEF    Defender         France   \n",
       "2                      FR         GK        GKP  Goalkeeper         France   \n",
       "3                      SN         MD        MID  Midfielder         France   \n",
       "4                      FR         DF        DEF    Defender         France   \n",
       "\n",
       "  birthArea.id birthArea.alpha3code birthArea.alpha2code  \n",
       "0          792                  TUR                   TR  \n",
       "1          250                  FRA                   FR  \n",
       "2          250                  FRA                   FR  \n",
       "3          250                  FRA                   FR  \n",
       "4          250                  FRA                   FR  "
      ]
     },
     "execution_count": 21,
     "metadata": {},
     "output_type": "execute_result"
    }
   ],
   "source": [
    "# Flatten the nested dictionaries\n",
    "df_players_flat = flatten_nested_json_df(df_players)\n",
    "\n",
    "# Display DataFrame\n",
    "df_players_flat.head()"
   ]
  },
  {
   "cell_type": "code",
   "execution_count": 22,
   "metadata": {},
   "outputs": [
    {
     "data": {
      "text/plain": [
       "(3603, 23)"
      ]
     },
     "execution_count": 22,
     "metadata": {},
     "output_type": "execute_result"
    }
   ],
   "source": [
    "df_players_flat.shape"
   ]
  },
  {
   "cell_type": "markdown",
   "metadata": {},
   "source": [
    "##### Rename columns"
   ]
  },
  {
   "cell_type": "code",
   "execution_count": 23,
   "metadata": {},
   "outputs": [
    {
     "name": "stderr",
     "output_type": "stream",
     "text": [
      "/opt/anaconda3/lib/python3.7/site-packages/ipykernel_launcher.py:2: FutureWarning: The default value of regex will change from True to False in a future version.\n",
      "  \n"
     ]
    }
   ],
   "source": [
    "# Rename columns\n",
    "df_players_flat.columns = df_players_flat.columns.str.replace('[.]', '_')"
   ]
  },
  {
   "cell_type": "markdown",
   "metadata": {},
   "source": [
    "##### Streamline the DataFrame"
   ]
  },
  {
   "cell_type": "code",
   "execution_count": 24,
   "metadata": {},
   "outputs": [
    {
     "data": {
      "text/plain": [
       "Index(['index', 'weight', 'firstName', 'middleName', 'lastName',\n",
       "       'currentTeamId', 'birthDate', 'height', 'wyId', 'foot', 'shortName',\n",
       "       'currentNationalTeamId', 'passportArea_name', 'passportArea_id',\n",
       "       'passportArea_alpha3code', 'passportArea_alpha2code', 'role_code2',\n",
       "       'role_code3', 'role_name', 'birthArea_name', 'birthArea_id',\n",
       "       'birthArea_alpha3code', 'birthArea_alpha2code'],\n",
       "      dtype='object')"
      ]
     },
     "execution_count": 24,
     "metadata": {},
     "output_type": "execute_result"
    }
   ],
   "source": [
    "# Display DataFrame columns\n",
    "df_players_flat.columns"
   ]
  },
  {
   "cell_type": "code",
   "execution_count": 25,
   "metadata": {},
   "outputs": [],
   "source": [
    "# Select columns of interest\n",
    "cols_players = ['weight',\n",
    "                'firstName',----\n",
    "                'middleName',\n",
    "                'lastName',\n",
    "                'birthDate',\n",
    "                'height',\n",
    "                'wyId',\n",
    "                'foot',\n",
    "                'shortName',\n",
    "                'passportArea_name',\n",
    "                'role_name',\n",
    "                'birthArea_name'\n",
    "               ]\n",
    "\n",
    "# Create more concise DataFrame using only columns of interest\n",
    "df_players_flat_select = df_players_flat[cols_players]"
   ]
  },
  {
   "cell_type": "code",
   "execution_count": 26,
   "metadata": {},
   "outputs": [
    {
     "data": {
      "text/plain": [
       "(3603, 12)"
      ]
     },
     "execution_count": 26,
     "metadata": {},
     "output_type": "execute_result"
    }
   ],
   "source": [
    "df_players_flat_select.shape"
   ]
  },
  {
   "cell_type": "markdown",
   "metadata": {},
   "source": [
    "##### Export DataFrame"
   ]
  },
  {
   "cell_type": "code",
   "execution_count": 27,
   "metadata": {},
   "outputs": [],
   "source": [
    "# Export DataFrame as a CSV file\n",
    "if not os.path.exists(os.path.join(data_dir_wyscout, 'raw', 'csv', 'players.csv')):\n",
    "    df_players_flat.to_csv(os.path.join(data_dir_wyscout, 'raw', 'csv', 'players.csv'), index=None, header=True)\n",
    "else:\n",
    "    pass"
   ]
  },
  {
   "cell_type": "code",
   "execution_count": 28,
   "metadata": {},
   "outputs": [],
   "source": [
    "# Export DataFrame as a CSV file\n",
    "if not os.path.exists(os.path.join(data_dir_wyscout, 'raw', 'csv', 'players_select.csv')):\n",
    "    df_players_flat_select.to_csv(os.path.join(data_dir_wyscout, 'raw', 'csv', 'players_select.csv'), index=None, header=True)\n",
    "else:\n",
    "    pass"
   ]
  },
  {
   "cell_type": "markdown",
   "metadata": {},
   "source": [
    "####  <a id='#section3.3.3.'>3.3.3. Matches</a>"
   ]
  },
  {
   "cell_type": "markdown",
   "metadata": {},
   "source": [
    "##### Data Dictionary\n",
    "The [Wyscout](https://wyscout.com/) Events dataset has twelve features (columns) with the following definitions and data types:\n",
    "\n",
    "| Feature     | Data type    |\n",
    "|------|-----|\n",
    "| `eventId`    | int64     |\n",
    "| `subEventName`    | object     |\n",
    "| `tags`    | object     |\n",
    "| `playerId`    | int64     |\n",
    "| `positions`    | object     |\n",
    "| `matchId`    | int64     |\n",
    "| `eventName`    | object     |\n",
    "| `teamId`    | int64     |\n",
    "| `matchPeriod`    | object     |\n",
    "| `eventSec`    | float64     |\n",
    "| `subEventId`    | object     |\n",
    "| `id`    | int64     |\n",
    "\n",
    "Refer to the Wyscout [API docs](https://apidocs.wyscout.com/) and [Events Manual](https://footballdata.wyscout.com/wp-content/uploads/2018/03/Wyscout-Events-Manual.pdf) for further information about event and subevents."
   ]
  },
  {
   "cell_type": "markdown",
   "metadata": {},
   "source": [
    "##### Define competitions\n",
    "The following cell lists the competitions to be included in the dataset. Dataset includes data for seven different competitions - 5 domestic and 2 international."
   ]
  },
  {
   "cell_type": "code",
   "execution_count": 29,
   "metadata": {},
   "outputs": [],
   "source": [
    "# Define a list to select only the competitions of interest. \n",
    "# For this Expected Goals model, I will use all the data available\n",
    "\n",
    "# Define list of competitions\n",
    "competitions = ['England',\n",
    "                'France',\n",
    "                'Germany',\n",
    "                'Italy',\n",
    "                'Spain',\n",
    "                'European Championship',\n",
    "                'World Cup'\n",
    "               ]"
   ]
  },
  {
   "cell_type": "markdown",
   "metadata": {},
   "source": [
    "##### Read JSON files\n",
    "The following cells read the `matches.json` files for the selected competitions into a `DataFrame` object."
   ]
  },
  {
   "cell_type": "code",
   "execution_count": 30,
   "metadata": {},
   "outputs": [
    {
     "data": {
      "text/html": [
       "<div>\n",
       "<style scoped>\n",
       "    .dataframe tbody tr th:only-of-type {\n",
       "        vertical-align: middle;\n",
       "    }\n",
       "\n",
       "    .dataframe tbody tr th {\n",
       "        vertical-align: top;\n",
       "    }\n",
       "\n",
       "    .dataframe thead th {\n",
       "        text-align: right;\n",
       "    }\n",
       "</style>\n",
       "<table border=\"1\" class=\"dataframe\">\n",
       "  <thead>\n",
       "    <tr style=\"text-align: right;\">\n",
       "      <th></th>\n",
       "      <th>status</th>\n",
       "      <th>roundId</th>\n",
       "      <th>gameweek</th>\n",
       "      <th>teamsData</th>\n",
       "      <th>seasonId</th>\n",
       "      <th>dateutc</th>\n",
       "      <th>winner</th>\n",
       "      <th>venue</th>\n",
       "      <th>wyId</th>\n",
       "      <th>label</th>\n",
       "      <th>date</th>\n",
       "      <th>referees</th>\n",
       "      <th>duration</th>\n",
       "      <th>competitionId</th>\n",
       "      <th>groupName</th>\n",
       "    </tr>\n",
       "  </thead>\n",
       "  <tbody>\n",
       "    <tr>\n",
       "      <th>0</th>\n",
       "      <td>Played</td>\n",
       "      <td>4405654</td>\n",
       "      <td>38</td>\n",
       "      <td>{'1646': {'scoreET': 0, 'coachId': 8880, 'side...</td>\n",
       "      <td>181150</td>\n",
       "      <td>2018-05-13 14:00:00</td>\n",
       "      <td>1659</td>\n",
       "      <td>Turf Moor</td>\n",
       "      <td>2500089</td>\n",
       "      <td>Burnley - AFC Bournemouth, 1 - 2</td>\n",
       "      <td>May 13, 2018 at 4:00:00 PM GMT+2</td>\n",
       "      <td>[{'refereeId': 385705, 'role': 'referee'}, {'r...</td>\n",
       "      <td>Regular</td>\n",
       "      <td>364</td>\n",
       "      <td>NaN</td>\n",
       "    </tr>\n",
       "    <tr>\n",
       "      <th>1</th>\n",
       "      <td>Played</td>\n",
       "      <td>4405654</td>\n",
       "      <td>38</td>\n",
       "      <td>{'1628': {'scoreET': 0, 'coachId': 8357, 'side...</td>\n",
       "      <td>181150</td>\n",
       "      <td>2018-05-13 14:00:00</td>\n",
       "      <td>1628</td>\n",
       "      <td>Selhurst Park</td>\n",
       "      <td>2500090</td>\n",
       "      <td>Crystal Palace - West Bromwich Albion, 2 - 0</td>\n",
       "      <td>May 13, 2018 at 4:00:00 PM GMT+2</td>\n",
       "      <td>[{'refereeId': 381851, 'role': 'referee'}, {'r...</td>\n",
       "      <td>Regular</td>\n",
       "      <td>364</td>\n",
       "      <td>NaN</td>\n",
       "    </tr>\n",
       "    <tr>\n",
       "      <th>2</th>\n",
       "      <td>Played</td>\n",
       "      <td>4405654</td>\n",
       "      <td>38</td>\n",
       "      <td>{'1609': {'scoreET': 0, 'coachId': 7845, 'side...</td>\n",
       "      <td>181150</td>\n",
       "      <td>2018-05-13 14:00:00</td>\n",
       "      <td>1609</td>\n",
       "      <td>The John Smith's Stadium</td>\n",
       "      <td>2500091</td>\n",
       "      <td>Huddersfield Town - Arsenal, 0 - 1</td>\n",
       "      <td>May 13, 2018 at 4:00:00 PM GMT+2</td>\n",
       "      <td>[{'refereeId': 384965, 'role': 'referee'}, {'r...</td>\n",
       "      <td>Regular</td>\n",
       "      <td>364</td>\n",
       "      <td>NaN</td>\n",
       "    </tr>\n",
       "    <tr>\n",
       "      <th>3</th>\n",
       "      <td>Played</td>\n",
       "      <td>4405654</td>\n",
       "      <td>38</td>\n",
       "      <td>{'1651': {'scoreET': 0, 'coachId': 8093, 'side...</td>\n",
       "      <td>181150</td>\n",
       "      <td>2018-05-13 14:00:00</td>\n",
       "      <td>1612</td>\n",
       "      <td>Anfield</td>\n",
       "      <td>2500092</td>\n",
       "      <td>Liverpool - Brighton &amp; Hove Albion, 4 - 0</td>\n",
       "      <td>May 13, 2018 at 4:00:00 PM GMT+2</td>\n",
       "      <td>[{'refereeId': 385704, 'role': 'referee'}, {'r...</td>\n",
       "      <td>Regular</td>\n",
       "      <td>364</td>\n",
       "      <td>NaN</td>\n",
       "    </tr>\n",
       "    <tr>\n",
       "      <th>4</th>\n",
       "      <td>Played</td>\n",
       "      <td>4405654</td>\n",
       "      <td>38</td>\n",
       "      <td>{'1644': {'scoreET': 0, 'coachId': 93112, 'sid...</td>\n",
       "      <td>181150</td>\n",
       "      <td>2018-05-13 14:00:00</td>\n",
       "      <td>1611</td>\n",
       "      <td>Old Trafford</td>\n",
       "      <td>2500093</td>\n",
       "      <td>Manchester United - Watford, 1 - 0</td>\n",
       "      <td>May 13, 2018 at 4:00:00 PM GMT+2</td>\n",
       "      <td>[{'refereeId': 381853, 'role': 'referee'}, {'r...</td>\n",
       "      <td>Regular</td>\n",
       "      <td>364</td>\n",
       "      <td>NaN</td>\n",
       "    </tr>\n",
       "  </tbody>\n",
       "</table>\n",
       "</div>"
      ],
      "text/plain": [
       "   status  roundId  gameweek  \\\n",
       "0  Played  4405654        38   \n",
       "1  Played  4405654        38   \n",
       "2  Played  4405654        38   \n",
       "3  Played  4405654        38   \n",
       "4  Played  4405654        38   \n",
       "\n",
       "                                           teamsData  seasonId  \\\n",
       "0  {'1646': {'scoreET': 0, 'coachId': 8880, 'side...    181150   \n",
       "1  {'1628': {'scoreET': 0, 'coachId': 8357, 'side...    181150   \n",
       "2  {'1609': {'scoreET': 0, 'coachId': 7845, 'side...    181150   \n",
       "3  {'1651': {'scoreET': 0, 'coachId': 8093, 'side...    181150   \n",
       "4  {'1644': {'scoreET': 0, 'coachId': 93112, 'sid...    181150   \n",
       "\n",
       "               dateutc  winner                     venue     wyId  \\\n",
       "0  2018-05-13 14:00:00    1659                 Turf Moor  2500089   \n",
       "1  2018-05-13 14:00:00    1628             Selhurst Park  2500090   \n",
       "2  2018-05-13 14:00:00    1609  The John Smith's Stadium  2500091   \n",
       "3  2018-05-13 14:00:00    1612                   Anfield  2500092   \n",
       "4  2018-05-13 14:00:00    1611              Old Trafford  2500093   \n",
       "\n",
       "                                          label  \\\n",
       "0              Burnley - AFC Bournemouth, 1 - 2   \n",
       "1  Crystal Palace - West Bromwich Albion, 2 - 0   \n",
       "2            Huddersfield Town - Arsenal, 0 - 1   \n",
       "3     Liverpool - Brighton & Hove Albion, 4 - 0   \n",
       "4            Manchester United - Watford, 1 - 0   \n",
       "\n",
       "                               date  \\\n",
       "0  May 13, 2018 at 4:00:00 PM GMT+2   \n",
       "1  May 13, 2018 at 4:00:00 PM GMT+2   \n",
       "2  May 13, 2018 at 4:00:00 PM GMT+2   \n",
       "3  May 13, 2018 at 4:00:00 PM GMT+2   \n",
       "4  May 13, 2018 at 4:00:00 PM GMT+2   \n",
       "\n",
       "                                            referees duration  competitionId  \\\n",
       "0  [{'refereeId': 385705, 'role': 'referee'}, {'r...  Regular            364   \n",
       "1  [{'refereeId': 381851, 'role': 'referee'}, {'r...  Regular            364   \n",
       "2  [{'refereeId': 384965, 'role': 'referee'}, {'r...  Regular            364   \n",
       "3  [{'refereeId': 385704, 'role': 'referee'}, {'r...  Regular            364   \n",
       "4  [{'refereeId': 381853, 'role': 'referee'}, {'r...  Regular            364   \n",
       "\n",
       "  groupName  \n",
       "0       NaN  \n",
       "1       NaN  \n",
       "2       NaN  \n",
       "3       NaN  \n",
       "4       NaN  "
      ]
     },
     "execution_count": 30,
     "metadata": {},
     "output_type": "execute_result"
    }
   ],
   "source": [
    "# Loop through the competition files for the selected competition(s)\n",
    "# Take the separate JSON files each representing a match for the selected competition(s).\n",
    "# The file is called matches_{competition_name}.json.\n",
    "# Read the corresponding JSON matches files using the auxillary function\n",
    "# Read JSON file as a pandas DataFrame\n",
    "# Append the DataFrames to a list\n",
    "# Finally, concatenate all the separate DataFrames into one DataFrame\n",
    "\n",
    "## Create empty list for DataFrames\n",
    "dfs_matches = []\n",
    "\n",
    "## Loop through the competition files for the selected competition(s) and append DataFrame to dfs_matches list\n",
    "for competition in lst_competitions:\n",
    "    competition_name = competition.replace(' ', '_')\n",
    "    file_matches = f'matches_{competition_name}.json'\n",
    "    json_matches = read_json_file(data_dir_wyscout + '/raw/json/matches/' + file_matches)\n",
    "    df_matches = pd.read_json(json_matches)\n",
    "    dfs_matches.append(df_matches)\n",
    "\n",
    "## Concatenate DataFrames to one DataFrame\n",
    "df_matches = pd.concat(dfs_matches)\n",
    "\n",
    "\n",
    "# Display DataFrame\n",
    "df_matches.head()"
   ]
  },
  {
   "cell_type": "code",
   "execution_count": 31,
   "metadata": {},
   "outputs": [
    {
     "data": {
      "text/plain": [
       "(1941, 15)"
      ]
     },
     "execution_count": 31,
     "metadata": {},
     "output_type": "execute_result"
    }
   ],
   "source": [
    "df_matches.shape"
   ]
  },
  {
   "cell_type": "markdown",
   "metadata": {},
   "source": [
    "##### Normalise nested columns"
   ]
  },
  {
   "cell_type": "code",
   "execution_count": 32,
   "metadata": {},
   "outputs": [
    {
     "data": {
      "text/plain": [
       "'\\n# Flatten the nested dictionaries\\ndf_matches_flat = flatten_nested_json_df(df_matches)\\n\\n# Display DataFrame\\ndf_matches_flat.head()\\n'"
      ]
     },
     "execution_count": 32,
     "metadata": {},
     "output_type": "execute_result"
    }
   ],
   "source": [
    "\"\"\"\n",
    "# Flatten the nested dictionaries\n",
    "df_matches_flat = flatten_nested_json_df(df_matches)\n",
    "\n",
    "# Display DataFrame\n",
    "df_matches_flat.head()\n",
    "\"\"\""
   ]
  },
  {
   "cell_type": "code",
   "execution_count": 33,
   "metadata": {},
   "outputs": [],
   "source": [
    "df_matches_flat = df_matches"
   ]
  },
  {
   "cell_type": "code",
   "execution_count": 34,
   "metadata": {},
   "outputs": [
    {
     "data": {
      "text/plain": [
       "(1941, 15)"
      ]
     },
     "execution_count": 34,
     "metadata": {},
     "output_type": "execute_result"
    }
   ],
   "source": [
    "df_matches_flat.shape"
   ]
  },
  {
   "cell_type": "markdown",
   "metadata": {},
   "source": [
    "##### Rename columns"
   ]
  },
  {
   "cell_type": "code",
   "execution_count": 35,
   "metadata": {},
   "outputs": [
    {
     "name": "stderr",
     "output_type": "stream",
     "text": [
      "/opt/anaconda3/lib/python3.7/site-packages/ipykernel_launcher.py:2: FutureWarning: The default value of regex will change from True to False in a future version.\n",
      "  \n"
     ]
    }
   ],
   "source": [
    "# Rename column\n",
    "df_matches_flat.columns = df_matches_flat.columns.str.replace('[.]', '_')"
   ]
  },
  {
   "cell_type": "markdown",
   "metadata": {},
   "source": [
    "##### Streamline the DataFrame\n",
    "The `Matches` data includes a lot of `teamsData` columns that we don't require at this stage and make the DataFrame quite bulky. We will streamline this DataFrame to only include the columns of interest."
   ]
  },
  {
   "cell_type": "code",
   "execution_count": 36,
   "metadata": {},
   "outputs": [
    {
     "data": {
      "text/plain": [
       "Index(['status', 'roundId', 'gameweek', 'teamsData', 'seasonId', 'dateutc',\n",
       "       'winner', 'venue', 'wyId', 'label', 'date', 'referees', 'duration',\n",
       "       'competitionId', 'groupName'],\n",
       "      dtype='object')"
      ]
     },
     "execution_count": 36,
     "metadata": {},
     "output_type": "execute_result"
    }
   ],
   "source": [
    "# Display DataFrame columns\n",
    "df_matches_flat.columns"
   ]
  },
  {
   "cell_type": "code",
   "execution_count": 37,
   "metadata": {},
   "outputs": [],
   "source": [
    "# Select columns of interest\n",
    "cols_matches = ['status',\n",
    "                'roundId',\n",
    "                'gameweek',\n",
    "                'seasonId',\n",
    "                'dateutc',\n",
    "                'winner',\n",
    "                'venue',\n",
    "                'wyId',\n",
    "                'label',\n",
    "                'date',\n",
    "                'referees',\n",
    "                'duration',\n",
    "                'competitionId'\n",
    "               ]\n",
    "\n",
    "# Create more concise DataFrame using only columns of interest\n",
    "df_matches_flat_select = df_matches_flat[cols_matches]"
   ]
  },
  {
   "cell_type": "code",
   "execution_count": 38,
   "metadata": {},
   "outputs": [
    {
     "data": {
      "text/plain": [
       "(1941, 13)"
      ]
     },
     "execution_count": 38,
     "metadata": {},
     "output_type": "execute_result"
    }
   ],
   "source": [
    "df_matches_flat_select.shape"
   ]
  },
  {
   "cell_type": "markdown",
   "metadata": {},
   "source": [
    "##### Export DataFrame"
   ]
  },
  {
   "cell_type": "code",
   "execution_count": 39,
   "metadata": {},
   "outputs": [],
   "source": [
    "# Export DataFrame as a CSV file\n",
    "if not os.path.exists(os.path.join(data_dir_wyscout, 'raw', 'csv', 'matches.csv')):\n",
    "    df_matches_flat.to_csv(os.path.join(data_dir_wyscout, 'raw', 'csv', 'matches.csv'), index=None, header=True)\n",
    "else:\n",
    "    pass"
   ]
  },
  {
   "cell_type": "code",
   "execution_count": 40,
   "metadata": {},
   "outputs": [],
   "source": [
    "# Export DataFrame as a CSV file\n",
    "if not os.path.exists(os.path.join(data_dir_wyscout, 'raw', 'csv', 'matches_select.csv')):\n",
    "    df_matches_flat_select.to_csv(os.path.join(data_dir_wyscout, 'raw', 'csv', 'matches_select.csv'), index=None, header=True)\n",
    "else:\n",
    "    pass"
   ]
  },
  {
   "cell_type": "markdown",
   "metadata": {},
   "source": [
    "####  <a id='#section3.3.4.'>3.3.4. Events</a>\n",
    "The following cells read the `events.json` files for the selected competitions into a `DataFrame` object."
   ]
  },
  {
   "cell_type": "markdown",
   "metadata": {},
   "source": [
    "##### Data Dictionary\n",
    "The [Wyscout](https://wyscout.com/) Events dataset has twelve features (columns) with the following definitions and data types:\n",
    "\n",
    "| Feature     | Data type    |\n",
    "|------|-----|\n",
    "| `eventId`    | int64     |\n",
    "| `subEventName`    | object     |\n",
    "| `tags`    | object     |\n",
    "| `playerId`    | int64     |\n",
    "| `positions`    | object     |\n",
    "| `matchId`    | int64     |\n",
    "| `eventName`    | object     |\n",
    "| `teamId`    | int64     |\n",
    "| `matchPeriod`    | object     |\n",
    "| `eventSec`    | float64     |\n",
    "| `subEventId`    | object     |\n",
    "| `id`    | int64     |\n",
    "\n",
    "Refer to the Wyscout [API docs](https://apidocs.wyscout.com/) and [Events Manual](https://footballdata.wyscout.com/wp-content/uploads/2018/03/Wyscout-Events-Manual.pdf) for further information about event and subevents."
   ]
  },
  {
   "cell_type": "markdown",
   "metadata": {},
   "source": [
    "##### Read JSON files"
   ]
  },
  {
   "cell_type": "code",
   "execution_count": 41,
   "metadata": {
    "scrolled": true
   },
   "outputs": [
    {
     "data": {
      "text/html": [
       "<div>\n",
       "<style scoped>\n",
       "    .dataframe tbody tr th:only-of-type {\n",
       "        vertical-align: middle;\n",
       "    }\n",
       "\n",
       "    .dataframe tbody tr th {\n",
       "        vertical-align: top;\n",
       "    }\n",
       "\n",
       "    .dataframe thead th {\n",
       "        text-align: right;\n",
       "    }\n",
       "</style>\n",
       "<table border=\"1\" class=\"dataframe\">\n",
       "  <thead>\n",
       "    <tr style=\"text-align: right;\">\n",
       "      <th></th>\n",
       "      <th>eventId</th>\n",
       "      <th>subEventName</th>\n",
       "      <th>tags</th>\n",
       "      <th>playerId</th>\n",
       "      <th>positions</th>\n",
       "      <th>matchId</th>\n",
       "      <th>eventName</th>\n",
       "      <th>teamId</th>\n",
       "      <th>matchPeriod</th>\n",
       "      <th>eventSec</th>\n",
       "      <th>subEventId</th>\n",
       "      <th>id</th>\n",
       "    </tr>\n",
       "  </thead>\n",
       "  <tbody>\n",
       "    <tr>\n",
       "      <th>0</th>\n",
       "      <td>8</td>\n",
       "      <td>Simple pass</td>\n",
       "      <td>[{'id': 1801}]</td>\n",
       "      <td>25413</td>\n",
       "      <td>[{'y': 49, 'x': 49}, {'y': 78, 'x': 31}]</td>\n",
       "      <td>2499719</td>\n",
       "      <td>Pass</td>\n",
       "      <td>1609</td>\n",
       "      <td>1H</td>\n",
       "      <td>2.758649</td>\n",
       "      <td>85</td>\n",
       "      <td>177959171</td>\n",
       "    </tr>\n",
       "    <tr>\n",
       "      <th>1</th>\n",
       "      <td>8</td>\n",
       "      <td>High pass</td>\n",
       "      <td>[{'id': 1801}]</td>\n",
       "      <td>370224</td>\n",
       "      <td>[{'y': 78, 'x': 31}, {'y': 75, 'x': 51}]</td>\n",
       "      <td>2499719</td>\n",
       "      <td>Pass</td>\n",
       "      <td>1609</td>\n",
       "      <td>1H</td>\n",
       "      <td>4.946850</td>\n",
       "      <td>83</td>\n",
       "      <td>177959172</td>\n",
       "    </tr>\n",
       "    <tr>\n",
       "      <th>2</th>\n",
       "      <td>8</td>\n",
       "      <td>Head pass</td>\n",
       "      <td>[{'id': 1801}]</td>\n",
       "      <td>3319</td>\n",
       "      <td>[{'y': 75, 'x': 51}, {'y': 71, 'x': 35}]</td>\n",
       "      <td>2499719</td>\n",
       "      <td>Pass</td>\n",
       "      <td>1609</td>\n",
       "      <td>1H</td>\n",
       "      <td>6.542188</td>\n",
       "      <td>82</td>\n",
       "      <td>177959173</td>\n",
       "    </tr>\n",
       "    <tr>\n",
       "      <th>3</th>\n",
       "      <td>8</td>\n",
       "      <td>Head pass</td>\n",
       "      <td>[{'id': 1801}]</td>\n",
       "      <td>120339</td>\n",
       "      <td>[{'y': 71, 'x': 35}, {'y': 95, 'x': 41}]</td>\n",
       "      <td>2499719</td>\n",
       "      <td>Pass</td>\n",
       "      <td>1609</td>\n",
       "      <td>1H</td>\n",
       "      <td>8.143395</td>\n",
       "      <td>82</td>\n",
       "      <td>177959174</td>\n",
       "    </tr>\n",
       "    <tr>\n",
       "      <th>4</th>\n",
       "      <td>8</td>\n",
       "      <td>Simple pass</td>\n",
       "      <td>[{'id': 1801}]</td>\n",
       "      <td>167145</td>\n",
       "      <td>[{'y': 95, 'x': 41}, {'y': 88, 'x': 72}]</td>\n",
       "      <td>2499719</td>\n",
       "      <td>Pass</td>\n",
       "      <td>1609</td>\n",
       "      <td>1H</td>\n",
       "      <td>10.302366</td>\n",
       "      <td>85</td>\n",
       "      <td>177959175</td>\n",
       "    </tr>\n",
       "  </tbody>\n",
       "</table>\n",
       "</div>"
      ],
      "text/plain": [
       "   eventId subEventName            tags  playerId  \\\n",
       "0        8  Simple pass  [{'id': 1801}]     25413   \n",
       "1        8    High pass  [{'id': 1801}]    370224   \n",
       "2        8    Head pass  [{'id': 1801}]      3319   \n",
       "3        8    Head pass  [{'id': 1801}]    120339   \n",
       "4        8  Simple pass  [{'id': 1801}]    167145   \n",
       "\n",
       "                                  positions  matchId eventName  teamId  \\\n",
       "0  [{'y': 49, 'x': 49}, {'y': 78, 'x': 31}]  2499719      Pass    1609   \n",
       "1  [{'y': 78, 'x': 31}, {'y': 75, 'x': 51}]  2499719      Pass    1609   \n",
       "2  [{'y': 75, 'x': 51}, {'y': 71, 'x': 35}]  2499719      Pass    1609   \n",
       "3  [{'y': 71, 'x': 35}, {'y': 95, 'x': 41}]  2499719      Pass    1609   \n",
       "4  [{'y': 95, 'x': 41}, {'y': 88, 'x': 72}]  2499719      Pass    1609   \n",
       "\n",
       "  matchPeriod   eventSec subEventId         id  \n",
       "0          1H   2.758649         85  177959171  \n",
       "1          1H   4.946850         83  177959172  \n",
       "2          1H   6.542188         82  177959173  \n",
       "3          1H   8.143395         82  177959174  \n",
       "4          1H  10.302366         85  177959175  "
      ]
     },
     "execution_count": 41,
     "metadata": {},
     "output_type": "execute_result"
    }
   ],
   "source": [
    "# Loop through the competitions selected\n",
    "# Read the corresponding events JSON files using the auxillary function\n",
    "# Read JSON file as a pandas DataFrame\n",
    "# Group the match events by match_id such that we end up with a separate DataFrame for each individual match\n",
    "# Loop through each of the match DataFrames and read JSON file as a pandas DataFrame\n",
    "# Append the DataFrames to a list\n",
    "# Finally, concatenate all the separate DataFrames into one DataFrame\n",
    "\n",
    "## Create empty list for DataFrames\n",
    "dfs_events = []\n",
    "\n",
    "## Loop through the competition files for the selected competition(s) and append DataFrame to dfs_events list\n",
    "for competition in competitions:\n",
    "    competition_name = competition.replace(' ', '_')\n",
    "    file_events = f'events_{competition_name}.json'\n",
    "    json_events = read_json_file(data_dir_wyscout + '/raw/json/events/' + file_events)\n",
    "    df_events = pd.read_json(json_events)\n",
    "    dfs_events.append(df_events)\n",
    "    #df_events_matches = df_events.groupby('matchId', as_index=False)\n",
    "\n",
    "## Concatenate DataFrames to one DataFrame\n",
    "df_events = pd.concat(dfs_events)\n",
    "\n",
    "\n",
    "# Display DataFrame\n",
    "df_events.head()"
   ]
  },
  {
   "cell_type": "code",
   "execution_count": 42,
   "metadata": {},
   "outputs": [
    {
     "data": {
      "text/plain": [
       "(3251294, 12)"
      ]
     },
     "execution_count": 42,
     "metadata": {},
     "output_type": "execute_result"
    }
   ],
   "source": [
    "df_events.shape"
   ]
  },
  {
   "cell_type": "markdown",
   "metadata": {},
   "source": [
    "##### Normalise nested columns"
   ]
  },
  {
   "cell_type": "code",
   "execution_count": 43,
   "metadata": {},
   "outputs": [
    {
     "data": {
      "text/plain": [
       "'\\n# Flatten the nested dictionaries\\ndf_events_flat = flatten_nested_json_df(df_events)\\n\\n# Display DataFrame\\ndf_events_flat.head()\\n'"
      ]
     },
     "execution_count": 43,
     "metadata": {},
     "output_type": "execute_result"
    }
   ],
   "source": [
    "\"\"\"\n",
    "# Flatten the nested dictionaries\n",
    "df_events_flat = flatten_nested_json_df(df_events)\n",
    "\n",
    "# Display DataFrame\n",
    "df_events_flat.head()\n",
    "\"\"\""
   ]
  },
  {
   "cell_type": "code",
   "execution_count": 44,
   "metadata": {},
   "outputs": [],
   "source": [
    "df_events_flat = df_events"
   ]
  },
  {
   "cell_type": "code",
   "execution_count": 45,
   "metadata": {},
   "outputs": [
    {
     "data": {
      "text/plain": [
       "(3251294, 12)"
      ]
     },
     "execution_count": 45,
     "metadata": {},
     "output_type": "execute_result"
    }
   ],
   "source": [
    "df_events_flat.shape"
   ]
  },
  {
   "cell_type": "markdown",
   "metadata": {},
   "source": [
    "##### Rename columns"
   ]
  },
  {
   "cell_type": "code",
   "execution_count": 46,
   "metadata": {},
   "outputs": [
    {
     "name": "stderr",
     "output_type": "stream",
     "text": [
      "/opt/anaconda3/lib/python3.7/site-packages/ipykernel_launcher.py:2: FutureWarning: The default value of regex will change from True to False in a future version.\n",
      "  \n"
     ]
    }
   ],
   "source": [
    "# Rename column\n",
    "df_events_flat.columns = df_events_flat.columns.str.replace('[.]', '_')"
   ]
  },
  {
   "cell_type": "markdown",
   "metadata": {},
   "source": [
    "##### Separate `positions` column into four individual columns\n",
    "Not the nicest code, but I found issues with the apply function, and this works fine."
   ]
  },
  {
   "cell_type": "code",
   "execution_count": 51,
   "metadata": {},
   "outputs": [
    {
     "name": "stderr",
     "output_type": "stream",
     "text": [
      "/opt/anaconda3/lib/python3.7/site-packages/ipykernel_launcher.py:1: FutureWarning: The default value of regex will change from True to False in a future version. In addition, single character regular expressions will*not* be treated as literal strings when regex=True.\n",
      "  \"\"\"Entry point for launching an IPython kernel.\n",
      "/opt/anaconda3/lib/python3.7/site-packages/ipykernel_launcher.py:2: FutureWarning: The default value of regex will change from True to False in a future version. In addition, single character regular expressions will*not* be treated as literal strings when regex=True.\n",
      "  \n",
      "/opt/anaconda3/lib/python3.7/site-packages/ipykernel_launcher.py:3: FutureWarning: The default value of regex will change from True to False in a future version.\n",
      "  This is separate from the ipykernel package so we can avoid doing imports until\n",
      "/opt/anaconda3/lib/python3.7/site-packages/ipykernel_launcher.py:4: FutureWarning: The default value of regex will change from True to False in a future version.\n",
      "  after removing the cwd from sys.path.\n",
      "/opt/anaconda3/lib/python3.7/site-packages/ipykernel_launcher.py:7: FutureWarning: The default value of regex will change from True to False in a future version. In addition, single character regular expressions will*not* be treated as literal strings when regex=True.\n",
      "  import sys\n"
     ]
    }
   ],
   "source": [
    "\"\"\"\n",
    "# Convert positions column that contains a nested dictionary to a string\n",
    "df_events_flat['positions'] = df_events_flat['positions'].astype(str)\n",
    "\n",
    "# Replace all the values in the dictionary, only leaving coordinates and comma separater\n",
    "df_events_flat['positions'] = df_events_flat['positions'].str.replace('[','')\n",
    "df_events_flat['positions'] = df_events_flat['positions'].str.replace(']','')\n",
    "df_events_flat['positions'] = df_events_flat['positions'].str.replace('}, {',', ')\n",
    "df_events_flat['positions'] = df_events_flat['positions'].str.replace(\"{\\'y\\': \", \"\")\n",
    "df_events_flat['positions'] = df_events_flat['positions'].str.replace(\", 'x': \", \", \")\n",
    "df_events_flat['positions'] = df_events_flat['positions'].str.replace(\", 'y':\", \", \")\n",
    "df_events_flat['positions'] = df_events_flat['positions'].str.replace(\"}\", \"\")\n",
    "\n",
    "df_events_flat[['x_before', 'y_before', 'x_after', 'y_after']] = df_events_flat['positions'].str.split(',', expand=True)\n",
    "\n",
    "\"\"\""
   ]
  },
  {
   "cell_type": "markdown",
   "metadata": {},
   "source": [
    "##### Streamline the DataFrame"
   ]
  },
  {
   "cell_type": "code",
   "execution_count": 48,
   "metadata": {},
   "outputs": [
    {
     "data": {
      "text/plain": [
       "Index(['eventId', 'subEventName', 'tags', 'playerId', 'positions', 'matchId',\n",
       "       'eventName', 'teamId', 'matchPeriod', 'eventSec', 'subEventId', 'id'],\n",
       "      dtype='object')"
      ]
     },
     "execution_count": 48,
     "metadata": {},
     "output_type": "execute_result"
    }
   ],
   "source": [
    "# Display DataFrame columns\n",
    "df_events_flat.columns"
   ]
  },
  {
   "cell_type": "code",
   "execution_count": 49,
   "metadata": {},
   "outputs": [],
   "source": [
    "# Select columns of interest\n",
    "cols_events = ['eventId',\n",
    "               'subEventName',\n",
    "               'playerId',\n",
    "               'positions',\n",
    "               'matchId',\n",
    "               'eventName',\n",
    "               'teamId',\n",
    "               'matchPeriod',\n",
    "               'eventSec',\n",
    "               'subEventId',\n",
    "               'id',\n",
    "               'tags'\n",
    "              ]\n",
    "\n",
    "# Create more concise DataFrame using only columns of interest\n",
    "df_events_flat_select = df_events_flat[cols_events]"
   ]
  },
  {
   "cell_type": "code",
   "execution_count": 50,
   "metadata": {},
   "outputs": [
    {
     "data": {
      "text/plain": [
       "(3251294, 12)"
      ]
     },
     "execution_count": 50,
     "metadata": {},
     "output_type": "execute_result"
    }
   ],
   "source": [
    "df_events_flat_select.shape"
   ]
  },
  {
   "cell_type": "markdown",
   "metadata": {},
   "source": [
    "##### Export DataFrame"
   ]
  },
  {
   "cell_type": "code",
   "execution_count": 51,
   "metadata": {},
   "outputs": [],
   "source": [
    "# Export DataFrame as a CSV file\n",
    "if not os.path.exists(os.path.join(data_dir_wyscout, 'raw', 'csv', 'events.csv')):\n",
    "    df_events_flat.to_csv(os.path.join(data_dir_wyscout, 'raw', 'csv', 'events.csv'), index=None, header=True)\n",
    "else:\n",
    "    pass"
   ]
  },
  {
   "cell_type": "code",
   "execution_count": 52,
   "metadata": {},
   "outputs": [],
   "source": [
    "# Export DataFrame as a CSV file\n",
    "if not os.path.exists(os.path.join(data_dir_wyscout, 'raw', 'csv', 'events_select.csv')):\n",
    "    df_events_flat_select.to_csv(os.path.join(data_dir_wyscout, 'raw', 'csv', 'events_select.csv'), index=None, header=True)\n",
    "else:\n",
    "    pass"
   ]
  },
  {
   "cell_type": "markdown",
   "metadata": {},
   "source": [
    "####  <a id='#section3.3.5'>3.3.5 Competitions</a>"
   ]
  },
  {
   "cell_type": "markdown",
   "metadata": {},
   "source": [
    "##### Data Dictionary\n",
    "The [Wyscout](https://wyscout.com/) Events dataset has twelve features (columns) with the following definitions and data types:\n",
    "\n",
    "| Feature     | Data type    |\n",
    "|------|-----|\n",
    "| `eventId`    | int64     |\n",
    "| `subEventName`    | object     |\n",
    "| `tags`    | object     |\n",
    "| `playerId`    | int64     |\n",
    "| `positions`    | object     |\n",
    "| `matchId`    | int64     |\n",
    "| `eventName`    | object     |\n",
    "| `teamId`    | int64     |\n",
    "| `matchPeriod`    | object     |\n",
    "| `eventSec`    | float64     |\n",
    "| `subEventId`    | object     |\n",
    "| `id`    | int64     |\n",
    "\n",
    "Refer to the Wyscout [API docs](https://apidocs.wyscout.com/) and [Events Manual](https://footballdata.wyscout.com/wp-content/uploads/2018/03/Wyscout-Events-Manual.pdf) for further information about events and subevents."
   ]
  },
  {
   "cell_type": "markdown",
   "metadata": {},
   "source": [
    "##### Read JSON file"
   ]
  },
  {
   "cell_type": "code",
   "execution_count": 53,
   "metadata": {},
   "outputs": [
    {
     "data": {
      "text/html": [
       "<div>\n",
       "<style scoped>\n",
       "    .dataframe tbody tr th:only-of-type {\n",
       "        vertical-align: middle;\n",
       "    }\n",
       "\n",
       "    .dataframe tbody tr th {\n",
       "        vertical-align: top;\n",
       "    }\n",
       "\n",
       "    .dataframe thead th {\n",
       "        text-align: right;\n",
       "    }\n",
       "</style>\n",
       "<table border=\"1\" class=\"dataframe\">\n",
       "  <thead>\n",
       "    <tr style=\"text-align: right;\">\n",
       "      <th></th>\n",
       "      <th>name</th>\n",
       "      <th>wyId</th>\n",
       "      <th>format</th>\n",
       "      <th>area</th>\n",
       "      <th>type</th>\n",
       "    </tr>\n",
       "  </thead>\n",
       "  <tbody>\n",
       "    <tr>\n",
       "      <th>0</th>\n",
       "      <td>Italian first division</td>\n",
       "      <td>524</td>\n",
       "      <td>Domestic league</td>\n",
       "      <td>{'name': 'Italy', 'id': '380', 'alpha3code': '...</td>\n",
       "      <td>club</td>\n",
       "    </tr>\n",
       "    <tr>\n",
       "      <th>1</th>\n",
       "      <td>English first division</td>\n",
       "      <td>364</td>\n",
       "      <td>Domestic league</td>\n",
       "      <td>{'name': 'England', 'id': '0', 'alpha3code': '...</td>\n",
       "      <td>club</td>\n",
       "    </tr>\n",
       "    <tr>\n",
       "      <th>2</th>\n",
       "      <td>Spanish first division</td>\n",
       "      <td>795</td>\n",
       "      <td>Domestic league</td>\n",
       "      <td>{'name': 'Spain', 'id': '724', 'alpha3code': '...</td>\n",
       "      <td>club</td>\n",
       "    </tr>\n",
       "    <tr>\n",
       "      <th>3</th>\n",
       "      <td>French first division</td>\n",
       "      <td>412</td>\n",
       "      <td>Domestic league</td>\n",
       "      <td>{'name': 'France', 'id': '250', 'alpha3code': ...</td>\n",
       "      <td>club</td>\n",
       "    </tr>\n",
       "    <tr>\n",
       "      <th>4</th>\n",
       "      <td>German first division</td>\n",
       "      <td>426</td>\n",
       "      <td>Domestic league</td>\n",
       "      <td>{'name': 'Germany', 'id': '276', 'alpha3code':...</td>\n",
       "      <td>club</td>\n",
       "    </tr>\n",
       "  </tbody>\n",
       "</table>\n",
       "</div>"
      ],
      "text/plain": [
       "                     name  wyId           format  \\\n",
       "0  Italian first division   524  Domestic league   \n",
       "1  English first division   364  Domestic league   \n",
       "2  Spanish first division   795  Domestic league   \n",
       "3   French first division   412  Domestic league   \n",
       "4   German first division   426  Domestic league   \n",
       "\n",
       "                                                area  type  \n",
       "0  {'name': 'Italy', 'id': '380', 'alpha3code': '...  club  \n",
       "1  {'name': 'England', 'id': '0', 'alpha3code': '...  club  \n",
       "2  {'name': 'Spain', 'id': '724', 'alpha3code': '...  club  \n",
       "3  {'name': 'France', 'id': '250', 'alpha3code': ...  club  \n",
       "4  {'name': 'Germany', 'id': '276', 'alpha3code':...  club  "
      ]
     },
     "execution_count": 53,
     "metadata": {},
     "output_type": "execute_result"
    }
   ],
   "source": [
    "# Read JSON file as a JSON string and create a pandas DataFrame form the resulting JSON string\n",
    "json_competitions = read_json_file(data_dir_wyscout + '/raw/json/' + 'competitions.json')\n",
    "df_competitions = pd.read_json(json_competitions)\n",
    "\n",
    "# Display DataFrame\n",
    "df_competitions.head()"
   ]
  },
  {
   "cell_type": "code",
   "execution_count": 54,
   "metadata": {},
   "outputs": [
    {
     "data": {
      "text/plain": [
       "(7, 5)"
      ]
     },
     "execution_count": 54,
     "metadata": {},
     "output_type": "execute_result"
    }
   ],
   "source": [
    "df_competitions.shape"
   ]
  },
  {
   "cell_type": "markdown",
   "metadata": {},
   "source": [
    "##### Normalise nested columns"
   ]
  },
  {
   "cell_type": "code",
   "execution_count": 55,
   "metadata": {},
   "outputs": [
    {
     "name": "stdout",
     "output_type": "stream",
     "text": [
      "original shape: (7, 6)\n",
      "original columns: Index(['index', 'name', 'wyId', 'format', 'area', 'type'], dtype='object')\n",
      "lists: [], dicts: ['area']\n",
      "flattening: area\n",
      "lists: [], dicts: []\n",
      "final shape: (7, 9)\n",
      "final columns: Index(['index', 'name', 'wyId', 'format', 'type', 'area.name', 'area.id',\n",
      "       'area.alpha3code', 'area.alpha2code'],\n",
      "      dtype='object')\n"
     ]
    },
    {
     "data": {
      "text/html": [
       "<div>\n",
       "<style scoped>\n",
       "    .dataframe tbody tr th:only-of-type {\n",
       "        vertical-align: middle;\n",
       "    }\n",
       "\n",
       "    .dataframe tbody tr th {\n",
       "        vertical-align: top;\n",
       "    }\n",
       "\n",
       "    .dataframe thead th {\n",
       "        text-align: right;\n",
       "    }\n",
       "</style>\n",
       "<table border=\"1\" class=\"dataframe\">\n",
       "  <thead>\n",
       "    <tr style=\"text-align: right;\">\n",
       "      <th></th>\n",
       "      <th>index</th>\n",
       "      <th>name</th>\n",
       "      <th>wyId</th>\n",
       "      <th>format</th>\n",
       "      <th>type</th>\n",
       "      <th>area.name</th>\n",
       "      <th>area.id</th>\n",
       "      <th>area.alpha3code</th>\n",
       "      <th>area.alpha2code</th>\n",
       "    </tr>\n",
       "  </thead>\n",
       "  <tbody>\n",
       "    <tr>\n",
       "      <th>0</th>\n",
       "      <td>0</td>\n",
       "      <td>Italian first division</td>\n",
       "      <td>524</td>\n",
       "      <td>Domestic league</td>\n",
       "      <td>club</td>\n",
       "      <td>Italy</td>\n",
       "      <td>380</td>\n",
       "      <td>ITA</td>\n",
       "      <td>IT</td>\n",
       "    </tr>\n",
       "    <tr>\n",
       "      <th>1</th>\n",
       "      <td>1</td>\n",
       "      <td>English first division</td>\n",
       "      <td>364</td>\n",
       "      <td>Domestic league</td>\n",
       "      <td>club</td>\n",
       "      <td>England</td>\n",
       "      <td>0</td>\n",
       "      <td>XEN</td>\n",
       "      <td></td>\n",
       "    </tr>\n",
       "    <tr>\n",
       "      <th>2</th>\n",
       "      <td>2</td>\n",
       "      <td>Spanish first division</td>\n",
       "      <td>795</td>\n",
       "      <td>Domestic league</td>\n",
       "      <td>club</td>\n",
       "      <td>Spain</td>\n",
       "      <td>724</td>\n",
       "      <td>ESP</td>\n",
       "      <td>ES</td>\n",
       "    </tr>\n",
       "    <tr>\n",
       "      <th>3</th>\n",
       "      <td>3</td>\n",
       "      <td>French first division</td>\n",
       "      <td>412</td>\n",
       "      <td>Domestic league</td>\n",
       "      <td>club</td>\n",
       "      <td>France</td>\n",
       "      <td>250</td>\n",
       "      <td>FRA</td>\n",
       "      <td>FR</td>\n",
       "    </tr>\n",
       "    <tr>\n",
       "      <th>4</th>\n",
       "      <td>4</td>\n",
       "      <td>German first division</td>\n",
       "      <td>426</td>\n",
       "      <td>Domestic league</td>\n",
       "      <td>club</td>\n",
       "      <td>Germany</td>\n",
       "      <td>276</td>\n",
       "      <td>DEU</td>\n",
       "      <td>DE</td>\n",
       "    </tr>\n",
       "  </tbody>\n",
       "</table>\n",
       "</div>"
      ],
      "text/plain": [
       "   index                    name  wyId           format  type area.name  \\\n",
       "0      0  Italian first division   524  Domestic league  club     Italy   \n",
       "1      1  English first division   364  Domestic league  club   England   \n",
       "2      2  Spanish first division   795  Domestic league  club     Spain   \n",
       "3      3   French first division   412  Domestic league  club    France   \n",
       "4      4   German first division   426  Domestic league  club   Germany   \n",
       "\n",
       "  area.id area.alpha3code area.alpha2code  \n",
       "0     380             ITA              IT  \n",
       "1       0             XEN                  \n",
       "2     724             ESP              ES  \n",
       "3     250             FRA              FR  \n",
       "4     276             DEU              DE  "
      ]
     },
     "execution_count": 55,
     "metadata": {},
     "output_type": "execute_result"
    }
   ],
   "source": [
    "# Flatten the nested dictionaries\n",
    "df_competitions_flat = flatten_nested_json_df(df_competitions)\n",
    "\n",
    "# Display DataFrame\n",
    "df_competitions_flat.head()"
   ]
  },
  {
   "cell_type": "code",
   "execution_count": 56,
   "metadata": {},
   "outputs": [
    {
     "data": {
      "text/plain": [
       "(7, 9)"
      ]
     },
     "execution_count": 56,
     "metadata": {},
     "output_type": "execute_result"
    }
   ],
   "source": [
    "df_competitions_flat.shape"
   ]
  },
  {
   "cell_type": "markdown",
   "metadata": {},
   "source": [
    "##### Rename columns"
   ]
  },
  {
   "cell_type": "code",
   "execution_count": 57,
   "metadata": {},
   "outputs": [
    {
     "name": "stderr",
     "output_type": "stream",
     "text": [
      "/opt/anaconda3/lib/python3.7/site-packages/ipykernel_launcher.py:2: FutureWarning: The default value of regex will change from True to False in a future version.\n",
      "  \n"
     ]
    }
   ],
   "source": [
    "# Rename column\n",
    "df_competitions_flat.columns = df_competitions_flat.columns.str.replace('[.]', '_')"
   ]
  },
  {
   "cell_type": "markdown",
   "metadata": {},
   "source": [
    "##### Streamline the DataFrame"
   ]
  },
  {
   "cell_type": "code",
   "execution_count": 58,
   "metadata": {},
   "outputs": [
    {
     "data": {
      "text/plain": [
       "Index(['index', 'name', 'wyId', 'format', 'type', 'area_name', 'area_id',\n",
       "       'area_alpha3code', 'area_alpha2code'],\n",
       "      dtype='object')"
      ]
     },
     "execution_count": 58,
     "metadata": {},
     "output_type": "execute_result"
    }
   ],
   "source": [
    "# Display DataFrame columns\n",
    "df_competitions_flat.columns"
   ]
  },
  {
   "cell_type": "code",
   "execution_count": 59,
   "metadata": {},
   "outputs": [],
   "source": [
    "# Select columns of interest\n",
    "cols_competitions = ['wyId',\n",
    "                     'area_name'\n",
    "                    ]\n",
    "\n",
    "# Create more concise DataFrame using only columns of interest\n",
    "df_competitions_flat_select = df_competitions_flat[cols_competitions]"
   ]
  },
  {
   "cell_type": "code",
   "execution_count": 60,
   "metadata": {},
   "outputs": [
    {
     "data": {
      "text/plain": [
       "(7, 2)"
      ]
     },
     "execution_count": 60,
     "metadata": {},
     "output_type": "execute_result"
    }
   ],
   "source": [
    "df_competitions_flat_select.shape"
   ]
  },
  {
   "cell_type": "markdown",
   "metadata": {},
   "source": [
    "##### Export DataFrame"
   ]
  },
  {
   "cell_type": "code",
   "execution_count": 61,
   "metadata": {},
   "outputs": [],
   "source": [
    "# Export DataFrame as a CSV file\n",
    "if not os.path.exists(os.path.join(data_dir_wyscout, 'raw', 'csv', 'competitions.csv')):\n",
    "    df_competitions_flat.to_csv(os.path.join(data_dir_wyscout, 'raw', 'csv', 'competitions.csv'), index=None, header=True)\n",
    "else:\n",
    "    pass"
   ]
  },
  {
   "cell_type": "code",
   "execution_count": 62,
   "metadata": {},
   "outputs": [],
   "source": [
    "# Export DataFrame as a CSV file\n",
    "if not os.path.exists(os.path.join(data_dir_wyscout, 'raw', 'csv', 'competitions_select.csv')):\n",
    "    df_competitions_flat_select.to_csv(os.path.join(data_dir_wyscout, 'raw', 'csv', 'competitions_select.csv'), index=None, header=True)\n",
    "else:\n",
    "    pass"
   ]
  },
  {
   "cell_type": "markdown",
   "metadata": {},
   "source": [
    "### <a id='#section3.4'>3.4. Join Datasets</a>\n",
    "Next, we're required to join the `Matches` DataFrame and the `Players` DataFrame to the `Events` DatFrame. The `Events` data is the base DataFrame in which we join the other tables via `wyId`, `matchId`, `competitionId`, `playerId`, and `teamId`."
   ]
  },
  {
   "cell_type": "markdown",
   "metadata": {},
   "source": [
    "##### Join Matches DataFrame to Events DataFrame"
   ]
  },
  {
   "cell_type": "code",
   "execution_count": 63,
   "metadata": {},
   "outputs": [],
   "source": [
    "# Join the Events DataFrame to the Matches DataFrame\n",
    "df_wyscout_merge = pd.merge(df_events_flat_select, df_matches_flat_select, left_on='matchId', right_on='wyId')"
   ]
  },
  {
   "cell_type": "code",
   "execution_count": 64,
   "metadata": {},
   "outputs": [
    {
     "data": {
      "text/plain": [
       "(3251294, 12)"
      ]
     },
     "execution_count": 64,
     "metadata": {},
     "output_type": "execute_result"
    }
   ],
   "source": [
    "df_events_flat_select.shape"
   ]
  },
  {
   "cell_type": "code",
   "execution_count": 65,
   "metadata": {},
   "outputs": [
    {
     "data": {
      "text/plain": [
       "(3251294, 25)"
      ]
     },
     "execution_count": 65,
     "metadata": {},
     "output_type": "execute_result"
    }
   ],
   "source": [
    "df_wyscout_merge.shape"
   ]
  },
  {
   "cell_type": "markdown",
   "metadata": {},
   "source": [
    "##### Join Competitions DataFrame to Merged DataFrame via Events DataFrame"
   ]
  },
  {
   "cell_type": "code",
   "execution_count": 66,
   "metadata": {},
   "outputs": [],
   "source": [
    "# Join the Competitions DataFrame to the Events-Matches DataFrame\n",
    "df_wyscout_merge = pd.merge(df_wyscout_merge, df_competitions_flat_select, left_on='competitionId', right_on='wyId')"
   ]
  },
  {
   "cell_type": "code",
   "execution_count": 67,
   "metadata": {},
   "outputs": [
    {
     "data": {
      "text/plain": [
       "(3251294, 27)"
      ]
     },
     "execution_count": 67,
     "metadata": {},
     "output_type": "execute_result"
    }
   ],
   "source": [
    "df_wyscout_merge.shape"
   ]
  },
  {
   "cell_type": "markdown",
   "metadata": {},
   "source": [
    "##### Join Players DataFrame to Merged DataFrame via Events DataFrame"
   ]
  },
  {
   "cell_type": "code",
   "execution_count": 68,
   "metadata": {},
   "outputs": [],
   "source": [
    "# Join the Players DataFrame to the Events-Matches-Competitions DataFrame\n",
    "df_wyscout_merge = pd.merge(df_wyscout_merge, df_players_flat_select, left_on='playerId', right_on='wyId')"
   ]
  },
  {
   "cell_type": "code",
   "execution_count": 69,
   "metadata": {},
   "outputs": [
    {
     "data": {
      "text/plain": [
       "(3025256, 39)"
      ]
     },
     "execution_count": 69,
     "metadata": {},
     "output_type": "execute_result"
    }
   ],
   "source": [
    "df_wyscout_merge.shape"
   ]
  },
  {
   "cell_type": "markdown",
   "metadata": {},
   "source": [
    "##### Join Teams DataFrame to Merged DataFrame via Events DataFrame"
   ]
  },
  {
   "cell_type": "code",
   "execution_count": 70,
   "metadata": {},
   "outputs": [],
   "source": [
    "# Join the Players DataFrame to the Events-Matches-Players DataFrame\n",
    "df_wyscout_merge = pd.merge(df_wyscout_merge, df_teams_flat_select, left_on='teamId', right_on='wyId')"
   ]
  },
  {
   "cell_type": "code",
   "execution_count": 71,
   "metadata": {},
   "outputs": [
    {
     "data": {
      "text/plain": [
       "(3025256, 41)"
      ]
     },
     "execution_count": 71,
     "metadata": {},
     "output_type": "execute_result"
    }
   ],
   "source": [
    "df_wyscout_merge.shape"
   ]
  },
  {
   "cell_type": "markdown",
   "metadata": {},
   "source": [
    "### <a id='#section3.5'>3.5. Initial Data Handling</a>\n",
    "Let's quality of the dataset by looking first and last rows in pandas using the [head()](https://pandas.pydata.org/pandas-docs/stable/reference/api/pandas.DataFrame.head.html) and [tail()](https://pandas.pydata.org/pandas-docs/stable/reference/api/pandas.DataFrame.tail.html) methods."
   ]
  },
  {
   "cell_type": "code",
   "execution_count": 72,
   "metadata": {},
   "outputs": [
    {
     "data": {
      "text/html": [
       "<div>\n",
       "<style scoped>\n",
       "    .dataframe tbody tr th:only-of-type {\n",
       "        vertical-align: middle;\n",
       "    }\n",
       "\n",
       "    .dataframe tbody tr th {\n",
       "        vertical-align: top;\n",
       "    }\n",
       "\n",
       "    .dataframe thead th {\n",
       "        text-align: right;\n",
       "    }\n",
       "</style>\n",
       "<table border=\"1\" class=\"dataframe\">\n",
       "  <thead>\n",
       "    <tr style=\"text-align: right;\">\n",
       "      <th></th>\n",
       "      <th>eventId</th>\n",
       "      <th>subEventName</th>\n",
       "      <th>playerId</th>\n",
       "      <th>positions</th>\n",
       "      <th>matchId</th>\n",
       "      <th>eventName</th>\n",
       "      <th>teamId</th>\n",
       "      <th>matchPeriod</th>\n",
       "      <th>eventSec</th>\n",
       "      <th>subEventId</th>\n",
       "      <th>id</th>\n",
       "      <th>tags</th>\n",
       "      <th>status</th>\n",
       "      <th>roundId</th>\n",
       "      <th>gameweek</th>\n",
       "      <th>seasonId</th>\n",
       "      <th>dateutc</th>\n",
       "      <th>winner</th>\n",
       "      <th>venue</th>\n",
       "      <th>wyId_x</th>\n",
       "      <th>label</th>\n",
       "      <th>date</th>\n",
       "      <th>referees</th>\n",
       "      <th>duration</th>\n",
       "      <th>competitionId</th>\n",
       "      <th>wyId_y</th>\n",
       "      <th>area_name</th>\n",
       "      <th>weight</th>\n",
       "      <th>firstName</th>\n",
       "      <th>middleName</th>\n",
       "      <th>lastName</th>\n",
       "      <th>birthDate</th>\n",
       "      <th>height</th>\n",
       "      <th>wyId_x</th>\n",
       "      <th>foot</th>\n",
       "      <th>shortName</th>\n",
       "      <th>passportArea_name</th>\n",
       "      <th>role_name</th>\n",
       "      <th>birthArea_name</th>\n",
       "      <th>name</th>\n",
       "      <th>wyId_y</th>\n",
       "    </tr>\n",
       "  </thead>\n",
       "  <tbody>\n",
       "    <tr>\n",
       "      <th>0</th>\n",
       "      <td>8</td>\n",
       "      <td>Simple pass</td>\n",
       "      <td>25413</td>\n",
       "      <td>[{'y': 49, 'x': 49}, {'y': 78, 'x': 31}]</td>\n",
       "      <td>2499719</td>\n",
       "      <td>Pass</td>\n",
       "      <td>1609</td>\n",
       "      <td>1H</td>\n",
       "      <td>2.758649</td>\n",
       "      <td>85</td>\n",
       "      <td>177959171</td>\n",
       "      <td>[{'id': 1801}]</td>\n",
       "      <td>Played</td>\n",
       "      <td>4405654</td>\n",
       "      <td>1</td>\n",
       "      <td>181150</td>\n",
       "      <td>2017-08-11 18:45:00</td>\n",
       "      <td>1609</td>\n",
       "      <td>Emirates Stadium</td>\n",
       "      <td>2499719</td>\n",
       "      <td>Arsenal - Leicester City, 4 - 3</td>\n",
       "      <td>August 11, 2017 at 8:45:00 PM GMT+2</td>\n",
       "      <td>[{'refereeId': 385909, 'role': 'referee'}, {'r...</td>\n",
       "      <td>Regular</td>\n",
       "      <td>364</td>\n",
       "      <td>364</td>\n",
       "      <td>England</td>\n",
       "      <td>73</td>\n",
       "      <td>Alexandre</td>\n",
       "      <td></td>\n",
       "      <td>Lacazette</td>\n",
       "      <td>1991-05-28</td>\n",
       "      <td>175</td>\n",
       "      <td>25413</td>\n",
       "      <td>right</td>\n",
       "      <td>A. Lacazette</td>\n",
       "      <td>Guadeloupe</td>\n",
       "      <td>Forward</td>\n",
       "      <td>France</td>\n",
       "      <td>Arsenal</td>\n",
       "      <td>1609</td>\n",
       "    </tr>\n",
       "    <tr>\n",
       "      <th>1</th>\n",
       "      <td>1</td>\n",
       "      <td>Air duel</td>\n",
       "      <td>25413</td>\n",
       "      <td>[{'y': 54, 'x': 71}, {'y': 59, 'x': 50}]</td>\n",
       "      <td>2499719</td>\n",
       "      <td>Duel</td>\n",
       "      <td>1609</td>\n",
       "      <td>1H</td>\n",
       "      <td>22.551816</td>\n",
       "      <td>10</td>\n",
       "      <td>177959181</td>\n",
       "      <td>[{'id': 701}, {'id': 1802}]</td>\n",
       "      <td>Played</td>\n",
       "      <td>4405654</td>\n",
       "      <td>1</td>\n",
       "      <td>181150</td>\n",
       "      <td>2017-08-11 18:45:00</td>\n",
       "      <td>1609</td>\n",
       "      <td>Emirates Stadium</td>\n",
       "      <td>2499719</td>\n",
       "      <td>Arsenal - Leicester City, 4 - 3</td>\n",
       "      <td>August 11, 2017 at 8:45:00 PM GMT+2</td>\n",
       "      <td>[{'refereeId': 385909, 'role': 'referee'}, {'r...</td>\n",
       "      <td>Regular</td>\n",
       "      <td>364</td>\n",
       "      <td>364</td>\n",
       "      <td>England</td>\n",
       "      <td>73</td>\n",
       "      <td>Alexandre</td>\n",
       "      <td></td>\n",
       "      <td>Lacazette</td>\n",
       "      <td>1991-05-28</td>\n",
       "      <td>175</td>\n",
       "      <td>25413</td>\n",
       "      <td>right</td>\n",
       "      <td>A. Lacazette</td>\n",
       "      <td>Guadeloupe</td>\n",
       "      <td>Forward</td>\n",
       "      <td>France</td>\n",
       "      <td>Arsenal</td>\n",
       "      <td>1609</td>\n",
       "    </tr>\n",
       "    <tr>\n",
       "      <th>2</th>\n",
       "      <td>10</td>\n",
       "      <td>Shot</td>\n",
       "      <td>25413</td>\n",
       "      <td>[{'y': 41, 'x': 88}, {'y': 0, 'x': 0}]</td>\n",
       "      <td>2499719</td>\n",
       "      <td>Shot</td>\n",
       "      <td>1609</td>\n",
       "      <td>1H</td>\n",
       "      <td>94.595788</td>\n",
       "      <td>100</td>\n",
       "      <td>177959212</td>\n",
       "      <td>[{'id': 101}, {'id': 402}, {'id': 201}, {'id':...</td>\n",
       "      <td>Played</td>\n",
       "      <td>4405654</td>\n",
       "      <td>1</td>\n",
       "      <td>181150</td>\n",
       "      <td>2017-08-11 18:45:00</td>\n",
       "      <td>1609</td>\n",
       "      <td>Emirates Stadium</td>\n",
       "      <td>2499719</td>\n",
       "      <td>Arsenal - Leicester City, 4 - 3</td>\n",
       "      <td>August 11, 2017 at 8:45:00 PM GMT+2</td>\n",
       "      <td>[{'refereeId': 385909, 'role': 'referee'}, {'r...</td>\n",
       "      <td>Regular</td>\n",
       "      <td>364</td>\n",
       "      <td>364</td>\n",
       "      <td>England</td>\n",
       "      <td>73</td>\n",
       "      <td>Alexandre</td>\n",
       "      <td></td>\n",
       "      <td>Lacazette</td>\n",
       "      <td>1991-05-28</td>\n",
       "      <td>175</td>\n",
       "      <td>25413</td>\n",
       "      <td>right</td>\n",
       "      <td>A. Lacazette</td>\n",
       "      <td>Guadeloupe</td>\n",
       "      <td>Forward</td>\n",
       "      <td>France</td>\n",
       "      <td>Arsenal</td>\n",
       "      <td>1609</td>\n",
       "    </tr>\n",
       "    <tr>\n",
       "      <th>3</th>\n",
       "      <td>8</td>\n",
       "      <td>Head pass</td>\n",
       "      <td>25413</td>\n",
       "      <td>[{'y': 70, 'x': 71}, {'y': 63, 'x': 71}]</td>\n",
       "      <td>2499719</td>\n",
       "      <td>Pass</td>\n",
       "      <td>1609</td>\n",
       "      <td>1H</td>\n",
       "      <td>397.881307</td>\n",
       "      <td>82</td>\n",
       "      <td>177959276</td>\n",
       "      <td>[{'id': 1802}]</td>\n",
       "      <td>Played</td>\n",
       "      <td>4405654</td>\n",
       "      <td>1</td>\n",
       "      <td>181150</td>\n",
       "      <td>2017-08-11 18:45:00</td>\n",
       "      <td>1609</td>\n",
       "      <td>Emirates Stadium</td>\n",
       "      <td>2499719</td>\n",
       "      <td>Arsenal - Leicester City, 4 - 3</td>\n",
       "      <td>August 11, 2017 at 8:45:00 PM GMT+2</td>\n",
       "      <td>[{'refereeId': 385909, 'role': 'referee'}, {'r...</td>\n",
       "      <td>Regular</td>\n",
       "      <td>364</td>\n",
       "      <td>364</td>\n",
       "      <td>England</td>\n",
       "      <td>73</td>\n",
       "      <td>Alexandre</td>\n",
       "      <td></td>\n",
       "      <td>Lacazette</td>\n",
       "      <td>1991-05-28</td>\n",
       "      <td>175</td>\n",
       "      <td>25413</td>\n",
       "      <td>right</td>\n",
       "      <td>A. Lacazette</td>\n",
       "      <td>Guadeloupe</td>\n",
       "      <td>Forward</td>\n",
       "      <td>France</td>\n",
       "      <td>Arsenal</td>\n",
       "      <td>1609</td>\n",
       "    </tr>\n",
       "    <tr>\n",
       "      <th>4</th>\n",
       "      <td>1</td>\n",
       "      <td>Ground defending duel</td>\n",
       "      <td>25413</td>\n",
       "      <td>[{'y': 64, 'x': 61}, {'y': 87, 'x': 51}]</td>\n",
       "      <td>2499719</td>\n",
       "      <td>Duel</td>\n",
       "      <td>1609</td>\n",
       "      <td>1H</td>\n",
       "      <td>494.461238</td>\n",
       "      <td>12</td>\n",
       "      <td>177959303</td>\n",
       "      <td>[{'id': 503}, {'id': 701}, {'id': 1802}]</td>\n",
       "      <td>Played</td>\n",
       "      <td>4405654</td>\n",
       "      <td>1</td>\n",
       "      <td>181150</td>\n",
       "      <td>2017-08-11 18:45:00</td>\n",
       "      <td>1609</td>\n",
       "      <td>Emirates Stadium</td>\n",
       "      <td>2499719</td>\n",
       "      <td>Arsenal - Leicester City, 4 - 3</td>\n",
       "      <td>August 11, 2017 at 8:45:00 PM GMT+2</td>\n",
       "      <td>[{'refereeId': 385909, 'role': 'referee'}, {'r...</td>\n",
       "      <td>Regular</td>\n",
       "      <td>364</td>\n",
       "      <td>364</td>\n",
       "      <td>England</td>\n",
       "      <td>73</td>\n",
       "      <td>Alexandre</td>\n",
       "      <td></td>\n",
       "      <td>Lacazette</td>\n",
       "      <td>1991-05-28</td>\n",
       "      <td>175</td>\n",
       "      <td>25413</td>\n",
       "      <td>right</td>\n",
       "      <td>A. Lacazette</td>\n",
       "      <td>Guadeloupe</td>\n",
       "      <td>Forward</td>\n",
       "      <td>France</td>\n",
       "      <td>Arsenal</td>\n",
       "      <td>1609</td>\n",
       "    </tr>\n",
       "  </tbody>\n",
       "</table>\n",
       "</div>"
      ],
      "text/plain": [
       "   eventId           subEventName  playerId  \\\n",
       "0        8            Simple pass     25413   \n",
       "1        1               Air duel     25413   \n",
       "2       10                   Shot     25413   \n",
       "3        8              Head pass     25413   \n",
       "4        1  Ground defending duel     25413   \n",
       "\n",
       "                                  positions  matchId eventName  teamId  \\\n",
       "0  [{'y': 49, 'x': 49}, {'y': 78, 'x': 31}]  2499719      Pass    1609   \n",
       "1  [{'y': 54, 'x': 71}, {'y': 59, 'x': 50}]  2499719      Duel    1609   \n",
       "2    [{'y': 41, 'x': 88}, {'y': 0, 'x': 0}]  2499719      Shot    1609   \n",
       "3  [{'y': 70, 'x': 71}, {'y': 63, 'x': 71}]  2499719      Pass    1609   \n",
       "4  [{'y': 64, 'x': 61}, {'y': 87, 'x': 51}]  2499719      Duel    1609   \n",
       "\n",
       "  matchPeriod    eventSec subEventId         id  \\\n",
       "0          1H    2.758649         85  177959171   \n",
       "1          1H   22.551816         10  177959181   \n",
       "2          1H   94.595788        100  177959212   \n",
       "3          1H  397.881307         82  177959276   \n",
       "4          1H  494.461238         12  177959303   \n",
       "\n",
       "                                                tags  status  roundId  \\\n",
       "0                                     [{'id': 1801}]  Played  4405654   \n",
       "1                        [{'id': 701}, {'id': 1802}]  Played  4405654   \n",
       "2  [{'id': 101}, {'id': 402}, {'id': 201}, {'id':...  Played  4405654   \n",
       "3                                     [{'id': 1802}]  Played  4405654   \n",
       "4           [{'id': 503}, {'id': 701}, {'id': 1802}]  Played  4405654   \n",
       "\n",
       "   gameweek  seasonId              dateutc  winner             venue   wyId_x  \\\n",
       "0         1    181150  2017-08-11 18:45:00    1609  Emirates Stadium  2499719   \n",
       "1         1    181150  2017-08-11 18:45:00    1609  Emirates Stadium  2499719   \n",
       "2         1    181150  2017-08-11 18:45:00    1609  Emirates Stadium  2499719   \n",
       "3         1    181150  2017-08-11 18:45:00    1609  Emirates Stadium  2499719   \n",
       "4         1    181150  2017-08-11 18:45:00    1609  Emirates Stadium  2499719   \n",
       "\n",
       "                             label                                 date  \\\n",
       "0  Arsenal - Leicester City, 4 - 3  August 11, 2017 at 8:45:00 PM GMT+2   \n",
       "1  Arsenal - Leicester City, 4 - 3  August 11, 2017 at 8:45:00 PM GMT+2   \n",
       "2  Arsenal - Leicester City, 4 - 3  August 11, 2017 at 8:45:00 PM GMT+2   \n",
       "3  Arsenal - Leicester City, 4 - 3  August 11, 2017 at 8:45:00 PM GMT+2   \n",
       "4  Arsenal - Leicester City, 4 - 3  August 11, 2017 at 8:45:00 PM GMT+2   \n",
       "\n",
       "                                            referees duration  competitionId  \\\n",
       "0  [{'refereeId': 385909, 'role': 'referee'}, {'r...  Regular            364   \n",
       "1  [{'refereeId': 385909, 'role': 'referee'}, {'r...  Regular            364   \n",
       "2  [{'refereeId': 385909, 'role': 'referee'}, {'r...  Regular            364   \n",
       "3  [{'refereeId': 385909, 'role': 'referee'}, {'r...  Regular            364   \n",
       "4  [{'refereeId': 385909, 'role': 'referee'}, {'r...  Regular            364   \n",
       "\n",
       "   wyId_y area_name  weight  firstName middleName   lastName   birthDate  \\\n",
       "0     364   England      73  Alexandre             Lacazette  1991-05-28   \n",
       "1     364   England      73  Alexandre             Lacazette  1991-05-28   \n",
       "2     364   England      73  Alexandre             Lacazette  1991-05-28   \n",
       "3     364   England      73  Alexandre             Lacazette  1991-05-28   \n",
       "4     364   England      73  Alexandre             Lacazette  1991-05-28   \n",
       "\n",
       "   height  wyId_x   foot     shortName passportArea_name role_name  \\\n",
       "0     175   25413  right  A. Lacazette        Guadeloupe   Forward   \n",
       "1     175   25413  right  A. Lacazette        Guadeloupe   Forward   \n",
       "2     175   25413  right  A. Lacazette        Guadeloupe   Forward   \n",
       "3     175   25413  right  A. Lacazette        Guadeloupe   Forward   \n",
       "4     175   25413  right  A. Lacazette        Guadeloupe   Forward   \n",
       "\n",
       "  birthArea_name     name  wyId_y  \n",
       "0         France  Arsenal    1609  \n",
       "1         France  Arsenal    1609  \n",
       "2         France  Arsenal    1609  \n",
       "3         France  Arsenal    1609  \n",
       "4         France  Arsenal    1609  "
      ]
     },
     "execution_count": 72,
     "metadata": {},
     "output_type": "execute_result"
    }
   ],
   "source": [
    "# Display the first 5 rows of the raw DataFrame, df_wyscout_merge\n",
    "df_wyscout_merge.head()"
   ]
  },
  {
   "cell_type": "code",
   "execution_count": 73,
   "metadata": {},
   "outputs": [
    {
     "data": {
      "text/html": [
       "<div>\n",
       "<style scoped>\n",
       "    .dataframe tbody tr th:only-of-type {\n",
       "        vertical-align: middle;\n",
       "    }\n",
       "\n",
       "    .dataframe tbody tr th {\n",
       "        vertical-align: top;\n",
       "    }\n",
       "\n",
       "    .dataframe thead th {\n",
       "        text-align: right;\n",
       "    }\n",
       "</style>\n",
       "<table border=\"1\" class=\"dataframe\">\n",
       "  <thead>\n",
       "    <tr style=\"text-align: right;\">\n",
       "      <th></th>\n",
       "      <th>eventId</th>\n",
       "      <th>subEventName</th>\n",
       "      <th>playerId</th>\n",
       "      <th>positions</th>\n",
       "      <th>matchId</th>\n",
       "      <th>eventName</th>\n",
       "      <th>teamId</th>\n",
       "      <th>matchPeriod</th>\n",
       "      <th>eventSec</th>\n",
       "      <th>subEventId</th>\n",
       "      <th>id</th>\n",
       "      <th>tags</th>\n",
       "      <th>status</th>\n",
       "      <th>roundId</th>\n",
       "      <th>gameweek</th>\n",
       "      <th>seasonId</th>\n",
       "      <th>dateutc</th>\n",
       "      <th>winner</th>\n",
       "      <th>venue</th>\n",
       "      <th>wyId_x</th>\n",
       "      <th>label</th>\n",
       "      <th>date</th>\n",
       "      <th>referees</th>\n",
       "      <th>duration</th>\n",
       "      <th>competitionId</th>\n",
       "      <th>wyId_y</th>\n",
       "      <th>area_name</th>\n",
       "      <th>weight</th>\n",
       "      <th>firstName</th>\n",
       "      <th>middleName</th>\n",
       "      <th>lastName</th>\n",
       "      <th>birthDate</th>\n",
       "      <th>height</th>\n",
       "      <th>wyId_x</th>\n",
       "      <th>foot</th>\n",
       "      <th>shortName</th>\n",
       "      <th>passportArea_name</th>\n",
       "      <th>role_name</th>\n",
       "      <th>birthArea_name</th>\n",
       "      <th>name</th>\n",
       "      <th>wyId_y</th>\n",
       "    </tr>\n",
       "  </thead>\n",
       "  <tbody>\n",
       "    <tr>\n",
       "      <th>3025251</th>\n",
       "      <td>8</td>\n",
       "      <td>Simple pass</td>\n",
       "      <td>116293</td>\n",
       "      <td>[{'y': 72, 'x': 30}, {'y': 64, 'x': 42}]</td>\n",
       "      <td>2057995</td>\n",
       "      <td>Pass</td>\n",
       "      <td>17929</td>\n",
       "      <td>2H</td>\n",
       "      <td>2242.045496</td>\n",
       "      <td>85</td>\n",
       "      <td>260874786</td>\n",
       "      <td>[{'id': 1801}]</td>\n",
       "      <td>Played</td>\n",
       "      <td>4165363</td>\n",
       "      <td>3</td>\n",
       "      <td>10078</td>\n",
       "      <td>2018-06-28 18:00:00</td>\n",
       "      <td>16276</td>\n",
       "      <td>Mordovia Arena</td>\n",
       "      <td>2057995</td>\n",
       "      <td>Panama - Tunisia, 1 - 2</td>\n",
       "      <td>2018-06-28 20:00:00-02:00</td>\n",
       "      <td>[{'refereeId': 380581, 'role': 'referee'}, {'r...</td>\n",
       "      <td>Regular</td>\n",
       "      <td>28</td>\n",
       "      <td>28</td>\n",
       "      <td></td>\n",
       "      <td>84</td>\n",
       "      <td>Harold Oshkaly</td>\n",
       "      <td></td>\n",
       "      <td>Cummings Segura</td>\n",
       "      <td>1992-03-01</td>\n",
       "      <td>180</td>\n",
       "      <td>116293</td>\n",
       "      <td>right</td>\n",
       "      <td>H. Cummings</td>\n",
       "      <td>Panama</td>\n",
       "      <td>Defender</td>\n",
       "      <td>Panama</td>\n",
       "      <td>Panama</td>\n",
       "      <td>17929</td>\n",
       "    </tr>\n",
       "    <tr>\n",
       "      <th>3025252</th>\n",
       "      <td>1</td>\n",
       "      <td>Ground attacking duel</td>\n",
       "      <td>116293</td>\n",
       "      <td>[{'y': 73, 'x': 37}, {'y': 48, 'x': 28}]</td>\n",
       "      <td>2057995</td>\n",
       "      <td>Duel</td>\n",
       "      <td>17929</td>\n",
       "      <td>2H</td>\n",
       "      <td>2501.224726</td>\n",
       "      <td>11</td>\n",
       "      <td>260874815</td>\n",
       "      <td>[{'id': 504}, {'id': 703}, {'id': 1801}]</td>\n",
       "      <td>Played</td>\n",
       "      <td>4165363</td>\n",
       "      <td>3</td>\n",
       "      <td>10078</td>\n",
       "      <td>2018-06-28 18:00:00</td>\n",
       "      <td>16276</td>\n",
       "      <td>Mordovia Arena</td>\n",
       "      <td>2057995</td>\n",
       "      <td>Panama - Tunisia, 1 - 2</td>\n",
       "      <td>2018-06-28 20:00:00-02:00</td>\n",
       "      <td>[{'refereeId': 380581, 'role': 'referee'}, {'r...</td>\n",
       "      <td>Regular</td>\n",
       "      <td>28</td>\n",
       "      <td>28</td>\n",
       "      <td></td>\n",
       "      <td>84</td>\n",
       "      <td>Harold Oshkaly</td>\n",
       "      <td></td>\n",
       "      <td>Cummings Segura</td>\n",
       "      <td>1992-03-01</td>\n",
       "      <td>180</td>\n",
       "      <td>116293</td>\n",
       "      <td>right</td>\n",
       "      <td>H. Cummings</td>\n",
       "      <td>Panama</td>\n",
       "      <td>Defender</td>\n",
       "      <td>Panama</td>\n",
       "      <td>Panama</td>\n",
       "      <td>17929</td>\n",
       "    </tr>\n",
       "    <tr>\n",
       "      <th>3025253</th>\n",
       "      <td>1</td>\n",
       "      <td>Air duel</td>\n",
       "      <td>116293</td>\n",
       "      <td>[{'y': 70, 'x': 33}, {'y': 81, 'x': 23}]</td>\n",
       "      <td>2057995</td>\n",
       "      <td>Duel</td>\n",
       "      <td>17929</td>\n",
       "      <td>2H</td>\n",
       "      <td>2693.694869</td>\n",
       "      <td>10</td>\n",
       "      <td>260874832</td>\n",
       "      <td>[{'id': 701}, {'id': 1802}]</td>\n",
       "      <td>Played</td>\n",
       "      <td>4165363</td>\n",
       "      <td>3</td>\n",
       "      <td>10078</td>\n",
       "      <td>2018-06-28 18:00:00</td>\n",
       "      <td>16276</td>\n",
       "      <td>Mordovia Arena</td>\n",
       "      <td>2057995</td>\n",
       "      <td>Panama - Tunisia, 1 - 2</td>\n",
       "      <td>2018-06-28 20:00:00-02:00</td>\n",
       "      <td>[{'refereeId': 380581, 'role': 'referee'}, {'r...</td>\n",
       "      <td>Regular</td>\n",
       "      <td>28</td>\n",
       "      <td>28</td>\n",
       "      <td></td>\n",
       "      <td>84</td>\n",
       "      <td>Harold Oshkaly</td>\n",
       "      <td></td>\n",
       "      <td>Cummings Segura</td>\n",
       "      <td>1992-03-01</td>\n",
       "      <td>180</td>\n",
       "      <td>116293</td>\n",
       "      <td>right</td>\n",
       "      <td>H. Cummings</td>\n",
       "      <td>Panama</td>\n",
       "      <td>Defender</td>\n",
       "      <td>Panama</td>\n",
       "      <td>Panama</td>\n",
       "      <td>17929</td>\n",
       "    </tr>\n",
       "    <tr>\n",
       "      <th>3025254</th>\n",
       "      <td>8</td>\n",
       "      <td>Simple pass</td>\n",
       "      <td>116293</td>\n",
       "      <td>[{'y': 52, 'x': 39}, {'y': 33, 'x': 39}]</td>\n",
       "      <td>2057995</td>\n",
       "      <td>Pass</td>\n",
       "      <td>17929</td>\n",
       "      <td>2H</td>\n",
       "      <td>2784.257941</td>\n",
       "      <td>85</td>\n",
       "      <td>260874843</td>\n",
       "      <td>[{'id': 1801}]</td>\n",
       "      <td>Played</td>\n",
       "      <td>4165363</td>\n",
       "      <td>3</td>\n",
       "      <td>10078</td>\n",
       "      <td>2018-06-28 18:00:00</td>\n",
       "      <td>16276</td>\n",
       "      <td>Mordovia Arena</td>\n",
       "      <td>2057995</td>\n",
       "      <td>Panama - Tunisia, 1 - 2</td>\n",
       "      <td>2018-06-28 20:00:00-02:00</td>\n",
       "      <td>[{'refereeId': 380581, 'role': 'referee'}, {'r...</td>\n",
       "      <td>Regular</td>\n",
       "      <td>28</td>\n",
       "      <td>28</td>\n",
       "      <td></td>\n",
       "      <td>84</td>\n",
       "      <td>Harold Oshkaly</td>\n",
       "      <td></td>\n",
       "      <td>Cummings Segura</td>\n",
       "      <td>1992-03-01</td>\n",
       "      <td>180</td>\n",
       "      <td>116293</td>\n",
       "      <td>right</td>\n",
       "      <td>H. Cummings</td>\n",
       "      <td>Panama</td>\n",
       "      <td>Defender</td>\n",
       "      <td>Panama</td>\n",
       "      <td>Panama</td>\n",
       "      <td>17929</td>\n",
       "    </tr>\n",
       "    <tr>\n",
       "      <th>3025255</th>\n",
       "      <td>8</td>\n",
       "      <td>High pass</td>\n",
       "      <td>116293</td>\n",
       "      <td>[{'y': 65, 'x': 35}, {'y': 82, 'x': 69}]</td>\n",
       "      <td>2057995</td>\n",
       "      <td>Pass</td>\n",
       "      <td>17929</td>\n",
       "      <td>2H</td>\n",
       "      <td>2792.161774</td>\n",
       "      <td>83</td>\n",
       "      <td>260874845</td>\n",
       "      <td>[{'id': 1802}]</td>\n",
       "      <td>Played</td>\n",
       "      <td>4165363</td>\n",
       "      <td>3</td>\n",
       "      <td>10078</td>\n",
       "      <td>2018-06-28 18:00:00</td>\n",
       "      <td>16276</td>\n",
       "      <td>Mordovia Arena</td>\n",
       "      <td>2057995</td>\n",
       "      <td>Panama - Tunisia, 1 - 2</td>\n",
       "      <td>2018-06-28 20:00:00-02:00</td>\n",
       "      <td>[{'refereeId': 380581, 'role': 'referee'}, {'r...</td>\n",
       "      <td>Regular</td>\n",
       "      <td>28</td>\n",
       "      <td>28</td>\n",
       "      <td></td>\n",
       "      <td>84</td>\n",
       "      <td>Harold Oshkaly</td>\n",
       "      <td></td>\n",
       "      <td>Cummings Segura</td>\n",
       "      <td>1992-03-01</td>\n",
       "      <td>180</td>\n",
       "      <td>116293</td>\n",
       "      <td>right</td>\n",
       "      <td>H. Cummings</td>\n",
       "      <td>Panama</td>\n",
       "      <td>Defender</td>\n",
       "      <td>Panama</td>\n",
       "      <td>Panama</td>\n",
       "      <td>17929</td>\n",
       "    </tr>\n",
       "  </tbody>\n",
       "</table>\n",
       "</div>"
      ],
      "text/plain": [
       "         eventId           subEventName  playerId  \\\n",
       "3025251        8            Simple pass    116293   \n",
       "3025252        1  Ground attacking duel    116293   \n",
       "3025253        1               Air duel    116293   \n",
       "3025254        8            Simple pass    116293   \n",
       "3025255        8              High pass    116293   \n",
       "\n",
       "                                        positions  matchId eventName  teamId  \\\n",
       "3025251  [{'y': 72, 'x': 30}, {'y': 64, 'x': 42}]  2057995      Pass   17929   \n",
       "3025252  [{'y': 73, 'x': 37}, {'y': 48, 'x': 28}]  2057995      Duel   17929   \n",
       "3025253  [{'y': 70, 'x': 33}, {'y': 81, 'x': 23}]  2057995      Duel   17929   \n",
       "3025254  [{'y': 52, 'x': 39}, {'y': 33, 'x': 39}]  2057995      Pass   17929   \n",
       "3025255  [{'y': 65, 'x': 35}, {'y': 82, 'x': 69}]  2057995      Pass   17929   \n",
       "\n",
       "        matchPeriod     eventSec subEventId         id  \\\n",
       "3025251          2H  2242.045496         85  260874786   \n",
       "3025252          2H  2501.224726         11  260874815   \n",
       "3025253          2H  2693.694869         10  260874832   \n",
       "3025254          2H  2784.257941         85  260874843   \n",
       "3025255          2H  2792.161774         83  260874845   \n",
       "\n",
       "                                             tags  status  roundId  gameweek  \\\n",
       "3025251                            [{'id': 1801}]  Played  4165363         3   \n",
       "3025252  [{'id': 504}, {'id': 703}, {'id': 1801}]  Played  4165363         3   \n",
       "3025253               [{'id': 701}, {'id': 1802}]  Played  4165363         3   \n",
       "3025254                            [{'id': 1801}]  Played  4165363         3   \n",
       "3025255                            [{'id': 1802}]  Played  4165363         3   \n",
       "\n",
       "         seasonId              dateutc  winner           venue   wyId_x  \\\n",
       "3025251     10078  2018-06-28 18:00:00   16276  Mordovia Arena  2057995   \n",
       "3025252     10078  2018-06-28 18:00:00   16276  Mordovia Arena  2057995   \n",
       "3025253     10078  2018-06-28 18:00:00   16276  Mordovia Arena  2057995   \n",
       "3025254     10078  2018-06-28 18:00:00   16276  Mordovia Arena  2057995   \n",
       "3025255     10078  2018-06-28 18:00:00   16276  Mordovia Arena  2057995   \n",
       "\n",
       "                           label                       date  \\\n",
       "3025251  Panama - Tunisia, 1 - 2  2018-06-28 20:00:00-02:00   \n",
       "3025252  Panama - Tunisia, 1 - 2  2018-06-28 20:00:00-02:00   \n",
       "3025253  Panama - Tunisia, 1 - 2  2018-06-28 20:00:00-02:00   \n",
       "3025254  Panama - Tunisia, 1 - 2  2018-06-28 20:00:00-02:00   \n",
       "3025255  Panama - Tunisia, 1 - 2  2018-06-28 20:00:00-02:00   \n",
       "\n",
       "                                                  referees duration  \\\n",
       "3025251  [{'refereeId': 380581, 'role': 'referee'}, {'r...  Regular   \n",
       "3025252  [{'refereeId': 380581, 'role': 'referee'}, {'r...  Regular   \n",
       "3025253  [{'refereeId': 380581, 'role': 'referee'}, {'r...  Regular   \n",
       "3025254  [{'refereeId': 380581, 'role': 'referee'}, {'r...  Regular   \n",
       "3025255  [{'refereeId': 380581, 'role': 'referee'}, {'r...  Regular   \n",
       "\n",
       "         competitionId  wyId_y area_name  weight       firstName middleName  \\\n",
       "3025251             28      28                84  Harold Oshkaly              \n",
       "3025252             28      28                84  Harold Oshkaly              \n",
       "3025253             28      28                84  Harold Oshkaly              \n",
       "3025254             28      28                84  Harold Oshkaly              \n",
       "3025255             28      28                84  Harold Oshkaly              \n",
       "\n",
       "                lastName   birthDate  height  wyId_x   foot    shortName  \\\n",
       "3025251  Cummings Segura  1992-03-01     180  116293  right  H. Cummings   \n",
       "3025252  Cummings Segura  1992-03-01     180  116293  right  H. Cummings   \n",
       "3025253  Cummings Segura  1992-03-01     180  116293  right  H. Cummings   \n",
       "3025254  Cummings Segura  1992-03-01     180  116293  right  H. Cummings   \n",
       "3025255  Cummings Segura  1992-03-01     180  116293  right  H. Cummings   \n",
       "\n",
       "        passportArea_name role_name birthArea_name    name  wyId_y  \n",
       "3025251            Panama  Defender         Panama  Panama   17929  \n",
       "3025252            Panama  Defender         Panama  Panama   17929  \n",
       "3025253            Panama  Defender         Panama  Panama   17929  \n",
       "3025254            Panama  Defender         Panama  Panama   17929  \n",
       "3025255            Panama  Defender         Panama  Panama   17929  "
      ]
     },
     "execution_count": 73,
     "metadata": {},
     "output_type": "execute_result"
    }
   ],
   "source": [
    "# Display the last 5 rows of the raw DataFrame, df_wyscout_merge\n",
    "df_wyscout_merge.tail()"
   ]
  },
  {
   "cell_type": "code",
   "execution_count": 74,
   "metadata": {},
   "outputs": [
    {
     "name": "stdout",
     "output_type": "stream",
     "text": [
      "(3025256, 41)\n"
     ]
    }
   ],
   "source": [
    "# Print the shape of the raw DataFrame, df_wyscout_merge\n",
    "print(df_wyscout_merge.shape)"
   ]
  },
  {
   "cell_type": "code",
   "execution_count": 75,
   "metadata": {},
   "outputs": [
    {
     "name": "stdout",
     "output_type": "stream",
     "text": [
      "Index(['eventId', 'subEventName', 'playerId', 'positions', 'matchId',\n",
      "       'eventName', 'teamId', 'matchPeriod', 'eventSec', 'subEventId', 'id',\n",
      "       'tags', 'status', 'roundId', 'gameweek', 'seasonId', 'dateutc',\n",
      "       'winner', 'venue', 'wyId_x', 'label', 'date', 'referees', 'duration',\n",
      "       'competitionId', 'wyId_y', 'area_name', 'weight', 'firstName',\n",
      "       'middleName', 'lastName', 'birthDate', 'height', 'wyId_x', 'foot',\n",
      "       'shortName', 'passportArea_name', 'role_name', 'birthArea_name', 'name',\n",
      "       'wyId_y'],\n",
      "      dtype='object')\n"
     ]
    }
   ],
   "source": [
    "# Print the column names of the raw DataFrame, df_wyscout_merge\n",
    "print(df_wyscout_merge.columns)"
   ]
  },
  {
   "cell_type": "markdown",
   "metadata": {},
   "source": [
    "The joined dataset has forty features (columns). Full details of these attributes can be found in the [Data Dictionary](section3.3.1)."
   ]
  },
  {
   "cell_type": "code",
   "execution_count": 76,
   "metadata": {},
   "outputs": [
    {
     "data": {
      "text/plain": [
       "eventId                int64\n",
       "subEventName          object\n",
       "playerId               int64\n",
       "positions             object\n",
       "matchId                int64\n",
       "eventName             object\n",
       "teamId                 int64\n",
       "matchPeriod           object\n",
       "eventSec             float64\n",
       "subEventId            object\n",
       "id                     int64\n",
       "tags                  object\n",
       "status                object\n",
       "roundId                int64\n",
       "gameweek               int64\n",
       "seasonId               int64\n",
       "dateutc               object\n",
       "winner                 int64\n",
       "venue                 object\n",
       "wyId_x                 int64\n",
       "label                 object\n",
       "date                  object\n",
       "referees              object\n",
       "duration              object\n",
       "competitionId          int64\n",
       "wyId_y                 int64\n",
       "area_name             object\n",
       "weight                 int64\n",
       "firstName             object\n",
       "middleName            object\n",
       "lastName              object\n",
       "birthDate             object\n",
       "height                 int64\n",
       "wyId_x                 int64\n",
       "foot                  object\n",
       "shortName             object\n",
       "passportArea_name     object\n",
       "role_name             object\n",
       "birthArea_name        object\n",
       "name                  object\n",
       "wyId_y                 int64\n",
       "dtype: object"
      ]
     },
     "execution_count": 76,
     "metadata": {},
     "output_type": "execute_result"
    }
   ],
   "source": [
    "# Data types of the features of the raw DataFrame, df_wyscout_merge\n",
    "df_wyscout_merge.dtypes"
   ]
  },
  {
   "cell_type": "markdown",
   "metadata": {},
   "source": [
    "Full details of these attributes and their data types can be found in the [Data Dictionary](section3.3.1)."
   ]
  },
  {
   "cell_type": "code",
   "execution_count": 77,
   "metadata": {},
   "outputs": [
    {
     "name": "stdout",
     "output_type": "stream",
     "text": [
      "<class 'pandas.core.frame.DataFrame'>\n",
      "Int64Index: 3025256 entries, 0 to 3025255\n",
      "Data columns (total 41 columns):\n",
      " #   Column             Dtype  \n",
      "---  ------             -----  \n",
      " 0   eventId            int64  \n",
      " 1   subEventName       object \n",
      " 2   playerId           int64  \n",
      " 3   positions          object \n",
      " 4   matchId            int64  \n",
      " 5   eventName          object \n",
      " 6   teamId             int64  \n",
      " 7   matchPeriod        object \n",
      " 8   eventSec           float64\n",
      " 9   subEventId         object \n",
      " 10  id                 int64  \n",
      " 11  tags               object \n",
      " 12  status             object \n",
      " 13  roundId            int64  \n",
      " 14  gameweek           int64  \n",
      " 15  seasonId           int64  \n",
      " 16  dateutc            object \n",
      " 17  winner             int64  \n",
      " 18  venue              object \n",
      " 19  wyId_x             int64  \n",
      " 20  label              object \n",
      " 21  date               object \n",
      " 22  referees           object \n",
      " 23  duration           object \n",
      " 24  competitionId      int64  \n",
      " 25  wyId_y             int64  \n",
      " 26  area_name          object \n",
      " 27  weight             int64  \n",
      " 28  firstName          object \n",
      " 29  middleName         object \n",
      " 30  lastName           object \n",
      " 31  birthDate          object \n",
      " 32  height             int64  \n",
      " 33  wyId_x             int64  \n",
      " 34  foot               object \n",
      " 35  shortName          object \n",
      " 36  passportArea_name  object \n",
      " 37  role_name          object \n",
      " 38  birthArea_name     object \n",
      " 39  name               object \n",
      " 40  wyId_y             int64  \n",
      "dtypes: float64(1), int64(16), object(24)\n",
      "memory usage: 969.4+ MB\n"
     ]
    }
   ],
   "source": [
    "# Info for the raw DataFrame, df_wyscout_merge\n",
    "df_wyscout_merge.info()"
   ]
  },
  {
   "cell_type": "code",
   "execution_count": 78,
   "metadata": {},
   "outputs": [
    {
     "data": {
      "text/html": [
       "<div>\n",
       "<style scoped>\n",
       "    .dataframe tbody tr th:only-of-type {\n",
       "        vertical-align: middle;\n",
       "    }\n",
       "\n",
       "    .dataframe tbody tr th {\n",
       "        vertical-align: top;\n",
       "    }\n",
       "\n",
       "    .dataframe thead th {\n",
       "        text-align: right;\n",
       "    }\n",
       "</style>\n",
       "<table border=\"1\" class=\"dataframe\">\n",
       "  <thead>\n",
       "    <tr style=\"text-align: right;\">\n",
       "      <th></th>\n",
       "      <th>eventId</th>\n",
       "      <th>playerId</th>\n",
       "      <th>matchId</th>\n",
       "      <th>teamId</th>\n",
       "      <th>eventSec</th>\n",
       "      <th>id</th>\n",
       "      <th>roundId</th>\n",
       "      <th>gameweek</th>\n",
       "      <th>seasonId</th>\n",
       "      <th>winner</th>\n",
       "      <th>wyId_x</th>\n",
       "      <th>competitionId</th>\n",
       "      <th>wyId_y</th>\n",
       "      <th>weight</th>\n",
       "      <th>height</th>\n",
       "      <th>wyId_x</th>\n",
       "      <th>wyId_y</th>\n",
       "    </tr>\n",
       "  </thead>\n",
       "  <tbody>\n",
       "    <tr>\n",
       "      <th>count</th>\n",
       "      <td>3.025256e+06</td>\n",
       "      <td>3.025256e+06</td>\n",
       "      <td>3.025256e+06</td>\n",
       "      <td>3.025256e+06</td>\n",
       "      <td>3.025256e+06</td>\n",
       "      <td>3.025256e+06</td>\n",
       "      <td>3.025256e+06</td>\n",
       "      <td>3.025256e+06</td>\n",
       "      <td>3.025256e+06</td>\n",
       "      <td>3.025256e+06</td>\n",
       "      <td>3.025256e+06</td>\n",
       "      <td>3.025256e+06</td>\n",
       "      <td>3.025256e+06</td>\n",
       "      <td>3.025256e+06</td>\n",
       "      <td>3.025256e+06</td>\n",
       "      <td>3.025256e+06</td>\n",
       "      <td>3.025256e+06</td>\n",
       "    </tr>\n",
       "    <tr>\n",
       "      <th>mean</th>\n",
       "      <td>5.694230e+00</td>\n",
       "      <td>8.953778e+04</td>\n",
       "      <td>2.494932e+06</td>\n",
       "      <td>3.004373e+03</td>\n",
       "      <td>1.390728e+03</td>\n",
       "      <td>2.158336e+08</td>\n",
       "      <td>4.391560e+06</td>\n",
       "      <td>1.815116e+01</td>\n",
       "      <td>1.709805e+05</td>\n",
       "      <td>2.317237e+03</td>\n",
       "      <td>2.494932e+06</td>\n",
       "      <td>4.797790e+02</td>\n",
       "      <td>4.797790e+02</td>\n",
       "      <td>7.622714e+01</td>\n",
       "      <td>1.820490e+02</td>\n",
       "      <td>8.953778e+04</td>\n",
       "      <td>3.004373e+03</td>\n",
       "    </tr>\n",
       "    <tr>\n",
       "      <th>std</th>\n",
       "      <td>3.141030e+00</td>\n",
       "      <td>1.169272e+05</td>\n",
       "      <td>1.591746e+05</td>\n",
       "      <td>2.925207e+03</td>\n",
       "      <td>8.347843e+02</td>\n",
       "      <td>3.023051e+07</td>\n",
       "      <td>5.686541e+04</td>\n",
       "      <td>1.126545e+01</td>\n",
       "      <td>4.054451e+04</td>\n",
       "      <td>3.021050e+03</td>\n",
       "      <td>1.591746e+05</td>\n",
       "      <td>1.845044e+02</td>\n",
       "      <td>1.845044e+02</td>\n",
       "      <td>7.149052e+00</td>\n",
       "      <td>7.032542e+00</td>\n",
       "      <td>1.169272e+05</td>\n",
       "      <td>2.925207e+03</td>\n",
       "    </tr>\n",
       "    <tr>\n",
       "      <th>min</th>\n",
       "      <td>1.000000e+00</td>\n",
       "      <td>1.200000e+01</td>\n",
       "      <td>1.694390e+06</td>\n",
       "      <td>6.740000e+02</td>\n",
       "      <td>0.000000e+00</td>\n",
       "      <td>8.817864e+07</td>\n",
       "      <td>4.165363e+06</td>\n",
       "      <td>0.000000e+00</td>\n",
       "      <td>9.291000e+03</td>\n",
       "      <td>0.000000e+00</td>\n",
       "      <td>1.694390e+06</td>\n",
       "      <td>2.800000e+01</td>\n",
       "      <td>2.800000e+01</td>\n",
       "      <td>0.000000e+00</td>\n",
       "      <td>0.000000e+00</td>\n",
       "      <td>1.200000e+01</td>\n",
       "      <td>6.740000e+02</td>\n",
       "    </tr>\n",
       "    <tr>\n",
       "      <th>25%</th>\n",
       "      <td>1.000000e+00</td>\n",
       "      <td>9.380000e+03</td>\n",
       "      <td>2.500086e+06</td>\n",
       "      <td>1.619000e+03</td>\n",
       "      <td>6.608105e+02</td>\n",
       "      <td>1.988861e+08</td>\n",
       "      <td>4.405654e+06</td>\n",
       "      <td>8.000000e+00</td>\n",
       "      <td>1.811440e+05</td>\n",
       "      <td>6.740000e+02</td>\n",
       "      <td>2.500086e+06</td>\n",
       "      <td>3.640000e+02</td>\n",
       "      <td>3.640000e+02</td>\n",
       "      <td>7.200000e+01</td>\n",
       "      <td>1.780000e+02</td>\n",
       "      <td>9.380000e+03</td>\n",
       "      <td>1.619000e+03</td>\n",
       "    </tr>\n",
       "    <tr>\n",
       "      <th>50%</th>\n",
       "      <td>8.000000e+00</td>\n",
       "      <td>2.562300e+04</td>\n",
       "      <td>2.516836e+06</td>\n",
       "      <td>2.460000e+03</td>\n",
       "      <td>1.374896e+03</td>\n",
       "      <td>2.191298e+08</td>\n",
       "      <td>4.405655e+06</td>\n",
       "      <td>1.800000e+01</td>\n",
       "      <td>1.811500e+05</td>\n",
       "      <td>1.633000e+03</td>\n",
       "      <td>2.516836e+06</td>\n",
       "      <td>4.260000e+02</td>\n",
       "      <td>4.260000e+02</td>\n",
       "      <td>7.600000e+01</td>\n",
       "      <td>1.820000e+02</td>\n",
       "      <td>2.562300e+04</td>\n",
       "      <td>2.460000e+03</td>\n",
       "    </tr>\n",
       "    <tr>\n",
       "      <th>75%</th>\n",
       "      <td>8.000000e+00</td>\n",
       "      <td>1.345420e+05</td>\n",
       "      <td>2.565827e+06</td>\n",
       "      <td>3.766000e+03</td>\n",
       "      <td>2.109554e+03</td>\n",
       "      <td>2.352463e+08</td>\n",
       "      <td>4.406122e+06</td>\n",
       "      <td>2.800000e+01</td>\n",
       "      <td>1.811890e+05</td>\n",
       "      <td>3.173000e+03</td>\n",
       "      <td>2.565827e+06</td>\n",
       "      <td>5.240000e+02</td>\n",
       "      <td>5.240000e+02</td>\n",
       "      <td>8.100000e+01</td>\n",
       "      <td>1.870000e+02</td>\n",
       "      <td>1.345420e+05</td>\n",
       "      <td>3.766000e+03</td>\n",
       "    </tr>\n",
       "    <tr>\n",
       "      <th>max</th>\n",
       "      <td>1.000000e+01</td>\n",
       "      <td>5.685830e+05</td>\n",
       "      <td>2.576338e+06</td>\n",
       "      <td>1.983000e+04</td>\n",
       "      <td>3.537356e+03</td>\n",
       "      <td>2.802175e+08</td>\n",
       "      <td>4.406278e+06</td>\n",
       "      <td>3.800000e+01</td>\n",
       "      <td>1.812480e+05</td>\n",
       "      <td>1.983000e+04</td>\n",
       "      <td>2.576338e+06</td>\n",
       "      <td>7.950000e+02</td>\n",
       "      <td>7.950000e+02</td>\n",
       "      <td>1.010000e+02</td>\n",
       "      <td>2.030000e+02</td>\n",
       "      <td>5.685830e+05</td>\n",
       "      <td>1.983000e+04</td>\n",
       "    </tr>\n",
       "  </tbody>\n",
       "</table>\n",
       "</div>"
      ],
      "text/plain": [
       "            eventId      playerId       matchId        teamId      eventSec  \\\n",
       "count  3.025256e+06  3.025256e+06  3.025256e+06  3.025256e+06  3.025256e+06   \n",
       "mean   5.694230e+00  8.953778e+04  2.494932e+06  3.004373e+03  1.390728e+03   \n",
       "std    3.141030e+00  1.169272e+05  1.591746e+05  2.925207e+03  8.347843e+02   \n",
       "min    1.000000e+00  1.200000e+01  1.694390e+06  6.740000e+02  0.000000e+00   \n",
       "25%    1.000000e+00  9.380000e+03  2.500086e+06  1.619000e+03  6.608105e+02   \n",
       "50%    8.000000e+00  2.562300e+04  2.516836e+06  2.460000e+03  1.374896e+03   \n",
       "75%    8.000000e+00  1.345420e+05  2.565827e+06  3.766000e+03  2.109554e+03   \n",
       "max    1.000000e+01  5.685830e+05  2.576338e+06  1.983000e+04  3.537356e+03   \n",
       "\n",
       "                 id       roundId      gameweek      seasonId        winner  \\\n",
       "count  3.025256e+06  3.025256e+06  3.025256e+06  3.025256e+06  3.025256e+06   \n",
       "mean   2.158336e+08  4.391560e+06  1.815116e+01  1.709805e+05  2.317237e+03   \n",
       "std    3.023051e+07  5.686541e+04  1.126545e+01  4.054451e+04  3.021050e+03   \n",
       "min    8.817864e+07  4.165363e+06  0.000000e+00  9.291000e+03  0.000000e+00   \n",
       "25%    1.988861e+08  4.405654e+06  8.000000e+00  1.811440e+05  6.740000e+02   \n",
       "50%    2.191298e+08  4.405655e+06  1.800000e+01  1.811500e+05  1.633000e+03   \n",
       "75%    2.352463e+08  4.406122e+06  2.800000e+01  1.811890e+05  3.173000e+03   \n",
       "max    2.802175e+08  4.406278e+06  3.800000e+01  1.812480e+05  1.983000e+04   \n",
       "\n",
       "             wyId_x  competitionId        wyId_y        weight        height  \\\n",
       "count  3.025256e+06   3.025256e+06  3.025256e+06  3.025256e+06  3.025256e+06   \n",
       "mean   2.494932e+06   4.797790e+02  4.797790e+02  7.622714e+01  1.820490e+02   \n",
       "std    1.591746e+05   1.845044e+02  1.845044e+02  7.149052e+00  7.032542e+00   \n",
       "min    1.694390e+06   2.800000e+01  2.800000e+01  0.000000e+00  0.000000e+00   \n",
       "25%    2.500086e+06   3.640000e+02  3.640000e+02  7.200000e+01  1.780000e+02   \n",
       "50%    2.516836e+06   4.260000e+02  4.260000e+02  7.600000e+01  1.820000e+02   \n",
       "75%    2.565827e+06   5.240000e+02  5.240000e+02  8.100000e+01  1.870000e+02   \n",
       "max    2.576338e+06   7.950000e+02  7.950000e+02  1.010000e+02  2.030000e+02   \n",
       "\n",
       "             wyId_x        wyId_y  \n",
       "count  3.025256e+06  3.025256e+06  \n",
       "mean   8.953778e+04  3.004373e+03  \n",
       "std    1.169272e+05  2.925207e+03  \n",
       "min    1.200000e+01  6.740000e+02  \n",
       "25%    9.380000e+03  1.619000e+03  \n",
       "50%    2.562300e+04  2.460000e+03  \n",
       "75%    1.345420e+05  3.766000e+03  \n",
       "max    5.685830e+05  1.983000e+04  "
      ]
     },
     "execution_count": 78,
     "metadata": {},
     "output_type": "execute_result"
    }
   ],
   "source": [
    "# Description of the raw DataFrame, df_wyscout_merge, showing some summary statistics for each numberical column in the DataFrame\n",
    "df_wyscout_merge.describe()"
   ]
  },
  {
   "cell_type": "code",
   "execution_count": 79,
   "metadata": {},
   "outputs": [
    {
     "data": {
      "text/plain": [
       "<AxesSubplot:>"
      ]
     },
     "execution_count": 79,
     "metadata": {},
     "output_type": "execute_result"
    },
    {
     "data": {
      "image/png": "[encoded data removed]",
      "text/plain": [
       "<Figure size 2160x504 with 2 Axes>"
      ]
     },
     "metadata": {},
     "output_type": "display_data"
    }
   ],
   "source": [
    "# Plot visualisation of the missing values for each feature of the raw DataFrame, df_wyscout_merge\n",
    "msno.matrix(df_wyscout_merge, figsize = (30, 7))"
   ]
  },
  {
   "cell_type": "code",
   "execution_count": 80,
   "metadata": {},
   "outputs": [
    {
     "data": {
      "text/plain": [
       "Series([], dtype: int64)"
      ]
     },
     "execution_count": 80,
     "metadata": {},
     "output_type": "execute_result"
    }
   ],
   "source": [
    "# Counts of missing values\n",
    "null_value_stats = df_wyscout_merge.isnull().sum(axis=0)\n",
    "null_value_stats[null_value_stats != 0]"
   ]
  },
  {
   "cell_type": "markdown",
   "metadata": {},
   "source": [
    "The visualisation shows us that there are no missing values in the DataFrame."
   ]
  },
  {
   "cell_type": "markdown",
   "metadata": {},
   "source": [
    "---\n",
    "\n",
    "## <a id='#section4'>4. Data Engineering</a>\n",
    "Before any Feature Engineering or Data Visualisation, we first need to clean and wrangle the datasets to a form that meet our needs."
   ]
  },
  {
   "cell_type": "markdown",
   "metadata": {},
   "source": [
    "### <a id='#section4.1'>4.1. Sort DataFrame</a>\n",
    "Sort data by `matchId`, `matchPeriod`, and `eventSec`. Important for when determining previous events. which are attributes created for the DataFrame in the Data Engineering notebook."
   ]
  },
  {
   "cell_type": "code",
   "execution_count": 81,
   "metadata": {},
   "outputs": [],
   "source": [
    "# Sort data by matchId, matchPeriod, and eventSec\n",
    "df_wyscout_merge = df_wyscout_merge.sort_values(['matchId', 'matchPeriod', 'eventSec'])"
   ]
  },
  {
   "cell_type": "markdown",
   "metadata": {},
   "source": [
    "---\n",
    "\n",
    "## <a id='#section5'>5. Export Data</a>\n",
    "Export Data ready for data engineering in the subsequent notebooks."
   ]
  },
  {
   "cell_type": "code",
   "execution_count": 82,
   "metadata": {},
   "outputs": [],
   "source": [
    "# Export Shots DataFrame as CSV\n",
    "if not os.path.exists(os.path.join(data_dir_wyscout, 'raw', 'csv', 'combined', 'wyscout_big5_combined.csv')):\n",
    "    df_wyscout_merge.to_csv(os.path.join(data_dir_wyscout, 'raw', 'csv', 'combined', 'wyscout_big5_combined.csv'), index=None, header=True)\n",
    "else:\n",
    "    pass"
   ]
  },
  {
   "cell_type": "markdown",
   "metadata": {},
   "source": [
    "---\n",
    "\n",
    "## <a id='#section6'>6. Summary</a>\n",
    "This notebook parses Wyscout data using [pandas](http://pandas.pydata.org/) for data manipulation through DataFrames."
   ]
  },
  {
   "cell_type": "markdown",
   "metadata": {},
   "source": [
    "---\n",
    "\n",
    "## <a id='#section7'>7. Next Steps</a>\n",
    "The step is to take the parsed dataset created in this notebook and engineer the data for new features, which is carrired out in the follow [Data Engineering](https://nbviewer.jupyter.org/github/eddwebster/football_analytics/blob/master/notebooks/3_data_engineering/Wyscout%20Data%20Engineering.ipynb) notebook. This data is then ready for use in projects including Expected Goals (xG) models and Tableau visualisations."
   ]
  },
  {
   "cell_type": "markdown",
   "metadata": {},
   "source": [
    "---\n",
    "\n",
    "## <a id='#section8'>8. References</a>\n",
    "*    Data Engineering notebook: https://nbviewer.jupyter.org/github/eddwebster/football_analytics/blob/master/notebooks/3_data_engineering/Wyscout%20Data%20Engineering.ipynb\n",
    "*    Wyscout: https://wyscout.com/\n",
    "*    Wyscout Events data manual: https://footballdata.wyscout.com/events-manual/\n",
    "*    Pappalardo, Luca; Massucco, Emanuele (2019): Soccer match event dataset. figshare. Collection. https://doi.org/10.6084/m9.figshare.c.4415000.v5\n",
    "*    Pappalardo, L., Cintia, P., Rossi, A. et al. **A public data set of spatio-temporal match events in soccer competitions**. Scientific Data 6, 236 (2019) doi:10.1038/s41597-019-0247-7, https://www.nature.com/articles/s41597-019-0247-7\n",
    "*    Custom function to flatten pandas DataFrames with nested JSON column: https://stackoverflow.com/questions/39899005/how-to-flatten-a-pandas-dataframe-with-some-columns-as-json\n",
    "*    WyIDs: https://support.wyscout.com/matches-wyid-events"
   ]
  },
  {
   "cell_type": "markdown",
   "metadata": {},
   "source": [
    "---\n",
    "\n",
    "## <a id='#section9'>9. Further Reading</a>"
   ]
  },
  {
   "cell_type": "markdown",
   "metadata": {},
   "source": [
    "---\n",
    "\n",
    "***Visit my website [EddWebster.com](https://www.eddwebster.com) or my [GitHub Repository](https://github.com/eddwebster) for more projects. If you'd like to get in contact, my Twitter handle is [@eddwebster](http://www.twitter.com/eddwebster) and my email is: edd.j.webster@gmail.com.***"
   ]
  },
  {
   "cell_type": "markdown",
   "metadata": {},
   "source": [
    "[Back to the top](#top)"
   ]
  }
 ],
 "metadata": {
  "kernelspec": {
   "display_name": "Python 3",
   "language": "python",
   "name": "python3"
  },
  "language_info": {
   "codemirror_mode": {
    "name": "ipython",
    "version": 3
   },
   "file_extension": ".py",
   "mimetype": "text/x-python",
   "name": "python",
   "nbconvert_exporter": "python",
   "pygments_lexer": "ipython3",
   "version": "3.7.6"
  },
  "varInspector": {
   "cols": {
    "lenName": 16,
    "lenType": 16,
    "lenVar": 40
   },
   "kernels_config": {
    "python": {
     "delete_cmd_postfix": "",
     "delete_cmd_prefix": "del ",
     "library": "var_list.py",
     "varRefreshCmd": "print(var_dic_list())"
    },
    "r": {
     "delete_cmd_postfix": ") ",
     "delete_cmd_prefix": "rm(",
     "library": "var_list.r",
     "varRefreshCmd": "cat(var_dic_list()) "
    }
   },
   "oldHeight": 642,
   "position": {
    "height": "664px",
    "left": "1059px",
    "right": "20px",
    "top": "-2px",
    "width": "489px"
   },
   "types_to_exclude": [
    "module",
    "function",
    "builtin_function_or_method",
    "instance",
    "_Feature"
   ],
   "varInspector_section_display": "block",
   "window_display": false
  }
 },
 "nbformat": 4,
 "nbformat_minor": 4
}
