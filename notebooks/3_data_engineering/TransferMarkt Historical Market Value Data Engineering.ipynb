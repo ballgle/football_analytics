{
 "cells": [
  {
   "cell_type": "markdown",
   "metadata": {},
   "source": [
    "<a id='top'></a>"
   ]
  },
  {
   "cell_type": "markdown",
   "metadata": {},
   "source": [
    "# TransferMarkt Historical Market Value Data Engineering\n",
    "##### Notebook to engineer data scraped from [TransferMarkt](https://www.transfermarkt.co.uk/) using [Beautifulsoup](https://pypi.org/project/beautifulsoup4/), the [Tyrone Mings web scraper](https://github.com/FCrSTATS/tyrone_mings) by [FCrSTATS](https://twitter.com/FC_rstats) and code from the [`football-progres-analysis`](https://github.com/Shomrey/football-progres-analysis) GitHub repo by [`Shomrey`](https://github.com/Shomrey).\n",
    "\n",
    "### By [Edd Webster](https://www.twitter.com/eddwebster)\n",
    "Notebook first written: 22/08/2021<br>\n",
    "Notebook last updated: 22/08/2021\n",
    "\n",
    "![title](../../img/transfermarkt-logo-banner.png)"
   ]
  },
  {
   "cell_type": "markdown",
   "metadata": {},
   "source": [
    "___\n",
    "\n",
    "<a id='sectionintro'></a>\n",
    "\n",
    "## <a id='import_libraries'>Introduction</a>\n",
    "This notebook engineers previously scraped data from [TransferMarkt](https://www.transfermarkt.co.uk/) using the [FCrSTATS](https://twitter.com/FC_rstats) [Tyrone Mings webscraper](https://github.com/FCrSTATS/tyrone_mings) and manipulates this landed data as DataFrames using [pandas](http://pandas.pydata.org/) and [matplotlib](https://matplotlib.org/) for visualisation.\n",
    "\n",
    "For more information about this notebook and the author, I'm available through all the following channels:\n",
    "*    [eddwebster.com](https://www.eddwebster.com/);\n",
    "*    edd.j.webster@gmail.com;\n",
    "*    [@eddwebster](https://www.twitter.com/eddwebster);\n",
    "*    [linkedin.com/in/eddwebster](https://www.linkedin.com/in/eddwebster/);\n",
    "*    [github/eddwebster](https://github.com/eddwebster/);\n",
    "*    [public.tableau.com/profile/edd.webster](https://public.tableau.com/profile/edd.webster);\n",
    "*    [kaggle.com/eddwebster](https://www.kaggle.com/eddwebster); and\n",
    "*    [hackerrank.com/eddwebster](https://www.hackerrank.com/eddwebster).\n",
    "\n",
    "![title](../../img/fifa21eddwebsterbanner.png)\n",
    "\n",
    "The accompanying GitHub repository for this notebook can be found [here](https://github.com/eddwebster/football_analytics) and a static version of this notebook can be found [here](https://nbviewer.jupyter.org/github/eddwebster/football_analytics/blob/master/notebooks/A%29%20Web%20Scraping/TransferMarkt%20Web%20Scraping%20and%20Parsing.ipynb)."
   ]
  },
  {
   "cell_type": "markdown",
   "metadata": {},
   "source": [
    "___\n",
    "\n",
    "<a id='sectioncontents'></a>\n",
    "\n",
    "## <a id='notebook_contents'>Notebook Contents</a>\n",
    "1.    [Notebook Dependencies](#section1)<br>\n",
    "2.    [Project Brief](#section2)<br>\n",
    "3.    [Data Sources](#section3)<br>\n",
    "      1.    [Introduction](#section3.1)<br>\n",
    "      2.    [Data Dictionary](#section3.2)<br>\n",
    "      3.    [Creating the DataFrame](#section3.3)<br>\n",
    "      4.    [Initial Data Handling](#section3.4)<br>\n",
    "      5.    [Export the Raw DataFrame](#section3.5)<br>         \n",
    "4.    [Data Engineering](#section4)<br>\n",
    "      1.    [Introduction](#section4.1)<br>\n",
    "      2.    [Columns of Interest](#section4.2)<br>\n",
    "      3.    [String Cleaning](#section4.3)<br>\n",
    "      4.    [Converting Data Types](#section4.4)<br>\n",
    "      5.    [Export the Engineered DataFrame](#section4.5)<br>\n",
    "5.    [Exploratory Data Analysis (EDA)](#section5)<br>\n",
    "      1.    [...](#section5.1)<br>\n",
    "      2.    [...](#section5.2)<br>\n",
    "      3.    [...](#section5.3)<br>\n",
    "6.    [Summary](#section6)<br>\n",
    "7.    [Next Steps](#section7)<br>\n",
    "8.    [Bibliography](#section8)<br>"
   ]
  },
  {
   "cell_type": "markdown",
   "metadata": {},
   "source": [
    "___\n",
    "\n",
    "<a id='section1'></a>\n",
    "\n",
    "## <a id='#section1'>1. Notebook Dependencies</a>\n",
    "This notebook was written using [Python 3](https://docs.python.org/3.7/) and requires the following libraries:\n",
    "*    [`Jupyter notebooks`](https://jupyter.org/) for this notebook environment with which this project is presented;\n",
    "*    [`NumPy`](http://www.numpy.org/) for multidimensional array computing;\n",
    "*    [`pandas`](http://pandas.pydata.org/) for data analysis and manipulation; and\n",
    "*    [`matplotlib`](https://matplotlib.org/contents.html?v=20200411155018) for data visualisations.\n",
    "\n",
    "All packages used for this notebook except for BeautifulSoup can be obtained by downloading and installing the [Conda](https://anaconda.org/anaconda/conda) distribution, available on all platforms (Windows, Linux and Mac OSX). Step-by-step guides on how to install Anaconda can be found for Windows [here](https://medium.com/@GalarnykMichael/install-python-on-windows-anaconda-c63c7c3d1444) and Mac [here](https://medium.com/@GalarnykMichael/install-python-on-mac-anaconda-ccd9f2014072), as well as in the Anaconda documentation itself [here](https://docs.anaconda.com/anaconda/install/)."
   ]
  },
  {
   "cell_type": "markdown",
   "metadata": {},
   "source": [
    "### Import Libraries and Modules"
   ]
  },
  {
   "cell_type": "code",
   "execution_count": 1,
   "metadata": {},
   "outputs": [
    {
     "name": "stdout",
     "output_type": "stream",
     "text": [
      "Setup Complete\n"
     ]
    }
   ],
   "source": [
    "# Python ≥3.5 (ideally)\n",
    "import platform\n",
    "import sys, getopt\n",
    "assert sys.version_info >= (3, 5)\n",
    "import csv\n",
    "\n",
    "# Import Dependencies\n",
    "%matplotlib inline\n",
    "\n",
    "# Math Operations\n",
    "import numpy as np\n",
    "import math\n",
    "from math import pi\n",
    "\n",
    "# Datetime\n",
    "import datetime\n",
    "from datetime import date\n",
    "import time\n",
    "\n",
    "# Data Preprocessing\n",
    "import pandas as pd\n",
    "import os\n",
    "import re\n",
    "import random\n",
    "from io import BytesIO\n",
    "from pathlib import Path\n",
    "\n",
    "# Reading directories\n",
    "import glob\n",
    "import os\n",
    "from os.path import basename\n",
    "\n",
    "# Flatten lists\n",
    "from functools import reduce\n",
    "\n",
    "# Working with JSON\n",
    "import json\n",
    "from pandas.io.json import json_normalize\n",
    "\n",
    "# Web Scraping\n",
    "import requests\n",
    "from bs4 import BeautifulSoup\n",
    "import re\n",
    "\n",
    "# Currency Converter\n",
    "from currency_converter import CurrencyConverter\n",
    "\n",
    "# APIs\n",
    "from tyrone_mings import * \n",
    "\n",
    "# Fuzzy Matching - Record Linkage\n",
    "import recordlinkage\n",
    "import jellyfish\n",
    "import numexpr as ne\n",
    "\n",
    "# Data Visualisation\n",
    "import matplotlib as mpl\n",
    "import matplotlib.pyplot as plt\n",
    "import seaborn as sns\n",
    "plt.style.use('seaborn-whitegrid')\n",
    "import missingno as msno\n",
    "\n",
    "# Progress Bar\n",
    "from tqdm import tqdm\n",
    "\n",
    "# Display in Jupyter\n",
    "from IPython.display import Image, YouTubeVideo\n",
    "from IPython.core.display import HTML\n",
    "\n",
    "# Ignore Warnings\n",
    "import warnings\n",
    "warnings.filterwarnings(action=\"ignore\", message=\"^internal gelsd\")\n",
    "\n",
    "print('Setup Complete')"
   ]
  },
  {
   "cell_type": "code",
   "execution_count": 2,
   "metadata": {
    "scrolled": false
   },
   "outputs": [
    {
     "name": "stdout",
     "output_type": "stream",
     "text": [
      "Python: 3.7.6\n",
      "NumPy: 1.20.3\n",
      "pandas: 1.3.2\n",
      "matplotlib: 3.4.2\n"
     ]
    }
   ],
   "source": [
    "# Python / module versions used here for reference\n",
    "print('Python: {}'.format(platform.python_version()))\n",
    "print('NumPy: {}'.format(np.__version__))\n",
    "print('pandas: {}'.format(pd.__version__))\n",
    "print('matplotlib: {}'.format(mpl.__version__))"
   ]
  },
  {
   "cell_type": "markdown",
   "metadata": {},
   "source": [
    "### Defined Filepaths"
   ]
  },
  {
   "cell_type": "code",
   "execution_count": 3,
   "metadata": {},
   "outputs": [],
   "source": [
    "# Set up initial paths to subfolders\n",
    "base_dir = os.path.join('..', '..')\n",
    "data_dir = os.path.join(base_dir, 'data')\n",
    "data_dir_tm = os.path.join(base_dir, 'data', 'tm')\n",
    "img_dir = os.path.join(base_dir, 'img')\n",
    "fig_dir = os.path.join(base_dir, 'img', 'fig')\n",
    "video_dir = os.path.join(base_dir, 'video')"
   ]
  },
  {
   "cell_type": "markdown",
   "metadata": {},
   "source": [
    "### Defined Variables"
   ]
  },
  {
   "cell_type": "code",
   "execution_count": 4,
   "metadata": {},
   "outputs": [],
   "source": [
    "# Defined Variables\n",
    "\n",
    "## Define today's date\n",
    "today = datetime.datetime.now().strftime('%d/%m/%Y').replace('/', '')"
   ]
  },
  {
   "cell_type": "markdown",
   "metadata": {},
   "source": [
    "### Defined Dictionaries"
   ]
  },
  {
   "cell_type": "code",
   "execution_count": 75,
   "metadata": {},
   "outputs": [],
   "source": [
    "# Defined Dictionaries\n",
    "\n",
    "## Define seasons\n",
    "dict_seasons = {'2000': '2000/2001',\n",
    "                '2001': '2001/2002',\n",
    "                '2002': '2002/2003',\n",
    "                '2003': '2003/2004',\n",
    "                '2004': '2004/2005',\n",
    "                '2005': '2005/2006',\n",
    "                '2006': '2006/2007',\n",
    "                '2007': '2007/2008',\n",
    "                '2008': '2008/2009',\n",
    "                '2009': '2009/2010',\n",
    "                '2010': '2010/2011',\n",
    "                '2011': '2011/2012',\n",
    "                '2012': '2012/2013',\n",
    "                '2013': '2013/2014',\n",
    "                '2014': '2014/2015',\n",
    "                '2015': '2015/2016',\n",
    "                '2016': '2016/2017',\n",
    "                '2017': '2017/2018',\n",
    "                '2018': '2018/2019',\n",
    "                '2019': '2019/2020',\n",
    "                '2020': '2020/2021',\n",
    "                '2021': '2021/2022',\n",
    "                '2022': '2022/2023',\n",
    "                '2023': '2023/2024',\n",
    "               }"
   ]
  },
  {
   "cell_type": "markdown",
   "metadata": {},
   "source": [
    "### Defined Lists"
   ]
  },
  {
   "cell_type": "code",
   "execution_count": 5,
   "metadata": {},
   "outputs": [],
   "source": [
    "# Defined Lists\n",
    "\n",
    "## Define list of league codes\n",
    "df_leagues = pd.read_csv(data_dir_tm + '/reference/tm_leagues_comps.csv')\n",
    "lst_league_codes = df_leagues['league_code'].to_numpy().tolist()\n",
    "\n",
    "## Define list of 'Big 5' European Leagues and MLS codes\n",
    "lst_big5_mls_league_codes = ['GB1', 'FR1', 'L1', 'IT1', 'ES1', 'MLS1']"
   ]
  },
  {
   "cell_type": "markdown",
   "metadata": {},
   "source": [
    "### Notebook Settings"
   ]
  },
  {
   "cell_type": "code",
   "execution_count": 6,
   "metadata": {},
   "outputs": [],
   "source": [
    "pd.set_option('display.max_columns', None)"
   ]
  },
  {
   "cell_type": "markdown",
   "metadata": {},
   "source": [
    "---\n",
    "\n",
    "<a id='section2'></a>\n",
    "\n",
    "## <a id='#section2'>2. Project Brief</a>\n",
    "This Jupyter notebook is part of a series of notebooks to scrape, parse, engineer, unify, and the model, culminating in a an Expected Transfer (xTransfer) player performance vs. valuation model. This model aims to determine the under- and over-performing players based on their on-the-pitch output against transfer fee and wages.\n",
    "\n",
    "This particular notebook is one of several data eningeering notebooks, that cleans player valuation data from [TransferMarkt](https://www.transfermarkt.co.uk/) using [pandas](http://pandas.pydata.org/).\n",
    "\n",
    "[TransferMarkt](https://www.transfermarkt.co.uk/) is a German-based website owned by [Axel Springer](https://www.axelspringer.com/en/) and is the leading website for the football transfer market. The website posts football related data, including: scores and results, football news, transfer rumours, and most usefully for us - calculated estimates ofthe market values for teams and individual players.\n",
    "\n",
    "To read more about how these estimations are made, [Beyond crowd judgments: Data-driven estimation of market value in association football](https://www.sciencedirect.com/science/article/pii/S0377221717304332) by Oliver Müllera, Alexander Simons, and Markus Weinmann does an excellent job of explaining how the estimations are made and their level of accuracy.\n",
    "\n",
    "This notebook, along with the other notebooks in this project workflow are shown in the following diagram:\n",
    "\n",
    "![roadmap](../../img/football_analytics_data_roadmap.png)\n",
    "\n",
    "Links to these notebooks in the [`football_analytics`](https://github.com/eddwebster/football_analytics) GitHub repository can be found at the following:\n",
    "*    [Webscraping](https://github.com/eddwebster/football_analytics/tree/master/notebooks/1_data_scraping)\n",
    "     +    [FBref Player Stats Webscraping](https://github.com/eddwebster/football_analytics/blob/master/notebooks/1_data_scraping/FBref%20Player%20Stats%20Web%20Scraping.ipynb)\n",
    "     +    [TransferMarket Player Bio and Status Webscraping](https://github.com/eddwebster/football_analytics/blob/master/notebooks/1_data_scraping/TransferMarkt%20Player%20Bio%20and%20Status%20Web%20Scraping.ipynb)\n",
    "     +    [TransferMarket Player Valuation Webscraping](https://github.com/eddwebster/football_analytics/blob/master/notebooks/1_data_scraping/TransferMarkt%20Player%20Valuation%20Web%20Scraping.ipynb)\n",
    "     +    [TransferMarkt Player Recorded Transfer Fees Webscraping](https://github.com/eddwebster/football_analytics/blob/master/notebooks/1_data_scraping/TransferMarkt%20Player%20Recorded%20Transfer%20Fees%20Webscraping.ipynb)\n",
    "     +    [Capology Player Salary Webscraping](https://github.com/eddwebster/football_analytics/blob/master/notebooks/1_data_scraping/Capology%20Player%20Salary%20Web%20Scraping.ipynb)\n",
    "     +    [FBref Team Stats Webscraping](https://github.com/eddwebster/football_analytics/blob/master/notebooks/1_data_scraping/FBref%20Team%20Stats%20Web%20Scraping.ipynb)\n",
    "*    [Data Parsing](https://github.com/eddwebster/football_analytics/tree/master/notebooks/2_data_parsing)\n",
    "     +    [ELO Team Ratings Data Parsing](https://github.com/eddwebster/football_analytics/blob/master/notebooks/2_data_parsing/ELO%20Team%20Ratings%20Data%20Parsing.ipynb)\n",
    "*    [Data Engineering](https://github.com/eddwebster/football_analytics/tree/master/notebooks/3_data_engineering)\n",
    "     +    [FBref Player Stats Data Engineering](https://github.com/eddwebster/football_analytics/blob/master/notebooks/3_data_engineering/FBref%20Player%20Stats%20Data%20Engineering.ipynb)\n",
    "     +    [TransferMarket Player Bio and Status Data Engineering](https://github.com/eddwebster/football_analytics/blob/master/notebooks/3_data_engineering/TransferMarkt%20Player%20Bio%20and%20Status%20Data%20Engineering.ipynb)\n",
    "     +    [TransferMarket Player Valuation Data Engineering](https://github.com/eddwebster/football_analytics/blob/master/notebooks/3_data_engineering/TransferMarkt%20Player%20Valuation%20Data%20Engineering.ipynb)\n",
    "     +    [TransferMarkt Player Recorded Transfer Fees Data Engineering](https://github.com/eddwebster/football_analytics/blob/master/notebooks/3_data_engineering/TransferMarkt%20Player%20Recorded%20Transfer%20Fees%20Data%20Engineering.ipynb)\n",
    "     +    [Capology Player Salary Data Engineering](https://github.com/eddwebster/football_analytics/blob/master/notebooks/3_data_engineering/Capology%20Player%20Salary%20Data%20Engineering.ipynb)\n",
    "     +    [FBref Team Stats Data Engineering](https://github.com/eddwebster/football_analytics/blob/master/notebooks/3_data_engineering/FBref%20Team%20Stats%20Data%20Engineering.ipynb)\n",
    "     +    [ELO Team Ratings Data Parsing](https://github.com/eddwebster/football_analytics/blob/master/notebooks/3_data_engineering/ELO%20Team%20Ratings%20Data%20Parsing.ipynb)\n",
    "     +    [TransferMarkt Team Recorded Transfer Fee Data Engineering](https://github.com/eddwebster/football_analytics/blob/master/notebooks/3_data_engineering/TransferMarkt%20Team%20Recorded%20Transfer%20Fee%20Data%20Engineering.ipynb) (aggregated from [TransferMarkt Player Recorded Transfer Fees notebook](https://github.com/eddwebster/football_analytics/blob/master/notebooks/3_data_engineering/TransferMarkt%20Player%20Recorded%20Transfer%20Fees%20Data%20Engineering.ipynb))\n",
    "     +    [Capology Team Salary Data Engineering](https://github.com/eddwebster/football_analytics/blob/master/notebooks/3_data_engineering/Capology%20Team%20Salary%20Data%20Engineering.ipynb) (aggregated from [Capology Player Salary notebook](https://github.com/eddwebster/football_analytics/blob/master/notebooks/3_data_engineering/Capology%20Player%20Salary%20Data%20Engineering.ipynb))\n",
    "*    [Data Unification](https://github.com/eddwebster/football_analytics/tree/master/notebooks/4_data_unification)\n",
    "     +    [Golden ID for Player Level Datasets](https://github.com/eddwebster/football_analytics/blob/master/notebooks/4_data_unification/Golden%20ID%20for%20Player%20Level%20Datasets.ipynb)\n",
    "     +    [Golden ID for Team Level Datasets](https://github.com/eddwebster/football_analytics/blob/master/notebooks/4_data_unification/Golden%20ID%20for%20Team%20Level%20Datasets.ipynb)\n",
    "*    [Production Datasets](https://github.com/eddwebster/football_analytics/tree/master/notebooks/5_production_datasets)\n",
    "     +    [Player Performance/Market Value Dataset](https://github.com/eddwebster/football_analytics/tree/master/notebooks/5_production_datasets/Player%20Performance/Market%20Value%20Dataset.ipynb)\n",
    "     +    [Team Performance/Market Value Dataset](https://github.com/eddwebster/football_analytics/tree/master/notebooks/5_production_datasets/Team%20Performance/Market%20Value%20Dataset.ipynb)\n",
    "*    [Expected Transfer (xTransfer) Modeling](https://github.com/eddwebster/football_analytics/tree/master/notebooks/6_data_analysis_and_projects/expected_transfer_modeling)\n",
    "     +    [Expected Transfer (xTransfer) Modeling](https://github.com/eddwebster/football_analytics/tree/master/notebooks/6_data_analysis_and_projects/expected_transfer_modeling/Expected%20Transfer%20%20Modeling.ipynb)"
   ]
  },
  {
   "cell_type": "markdown",
   "metadata": {},
   "source": [
    "---\n",
    "\n",
    "<a id='section3'></a>\n",
    "\n",
    "## <a id='#section3'>3. Data Sources</a>"
   ]
  },
  {
   "cell_type": "markdown",
   "metadata": {},
   "source": [
    "<a id='section3.3.1'></a>\n",
    "\n",
    "### <a id='#section3.1'>3.1. Introduction</a>\n",
    "Before conducting our EDA, the data needs to be imported as a DataFrame in the Data Sources section [Section 3](#section3) and cleaned in the Data Engineering section [Section 4](#section4).\n",
    "\n",
    "We'll be using the [pandas](http://pandas.pydata.org/) library to import our data to this workbook as a DataFrame."
   ]
  },
  {
   "cell_type": "markdown",
   "metadata": {},
   "source": [
    "### <a id='#section3.2'>3.2. Data Dictionaries</a>\n",
    "The [TransferMarkt](https://www.transfermarkt.co.uk/) dataset has six features (columns) with the following definitions and data types:\n",
    "\n",
    "| Feature     | Data type    |\n",
    "|------|-----|\n",
    "| `position_number`    | object     |\n",
    "| `position_description`    | object     |\n",
    "| `name`    | object     |\n",
    "| `dob`    | object     |\n",
    "| `nationality`    | object     |\n",
    "| `value`    | object     |"
   ]
  },
  {
   "cell_type": "markdown",
   "metadata": {},
   "source": [
    "<a id='section3.3'></a>\n",
    "\n",
    "### <a id='#section332'>3.3. Read in Data</a>"
   ]
  },
  {
   "cell_type": "code",
   "execution_count": 7,
   "metadata": {},
   "outputs": [],
   "source": [
    "# Import DataFrame as a CSV file\n",
    "df_tm_market_value_raw = pd.read_csv(data_dir_tm + f'/raw/historical_market_values/tm_player_valuations_combined_latest.csv')"
   ]
  },
  {
   "cell_type": "markdown",
   "metadata": {},
   "source": [
    "#### <a id='#section3.2.3'>3.2.3. Preliminary Data Handling</a>\n",
    "Let's quality of the dataset by looking first and last rows in pandas using the [head()](https://pandas.pydata.org/pandas-docs/stable/reference/api/pandas.DataFrame.head.html) and [tail()](https://pandas.pydata.org/pandas-docs/stable/reference/api/pandas.DataFrame.tail.html) methods."
   ]
  },
  {
   "cell_type": "code",
   "execution_count": 8,
   "metadata": {},
   "outputs": [
    {
     "data": {
      "text/html": [
       "<div>\n",
       "<style scoped>\n",
       "    .dataframe tbody tr th:only-of-type {\n",
       "        vertical-align: middle;\n",
       "    }\n",
       "\n",
       "    .dataframe tbody tr th {\n",
       "        vertical-align: top;\n",
       "    }\n",
       "\n",
       "    .dataframe thead th {\n",
       "        text-align: right;\n",
       "    }\n",
       "</style>\n",
       "<table border=\"1\" class=\"dataframe\">\n",
       "  <thead>\n",
       "    <tr style=\"text-align: right;\">\n",
       "      <th></th>\n",
       "      <th>market_value</th>\n",
       "      <th>club</th>\n",
       "      <th>date</th>\n",
       "      <th>tm_id</th>\n",
       "      <th>league_code</th>\n",
       "      <th>season</th>\n",
       "    </tr>\n",
       "  </thead>\n",
       "  <tbody>\n",
       "    <tr>\n",
       "      <th>0</th>\n",
       "      <td>50000</td>\n",
       "      <td>sc Heerenveen Emmen II</td>\n",
       "      <td>Oct 31, 2008</td>\n",
       "      <td>72462</td>\n",
       "      <td>GB1</td>\n",
       "      <td>2017</td>\n",
       "    </tr>\n",
       "    <tr>\n",
       "      <th>1</th>\n",
       "      <td>200000</td>\n",
       "      <td>sc Heerenveen Emmen II</td>\n",
       "      <td>May 25, 2009</td>\n",
       "      <td>72462</td>\n",
       "      <td>GB1</td>\n",
       "      <td>2017</td>\n",
       "    </tr>\n",
       "    <tr>\n",
       "      <th>2</th>\n",
       "      <td>500000</td>\n",
       "      <td>SC Heerenveen</td>\n",
       "      <td>Jan 17, 2011</td>\n",
       "      <td>72462</td>\n",
       "      <td>GB1</td>\n",
       "      <td>2017</td>\n",
       "    </tr>\n",
       "    <tr>\n",
       "      <th>3</th>\n",
       "      <td>1000000</td>\n",
       "      <td>SC Heerenveen</td>\n",
       "      <td>Jun 28, 2011</td>\n",
       "      <td>72462</td>\n",
       "      <td>GB1</td>\n",
       "      <td>2017</td>\n",
       "    </tr>\n",
       "    <tr>\n",
       "      <th>4</th>\n",
       "      <td>2000000</td>\n",
       "      <td>SC Heerenveen</td>\n",
       "      <td>Oct 21, 2011</td>\n",
       "      <td>72462</td>\n",
       "      <td>GB1</td>\n",
       "      <td>2017</td>\n",
       "    </tr>\n",
       "  </tbody>\n",
       "</table>\n",
       "</div>"
      ],
      "text/plain": [
       "   market_value                    club          date  tm_id league_code  \\\n",
       "0         50000  sc Heerenveen Emmen II  Oct 31, 2008  72462         GB1   \n",
       "1        200000  sc Heerenveen Emmen II  May 25, 2009  72462         GB1   \n",
       "2        500000           SC Heerenveen  Jan 17, 2011  72462         GB1   \n",
       "3       1000000           SC Heerenveen  Jun 28, 2011  72462         GB1   \n",
       "4       2000000           SC Heerenveen  Oct 21, 2011  72462         GB1   \n",
       "\n",
       "   season  \n",
       "0    2017  \n",
       "1    2017  \n",
       "2    2017  \n",
       "3    2017  \n",
       "4    2017  "
      ]
     },
     "execution_count": 8,
     "metadata": {},
     "output_type": "execute_result"
    }
   ],
   "source": [
    "# Display the first five rows of the raw DataFrame, df_tm_market_value_raw\n",
    "df_tm_market_value_raw.head()"
   ]
  },
  {
   "cell_type": "code",
   "execution_count": 9,
   "metadata": {},
   "outputs": [
    {
     "data": {
      "text/html": [
       "<div>\n",
       "<style scoped>\n",
       "    .dataframe tbody tr th:only-of-type {\n",
       "        vertical-align: middle;\n",
       "    }\n",
       "\n",
       "    .dataframe tbody tr th {\n",
       "        vertical-align: top;\n",
       "    }\n",
       "\n",
       "    .dataframe thead th {\n",
       "        text-align: right;\n",
       "    }\n",
       "</style>\n",
       "<table border=\"1\" class=\"dataframe\">\n",
       "  <thead>\n",
       "    <tr style=\"text-align: right;\">\n",
       "      <th></th>\n",
       "      <th>market_value</th>\n",
       "      <th>club</th>\n",
       "      <th>date</th>\n",
       "      <th>tm_id</th>\n",
       "      <th>league_code</th>\n",
       "      <th>season</th>\n",
       "    </tr>\n",
       "  </thead>\n",
       "  <tbody>\n",
       "    <tr>\n",
       "      <th>393948</th>\n",
       "      <td>4500000</td>\n",
       "      <td>TSG 1899 Hoffenheim</td>\n",
       "      <td>Apr 8, 2020</td>\n",
       "      <td>68033</td>\n",
       "      <td>L1</td>\n",
       "      <td>2016</td>\n",
       "    </tr>\n",
       "    <tr>\n",
       "      <th>393949</th>\n",
       "      <td>3000000</td>\n",
       "      <td>Eintracht Frankfurt</td>\n",
       "      <td>Sep 16, 2020</td>\n",
       "      <td>68033</td>\n",
       "      <td>L1</td>\n",
       "      <td>2016</td>\n",
       "    </tr>\n",
       "    <tr>\n",
       "      <th>393950</th>\n",
       "      <td>2500000</td>\n",
       "      <td>Eintracht Frankfurt</td>\n",
       "      <td>Feb 10, 2021</td>\n",
       "      <td>68033</td>\n",
       "      <td>L1</td>\n",
       "      <td>2016</td>\n",
       "    </tr>\n",
       "    <tr>\n",
       "      <th>393951</th>\n",
       "      <td>2500000</td>\n",
       "      <td>Eintracht Frankfurt</td>\n",
       "      <td>May 25, 2021</td>\n",
       "      <td>68033</td>\n",
       "      <td>L1</td>\n",
       "      <td>2016</td>\n",
       "    </tr>\n",
       "    <tr>\n",
       "      <th>393952</th>\n",
       "      <td>3500000</td>\n",
       "      <td>Eintracht Frankfurt</td>\n",
       "      <td>Jul 15, 2021</td>\n",
       "      <td>68033</td>\n",
       "      <td>L1</td>\n",
       "      <td>2016</td>\n",
       "    </tr>\n",
       "  </tbody>\n",
       "</table>\n",
       "</div>"
      ],
      "text/plain": [
       "        market_value                 club          date  tm_id league_code  \\\n",
       "393948       4500000  TSG 1899 Hoffenheim   Apr 8, 2020  68033          L1   \n",
       "393949       3000000  Eintracht Frankfurt  Sep 16, 2020  68033          L1   \n",
       "393950       2500000  Eintracht Frankfurt  Feb 10, 2021  68033          L1   \n",
       "393951       2500000  Eintracht Frankfurt  May 25, 2021  68033          L1   \n",
       "393952       3500000  Eintracht Frankfurt  Jul 15, 2021  68033          L1   \n",
       "\n",
       "        season  \n",
       "393948    2016  \n",
       "393949    2016  \n",
       "393950    2016  \n",
       "393951    2016  \n",
       "393952    2016  "
      ]
     },
     "execution_count": 9,
     "metadata": {},
     "output_type": "execute_result"
    }
   ],
   "source": [
    "# Display the last five rows of the raw DataFrame, df_tm_market_value_raw\n",
    "df_tm_market_value_raw.tail()"
   ]
  },
  {
   "cell_type": "code",
   "execution_count": 10,
   "metadata": {},
   "outputs": [
    {
     "name": "stdout",
     "output_type": "stream",
     "text": [
      "(393953, 6)\n"
     ]
    }
   ],
   "source": [
    "# Print the shape of the raw DataFrame, df_tm_market_value_raw\n",
    "print(df_tm_market_value_raw.shape)"
   ]
  },
  {
   "cell_type": "code",
   "execution_count": 11,
   "metadata": {},
   "outputs": [
    {
     "name": "stdout",
     "output_type": "stream",
     "text": [
      "Index(['market_value', 'club', 'date', 'tm_id', 'league_code', 'season'], dtype='object')\n"
     ]
    }
   ],
   "source": [
    "# Print the column names of the raw DataFrame, df_tm_market_value_raw\n",
    "print(df_tm_market_value_raw.columns)"
   ]
  },
  {
   "cell_type": "markdown",
   "metadata": {},
   "source": [
    "The dataset has thirteen features (columns). Full details of these attributes can be found in the [Data Dictionary](section3.3.1)."
   ]
  },
  {
   "cell_type": "code",
   "execution_count": 12,
   "metadata": {},
   "outputs": [
    {
     "data": {
      "text/plain": [
       "market_value     int64\n",
       "club            object\n",
       "date            object\n",
       "tm_id            int64\n",
       "league_code     object\n",
       "season           int64\n",
       "dtype: object"
      ]
     },
     "execution_count": 12,
     "metadata": {},
     "output_type": "execute_result"
    }
   ],
   "source": [
    "# Data types of the features of the raw DataFrame, df_tm_market_value_raw\n",
    "df_tm_market_value_raw.dtypes"
   ]
  },
  {
   "cell_type": "markdown",
   "metadata": {},
   "source": [
    "All thirteen of the columns have the object data type. Full details of these attributes and their data types can be found in the [Data Dictionary](section3.3.1)."
   ]
  },
  {
   "cell_type": "code",
   "execution_count": 13,
   "metadata": {},
   "outputs": [
    {
     "name": "stdout",
     "output_type": "stream",
     "text": [
      "<class 'pandas.core.frame.DataFrame'>\n",
      "RangeIndex: 393953 entries, 0 to 393952\n",
      "Data columns (total 6 columns):\n",
      " #   Column        Non-Null Count   Dtype \n",
      "---  ------        --------------   ----- \n",
      " 0   market_value  393953 non-null  int64 \n",
      " 1   club          393953 non-null  object\n",
      " 2   date          389883 non-null  object\n",
      " 3   tm_id         393953 non-null  int64 \n",
      " 4   league_code   393953 non-null  object\n",
      " 5   season        393953 non-null  int64 \n",
      "dtypes: int64(3), object(3)\n",
      "memory usage: 18.0+ MB\n"
     ]
    }
   ],
   "source": [
    "# Info for the raw DataFrame, df_tm_market_value_raw\n",
    "df_tm_market_value_raw.info()"
   ]
  },
  {
   "cell_type": "code",
   "execution_count": 14,
   "metadata": {},
   "outputs": [
    {
     "data": {
      "text/html": [
       "<div>\n",
       "<style scoped>\n",
       "    .dataframe tbody tr th:only-of-type {\n",
       "        vertical-align: middle;\n",
       "    }\n",
       "\n",
       "    .dataframe tbody tr th {\n",
       "        vertical-align: top;\n",
       "    }\n",
       "\n",
       "    .dataframe thead th {\n",
       "        text-align: right;\n",
       "    }\n",
       "</style>\n",
       "<table border=\"1\" class=\"dataframe\">\n",
       "  <thead>\n",
       "    <tr style=\"text-align: right;\">\n",
       "      <th></th>\n",
       "      <th>market_value</th>\n",
       "      <th>tm_id</th>\n",
       "      <th>season</th>\n",
       "    </tr>\n",
       "  </thead>\n",
       "  <tbody>\n",
       "    <tr>\n",
       "      <th>count</th>\n",
       "      <td>3.939530e+05</td>\n",
       "      <td>393953.000000</td>\n",
       "      <td>393953.000000</td>\n",
       "    </tr>\n",
       "    <tr>\n",
       "      <th>mean</th>\n",
       "      <td>6.291314e+06</td>\n",
       "      <td>168284.148406</td>\n",
       "      <td>2018.188045</td>\n",
       "    </tr>\n",
       "    <tr>\n",
       "      <th>std</th>\n",
       "      <td>1.206654e+07</td>\n",
       "      <td>137133.774956</td>\n",
       "      <td>1.642296</td>\n",
       "    </tr>\n",
       "    <tr>\n",
       "      <th>min</th>\n",
       "      <td>0.000000e+00</td>\n",
       "      <td>26.000000</td>\n",
       "      <td>2016.000000</td>\n",
       "    </tr>\n",
       "    <tr>\n",
       "      <th>25%</th>\n",
       "      <td>5.000000e+05</td>\n",
       "      <td>57135.000000</td>\n",
       "      <td>2017.000000</td>\n",
       "    </tr>\n",
       "    <tr>\n",
       "      <th>50%</th>\n",
       "      <td>2.000000e+06</td>\n",
       "      <td>128969.000000</td>\n",
       "      <td>2018.000000</td>\n",
       "    </tr>\n",
       "    <tr>\n",
       "      <th>75%</th>\n",
       "      <td>6.500000e+06</td>\n",
       "      <td>249730.000000</td>\n",
       "      <td>2020.000000</td>\n",
       "    </tr>\n",
       "    <tr>\n",
       "      <th>max</th>\n",
       "      <td>2.000000e+08</td>\n",
       "      <td>921655.000000</td>\n",
       "      <td>2021.000000</td>\n",
       "    </tr>\n",
       "  </tbody>\n",
       "</table>\n",
       "</div>"
      ],
      "text/plain": [
       "       market_value          tm_id         season\n",
       "count  3.939530e+05  393953.000000  393953.000000\n",
       "mean   6.291314e+06  168284.148406    2018.188045\n",
       "std    1.206654e+07  137133.774956       1.642296\n",
       "min    0.000000e+00      26.000000    2016.000000\n",
       "25%    5.000000e+05   57135.000000    2017.000000\n",
       "50%    2.000000e+06  128969.000000    2018.000000\n",
       "75%    6.500000e+06  249730.000000    2020.000000\n",
       "max    2.000000e+08  921655.000000    2021.000000"
      ]
     },
     "execution_count": 14,
     "metadata": {},
     "output_type": "execute_result"
    }
   ],
   "source": [
    "# Description of the raw DataFrame, df_tm_market_value_raw, showing some summary statistics for each numberical column in the DataFrame\n",
    "df_tm_market_value_raw.describe()"
   ]
  },
  {
   "cell_type": "code",
   "execution_count": 15,
   "metadata": {
    "scrolled": true
   },
   "outputs": [
    {
     "data": {
      "text/plain": [
       "<AxesSubplot:>"
      ]
     },
     "execution_count": 15,
     "metadata": {},
     "output_type": "execute_result"
    },
    {
     "data": {
      "image/png": "[encoded data removed]",
      "text/plain": [
       "<Figure size 2160x504 with 2 Axes>"
      ]
     },
     "metadata": {},
     "output_type": "display_data"
    }
   ],
   "source": [
    "# Plot visualisation of the missing values for each feature of the raw DataFrame, df_tm_market_value_raw\n",
    "msno.matrix(df_tm_market_value_raw, figsize = (30, 7))"
   ]
  },
  {
   "cell_type": "code",
   "execution_count": 16,
   "metadata": {},
   "outputs": [
    {
     "data": {
      "text/plain": [
       "date    4070\n",
       "dtype: int64"
      ]
     },
     "execution_count": 16,
     "metadata": {},
     "output_type": "execute_result"
    }
   ],
   "source": [
    "# Counts of missing values\n",
    "tm_bio_null_value_stats = df_tm_market_value_raw.isnull().sum(axis=0)\n",
    "tm_bio_null_value_stats[tm_bio_null_value_stats != 0]"
   ]
  },
  {
   "cell_type": "markdown",
   "metadata": {},
   "source": [
    "The visualisation shows us very quickly that there a few missing values in most of the columns, but the dataset is ready for us."
   ]
  },
  {
   "cell_type": "markdown",
   "metadata": {},
   "source": [
    "___\n",
    "\n",
    "<a id='section4'></a>\n",
    "\n",
    "## <a id='#section4'>4. Data Engineering</a>\n",
    "Before we answer the questions in the brief through [Exploratory Data Analysis (EDA)](#section5), we'll first need to clean and wrangle the datasets to a form that meet our needs."
   ]
  },
  {
   "cell_type": "markdown",
   "metadata": {},
   "source": [
    "### <a id='#section4.1'>4.1. Assign Raw DataFrames to New Engineered DataFrames</a>"
   ]
  },
  {
   "cell_type": "code",
   "execution_count": 17,
   "metadata": {},
   "outputs": [],
   "source": [
    "# Assign Raw DataFrames to new Engineered DataFrames\n",
    "df_tm_market_value = df_tm_market_value_raw.copy()"
   ]
  },
  {
   "cell_type": "markdown",
   "metadata": {},
   "source": [
    "### <a id='#section4.2'>4.2. Dedupe DataFrames</a>\n",
    "A copy of each player is saved per season, causing duplication if not treated."
   ]
  },
  {
   "cell_type": "code",
   "execution_count": 19,
   "metadata": {},
   "outputs": [],
   "source": [
    "df_tm_market_value = (df_tm_market_value\n",
    "                          .sort_values(['season', 'tm_id', 'date'], ascending=[False, True, False])\n",
    "                         #.drop(columns=['league_code', 'season'])\n",
    "                          .drop_duplicates(subset=['tm_id', 'date'], keep='first')\n",
    "                     )"
   ]
  },
  {
   "cell_type": "code",
   "execution_count": 21,
   "metadata": {},
   "outputs": [
    {
     "name": "stdout",
     "output_type": "stream",
     "text": [
      "No. rows in Historical Player Value DataFrame BEFORE deduplication: 393953\n",
      "No. rows in DataFrame AFTER deduplication: 140355\n",
      "\n",
      "Variance in rows before and after deduplication: 253598\n",
      "\n",
      "----------\n"
     ]
    }
   ],
   "source": [
    "print('No. rows in Historical Player Value DataFrame BEFORE deduplication: {}'.format(len(df_tm_market_value_raw)))\n",
    "print('No. rows in DataFrame AFTER deduplication: {}\\n'.format(len(df_tm_market_value)))\n",
    "print('Variance in rows before and after deduplication: {}\\n'.format(len(df_tm_market_value_raw) - len(df_tm_market_value)))\n",
    "print('-'*10)"
   ]
  },
  {
   "cell_type": "code",
   "execution_count": 22,
   "metadata": {},
   "outputs": [
    {
     "data": {
      "text/plain": [
       "9462"
      ]
     },
     "execution_count": 22,
     "metadata": {},
     "output_type": "execute_result"
    }
   ],
   "source": [
    "df_tm_market_value['tm_id'].nunique()"
   ]
  },
  {
   "cell_type": "markdown",
   "metadata": {},
   "source": [
    "### <a id='#section4.3'>4.3. Clean Date Attribute</a>"
   ]
  },
  {
   "cell_type": "markdown",
   "metadata": {},
   "source": [
    "##### Year"
   ]
  },
  {
   "cell_type": "code",
   "execution_count": 23,
   "metadata": {
    "scrolled": true
   },
   "outputs": [],
   "source": [
    "df_tm_market_value['year'] = df_tm_market_value['date'].str.split(',').str[-1].str[:5]\n",
    "df_tm_market_value['year'] = pd.to_numeric(df_tm_market_value['year'], errors='coerce')\n",
    "df_tm_market_value['year'] = df_tm_market_value['year'].fillna(-1).astype(int).astype(str).replace('-1', np.nan)"
   ]
  },
  {
   "cell_type": "markdown",
   "metadata": {},
   "source": [
    "##### Month"
   ]
  },
  {
   "cell_type": "code",
   "execution_count": 24,
   "metadata": {},
   "outputs": [],
   "source": [
    "#\n",
    "\n",
    "\n",
    "##\n",
    "df_tm_market_value['month'] = df_tm_market_value['date'].str.split(' ').str[0].str.replace(' ', '')\n",
    "\n",
    "\n",
    "##\n",
    "dict_months = {'Jan': 1,\n",
    "               'Feb': 2,\n",
    "               'Mar': 3,\n",
    "               'Apr': 4,\n",
    "               'May': 5,\n",
    "               'Jun': 6,\n",
    "               'Jul': 7,\n",
    "               'Aug': 8,\n",
    "               'Sep': 9,\n",
    "               'Oct': 10,\n",
    "               'Nov': 11,\n",
    "               'Dec': 12\n",
    "              }\n",
    "\n",
    "## Map grouped positions to DataFrame\n",
    "df_tm_market_value['month'] = df_tm_market_value['month'].map(dict_months).fillna(-1).astype(int).astype(str).replace('-1', np.nan)"
   ]
  },
  {
   "cell_type": "markdown",
   "metadata": {},
   "source": [
    "##### Day"
   ]
  },
  {
   "cell_type": "code",
   "execution_count": 25,
   "metadata": {},
   "outputs": [],
   "source": [
    "df_tm_market_value['day'] = df_tm_market_value['date'].str.split(' ').str[1].str[:3].str.replace(',', '')\n",
    "df_tm_market_value['day'] = pd.to_numeric(df_tm_market_value['day'], errors='coerce')\n",
    "df_tm_market_value['day'] = df_tm_market_value['day'].fillna(-1).astype(int).astype(str).replace('-1', np.nan)"
   ]
  },
  {
   "cell_type": "markdown",
   "metadata": {},
   "source": [
    "##### Date"
   ]
  },
  {
   "cell_type": "code",
   "execution_count": 26,
   "metadata": {},
   "outputs": [],
   "source": [
    "df_tm_market_value['date'] = pd.to_datetime(df_tm_market_value[['year', 'month', 'day']])"
   ]
  },
  {
   "cell_type": "code",
   "execution_count": 27,
   "metadata": {},
   "outputs": [
    {
     "data": {
      "text/plain": [
       "(140355, 9)"
      ]
     },
     "execution_count": 27,
     "metadata": {},
     "output_type": "execute_result"
    }
   ],
   "source": [
    "df_tm_market_value.shape"
   ]
  },
  {
   "cell_type": "markdown",
   "metadata": {},
   "source": [
    "### <a id='#section4.4'>4.4. Keep Only One Row per Year</a>\n",
    "Take the last value per year as that year's valuation. Ideally, this would be the date closest to September (start of the season), but for now, the current code is fine."
   ]
  },
  {
   "cell_type": "code",
   "execution_count": 28,
   "metadata": {},
   "outputs": [],
   "source": [
    "df_tm_market_value_grouped = (df_tm_market_value\n",
    "                                  .loc[df_tm_market_value.groupby(['tm_id', 'year']).date.idxmax(axis=0, skipna=True)]\n",
    "                                  .reset_index(drop=True)\n",
    "                             )"
   ]
  },
  {
   "cell_type": "code",
   "execution_count": 74,
   "metadata": {},
   "outputs": [
    {
     "data": {
      "text/html": [
       "<div>\n",
       "<style scoped>\n",
       "    .dataframe tbody tr th:only-of-type {\n",
       "        vertical-align: middle;\n",
       "    }\n",
       "\n",
       "    .dataframe tbody tr th {\n",
       "        vertical-align: top;\n",
       "    }\n",
       "\n",
       "    .dataframe thead th {\n",
       "        text-align: right;\n",
       "    }\n",
       "</style>\n",
       "<table border=\"1\" class=\"dataframe\">\n",
       "  <thead>\n",
       "    <tr style=\"text-align: right;\">\n",
       "      <th></th>\n",
       "      <th>market_value_eur</th>\n",
       "      <th>club</th>\n",
       "      <th>tm_id</th>\n",
       "      <th>league_code</th>\n",
       "      <th>season</th>\n",
       "      <th>market_value_gbp</th>\n",
       "    </tr>\n",
       "  </thead>\n",
       "  <tbody>\n",
       "    <tr>\n",
       "      <th>0</th>\n",
       "      <td>2000000</td>\n",
       "      <td>Borussia Dortmund</td>\n",
       "      <td>26</td>\n",
       "      <td>L1</td>\n",
       "      <td>2004/2005</td>\n",
       "      <td>1800000.0</td>\n",
       "    </tr>\n",
       "    <tr>\n",
       "      <th>1</th>\n",
       "      <td>6750000</td>\n",
       "      <td>Borussia Dortmund</td>\n",
       "      <td>26</td>\n",
       "      <td>L1</td>\n",
       "      <td>2005/2006</td>\n",
       "      <td>6075000.0</td>\n",
       "    </tr>\n",
       "    <tr>\n",
       "      <th>2</th>\n",
       "      <td>7500000</td>\n",
       "      <td>Borussia Dortmund</td>\n",
       "      <td>26</td>\n",
       "      <td>L1</td>\n",
       "      <td>2006/2007</td>\n",
       "      <td>6750000.0</td>\n",
       "    </tr>\n",
       "    <tr>\n",
       "      <th>3</th>\n",
       "      <td>8000000</td>\n",
       "      <td>Borussia Dortmund</td>\n",
       "      <td>26</td>\n",
       "      <td>L1</td>\n",
       "      <td>2007/2008</td>\n",
       "      <td>7200000.0</td>\n",
       "    </tr>\n",
       "    <tr>\n",
       "      <th>4</th>\n",
       "      <td>5000000</td>\n",
       "      <td>Borussia Dortmund</td>\n",
       "      <td>26</td>\n",
       "      <td>L1</td>\n",
       "      <td>2008/2009</td>\n",
       "      <td>4500000.0</td>\n",
       "    </tr>\n",
       "    <tr>\n",
       "      <th>...</th>\n",
       "      <td>...</td>\n",
       "      <td>...</td>\n",
       "      <td>...</td>\n",
       "      <td>...</td>\n",
       "      <td>...</td>\n",
       "      <td>...</td>\n",
       "    </tr>\n",
       "    <tr>\n",
       "      <th>67231</th>\n",
       "      <td>200000</td>\n",
       "      <td>Dijon FCO</td>\n",
       "      <td>894205</td>\n",
       "      <td>FR1</td>\n",
       "      <td>2021/2022</td>\n",
       "      <td>180000.0</td>\n",
       "    </tr>\n",
       "    <tr>\n",
       "      <th>67232</th>\n",
       "      <td>50000</td>\n",
       "      <td>Los Angeles FC</td>\n",
       "      <td>898751</td>\n",
       "      <td>MLS1</td>\n",
       "      <td>2021/2022</td>\n",
       "      <td>45000.0</td>\n",
       "    </tr>\n",
       "    <tr>\n",
       "      <th>67233</th>\n",
       "      <td>25000</td>\n",
       "      <td>Atlanta United FC</td>\n",
       "      <td>900440</td>\n",
       "      <td>MLS1</td>\n",
       "      <td>2021/2022</td>\n",
       "      <td>22500.0</td>\n",
       "    </tr>\n",
       "    <tr>\n",
       "      <th>67234</th>\n",
       "      <td>150000</td>\n",
       "      <td>RC Lens</td>\n",
       "      <td>905408</td>\n",
       "      <td>FR1</td>\n",
       "      <td>2021/2022</td>\n",
       "      <td>135000.0</td>\n",
       "    </tr>\n",
       "    <tr>\n",
       "      <th>67235</th>\n",
       "      <td>25000</td>\n",
       "      <td>FC Cincinnati</td>\n",
       "      <td>905609</td>\n",
       "      <td>MLS1</td>\n",
       "      <td>2021/2022</td>\n",
       "      <td>22500.0</td>\n",
       "    </tr>\n",
       "  </tbody>\n",
       "</table>\n",
       "<p>67236 rows × 6 columns</p>\n",
       "</div>"
      ],
      "text/plain": [
       "       market_value_eur               club   tm_id league_code     season  \\\n",
       "0               2000000  Borussia Dortmund      26          L1  2004/2005   \n",
       "1               6750000  Borussia Dortmund      26          L1  2005/2006   \n",
       "2               7500000  Borussia Dortmund      26          L1  2006/2007   \n",
       "3               8000000  Borussia Dortmund      26          L1  2007/2008   \n",
       "4               5000000  Borussia Dortmund      26          L1  2008/2009   \n",
       "...                 ...                ...     ...         ...        ...   \n",
       "67231            200000          Dijon FCO  894205         FR1  2021/2022   \n",
       "67232             50000     Los Angeles FC  898751        MLS1  2021/2022   \n",
       "67233             25000  Atlanta United FC  900440        MLS1  2021/2022   \n",
       "67234            150000            RC Lens  905408         FR1  2021/2022   \n",
       "67235             25000      FC Cincinnati  905609        MLS1  2021/2022   \n",
       "\n",
       "       market_value_gbp  \n",
       "0             1800000.0  \n",
       "1             6075000.0  \n",
       "2             6750000.0  \n",
       "3             7200000.0  \n",
       "4             4500000.0  \n",
       "...                 ...  \n",
       "67231          180000.0  \n",
       "67232           45000.0  \n",
       "67233           22500.0  \n",
       "67234          135000.0  \n",
       "67235           22500.0  \n",
       "\n",
       "[67236 rows x 6 columns]"
      ]
     },
     "execution_count": 74,
     "metadata": {},
     "output_type": "execute_result"
    }
   ],
   "source": [
    "df_tm_market_value_grouped"
   ]
  },
  {
   "cell_type": "markdown",
   "metadata": {},
   "source": [
    "### <a id='#section4.5'>4.5. Create `season` attribute</a>"
   ]
  },
  {
   "cell_type": "code",
   "execution_count": 29,
   "metadata": {},
   "outputs": [],
   "source": [
    "#\n",
    "\n",
    "## Map season to DataFrame\n",
    "df_tm_market_value_grouped['season'] = df_tm_market_value_grouped['year'].map(dict_seasons)"
   ]
  },
  {
   "cell_type": "markdown",
   "metadata": {},
   "source": [
    " ### <a id='#section4.6'>4.6. Drop columns</a>\n",
    "Drop `date`, `year`, `month`, and `day`"
   ]
  },
  {
   "cell_type": "code",
   "execution_count": 30,
   "metadata": {},
   "outputs": [],
   "source": [
    "df_tm_market_value_grouped = df_tm_market_value_grouped.drop(['date', 'year', 'month', 'day'], axis=1)"
   ]
  },
  {
   "cell_type": "markdown",
   "metadata": {},
   "source": [
    "### <a id='#section4.7'>4.7. Rename Columns</a>"
   ]
  },
  {
   "cell_type": "code",
   "execution_count": 31,
   "metadata": {},
   "outputs": [],
   "source": [
    "df_tm_market_value_grouped = df_tm_market_value_grouped.rename(columns={'market_value': 'market_value_eur'})"
   ]
  },
  {
   "cell_type": "markdown",
   "metadata": {},
   "source": [
    "### <a id='#section4.8'>4.8. Convert `market_value` to Pounds</a>"
   ]
  },
  {
   "cell_type": "code",
   "execution_count": 32,
   "metadata": {},
   "outputs": [
    {
     "data": {
      "text/plain": [
       "0.90053"
      ]
     },
     "execution_count": 32,
     "metadata": {},
     "output_type": "execute_result"
    }
   ],
   "source": [
    "# Get EUR to GBP exchange rate\n",
    "\n",
    "## Get latest currency rates\n",
    "c = CurrencyConverter()\n",
    "\n",
    "##  Get conversion rate from EUR to GBP\n",
    "rate_eur_gbp = (c.convert(1, 'EUR', 'GBP'))\n",
    "rate_eur_gbp"
   ]
  },
  {
   "cell_type": "code",
   "execution_count": 33,
   "metadata": {},
   "outputs": [
    {
     "data": {
      "text/plain": [
       "0.9"
      ]
     },
     "execution_count": 33,
     "metadata": {},
     "output_type": "execute_result"
    }
   ],
   "source": [
    "# Overwrite\n",
    "rate_eur_gbp = 0.90\n",
    "rate_eur_gbp"
   ]
  },
  {
   "cell_type": "code",
   "execution_count": 34,
   "metadata": {},
   "outputs": [],
   "source": [
    "df_tm_market_value_grouped['market_value_gbp'] = df_tm_market_value_grouped['market_value_eur'] * rate_eur_gbp"
   ]
  },
  {
   "cell_type": "code",
   "execution_count": 35,
   "metadata": {},
   "outputs": [
    {
     "data": {
      "text/html": [
       "<div>\n",
       "<style scoped>\n",
       "    .dataframe tbody tr th:only-of-type {\n",
       "        vertical-align: middle;\n",
       "    }\n",
       "\n",
       "    .dataframe tbody tr th {\n",
       "        vertical-align: top;\n",
       "    }\n",
       "\n",
       "    .dataframe thead th {\n",
       "        text-align: right;\n",
       "    }\n",
       "</style>\n",
       "<table border=\"1\" class=\"dataframe\">\n",
       "  <thead>\n",
       "    <tr style=\"text-align: right;\">\n",
       "      <th></th>\n",
       "      <th>market_value_eur</th>\n",
       "      <th>club</th>\n",
       "      <th>tm_id</th>\n",
       "      <th>league_code</th>\n",
       "      <th>season</th>\n",
       "      <th>market_value_gbp</th>\n",
       "    </tr>\n",
       "  </thead>\n",
       "  <tbody>\n",
       "    <tr>\n",
       "      <th>0</th>\n",
       "      <td>2000000</td>\n",
       "      <td>Borussia Dortmund</td>\n",
       "      <td>26</td>\n",
       "      <td>L1</td>\n",
       "      <td>2004/2005</td>\n",
       "      <td>1800000.0</td>\n",
       "    </tr>\n",
       "    <tr>\n",
       "      <th>1</th>\n",
       "      <td>6750000</td>\n",
       "      <td>Borussia Dortmund</td>\n",
       "      <td>26</td>\n",
       "      <td>L1</td>\n",
       "      <td>2005/2006</td>\n",
       "      <td>6075000.0</td>\n",
       "    </tr>\n",
       "    <tr>\n",
       "      <th>2</th>\n",
       "      <td>7500000</td>\n",
       "      <td>Borussia Dortmund</td>\n",
       "      <td>26</td>\n",
       "      <td>L1</td>\n",
       "      <td>2006/2007</td>\n",
       "      <td>6750000.0</td>\n",
       "    </tr>\n",
       "    <tr>\n",
       "      <th>3</th>\n",
       "      <td>8000000</td>\n",
       "      <td>Borussia Dortmund</td>\n",
       "      <td>26</td>\n",
       "      <td>L1</td>\n",
       "      <td>2007/2008</td>\n",
       "      <td>7200000.0</td>\n",
       "    </tr>\n",
       "    <tr>\n",
       "      <th>4</th>\n",
       "      <td>5000000</td>\n",
       "      <td>Borussia Dortmund</td>\n",
       "      <td>26</td>\n",
       "      <td>L1</td>\n",
       "      <td>2008/2009</td>\n",
       "      <td>4500000.0</td>\n",
       "    </tr>\n",
       "    <tr>\n",
       "      <th>...</th>\n",
       "      <td>...</td>\n",
       "      <td>...</td>\n",
       "      <td>...</td>\n",
       "      <td>...</td>\n",
       "      <td>...</td>\n",
       "      <td>...</td>\n",
       "    </tr>\n",
       "    <tr>\n",
       "      <th>67231</th>\n",
       "      <td>200000</td>\n",
       "      <td>Dijon FCO</td>\n",
       "      <td>894205</td>\n",
       "      <td>FR1</td>\n",
       "      <td>2021/2022</td>\n",
       "      <td>180000.0</td>\n",
       "    </tr>\n",
       "    <tr>\n",
       "      <th>67232</th>\n",
       "      <td>50000</td>\n",
       "      <td>Los Angeles FC</td>\n",
       "      <td>898751</td>\n",
       "      <td>MLS1</td>\n",
       "      <td>2021/2022</td>\n",
       "      <td>45000.0</td>\n",
       "    </tr>\n",
       "    <tr>\n",
       "      <th>67233</th>\n",
       "      <td>25000</td>\n",
       "      <td>Atlanta United FC</td>\n",
       "      <td>900440</td>\n",
       "      <td>MLS1</td>\n",
       "      <td>2021/2022</td>\n",
       "      <td>22500.0</td>\n",
       "    </tr>\n",
       "    <tr>\n",
       "      <th>67234</th>\n",
       "      <td>150000</td>\n",
       "      <td>RC Lens</td>\n",
       "      <td>905408</td>\n",
       "      <td>FR1</td>\n",
       "      <td>2021/2022</td>\n",
       "      <td>135000.0</td>\n",
       "    </tr>\n",
       "    <tr>\n",
       "      <th>67235</th>\n",
       "      <td>25000</td>\n",
       "      <td>FC Cincinnati</td>\n",
       "      <td>905609</td>\n",
       "      <td>MLS1</td>\n",
       "      <td>2021/2022</td>\n",
       "      <td>22500.0</td>\n",
       "    </tr>\n",
       "  </tbody>\n",
       "</table>\n",
       "<p>67236 rows × 6 columns</p>\n",
       "</div>"
      ],
      "text/plain": [
       "       market_value_eur               club   tm_id league_code     season  \\\n",
       "0               2000000  Borussia Dortmund      26          L1  2004/2005   \n",
       "1               6750000  Borussia Dortmund      26          L1  2005/2006   \n",
       "2               7500000  Borussia Dortmund      26          L1  2006/2007   \n",
       "3               8000000  Borussia Dortmund      26          L1  2007/2008   \n",
       "4               5000000  Borussia Dortmund      26          L1  2008/2009   \n",
       "...                 ...                ...     ...         ...        ...   \n",
       "67231            200000          Dijon FCO  894205         FR1  2021/2022   \n",
       "67232             50000     Los Angeles FC  898751        MLS1  2021/2022   \n",
       "67233             25000  Atlanta United FC  900440        MLS1  2021/2022   \n",
       "67234            150000            RC Lens  905408         FR1  2021/2022   \n",
       "67235             25000      FC Cincinnati  905609        MLS1  2021/2022   \n",
       "\n",
       "       market_value_gbp  \n",
       "0             1800000.0  \n",
       "1             6075000.0  \n",
       "2             6750000.0  \n",
       "3             7200000.0  \n",
       "4             4500000.0  \n",
       "...                 ...  \n",
       "67231          180000.0  \n",
       "67232           45000.0  \n",
       "67233           22500.0  \n",
       "67234          135000.0  \n",
       "67235           22500.0  \n",
       "\n",
       "[67236 rows x 6 columns]"
      ]
     },
     "execution_count": 35,
     "metadata": {},
     "output_type": "execute_result"
    }
   ],
   "source": [
    "df_tm_market_value_grouped"
   ]
  },
  {
   "cell_type": "markdown",
   "metadata": {},
   "source": [
    "### <a id='#section4.9'>4.9. Join Bio-Status Dataset</a>"
   ]
  },
  {
   "cell_type": "markdown",
   "metadata": {},
   "source": [
    "#### Read in Engineering Bio-Status DataFrame"
   ]
  },
  {
   "cell_type": "code",
   "execution_count": 36,
   "metadata": {},
   "outputs": [],
   "source": [
    "# Import DataFrame as a CSV file\n",
    "df_tm_bio_status = pd.read_csv(data_dir_tm + f'/engineered/bio-status/tm_player_bio_status_all_1617-2122_latest.csv')"
   ]
  },
  {
   "cell_type": "markdown",
   "metadata": {},
   "source": [
    "#### Filter DataFrame for 'Big 5' European Leagues and MLS Players"
   ]
  },
  {
   "cell_type": "code",
   "execution_count": 37,
   "metadata": {},
   "outputs": [],
   "source": [
    "# Filter playerss in the 'Big 5' European Leagues and MLS\n",
    "df_tm_bio_status_big5_mls = df_tm_bio_status[df_tm_bio_status['league_code'].isin(lst_big5_mls_league_codes)]"
   ]
  },
  {
   "cell_type": "code",
   "execution_count": 38,
   "metadata": {},
   "outputs": [
    {
     "name": "stdout",
     "output_type": "stream",
     "text": [
      "No. rows in DataFrame BEFORE filtration: 9429\n",
      "No. rows in DataFrame AFTER filtration: 9429\n",
      "\n",
      "Variance in rows before and after filtration: 0\n",
      "\n",
      "----------\n"
     ]
    }
   ],
   "source": [
    "print('No. rows in DataFrame BEFORE filtration: {}'.format(len(df_tm_bio_status)))\n",
    "print('No. rows in DataFrame AFTER filtration: {}\\n'.format(len(df_tm_bio_status_big5_mls)))\n",
    "print('Variance in rows before and after filtration: {}\\n'.format(len(df_tm_bio_status_big5_mls) - len(df_tm_bio_status)))\n",
    "print('-'*10)"
   ]
  },
  {
   "cell_type": "markdown",
   "metadata": {},
   "source": [
    "#### Drop `league_code` and  `season` columns"
   ]
  },
  {
   "cell_type": "code",
   "execution_count": 39,
   "metadata": {},
   "outputs": [],
   "source": [
    "df_tm_bio_status = df_tm_bio_status.drop(columns=['league_code', 'season', 'market_value_gbp', 'market_value_eur'])\n",
    "df_tm_bio_status_big5_mls = df_tm_bio_status_big5_mls.drop(columns=['league_code', 'season', 'market_value_gbp', 'market_value_eur'])"
   ]
  },
  {
   "cell_type": "markdown",
   "metadata": {},
   "source": [
    "#### Join the Bio Status DataFrame to the Historical Market Value DataFrame"
   ]
  },
  {
   "cell_type": "code",
   "execution_count": 40,
   "metadata": {},
   "outputs": [],
   "source": [
    "# Join the Bio-Status DataFrame to the Market Value DataFrame to form one, unified DataFrame\n",
    "df_tm_market_value_bio_status = pd.merge(df_tm_market_value_grouped, df_tm_bio_status, left_on='tm_id', right_on='tm_id', how='left')"
   ]
  },
  {
   "cell_type": "code",
   "execution_count": 41,
   "metadata": {},
   "outputs": [
    {
     "name": "stdout",
     "output_type": "stream",
     "text": [
      "No. rows in Market Value DataFrame BEFORE join to Bio-Status data: 67236\n",
      "No. rows in DataFrame AFTER join: 67236\n",
      "\n",
      "Variance in rows before and after join: 0\n",
      "\n",
      "----------\n"
     ]
    }
   ],
   "source": [
    "print('No. rows in Market Value DataFrame BEFORE join to Bio-Status data: {}'.format(len(df_tm_market_value_grouped)))\n",
    "print('No. rows in DataFrame AFTER join: {}\\n'.format(len(df_tm_market_value_bio_status)))\n",
    "print('Variance in rows before and after join: {}\\n'.format(len(df_tm_market_value_grouped) - len(df_tm_market_value_bio_status)))\n",
    "print('-'*10)"
   ]
  },
  {
   "cell_type": "code",
   "execution_count": 42,
   "metadata": {},
   "outputs": [
    {
     "data": {
      "text/plain": [
       "(67236, 41)"
      ]
     },
     "execution_count": 42,
     "metadata": {},
     "output_type": "execute_result"
    }
   ],
   "source": [
    "df_tm_market_value_bio_status.shape"
   ]
  },
  {
   "cell_type": "markdown",
   "metadata": {},
   "source": [
    "### <a id='#section4.10'>4.10. Rename Columns</a>"
   ]
  },
  {
   "cell_type": "code",
   "execution_count": 49,
   "metadata": {},
   "outputs": [],
   "source": [
    "df_tm_market_value_bio_status = df_tm_market_value_bio_status.rename(columns={'age': 'current_age'})"
   ]
  },
  {
   "cell_type": "markdown",
   "metadata": {},
   "source": [
    "### <a id='#section4.11'>4.11. Select Columns of Interest</a>"
   ]
  },
  {
   "cell_type": "code",
   "execution_count": 77,
   "metadata": {},
   "outputs": [
    {
     "data": {
      "text/html": [
       "<div>\n",
       "<style scoped>\n",
       "    .dataframe tbody tr th:only-of-type {\n",
       "        vertical-align: middle;\n",
       "    }\n",
       "\n",
       "    .dataframe tbody tr th {\n",
       "        vertical-align: top;\n",
       "    }\n",
       "\n",
       "    .dataframe thead th {\n",
       "        text-align: right;\n",
       "    }\n",
       "</style>\n",
       "<table border=\"1\" class=\"dataframe\">\n",
       "  <thead>\n",
       "    <tr style=\"text-align: right;\">\n",
       "      <th></th>\n",
       "      <th>tm_id</th>\n",
       "      <th>season</th>\n",
       "      <th>player_name</th>\n",
       "      <th>club</th>\n",
       "      <th>current_club</th>\n",
       "      <th>league_code</th>\n",
       "      <th>current_age</th>\n",
       "      <th>market_value_gbp</th>\n",
       "      <th>market_value_eur</th>\n",
       "      <th>dob</th>\n",
       "      <th>pob</th>\n",
       "      <th>birth_year</th>\n",
       "      <th>position</th>\n",
       "      <th>position_code</th>\n",
       "      <th>position_grouped</th>\n",
       "      <th>outfielder_goalkeeper</th>\n",
       "      <th>height</th>\n",
       "      <th>foot</th>\n",
       "      <th>citizenship</th>\n",
       "      <th>second_citizenship</th>\n",
       "      <th>player_agent</th>\n",
       "    </tr>\n",
       "  </thead>\n",
       "  <tbody>\n",
       "    <tr>\n",
       "      <th>0</th>\n",
       "      <td>26</td>\n",
       "      <td>2004/2005</td>\n",
       "      <td>roman weidenfeller</td>\n",
       "      <td>Borussia Dortmund</td>\n",
       "      <td>retired</td>\n",
       "      <td>L1</td>\n",
       "      <td>41.0</td>\n",
       "      <td>1800000.0</td>\n",
       "      <td>2000000</td>\n",
       "      <td>1980-08-06</td>\n",
       "      <td>Diez</td>\n",
       "      <td>1980.0</td>\n",
       "      <td>Goalkeeper</td>\n",
       "      <td>GK</td>\n",
       "      <td>Goalkeeper</td>\n",
       "      <td>Goalkeeper</td>\n",
       "      <td>188.0</td>\n",
       "      <td>left</td>\n",
       "      <td>Germany</td>\n",
       "      <td>NaN</td>\n",
       "      <td>Jörg Neubauer</td>\n",
       "    </tr>\n",
       "    <tr>\n",
       "      <th>1</th>\n",
       "      <td>26</td>\n",
       "      <td>2005/2006</td>\n",
       "      <td>roman weidenfeller</td>\n",
       "      <td>Borussia Dortmund</td>\n",
       "      <td>retired</td>\n",
       "      <td>L1</td>\n",
       "      <td>41.0</td>\n",
       "      <td>6075000.0</td>\n",
       "      <td>6750000</td>\n",
       "      <td>1980-08-06</td>\n",
       "      <td>Diez</td>\n",
       "      <td>1980.0</td>\n",
       "      <td>Goalkeeper</td>\n",
       "      <td>GK</td>\n",
       "      <td>Goalkeeper</td>\n",
       "      <td>Goalkeeper</td>\n",
       "      <td>188.0</td>\n",
       "      <td>left</td>\n",
       "      <td>Germany</td>\n",
       "      <td>NaN</td>\n",
       "      <td>Jörg Neubauer</td>\n",
       "    </tr>\n",
       "    <tr>\n",
       "      <th>2</th>\n",
       "      <td>26</td>\n",
       "      <td>2006/2007</td>\n",
       "      <td>roman weidenfeller</td>\n",
       "      <td>Borussia Dortmund</td>\n",
       "      <td>retired</td>\n",
       "      <td>L1</td>\n",
       "      <td>41.0</td>\n",
       "      <td>6750000.0</td>\n",
       "      <td>7500000</td>\n",
       "      <td>1980-08-06</td>\n",
       "      <td>Diez</td>\n",
       "      <td>1980.0</td>\n",
       "      <td>Goalkeeper</td>\n",
       "      <td>GK</td>\n",
       "      <td>Goalkeeper</td>\n",
       "      <td>Goalkeeper</td>\n",
       "      <td>188.0</td>\n",
       "      <td>left</td>\n",
       "      <td>Germany</td>\n",
       "      <td>NaN</td>\n",
       "      <td>Jörg Neubauer</td>\n",
       "    </tr>\n",
       "    <tr>\n",
       "      <th>3</th>\n",
       "      <td>26</td>\n",
       "      <td>2007/2008</td>\n",
       "      <td>roman weidenfeller</td>\n",
       "      <td>Borussia Dortmund</td>\n",
       "      <td>retired</td>\n",
       "      <td>L1</td>\n",
       "      <td>41.0</td>\n",
       "      <td>7200000.0</td>\n",
       "      <td>8000000</td>\n",
       "      <td>1980-08-06</td>\n",
       "      <td>Diez</td>\n",
       "      <td>1980.0</td>\n",
       "      <td>Goalkeeper</td>\n",
       "      <td>GK</td>\n",
       "      <td>Goalkeeper</td>\n",
       "      <td>Goalkeeper</td>\n",
       "      <td>188.0</td>\n",
       "      <td>left</td>\n",
       "      <td>Germany</td>\n",
       "      <td>NaN</td>\n",
       "      <td>Jörg Neubauer</td>\n",
       "    </tr>\n",
       "    <tr>\n",
       "      <th>4</th>\n",
       "      <td>26</td>\n",
       "      <td>2008/2009</td>\n",
       "      <td>roman weidenfeller</td>\n",
       "      <td>Borussia Dortmund</td>\n",
       "      <td>retired</td>\n",
       "      <td>L1</td>\n",
       "      <td>41.0</td>\n",
       "      <td>4500000.0</td>\n",
       "      <td>5000000</td>\n",
       "      <td>1980-08-06</td>\n",
       "      <td>Diez</td>\n",
       "      <td>1980.0</td>\n",
       "      <td>Goalkeeper</td>\n",
       "      <td>GK</td>\n",
       "      <td>Goalkeeper</td>\n",
       "      <td>Goalkeeper</td>\n",
       "      <td>188.0</td>\n",
       "      <td>left</td>\n",
       "      <td>Germany</td>\n",
       "      <td>NaN</td>\n",
       "      <td>Jörg Neubauer</td>\n",
       "    </tr>\n",
       "    <tr>\n",
       "      <th>5</th>\n",
       "      <td>26</td>\n",
       "      <td>2010/2011</td>\n",
       "      <td>roman weidenfeller</td>\n",
       "      <td>Borussia Dortmund</td>\n",
       "      <td>retired</td>\n",
       "      <td>L1</td>\n",
       "      <td>41.0</td>\n",
       "      <td>4050000.0</td>\n",
       "      <td>4500000</td>\n",
       "      <td>1980-08-06</td>\n",
       "      <td>Diez</td>\n",
       "      <td>1980.0</td>\n",
       "      <td>Goalkeeper</td>\n",
       "      <td>GK</td>\n",
       "      <td>Goalkeeper</td>\n",
       "      <td>Goalkeeper</td>\n",
       "      <td>188.0</td>\n",
       "      <td>left</td>\n",
       "      <td>Germany</td>\n",
       "      <td>NaN</td>\n",
       "      <td>Jörg Neubauer</td>\n",
       "    </tr>\n",
       "    <tr>\n",
       "      <th>6</th>\n",
       "      <td>26</td>\n",
       "      <td>2011/2012</td>\n",
       "      <td>roman weidenfeller</td>\n",
       "      <td>Borussia Dortmund</td>\n",
       "      <td>retired</td>\n",
       "      <td>L1</td>\n",
       "      <td>41.0</td>\n",
       "      <td>4500000.0</td>\n",
       "      <td>5000000</td>\n",
       "      <td>1980-08-06</td>\n",
       "      <td>Diez</td>\n",
       "      <td>1980.0</td>\n",
       "      <td>Goalkeeper</td>\n",
       "      <td>GK</td>\n",
       "      <td>Goalkeeper</td>\n",
       "      <td>Goalkeeper</td>\n",
       "      <td>188.0</td>\n",
       "      <td>left</td>\n",
       "      <td>Germany</td>\n",
       "      <td>NaN</td>\n",
       "      <td>Jörg Neubauer</td>\n",
       "    </tr>\n",
       "    <tr>\n",
       "      <th>7</th>\n",
       "      <td>26</td>\n",
       "      <td>2012/2013</td>\n",
       "      <td>roman weidenfeller</td>\n",
       "      <td>Borussia Dortmund</td>\n",
       "      <td>retired</td>\n",
       "      <td>L1</td>\n",
       "      <td>41.0</td>\n",
       "      <td>4500000.0</td>\n",
       "      <td>5000000</td>\n",
       "      <td>1980-08-06</td>\n",
       "      <td>Diez</td>\n",
       "      <td>1980.0</td>\n",
       "      <td>Goalkeeper</td>\n",
       "      <td>GK</td>\n",
       "      <td>Goalkeeper</td>\n",
       "      <td>Goalkeeper</td>\n",
       "      <td>188.0</td>\n",
       "      <td>left</td>\n",
       "      <td>Germany</td>\n",
       "      <td>NaN</td>\n",
       "      <td>Jörg Neubauer</td>\n",
       "    </tr>\n",
       "    <tr>\n",
       "      <th>8</th>\n",
       "      <td>26</td>\n",
       "      <td>2013/2014</td>\n",
       "      <td>roman weidenfeller</td>\n",
       "      <td>Borussia Dortmund</td>\n",
       "      <td>retired</td>\n",
       "      <td>L1</td>\n",
       "      <td>41.0</td>\n",
       "      <td>4500000.0</td>\n",
       "      <td>5000000</td>\n",
       "      <td>1980-08-06</td>\n",
       "      <td>Diez</td>\n",
       "      <td>1980.0</td>\n",
       "      <td>Goalkeeper</td>\n",
       "      <td>GK</td>\n",
       "      <td>Goalkeeper</td>\n",
       "      <td>Goalkeeper</td>\n",
       "      <td>188.0</td>\n",
       "      <td>left</td>\n",
       "      <td>Germany</td>\n",
       "      <td>NaN</td>\n",
       "      <td>Jörg Neubauer</td>\n",
       "    </tr>\n",
       "    <tr>\n",
       "      <th>9</th>\n",
       "      <td>26</td>\n",
       "      <td>2014/2015</td>\n",
       "      <td>roman weidenfeller</td>\n",
       "      <td>Borussia Dortmund</td>\n",
       "      <td>retired</td>\n",
       "      <td>L1</td>\n",
       "      <td>41.0</td>\n",
       "      <td>4500000.0</td>\n",
       "      <td>5000000</td>\n",
       "      <td>1980-08-06</td>\n",
       "      <td>Diez</td>\n",
       "      <td>1980.0</td>\n",
       "      <td>Goalkeeper</td>\n",
       "      <td>GK</td>\n",
       "      <td>Goalkeeper</td>\n",
       "      <td>Goalkeeper</td>\n",
       "      <td>188.0</td>\n",
       "      <td>left</td>\n",
       "      <td>Germany</td>\n",
       "      <td>NaN</td>\n",
       "      <td>Jörg Neubauer</td>\n",
       "    </tr>\n",
       "  </tbody>\n",
       "</table>\n",
       "</div>"
      ],
      "text/plain": [
       "   tm_id     season         player_name               club current_club  \\\n",
       "0     26  2004/2005  roman weidenfeller  Borussia Dortmund      retired   \n",
       "1     26  2005/2006  roman weidenfeller  Borussia Dortmund      retired   \n",
       "2     26  2006/2007  roman weidenfeller  Borussia Dortmund      retired   \n",
       "3     26  2007/2008  roman weidenfeller  Borussia Dortmund      retired   \n",
       "4     26  2008/2009  roman weidenfeller  Borussia Dortmund      retired   \n",
       "5     26  2010/2011  roman weidenfeller  Borussia Dortmund      retired   \n",
       "6     26  2011/2012  roman weidenfeller  Borussia Dortmund      retired   \n",
       "7     26  2012/2013  roman weidenfeller  Borussia Dortmund      retired   \n",
       "8     26  2013/2014  roman weidenfeller  Borussia Dortmund      retired   \n",
       "9     26  2014/2015  roman weidenfeller  Borussia Dortmund      retired   \n",
       "\n",
       "  league_code  current_age  market_value_gbp  market_value_eur         dob  \\\n",
       "0          L1         41.0         1800000.0           2000000  1980-08-06   \n",
       "1          L1         41.0         6075000.0           6750000  1980-08-06   \n",
       "2          L1         41.0         6750000.0           7500000  1980-08-06   \n",
       "3          L1         41.0         7200000.0           8000000  1980-08-06   \n",
       "4          L1         41.0         4500000.0           5000000  1980-08-06   \n",
       "5          L1         41.0         4050000.0           4500000  1980-08-06   \n",
       "6          L1         41.0         4500000.0           5000000  1980-08-06   \n",
       "7          L1         41.0         4500000.0           5000000  1980-08-06   \n",
       "8          L1         41.0         4500000.0           5000000  1980-08-06   \n",
       "9          L1         41.0         4500000.0           5000000  1980-08-06   \n",
       "\n",
       "    pob  birth_year    position position_code position_grouped  \\\n",
       "0  Diez      1980.0  Goalkeeper            GK       Goalkeeper   \n",
       "1  Diez      1980.0  Goalkeeper            GK       Goalkeeper   \n",
       "2  Diez      1980.0  Goalkeeper            GK       Goalkeeper   \n",
       "3  Diez      1980.0  Goalkeeper            GK       Goalkeeper   \n",
       "4  Diez      1980.0  Goalkeeper            GK       Goalkeeper   \n",
       "5  Diez      1980.0  Goalkeeper            GK       Goalkeeper   \n",
       "6  Diez      1980.0  Goalkeeper            GK       Goalkeeper   \n",
       "7  Diez      1980.0  Goalkeeper            GK       Goalkeeper   \n",
       "8  Diez      1980.0  Goalkeeper            GK       Goalkeeper   \n",
       "9  Diez      1980.0  Goalkeeper            GK       Goalkeeper   \n",
       "\n",
       "  outfielder_goalkeeper  height  foot citizenship second_citizenship  \\\n",
       "0            Goalkeeper   188.0  left     Germany                NaN   \n",
       "1            Goalkeeper   188.0  left     Germany                NaN   \n",
       "2            Goalkeeper   188.0  left     Germany                NaN   \n",
       "3            Goalkeeper   188.0  left     Germany                NaN   \n",
       "4            Goalkeeper   188.0  left     Germany                NaN   \n",
       "5            Goalkeeper   188.0  left     Germany                NaN   \n",
       "6            Goalkeeper   188.0  left     Germany                NaN   \n",
       "7            Goalkeeper   188.0  left     Germany                NaN   \n",
       "8            Goalkeeper   188.0  left     Germany                NaN   \n",
       "9            Goalkeeper   188.0  left     Germany                NaN   \n",
       "\n",
       "    player_agent  \n",
       "0  Jörg Neubauer  \n",
       "1  Jörg Neubauer  \n",
       "2  Jörg Neubauer  \n",
       "3  Jörg Neubauer  \n",
       "4  Jörg Neubauer  \n",
       "5  Jörg Neubauer  \n",
       "6  Jörg Neubauer  \n",
       "7  Jörg Neubauer  \n",
       "8  Jörg Neubauer  \n",
       "9  Jörg Neubauer  "
      ]
     },
     "execution_count": 77,
     "metadata": {},
     "output_type": "execute_result"
    }
   ],
   "source": [
    "## Define columns\n",
    "cols = ['tm_id',\n",
    "        'season',\n",
    "        'player_name',\n",
    "        'club',\n",
    "        'current_club',\n",
    "        'league_code',\n",
    "        'current_age',\n",
    "        'market_value_gbp',\n",
    "        'market_value_eur',\n",
    "        'dob',\n",
    "        'pob',\n",
    "        'birth_year',\n",
    "        'position',\n",
    "        'position_code',\n",
    "        'position_grouped',\n",
    "        'outfielder_goalkeeper',\n",
    "        'height',\n",
    "        'foot',\n",
    "        'citizenship',\n",
    "        'second_citizenship',\n",
    "        'player_agent'\n",
    "       ]\n",
    "\n",
    "## Select columns of interest\n",
    "df_tm_market_value_bio_status_select = df_tm_market_value_bio_status[cols]\n",
    "\n",
    "## Sort by 'tm_id' and 'season' ascending\n",
    "df_tm_market_value_bio_status_select = df_tm_market_value_bio_status_select.sort_values(['tm_id', 'season'], ascending=[True, True])\n",
    "\n",
    "## Drop index\n",
    "df_tm_market_value_bio_status_select = df_tm_market_value_bio_status_select.reset_index(drop=True)\n",
    "\n",
    "## Drop duplicates\n",
    "df_tm_market_value_bio_status_select = df_tm_market_value_bio_status_select.drop_duplicates()\n",
    "\n",
    "## Display DataFrame\n",
    "df_tm_market_value_bio_status_select.head(10)"
   ]
  },
  {
   "cell_type": "markdown",
   "metadata": {},
   "source": [
    "### <a id='#section4.12'>4.12. Determine Retired Players</a>"
   ]
  },
  {
   "cell_type": "code",
   "execution_count": 78,
   "metadata": {},
   "outputs": [],
   "source": [
    "# determine current season from today's date\n",
    "# if season does not appear in the dataset, they've retired - is retired attribute"
   ]
  },
  {
   "cell_type": "code",
   "execution_count": 79,
   "metadata": {},
   "outputs": [],
   "source": [
    "# add other attributes\n",
    "# current age / age of season - see TM Bio Status ntb for how to calculate some of these\n",
    "# current club / club of season\n",
    "# add 'current' to the following: contract_expires, contract_option, on_loan_from, on_loan_from_country, loan_contract_expiry"
   ]
  },
  {
   "cell_type": "code",
   "execution_count": 80,
   "metadata": {},
   "outputs": [],
   "source": [
    "## DOUBLE CHECK ATTRIBUTES SELECTED IN FINAL DATASET"
   ]
  },
  {
   "cell_type": "markdown",
   "metadata": {},
   "source": [
    "### <a id='#section4.13'>4.13. Filter Players in 'Big 5' European Leagues</a>\n",
    "Export the engineered DataFrame as a CSV file."
   ]
  },
  {
   "cell_type": "code",
   "execution_count": 81,
   "metadata": {},
   "outputs": [],
   "source": [
    "# Filter playerss in the 'Big 5' European Leagues and MLS\n",
    "df_tm_market_value_bio_status_select_big5_mls = df_tm_market_value_bio_status_select[df_tm_market_value_bio_status_select['league_code'].isin(lst_big5_mls_league_codes)]"
   ]
  },
  {
   "cell_type": "code",
   "execution_count": 82,
   "metadata": {},
   "outputs": [
    {
     "name": "stdout",
     "output_type": "stream",
     "text": [
      "No. rows in DataFrame BEFORE filtration: 67236\n",
      "No. rows in DataFrame AFTER filtration: 67236\n",
      "\n",
      "Variance in rows before and after filtration: 0\n",
      "\n",
      "----------\n"
     ]
    }
   ],
   "source": [
    "print('No. rows in DataFrame BEFORE filtration: {}'.format(len(df_tm_market_value_bio_status_select)))\n",
    "print('No. rows in DataFrame AFTER filtration: {}\\n'.format(len(df_tm_market_value_bio_status_select_big5_mls)))\n",
    "print('Variance in rows before and after filtration: {}\\n'.format(len(df_tm_market_value_bio_status_select) - len(df_tm_market_value_bio_status_select_big5_mls)))\n",
    "print('-'*10)"
   ]
  },
  {
   "cell_type": "markdown",
   "metadata": {},
   "source": [
    "### <a id='#section4.14'>4.14. Exporting the Engineered DataFrames</a>\n",
    "Export the engineered DataFrame as a CSV file."
   ]
  },
  {
   "cell_type": "markdown",
   "metadata": {},
   "source": [
    "##### All players"
   ]
  },
  {
   "cell_type": "code",
   "execution_count": 83,
   "metadata": {},
   "outputs": [],
   "source": [
    "## Filename\n",
    "file_name = 'tm_player_valuations_all'\n",
    "\n",
    "## Full season string\n",
    "full_season_string = '2016/2017-2021/2022'\n",
    "\n",
    "## Short season string\n",
    "short_season_string = '1617-2122'"
   ]
  },
  {
   "cell_type": "code",
   "execution_count": 84,
   "metadata": {},
   "outputs": [],
   "source": [
    "# Export DataFrame as a CSV file\n",
    "\n",
    "## Export a copy to the 'archive' subfolder of the TM folder, including the date\n",
    "df_tm_market_value_bio_status_select.to_csv(data_dir_tm + f'/engineered/historical_market_values/archive/{file_name}_{short_season_string}_last_updated_{today}.csv', index=None, header=True)\n",
    "\n",
    "## Export another copy to the TM folder called 'latest' (can be overwritten)\n",
    "df_tm_market_value_bio_status_select.to_csv(data_dir_tm + f'/engineered/historical_market_values/{file_name}_{short_season_string}_latest.csv', index=None, header=True)"
   ]
  },
  {
   "cell_type": "markdown",
   "metadata": {},
   "source": [
    "##### 'Big 5' European and MLS Players"
   ]
  },
  {
   "cell_type": "code",
   "execution_count": 85,
   "metadata": {},
   "outputs": [],
   "source": [
    "## Filename\n",
    "file_name = 'tm_player_valuations_big5_mls'\n",
    "\n",
    "## Full season string\n",
    "full_season_string = '2016/2017-2021/2022'\n",
    "\n",
    "## Short season string\n",
    "short_season_string = '1617-2122'"
   ]
  },
  {
   "cell_type": "code",
   "execution_count": 86,
   "metadata": {},
   "outputs": [],
   "source": [
    "## 'Big 5' European Leagues and MLS\n",
    "\n",
    "### Export a copy to the 'archive' subfolder of the TM folder, including the date\n",
    "df_tm_market_value_bio_status_select_big5_mls.to_csv(data_dir_tm + f'/engineered/historical_market_values/archive/tm_bio_status_big5_mls_{short_season_string}_last_updated_{today}.csv', index=None, header=True)\n",
    "\n",
    "### Export another copy to the TM folder called 'latest' (can be overwritten)\n",
    "df_tm_market_value_bio_status_select_big5_mls.to_csv(data_dir_tm + f'/engineered/historical_market_values/tm_bio_status_big5_mls_{short_season_string}_latest.csv', index=None, header=True)"
   ]
  },
  {
   "cell_type": "markdown",
   "metadata": {},
   "source": [
    "___\n",
    "\n",
    "<a id='section5'></a>\n",
    "\n",
    "## <a id='#section5'>5. Exploratory Data Analysis</a>"
   ]
  },
  {
   "cell_type": "code",
   "execution_count": 87,
   "metadata": {},
   "outputs": [
    {
     "data": {
      "text/html": [
       "<div>\n",
       "<style scoped>\n",
       "    .dataframe tbody tr th:only-of-type {\n",
       "        vertical-align: middle;\n",
       "    }\n",
       "\n",
       "    .dataframe tbody tr th {\n",
       "        vertical-align: top;\n",
       "    }\n",
       "\n",
       "    .dataframe thead th {\n",
       "        text-align: right;\n",
       "    }\n",
       "</style>\n",
       "<table border=\"1\" class=\"dataframe\">\n",
       "  <thead>\n",
       "    <tr style=\"text-align: right;\">\n",
       "      <th></th>\n",
       "      <th>tm_id</th>\n",
       "      <th>season</th>\n",
       "      <th>player_name</th>\n",
       "      <th>club</th>\n",
       "      <th>current_club</th>\n",
       "      <th>league_code</th>\n",
       "      <th>current_age</th>\n",
       "      <th>market_value_gbp</th>\n",
       "      <th>market_value_eur</th>\n",
       "      <th>dob</th>\n",
       "      <th>pob</th>\n",
       "      <th>birth_year</th>\n",
       "      <th>position</th>\n",
       "      <th>position_code</th>\n",
       "      <th>position_grouped</th>\n",
       "      <th>outfielder_goalkeeper</th>\n",
       "      <th>height</th>\n",
       "      <th>foot</th>\n",
       "      <th>citizenship</th>\n",
       "      <th>second_citizenship</th>\n",
       "      <th>player_agent</th>\n",
       "    </tr>\n",
       "  </thead>\n",
       "  <tbody>\n",
       "    <tr>\n",
       "      <th>0</th>\n",
       "      <td>26</td>\n",
       "      <td>2004/2005</td>\n",
       "      <td>roman weidenfeller</td>\n",
       "      <td>Borussia Dortmund</td>\n",
       "      <td>retired</td>\n",
       "      <td>L1</td>\n",
       "      <td>41.0</td>\n",
       "      <td>1800000.0</td>\n",
       "      <td>2000000</td>\n",
       "      <td>1980-08-06</td>\n",
       "      <td>Diez</td>\n",
       "      <td>1980.0</td>\n",
       "      <td>Goalkeeper</td>\n",
       "      <td>GK</td>\n",
       "      <td>Goalkeeper</td>\n",
       "      <td>Goalkeeper</td>\n",
       "      <td>188.0</td>\n",
       "      <td>left</td>\n",
       "      <td>Germany</td>\n",
       "      <td>NaN</td>\n",
       "      <td>Jörg Neubauer</td>\n",
       "    </tr>\n",
       "    <tr>\n",
       "      <th>1</th>\n",
       "      <td>26</td>\n",
       "      <td>2005/2006</td>\n",
       "      <td>roman weidenfeller</td>\n",
       "      <td>Borussia Dortmund</td>\n",
       "      <td>retired</td>\n",
       "      <td>L1</td>\n",
       "      <td>41.0</td>\n",
       "      <td>6075000.0</td>\n",
       "      <td>6750000</td>\n",
       "      <td>1980-08-06</td>\n",
       "      <td>Diez</td>\n",
       "      <td>1980.0</td>\n",
       "      <td>Goalkeeper</td>\n",
       "      <td>GK</td>\n",
       "      <td>Goalkeeper</td>\n",
       "      <td>Goalkeeper</td>\n",
       "      <td>188.0</td>\n",
       "      <td>left</td>\n",
       "      <td>Germany</td>\n",
       "      <td>NaN</td>\n",
       "      <td>Jörg Neubauer</td>\n",
       "    </tr>\n",
       "    <tr>\n",
       "      <th>2</th>\n",
       "      <td>26</td>\n",
       "      <td>2006/2007</td>\n",
       "      <td>roman weidenfeller</td>\n",
       "      <td>Borussia Dortmund</td>\n",
       "      <td>retired</td>\n",
       "      <td>L1</td>\n",
       "      <td>41.0</td>\n",
       "      <td>6750000.0</td>\n",
       "      <td>7500000</td>\n",
       "      <td>1980-08-06</td>\n",
       "      <td>Diez</td>\n",
       "      <td>1980.0</td>\n",
       "      <td>Goalkeeper</td>\n",
       "      <td>GK</td>\n",
       "      <td>Goalkeeper</td>\n",
       "      <td>Goalkeeper</td>\n",
       "      <td>188.0</td>\n",
       "      <td>left</td>\n",
       "      <td>Germany</td>\n",
       "      <td>NaN</td>\n",
       "      <td>Jörg Neubauer</td>\n",
       "    </tr>\n",
       "    <tr>\n",
       "      <th>3</th>\n",
       "      <td>26</td>\n",
       "      <td>2007/2008</td>\n",
       "      <td>roman weidenfeller</td>\n",
       "      <td>Borussia Dortmund</td>\n",
       "      <td>retired</td>\n",
       "      <td>L1</td>\n",
       "      <td>41.0</td>\n",
       "      <td>7200000.0</td>\n",
       "      <td>8000000</td>\n",
       "      <td>1980-08-06</td>\n",
       "      <td>Diez</td>\n",
       "      <td>1980.0</td>\n",
       "      <td>Goalkeeper</td>\n",
       "      <td>GK</td>\n",
       "      <td>Goalkeeper</td>\n",
       "      <td>Goalkeeper</td>\n",
       "      <td>188.0</td>\n",
       "      <td>left</td>\n",
       "      <td>Germany</td>\n",
       "      <td>NaN</td>\n",
       "      <td>Jörg Neubauer</td>\n",
       "    </tr>\n",
       "    <tr>\n",
       "      <th>4</th>\n",
       "      <td>26</td>\n",
       "      <td>2008/2009</td>\n",
       "      <td>roman weidenfeller</td>\n",
       "      <td>Borussia Dortmund</td>\n",
       "      <td>retired</td>\n",
       "      <td>L1</td>\n",
       "      <td>41.0</td>\n",
       "      <td>4500000.0</td>\n",
       "      <td>5000000</td>\n",
       "      <td>1980-08-06</td>\n",
       "      <td>Diez</td>\n",
       "      <td>1980.0</td>\n",
       "      <td>Goalkeeper</td>\n",
       "      <td>GK</td>\n",
       "      <td>Goalkeeper</td>\n",
       "      <td>Goalkeeper</td>\n",
       "      <td>188.0</td>\n",
       "      <td>left</td>\n",
       "      <td>Germany</td>\n",
       "      <td>NaN</td>\n",
       "      <td>Jörg Neubauer</td>\n",
       "    </tr>\n",
       "  </tbody>\n",
       "</table>\n",
       "</div>"
      ],
      "text/plain": [
       "   tm_id     season         player_name               club current_club  \\\n",
       "0     26  2004/2005  roman weidenfeller  Borussia Dortmund      retired   \n",
       "1     26  2005/2006  roman weidenfeller  Borussia Dortmund      retired   \n",
       "2     26  2006/2007  roman weidenfeller  Borussia Dortmund      retired   \n",
       "3     26  2007/2008  roman weidenfeller  Borussia Dortmund      retired   \n",
       "4     26  2008/2009  roman weidenfeller  Borussia Dortmund      retired   \n",
       "\n",
       "  league_code  current_age  market_value_gbp  market_value_eur         dob  \\\n",
       "0          L1         41.0         1800000.0           2000000  1980-08-06   \n",
       "1          L1         41.0         6075000.0           6750000  1980-08-06   \n",
       "2          L1         41.0         6750000.0           7500000  1980-08-06   \n",
       "3          L1         41.0         7200000.0           8000000  1980-08-06   \n",
       "4          L1         41.0         4500000.0           5000000  1980-08-06   \n",
       "\n",
       "    pob  birth_year    position position_code position_grouped  \\\n",
       "0  Diez      1980.0  Goalkeeper            GK       Goalkeeper   \n",
       "1  Diez      1980.0  Goalkeeper            GK       Goalkeeper   \n",
       "2  Diez      1980.0  Goalkeeper            GK       Goalkeeper   \n",
       "3  Diez      1980.0  Goalkeeper            GK       Goalkeeper   \n",
       "4  Diez      1980.0  Goalkeeper            GK       Goalkeeper   \n",
       "\n",
       "  outfielder_goalkeeper  height  foot citizenship second_citizenship  \\\n",
       "0            Goalkeeper   188.0  left     Germany                NaN   \n",
       "1            Goalkeeper   188.0  left     Germany                NaN   \n",
       "2            Goalkeeper   188.0  left     Germany                NaN   \n",
       "3            Goalkeeper   188.0  left     Germany                NaN   \n",
       "4            Goalkeeper   188.0  left     Germany                NaN   \n",
       "\n",
       "    player_agent  \n",
       "0  Jörg Neubauer  \n",
       "1  Jörg Neubauer  \n",
       "2  Jörg Neubauer  \n",
       "3  Jörg Neubauer  \n",
       "4  Jörg Neubauer  "
      ]
     },
     "execution_count": 87,
     "metadata": {},
     "output_type": "execute_result"
    }
   ],
   "source": [
    "df_tm_market_value_bio_status_select.head()"
   ]
  },
  {
   "cell_type": "markdown",
   "metadata": {},
   "source": [
    "___\n",
    "\n",
    "<a id='section6'></a>\n",
    "\n",
    "## <a id='#section6'>6. Summary</a>\n",
    "This Jupyter notebook engineered scraped football data from [TransferMarkt](https://www.transfermarkt.co.uk/) using [pandas](http://pandas.pydata.org/) for data manipulation through DataFrames."
   ]
  },
  {
   "cell_type": "markdown",
   "metadata": {},
   "source": [
    "___\n",
    "\n",
    "<a id='section7'></a>\n",
    "\n",
    "## <a id='#section7'>7. Next Steps</a>\n",
    "The step is to use this data and match it to FBref, 21st Club, Opta, FIFA, and other datasets."
   ]
  },
  {
   "cell_type": "markdown",
   "metadata": {},
   "source": [
    "___\n",
    "\n",
    "<a id='section8'></a>\n",
    "\n",
    "## <a id='#section8'>8. References</a>\n",
    "\n",
    "#### Data and Web Scraping\n",
    "*    [tyrone_mings GitHub repository](https://github.com/FCrSTATS/tyrone_mings) by [FCrSTATS](https://github.com/FCrSTATS)\n",
    "*    [Python Package Index (PyPI) tyrone-mings library](https://pypi.org/project/tyrone-mings/)\n",
    "*    [Beyond crowd judgments: Data-driven estimation of market value in association football](https://www.sciencedirect.com/science/article/pii/S0377221717304332) by Oliver Müllera, Alexander Simons, and Markus Weinmann.\n",
    "*    [06/04/2020: BBC - Premier League squads 'drop £1.6bn in value'](https://www.bbc.co.uk/sport/football/52221463)."
   ]
  },
  {
   "cell_type": "markdown",
   "metadata": {},
   "source": [
    "---\n",
    "\n",
    "***Visit my website [EddWebster.com](https://www.eddwebster.com) or my [GitHub Repository](https://github.com/eddwebster) for more projects. If you'd like to get in contact, my Twitter handle is [@eddwebster](http://www.twitter.com/eddwebster) and my email is: edd.j.webster@gmail.com.***"
   ]
  },
  {
   "cell_type": "markdown",
   "metadata": {},
   "source": [
    "[Back to the top](#top)"
   ]
  }
 ],
 "metadata": {
  "kernelspec": {
   "display_name": "Python 3 (ipykernel)",
   "language": "python",
   "name": "python3"
  },
  "language_info": {
   "codemirror_mode": {
    "name": "ipython",
    "version": 3
   },
   "file_extension": ".py",
   "mimetype": "text/x-python",
   "name": "python",
   "nbconvert_exporter": "python",
   "pygments_lexer": "ipython3",
   "version": "3.7.6"
  },
  "varInspector": {
   "cols": {
    "lenName": 16,
    "lenType": 16,
    "lenVar": 40
   },
   "kernels_config": {
    "python": {
     "delete_cmd_postfix": "",
     "delete_cmd_prefix": "del ",
     "library": "var_list.py",
     "varRefreshCmd": "print(var_dic_list())"
    },
    "r": {
     "delete_cmd_postfix": ") ",
     "delete_cmd_prefix": "rm(",
     "library": "var_list.r",
     "varRefreshCmd": "cat(var_dic_list()) "
    }
   },
   "oldHeight": 642,
   "position": {
    "height": "664px",
    "left": "1119px",
    "right": "20px",
    "top": "-7px",
    "width": "489px"
   },
   "types_to_exclude": [
    "module",
    "function",
    "builtin_function_or_method",
    "instance",
    "_Feature"
   ],
   "varInspector_section_display": "block",
   "window_display": false
  }
 },
 "nbformat": 4,
 "nbformat_minor": 2
}
