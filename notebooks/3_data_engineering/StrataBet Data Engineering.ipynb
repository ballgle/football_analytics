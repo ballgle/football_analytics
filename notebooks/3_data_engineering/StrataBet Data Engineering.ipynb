{
 "cells": [
  {
   "cell_type": "markdown",
   "metadata": {},
   "source": [
    "<a id='top'></a>"
   ]
  },
  {
   "cell_type": "markdown",
   "metadata": {},
   "source": [
    "# Data Engineering of StrataBet Data\n",
    "##### Notebook to engineer the event data provided by [StrataBet]( http://www.stratagem.co/)\n",
    "\n",
    "### By [Edd Webster](https://www.twitter.com/eddwebster)\n",
    "Notebook first written: 13/12/2020<br>\n",
    "Notebook last updated: 26/12/2020"
   ]
  },
  {
   "cell_type": "markdown",
   "metadata": {},
   "source": [
    "![title](../../img/stratabet_logo.jpg)"
   ]
  },
  {
   "cell_type": "markdown",
   "metadata": {},
   "source": [
    "Click [here](#section5) to jump straight to the Exploratory Data Analysis section and skip the [Task Brief](#section2), [Data Sources](#section3), and [Data Engineering](#section4) sections. Or click [here](#section6) to jump straight to the Conclusion.\n",
    "\n",
    "<b>This article was written with the aid of StrataData, which is property of [Stratagem Technologies](http://www.stratagem.co/). StrataData powers the [StrataBet Sports Trading Platform](http://www.stratabet.com/), in addition to [StrataBet Premium Recommendations](http://app.stratabet.com/recommendations).</b>"
   ]
  },
  {
   "cell_type": "markdown",
   "metadata": {},
   "source": [
    "___\n",
    "\n",
    "<a id='sectionintro'></a>"
   ]
  },
  {
   "cell_type": "markdown",
   "metadata": {},
   "source": [
    "## <a id='import_libraries'>Introduction</a>\n",
    "This notebook engineers  [StrataBet]( http://www.stratagem.co/) data for football matches in a variety of European leagues during the 16/17 and 17/18 seasons, using [pandas](http://pandas.pydata.org/) for data manipulation through DataFrames.\n",
    "\n",
    "For more information about this notebook and the author, I'm available through all the following channels:\n",
    "*    [eddwebster.com](https://www.eddwebster.com/);\n",
    "*    edd.j.webster@gmail.com;\n",
    "*    [@eddwebster](https://www.twitter.com/eddwebster);\n",
    "*    [linkedin.com/in/eddwebster](https://www.linkedin.com/in/eddwebster/);\n",
    "*    [github/eddwebster](https://github.com/eddwebster/);\n",
    "*    [public.tableau.com/profile/edd.webster](https://public.tableau.com/profile/edd.webster);\n",
    "*    [kaggle.com/eddwebster](https://www.kaggle.com/eddwebster); and\n",
    "*    [hackerrank.com/eddwebster](https://www.hackerrank.com/eddwebster).\n",
    "\n",
    "![title](../../img/fifa21eddwebsterbanner.png)\n",
    "\n",
    "The accompanying GitHub repository for this notebook can be found [here](https://github.com/eddwebster/fifa-league) and a static version of this notebook can be found [here](https://nbviewer.jupyter.org/github/eddwebster/football_analytics/blob/master/notebooks/B%29%20Data%20Engineering/Opta%20%23mcfcanalytics%20PL%202011-2012.ipynb)."
   ]
  },
  {
   "cell_type": "markdown",
   "metadata": {},
   "source": [
    "___\n",
    "\n",
    "<a id='sectioncontents'></a>"
   ]
  },
  {
   "cell_type": "markdown",
   "metadata": {},
   "source": [
    "## <a id='notebook_contents'>Notebook Contents</a>\n",
    "1.    [Notebook Dependencies](#section1)<br>\n",
    "2.    [Project Brief](#section2)<br>\n",
    "3.    [Data Sources](#section3)<br>\n",
    "      1.    [Introduction](#section3.1)<br>\n",
    "      2.    [Data Dictionary](#section3.2)<br>\n",
    "      3.    [Creating the DataFrame](#section3.3)<br>\n",
    "      4.    [Initial Data Handling](#section3.4)<br>\n",
    "      5.    [Export the Raw DataFrame](#section3.5)<br>         \n",
    "4.    [Data Engineering](#section4)<br>\n",
    "      1.    [Introduction](#section4.1)<br>\n",
    "      2.    [Columns of Interest](#section4.2)<br>\n",
    "      3.    [String Cleaning](#section4.3)<br>\n",
    "      4.    [Converting Data Types](#section4.4)<br>\n",
    "      5.    [Export the Engineered DataFrame](#section4.5)<br>\n",
    "5.    [Exploratory Data Analysis (EDA)](#section5)<br>\n",
    "      1.    [...](#section5.1)<br>\n",
    "      2.    [...](#section5.2)<br>\n",
    "      3.    [...](#section5.3)<br>\n",
    "6.    [Summary](#section6)<br>\n",
    "7.    [Next Steps](#section7)<br>\n",
    "8.    [Bibliography](#section8)<br>"
   ]
  },
  {
   "cell_type": "markdown",
   "metadata": {},
   "source": [
    "___\n",
    "\n",
    "<a id='section1'></a>"
   ]
  },
  {
   "cell_type": "markdown",
   "metadata": {},
   "source": [
    "## <a id='#section1'>1. Notebook Dependencies</a>"
   ]
  },
  {
   "cell_type": "markdown",
   "metadata": {},
   "source": [
    "This notebook was written using [Python 3](https://docs.python.org/3.7/) and requires the following libraries:\n",
    "*    [`Jupyter notebooks`](https://jupyter.org/) for this notebook environment with which this project is presented;\n",
    "*    [`NumPy`](http://www.numpy.org/) for multidimensional array computing;\n",
    "*    [`pandas`](http://pandas.pydata.org/) for data analysis and manipulation; and\n",
    "*    [`matplotlib`](https://matplotlib.org/contents.html?v=20200411155018) for data visualisations;\n",
    "\n",
    "All packages used for this notebook except for BeautifulSoup can be obtained by downloading and installing the [Conda](https://anaconda.org/anaconda/conda) distribution, available on all platforms (Windows, Linux and Mac OSX). Step-by-step guides on how to install Anaconda can be found for Windows [here](https://medium.com/@GalarnykMichael/install-python-on-windows-anaconda-c63c7c3d1444) and Mac [here](https://medium.com/@GalarnykMichael/install-python-on-mac-anaconda-ccd9f2014072), as well as in the Anaconda documentation itself [here](https://docs.anaconda.com/anaconda/install/)."
   ]
  },
  {
   "cell_type": "markdown",
   "metadata": {},
   "source": [
    "### Import Libraries and Modules"
   ]
  },
  {
   "cell_type": "code",
   "execution_count": 2,
   "metadata": {},
   "outputs": [
    {
     "name": "stdout",
     "output_type": "stream",
     "text": [
      "Setup Complete\n"
     ]
    }
   ],
   "source": [
    "# Python ≥3.5 (ideally)\n",
    "import platform\n",
    "import sys, getopt\n",
    "assert sys.version_info >= (3, 5)\n",
    "import csv\n",
    "\n",
    "# Import Dependencies\n",
    "%matplotlib inline\n",
    "\n",
    "# Math Operations\n",
    "import numpy as np\n",
    "from math import pi\n",
    "\n",
    "# Datetime\n",
    "import datetime\n",
    "from datetime import date\n",
    "import time\n",
    "\n",
    "# Data Preprocessing\n",
    "import pandas as pd    # version 1.0.3\n",
    "import os    #  used to read the csv filenames\n",
    "import re\n",
    "import random\n",
    "from io import BytesIO\n",
    "from pathlib import Path\n",
    "\n",
    "# Reading directories\n",
    "import glob\n",
    "import os\n",
    "\n",
    "# Working with JSON\n",
    "import json\n",
    "from pandas.io.json import json_normalize\n",
    "from ast import literal_eval\n",
    "\n",
    "# Data Visualisation\n",
    "import matplotlib as mpl\n",
    "import matplotlib.pyplot as plt\n",
    "import seaborn as sns\n",
    "plt.style.use('seaborn-whitegrid')\n",
    "import missingno as msno    # visually display missing data\n",
    "\n",
    "# Display in Jupyter\n",
    "from IPython.display import Image, YouTubeVideo\n",
    "from IPython.core.display import HTML\n",
    "\n",
    "# Ignore Warnings\n",
    "import warnings\n",
    "warnings.filterwarnings(action=\"ignore\", message=\"^internal gelsd\")\n",
    "\n",
    "print('Setup Complete')"
   ]
  },
  {
   "cell_type": "code",
   "execution_count": 3,
   "metadata": {
    "scrolled": false
   },
   "outputs": [
    {
     "name": "stdout",
     "output_type": "stream",
     "text": [
      "Python: 3.7.6\n",
      "NumPy: 1.18.1\n",
      "pandas: 1.0.1\n",
      "matplotlib: 3.1.3\n",
      "Seaborn: 0.10.0\n"
     ]
    }
   ],
   "source": [
    "# Python / module versions used here for reference\n",
    "print('Python: {}'.format(platform.python_version()))\n",
    "print('NumPy: {}'.format(np.__version__))\n",
    "print('pandas: {}'.format(pd.__version__))\n",
    "print('matplotlib: {}'.format(mpl.__version__))\n",
    "print('Seaborn: {}'.format(sns.__version__))"
   ]
  },
  {
   "cell_type": "markdown",
   "metadata": {},
   "source": [
    "### Defined Filepaths"
   ]
  },
  {
   "cell_type": "code",
   "execution_count": 4,
   "metadata": {},
   "outputs": [],
   "source": [
    "# Set up initial paths to subfolders\n",
    "base_dir = os.path.join('..', '..', )\n",
    "data_dir = os.path.join(base_dir, 'data')\n",
    "data_dir_fbref = os.path.join(base_dir, 'data', 'fbref')\n",
    "data_dir_stratabet = os.path.join(base_dir, 'data', 'stratabet')\n",
    "img_dir = os.path.join(base_dir, 'img')\n",
    "fig_dir = os.path.join(base_dir, 'img', 'fig')\n",
    "video_dir = os.path.join(base_dir, 'video')"
   ]
  },
  {
   "cell_type": "markdown",
   "metadata": {},
   "source": [
    "### Notebook Settings"
   ]
  },
  {
   "cell_type": "code",
   "execution_count": 5,
   "metadata": {},
   "outputs": [],
   "source": [
    "pd.set_option('display.max_columns', None)"
   ]
  },
  {
   "cell_type": "markdown",
   "metadata": {},
   "source": [
    "---\n",
    "\n",
    "<a id='section2'></a>"
   ]
  },
  {
   "cell_type": "markdown",
   "metadata": {},
   "source": [
    "## <a id='#section2'>2. Project Brief</a>\n",
    "This Jupyter notebook explores how to engineer [StrataBet]( http://www.stratagem.co/) Events data using [pandas](http://pandas.pydata.org/) for data manipulation through DataFrames.\n",
    "\n",
    "The resulting engineered Datarame is exported as a CSV file. This data can be further analysed in Python, joined to other datasets, or explored using Tableau, PowerBI, Microsoft Excel."
   ]
  },
  {
   "cell_type": "markdown",
   "metadata": {},
   "source": [
    "---\n",
    "\n",
    "<a id='section3'></a>"
   ]
  },
  {
   "cell_type": "markdown",
   "metadata": {},
   "source": [
    "## <a id='#section3'>3. Data Sources</a>"
   ]
  },
  {
   "cell_type": "markdown",
   "metadata": {},
   "source": [
    "### <a id='#section3.1'>3.1. Introduction</a>\n",
    "This StrataData has been made availble by [Stratagem Technologies](http://www.stratagem.co/). StrataData powers the [StrataBet Sports Trading Platform](http://www.stratabet.com/), in addition to [StrataBet Premium Recommendations](http://app.stratabet.com/recommendations).</b>\n",
    "\n",
    "Before conducting our EDA, the data needs to be imported as a DataFrame in the Data Sources section [Section 3](#section3) and cleaned in the Data Engineering section [Section 4](#section4).\n",
    "\n",
    "We'll be using the [pandas](http://pandas.pydata.org/) library to import our data to this workbook as a DataFrame."
   ]
  },
  {
   "cell_type": "markdown",
   "metadata": {},
   "source": [
    "### <a id='#section3.2'>3.2. Chances</a>"
   ]
  },
  {
   "cell_type": "markdown",
   "metadata": {},
   "source": [
    "#### <a id='#section3.2.1'>3.2.1. Data Dictionary</a>\n",
    "The [StrataBet]( http://www.stratagem.co/) Events dataset has twelve features (columns) with the following definitions and data types:\n",
    "\n",
    "| Feature     | Data type    |\n",
    "|------|-----|\n",
    "| `eventId`    | int64     |\n",
    "| `subEventName`    | object     |\n",
    "| `tags`    | object     |\n",
    "| `playerId`    | int64     |\n",
    "| `positions`    | object     |\n",
    "| `matchId`    | int64     |\n",
    "| `eventName`    | object     |\n",
    "| `teamId`    | int64     |\n",
    "| `matchPeriod`    | object     |\n",
    "| `eventSec`    | float64     |\n",
    "| `subEventId`    | object     |\n",
    "| `id`    | int64     |"
   ]
  },
  {
   "cell_type": "markdown",
   "metadata": {},
   "source": [
    "#### <a id='#section3.2.2'>3.2.2. Import Data</a>"
   ]
  },
  {
   "cell_type": "code",
   "execution_count": 6,
   "metadata": {},
   "outputs": [],
   "source": [
    "# Combine individual csv files to form one DataFrame, df_raw, using glob\n",
    "lst_files_chances = glob.glob(data_dir_stratabet + '/raw/chances/individual_competitions' + \"/*.csv\")    # Creates a list of all csv files\n",
    "\n",
    "li = []    # pd.concat takes a list of DataFrames as an argument\n",
    "\n",
    "for filename in lst_files_chances:\n",
    "    df_raw_temp = pd.read_csv(filename, index_col=None, header=0)\n",
    "    li.append(df_raw_temp)\n",
    "\n",
    "df_stratabet_chances_raw = pd.concat(li, axis=0, ignore_index=True)    # ignore_index=True as we don't want pandas to try an align row indexes"
   ]
  },
  {
   "cell_type": "markdown",
   "metadata": {},
   "source": [
    "#### <a id='#section3.2.3'>3.2.3. Initial Data Handling</a>\n",
    "Let's quality of the dataset by looking first and last rows in pandas using the [head()](https://pandas.pydata.org/pandas-docs/stable/reference/api/pandas.DataFrame.head.html) and [tail()](https://pandas.pydata.org/pandas-docs/stable/reference/api/pandas.DataFrame.tail.html) methods."
   ]
  },
  {
   "cell_type": "code",
   "execution_count": 7,
   "metadata": {},
   "outputs": [
    {
     "data": {
      "text/html": [
       "<div>\n",
       "<style scoped>\n",
       "    .dataframe tbody tr th:only-of-type {\n",
       "        vertical-align: middle;\n",
       "    }\n",
       "\n",
       "    .dataframe tbody tr th {\n",
       "        vertical-align: top;\n",
       "    }\n",
       "\n",
       "    .dataframe thead th {\n",
       "        text-align: right;\n",
       "    }\n",
       "</style>\n",
       "<table border=\"1\" class=\"dataframe\">\n",
       "  <thead>\n",
       "    <tr style=\"text-align: right;\">\n",
       "      <th></th>\n",
       "      <th>index</th>\n",
       "      <th>competition</th>\n",
       "      <th>gsm_id</th>\n",
       "      <th>kickoffDate</th>\n",
       "      <th>kickoffTime</th>\n",
       "      <th>hometeam_team1</th>\n",
       "      <th>awayteam_team2</th>\n",
       "      <th>icon</th>\n",
       "      <th>chanceRating</th>\n",
       "      <th>team</th>\n",
       "      <th>type</th>\n",
       "      <th>time</th>\n",
       "      <th>player</th>\n",
       "      <th>location_x</th>\n",
       "      <th>location_y</th>\n",
       "      <th>bodyPart</th>\n",
       "      <th>shotQuality</th>\n",
       "      <th>defPressure</th>\n",
       "      <th>numDefPlayers</th>\n",
       "      <th>numAttPlayers</th>\n",
       "      <th>outcome</th>\n",
       "      <th>primaryPlayer</th>\n",
       "      <th>primaryType</th>\n",
       "      <th>primaryLocation_x</th>\n",
       "      <th>primaryLocation_y</th>\n",
       "      <th>secondaryPlayer</th>\n",
       "      <th>secondaryType</th>\n",
       "    </tr>\n",
       "  </thead>\n",
       "  <tbody>\n",
       "    <tr>\n",
       "      <th>0</th>\n",
       "      <td>4684</td>\n",
       "      <td>GreSL</td>\n",
       "      <td>2355591</td>\n",
       "      <td>10/09/2016</td>\n",
       "      <td>13:00:00</td>\n",
       "      <td>Kerkyra</td>\n",
       "      <td>Platanias</td>\n",
       "      <td>poorchance</td>\n",
       "      <td>poorchance</td>\n",
       "      <td>Kerkyra</td>\n",
       "      <td>Open Play</td>\n",
       "      <td>24:43:00</td>\n",
       "      <td>D. Epstein</td>\n",
       "      <td>81</td>\n",
       "      <td>48</td>\n",
       "      <td>Left</td>\n",
       "      <td>3</td>\n",
       "      <td>5</td>\n",
       "      <td>2</td>\n",
       "      <td>0</td>\n",
       "      <td>Saved</td>\n",
       "      <td>-</td>\n",
       "      <td>-</td>\n",
       "      <td>-</td>\n",
       "      <td>-</td>\n",
       "      <td>-</td>\n",
       "      <td>-</td>\n",
       "    </tr>\n",
       "    <tr>\n",
       "      <th>1</th>\n",
       "      <td>4685</td>\n",
       "      <td>GreSL</td>\n",
       "      <td>2355591</td>\n",
       "      <td>10/09/2016</td>\n",
       "      <td>13:00:00</td>\n",
       "      <td>Kerkyra</td>\n",
       "      <td>Platanias</td>\n",
       "      <td>goodchance</td>\n",
       "      <td>goodchance</td>\n",
       "      <td>Kerkyra</td>\n",
       "      <td>Open Play</td>\n",
       "      <td>45:29:00</td>\n",
       "      <td>D. Epstein</td>\n",
       "      <td>27</td>\n",
       "      <td>60</td>\n",
       "      <td>Left</td>\n",
       "      <td>2</td>\n",
       "      <td>2</td>\n",
       "      <td>2</td>\n",
       "      <td>0</td>\n",
       "      <td>Defended</td>\n",
       "      <td>Thuram</td>\n",
       "      <td>Open Play Pass</td>\n",
       "      <td>-29</td>\n",
       "      <td>82</td>\n",
       "      <td>-</td>\n",
       "      <td>-</td>\n",
       "    </tr>\n",
       "    <tr>\n",
       "      <th>2</th>\n",
       "      <td>4686</td>\n",
       "      <td>GreSL</td>\n",
       "      <td>2355591</td>\n",
       "      <td>10/09/2016</td>\n",
       "      <td>13:00:00</td>\n",
       "      <td>Kerkyra</td>\n",
       "      <td>Platanias</td>\n",
       "      <td>poorchance</td>\n",
       "      <td>poorchance</td>\n",
       "      <td>Kerkyra</td>\n",
       "      <td>Open Play</td>\n",
       "      <td>44:34:00</td>\n",
       "      <td>S. Siontis</td>\n",
       "      <td>23</td>\n",
       "      <td>117</td>\n",
       "      <td>Right</td>\n",
       "      <td>2</td>\n",
       "      <td>1</td>\n",
       "      <td>4</td>\n",
       "      <td>1</td>\n",
       "      <td>Missed</td>\n",
       "      <td>-</td>\n",
       "      <td>-</td>\n",
       "      <td>-</td>\n",
       "      <td>-</td>\n",
       "      <td>-</td>\n",
       "      <td>-</td>\n",
       "    </tr>\n",
       "    <tr>\n",
       "      <th>3</th>\n",
       "      <td>4687</td>\n",
       "      <td>GreSL</td>\n",
       "      <td>2355591</td>\n",
       "      <td>10/09/2016</td>\n",
       "      <td>13:00:00</td>\n",
       "      <td>Kerkyra</td>\n",
       "      <td>Platanias</td>\n",
       "      <td>poorchance</td>\n",
       "      <td>poorchance</td>\n",
       "      <td>Platanias</td>\n",
       "      <td>Open Play</td>\n",
       "      <td>42:39:00</td>\n",
       "      <td>O. Gnjatic</td>\n",
       "      <td>-9</td>\n",
       "      <td>118</td>\n",
       "      <td>Left</td>\n",
       "      <td>1</td>\n",
       "      <td>1</td>\n",
       "      <td>3</td>\n",
       "      <td>1</td>\n",
       "      <td>Missed</td>\n",
       "      <td>G. Manousos</td>\n",
       "      <td>Open Play Pass</td>\n",
       "      <td>77</td>\n",
       "      <td>92</td>\n",
       "      <td>-</td>\n",
       "      <td>-</td>\n",
       "    </tr>\n",
       "    <tr>\n",
       "      <th>4</th>\n",
       "      <td>4688</td>\n",
       "      <td>GreSL</td>\n",
       "      <td>2355591</td>\n",
       "      <td>10/09/2016</td>\n",
       "      <td>13:00:00</td>\n",
       "      <td>Kerkyra</td>\n",
       "      <td>Platanias</td>\n",
       "      <td>goodchance</td>\n",
       "      <td>goodchance</td>\n",
       "      <td>Kerkyra</td>\n",
       "      <td>Open Play</td>\n",
       "      <td>40:46:00</td>\n",
       "      <td>D. Epstein</td>\n",
       "      <td>42</td>\n",
       "      <td>15</td>\n",
       "      <td>Left</td>\n",
       "      <td>2</td>\n",
       "      <td>5</td>\n",
       "      <td>2</td>\n",
       "      <td>0</td>\n",
       "      <td>Saved</td>\n",
       "      <td>-</td>\n",
       "      <td>-</td>\n",
       "      <td>-</td>\n",
       "      <td>-</td>\n",
       "      <td>-</td>\n",
       "      <td>-</td>\n",
       "    </tr>\n",
       "  </tbody>\n",
       "</table>\n",
       "</div>"
      ],
      "text/plain": [
       "   index competition   gsm_id kickoffDate kickoffTime hometeam_team1  \\\n",
       "0   4684       GreSL  2355591  10/09/2016    13:00:00        Kerkyra   \n",
       "1   4685       GreSL  2355591  10/09/2016    13:00:00        Kerkyra   \n",
       "2   4686       GreSL  2355591  10/09/2016    13:00:00        Kerkyra   \n",
       "3   4687       GreSL  2355591  10/09/2016    13:00:00        Kerkyra   \n",
       "4   4688       GreSL  2355591  10/09/2016    13:00:00        Kerkyra   \n",
       "\n",
       "  awayteam_team2        icon chanceRating       team       type      time  \\\n",
       "0      Platanias  poorchance   poorchance    Kerkyra  Open Play  24:43:00   \n",
       "1      Platanias  goodchance   goodchance    Kerkyra  Open Play  45:29:00   \n",
       "2      Platanias  poorchance   poorchance    Kerkyra  Open Play  44:34:00   \n",
       "3      Platanias  poorchance   poorchance  Platanias  Open Play  42:39:00   \n",
       "4      Platanias  goodchance   goodchance    Kerkyra  Open Play  40:46:00   \n",
       "\n",
       "       player location_x location_y bodyPart shotQuality defPressure  \\\n",
       "0  D. Epstein         81         48     Left           3           5   \n",
       "1  D. Epstein         27         60     Left           2           2   \n",
       "2  S. Siontis         23        117    Right           2           1   \n",
       "3  O. Gnjatic         -9        118     Left           1           1   \n",
       "4  D. Epstein         42         15     Left           2           5   \n",
       "\n",
       "  numDefPlayers numAttPlayers   outcome primaryPlayer     primaryType  \\\n",
       "0             2             0     Saved             -               -   \n",
       "1             2             0  Defended        Thuram  Open Play Pass   \n",
       "2             4             1    Missed             -               -   \n",
       "3             3             1    Missed   G. Manousos  Open Play Pass   \n",
       "4             2             0     Saved             -               -   \n",
       "\n",
       "  primaryLocation_x primaryLocation_y secondaryPlayer secondaryType  \n",
       "0                 -                 -               -             -  \n",
       "1               -29                82               -             -  \n",
       "2                 -                 -               -             -  \n",
       "3                77                92               -             -  \n",
       "4                 -                 -               -             -  "
      ]
     },
     "execution_count": 7,
     "metadata": {},
     "output_type": "execute_result"
    }
   ],
   "source": [
    "# Display the first 5 rows of the raw DataFrame, df_stratabet_chances_raw \n",
    "df_stratabet_chances_raw.head()"
   ]
  },
  {
   "cell_type": "code",
   "execution_count": 8,
   "metadata": {},
   "outputs": [
    {
     "data": {
      "text/html": [
       "<div>\n",
       "<style scoped>\n",
       "    .dataframe tbody tr th:only-of-type {\n",
       "        vertical-align: middle;\n",
       "    }\n",
       "\n",
       "    .dataframe tbody tr th {\n",
       "        vertical-align: top;\n",
       "    }\n",
       "\n",
       "    .dataframe thead th {\n",
       "        text-align: right;\n",
       "    }\n",
       "</style>\n",
       "<table border=\"1\" class=\"dataframe\">\n",
       "  <thead>\n",
       "    <tr style=\"text-align: right;\">\n",
       "      <th></th>\n",
       "      <th>index</th>\n",
       "      <th>competition</th>\n",
       "      <th>gsm_id</th>\n",
       "      <th>kickoffDate</th>\n",
       "      <th>kickoffTime</th>\n",
       "      <th>hometeam_team1</th>\n",
       "      <th>awayteam_team2</th>\n",
       "      <th>icon</th>\n",
       "      <th>chanceRating</th>\n",
       "      <th>team</th>\n",
       "      <th>type</th>\n",
       "      <th>time</th>\n",
       "      <th>player</th>\n",
       "      <th>location_x</th>\n",
       "      <th>location_y</th>\n",
       "      <th>bodyPart</th>\n",
       "      <th>shotQuality</th>\n",
       "      <th>defPressure</th>\n",
       "      <th>numDefPlayers</th>\n",
       "      <th>numAttPlayers</th>\n",
       "      <th>outcome</th>\n",
       "      <th>primaryPlayer</th>\n",
       "      <th>primaryType</th>\n",
       "      <th>primaryLocation_x</th>\n",
       "      <th>primaryLocation_y</th>\n",
       "      <th>secondaryPlayer</th>\n",
       "      <th>secondaryType</th>\n",
       "    </tr>\n",
       "  </thead>\n",
       "  <tbody>\n",
       "    <tr>\n",
       "      <th>119143</th>\n",
       "      <td>33422</td>\n",
       "      <td>EngPr</td>\n",
       "      <td>2463091</td>\n",
       "      <td>12/03/2018</td>\n",
       "      <td>20:00:00</td>\n",
       "      <td>Stoke City</td>\n",
       "      <td>Manchester City</td>\n",
       "      <td>goodchance</td>\n",
       "      <td>goodchance</td>\n",
       "      <td>Manchester City</td>\n",
       "      <td>Open Play</td>\n",
       "      <td>41:13:00</td>\n",
       "      <td>L. Sane</td>\n",
       "      <td>45</td>\n",
       "      <td>42</td>\n",
       "      <td>Left</td>\n",
       "      <td>2</td>\n",
       "      <td>2</td>\n",
       "      <td>2</td>\n",
       "      <td>0</td>\n",
       "      <td>Missed</td>\n",
       "      <td>K. De Bruyne</td>\n",
       "      <td>Cross High</td>\n",
       "      <td>-69</td>\n",
       "      <td>48</td>\n",
       "      <td>Gabriel Jesus</td>\n",
       "      <td>Open Play Pass</td>\n",
       "    </tr>\n",
       "    <tr>\n",
       "      <th>119144</th>\n",
       "      <td>33424</td>\n",
       "      <td>EngPr</td>\n",
       "      <td>2463091</td>\n",
       "      <td>12/03/2018</td>\n",
       "      <td>20:00:00</td>\n",
       "      <td>Stoke City</td>\n",
       "      <td>Manchester City</td>\n",
       "      <td>greatchance</td>\n",
       "      <td>greatchance</td>\n",
       "      <td>Manchester City</td>\n",
       "      <td>Open Play</td>\n",
       "      <td>56:58:00</td>\n",
       "      <td>R. Sterling</td>\n",
       "      <td>-18</td>\n",
       "      <td>13</td>\n",
       "      <td>Left</td>\n",
       "      <td>3</td>\n",
       "      <td>4</td>\n",
       "      <td>2</td>\n",
       "      <td>0</td>\n",
       "      <td>Saved</td>\n",
       "      <td>David Silva</td>\n",
       "      <td>Open Play Pass</td>\n",
       "      <td>-36</td>\n",
       "      <td>86</td>\n",
       "      <td>L. Sane</td>\n",
       "      <td>Open Play Pass</td>\n",
       "    </tr>\n",
       "    <tr>\n",
       "      <th>119145</th>\n",
       "      <td>33418</td>\n",
       "      <td>EngPr</td>\n",
       "      <td>2463091</td>\n",
       "      <td>12/03/2018</td>\n",
       "      <td>20:00:00</td>\n",
       "      <td>Stoke City</td>\n",
       "      <td>Manchester City</td>\n",
       "      <td>poorchance</td>\n",
       "      <td>poorchance</td>\n",
       "      <td>Manchester City</td>\n",
       "      <td>Open Play</td>\n",
       "      <td>25:50:00</td>\n",
       "      <td>Fernandinho</td>\n",
       "      <td>3</td>\n",
       "      <td>97</td>\n",
       "      <td>Left</td>\n",
       "      <td>2</td>\n",
       "      <td>1</td>\n",
       "      <td>3</td>\n",
       "      <td>2</td>\n",
       "      <td>Missed</td>\n",
       "      <td>-</td>\n",
       "      <td>-</td>\n",
       "      <td>-</td>\n",
       "      <td>-</td>\n",
       "      <td>-</td>\n",
       "      <td>-</td>\n",
       "    </tr>\n",
       "    <tr>\n",
       "      <th>119146</th>\n",
       "      <td>33426</td>\n",
       "      <td>EngPr</td>\n",
       "      <td>2463091</td>\n",
       "      <td>12/03/2018</td>\n",
       "      <td>20:00:00</td>\n",
       "      <td>Stoke City</td>\n",
       "      <td>Manchester City</td>\n",
       "      <td>poorchance</td>\n",
       "      <td>poorchance</td>\n",
       "      <td>Manchester City</td>\n",
       "      <td>Open Play</td>\n",
       "      <td>57:48:00</td>\n",
       "      <td>R. Sterling</td>\n",
       "      <td>31</td>\n",
       "      <td>92</td>\n",
       "      <td>Right</td>\n",
       "      <td>2</td>\n",
       "      <td>1</td>\n",
       "      <td>4</td>\n",
       "      <td>1</td>\n",
       "      <td>Defended</td>\n",
       "      <td>L. Sane</td>\n",
       "      <td>Open Play Pass</td>\n",
       "      <td>-7</td>\n",
       "      <td>86</td>\n",
       "      <td>K. De Bruyne</td>\n",
       "      <td>Open Play Pass</td>\n",
       "    </tr>\n",
       "    <tr>\n",
       "      <th>119147</th>\n",
       "      <td>33427</td>\n",
       "      <td>EngPr</td>\n",
       "      <td>2463091</td>\n",
       "      <td>12/03/2018</td>\n",
       "      <td>20:00:00</td>\n",
       "      <td>Stoke City</td>\n",
       "      <td>Manchester City</td>\n",
       "      <td>poorchance</td>\n",
       "      <td>poorchance</td>\n",
       "      <td>Manchester City</td>\n",
       "      <td>Open Play</td>\n",
       "      <td>58:29:00</td>\n",
       "      <td>L. Sane</td>\n",
       "      <td>-27</td>\n",
       "      <td>107</td>\n",
       "      <td>Left</td>\n",
       "      <td>2</td>\n",
       "      <td>1</td>\n",
       "      <td>5</td>\n",
       "      <td>3</td>\n",
       "      <td>Missed</td>\n",
       "      <td>R. Sterling</td>\n",
       "      <td>Open Play Pass</td>\n",
       "      <td>17</td>\n",
       "      <td>88</td>\n",
       "      <td>David Silva</td>\n",
       "      <td>Open Play Pass</td>\n",
       "    </tr>\n",
       "  </tbody>\n",
       "</table>\n",
       "</div>"
      ],
      "text/plain": [
       "        index competition   gsm_id kickoffDate kickoffTime hometeam_team1  \\\n",
       "119143  33422       EngPr  2463091  12/03/2018    20:00:00     Stoke City   \n",
       "119144  33424       EngPr  2463091  12/03/2018    20:00:00     Stoke City   \n",
       "119145  33418       EngPr  2463091  12/03/2018    20:00:00     Stoke City   \n",
       "119146  33426       EngPr  2463091  12/03/2018    20:00:00     Stoke City   \n",
       "119147  33427       EngPr  2463091  12/03/2018    20:00:00     Stoke City   \n",
       "\n",
       "         awayteam_team2         icon chanceRating             team       type  \\\n",
       "119143  Manchester City   goodchance   goodchance  Manchester City  Open Play   \n",
       "119144  Manchester City  greatchance  greatchance  Manchester City  Open Play   \n",
       "119145  Manchester City   poorchance   poorchance  Manchester City  Open Play   \n",
       "119146  Manchester City   poorchance   poorchance  Manchester City  Open Play   \n",
       "119147  Manchester City   poorchance   poorchance  Manchester City  Open Play   \n",
       "\n",
       "            time       player location_x location_y bodyPart shotQuality  \\\n",
       "119143  41:13:00      L. Sane         45         42     Left           2   \n",
       "119144  56:58:00  R. Sterling        -18         13     Left           3   \n",
       "119145  25:50:00  Fernandinho          3         97     Left           2   \n",
       "119146  57:48:00  R. Sterling         31         92    Right           2   \n",
       "119147  58:29:00      L. Sane        -27        107     Left           2   \n",
       "\n",
       "       defPressure numDefPlayers numAttPlayers   outcome primaryPlayer  \\\n",
       "119143           2             2             0    Missed  K. De Bruyne   \n",
       "119144           4             2             0     Saved   David Silva   \n",
       "119145           1             3             2    Missed             -   \n",
       "119146           1             4             1  Defended       L. Sane   \n",
       "119147           1             5             3    Missed   R. Sterling   \n",
       "\n",
       "           primaryType primaryLocation_x primaryLocation_y secondaryPlayer  \\\n",
       "119143      Cross High               -69                48   Gabriel Jesus   \n",
       "119144  Open Play Pass               -36                86         L. Sane   \n",
       "119145               -                 -                 -               -   \n",
       "119146  Open Play Pass                -7                86    K. De Bruyne   \n",
       "119147  Open Play Pass                17                88     David Silva   \n",
       "\n",
       "         secondaryType  \n",
       "119143  Open Play Pass  \n",
       "119144  Open Play Pass  \n",
       "119145               -  \n",
       "119146  Open Play Pass  \n",
       "119147  Open Play Pass  "
      ]
     },
     "execution_count": 8,
     "metadata": {},
     "output_type": "execute_result"
    }
   ],
   "source": [
    "# Display the last 5 rows of the raw DataFrame, df_stratabet_chances_raw \n",
    "df_stratabet_chances_raw.tail()"
   ]
  },
  {
   "cell_type": "code",
   "execution_count": 9,
   "metadata": {},
   "outputs": [
    {
     "name": "stdout",
     "output_type": "stream",
     "text": [
      "(119148, 27)\n"
     ]
    }
   ],
   "source": [
    "# Print the shape of the raw DataFrame, df_stratabet_chances_raw \n",
    "print(df_stratabet_chances_raw.shape)"
   ]
  },
  {
   "cell_type": "code",
   "execution_count": 10,
   "metadata": {},
   "outputs": [
    {
     "name": "stdout",
     "output_type": "stream",
     "text": [
      "Index(['index', 'competition', 'gsm_id', 'kickoffDate', 'kickoffTime',\n",
      "       'hometeam_team1', 'awayteam_team2', 'icon', 'chanceRating', 'team',\n",
      "       'type', 'time', 'player', 'location_x', 'location_y', 'bodyPart',\n",
      "       'shotQuality', 'defPressure', 'numDefPlayers', 'numAttPlayers',\n",
      "       'outcome', 'primaryPlayer', 'primaryType', 'primaryLocation_x',\n",
      "       'primaryLocation_y', 'secondaryPlayer', 'secondaryType'],\n",
      "      dtype='object')\n"
     ]
    }
   ],
   "source": [
    "# Print the column names of the raw DataFrame, df_stratabet_chances_raw \n",
    "print(df_stratabet_chances_raw.columns)"
   ]
  },
  {
   "cell_type": "markdown",
   "metadata": {},
   "source": [
    "The dataset has six features (columns). Full details of these attributes can be found in the [Data Dictionary](section3.3.1)."
   ]
  },
  {
   "cell_type": "code",
   "execution_count": 11,
   "metadata": {},
   "outputs": [
    {
     "data": {
      "text/plain": [
       "index                 int64\n",
       "competition          object\n",
       "gsm_id                int64\n",
       "kickoffDate          object\n",
       "kickoffTime          object\n",
       "hometeam_team1       object\n",
       "awayteam_team2       object\n",
       "icon                 object\n",
       "chanceRating         object\n",
       "team                 object\n",
       "type                 object\n",
       "time                 object\n",
       "player               object\n",
       "location_x           object\n",
       "location_y           object\n",
       "bodyPart             object\n",
       "shotQuality          object\n",
       "defPressure          object\n",
       "numDefPlayers        object\n",
       "numAttPlayers        object\n",
       "outcome              object\n",
       "primaryPlayer        object\n",
       "primaryType          object\n",
       "primaryLocation_x    object\n",
       "primaryLocation_y    object\n",
       "secondaryPlayer      object\n",
       "secondaryType        object\n",
       "dtype: object"
      ]
     },
     "execution_count": 11,
     "metadata": {},
     "output_type": "execute_result"
    }
   ],
   "source": [
    "# Data types of the features of the raw DataFrame, df_stratabet_chances_raw \n",
    "df_stratabet_chances_raw .dtypes"
   ]
  },
  {
   "cell_type": "markdown",
   "metadata": {},
   "source": [
    "All six of the columns have the object data type. Full details of these attributes and their data types can be found in the [Data Dictionary](section3.3.1)."
   ]
  },
  {
   "cell_type": "code",
   "execution_count": 12,
   "metadata": {},
   "outputs": [
    {
     "name": "stdout",
     "output_type": "stream",
     "text": [
      "<class 'pandas.core.frame.DataFrame'>\n",
      "RangeIndex: 119148 entries, 0 to 119147\n",
      "Data columns (total 27 columns):\n",
      " #   Column             Non-Null Count   Dtype \n",
      "---  ------             --------------   ----- \n",
      " 0   index              119148 non-null  int64 \n",
      " 1   competition        119148 non-null  object\n",
      " 2   gsm_id             119148 non-null  int64 \n",
      " 3   kickoffDate        119148 non-null  object\n",
      " 4   kickoffTime        119148 non-null  object\n",
      " 5   hometeam_team1     119148 non-null  object\n",
      " 6   awayteam_team2     119148 non-null  object\n",
      " 7   icon               119148 non-null  object\n",
      " 8   chanceRating       119148 non-null  object\n",
      " 9   team               119148 non-null  object\n",
      " 10  type               119148 non-null  object\n",
      " 11  time               119148 non-null  object\n",
      " 12  player             119148 non-null  object\n",
      " 13  location_x         119148 non-null  object\n",
      " 14  location_y         119148 non-null  object\n",
      " 15  bodyPart           119148 non-null  object\n",
      " 16  shotQuality        117618 non-null  object\n",
      " 17  defPressure        119148 non-null  object\n",
      " 18  numDefPlayers      119148 non-null  object\n",
      " 19  numAttPlayers      119148 non-null  object\n",
      " 20  outcome            119148 non-null  object\n",
      " 21  primaryPlayer      119148 non-null  object\n",
      " 22  primaryType        119148 non-null  object\n",
      " 23  primaryLocation_x  119148 non-null  object\n",
      " 24  primaryLocation_y  119148 non-null  object\n",
      " 25  secondaryPlayer    119148 non-null  object\n",
      " 26  secondaryType      119148 non-null  object\n",
      "dtypes: int64(2), object(25)\n",
      "memory usage: 24.5+ MB\n"
     ]
    }
   ],
   "source": [
    "# Info for the raw DataFrame, df_stratabet_chances_raw \n",
    "df_stratabet_chances_raw.info()"
   ]
  },
  {
   "cell_type": "code",
   "execution_count": 13,
   "metadata": {},
   "outputs": [
    {
     "data": {
      "text/html": [
       "<div>\n",
       "<style scoped>\n",
       "    .dataframe tbody tr th:only-of-type {\n",
       "        vertical-align: middle;\n",
       "    }\n",
       "\n",
       "    .dataframe tbody tr th {\n",
       "        vertical-align: top;\n",
       "    }\n",
       "\n",
       "    .dataframe thead th {\n",
       "        text-align: right;\n",
       "    }\n",
       "</style>\n",
       "<table border=\"1\" class=\"dataframe\">\n",
       "  <thead>\n",
       "    <tr style=\"text-align: right;\">\n",
       "      <th></th>\n",
       "      <th>index</th>\n",
       "      <th>gsm_id</th>\n",
       "    </tr>\n",
       "  </thead>\n",
       "  <tbody>\n",
       "    <tr>\n",
       "      <th>count</th>\n",
       "      <td>119148.000000</td>\n",
       "      <td>1.191480e+05</td>\n",
       "    </tr>\n",
       "    <tr>\n",
       "      <th>mean</th>\n",
       "      <td>9941.664501</td>\n",
       "      <td>2.380177e+06</td>\n",
       "    </tr>\n",
       "    <tr>\n",
       "      <th>std</th>\n",
       "      <td>17678.010794</td>\n",
       "      <td>1.127321e+05</td>\n",
       "    </tr>\n",
       "    <tr>\n",
       "      <th>min</th>\n",
       "      <td>0.000000</td>\n",
       "      <td>2.237445e+06</td>\n",
       "    </tr>\n",
       "    <tr>\n",
       "      <th>25%</th>\n",
       "      <td>1580.000000</td>\n",
       "      <td>2.247140e+06</td>\n",
       "    </tr>\n",
       "    <tr>\n",
       "      <th>50%</th>\n",
       "      <td>3387.000000</td>\n",
       "      <td>2.404032e+06</td>\n",
       "    </tr>\n",
       "    <tr>\n",
       "      <th>75%</th>\n",
       "      <td>6534.000000</td>\n",
       "      <td>2.467501e+06</td>\n",
       "    </tr>\n",
       "    <tr>\n",
       "      <th>max</th>\n",
       "      <td>80263.000000</td>\n",
       "      <td>2.701477e+06</td>\n",
       "    </tr>\n",
       "  </tbody>\n",
       "</table>\n",
       "</div>"
      ],
      "text/plain": [
       "               index        gsm_id\n",
       "count  119148.000000  1.191480e+05\n",
       "mean     9941.664501  2.380177e+06\n",
       "std     17678.010794  1.127321e+05\n",
       "min         0.000000  2.237445e+06\n",
       "25%      1580.000000  2.247140e+06\n",
       "50%      3387.000000  2.404032e+06\n",
       "75%      6534.000000  2.467501e+06\n",
       "max     80263.000000  2.701477e+06"
      ]
     },
     "execution_count": 13,
     "metadata": {},
     "output_type": "execute_result"
    }
   ],
   "source": [
    "# Description of the raw DataFrame, df_stratabet_raw, showing some summary statistics for each numberical column in the DataFrame\n",
    "df_stratabet_chances_raw.describe()"
   ]
  },
  {
   "cell_type": "code",
   "execution_count": 14,
   "metadata": {
    "scrolled": true
   },
   "outputs": [
    {
     "data": {
      "text/plain": [
       "<matplotlib.axes._subplots.AxesSubplot at 0x1a1d73a810>"
      ]
     },
     "execution_count": 14,
     "metadata": {},
     "output_type": "execute_result"
    },
    {
     "data": {
      "image/png": "[encoded data removed]",
      "text/plain": [
       "<Figure size 2160x504 with 2 Axes>"
      ]
     },
     "metadata": {},
     "output_type": "display_data"
    }
   ],
   "source": [
    "# Plot visualisation of the missing values for each feature of the raw DataFrame, df_stratabet_chances_raw \n",
    "msno.matrix(df_stratabet_chances_raw, figsize = (30, 7))"
   ]
  },
  {
   "cell_type": "code",
   "execution_count": 15,
   "metadata": {},
   "outputs": [
    {
     "data": {
      "text/plain": [
       "shotQuality    1530\n",
       "dtype: int64"
      ]
     },
     "execution_count": 15,
     "metadata": {},
     "output_type": "execute_result"
    }
   ],
   "source": [
    "# Counts of missing values\n",
    "tm_null_value_stats = df_stratabet_chances_raw.isnull().sum(axis=0)\n",
    "tm_null_value_stats[tm_null_value_stats != 0]"
   ]
  },
  {
   "cell_type": "markdown",
   "metadata": {},
   "source": [
    "The visualisation shows us very quickly that there a few missing values in the `shotQuality` column, but otherwise the dataset is complete. This data is now ready for Data Engineering."
   ]
  },
  {
   "cell_type": "markdown",
   "metadata": {},
   "source": [
    "#### <a id='#section3.2.4'>3.2.4. Export Complete DataFrame</a>"
   ]
  },
  {
   "cell_type": "code",
   "execution_count": 16,
   "metadata": {},
   "outputs": [],
   "source": [
    "df_stratabet_chances_raw.to_csv(data_dir_stratabet + '/raw/chances/' + 'stratabet_chances_all.csv', index=None, header=True)"
   ]
  },
  {
   "cell_type": "markdown",
   "metadata": {},
   "source": [
    "### <a id='#section3.3'>3.3. Key Entries</a>"
   ]
  },
  {
   "cell_type": "markdown",
   "metadata": {},
   "source": [
    "#### <a id='#section3.3.1'>3.3.1. Data Dictionary</a>\n",
    "The [StrataBet]( http://www.stratagem.co/) Events dataset has twelve features (columns) with the following definitions and data types:\n",
    "\n",
    "| Feature     | Data type    |\n",
    "|------|-----|\n",
    "| `eventId`    | int64     |\n",
    "| `subEventName`    | object     |\n",
    "| `tags`    | object     |\n",
    "| `playerId`    | int64     |\n",
    "| `positions`    | object     |\n",
    "| `matchId`    | int64     |\n",
    "| `eventName`    | object     |\n",
    "| `teamId`    | int64     |\n",
    "| `matchPeriod`    | object     |\n",
    "| `eventSec`    | float64     |\n",
    "| `subEventId`    | object     |\n",
    "| `id`    | int64     |"
   ]
  },
  {
   "cell_type": "markdown",
   "metadata": {},
   "source": [
    "#### <a id='#section3.3.2'>3.3.2. Import Data</a>"
   ]
  },
  {
   "cell_type": "code",
   "execution_count": 17,
   "metadata": {},
   "outputs": [],
   "source": [
    "# Combine individual csv files to form one DataFrame, df_raw, using glob\n",
    "lst_files_key_entries = glob.glob(data_dir_stratabet + '/raw/key_entries/individual_competitions' + \"/*.csv\")    # Creates a list of all csv files\n",
    "\n",
    "li = []    # pd.concat takes a list of DataFrames as an argument\n",
    "\n",
    "for filename in lst_files_key_entries:\n",
    "    df_raw_temp = pd.read_csv(filename, index_col=None, header=0)\n",
    "    li.append(df_raw_temp)\n",
    "\n",
    "df_stratabet_key_entries_raw = pd.concat(li, axis=0, ignore_index=True)    # ignore_index=True as we don't want pandas to try an align row indexes"
   ]
  },
  {
   "cell_type": "markdown",
   "metadata": {},
   "source": [
    "#### <a id='#section3.3.3'>3.3.3. Initial Data Handling</a>\n",
    "Let's quality of the dataset by looking first and last rows in pandas using the [head()](https://pandas.pydata.org/pandas-docs/stable/reference/api/pandas.DataFrame.head.html) and [tail()](https://pandas.pydata.org/pandas-docs/stable/reference/api/pandas.DataFrame.tail.html) methods."
   ]
  },
  {
   "cell_type": "code",
   "execution_count": 18,
   "metadata": {},
   "outputs": [
    {
     "data": {
      "text/html": [
       "<div>\n",
       "<style scoped>\n",
       "    .dataframe tbody tr th:only-of-type {\n",
       "        vertical-align: middle;\n",
       "    }\n",
       "\n",
       "    .dataframe tbody tr th {\n",
       "        vertical-align: top;\n",
       "    }\n",
       "\n",
       "    .dataframe thead th {\n",
       "        text-align: right;\n",
       "    }\n",
       "</style>\n",
       "<table border=\"1\" class=\"dataframe\">\n",
       "  <thead>\n",
       "    <tr style=\"text-align: right;\">\n",
       "      <th></th>\n",
       "      <th>True</th>\n",
       "      <th>index</th>\n",
       "      <th>competition</th>\n",
       "      <th>gsm_id</th>\n",
       "      <th>kickoffDate</th>\n",
       "      <th>kickoffTime</th>\n",
       "      <th>hometeam_team1</th>\n",
       "      <th>awayteam_team2</th>\n",
       "      <th>team</th>\n",
       "      <th>keyentryArea</th>\n",
       "      <th>keyentryType</th>\n",
       "    </tr>\n",
       "  </thead>\n",
       "  <tbody>\n",
       "    <tr>\n",
       "      <th>0</th>\n",
       "      <td>153564</td>\n",
       "      <td>9570</td>\n",
       "      <td>ScoPr</td>\n",
       "      <td>2242424</td>\n",
       "      <td>2016-08-06</td>\n",
       "      <td>11:30:00</td>\n",
       "      <td>Rangers</td>\n",
       "      <td>Hamilton Academical</td>\n",
       "      <td>Rangers</td>\n",
       "      <td>Right</td>\n",
       "      <td>Pass</td>\n",
       "    </tr>\n",
       "    <tr>\n",
       "      <th>1</th>\n",
       "      <td>153565</td>\n",
       "      <td>9571</td>\n",
       "      <td>ScoPr</td>\n",
       "      <td>2242424</td>\n",
       "      <td>2016-08-06</td>\n",
       "      <td>11:30:00</td>\n",
       "      <td>Rangers</td>\n",
       "      <td>Hamilton Academical</td>\n",
       "      <td>Rangers</td>\n",
       "      <td>Box</td>\n",
       "      <td>Pass</td>\n",
       "    </tr>\n",
       "    <tr>\n",
       "      <th>2</th>\n",
       "      <td>153566</td>\n",
       "      <td>9572</td>\n",
       "      <td>ScoPr</td>\n",
       "      <td>2242424</td>\n",
       "      <td>2016-08-06</td>\n",
       "      <td>11:30:00</td>\n",
       "      <td>Rangers</td>\n",
       "      <td>Hamilton Academical</td>\n",
       "      <td>Rangers</td>\n",
       "      <td>Right</td>\n",
       "      <td>Pass</td>\n",
       "    </tr>\n",
       "    <tr>\n",
       "      <th>3</th>\n",
       "      <td>153567</td>\n",
       "      <td>9573</td>\n",
       "      <td>ScoPr</td>\n",
       "      <td>2242424</td>\n",
       "      <td>2016-08-06</td>\n",
       "      <td>11:30:00</td>\n",
       "      <td>Rangers</td>\n",
       "      <td>Hamilton Academical</td>\n",
       "      <td>Hamilton Academical</td>\n",
       "      <td>Right</td>\n",
       "      <td>Pass</td>\n",
       "    </tr>\n",
       "    <tr>\n",
       "      <th>4</th>\n",
       "      <td>153568</td>\n",
       "      <td>9574</td>\n",
       "      <td>ScoPr</td>\n",
       "      <td>2242424</td>\n",
       "      <td>2016-08-06</td>\n",
       "      <td>11:30:00</td>\n",
       "      <td>Rangers</td>\n",
       "      <td>Hamilton Academical</td>\n",
       "      <td>Rangers</td>\n",
       "      <td>Box</td>\n",
       "      <td>Run</td>\n",
       "    </tr>\n",
       "  </tbody>\n",
       "</table>\n",
       "</div>"
      ],
      "text/plain": [
       "     True  index competition   gsm_id kickoffDate kickoffTime hometeam_team1  \\\n",
       "0  153564   9570       ScoPr  2242424  2016-08-06    11:30:00        Rangers   \n",
       "1  153565   9571       ScoPr  2242424  2016-08-06    11:30:00        Rangers   \n",
       "2  153566   9572       ScoPr  2242424  2016-08-06    11:30:00        Rangers   \n",
       "3  153567   9573       ScoPr  2242424  2016-08-06    11:30:00        Rangers   \n",
       "4  153568   9574       ScoPr  2242424  2016-08-06    11:30:00        Rangers   \n",
       "\n",
       "        awayteam_team2                 team keyentryArea keyentryType  \n",
       "0  Hamilton Academical              Rangers        Right         Pass  \n",
       "1  Hamilton Academical              Rangers          Box         Pass  \n",
       "2  Hamilton Academical              Rangers        Right         Pass  \n",
       "3  Hamilton Academical  Hamilton Academical        Right         Pass  \n",
       "4  Hamilton Academical              Rangers          Box          Run  "
      ]
     },
     "execution_count": 18,
     "metadata": {},
     "output_type": "execute_result"
    }
   ],
   "source": [
    "# Display the first 5 rows of the raw DataFrame, df_stratabet_key_entries_raw \n",
    "df_stratabet_key_entries_raw.head()"
   ]
  },
  {
   "cell_type": "code",
   "execution_count": 19,
   "metadata": {},
   "outputs": [
    {
     "data": {
      "text/html": [
       "<div>\n",
       "<style scoped>\n",
       "    .dataframe tbody tr th:only-of-type {\n",
       "        vertical-align: middle;\n",
       "    }\n",
       "\n",
       "    .dataframe tbody tr th {\n",
       "        vertical-align: top;\n",
       "    }\n",
       "\n",
       "    .dataframe thead th {\n",
       "        text-align: right;\n",
       "    }\n",
       "</style>\n",
       "<table border=\"1\" class=\"dataframe\">\n",
       "  <thead>\n",
       "    <tr style=\"text-align: right;\">\n",
       "      <th></th>\n",
       "      <th>True</th>\n",
       "      <th>index</th>\n",
       "      <th>competition</th>\n",
       "      <th>gsm_id</th>\n",
       "      <th>kickoffDate</th>\n",
       "      <th>kickoffTime</th>\n",
       "      <th>hometeam_team1</th>\n",
       "      <th>awayteam_team2</th>\n",
       "      <th>team</th>\n",
       "      <th>keyentryArea</th>\n",
       "      <th>keyentryType</th>\n",
       "    </tr>\n",
       "  </thead>\n",
       "  <tbody>\n",
       "    <tr>\n",
       "      <th>195682</th>\n",
       "      <td>111281</td>\n",
       "      <td>7814</td>\n",
       "      <td>GreSL</td>\n",
       "      <td>2701477</td>\n",
       "      <td>2018-03-11</td>\n",
       "      <td>15:15:00</td>\n",
       "      <td>Lamia</td>\n",
       "      <td>Levadiakos</td>\n",
       "      <td>Levadiakos</td>\n",
       "      <td>Right</td>\n",
       "      <td>Turnover</td>\n",
       "    </tr>\n",
       "    <tr>\n",
       "      <th>195683</th>\n",
       "      <td>111282</td>\n",
       "      <td>7815</td>\n",
       "      <td>GreSL</td>\n",
       "      <td>2701477</td>\n",
       "      <td>2018-03-11</td>\n",
       "      <td>15:15:00</td>\n",
       "      <td>Lamia</td>\n",
       "      <td>Levadiakos</td>\n",
       "      <td>Lamia</td>\n",
       "      <td>Left</td>\n",
       "      <td>Turnover</td>\n",
       "    </tr>\n",
       "    <tr>\n",
       "      <th>195684</th>\n",
       "      <td>111283</td>\n",
       "      <td>7816</td>\n",
       "      <td>GreSL</td>\n",
       "      <td>2701477</td>\n",
       "      <td>2018-03-11</td>\n",
       "      <td>15:15:00</td>\n",
       "      <td>Lamia</td>\n",
       "      <td>Levadiakos</td>\n",
       "      <td>Lamia</td>\n",
       "      <td>Right</td>\n",
       "      <td>Pass</td>\n",
       "    </tr>\n",
       "    <tr>\n",
       "      <th>195685</th>\n",
       "      <td>111284</td>\n",
       "      <td>7817</td>\n",
       "      <td>GreSL</td>\n",
       "      <td>2701477</td>\n",
       "      <td>2018-03-11</td>\n",
       "      <td>15:15:00</td>\n",
       "      <td>Lamia</td>\n",
       "      <td>Levadiakos</td>\n",
       "      <td>Lamia</td>\n",
       "      <td>Box</td>\n",
       "      <td>Pass</td>\n",
       "    </tr>\n",
       "    <tr>\n",
       "      <th>195686</th>\n",
       "      <td>111285</td>\n",
       "      <td>7818</td>\n",
       "      <td>GreSL</td>\n",
       "      <td>2701477</td>\n",
       "      <td>2018-03-11</td>\n",
       "      <td>15:15:00</td>\n",
       "      <td>Lamia</td>\n",
       "      <td>Levadiakos</td>\n",
       "      <td>Levadiakos</td>\n",
       "      <td>Box</td>\n",
       "      <td>Run</td>\n",
       "    </tr>\n",
       "  </tbody>\n",
       "</table>\n",
       "</div>"
      ],
      "text/plain": [
       "          True  index competition   gsm_id kickoffDate kickoffTime  \\\n",
       "195682  111281   7814       GreSL  2701477  2018-03-11    15:15:00   \n",
       "195683  111282   7815       GreSL  2701477  2018-03-11    15:15:00   \n",
       "195684  111283   7816       GreSL  2701477  2018-03-11    15:15:00   \n",
       "195685  111284   7817       GreSL  2701477  2018-03-11    15:15:00   \n",
       "195686  111285   7818       GreSL  2701477  2018-03-11    15:15:00   \n",
       "\n",
       "       hometeam_team1 awayteam_team2        team keyentryArea keyentryType  \n",
       "195682          Lamia     Levadiakos  Levadiakos        Right     Turnover  \n",
       "195683          Lamia     Levadiakos       Lamia         Left     Turnover  \n",
       "195684          Lamia     Levadiakos       Lamia        Right         Pass  \n",
       "195685          Lamia     Levadiakos       Lamia          Box         Pass  \n",
       "195686          Lamia     Levadiakos  Levadiakos          Box          Run  "
      ]
     },
     "execution_count": 19,
     "metadata": {},
     "output_type": "execute_result"
    }
   ],
   "source": [
    "# Display the last 5 rows of the raw DataFrame, df_stratabet_key_entries_raw \n",
    "df_stratabet_key_entries_raw.tail()"
   ]
  },
  {
   "cell_type": "code",
   "execution_count": 20,
   "metadata": {},
   "outputs": [
    {
     "name": "stdout",
     "output_type": "stream",
     "text": [
      "(195687, 11)\n"
     ]
    }
   ],
   "source": [
    "# Print the shape of the raw DataFrame, df_stratabet_key_entries_raw \n",
    "print(df_stratabet_key_entries_raw.shape)"
   ]
  },
  {
   "cell_type": "code",
   "execution_count": 21,
   "metadata": {},
   "outputs": [
    {
     "name": "stdout",
     "output_type": "stream",
     "text": [
      "Index(['True', 'index', 'competition', 'gsm_id', 'kickoffDate', 'kickoffTime',\n",
      "       'hometeam_team1', 'awayteam_team2', 'team', 'keyentryArea',\n",
      "       'keyentryType'],\n",
      "      dtype='object')\n"
     ]
    }
   ],
   "source": [
    "# Print the column names of the raw DataFrame, df_stratabet_key_entries_raw \n",
    "print(df_stratabet_key_entries_raw.columns)"
   ]
  },
  {
   "cell_type": "markdown",
   "metadata": {},
   "source": [
    "The dataset has six features (columns). Full details of these attributes can be found in the [Data Dictionary](section3.3.1)."
   ]
  },
  {
   "cell_type": "code",
   "execution_count": 22,
   "metadata": {},
   "outputs": [
    {
     "name": "stdout",
     "output_type": "stream",
     "text": [
      "<class 'pandas.core.frame.DataFrame'>\n",
      "RangeIndex: 195687 entries, 0 to 195686\n",
      "Data columns (total 11 columns):\n",
      " #   Column          Non-Null Count   Dtype \n",
      "---  ------          --------------   ----- \n",
      " 0   True            195687 non-null  int64 \n",
      " 1   index           195687 non-null  int64 \n",
      " 2   competition     195687 non-null  object\n",
      " 3   gsm_id          195687 non-null  int64 \n",
      " 4   kickoffDate     195687 non-null  object\n",
      " 5   kickoffTime     195687 non-null  object\n",
      " 6   hometeam_team1  195687 non-null  object\n",
      " 7   awayteam_team2  195687 non-null  object\n",
      " 8   team            195687 non-null  object\n",
      " 9   keyentryArea    195687 non-null  object\n",
      " 10  keyentryType    195687 non-null  object\n",
      "dtypes: int64(3), object(8)\n",
      "memory usage: 16.4+ MB\n"
     ]
    }
   ],
   "source": [
    "# Info for the raw DataFrame, df_stratabet_key_entries_raw \n",
    "df_stratabet_key_entries_raw.info()"
   ]
  },
  {
   "cell_type": "code",
   "execution_count": 23,
   "metadata": {},
   "outputs": [
    {
     "data": {
      "text/html": [
       "<div>\n",
       "<style scoped>\n",
       "    .dataframe tbody tr th:only-of-type {\n",
       "        vertical-align: middle;\n",
       "    }\n",
       "\n",
       "    .dataframe tbody tr th {\n",
       "        vertical-align: top;\n",
       "    }\n",
       "\n",
       "    .dataframe thead th {\n",
       "        text-align: right;\n",
       "    }\n",
       "</style>\n",
       "<table border=\"1\" class=\"dataframe\">\n",
       "  <thead>\n",
       "    <tr style=\"text-align: right;\">\n",
       "      <th></th>\n",
       "      <th>True</th>\n",
       "      <th>index</th>\n",
       "      <th>gsm_id</th>\n",
       "    </tr>\n",
       "  </thead>\n",
       "  <tbody>\n",
       "    <tr>\n",
       "      <th>count</th>\n",
       "      <td>195687.000000</td>\n",
       "      <td>195687.000000</td>\n",
       "      <td>1.956870e+05</td>\n",
       "    </tr>\n",
       "    <tr>\n",
       "      <th>mean</th>\n",
       "      <td>97843.000000</td>\n",
       "      <td>6453.847414</td>\n",
       "      <td>2.354363e+06</td>\n",
       "    </tr>\n",
       "    <tr>\n",
       "      <th>std</th>\n",
       "      <td>56490.115401</td>\n",
       "      <td>5040.288373</td>\n",
       "      <td>1.125099e+05</td>\n",
       "    </tr>\n",
       "    <tr>\n",
       "      <th>min</th>\n",
       "      <td>0.000000</td>\n",
       "      <td>0.000000</td>\n",
       "      <td>2.237445e+06</td>\n",
       "    </tr>\n",
       "    <tr>\n",
       "      <th>25%</th>\n",
       "      <td>48921.500000</td>\n",
       "      <td>2675.000000</td>\n",
       "      <td>2.246823e+06</td>\n",
       "    </tr>\n",
       "    <tr>\n",
       "      <th>50%</th>\n",
       "      <td>97843.000000</td>\n",
       "      <td>5401.000000</td>\n",
       "      <td>2.360808e+06</td>\n",
       "    </tr>\n",
       "    <tr>\n",
       "      <th>75%</th>\n",
       "      <td>146764.500000</td>\n",
       "      <td>8928.000000</td>\n",
       "      <td>2.467223e+06</td>\n",
       "    </tr>\n",
       "    <tr>\n",
       "      <th>max</th>\n",
       "      <td>195686.000000</td>\n",
       "      <td>25384.000000</td>\n",
       "      <td>2.701477e+06</td>\n",
       "    </tr>\n",
       "  </tbody>\n",
       "</table>\n",
       "</div>"
      ],
      "text/plain": [
       "                True          index        gsm_id\n",
       "count  195687.000000  195687.000000  1.956870e+05\n",
       "mean    97843.000000    6453.847414  2.354363e+06\n",
       "std     56490.115401    5040.288373  1.125099e+05\n",
       "min         0.000000       0.000000  2.237445e+06\n",
       "25%     48921.500000    2675.000000  2.246823e+06\n",
       "50%     97843.000000    5401.000000  2.360808e+06\n",
       "75%    146764.500000    8928.000000  2.467223e+06\n",
       "max    195686.000000   25384.000000  2.701477e+06"
      ]
     },
     "execution_count": 23,
     "metadata": {},
     "output_type": "execute_result"
    }
   ],
   "source": [
    "# Description of the raw DataFrame, df_stratabet_key_entries_raw, showing some summary statistics for each numberical column in the DataFrame\n",
    "df_stratabet_key_entries_raw.describe()"
   ]
  },
  {
   "cell_type": "code",
   "execution_count": 24,
   "metadata": {},
   "outputs": [
    {
     "data": {
      "text/plain": [
       "<matplotlib.axes._subplots.AxesSubplot at 0x1a1e4a8390>"
      ]
     },
     "execution_count": 24,
     "metadata": {},
     "output_type": "execute_result"
    },
    {
     "data": {
      "image/png": "[encoded data removed]",
      "text/plain": [
       "<Figure size 2160x504 with 2 Axes>"
      ]
     },
     "metadata": {},
     "output_type": "display_data"
    }
   ],
   "source": [
    "# Plot visualisation of the missing values for each feature of the raw DataFrame, df_stratabet_key_entries_raw \n",
    "msno.matrix(df_stratabet_key_entries_raw, figsize = (30, 7))"
   ]
  },
  {
   "cell_type": "code",
   "execution_count": 25,
   "metadata": {},
   "outputs": [
    {
     "data": {
      "text/plain": [
       "Series([], dtype: int64)"
      ]
     },
     "execution_count": 25,
     "metadata": {},
     "output_type": "execute_result"
    }
   ],
   "source": [
    "# Counts of missing values\n",
    "tm_null_value_stats = df_stratabet_key_entries_raw.isnull().sum(axis=0)\n",
    "tm_null_value_stats[tm_null_value_stats != 0]"
   ]
  },
  {
   "cell_type": "markdown",
   "metadata": {},
   "source": [
    "The visualisation shows us very quickly that there a few missing values in the `shotQuality` column, but otherwise the dataset is complete. This data is now ready for Data Engineering."
   ]
  },
  {
   "cell_type": "markdown",
   "metadata": {},
   "source": [
    "#### <a id='#section3.3.4'>3.3.4. Export Complete DataFrame</a>"
   ]
  },
  {
   "cell_type": "code",
   "execution_count": 26,
   "metadata": {},
   "outputs": [],
   "source": [
    "df_stratabet_key_entries_raw.to_csv(data_dir_stratabet + '/raw/key_entries/' + 'stratabet_key_entries_all.csv', index=None, header=True)"
   ]
  },
  {
   "cell_type": "markdown",
   "metadata": {},
   "source": [
    "### <a id='#section3.4'>3.4. Match Info</a>"
   ]
  },
  {
   "cell_type": "markdown",
   "metadata": {},
   "source": [
    "#### <a id='#section3.4.1'>3.4.1. Data Dictionary</a>\n",
    "The [StrataBet]( http://www.stratagem.co/) Events dataset has twelve features (columns) with the following definitions and data types:\n",
    "\n",
    "| Feature     | Data type    |\n",
    "|------|-----|\n",
    "| `eventId`    | int64     |\n",
    "| `subEventName`    | object     |\n",
    "| `tags`    | object     |\n",
    "| `playerId`    | int64     |\n",
    "| `positions`    | object     |\n",
    "| `matchId`    | int64     |\n",
    "| `eventName`    | object     |\n",
    "| `teamId`    | int64     |\n",
    "| `matchPeriod`    | object     |\n",
    "| `eventSec`    | float64     |\n",
    "| `subEventId`    | object     |\n",
    "| `id`    | int64     |"
   ]
  },
  {
   "cell_type": "markdown",
   "metadata": {},
   "source": [
    "#### <a id='#section3.4.2'>3.4.2. Import Data</a>"
   ]
  },
  {
   "cell_type": "code",
   "execution_count": 27,
   "metadata": {},
   "outputs": [],
   "source": [
    "# Combine individual csv files to form one DataFrame, df_raw, using glob\n",
    "lst_files_key_entries = glob.glob(data_dir_stratabet + '/raw/key_entries/individual_competitions' + \"/*.csv\")    # Creates a list of all csv files\n",
    "\n",
    "li = []    # pd.concat takes a list of DataFrames as an argument\n",
    "\n",
    "for filename in lst_files_key_entries:\n",
    "    df_raw_temp = pd.read_csv(filename, index_col=None, header=0)\n",
    "    li.append(df_raw_temp)\n",
    "\n",
    "df_stratabet_key_entries_raw = pd.concat(li, axis=0, ignore_index=True)    # ignore_index=True as we don't want pandas to try an align row indexes"
   ]
  },
  {
   "cell_type": "markdown",
   "metadata": {},
   "source": [
    "#### <a id='#section3.4.3'>3.4.3. Initial Data Handling</a>\n",
    "Let's quality of the dataset by looking first and last rows in pandas using the [head()](https://pandas.pydata.org/pandas-docs/stable/reference/api/pandas.DataFrame.head.html) and [tail()](https://pandas.pydata.org/pandas-docs/stable/reference/api/pandas.DataFrame.tail.html) methods."
   ]
  },
  {
   "cell_type": "code",
   "execution_count": 28,
   "metadata": {},
   "outputs": [
    {
     "data": {
      "text/html": [
       "<div>\n",
       "<style scoped>\n",
       "    .dataframe tbody tr th:only-of-type {\n",
       "        vertical-align: middle;\n",
       "    }\n",
       "\n",
       "    .dataframe tbody tr th {\n",
       "        vertical-align: top;\n",
       "    }\n",
       "\n",
       "    .dataframe thead th {\n",
       "        text-align: right;\n",
       "    }\n",
       "</style>\n",
       "<table border=\"1\" class=\"dataframe\">\n",
       "  <thead>\n",
       "    <tr style=\"text-align: right;\">\n",
       "      <th></th>\n",
       "      <th>True</th>\n",
       "      <th>index</th>\n",
       "      <th>competition</th>\n",
       "      <th>gsm_id</th>\n",
       "      <th>kickoffDate</th>\n",
       "      <th>kickoffTime</th>\n",
       "      <th>hometeam_team1</th>\n",
       "      <th>awayteam_team2</th>\n",
       "      <th>team</th>\n",
       "      <th>keyentryArea</th>\n",
       "      <th>keyentryType</th>\n",
       "    </tr>\n",
       "  </thead>\n",
       "  <tbody>\n",
       "    <tr>\n",
       "      <th>0</th>\n",
       "      <td>153564</td>\n",
       "      <td>9570</td>\n",
       "      <td>ScoPr</td>\n",
       "      <td>2242424</td>\n",
       "      <td>2016-08-06</td>\n",
       "      <td>11:30:00</td>\n",
       "      <td>Rangers</td>\n",
       "      <td>Hamilton Academical</td>\n",
       "      <td>Rangers</td>\n",
       "      <td>Right</td>\n",
       "      <td>Pass</td>\n",
       "    </tr>\n",
       "    <tr>\n",
       "      <th>1</th>\n",
       "      <td>153565</td>\n",
       "      <td>9571</td>\n",
       "      <td>ScoPr</td>\n",
       "      <td>2242424</td>\n",
       "      <td>2016-08-06</td>\n",
       "      <td>11:30:00</td>\n",
       "      <td>Rangers</td>\n",
       "      <td>Hamilton Academical</td>\n",
       "      <td>Rangers</td>\n",
       "      <td>Box</td>\n",
       "      <td>Pass</td>\n",
       "    </tr>\n",
       "    <tr>\n",
       "      <th>2</th>\n",
       "      <td>153566</td>\n",
       "      <td>9572</td>\n",
       "      <td>ScoPr</td>\n",
       "      <td>2242424</td>\n",
       "      <td>2016-08-06</td>\n",
       "      <td>11:30:00</td>\n",
       "      <td>Rangers</td>\n",
       "      <td>Hamilton Academical</td>\n",
       "      <td>Rangers</td>\n",
       "      <td>Right</td>\n",
       "      <td>Pass</td>\n",
       "    </tr>\n",
       "    <tr>\n",
       "      <th>3</th>\n",
       "      <td>153567</td>\n",
       "      <td>9573</td>\n",
       "      <td>ScoPr</td>\n",
       "      <td>2242424</td>\n",
       "      <td>2016-08-06</td>\n",
       "      <td>11:30:00</td>\n",
       "      <td>Rangers</td>\n",
       "      <td>Hamilton Academical</td>\n",
       "      <td>Hamilton Academical</td>\n",
       "      <td>Right</td>\n",
       "      <td>Pass</td>\n",
       "    </tr>\n",
       "    <tr>\n",
       "      <th>4</th>\n",
       "      <td>153568</td>\n",
       "      <td>9574</td>\n",
       "      <td>ScoPr</td>\n",
       "      <td>2242424</td>\n",
       "      <td>2016-08-06</td>\n",
       "      <td>11:30:00</td>\n",
       "      <td>Rangers</td>\n",
       "      <td>Hamilton Academical</td>\n",
       "      <td>Rangers</td>\n",
       "      <td>Box</td>\n",
       "      <td>Run</td>\n",
       "    </tr>\n",
       "  </tbody>\n",
       "</table>\n",
       "</div>"
      ],
      "text/plain": [
       "     True  index competition   gsm_id kickoffDate kickoffTime hometeam_team1  \\\n",
       "0  153564   9570       ScoPr  2242424  2016-08-06    11:30:00        Rangers   \n",
       "1  153565   9571       ScoPr  2242424  2016-08-06    11:30:00        Rangers   \n",
       "2  153566   9572       ScoPr  2242424  2016-08-06    11:30:00        Rangers   \n",
       "3  153567   9573       ScoPr  2242424  2016-08-06    11:30:00        Rangers   \n",
       "4  153568   9574       ScoPr  2242424  2016-08-06    11:30:00        Rangers   \n",
       "\n",
       "        awayteam_team2                 team keyentryArea keyentryType  \n",
       "0  Hamilton Academical              Rangers        Right         Pass  \n",
       "1  Hamilton Academical              Rangers          Box         Pass  \n",
       "2  Hamilton Academical              Rangers        Right         Pass  \n",
       "3  Hamilton Academical  Hamilton Academical        Right         Pass  \n",
       "4  Hamilton Academical              Rangers          Box          Run  "
      ]
     },
     "execution_count": 28,
     "metadata": {},
     "output_type": "execute_result"
    }
   ],
   "source": [
    "# Display the first 5 rows of the raw DataFrame, df_stratabet_key_entries_raw \n",
    "df_stratabet_key_entries_raw.head()"
   ]
  },
  {
   "cell_type": "code",
   "execution_count": 29,
   "metadata": {},
   "outputs": [
    {
     "data": {
      "text/html": [
       "<div>\n",
       "<style scoped>\n",
       "    .dataframe tbody tr th:only-of-type {\n",
       "        vertical-align: middle;\n",
       "    }\n",
       "\n",
       "    .dataframe tbody tr th {\n",
       "        vertical-align: top;\n",
       "    }\n",
       "\n",
       "    .dataframe thead th {\n",
       "        text-align: right;\n",
       "    }\n",
       "</style>\n",
       "<table border=\"1\" class=\"dataframe\">\n",
       "  <thead>\n",
       "    <tr style=\"text-align: right;\">\n",
       "      <th></th>\n",
       "      <th>True</th>\n",
       "      <th>index</th>\n",
       "      <th>competition</th>\n",
       "      <th>gsm_id</th>\n",
       "      <th>kickoffDate</th>\n",
       "      <th>kickoffTime</th>\n",
       "      <th>hometeam_team1</th>\n",
       "      <th>awayteam_team2</th>\n",
       "      <th>team</th>\n",
       "      <th>keyentryArea</th>\n",
       "      <th>keyentryType</th>\n",
       "    </tr>\n",
       "  </thead>\n",
       "  <tbody>\n",
       "    <tr>\n",
       "      <th>195682</th>\n",
       "      <td>111281</td>\n",
       "      <td>7814</td>\n",
       "      <td>GreSL</td>\n",
       "      <td>2701477</td>\n",
       "      <td>2018-03-11</td>\n",
       "      <td>15:15:00</td>\n",
       "      <td>Lamia</td>\n",
       "      <td>Levadiakos</td>\n",
       "      <td>Levadiakos</td>\n",
       "      <td>Right</td>\n",
       "      <td>Turnover</td>\n",
       "    </tr>\n",
       "    <tr>\n",
       "      <th>195683</th>\n",
       "      <td>111282</td>\n",
       "      <td>7815</td>\n",
       "      <td>GreSL</td>\n",
       "      <td>2701477</td>\n",
       "      <td>2018-03-11</td>\n",
       "      <td>15:15:00</td>\n",
       "      <td>Lamia</td>\n",
       "      <td>Levadiakos</td>\n",
       "      <td>Lamia</td>\n",
       "      <td>Left</td>\n",
       "      <td>Turnover</td>\n",
       "    </tr>\n",
       "    <tr>\n",
       "      <th>195684</th>\n",
       "      <td>111283</td>\n",
       "      <td>7816</td>\n",
       "      <td>GreSL</td>\n",
       "      <td>2701477</td>\n",
       "      <td>2018-03-11</td>\n",
       "      <td>15:15:00</td>\n",
       "      <td>Lamia</td>\n",
       "      <td>Levadiakos</td>\n",
       "      <td>Lamia</td>\n",
       "      <td>Right</td>\n",
       "      <td>Pass</td>\n",
       "    </tr>\n",
       "    <tr>\n",
       "      <th>195685</th>\n",
       "      <td>111284</td>\n",
       "      <td>7817</td>\n",
       "      <td>GreSL</td>\n",
       "      <td>2701477</td>\n",
       "      <td>2018-03-11</td>\n",
       "      <td>15:15:00</td>\n",
       "      <td>Lamia</td>\n",
       "      <td>Levadiakos</td>\n",
       "      <td>Lamia</td>\n",
       "      <td>Box</td>\n",
       "      <td>Pass</td>\n",
       "    </tr>\n",
       "    <tr>\n",
       "      <th>195686</th>\n",
       "      <td>111285</td>\n",
       "      <td>7818</td>\n",
       "      <td>GreSL</td>\n",
       "      <td>2701477</td>\n",
       "      <td>2018-03-11</td>\n",
       "      <td>15:15:00</td>\n",
       "      <td>Lamia</td>\n",
       "      <td>Levadiakos</td>\n",
       "      <td>Levadiakos</td>\n",
       "      <td>Box</td>\n",
       "      <td>Run</td>\n",
       "    </tr>\n",
       "  </tbody>\n",
       "</table>\n",
       "</div>"
      ],
      "text/plain": [
       "          True  index competition   gsm_id kickoffDate kickoffTime  \\\n",
       "195682  111281   7814       GreSL  2701477  2018-03-11    15:15:00   \n",
       "195683  111282   7815       GreSL  2701477  2018-03-11    15:15:00   \n",
       "195684  111283   7816       GreSL  2701477  2018-03-11    15:15:00   \n",
       "195685  111284   7817       GreSL  2701477  2018-03-11    15:15:00   \n",
       "195686  111285   7818       GreSL  2701477  2018-03-11    15:15:00   \n",
       "\n",
       "       hometeam_team1 awayteam_team2        team keyentryArea keyentryType  \n",
       "195682          Lamia     Levadiakos  Levadiakos        Right     Turnover  \n",
       "195683          Lamia     Levadiakos       Lamia         Left     Turnover  \n",
       "195684          Lamia     Levadiakos       Lamia        Right         Pass  \n",
       "195685          Lamia     Levadiakos       Lamia          Box         Pass  \n",
       "195686          Lamia     Levadiakos  Levadiakos          Box          Run  "
      ]
     },
     "execution_count": 29,
     "metadata": {},
     "output_type": "execute_result"
    }
   ],
   "source": [
    "# Display the last 5 rows of the raw DataFrame, df_stratabet_key_entries_raw \n",
    "df_stratabet_key_entries_raw.tail()"
   ]
  },
  {
   "cell_type": "code",
   "execution_count": 30,
   "metadata": {},
   "outputs": [
    {
     "name": "stdout",
     "output_type": "stream",
     "text": [
      "(195687, 11)\n"
     ]
    }
   ],
   "source": [
    "# Print the shape of the raw DataFrame, df_stratabet_key_entries_raw \n",
    "print(df_stratabet_key_entries_raw.shape)"
   ]
  },
  {
   "cell_type": "code",
   "execution_count": 31,
   "metadata": {},
   "outputs": [
    {
     "name": "stdout",
     "output_type": "stream",
     "text": [
      "Index(['True', 'index', 'competition', 'gsm_id', 'kickoffDate', 'kickoffTime',\n",
      "       'hometeam_team1', 'awayteam_team2', 'team', 'keyentryArea',\n",
      "       'keyentryType'],\n",
      "      dtype='object')\n"
     ]
    }
   ],
   "source": [
    "# Print the column names of the raw DataFrame, df_stratabet_key_entries_raw \n",
    "print(df_stratabet_key_entries_raw.columns)"
   ]
  },
  {
   "cell_type": "markdown",
   "metadata": {},
   "source": [
    "The dataset has six features (columns). Full details of these attributes can be found in the [Data Dictionary](section3.3.1)."
   ]
  },
  {
   "cell_type": "code",
   "execution_count": 32,
   "metadata": {},
   "outputs": [
    {
     "name": "stdout",
     "output_type": "stream",
     "text": [
      "<class 'pandas.core.frame.DataFrame'>\n",
      "RangeIndex: 195687 entries, 0 to 195686\n",
      "Data columns (total 11 columns):\n",
      " #   Column          Non-Null Count   Dtype \n",
      "---  ------          --------------   ----- \n",
      " 0   True            195687 non-null  int64 \n",
      " 1   index           195687 non-null  int64 \n",
      " 2   competition     195687 non-null  object\n",
      " 3   gsm_id          195687 non-null  int64 \n",
      " 4   kickoffDate     195687 non-null  object\n",
      " 5   kickoffTime     195687 non-null  object\n",
      " 6   hometeam_team1  195687 non-null  object\n",
      " 7   awayteam_team2  195687 non-null  object\n",
      " 8   team            195687 non-null  object\n",
      " 9   keyentryArea    195687 non-null  object\n",
      " 10  keyentryType    195687 non-null  object\n",
      "dtypes: int64(3), object(8)\n",
      "memory usage: 16.4+ MB\n"
     ]
    }
   ],
   "source": [
    "# Info for the raw DataFrame, df_stratabet_key_entries_raw \n",
    "df_stratabet_key_entries_raw.info()"
   ]
  },
  {
   "cell_type": "code",
   "execution_count": 33,
   "metadata": {},
   "outputs": [
    {
     "data": {
      "text/html": [
       "<div>\n",
       "<style scoped>\n",
       "    .dataframe tbody tr th:only-of-type {\n",
       "        vertical-align: middle;\n",
       "    }\n",
       "\n",
       "    .dataframe tbody tr th {\n",
       "        vertical-align: top;\n",
       "    }\n",
       "\n",
       "    .dataframe thead th {\n",
       "        text-align: right;\n",
       "    }\n",
       "</style>\n",
       "<table border=\"1\" class=\"dataframe\">\n",
       "  <thead>\n",
       "    <tr style=\"text-align: right;\">\n",
       "      <th></th>\n",
       "      <th>True</th>\n",
       "      <th>index</th>\n",
       "      <th>gsm_id</th>\n",
       "    </tr>\n",
       "  </thead>\n",
       "  <tbody>\n",
       "    <tr>\n",
       "      <th>count</th>\n",
       "      <td>195687.000000</td>\n",
       "      <td>195687.000000</td>\n",
       "      <td>1.956870e+05</td>\n",
       "    </tr>\n",
       "    <tr>\n",
       "      <th>mean</th>\n",
       "      <td>97843.000000</td>\n",
       "      <td>6453.847414</td>\n",
       "      <td>2.354363e+06</td>\n",
       "    </tr>\n",
       "    <tr>\n",
       "      <th>std</th>\n",
       "      <td>56490.115401</td>\n",
       "      <td>5040.288373</td>\n",
       "      <td>1.125099e+05</td>\n",
       "    </tr>\n",
       "    <tr>\n",
       "      <th>min</th>\n",
       "      <td>0.000000</td>\n",
       "      <td>0.000000</td>\n",
       "      <td>2.237445e+06</td>\n",
       "    </tr>\n",
       "    <tr>\n",
       "      <th>25%</th>\n",
       "      <td>48921.500000</td>\n",
       "      <td>2675.000000</td>\n",
       "      <td>2.246823e+06</td>\n",
       "    </tr>\n",
       "    <tr>\n",
       "      <th>50%</th>\n",
       "      <td>97843.000000</td>\n",
       "      <td>5401.000000</td>\n",
       "      <td>2.360808e+06</td>\n",
       "    </tr>\n",
       "    <tr>\n",
       "      <th>75%</th>\n",
       "      <td>146764.500000</td>\n",
       "      <td>8928.000000</td>\n",
       "      <td>2.467223e+06</td>\n",
       "    </tr>\n",
       "    <tr>\n",
       "      <th>max</th>\n",
       "      <td>195686.000000</td>\n",
       "      <td>25384.000000</td>\n",
       "      <td>2.701477e+06</td>\n",
       "    </tr>\n",
       "  </tbody>\n",
       "</table>\n",
       "</div>"
      ],
      "text/plain": [
       "                True          index        gsm_id\n",
       "count  195687.000000  195687.000000  1.956870e+05\n",
       "mean    97843.000000    6453.847414  2.354363e+06\n",
       "std     56490.115401    5040.288373  1.125099e+05\n",
       "min         0.000000       0.000000  2.237445e+06\n",
       "25%     48921.500000    2675.000000  2.246823e+06\n",
       "50%     97843.000000    5401.000000  2.360808e+06\n",
       "75%    146764.500000    8928.000000  2.467223e+06\n",
       "max    195686.000000   25384.000000  2.701477e+06"
      ]
     },
     "execution_count": 33,
     "metadata": {},
     "output_type": "execute_result"
    }
   ],
   "source": [
    "# Description of the raw DataFrame, df_stratabet_key_entries_raw, showing some summary statistics for each numberical column in the DataFrame\n",
    "df_stratabet_key_entries_raw.describe()"
   ]
  },
  {
   "cell_type": "code",
   "execution_count": 34,
   "metadata": {},
   "outputs": [
    {
     "data": {
      "text/plain": [
       "<matplotlib.axes._subplots.AxesSubplot at 0x108796a90>"
      ]
     },
     "execution_count": 34,
     "metadata": {},
     "output_type": "execute_result"
    },
    {
     "data": {
      "image/png": "[encoded data removed]",
      "text/plain": [
       "<Figure size 2160x504 with 2 Axes>"
      ]
     },
     "metadata": {},
     "output_type": "display_data"
    }
   ],
   "source": [
    "# Plot visualisation of the missing values for each feature of the raw DataFrame, df_stratabet_key_entries_raw \n",
    "msno.matrix(df_stratabet_key_entries_raw, figsize = (30, 7))"
   ]
  },
  {
   "cell_type": "code",
   "execution_count": 35,
   "metadata": {},
   "outputs": [
    {
     "data": {
      "text/plain": [
       "Series([], dtype: int64)"
      ]
     },
     "execution_count": 35,
     "metadata": {},
     "output_type": "execute_result"
    }
   ],
   "source": [
    "# Counts of missing values\n",
    "tm_null_value_stats = df_stratabet_key_entries_raw.isnull().sum(axis=0)\n",
    "tm_null_value_stats[tm_null_value_stats != 0]"
   ]
  },
  {
   "cell_type": "markdown",
   "metadata": {},
   "source": [
    "The visualisation shows us very quickly that there a few missing values in the `shotQuality` column, but otherwise the dataset is complete. This data is now ready for Data Engineering."
   ]
  },
  {
   "cell_type": "markdown",
   "metadata": {},
   "source": [
    "#### <a id='#section3.4.4'>3.2.4. Export Complete DataFrame</a>"
   ]
  },
  {
   "cell_type": "code",
   "execution_count": 36,
   "metadata": {},
   "outputs": [],
   "source": [
    "df_stratabet_key_entries_raw.to_csv(data_dir_stratabet + '/raw/key_entries/' + 'stratabet_key_entries_all.csv', index=None, header=True)"
   ]
  },
  {
   "cell_type": "markdown",
   "metadata": {},
   "source": [
    "### <a id='#section3.5'>3.5. Minutes Played</a>"
   ]
  },
  {
   "cell_type": "markdown",
   "metadata": {},
   "source": [
    "#### <a id='#section3.5.1'>3.5.1. Data Dictionary</a>\n",
    "The [StrataBet]( http://www.stratagem.co/) Events dataset has twelve features (columns) with the following definitions and data types:\n",
    "\n",
    "| Feature     | Data type    |\n",
    "|------|-----|\n",
    "| `eventId`    | int64     |\n",
    "| `subEventName`    | object     |\n",
    "| `tags`    | object     |\n",
    "| `playerId`    | int64     |\n",
    "| `positions`    | object     |\n",
    "| `matchId`    | int64     |\n",
    "| `eventName`    | object     |\n",
    "| `teamId`    | int64     |\n",
    "| `matchPeriod`    | object     |\n",
    "| `eventSec`    | float64     |\n",
    "| `subEventId`    | object     |\n",
    "| `id`    | int64     |"
   ]
  },
  {
   "cell_type": "markdown",
   "metadata": {},
   "source": [
    "#### <a id='#section3.5.2'>3.5.2. Import Data</a>"
   ]
  },
  {
   "cell_type": "code",
   "execution_count": 37,
   "metadata": {},
   "outputs": [],
   "source": [
    "# Combine individual csv files to form one DataFrame, df_raw, using glob\n",
    "lst_files_key_entries = glob.glob(data_dir_stratabet + '/raw/key_entries/individual_competitions' + \"/*.csv\")    # Creates a list of all csv files\n",
    "\n",
    "li = []    # pd.concat takes a list of DataFrames as an argument\n",
    "\n",
    "for filename in lst_files_key_entries:\n",
    "    df_raw_temp = pd.read_csv(filename, index_col=None, header=0)\n",
    "    li.append(df_raw_temp)\n",
    "\n",
    "df_stratabet_key_entries_raw = pd.concat(li, axis=0, ignore_index=True)    # ignore_index=True as we don't want pandas to try an align row indexes"
   ]
  },
  {
   "cell_type": "markdown",
   "metadata": {},
   "source": [
    "#### <a id='#section3.5.3'>3.5.3. Initial Data Handling</a>\n",
    "Let's quality of the dataset by looking first and last rows in pandas using the [head()](https://pandas.pydata.org/pandas-docs/stable/reference/api/pandas.DataFrame.head.html) and [tail()](https://pandas.pydata.org/pandas-docs/stable/reference/api/pandas.DataFrame.tail.html) methods."
   ]
  },
  {
   "cell_type": "code",
   "execution_count": 38,
   "metadata": {},
   "outputs": [
    {
     "data": {
      "text/html": [
       "<div>\n",
       "<style scoped>\n",
       "    .dataframe tbody tr th:only-of-type {\n",
       "        vertical-align: middle;\n",
       "    }\n",
       "\n",
       "    .dataframe tbody tr th {\n",
       "        vertical-align: top;\n",
       "    }\n",
       "\n",
       "    .dataframe thead th {\n",
       "        text-align: right;\n",
       "    }\n",
       "</style>\n",
       "<table border=\"1\" class=\"dataframe\">\n",
       "  <thead>\n",
       "    <tr style=\"text-align: right;\">\n",
       "      <th></th>\n",
       "      <th>True</th>\n",
       "      <th>index</th>\n",
       "      <th>competition</th>\n",
       "      <th>gsm_id</th>\n",
       "      <th>kickoffDate</th>\n",
       "      <th>kickoffTime</th>\n",
       "      <th>hometeam_team1</th>\n",
       "      <th>awayteam_team2</th>\n",
       "      <th>team</th>\n",
       "      <th>keyentryArea</th>\n",
       "      <th>keyentryType</th>\n",
       "    </tr>\n",
       "  </thead>\n",
       "  <tbody>\n",
       "    <tr>\n",
       "      <th>0</th>\n",
       "      <td>153564</td>\n",
       "      <td>9570</td>\n",
       "      <td>ScoPr</td>\n",
       "      <td>2242424</td>\n",
       "      <td>2016-08-06</td>\n",
       "      <td>11:30:00</td>\n",
       "      <td>Rangers</td>\n",
       "      <td>Hamilton Academical</td>\n",
       "      <td>Rangers</td>\n",
       "      <td>Right</td>\n",
       "      <td>Pass</td>\n",
       "    </tr>\n",
       "    <tr>\n",
       "      <th>1</th>\n",
       "      <td>153565</td>\n",
       "      <td>9571</td>\n",
       "      <td>ScoPr</td>\n",
       "      <td>2242424</td>\n",
       "      <td>2016-08-06</td>\n",
       "      <td>11:30:00</td>\n",
       "      <td>Rangers</td>\n",
       "      <td>Hamilton Academical</td>\n",
       "      <td>Rangers</td>\n",
       "      <td>Box</td>\n",
       "      <td>Pass</td>\n",
       "    </tr>\n",
       "    <tr>\n",
       "      <th>2</th>\n",
       "      <td>153566</td>\n",
       "      <td>9572</td>\n",
       "      <td>ScoPr</td>\n",
       "      <td>2242424</td>\n",
       "      <td>2016-08-06</td>\n",
       "      <td>11:30:00</td>\n",
       "      <td>Rangers</td>\n",
       "      <td>Hamilton Academical</td>\n",
       "      <td>Rangers</td>\n",
       "      <td>Right</td>\n",
       "      <td>Pass</td>\n",
       "    </tr>\n",
       "    <tr>\n",
       "      <th>3</th>\n",
       "      <td>153567</td>\n",
       "      <td>9573</td>\n",
       "      <td>ScoPr</td>\n",
       "      <td>2242424</td>\n",
       "      <td>2016-08-06</td>\n",
       "      <td>11:30:00</td>\n",
       "      <td>Rangers</td>\n",
       "      <td>Hamilton Academical</td>\n",
       "      <td>Hamilton Academical</td>\n",
       "      <td>Right</td>\n",
       "      <td>Pass</td>\n",
       "    </tr>\n",
       "    <tr>\n",
       "      <th>4</th>\n",
       "      <td>153568</td>\n",
       "      <td>9574</td>\n",
       "      <td>ScoPr</td>\n",
       "      <td>2242424</td>\n",
       "      <td>2016-08-06</td>\n",
       "      <td>11:30:00</td>\n",
       "      <td>Rangers</td>\n",
       "      <td>Hamilton Academical</td>\n",
       "      <td>Rangers</td>\n",
       "      <td>Box</td>\n",
       "      <td>Run</td>\n",
       "    </tr>\n",
       "  </tbody>\n",
       "</table>\n",
       "</div>"
      ],
      "text/plain": [
       "     True  index competition   gsm_id kickoffDate kickoffTime hometeam_team1  \\\n",
       "0  153564   9570       ScoPr  2242424  2016-08-06    11:30:00        Rangers   \n",
       "1  153565   9571       ScoPr  2242424  2016-08-06    11:30:00        Rangers   \n",
       "2  153566   9572       ScoPr  2242424  2016-08-06    11:30:00        Rangers   \n",
       "3  153567   9573       ScoPr  2242424  2016-08-06    11:30:00        Rangers   \n",
       "4  153568   9574       ScoPr  2242424  2016-08-06    11:30:00        Rangers   \n",
       "\n",
       "        awayteam_team2                 team keyentryArea keyentryType  \n",
       "0  Hamilton Academical              Rangers        Right         Pass  \n",
       "1  Hamilton Academical              Rangers          Box         Pass  \n",
       "2  Hamilton Academical              Rangers        Right         Pass  \n",
       "3  Hamilton Academical  Hamilton Academical        Right         Pass  \n",
       "4  Hamilton Academical              Rangers          Box          Run  "
      ]
     },
     "execution_count": 38,
     "metadata": {},
     "output_type": "execute_result"
    }
   ],
   "source": [
    "# Display the first 5 rows of the raw DataFrame, df_stratabet_key_entries_raw \n",
    "df_stratabet_key_entries_raw.head()"
   ]
  },
  {
   "cell_type": "code",
   "execution_count": 39,
   "metadata": {},
   "outputs": [
    {
     "data": {
      "text/html": [
       "<div>\n",
       "<style scoped>\n",
       "    .dataframe tbody tr th:only-of-type {\n",
       "        vertical-align: middle;\n",
       "    }\n",
       "\n",
       "    .dataframe tbody tr th {\n",
       "        vertical-align: top;\n",
       "    }\n",
       "\n",
       "    .dataframe thead th {\n",
       "        text-align: right;\n",
       "    }\n",
       "</style>\n",
       "<table border=\"1\" class=\"dataframe\">\n",
       "  <thead>\n",
       "    <tr style=\"text-align: right;\">\n",
       "      <th></th>\n",
       "      <th>True</th>\n",
       "      <th>index</th>\n",
       "      <th>competition</th>\n",
       "      <th>gsm_id</th>\n",
       "      <th>kickoffDate</th>\n",
       "      <th>kickoffTime</th>\n",
       "      <th>hometeam_team1</th>\n",
       "      <th>awayteam_team2</th>\n",
       "      <th>team</th>\n",
       "      <th>keyentryArea</th>\n",
       "      <th>keyentryType</th>\n",
       "    </tr>\n",
       "  </thead>\n",
       "  <tbody>\n",
       "    <tr>\n",
       "      <th>195682</th>\n",
       "      <td>111281</td>\n",
       "      <td>7814</td>\n",
       "      <td>GreSL</td>\n",
       "      <td>2701477</td>\n",
       "      <td>2018-03-11</td>\n",
       "      <td>15:15:00</td>\n",
       "      <td>Lamia</td>\n",
       "      <td>Levadiakos</td>\n",
       "      <td>Levadiakos</td>\n",
       "      <td>Right</td>\n",
       "      <td>Turnover</td>\n",
       "    </tr>\n",
       "    <tr>\n",
       "      <th>195683</th>\n",
       "      <td>111282</td>\n",
       "      <td>7815</td>\n",
       "      <td>GreSL</td>\n",
       "      <td>2701477</td>\n",
       "      <td>2018-03-11</td>\n",
       "      <td>15:15:00</td>\n",
       "      <td>Lamia</td>\n",
       "      <td>Levadiakos</td>\n",
       "      <td>Lamia</td>\n",
       "      <td>Left</td>\n",
       "      <td>Turnover</td>\n",
       "    </tr>\n",
       "    <tr>\n",
       "      <th>195684</th>\n",
       "      <td>111283</td>\n",
       "      <td>7816</td>\n",
       "      <td>GreSL</td>\n",
       "      <td>2701477</td>\n",
       "      <td>2018-03-11</td>\n",
       "      <td>15:15:00</td>\n",
       "      <td>Lamia</td>\n",
       "      <td>Levadiakos</td>\n",
       "      <td>Lamia</td>\n",
       "      <td>Right</td>\n",
       "      <td>Pass</td>\n",
       "    </tr>\n",
       "    <tr>\n",
       "      <th>195685</th>\n",
       "      <td>111284</td>\n",
       "      <td>7817</td>\n",
       "      <td>GreSL</td>\n",
       "      <td>2701477</td>\n",
       "      <td>2018-03-11</td>\n",
       "      <td>15:15:00</td>\n",
       "      <td>Lamia</td>\n",
       "      <td>Levadiakos</td>\n",
       "      <td>Lamia</td>\n",
       "      <td>Box</td>\n",
       "      <td>Pass</td>\n",
       "    </tr>\n",
       "    <tr>\n",
       "      <th>195686</th>\n",
       "      <td>111285</td>\n",
       "      <td>7818</td>\n",
       "      <td>GreSL</td>\n",
       "      <td>2701477</td>\n",
       "      <td>2018-03-11</td>\n",
       "      <td>15:15:00</td>\n",
       "      <td>Lamia</td>\n",
       "      <td>Levadiakos</td>\n",
       "      <td>Levadiakos</td>\n",
       "      <td>Box</td>\n",
       "      <td>Run</td>\n",
       "    </tr>\n",
       "  </tbody>\n",
       "</table>\n",
       "</div>"
      ],
      "text/plain": [
       "          True  index competition   gsm_id kickoffDate kickoffTime  \\\n",
       "195682  111281   7814       GreSL  2701477  2018-03-11    15:15:00   \n",
       "195683  111282   7815       GreSL  2701477  2018-03-11    15:15:00   \n",
       "195684  111283   7816       GreSL  2701477  2018-03-11    15:15:00   \n",
       "195685  111284   7817       GreSL  2701477  2018-03-11    15:15:00   \n",
       "195686  111285   7818       GreSL  2701477  2018-03-11    15:15:00   \n",
       "\n",
       "       hometeam_team1 awayteam_team2        team keyentryArea keyentryType  \n",
       "195682          Lamia     Levadiakos  Levadiakos        Right     Turnover  \n",
       "195683          Lamia     Levadiakos       Lamia         Left     Turnover  \n",
       "195684          Lamia     Levadiakos       Lamia        Right         Pass  \n",
       "195685          Lamia     Levadiakos       Lamia          Box         Pass  \n",
       "195686          Lamia     Levadiakos  Levadiakos          Box          Run  "
      ]
     },
     "execution_count": 39,
     "metadata": {},
     "output_type": "execute_result"
    }
   ],
   "source": [
    "# Display the last 5 rows of the raw DataFrame, df_stratabet_key_entries_raw \n",
    "df_stratabet_key_entries_raw.tail()"
   ]
  },
  {
   "cell_type": "code",
   "execution_count": 40,
   "metadata": {},
   "outputs": [
    {
     "name": "stdout",
     "output_type": "stream",
     "text": [
      "(195687, 11)\n"
     ]
    }
   ],
   "source": [
    "# Print the shape of the raw DataFrame, df_stratabet_key_entries_raw \n",
    "print(df_stratabet_key_entries_raw.shape)"
   ]
  },
  {
   "cell_type": "code",
   "execution_count": 41,
   "metadata": {},
   "outputs": [
    {
     "name": "stdout",
     "output_type": "stream",
     "text": [
      "Index(['True', 'index', 'competition', 'gsm_id', 'kickoffDate', 'kickoffTime',\n",
      "       'hometeam_team1', 'awayteam_team2', 'team', 'keyentryArea',\n",
      "       'keyentryType'],\n",
      "      dtype='object')\n"
     ]
    }
   ],
   "source": [
    "# Print the column names of the raw DataFrame, df_stratabet_key_entries_raw \n",
    "print(df_stratabet_key_entries_raw.columns)"
   ]
  },
  {
   "cell_type": "markdown",
   "metadata": {},
   "source": [
    "The dataset has six features (columns). Full details of these attributes can be found in the [Data Dictionary](section3.3.1)."
   ]
  },
  {
   "cell_type": "code",
   "execution_count": 42,
   "metadata": {},
   "outputs": [
    {
     "name": "stdout",
     "output_type": "stream",
     "text": [
      "<class 'pandas.core.frame.DataFrame'>\n",
      "RangeIndex: 195687 entries, 0 to 195686\n",
      "Data columns (total 11 columns):\n",
      " #   Column          Non-Null Count   Dtype \n",
      "---  ------          --------------   ----- \n",
      " 0   True            195687 non-null  int64 \n",
      " 1   index           195687 non-null  int64 \n",
      " 2   competition     195687 non-null  object\n",
      " 3   gsm_id          195687 non-null  int64 \n",
      " 4   kickoffDate     195687 non-null  object\n",
      " 5   kickoffTime     195687 non-null  object\n",
      " 6   hometeam_team1  195687 non-null  object\n",
      " 7   awayteam_team2  195687 non-null  object\n",
      " 8   team            195687 non-null  object\n",
      " 9   keyentryArea    195687 non-null  object\n",
      " 10  keyentryType    195687 non-null  object\n",
      "dtypes: int64(3), object(8)\n",
      "memory usage: 16.4+ MB\n"
     ]
    }
   ],
   "source": [
    "# Info for the raw DataFrame, df_stratabet_key_entries_raw \n",
    "df_stratabet_key_entries_raw.info()"
   ]
  },
  {
   "cell_type": "code",
   "execution_count": 43,
   "metadata": {},
   "outputs": [
    {
     "data": {
      "text/html": [
       "<div>\n",
       "<style scoped>\n",
       "    .dataframe tbody tr th:only-of-type {\n",
       "        vertical-align: middle;\n",
       "    }\n",
       "\n",
       "    .dataframe tbody tr th {\n",
       "        vertical-align: top;\n",
       "    }\n",
       "\n",
       "    .dataframe thead th {\n",
       "        text-align: right;\n",
       "    }\n",
       "</style>\n",
       "<table border=\"1\" class=\"dataframe\">\n",
       "  <thead>\n",
       "    <tr style=\"text-align: right;\">\n",
       "      <th></th>\n",
       "      <th>True</th>\n",
       "      <th>index</th>\n",
       "      <th>gsm_id</th>\n",
       "    </tr>\n",
       "  </thead>\n",
       "  <tbody>\n",
       "    <tr>\n",
       "      <th>count</th>\n",
       "      <td>195687.000000</td>\n",
       "      <td>195687.000000</td>\n",
       "      <td>1.956870e+05</td>\n",
       "    </tr>\n",
       "    <tr>\n",
       "      <th>mean</th>\n",
       "      <td>97843.000000</td>\n",
       "      <td>6453.847414</td>\n",
       "      <td>2.354363e+06</td>\n",
       "    </tr>\n",
       "    <tr>\n",
       "      <th>std</th>\n",
       "      <td>56490.115401</td>\n",
       "      <td>5040.288373</td>\n",
       "      <td>1.125099e+05</td>\n",
       "    </tr>\n",
       "    <tr>\n",
       "      <th>min</th>\n",
       "      <td>0.000000</td>\n",
       "      <td>0.000000</td>\n",
       "      <td>2.237445e+06</td>\n",
       "    </tr>\n",
       "    <tr>\n",
       "      <th>25%</th>\n",
       "      <td>48921.500000</td>\n",
       "      <td>2675.000000</td>\n",
       "      <td>2.246823e+06</td>\n",
       "    </tr>\n",
       "    <tr>\n",
       "      <th>50%</th>\n",
       "      <td>97843.000000</td>\n",
       "      <td>5401.000000</td>\n",
       "      <td>2.360808e+06</td>\n",
       "    </tr>\n",
       "    <tr>\n",
       "      <th>75%</th>\n",
       "      <td>146764.500000</td>\n",
       "      <td>8928.000000</td>\n",
       "      <td>2.467223e+06</td>\n",
       "    </tr>\n",
       "    <tr>\n",
       "      <th>max</th>\n",
       "      <td>195686.000000</td>\n",
       "      <td>25384.000000</td>\n",
       "      <td>2.701477e+06</td>\n",
       "    </tr>\n",
       "  </tbody>\n",
       "</table>\n",
       "</div>"
      ],
      "text/plain": [
       "                True          index        gsm_id\n",
       "count  195687.000000  195687.000000  1.956870e+05\n",
       "mean    97843.000000    6453.847414  2.354363e+06\n",
       "std     56490.115401    5040.288373  1.125099e+05\n",
       "min         0.000000       0.000000  2.237445e+06\n",
       "25%     48921.500000    2675.000000  2.246823e+06\n",
       "50%     97843.000000    5401.000000  2.360808e+06\n",
       "75%    146764.500000    8928.000000  2.467223e+06\n",
       "max    195686.000000   25384.000000  2.701477e+06"
      ]
     },
     "execution_count": 43,
     "metadata": {},
     "output_type": "execute_result"
    }
   ],
   "source": [
    "# Description of the raw DataFrame, df_stratabet_key_entries_raw, showing some summary statistics for each numberical column in the DataFrame\n",
    "df_stratabet_key_entries_raw.describe()"
   ]
  },
  {
   "cell_type": "code",
   "execution_count": 44,
   "metadata": {},
   "outputs": [
    {
     "data": {
      "text/plain": [
       "<matplotlib.axes._subplots.AxesSubplot at 0x1a1d9a0fd0>"
      ]
     },
     "execution_count": 44,
     "metadata": {},
     "output_type": "execute_result"
    },
    {
     "data": {
      "image/png": "[encoded data removed]",
      "text/plain": [
       "<Figure size 2160x504 with 2 Axes>"
      ]
     },
     "metadata": {},
     "output_type": "display_data"
    }
   ],
   "source": [
    "# Plot visualisation of the missing values for each feature of the raw DataFrame, df_stratabet_key_entries_raw \n",
    "msno.matrix(df_stratabet_key_entries_raw, figsize = (30, 7))"
   ]
  },
  {
   "cell_type": "code",
   "execution_count": 45,
   "metadata": {},
   "outputs": [
    {
     "data": {
      "text/plain": [
       "Series([], dtype: int64)"
      ]
     },
     "execution_count": 45,
     "metadata": {},
     "output_type": "execute_result"
    }
   ],
   "source": [
    "# Counts of missing values\n",
    "tm_null_value_stats = df_stratabet_key_entries_raw.isnull().sum(axis=0)\n",
    "tm_null_value_stats[tm_null_value_stats != 0]"
   ]
  },
  {
   "cell_type": "markdown",
   "metadata": {},
   "source": [
    "The visualisation shows us very quickly that there a few missing values in the `shotQuality` column, but otherwise the dataset is complete. This data is now ready for Data Engineering."
   ]
  },
  {
   "cell_type": "markdown",
   "metadata": {},
   "source": [
    "#### <a id='#section3.5.4'>3.5.4. Export Complete DataFrame</a>"
   ]
  },
  {
   "cell_type": "code",
   "execution_count": 46,
   "metadata": {},
   "outputs": [],
   "source": [
    "df_stratabet_key_entries_raw.to_csv(data_dir_stratabet + '/raw/key_entries/' + 'stratabet_key_entries_all.csv', index=None, header=True)"
   ]
  },
  {
   "cell_type": "markdown",
   "metadata": {},
   "source": [
    "---"
   ]
  },
  {
   "cell_type": "markdown",
   "metadata": {},
   "source": [
    "## <a id='#section4'>4. Data Engineering</a>"
   ]
  },
  {
   "cell_type": "markdown",
   "metadata": {},
   "source": [
    "### <a id='#section4.1'>4.1. Chances</a>"
   ]
  },
  {
   "cell_type": "markdown",
   "metadata": {},
   "source": [
    "#### <a id='#section4.1.1'>4.1.1. Assign Raw DataFrame to Engineered DataFrame</a>"
   ]
  },
  {
   "cell_type": "code",
   "execution_count": 47,
   "metadata": {},
   "outputs": [],
   "source": [
    "# Assign Raw DataFrame to Engineered DataFrame\n",
    "df_stratabet_chances = df_stratabet_chances_raw"
   ]
  },
  {
   "cell_type": "markdown",
   "metadata": {},
   "source": [
    "#### <a id='#section4.1.2'>4.1.2. Create `Full_Fixture_Date` Attribute</a>"
   ]
  },
  {
   "cell_type": "code",
   "execution_count": 48,
   "metadata": {
    "scrolled": true
   },
   "outputs": [
    {
     "data": {
      "text/html": [
       "<div>\n",
       "<style scoped>\n",
       "    .dataframe tbody tr th:only-of-type {\n",
       "        vertical-align: middle;\n",
       "    }\n",
       "\n",
       "    .dataframe tbody tr th {\n",
       "        vertical-align: top;\n",
       "    }\n",
       "\n",
       "    .dataframe thead th {\n",
       "        text-align: right;\n",
       "    }\n",
       "</style>\n",
       "<table border=\"1\" class=\"dataframe\">\n",
       "  <thead>\n",
       "    <tr style=\"text-align: right;\">\n",
       "      <th></th>\n",
       "      <th>index</th>\n",
       "      <th>competition</th>\n",
       "      <th>gsm_id</th>\n",
       "      <th>kickoffDate</th>\n",
       "      <th>kickoffTime</th>\n",
       "      <th>hometeam_team1</th>\n",
       "      <th>awayteam_team2</th>\n",
       "      <th>icon</th>\n",
       "      <th>chanceRating</th>\n",
       "      <th>team</th>\n",
       "      <th>type</th>\n",
       "      <th>time</th>\n",
       "      <th>player</th>\n",
       "      <th>location_x</th>\n",
       "      <th>location_y</th>\n",
       "      <th>bodyPart</th>\n",
       "      <th>shotQuality</th>\n",
       "      <th>defPressure</th>\n",
       "      <th>numDefPlayers</th>\n",
       "      <th>numAttPlayers</th>\n",
       "      <th>outcome</th>\n",
       "      <th>primaryPlayer</th>\n",
       "      <th>primaryType</th>\n",
       "      <th>primaryLocation_x</th>\n",
       "      <th>primaryLocation_y</th>\n",
       "      <th>secondaryPlayer</th>\n",
       "      <th>secondaryType</th>\n",
       "    </tr>\n",
       "  </thead>\n",
       "  <tbody>\n",
       "    <tr>\n",
       "      <th>0</th>\n",
       "      <td>4684</td>\n",
       "      <td>GreSL</td>\n",
       "      <td>2355591</td>\n",
       "      <td>10/09/2016</td>\n",
       "      <td>13:00:00</td>\n",
       "      <td>Kerkyra</td>\n",
       "      <td>Platanias</td>\n",
       "      <td>poorchance</td>\n",
       "      <td>poorchance</td>\n",
       "      <td>Kerkyra</td>\n",
       "      <td>Open Play</td>\n",
       "      <td>24:43:00</td>\n",
       "      <td>D. Epstein</td>\n",
       "      <td>81</td>\n",
       "      <td>48</td>\n",
       "      <td>Left</td>\n",
       "      <td>3</td>\n",
       "      <td>5</td>\n",
       "      <td>2</td>\n",
       "      <td>0</td>\n",
       "      <td>Saved</td>\n",
       "      <td>-</td>\n",
       "      <td>-</td>\n",
       "      <td>-</td>\n",
       "      <td>-</td>\n",
       "      <td>-</td>\n",
       "      <td>-</td>\n",
       "    </tr>\n",
       "    <tr>\n",
       "      <th>1</th>\n",
       "      <td>4685</td>\n",
       "      <td>GreSL</td>\n",
       "      <td>2355591</td>\n",
       "      <td>10/09/2016</td>\n",
       "      <td>13:00:00</td>\n",
       "      <td>Kerkyra</td>\n",
       "      <td>Platanias</td>\n",
       "      <td>goodchance</td>\n",
       "      <td>goodchance</td>\n",
       "      <td>Kerkyra</td>\n",
       "      <td>Open Play</td>\n",
       "      <td>45:29:00</td>\n",
       "      <td>D. Epstein</td>\n",
       "      <td>27</td>\n",
       "      <td>60</td>\n",
       "      <td>Left</td>\n",
       "      <td>2</td>\n",
       "      <td>2</td>\n",
       "      <td>2</td>\n",
       "      <td>0</td>\n",
       "      <td>Defended</td>\n",
       "      <td>Thuram</td>\n",
       "      <td>Open Play Pass</td>\n",
       "      <td>-29</td>\n",
       "      <td>82</td>\n",
       "      <td>-</td>\n",
       "      <td>-</td>\n",
       "    </tr>\n",
       "    <tr>\n",
       "      <th>2</th>\n",
       "      <td>4686</td>\n",
       "      <td>GreSL</td>\n",
       "      <td>2355591</td>\n",
       "      <td>10/09/2016</td>\n",
       "      <td>13:00:00</td>\n",
       "      <td>Kerkyra</td>\n",
       "      <td>Platanias</td>\n",
       "      <td>poorchance</td>\n",
       "      <td>poorchance</td>\n",
       "      <td>Kerkyra</td>\n",
       "      <td>Open Play</td>\n",
       "      <td>44:34:00</td>\n",
       "      <td>S. Siontis</td>\n",
       "      <td>23</td>\n",
       "      <td>117</td>\n",
       "      <td>Right</td>\n",
       "      <td>2</td>\n",
       "      <td>1</td>\n",
       "      <td>4</td>\n",
       "      <td>1</td>\n",
       "      <td>Missed</td>\n",
       "      <td>-</td>\n",
       "      <td>-</td>\n",
       "      <td>-</td>\n",
       "      <td>-</td>\n",
       "      <td>-</td>\n",
       "      <td>-</td>\n",
       "    </tr>\n",
       "    <tr>\n",
       "      <th>3</th>\n",
       "      <td>4687</td>\n",
       "      <td>GreSL</td>\n",
       "      <td>2355591</td>\n",
       "      <td>10/09/2016</td>\n",
       "      <td>13:00:00</td>\n",
       "      <td>Kerkyra</td>\n",
       "      <td>Platanias</td>\n",
       "      <td>poorchance</td>\n",
       "      <td>poorchance</td>\n",
       "      <td>Platanias</td>\n",
       "      <td>Open Play</td>\n",
       "      <td>42:39:00</td>\n",
       "      <td>O. Gnjatic</td>\n",
       "      <td>-9</td>\n",
       "      <td>118</td>\n",
       "      <td>Left</td>\n",
       "      <td>1</td>\n",
       "      <td>1</td>\n",
       "      <td>3</td>\n",
       "      <td>1</td>\n",
       "      <td>Missed</td>\n",
       "      <td>G. Manousos</td>\n",
       "      <td>Open Play Pass</td>\n",
       "      <td>77</td>\n",
       "      <td>92</td>\n",
       "      <td>-</td>\n",
       "      <td>-</td>\n",
       "    </tr>\n",
       "    <tr>\n",
       "      <th>4</th>\n",
       "      <td>4688</td>\n",
       "      <td>GreSL</td>\n",
       "      <td>2355591</td>\n",
       "      <td>10/09/2016</td>\n",
       "      <td>13:00:00</td>\n",
       "      <td>Kerkyra</td>\n",
       "      <td>Platanias</td>\n",
       "      <td>goodchance</td>\n",
       "      <td>goodchance</td>\n",
       "      <td>Kerkyra</td>\n",
       "      <td>Open Play</td>\n",
       "      <td>40:46:00</td>\n",
       "      <td>D. Epstein</td>\n",
       "      <td>42</td>\n",
       "      <td>15</td>\n",
       "      <td>Left</td>\n",
       "      <td>2</td>\n",
       "      <td>5</td>\n",
       "      <td>2</td>\n",
       "      <td>0</td>\n",
       "      <td>Saved</td>\n",
       "      <td>-</td>\n",
       "      <td>-</td>\n",
       "      <td>-</td>\n",
       "      <td>-</td>\n",
       "      <td>-</td>\n",
       "      <td>-</td>\n",
       "    </tr>\n",
       "  </tbody>\n",
       "</table>\n",
       "</div>"
      ],
      "text/plain": [
       "   index competition   gsm_id kickoffDate kickoffTime hometeam_team1  \\\n",
       "0   4684       GreSL  2355591  10/09/2016    13:00:00        Kerkyra   \n",
       "1   4685       GreSL  2355591  10/09/2016    13:00:00        Kerkyra   \n",
       "2   4686       GreSL  2355591  10/09/2016    13:00:00        Kerkyra   \n",
       "3   4687       GreSL  2355591  10/09/2016    13:00:00        Kerkyra   \n",
       "4   4688       GreSL  2355591  10/09/2016    13:00:00        Kerkyra   \n",
       "\n",
       "  awayteam_team2        icon chanceRating       team       type      time  \\\n",
       "0      Platanias  poorchance   poorchance    Kerkyra  Open Play  24:43:00   \n",
       "1      Platanias  goodchance   goodchance    Kerkyra  Open Play  45:29:00   \n",
       "2      Platanias  poorchance   poorchance    Kerkyra  Open Play  44:34:00   \n",
       "3      Platanias  poorchance   poorchance  Platanias  Open Play  42:39:00   \n",
       "4      Platanias  goodchance   goodchance    Kerkyra  Open Play  40:46:00   \n",
       "\n",
       "       player location_x location_y bodyPart shotQuality defPressure  \\\n",
       "0  D. Epstein         81         48     Left           3           5   \n",
       "1  D. Epstein         27         60     Left           2           2   \n",
       "2  S. Siontis         23        117    Right           2           1   \n",
       "3  O. Gnjatic         -9        118     Left           1           1   \n",
       "4  D. Epstein         42         15     Left           2           5   \n",
       "\n",
       "  numDefPlayers numAttPlayers   outcome primaryPlayer     primaryType  \\\n",
       "0             2             0     Saved             -               -   \n",
       "1             2             0  Defended        Thuram  Open Play Pass   \n",
       "2             4             1    Missed             -               -   \n",
       "3             3             1    Missed   G. Manousos  Open Play Pass   \n",
       "4             2             0     Saved             -               -   \n",
       "\n",
       "  primaryLocation_x primaryLocation_y secondaryPlayer secondaryType  \n",
       "0                 -                 -               -             -  \n",
       "1               -29                82               -             -  \n",
       "2                 -                 -               -             -  \n",
       "3                77                92               -             -  \n",
       "4                 -                 -               -             -  "
      ]
     },
     "execution_count": 48,
     "metadata": {},
     "output_type": "execute_result"
    }
   ],
   "source": [
    "df_stratabet_chances.head()"
   ]
  },
  {
   "cell_type": "code",
   "execution_count": 49,
   "metadata": {},
   "outputs": [],
   "source": [
    "df_stratabet_chances['Full_Fixture_Date'] = df_stratabet_chances['kickoffDate'].astype(str) + ' ' + df_stratabet_chances['hometeam_team1'].astype(str) + ' vs. ' + df_stratabet_chances['awayteam_team2'].astype(str)"
   ]
  },
  {
   "cell_type": "markdown",
   "metadata": {},
   "source": [
    "#### <a id='#section4.1.3'>4.1.3. Convert Data Types</a>"
   ]
  },
  {
   "cell_type": "code",
   "execution_count": 50,
   "metadata": {},
   "outputs": [],
   "source": [
    "df_stratabet_chances['location_x'] = df_stratabet_chances['location_x'].apply(pd.to_numeric, errors='coerce')\n",
    "df_stratabet_chances['location_y'] = df_stratabet_chances['location_y'].apply(pd.to_numeric, errors='coerce')\n",
    "df_stratabet_chances['primaryLocation_x'] = df_stratabet_chances['primaryLocation_x'].apply(pd.to_numeric, errors='coerce')\n",
    "df_stratabet_chances['primaryLocation_y'] = df_stratabet_chances['primaryLocation_y'].apply(pd.to_numeric, errors='coerce')\n",
    "df_stratabet_chances['shotQuality'] = df_stratabet_chances['shotQuality'].apply(pd.to_numeric, errors='coerce')\n",
    "df_stratabet_chances['defPressure'] = df_stratabet_chances['defPressure'].apply(pd.to_numeric, errors='coerce')\n",
    "df_stratabet_chances['numDefPlayers'] = df_stratabet_chances['numDefPlayers'].apply(pd.to_numeric, errors='coerce')\n",
    "df_stratabet_chances['numAttPlayers'] = df_stratabet_chances['numAttPlayers'].apply(pd.to_numeric, errors='coerce')"
   ]
  },
  {
   "cell_type": "markdown",
   "metadata": {},
   "source": [
    "#### <a id='#section4.1.4'>4.1.4. Convert X, Y Coordinates to Standardised Coordiantes</a>\n",
    "\n",
    "From the documenation, the XY coordinates in addition to grid locations, with (0,0) representing the absolute centre of the defended goal line. The pitch length runs from 0 to 420, while the width runs from 136 to -136 (left to right).\n",
    "\n",
    "Some key reference points of note:\n",
    "*    Left Goalpost (15, 0)\n",
    "*    Right Goalpost (-15, 0)\n",
    "*    6-Yard Box Left Corner: (37, 22)\n",
    "*    6-Yard Box Right Corner: (-37, 22)\n",
    "*    Penalty Spot: (0, 44)\n",
    "*    18-Yard Box Left Corner: (81, 66)\n",
    "*    18-Yard Box Right Corner: (-81, 66)\n",
    "*    Centre Spot: (0, 210) "
   ]
  },
  {
   "cell_type": "code",
   "execution_count": 51,
   "metadata": {},
   "outputs": [],
   "source": [
    "df_stratabet_chances['location_y_120'] = ((df_stratabet_chances['location_y'] / 480) * 120).round(2)\n",
    "df_stratabet_chances['location_x_80'] = (((df_stratabet_chances['location_x'] + 136) / 272) * 80).round(2)\n",
    "df_stratabet_chances['primaryLocation_y_120'] = ((df_stratabet_chances['primaryLocation_y'] / 480) * 120).round(2)\n",
    "df_stratabet_chances['primaryLocation_x_80'] = (((df_stratabet_chances['primaryLocation_x'] + 136) / 272) * 80).round(2)"
   ]
  },
  {
   "cell_type": "code",
   "execution_count": 52,
   "metadata": {},
   "outputs": [
    {
     "data": {
      "text/html": [
       "<div>\n",
       "<style scoped>\n",
       "    .dataframe tbody tr th:only-of-type {\n",
       "        vertical-align: middle;\n",
       "    }\n",
       "\n",
       "    .dataframe tbody tr th {\n",
       "        vertical-align: top;\n",
       "    }\n",
       "\n",
       "    .dataframe thead th {\n",
       "        text-align: right;\n",
       "    }\n",
       "</style>\n",
       "<table border=\"1\" class=\"dataframe\">\n",
       "  <thead>\n",
       "    <tr style=\"text-align: right;\">\n",
       "      <th></th>\n",
       "      <th>index</th>\n",
       "      <th>competition</th>\n",
       "      <th>gsm_id</th>\n",
       "      <th>kickoffDate</th>\n",
       "      <th>kickoffTime</th>\n",
       "      <th>hometeam_team1</th>\n",
       "      <th>awayteam_team2</th>\n",
       "      <th>icon</th>\n",
       "      <th>chanceRating</th>\n",
       "      <th>team</th>\n",
       "      <th>type</th>\n",
       "      <th>time</th>\n",
       "      <th>player</th>\n",
       "      <th>location_x</th>\n",
       "      <th>location_y</th>\n",
       "      <th>bodyPart</th>\n",
       "      <th>shotQuality</th>\n",
       "      <th>defPressure</th>\n",
       "      <th>numDefPlayers</th>\n",
       "      <th>numAttPlayers</th>\n",
       "      <th>outcome</th>\n",
       "      <th>primaryPlayer</th>\n",
       "      <th>primaryType</th>\n",
       "      <th>primaryLocation_x</th>\n",
       "      <th>primaryLocation_y</th>\n",
       "      <th>secondaryPlayer</th>\n",
       "      <th>secondaryType</th>\n",
       "      <th>Full_Fixture_Date</th>\n",
       "      <th>location_y_120</th>\n",
       "      <th>location_x_80</th>\n",
       "      <th>primaryLocation_y_120</th>\n",
       "      <th>primaryLocation_x_80</th>\n",
       "    </tr>\n",
       "  </thead>\n",
       "  <tbody>\n",
       "    <tr>\n",
       "      <th>0</th>\n",
       "      <td>4684</td>\n",
       "      <td>GreSL</td>\n",
       "      <td>2355591</td>\n",
       "      <td>10/09/2016</td>\n",
       "      <td>13:00:00</td>\n",
       "      <td>Kerkyra</td>\n",
       "      <td>Platanias</td>\n",
       "      <td>poorchance</td>\n",
       "      <td>poorchance</td>\n",
       "      <td>Kerkyra</td>\n",
       "      <td>Open Play</td>\n",
       "      <td>24:43:00</td>\n",
       "      <td>D. Epstein</td>\n",
       "      <td>81.0</td>\n",
       "      <td>48.0</td>\n",
       "      <td>Left</td>\n",
       "      <td>3.0</td>\n",
       "      <td>5.0</td>\n",
       "      <td>2.0</td>\n",
       "      <td>0.0</td>\n",
       "      <td>Saved</td>\n",
       "      <td>-</td>\n",
       "      <td>-</td>\n",
       "      <td>NaN</td>\n",
       "      <td>NaN</td>\n",
       "      <td>-</td>\n",
       "      <td>-</td>\n",
       "      <td>10/09/2016 Kerkyra vs. Platanias</td>\n",
       "      <td>12.00</td>\n",
       "      <td>63.82</td>\n",
       "      <td>NaN</td>\n",
       "      <td>NaN</td>\n",
       "    </tr>\n",
       "    <tr>\n",
       "      <th>1</th>\n",
       "      <td>4685</td>\n",
       "      <td>GreSL</td>\n",
       "      <td>2355591</td>\n",
       "      <td>10/09/2016</td>\n",
       "      <td>13:00:00</td>\n",
       "      <td>Kerkyra</td>\n",
       "      <td>Platanias</td>\n",
       "      <td>goodchance</td>\n",
       "      <td>goodchance</td>\n",
       "      <td>Kerkyra</td>\n",
       "      <td>Open Play</td>\n",
       "      <td>45:29:00</td>\n",
       "      <td>D. Epstein</td>\n",
       "      <td>27.0</td>\n",
       "      <td>60.0</td>\n",
       "      <td>Left</td>\n",
       "      <td>2.0</td>\n",
       "      <td>2.0</td>\n",
       "      <td>2.0</td>\n",
       "      <td>0.0</td>\n",
       "      <td>Defended</td>\n",
       "      <td>Thuram</td>\n",
       "      <td>Open Play Pass</td>\n",
       "      <td>-29.0</td>\n",
       "      <td>82.0</td>\n",
       "      <td>-</td>\n",
       "      <td>-</td>\n",
       "      <td>10/09/2016 Kerkyra vs. Platanias</td>\n",
       "      <td>15.00</td>\n",
       "      <td>47.94</td>\n",
       "      <td>20.5</td>\n",
       "      <td>31.47</td>\n",
       "    </tr>\n",
       "    <tr>\n",
       "      <th>2</th>\n",
       "      <td>4686</td>\n",
       "      <td>GreSL</td>\n",
       "      <td>2355591</td>\n",
       "      <td>10/09/2016</td>\n",
       "      <td>13:00:00</td>\n",
       "      <td>Kerkyra</td>\n",
       "      <td>Platanias</td>\n",
       "      <td>poorchance</td>\n",
       "      <td>poorchance</td>\n",
       "      <td>Kerkyra</td>\n",
       "      <td>Open Play</td>\n",
       "      <td>44:34:00</td>\n",
       "      <td>S. Siontis</td>\n",
       "      <td>23.0</td>\n",
       "      <td>117.0</td>\n",
       "      <td>Right</td>\n",
       "      <td>2.0</td>\n",
       "      <td>1.0</td>\n",
       "      <td>4.0</td>\n",
       "      <td>1.0</td>\n",
       "      <td>Missed</td>\n",
       "      <td>-</td>\n",
       "      <td>-</td>\n",
       "      <td>NaN</td>\n",
       "      <td>NaN</td>\n",
       "      <td>-</td>\n",
       "      <td>-</td>\n",
       "      <td>10/09/2016 Kerkyra vs. Platanias</td>\n",
       "      <td>29.25</td>\n",
       "      <td>46.76</td>\n",
       "      <td>NaN</td>\n",
       "      <td>NaN</td>\n",
       "    </tr>\n",
       "    <tr>\n",
       "      <th>3</th>\n",
       "      <td>4687</td>\n",
       "      <td>GreSL</td>\n",
       "      <td>2355591</td>\n",
       "      <td>10/09/2016</td>\n",
       "      <td>13:00:00</td>\n",
       "      <td>Kerkyra</td>\n",
       "      <td>Platanias</td>\n",
       "      <td>poorchance</td>\n",
       "      <td>poorchance</td>\n",
       "      <td>Platanias</td>\n",
       "      <td>Open Play</td>\n",
       "      <td>42:39:00</td>\n",
       "      <td>O. Gnjatic</td>\n",
       "      <td>-9.0</td>\n",
       "      <td>118.0</td>\n",
       "      <td>Left</td>\n",
       "      <td>1.0</td>\n",
       "      <td>1.0</td>\n",
       "      <td>3.0</td>\n",
       "      <td>1.0</td>\n",
       "      <td>Missed</td>\n",
       "      <td>G. Manousos</td>\n",
       "      <td>Open Play Pass</td>\n",
       "      <td>77.0</td>\n",
       "      <td>92.0</td>\n",
       "      <td>-</td>\n",
       "      <td>-</td>\n",
       "      <td>10/09/2016 Kerkyra vs. Platanias</td>\n",
       "      <td>29.50</td>\n",
       "      <td>37.35</td>\n",
       "      <td>23.0</td>\n",
       "      <td>62.65</td>\n",
       "    </tr>\n",
       "    <tr>\n",
       "      <th>4</th>\n",
       "      <td>4688</td>\n",
       "      <td>GreSL</td>\n",
       "      <td>2355591</td>\n",
       "      <td>10/09/2016</td>\n",
       "      <td>13:00:00</td>\n",
       "      <td>Kerkyra</td>\n",
       "      <td>Platanias</td>\n",
       "      <td>goodchance</td>\n",
       "      <td>goodchance</td>\n",
       "      <td>Kerkyra</td>\n",
       "      <td>Open Play</td>\n",
       "      <td>40:46:00</td>\n",
       "      <td>D. Epstein</td>\n",
       "      <td>42.0</td>\n",
       "      <td>15.0</td>\n",
       "      <td>Left</td>\n",
       "      <td>2.0</td>\n",
       "      <td>5.0</td>\n",
       "      <td>2.0</td>\n",
       "      <td>0.0</td>\n",
       "      <td>Saved</td>\n",
       "      <td>-</td>\n",
       "      <td>-</td>\n",
       "      <td>NaN</td>\n",
       "      <td>NaN</td>\n",
       "      <td>-</td>\n",
       "      <td>-</td>\n",
       "      <td>10/09/2016 Kerkyra vs. Platanias</td>\n",
       "      <td>3.75</td>\n",
       "      <td>52.35</td>\n",
       "      <td>NaN</td>\n",
       "      <td>NaN</td>\n",
       "    </tr>\n",
       "  </tbody>\n",
       "</table>\n",
       "</div>"
      ],
      "text/plain": [
       "   index competition   gsm_id kickoffDate kickoffTime hometeam_team1  \\\n",
       "0   4684       GreSL  2355591  10/09/2016    13:00:00        Kerkyra   \n",
       "1   4685       GreSL  2355591  10/09/2016    13:00:00        Kerkyra   \n",
       "2   4686       GreSL  2355591  10/09/2016    13:00:00        Kerkyra   \n",
       "3   4687       GreSL  2355591  10/09/2016    13:00:00        Kerkyra   \n",
       "4   4688       GreSL  2355591  10/09/2016    13:00:00        Kerkyra   \n",
       "\n",
       "  awayteam_team2        icon chanceRating       team       type      time  \\\n",
       "0      Platanias  poorchance   poorchance    Kerkyra  Open Play  24:43:00   \n",
       "1      Platanias  goodchance   goodchance    Kerkyra  Open Play  45:29:00   \n",
       "2      Platanias  poorchance   poorchance    Kerkyra  Open Play  44:34:00   \n",
       "3      Platanias  poorchance   poorchance  Platanias  Open Play  42:39:00   \n",
       "4      Platanias  goodchance   goodchance    Kerkyra  Open Play  40:46:00   \n",
       "\n",
       "       player  location_x  location_y bodyPart  shotQuality  defPressure  \\\n",
       "0  D. Epstein        81.0        48.0     Left          3.0          5.0   \n",
       "1  D. Epstein        27.0        60.0     Left          2.0          2.0   \n",
       "2  S. Siontis        23.0       117.0    Right          2.0          1.0   \n",
       "3  O. Gnjatic        -9.0       118.0     Left          1.0          1.0   \n",
       "4  D. Epstein        42.0        15.0     Left          2.0          5.0   \n",
       "\n",
       "   numDefPlayers  numAttPlayers   outcome primaryPlayer     primaryType  \\\n",
       "0            2.0            0.0     Saved             -               -   \n",
       "1            2.0            0.0  Defended        Thuram  Open Play Pass   \n",
       "2            4.0            1.0    Missed             -               -   \n",
       "3            3.0            1.0    Missed   G. Manousos  Open Play Pass   \n",
       "4            2.0            0.0     Saved             -               -   \n",
       "\n",
       "   primaryLocation_x  primaryLocation_y secondaryPlayer secondaryType  \\\n",
       "0                NaN                NaN               -             -   \n",
       "1              -29.0               82.0               -             -   \n",
       "2                NaN                NaN               -             -   \n",
       "3               77.0               92.0               -             -   \n",
       "4                NaN                NaN               -             -   \n",
       "\n",
       "                  Full_Fixture_Date  location_y_120  location_x_80  \\\n",
       "0  10/09/2016 Kerkyra vs. Platanias           12.00          63.82   \n",
       "1  10/09/2016 Kerkyra vs. Platanias           15.00          47.94   \n",
       "2  10/09/2016 Kerkyra vs. Platanias           29.25          46.76   \n",
       "3  10/09/2016 Kerkyra vs. Platanias           29.50          37.35   \n",
       "4  10/09/2016 Kerkyra vs. Platanias            3.75          52.35   \n",
       "\n",
       "   primaryLocation_y_120  primaryLocation_x_80  \n",
       "0                    NaN                   NaN  \n",
       "1                   20.5                 31.47  \n",
       "2                    NaN                   NaN  \n",
       "3                   23.0                 62.65  \n",
       "4                    NaN                   NaN  "
      ]
     },
     "execution_count": 52,
     "metadata": {},
     "output_type": "execute_result"
    }
   ],
   "source": [
    "df_stratabet_chances.head()"
   ]
  },
  {
   "cell_type": "code",
   "execution_count": 53,
   "metadata": {},
   "outputs": [],
   "source": [
    "df_stratabet_chances['location_y_120_inv'] = 120 - ((df_stratabet_chances['location_y'] / 480) * 120).round(2)\n",
    "df_stratabet_chances['location_x_80_inv'] = 80 - (((df_stratabet_chances['location_x'] + 136) / 272) * 80).round(2)\n",
    "df_stratabet_chances['primaryLocation_y_120_inv'] = 120 -  ((df_stratabet_chances['primaryLocation_y'] / 480) * 120).round(2)\n",
    "df_stratabet_chances['primaryLocation_x_80_inv'] = 80 - (((df_stratabet_chances['primaryLocation_x'] + 136) / 272) * 80).round(2)"
   ]
  },
  {
   "cell_type": "markdown",
   "metadata": {},
   "source": [
    "#### <a id='#section4.1.5'>4.1.5. Renaming</a>"
   ]
  },
  {
   "cell_type": "code",
   "execution_count": 54,
   "metadata": {},
   "outputs": [],
   "source": [
    "df_stratabet_chances = df_stratabet_chances.rename(columns = {'index':'id'})"
   ]
  },
  {
   "cell_type": "markdown",
   "metadata": {},
   "source": [
    "#### <a id='#section4.1.6'>4.1.6. Assign New Attributes</a>"
   ]
  },
  {
   "cell_type": "markdown",
   "metadata": {},
   "source": [
    "##### Season"
   ]
  },
  {
   "cell_type": "code",
   "execution_count": 55,
   "metadata": {},
   "outputs": [],
   "source": [
    "df_stratabet_chances['Season'] = 'TO ADD'"
   ]
  },
  {
   "cell_type": "code",
   "execution_count": 56,
   "metadata": {},
   "outputs": [],
   "source": [
    "# Write code here to add seasons for each match per 'competition' and 'kickoffDate' - varies per league"
   ]
  },
  {
   "cell_type": "markdown",
   "metadata": {},
   "source": [
    "#### <a id='#section4.1.7'>4.1.7. Create DataFrame of Teams and Leagues</a>"
   ]
  },
  {
   "cell_type": "code",
   "execution_count": 68,
   "metadata": {},
   "outputs": [
    {
     "data": {
      "text/html": [
       "<div>\n",
       "<style scoped>\n",
       "    .dataframe tbody tr th:only-of-type {\n",
       "        vertical-align: middle;\n",
       "    }\n",
       "\n",
       "    .dataframe tbody tr th {\n",
       "        vertical-align: top;\n",
       "    }\n",
       "\n",
       "    .dataframe thead th {\n",
       "        text-align: right;\n",
       "    }\n",
       "</style>\n",
       "<table border=\"1\" class=\"dataframe\">\n",
       "  <thead>\n",
       "    <tr style=\"text-align: right;\">\n",
       "      <th></th>\n",
       "      <th>competition</th>\n",
       "      <th>team</th>\n",
       "    </tr>\n",
       "  </thead>\n",
       "  <tbody>\n",
       "    <tr>\n",
       "      <th>77137</th>\n",
       "      <td>AusAL</td>\n",
       "      <td>Adelaide United</td>\n",
       "    </tr>\n",
       "    <tr>\n",
       "      <th>77053</th>\n",
       "      <td>AusAL</td>\n",
       "      <td>Brisbane Roar</td>\n",
       "    </tr>\n",
       "    <tr>\n",
       "      <th>77104</th>\n",
       "      <td>AusAL</td>\n",
       "      <td>Central Coast Mariners</td>\n",
       "    </tr>\n",
       "    <tr>\n",
       "      <th>77066</th>\n",
       "      <td>AusAL</td>\n",
       "      <td>Melbourne City</td>\n",
       "    </tr>\n",
       "    <tr>\n",
       "      <th>77052</th>\n",
       "      <td>AusAL</td>\n",
       "      <td>Melbourne Victory</td>\n",
       "    </tr>\n",
       "  </tbody>\n",
       "</table>\n",
       "</div>"
      ],
      "text/plain": [
       "      competition                    team\n",
       "77137       AusAL         Adelaide United\n",
       "77053       AusAL           Brisbane Roar\n",
       "77104       AusAL  Central Coast Mariners\n",
       "77066       AusAL          Melbourne City\n",
       "77052       AusAL       Melbourne Victory"
      ]
     },
     "execution_count": 68,
     "metadata": {},
     "output_type": "execute_result"
    }
   ],
   "source": [
    "# Create DataFrame of Teams and Leagues\n",
    "\n",
    "## Select columns of interest\n",
    "cols = ['competition', 'team']\n",
    "df_stratabet_teams_leagues = df_stratabet_chances[cols]\n",
    "\n",
    "## Drop duplicates\n",
    "df_stratabet_teams_leagues = df_stratabet_teams_leagues.drop_duplicates()\n",
    "\n",
    "## Order columns by league and team\n",
    "df_stratabet_teams_leagues = df_stratabet_teams_leagues.sort_values(['competition', 'team'], ascending=[True, True])\n",
    "\n",
    "## Display DataFrame\n",
    "df_stratabet_teams_leagues.head()"
   ]
  },
  {
   "cell_type": "code",
   "execution_count": 69,
   "metadata": {},
   "outputs": [],
   "source": [
    "# Export DataFrame\n",
    "df_stratabet_teams_leagues.to_csv(data_dir_stratabet + '/reference/teams_leagues.csv', index=None, header=True)"
   ]
  },
  {
   "cell_type": "markdown",
   "metadata": {},
   "source": [
    "#### <a id='#section4.1.8'>4.1.8. Export DataFrame</a>"
   ]
  },
  {
   "cell_type": "code",
   "execution_count": 64,
   "metadata": {},
   "outputs": [],
   "source": [
    "df_stratabet_chances.to_csv(data_dir_stratabet + '/engineered/chances/stratabet_chances_all.csv', index=None, header=True)"
   ]
  },
  {
   "cell_type": "code",
   "execution_count": 65,
   "metadata": {},
   "outputs": [],
   "source": [
    "df_stratabet_chances.to_csv(data_dir + '/export/stratabet_events_chances.csv', index=None, header=True)"
   ]
  },
  {
   "cell_type": "code",
   "execution_count": 66,
   "metadata": {},
   "outputs": [
    {
     "data": {
      "text/html": [
       "<div>\n",
       "<style scoped>\n",
       "    .dataframe tbody tr th:only-of-type {\n",
       "        vertical-align: middle;\n",
       "    }\n",
       "\n",
       "    .dataframe tbody tr th {\n",
       "        vertical-align: top;\n",
       "    }\n",
       "\n",
       "    .dataframe thead th {\n",
       "        text-align: right;\n",
       "    }\n",
       "</style>\n",
       "<table border=\"1\" class=\"dataframe\">\n",
       "  <thead>\n",
       "    <tr style=\"text-align: right;\">\n",
       "      <th></th>\n",
       "      <th>id</th>\n",
       "      <th>competition</th>\n",
       "      <th>gsm_id</th>\n",
       "      <th>kickoffDate</th>\n",
       "      <th>kickoffTime</th>\n",
       "      <th>hometeam_team1</th>\n",
       "      <th>awayteam_team2</th>\n",
       "      <th>icon</th>\n",
       "      <th>chanceRating</th>\n",
       "      <th>team</th>\n",
       "      <th>type</th>\n",
       "      <th>time</th>\n",
       "      <th>player</th>\n",
       "      <th>location_x</th>\n",
       "      <th>location_y</th>\n",
       "      <th>bodyPart</th>\n",
       "      <th>shotQuality</th>\n",
       "      <th>defPressure</th>\n",
       "      <th>numDefPlayers</th>\n",
       "      <th>numAttPlayers</th>\n",
       "      <th>outcome</th>\n",
       "      <th>primaryPlayer</th>\n",
       "      <th>primaryType</th>\n",
       "      <th>primaryLocation_x</th>\n",
       "      <th>primaryLocation_y</th>\n",
       "      <th>secondaryPlayer</th>\n",
       "      <th>secondaryType</th>\n",
       "      <th>Full_Fixture_Date</th>\n",
       "      <th>location_y_120</th>\n",
       "      <th>location_x_80</th>\n",
       "      <th>primaryLocation_y_120</th>\n",
       "      <th>primaryLocation_x_80</th>\n",
       "      <th>location_y_120_inv</th>\n",
       "      <th>location_x_80_inv</th>\n",
       "      <th>primaryLocation_y_120_inv</th>\n",
       "      <th>primaryLocation_x_80_inv</th>\n",
       "      <th>Season</th>\n",
       "    </tr>\n",
       "  </thead>\n",
       "  <tbody>\n",
       "    <tr>\n",
       "      <th>0</th>\n",
       "      <td>4684</td>\n",
       "      <td>GreSL</td>\n",
       "      <td>2355591</td>\n",
       "      <td>10/09/2016</td>\n",
       "      <td>13:00:00</td>\n",
       "      <td>Kerkyra</td>\n",
       "      <td>Platanias</td>\n",
       "      <td>poorchance</td>\n",
       "      <td>poorchance</td>\n",
       "      <td>Kerkyra</td>\n",
       "      <td>Open Play</td>\n",
       "      <td>24:43:00</td>\n",
       "      <td>D. Epstein</td>\n",
       "      <td>81.0</td>\n",
       "      <td>48.0</td>\n",
       "      <td>Left</td>\n",
       "      <td>3.0</td>\n",
       "      <td>5.0</td>\n",
       "      <td>2.0</td>\n",
       "      <td>0.0</td>\n",
       "      <td>Saved</td>\n",
       "      <td>-</td>\n",
       "      <td>-</td>\n",
       "      <td>NaN</td>\n",
       "      <td>NaN</td>\n",
       "      <td>-</td>\n",
       "      <td>-</td>\n",
       "      <td>10/09/2016 Kerkyra vs. Platanias</td>\n",
       "      <td>12.00</td>\n",
       "      <td>63.82</td>\n",
       "      <td>NaN</td>\n",
       "      <td>NaN</td>\n",
       "      <td>108.00</td>\n",
       "      <td>16.18</td>\n",
       "      <td>NaN</td>\n",
       "      <td>NaN</td>\n",
       "      <td>TO ADD</td>\n",
       "    </tr>\n",
       "    <tr>\n",
       "      <th>1</th>\n",
       "      <td>4685</td>\n",
       "      <td>GreSL</td>\n",
       "      <td>2355591</td>\n",
       "      <td>10/09/2016</td>\n",
       "      <td>13:00:00</td>\n",
       "      <td>Kerkyra</td>\n",
       "      <td>Platanias</td>\n",
       "      <td>goodchance</td>\n",
       "      <td>goodchance</td>\n",
       "      <td>Kerkyra</td>\n",
       "      <td>Open Play</td>\n",
       "      <td>45:29:00</td>\n",
       "      <td>D. Epstein</td>\n",
       "      <td>27.0</td>\n",
       "      <td>60.0</td>\n",
       "      <td>Left</td>\n",
       "      <td>2.0</td>\n",
       "      <td>2.0</td>\n",
       "      <td>2.0</td>\n",
       "      <td>0.0</td>\n",
       "      <td>Defended</td>\n",
       "      <td>Thuram</td>\n",
       "      <td>Open Play Pass</td>\n",
       "      <td>-29.0</td>\n",
       "      <td>82.0</td>\n",
       "      <td>-</td>\n",
       "      <td>-</td>\n",
       "      <td>10/09/2016 Kerkyra vs. Platanias</td>\n",
       "      <td>15.00</td>\n",
       "      <td>47.94</td>\n",
       "      <td>20.5</td>\n",
       "      <td>31.47</td>\n",
       "      <td>105.00</td>\n",
       "      <td>32.06</td>\n",
       "      <td>99.5</td>\n",
       "      <td>48.53</td>\n",
       "      <td>TO ADD</td>\n",
       "    </tr>\n",
       "    <tr>\n",
       "      <th>2</th>\n",
       "      <td>4686</td>\n",
       "      <td>GreSL</td>\n",
       "      <td>2355591</td>\n",
       "      <td>10/09/2016</td>\n",
       "      <td>13:00:00</td>\n",
       "      <td>Kerkyra</td>\n",
       "      <td>Platanias</td>\n",
       "      <td>poorchance</td>\n",
       "      <td>poorchance</td>\n",
       "      <td>Kerkyra</td>\n",
       "      <td>Open Play</td>\n",
       "      <td>44:34:00</td>\n",
       "      <td>S. Siontis</td>\n",
       "      <td>23.0</td>\n",
       "      <td>117.0</td>\n",
       "      <td>Right</td>\n",
       "      <td>2.0</td>\n",
       "      <td>1.0</td>\n",
       "      <td>4.0</td>\n",
       "      <td>1.0</td>\n",
       "      <td>Missed</td>\n",
       "      <td>-</td>\n",
       "      <td>-</td>\n",
       "      <td>NaN</td>\n",
       "      <td>NaN</td>\n",
       "      <td>-</td>\n",
       "      <td>-</td>\n",
       "      <td>10/09/2016 Kerkyra vs. Platanias</td>\n",
       "      <td>29.25</td>\n",
       "      <td>46.76</td>\n",
       "      <td>NaN</td>\n",
       "      <td>NaN</td>\n",
       "      <td>90.75</td>\n",
       "      <td>33.24</td>\n",
       "      <td>NaN</td>\n",
       "      <td>NaN</td>\n",
       "      <td>TO ADD</td>\n",
       "    </tr>\n",
       "    <tr>\n",
       "      <th>3</th>\n",
       "      <td>4687</td>\n",
       "      <td>GreSL</td>\n",
       "      <td>2355591</td>\n",
       "      <td>10/09/2016</td>\n",
       "      <td>13:00:00</td>\n",
       "      <td>Kerkyra</td>\n",
       "      <td>Platanias</td>\n",
       "      <td>poorchance</td>\n",
       "      <td>poorchance</td>\n",
       "      <td>Platanias</td>\n",
       "      <td>Open Play</td>\n",
       "      <td>42:39:00</td>\n",
       "      <td>O. Gnjatic</td>\n",
       "      <td>-9.0</td>\n",
       "      <td>118.0</td>\n",
       "      <td>Left</td>\n",
       "      <td>1.0</td>\n",
       "      <td>1.0</td>\n",
       "      <td>3.0</td>\n",
       "      <td>1.0</td>\n",
       "      <td>Missed</td>\n",
       "      <td>G. Manousos</td>\n",
       "      <td>Open Play Pass</td>\n",
       "      <td>77.0</td>\n",
       "      <td>92.0</td>\n",
       "      <td>-</td>\n",
       "      <td>-</td>\n",
       "      <td>10/09/2016 Kerkyra vs. Platanias</td>\n",
       "      <td>29.50</td>\n",
       "      <td>37.35</td>\n",
       "      <td>23.0</td>\n",
       "      <td>62.65</td>\n",
       "      <td>90.50</td>\n",
       "      <td>42.65</td>\n",
       "      <td>97.0</td>\n",
       "      <td>17.35</td>\n",
       "      <td>TO ADD</td>\n",
       "    </tr>\n",
       "    <tr>\n",
       "      <th>4</th>\n",
       "      <td>4688</td>\n",
       "      <td>GreSL</td>\n",
       "      <td>2355591</td>\n",
       "      <td>10/09/2016</td>\n",
       "      <td>13:00:00</td>\n",
       "      <td>Kerkyra</td>\n",
       "      <td>Platanias</td>\n",
       "      <td>goodchance</td>\n",
       "      <td>goodchance</td>\n",
       "      <td>Kerkyra</td>\n",
       "      <td>Open Play</td>\n",
       "      <td>40:46:00</td>\n",
       "      <td>D. Epstein</td>\n",
       "      <td>42.0</td>\n",
       "      <td>15.0</td>\n",
       "      <td>Left</td>\n",
       "      <td>2.0</td>\n",
       "      <td>5.0</td>\n",
       "      <td>2.0</td>\n",
       "      <td>0.0</td>\n",
       "      <td>Saved</td>\n",
       "      <td>-</td>\n",
       "      <td>-</td>\n",
       "      <td>NaN</td>\n",
       "      <td>NaN</td>\n",
       "      <td>-</td>\n",
       "      <td>-</td>\n",
       "      <td>10/09/2016 Kerkyra vs. Platanias</td>\n",
       "      <td>3.75</td>\n",
       "      <td>52.35</td>\n",
       "      <td>NaN</td>\n",
       "      <td>NaN</td>\n",
       "      <td>116.25</td>\n",
       "      <td>27.65</td>\n",
       "      <td>NaN</td>\n",
       "      <td>NaN</td>\n",
       "      <td>TO ADD</td>\n",
       "    </tr>\n",
       "  </tbody>\n",
       "</table>\n",
       "</div>"
      ],
      "text/plain": [
       "     id competition   gsm_id kickoffDate kickoffTime hometeam_team1  \\\n",
       "0  4684       GreSL  2355591  10/09/2016    13:00:00        Kerkyra   \n",
       "1  4685       GreSL  2355591  10/09/2016    13:00:00        Kerkyra   \n",
       "2  4686       GreSL  2355591  10/09/2016    13:00:00        Kerkyra   \n",
       "3  4687       GreSL  2355591  10/09/2016    13:00:00        Kerkyra   \n",
       "4  4688       GreSL  2355591  10/09/2016    13:00:00        Kerkyra   \n",
       "\n",
       "  awayteam_team2        icon chanceRating       team       type      time  \\\n",
       "0      Platanias  poorchance   poorchance    Kerkyra  Open Play  24:43:00   \n",
       "1      Platanias  goodchance   goodchance    Kerkyra  Open Play  45:29:00   \n",
       "2      Platanias  poorchance   poorchance    Kerkyra  Open Play  44:34:00   \n",
       "3      Platanias  poorchance   poorchance  Platanias  Open Play  42:39:00   \n",
       "4      Platanias  goodchance   goodchance    Kerkyra  Open Play  40:46:00   \n",
       "\n",
       "       player  location_x  location_y bodyPart  shotQuality  defPressure  \\\n",
       "0  D. Epstein        81.0        48.0     Left          3.0          5.0   \n",
       "1  D. Epstein        27.0        60.0     Left          2.0          2.0   \n",
       "2  S. Siontis        23.0       117.0    Right          2.0          1.0   \n",
       "3  O. Gnjatic        -9.0       118.0     Left          1.0          1.0   \n",
       "4  D. Epstein        42.0        15.0     Left          2.0          5.0   \n",
       "\n",
       "   numDefPlayers  numAttPlayers   outcome primaryPlayer     primaryType  \\\n",
       "0            2.0            0.0     Saved             -               -   \n",
       "1            2.0            0.0  Defended        Thuram  Open Play Pass   \n",
       "2            4.0            1.0    Missed             -               -   \n",
       "3            3.0            1.0    Missed   G. Manousos  Open Play Pass   \n",
       "4            2.0            0.0     Saved             -               -   \n",
       "\n",
       "   primaryLocation_x  primaryLocation_y secondaryPlayer secondaryType  \\\n",
       "0                NaN                NaN               -             -   \n",
       "1              -29.0               82.0               -             -   \n",
       "2                NaN                NaN               -             -   \n",
       "3               77.0               92.0               -             -   \n",
       "4                NaN                NaN               -             -   \n",
       "\n",
       "                  Full_Fixture_Date  location_y_120  location_x_80  \\\n",
       "0  10/09/2016 Kerkyra vs. Platanias           12.00          63.82   \n",
       "1  10/09/2016 Kerkyra vs. Platanias           15.00          47.94   \n",
       "2  10/09/2016 Kerkyra vs. Platanias           29.25          46.76   \n",
       "3  10/09/2016 Kerkyra vs. Platanias           29.50          37.35   \n",
       "4  10/09/2016 Kerkyra vs. Platanias            3.75          52.35   \n",
       "\n",
       "   primaryLocation_y_120  primaryLocation_x_80  location_y_120_inv  \\\n",
       "0                    NaN                   NaN              108.00   \n",
       "1                   20.5                 31.47              105.00   \n",
       "2                    NaN                   NaN               90.75   \n",
       "3                   23.0                 62.65               90.50   \n",
       "4                    NaN                   NaN              116.25   \n",
       "\n",
       "   location_x_80_inv  primaryLocation_y_120_inv  primaryLocation_x_80_inv  \\\n",
       "0              16.18                        NaN                       NaN   \n",
       "1              32.06                       99.5                     48.53   \n",
       "2              33.24                        NaN                       NaN   \n",
       "3              42.65                       97.0                     17.35   \n",
       "4              27.65                        NaN                       NaN   \n",
       "\n",
       "   Season  \n",
       "0  TO ADD  \n",
       "1  TO ADD  \n",
       "2  TO ADD  \n",
       "3  TO ADD  \n",
       "4  TO ADD  "
      ]
     },
     "execution_count": 66,
     "metadata": {},
     "output_type": "execute_result"
    }
   ],
   "source": [
    "df_stratabet_chances.head()"
   ]
  },
  {
   "cell_type": "code",
   "execution_count": 67,
   "metadata": {},
   "outputs": [
    {
     "data": {
      "text/plain": [
       "(119148, 37)"
      ]
     },
     "execution_count": 67,
     "metadata": {},
     "output_type": "execute_result"
    }
   ],
   "source": [
    "df_stratabet_chances.shape"
   ]
  },
  {
   "cell_type": "code",
   "execution_count": null,
   "metadata": {},
   "outputs": [],
   "source": [
    "# All code below here is old and needs to be sorted"
   ]
  },
  {
   "cell_type": "markdown",
   "metadata": {},
   "source": [
    "### <a id='#section4.2'>4.2. Key Entries</a>"
   ]
  },
  {
   "cell_type": "code",
   "execution_count": null,
   "metadata": {},
   "outputs": [],
   "source": [
    "# Add code here"
   ]
  },
  {
   "cell_type": "markdown",
   "metadata": {},
   "source": [
    "### <a id='#section4.3'>4.3. Match Info</a>"
   ]
  },
  {
   "cell_type": "code",
   "execution_count": null,
   "metadata": {},
   "outputs": [],
   "source": [
    "# Add code here"
   ]
  },
  {
   "cell_type": "markdown",
   "metadata": {},
   "source": [
    "### <a id='#section4.4'>4.4. Minutes Played</a>"
   ]
  },
  {
   "cell_type": "code",
   "execution_count": null,
   "metadata": {},
   "outputs": [],
   "source": [
    "# Add code here"
   ]
  },
  {
   "cell_type": "code",
   "execution_count": null,
   "metadata": {},
   "outputs": [],
   "source": []
  },
  {
   "cell_type": "code",
   "execution_count": null,
   "metadata": {},
   "outputs": [],
   "source": []
  },
  {
   "cell_type": "code",
   "execution_count": null,
   "metadata": {},
   "outputs": [],
   "source": []
  },
  {
   "cell_type": "code",
   "execution_count": null,
   "metadata": {},
   "outputs": [],
   "source": []
  },
  {
   "cell_type": "code",
   "execution_count": null,
   "metadata": {},
   "outputs": [],
   "source": [
    "# Old code from here"
   ]
  },
  {
   "cell_type": "markdown",
   "metadata": {},
   "source": [
    "### <a id='#section4.3'>4.3. String Cleaning</a>"
   ]
  },
  {
   "cell_type": "markdown",
   "metadata": {},
   "source": [
    "##### Split `Label` column into seperate `Fixture` and `Score` columns"
   ]
  },
  {
   "cell_type": "code",
   "execution_count": null,
   "metadata": {},
   "outputs": [],
   "source": [
    "# Break down 'Label' column into constituent parts - Fixtures, Score, Date, Home Goals, Away Goals, etc.\n",
    "df_stratabet['fixture'] = df_stratabet['label'].str.split(', ').str[0]\n",
    "df_stratabet['score_home_away'] = df_stratabet['label'].str.split(', ').str[1]\n",
    "df_stratabet['team_home'] = df_stratabet['fixture'].str.split(' - ').str[0]\n",
    "df_stratabet['team_away'] = df_stratabet['fixture'].str.split(' - ').str[1]\n",
    "df_stratabet['goals_home'] = df_stratabet['score_home_away'].str.split(' - ').str[0]\n",
    "df_stratabet['goals_away'] = df_stratabet['score_home_away'].str.split(' - ').str[1]"
   ]
  },
  {
   "cell_type": "markdown",
   "metadata": {},
   "source": [
    "##### Split `date` column into seperate `date_isolated` and `time_isolated` columns"
   ]
  },
  {
   "cell_type": "code",
   "execution_count": null,
   "metadata": {},
   "outputs": [],
   "source": [
    "df_stratabet['date_isolated'] = df_stratabet['date'].str.split(' at').str[0]\n",
    "df_stratabet['time_isolated'] = df_stratabet['date'].str.split(' at ').str[1]\n",
    "df_stratabet['date_time_isolated'] = df_stratabet['date'].str.split(' GMT').str[0].str.replace(' at ', ' ', regex=True)"
   ]
  },
  {
   "cell_type": "markdown",
   "metadata": {},
   "source": [
    "### <a id='#section4.4'>4.4. Drop columns</a>\n",
    "As this is a large dataset with >3mil rows, we will remove every column that is not required at this stage."
   ]
  },
  {
   "cell_type": "code",
   "execution_count": null,
   "metadata": {},
   "outputs": [],
   "source": [
    "# Display columns\n",
    "df_stratabet.columns"
   ]
  },
  {
   "cell_type": "code",
   "execution_count": null,
   "metadata": {
    "scrolled": true
   },
   "outputs": [],
   "source": [
    "# df_stratabet = df_stratabet.drop(['tags', 'dateutc', 'wyId_x', 'label', 'date', 'referees', 'wyId_y', 'date_isolated', 'time_isolated', 'date_time_isolated'])"
   ]
  },
  {
   "cell_type": "markdown",
   "metadata": {},
   "source": [
    "### <a id='#section4.5'>4.5. Create New Attributes</a>"
   ]
  },
  {
   "cell_type": "markdown",
   "metadata": {},
   "source": [
    "##### Create full fixture data from broken down attributes created in section 4.2."
   ]
  },
  {
   "cell_type": "code",
   "execution_count": null,
   "metadata": {},
   "outputs": [],
   "source": [
    "df_stratabet['full_fixture_date'] = df_stratabet['date_date'].astype(str) + ' ' + df_stratabet['team_home'].astype(str)  + ' ' + df_stratabet['goals_home'].astype(str) + ' ' + ' v ' + ' ' + df_stratabet['goals_away'].astype(str) + ' ' + df_stratabet['team_away'].astype(str) "
   ]
  },
  {
   "cell_type": "markdown",
   "metadata": {},
   "source": [
    "##### Create 'season' attribute"
   ]
  },
  {
   "cell_type": "code",
   "execution_count": null,
   "metadata": {},
   "outputs": [],
   "source": [
    "df_stratabet['season'] = '17/18'"
   ]
  },
  {
   "cell_type": "markdown",
   "metadata": {},
   "source": [
    "### <a id='#section4.5'>4.5. Reorder DataFrame</a>\n",
    "Correctly order all the rows in the DataFrame by date, time, country, fixture, half, and time in the match. Important when looking at events and the following event e.g. is possession retains? Which player receives the pass, etc."
   ]
  },
  {
   "cell_type": "code",
   "execution_count": null,
   "metadata": {
    "scrolled": true
   },
   "outputs": [],
   "source": [
    "df_stratabet = df_stratabet.sort_values(['date_date', 'time_time', 'country', 'league_name', 'full_fixture_date', 'matchPeriod', 'eventSec'], ascending=[True, True, True, True, True, True, True])"
   ]
  },
  {
   "cell_type": "markdown",
   "metadata": {},
   "source": [
    "### <a id='#section4.6'>4.6. Create New Attributes</a>"
   ]
  },
  {
   "cell_type": "markdown",
   "metadata": {},
   "source": [
    "##### Create `followingPossession` column\n",
    "'teamIdNext' = following 'teamId'"
   ]
  },
  {
   "cell_type": "code",
   "execution_count": null,
   "metadata": {},
   "outputs": [],
   "source": [
    "df_stratabet['teamIdNext'] = df_stratabet['teamId'].shift(-1)\n",
    "df_stratabet['teamNameNext'] = df_stratabet['teamName'].shift(-1)\n",
    "df_stratabet['fullNameNext'] = df_stratabet['fullName'].shift(-1)"
   ]
  },
  {
   "cell_type": "code",
   "execution_count": null,
   "metadata": {},
   "outputs": [],
   "source": [
    "df_stratabet.head()"
   ]
  },
  {
   "cell_type": "markdown",
   "metadata": {},
   "source": [
    "##### Create `player2player` column"
   ]
  },
  {
   "cell_type": "code",
   "execution_count": null,
   "metadata": {},
   "outputs": [],
   "source": [
    "df_stratabet['player2player'] = df_stratabet['fullName'] + ' - ' + df_stratabet['fullNameNext']"
   ]
  },
  {
   "cell_type": "markdown",
   "metadata": {},
   "source": [
    "##### Create `isPossessionRetained` column\n",
    "When `teamId` is not followed by the same `teamId` in the following row, possession is lost. We want to creat a column that stats this."
   ]
  },
  {
   "cell_type": "code",
   "execution_count": null,
   "metadata": {},
   "outputs": [],
   "source": [
    "df_stratabet['isPossessionRetained'] = np.where(df_stratabet['teamId'] == df_stratabet['teamIdNext'], True, False)"
   ]
  },
  {
   "cell_type": "markdown",
   "metadata": {},
   "source": [
    "##### Clean Positions data"
   ]
  },
  {
   "cell_type": "code",
   "execution_count": null,
   "metadata": {},
   "outputs": [],
   "source": [
    "# CODE HERE"
   ]
  },
  {
   "cell_type": "markdown",
   "metadata": {},
   "source": [
    "### <a id='#section4.7'>4.7. Export DataFrame</a>"
   ]
  },
  {
   "cell_type": "markdown",
   "metadata": {},
   "source": [
    "##### Break down data into individual matches"
   ]
  },
  {
   "cell_type": "code",
   "execution_count": null,
   "metadata": {},
   "outputs": [],
   "source": [
    "lst_results = list(df_stratabet['full_fixture_date'].unique())"
   ]
  },
  {
   "cell_type": "code",
   "execution_count": null,
   "metadata": {},
   "outputs": [],
   "source": [
    "for i, g in df_stratabet.groupby('full_fixture_date'):\n",
    "    g.to_csv(data_dir_wyscout + '/engineered/individual_matches/{}.csv'.format(i), header=True, index_label=True)"
   ]
  },
  {
   "cell_type": "markdown",
   "metadata": {},
   "source": [
    "##### Complete dataset"
   ]
  },
  {
   "cell_type": "code",
   "execution_count": null,
   "metadata": {},
   "outputs": [],
   "source": [
    "df_stratabet.to_csv(data_dir_wyscout + '/engineered/combined/wyscout_events_big5_1718.csv', index=None, header=True)"
   ]
  },
  {
   "cell_type": "markdown",
   "metadata": {},
   "source": [
    "### <a id='#section4.8'>4.8. Aggregate Data</a>"
   ]
  },
  {
   "cell_type": "markdown",
   "metadata": {},
   "source": [
    "#### <a id='#section4.8.1'>4.8.1. Fixture Level</a>"
   ]
  },
  {
   "cell_type": "code",
   "execution_count": null,
   "metadata": {},
   "outputs": [],
   "source": [
    "# Select columns of interest\n",
    "\n",
    "## Define columns\n",
    "cols = ['season',\n",
    "        'date_time_timestamp',\n",
    "        'fixture',\n",
    "        'team_home',\n",
    "        'team_away',\n",
    "        'teamName',\n",
    "        'goals_home',\n",
    "        'goals_away',\n",
    "        'eventName',\n",
    "        'subEventName'\n",
    "       ]\n",
    "\n",
    "## Streamline DataFrame with columns of interest\n",
    "df_stratabet_select = df_stratabet[cols]\n",
    "\n",
    "## \n",
    "df_stratabet_select['Opponent'] = np.where(df_stratabet_select['team_home'] == df_stratabet_select['teamName'], df_stratabet_select['team_away'], df_stratabet_select['team_home'])"
   ]
  },
  {
   "cell_type": "code",
   "execution_count": null,
   "metadata": {},
   "outputs": [],
   "source": [
    "#\n",
    "\n",
    "## Group DataFrame and Aggregate on 'eventName'\n",
    "df_stratabet_fixture_grouped = (df_stratabet_select\n",
    "                                  .groupby(['season', 'date_time_timestamp', 'fixture', 'teamName', 'Opponent', 'goals_home', 'goals_away', 'eventName'])\n",
    "                                  .agg({'eventName': ['count']})\n",
    "                             )\n",
    "\n",
    "## Drop level\n",
    "df_stratabet_fixture_grouped.columns = df_stratabet_fixture_grouped.columns.droplevel(level=0)\n",
    "\n",
    "\n",
    "## Reset index\n",
    "df_stratabet_fixture_grouped = df_stratabet_fixture_grouped.reset_index()\n",
    "\n",
    "## Rename columns\n",
    "df_stratabet_fixture_grouped = df_stratabet_fixture_grouped.rename(columns={'season': 'Season',\n",
    "                                                                        'date_time_timestamp': 'Date',\n",
    "                                                                        'fixture': 'Fixture',\n",
    "                                                                        'teamName': 'Team',\n",
    "                                                                        'Opponent': 'Opponent',\n",
    "                                                                        'goals_home': 'Goals_Home',\n",
    "                                                                        'goals_away': 'Goals_Away',\n",
    "                                                                        'eventName': 'Event',\n",
    "                                                                        'count': 'Team_Value'\n",
    "                                                                       }\n",
    "                                                              )\n",
    "\n",
    "## Display DataFrame\n",
    "df_stratabet_fixture_grouped.head()"
   ]
  },
  {
   "cell_type": "code",
   "execution_count": null,
   "metadata": {},
   "outputs": [],
   "source": [
    "# Select columns of interest\n",
    "\n",
    "## Define columns\n",
    "cols = ['Season',\n",
    "        'Date',\n",
    "        'Fixture',\n",
    "        'Team',\n",
    "        'Opponent',\n",
    "        'Event',\n",
    "        'Team_Value'\n",
    "       ]\n",
    "\n",
    "## Streamline DataFrame with columns of interest\n",
    "df_stratabet_fixture_grouped_select = df_stratabet_fixture_grouped[cols]"
   ]
  },
  {
   "cell_type": "code",
   "execution_count": null,
   "metadata": {},
   "outputs": [],
   "source": [
    "# Join DataFrame to itself on 'Date', 'Fixture', 'Team'/'Opponent', and 'Event', to join Team and Opponent together\n",
    "df_stratabet_fixture_grouped = pd.merge(df_stratabet_fixture_grouped, df_stratabet_fixture_grouped,  how='left', left_on=['Season', 'Date', 'Fixture', 'Opponent', 'Event'], right_on = ['Season', 'Date', 'Fixture', 'Team', 'Event'])"
   ]
  },
  {
   "cell_type": "code",
   "execution_count": null,
   "metadata": {},
   "outputs": [],
   "source": [
    "# Clean Data\n",
    "\n",
    "## Drop columns\n",
    "df_stratabet_fixture_grouped = df_stratabet_fixture_grouped.drop(columns=['Team_y', 'Opponent_y', 'Goals_Home_y', 'Goals_Away_y'])\n",
    "\n",
    "## Rename columns\n",
    "df_stratabet_fixture_grouped = df_stratabet_fixture_grouped.rename(columns={'Season_x': 'Season',\n",
    "                                                                        'Team_x': 'Team',\n",
    "                                                                        'Opponent_x': 'Opponent',\n",
    "                                                                        'Goals_Home_x': 'Goals_Home',\n",
    "                                                                        'Goals_Away_x': 'Goals_Away',\n",
    "                                                                        'Team_Value_x': 'Team_Value',\n",
    "                                                                        'Team_Value_y': 'Opponent_Value',\n",
    "                                                                       }\n",
    "                                                                  )\n",
    "\n",
    "## Replace null values with zeros\n",
    "df_stratabet_fixture_grouped['Team_Value'] = df_stratabet_fixture_grouped['Team_Value'].replace(np.nan, 0)\n",
    "df_stratabet_fixture_grouped['Opponent_Value'] = df_stratabet_fixture_grouped['Opponent_Value'].replace(np.nan, 0)\n",
    "\n",
    "## Convert Opponent_Value' from Float64 to Int64 type\n",
    "df_stratabet_fixture_grouped['Opponent_Value'] = df_stratabet_fixture_grouped['Opponent_Value'].astype('Int64')\n",
    "\n",
    "## Display DataFrame\n",
    "df_stratabet_fixture_grouped.head()"
   ]
  },
  {
   "cell_type": "code",
   "execution_count": null,
   "metadata": {},
   "outputs": [],
   "source": [
    "#\n",
    "\n",
    "##\n",
    "df_fixture_gw = (df_stratabet_fixture_grouped\n",
    "                     .groupby(['Date', 'Team'])\n",
    "                     .agg({'Team': ['nunique']})\n",
    "                )\n",
    "\n",
    "##\n",
    "df_fixture_gw.columns = df_fixture_gw.columns.droplevel(level=0)\n",
    "\n",
    "\n",
    "##\n",
    "df_fixture_gw = df_fixture_gw.reset_index()\n",
    "\n",
    "##\n",
    "df_fixture_gw = df_fixture_gw.rename(columns={'Date': 'Date',\n",
    "                                              'nunique': 'Gameweek',\n",
    "                                             }\n",
    "                                    )\n",
    "\n",
    "## Groupby. See: https://stackoverflow.com/questions/18554920/pandas-aggregate-count-distinct\n",
    "df_fixture_gw = (df_fixture_gw.groupby(['Team', 'Date']).sum()\n",
    "                              .groupby(level=0).cumsum().reset_index()\n",
    "                )\n",
    "\n",
    "## Display DataFrame\n",
    "df_fixture_gw.head()"
   ]
  },
  {
   "cell_type": "code",
   "execution_count": null,
   "metadata": {},
   "outputs": [],
   "source": [
    "# Join DataFrame \n",
    "df_stratabet_fixture_grouped = pd.merge(df_stratabet_fixture_grouped, df_fixture_gw, how='left', left_on=['Date', 'Team'], right_on = ['Date', 'Team'])\n",
    "\n",
    "# Display DataFrame\n",
    "df_stratabet_fixture_grouped.head(50)"
   ]
  },
  {
   "cell_type": "markdown",
   "metadata": {},
   "source": [
    "##### Export DataFrame"
   ]
  },
  {
   "cell_type": "code",
   "execution_count": null,
   "metadata": {},
   "outputs": [],
   "source": [
    "df_stratabet_fixture_grouped.to_csv(data_dir_wyscout + '/engineered/combined/wyscout_aggregated_fixtures_big5_1718.csv', index=None, header=True)"
   ]
  },
  {
   "cell_type": "markdown",
   "metadata": {},
   "source": [
    "#### <a id='#section4.8.2'>4.8.2. Team Level</a>"
   ]
  },
  {
   "cell_type": "code",
   "execution_count": null,
   "metadata": {},
   "outputs": [],
   "source": [
    "# Group DataFrame by Team\n",
    "\n",
    "##\n",
    "df_stratabet_team_grouped = (df_stratabet_fixture_grouped\n",
    "                               .groupby(['Team', 'Event'])\n",
    "                               .agg({'Team_Value': ['sum'],\n",
    "                                     'Opponent_Value': ['sum']\n",
    "                                    }\n",
    "                                   )\n",
    "                          )\n",
    "\n",
    "##\n",
    "df_stratabet_team_grouped.columns = df_stratabet_team_grouped.columns.droplevel(level=0)\n",
    "\n",
    "##\n",
    "df_stratabet_team_grouped = df_stratabet_team_grouped.reset_index()\n",
    "\n",
    "## Rename columns\n",
    "df_stratabet_team_grouped.columns = ['Team', 'Event', 'Team_Value', 'Opponent_Value']\n",
    "\n",
    "## Display columns\n",
    "df_stratabet_team_grouped.head()"
   ]
  },
  {
   "cell_type": "markdown",
   "metadata": {},
   "source": [
    "##### Export DataFrame"
   ]
  },
  {
   "cell_type": "code",
   "execution_count": null,
   "metadata": {},
   "outputs": [],
   "source": [
    "df_stratabet_team_grouped.to_csv(data_dir_wyscout + '/engineered/combined/wyscout_aggregated_team_big5_1718.csv', index=None, header=True)"
   ]
  },
  {
   "cell_type": "markdown",
   "metadata": {},
   "source": [
    "---"
   ]
  },
  {
   "cell_type": "markdown",
   "metadata": {},
   "source": [
    "## <a id='#section5'>5. Exploratory Data Analysis</a>\n",
    "..."
   ]
  },
  {
   "cell_type": "markdown",
   "metadata": {},
   "source": [
    "---"
   ]
  },
  {
   "cell_type": "markdown",
   "metadata": {},
   "source": [
    "## <a id='#section6'>6. Summary</a>\n",
    "This notebook scrapes data for player valuations using [Beautifulsoup](https://pypi.org/project/beautifulsoup4/) from [TransferMarkt](https://www.transfermarkt.co.uk/) using [pandas](http://pandas.pydata.org/) for data maniuplation through DataFrames and [Beautifulsoup](https://pypi.org/project/beautifulsoup4/) for webscraping."
   ]
  },
  {
   "cell_type": "markdown",
   "metadata": {},
   "source": [
    "---"
   ]
  },
  {
   "cell_type": "markdown",
   "metadata": {},
   "source": [
    "## <a id='#section7'>7. Next Steps</a>\n",
    "..."
   ]
  },
  {
   "cell_type": "markdown",
   "metadata": {},
   "source": [
    "---"
   ]
  },
  {
   "cell_type": "markdown",
   "metadata": {},
   "source": [
    "## <a id='#section8'>8. References</a>\n",
    "..."
   ]
  },
  {
   "cell_type": "markdown",
   "metadata": {},
   "source": [
    "---\n",
    "<b>This article was written with the aid of StrataData, which is property of [Stratagem Technologies](http://www.stratagem.co/). StrataData powers the [StrataBet Sports Trading Platform](http://www.stratabet.com/), in addition to [StrataBet Premium Recommendations](http://app.stratabet.com/recommendations).</b>\n",
    "\n",
    "***Visit my website [EddWebster.com](https://www.eddwebster.com) or my [GitHub Repository](https://github.com/eddwebster) for more projects. If you'd like to get in contact, my Twitter handle is [@eddwebster](http://www.twitter.com/eddwebster) and my email is: edd.j.webster@gmail.com.***"
   ]
  },
  {
   "cell_type": "markdown",
   "metadata": {},
   "source": [
    "[Back to the top](#top)"
   ]
  }
 ],
 "metadata": {
  "kernelspec": {
   "display_name": "Python 3",
   "language": "python",
   "name": "python3"
  },
  "language_info": {
   "codemirror_mode": {
    "name": "ipython",
    "version": 3
   },
   "file_extension": ".py",
   "mimetype": "text/x-python",
   "name": "python",
   "nbconvert_exporter": "python",
   "pygments_lexer": "ipython3",
   "version": "3.7.6"
  },
  "varInspector": {
   "cols": {
    "lenName": 16,
    "lenType": 16,
    "lenVar": 40
   },
   "kernels_config": {
    "python": {
     "delete_cmd_postfix": "",
     "delete_cmd_prefix": "del ",
     "library": "var_list.py",
     "varRefreshCmd": "print(var_dic_list())"
    },
    "r": {
     "delete_cmd_postfix": ") ",
     "delete_cmd_prefix": "rm(",
     "library": "var_list.r",
     "varRefreshCmd": "cat(var_dic_list()) "
    }
   },
   "oldHeight": 642,
   "position": {
    "height": "664px",
    "left": "1119px",
    "right": "20px",
    "top": "-7px",
    "width": "489px"
   },
   "types_to_exclude": [
    "module",
    "function",
    "builtin_function_or_method",
    "instance",
    "_Feature"
   ],
   "varInspector_section_display": "block",
   "window_display": false
  }
 },
 "nbformat": 4,
 "nbformat_minor": 2
}
